{
 "cells": [
  {
   "cell_type": "code",
   "execution_count": 1,
   "metadata": {
    "collapsed": true
   },
   "outputs": [],
   "source": [
    "import numpy as np\n",
    "import pandas as pd\n",
    "import matplotlib.pyplot as plt\n",
    "%matplotlib inline"
   ]
  },
  {
   "cell_type": "code",
   "execution_count": 2,
   "metadata": {},
   "outputs": [
    {
     "name": "stdout",
     "output_type": "stream",
     "text": [
      "(3470003, 3)\n"
     ]
    },
    {
     "data": {
      "text/html": [
       "<div>\n",
       "<style>\n",
       "    .dataframe thead tr:only-child th {\n",
       "        text-align: right;\n",
       "    }\n",
       "\n",
       "    .dataframe thead th {\n",
       "        text-align: left;\n",
       "    }\n",
       "\n",
       "    .dataframe tbody tr th {\n",
       "        vertical-align: top;\n",
       "    }\n",
       "</style>\n",
       "<table border=\"1\" class=\"dataframe\">\n",
       "  <thead>\n",
       "    <tr style=\"text-align: right;\">\n",
       "      <th></th>\n",
       "      <th>date</th>\n",
       "      <th>bid</th>\n",
       "      <th>ask</th>\n",
       "    </tr>\n",
       "  </thead>\n",
       "  <tbody>\n",
       "    <tr>\n",
       "      <th>USD/JPY</th>\n",
       "      <td>20180201 00:00:00.119</td>\n",
       "      <td>109.195</td>\n",
       "      <td>109.197</td>\n",
       "    </tr>\n",
       "    <tr>\n",
       "      <th>USD/JPY</th>\n",
       "      <td>20180201 00:00:00.129</td>\n",
       "      <td>109.194</td>\n",
       "      <td>109.197</td>\n",
       "    </tr>\n",
       "    <tr>\n",
       "      <th>USD/JPY</th>\n",
       "      <td>20180201 00:00:00.204</td>\n",
       "      <td>109.194</td>\n",
       "      <td>109.198</td>\n",
       "    </tr>\n",
       "    <tr>\n",
       "      <th>USD/JPY</th>\n",
       "      <td>20180201 00:00:00.327</td>\n",
       "      <td>109.194</td>\n",
       "      <td>109.197</td>\n",
       "    </tr>\n",
       "    <tr>\n",
       "      <th>USD/JPY</th>\n",
       "      <td>20180201 00:00:00.690</td>\n",
       "      <td>109.192</td>\n",
       "      <td>109.197</td>\n",
       "    </tr>\n",
       "  </tbody>\n",
       "</table>\n",
       "</div>"
      ],
      "text/plain": [
       "                          date      bid      ask\n",
       "USD/JPY  20180201 00:00:00.119  109.195  109.197\n",
       "USD/JPY  20180201 00:00:00.129  109.194  109.197\n",
       "USD/JPY  20180201 00:00:00.204  109.194  109.198\n",
       "USD/JPY  20180201 00:00:00.327  109.194  109.197\n",
       "USD/JPY  20180201 00:00:00.690  109.192  109.197"
      ]
     },
     "execution_count": 2,
     "metadata": {},
     "output_type": "execute_result"
    }
   ],
   "source": [
    "#leer los datos obtenidos de TrueFX\n",
    "datos = pd.read_csv(\"./data/TrueFX/USD-JPY/USDJPY-2018-02.csv\",float_precision='high',\n",
    "                    names =list(['date','bid', 'ask']))\n",
    "print(datos.shape)\n",
    "datos.head()"
   ]
  },
  {
   "cell_type": "code",
   "execution_count": 3,
   "metadata": {},
   "outputs": [
    {
     "data": {
      "image/png": "[encoded data removed]",
      "text/plain": [
       "<matplotlib.figure.Figure at 0x7f0644014748>"
      ]
     },
     "metadata": {},
     "output_type": "display_data"
    }
   ],
   "source": [
    "plt.figure(figsize=(15,5))\n",
    "plt.plot(range(datos.shape[0]),datos.iloc[:,1]);"
   ]
  },
  {
   "cell_type": "code",
   "execution_count": 4,
   "metadata": {},
   "outputs": [
    {
     "data": {
      "text/html": [
       "<div>\n",
       "<style>\n",
       "    .dataframe thead tr:only-child th {\n",
       "        text-align: right;\n",
       "    }\n",
       "\n",
       "    .dataframe thead th {\n",
       "        text-align: left;\n",
       "    }\n",
       "\n",
       "    .dataframe tbody tr th {\n",
       "        vertical-align: top;\n",
       "    }\n",
       "</style>\n",
       "<table border=\"1\" class=\"dataframe\">\n",
       "  <thead>\n",
       "    <tr style=\"text-align: right;\">\n",
       "      <th></th>\n",
       "      <th>bid</th>\n",
       "      <th>ask</th>\n",
       "    </tr>\n",
       "    <tr>\n",
       "      <th>date</th>\n",
       "      <th></th>\n",
       "      <th></th>\n",
       "    </tr>\n",
       "  </thead>\n",
       "  <tbody>\n",
       "    <tr>\n",
       "      <th>2018-02-01 00:00:00.119</th>\n",
       "      <td>109.195</td>\n",
       "      <td>109.197</td>\n",
       "    </tr>\n",
       "    <tr>\n",
       "      <th>2018-02-01 00:00:00.129</th>\n",
       "      <td>109.194</td>\n",
       "      <td>109.197</td>\n",
       "    </tr>\n",
       "    <tr>\n",
       "      <th>2018-02-01 00:00:00.204</th>\n",
       "      <td>109.194</td>\n",
       "      <td>109.198</td>\n",
       "    </tr>\n",
       "    <tr>\n",
       "      <th>2018-02-01 00:00:00.327</th>\n",
       "      <td>109.194</td>\n",
       "      <td>109.197</td>\n",
       "    </tr>\n",
       "    <tr>\n",
       "      <th>2018-02-01 00:00:00.690</th>\n",
       "      <td>109.192</td>\n",
       "      <td>109.197</td>\n",
       "    </tr>\n",
       "  </tbody>\n",
       "</table>\n",
       "</div>"
      ],
      "text/plain": [
       "                             bid      ask\n",
       "date                                     \n",
       "2018-02-01 00:00:00.119  109.195  109.197\n",
       "2018-02-01 00:00:00.129  109.194  109.197\n",
       "2018-02-01 00:00:00.204  109.194  109.198\n",
       "2018-02-01 00:00:00.327  109.194  109.197\n",
       "2018-02-01 00:00:00.690  109.192  109.197"
      ]
     },
     "execution_count": 4,
     "metadata": {},
     "output_type": "execute_result"
    }
   ],
   "source": [
    "datos = datos.set_index(pd.to_datetime(datos.iloc[:,0])) #Se indexan los datos por su fecha y hora\n",
    "datos = datos.drop(['date'],axis = 1) #se elimina la columna date\n",
    "datos.head()"
   ]
  },
  {
   "cell_type": "code",
   "execution_count": 5,
   "metadata": {},
   "outputs": [
    {
     "data": {
      "text/plain": [
       "(3466132, 2)"
      ]
     },
     "execution_count": 5,
     "metadata": {},
     "output_type": "execute_result"
    }
   ],
   "source": [
    "#se agrupan los indices según su fecha, como hay fechas repetidas de toma la que primero está\n",
    "datos = datos.groupby(datos.index).first()\n",
    "datos.shape"
   ]
  },
  {
   "cell_type": "code",
   "execution_count": 6,
   "metadata": {
    "scrolled": true
   },
   "outputs": [
    {
     "data": {
      "text/plain": [
       "array([datetime.date(2018, 2, 1), datetime.date(2018, 2, 2),\n",
       "       datetime.date(2018, 2, 4), datetime.date(2018, 2, 5),\n",
       "       datetime.date(2018, 2, 6), datetime.date(2018, 2, 7),\n",
       "       datetime.date(2018, 2, 8), datetime.date(2018, 2, 9),\n",
       "       datetime.date(2018, 2, 11), datetime.date(2018, 2, 12),\n",
       "       datetime.date(2018, 2, 13), datetime.date(2018, 2, 14),\n",
       "       datetime.date(2018, 2, 15), datetime.date(2018, 2, 16),\n",
       "       datetime.date(2018, 2, 18), datetime.date(2018, 2, 19),\n",
       "       datetime.date(2018, 2, 20), datetime.date(2018, 2, 21),\n",
       "       datetime.date(2018, 2, 22), datetime.date(2018, 2, 23),\n",
       "       datetime.date(2018, 2, 25), datetime.date(2018, 2, 26),\n",
       "       datetime.date(2018, 2, 27), datetime.date(2018, 2, 28)], dtype=object)"
      ]
     },
     "execution_count": 6,
     "metadata": {},
     "output_type": "execute_result"
    }
   ],
   "source": [
    "np.unique(datos.index.date)"
   ]
  },
  {
   "cell_type": "code",
   "execution_count": 7,
   "metadata": {
    "scrolled": true
   },
   "outputs": [
    {
     "data": {
      "text/html": [
       "<div>\n",
       "<style>\n",
       "    .dataframe thead tr:only-child th {\n",
       "        text-align: right;\n",
       "    }\n",
       "\n",
       "    .dataframe thead th {\n",
       "        text-align: left;\n",
       "    }\n",
       "\n",
       "    .dataframe tbody tr th {\n",
       "        vertical-align: top;\n",
       "    }\n",
       "</style>\n",
       "<table border=\"1\" class=\"dataframe\">\n",
       "  <thead>\n",
       "    <tr style=\"text-align: right;\">\n",
       "      <th></th>\n",
       "      <th>bid</th>\n",
       "      <th>ask</th>\n",
       "    </tr>\n",
       "    <tr>\n",
       "      <th>date</th>\n",
       "      <th></th>\n",
       "      <th></th>\n",
       "    </tr>\n",
       "  </thead>\n",
       "  <tbody>\n",
       "    <tr>\n",
       "      <th>2018-02-04 22:02:18.170</th>\n",
       "      <td>110.130</td>\n",
       "      <td>110.225</td>\n",
       "    </tr>\n",
       "    <tr>\n",
       "      <th>2018-02-04 22:02:24.262</th>\n",
       "      <td>110.130</td>\n",
       "      <td>110.235</td>\n",
       "    </tr>\n",
       "    <tr>\n",
       "      <th>2018-02-04 22:02:28.540</th>\n",
       "      <td>110.142</td>\n",
       "      <td>110.214</td>\n",
       "    </tr>\n",
       "    <tr>\n",
       "      <th>2018-02-04 22:02:28.543</th>\n",
       "      <td>110.147</td>\n",
       "      <td>110.215</td>\n",
       "    </tr>\n",
       "    <tr>\n",
       "      <th>2018-02-04 22:02:30.257</th>\n",
       "      <td>110.142</td>\n",
       "      <td>110.215</td>\n",
       "    </tr>\n",
       "    <tr>\n",
       "      <th>2018-02-04 22:02:30.311</th>\n",
       "      <td>110.146</td>\n",
       "      <td>110.216</td>\n",
       "    </tr>\n",
       "    <tr>\n",
       "      <th>2018-02-04 22:02:33.327</th>\n",
       "      <td>110.142</td>\n",
       "      <td>110.216</td>\n",
       "    </tr>\n",
       "    <tr>\n",
       "      <th>2018-02-04 22:02:33.330</th>\n",
       "      <td>110.146</td>\n",
       "      <td>110.216</td>\n",
       "    </tr>\n",
       "    <tr>\n",
       "      <th>2018-02-04 22:02:36.283</th>\n",
       "      <td>110.142</td>\n",
       "      <td>110.215</td>\n",
       "    </tr>\n",
       "    <tr>\n",
       "      <th>2018-02-04 22:02:44.430</th>\n",
       "      <td>110.144</td>\n",
       "      <td>110.230</td>\n",
       "    </tr>\n",
       "    <tr>\n",
       "      <th>2018-02-04 22:02:44.486</th>\n",
       "      <td>110.144</td>\n",
       "      <td>110.213</td>\n",
       "    </tr>\n",
       "    <tr>\n",
       "      <th>2018-02-04 22:02:55.886</th>\n",
       "      <td>110.130</td>\n",
       "      <td>110.229</td>\n",
       "    </tr>\n",
       "    <tr>\n",
       "      <th>2018-02-04 22:03:01.253</th>\n",
       "      <td>110.143</td>\n",
       "      <td>110.229</td>\n",
       "    </tr>\n",
       "    <tr>\n",
       "      <th>2018-02-04 22:03:01.304</th>\n",
       "      <td>110.147</td>\n",
       "      <td>110.217</td>\n",
       "    </tr>\n",
       "    <tr>\n",
       "      <th>2018-02-04 22:03:08.508</th>\n",
       "      <td>110.143</td>\n",
       "      <td>110.218</td>\n",
       "    </tr>\n",
       "    <tr>\n",
       "      <th>2018-02-04 22:03:08.513</th>\n",
       "      <td>110.149</td>\n",
       "      <td>110.218</td>\n",
       "    </tr>\n",
       "    <tr>\n",
       "      <th>2018-02-04 22:03:12.047</th>\n",
       "      <td>110.149</td>\n",
       "      <td>110.232</td>\n",
       "    </tr>\n",
       "    <tr>\n",
       "      <th>2018-02-04 22:03:12.104</th>\n",
       "      <td>110.149</td>\n",
       "      <td>110.219</td>\n",
       "    </tr>\n",
       "    <tr>\n",
       "      <th>2018-02-04 22:03:12.167</th>\n",
       "      <td>110.149</td>\n",
       "      <td>110.232</td>\n",
       "    </tr>\n",
       "    <tr>\n",
       "      <th>2018-02-04 22:03:12.226</th>\n",
       "      <td>110.152</td>\n",
       "      <td>110.222</td>\n",
       "    </tr>\n",
       "    <tr>\n",
       "      <th>2018-02-04 22:03:12.473</th>\n",
       "      <td>110.153</td>\n",
       "      <td>110.239</td>\n",
       "    </tr>\n",
       "    <tr>\n",
       "      <th>2018-02-04 22:03:12.536</th>\n",
       "      <td>110.153</td>\n",
       "      <td>110.228</td>\n",
       "    </tr>\n",
       "    <tr>\n",
       "      <th>2018-02-04 22:03:13.580</th>\n",
       "      <td>110.153</td>\n",
       "      <td>110.239</td>\n",
       "    </tr>\n",
       "    <tr>\n",
       "      <th>2018-02-04 22:03:13.637</th>\n",
       "      <td>110.153</td>\n",
       "      <td>110.223</td>\n",
       "    </tr>\n",
       "    <tr>\n",
       "      <th>2018-02-04 22:03:15.752</th>\n",
       "      <td>110.143</td>\n",
       "      <td>110.222</td>\n",
       "    </tr>\n",
       "    <tr>\n",
       "      <th>2018-02-04 22:03:15.755</th>\n",
       "      <td>110.147</td>\n",
       "      <td>110.217</td>\n",
       "    </tr>\n",
       "    <tr>\n",
       "      <th>2018-02-04 22:03:15.811</th>\n",
       "      <td>110.146</td>\n",
       "      <td>110.213</td>\n",
       "    </tr>\n",
       "    <tr>\n",
       "      <th>2018-02-04 22:03:21.229</th>\n",
       "      <td>110.144</td>\n",
       "      <td>110.199</td>\n",
       "    </tr>\n",
       "    <tr>\n",
       "      <th>2018-02-04 22:03:31.651</th>\n",
       "      <td>110.135</td>\n",
       "      <td>110.217</td>\n",
       "    </tr>\n",
       "    <tr>\n",
       "      <th>2018-02-04 22:03:37.590</th>\n",
       "      <td>110.134</td>\n",
       "      <td>110.216</td>\n",
       "    </tr>\n",
       "    <tr>\n",
       "      <th>...</th>\n",
       "      <td>...</td>\n",
       "      <td>...</td>\n",
       "    </tr>\n",
       "    <tr>\n",
       "      <th>2018-02-04 23:59:31.966</th>\n",
       "      <td>110.027</td>\n",
       "      <td>110.031</td>\n",
       "    </tr>\n",
       "    <tr>\n",
       "      <th>2018-02-04 23:59:31.970</th>\n",
       "      <td>110.027</td>\n",
       "      <td>110.033</td>\n",
       "    </tr>\n",
       "    <tr>\n",
       "      <th>2018-02-04 23:59:34.410</th>\n",
       "      <td>110.026</td>\n",
       "      <td>110.031</td>\n",
       "    </tr>\n",
       "    <tr>\n",
       "      <th>2018-02-04 23:59:34.577</th>\n",
       "      <td>110.026</td>\n",
       "      <td>110.032</td>\n",
       "    </tr>\n",
       "    <tr>\n",
       "      <th>2018-02-04 23:59:34.582</th>\n",
       "      <td>110.026</td>\n",
       "      <td>110.030</td>\n",
       "    </tr>\n",
       "    <tr>\n",
       "      <th>2018-02-04 23:59:36.880</th>\n",
       "      <td>110.027</td>\n",
       "      <td>110.030</td>\n",
       "    </tr>\n",
       "    <tr>\n",
       "      <th>2018-02-04 23:59:36.934</th>\n",
       "      <td>110.027</td>\n",
       "      <td>110.032</td>\n",
       "    </tr>\n",
       "    <tr>\n",
       "      <th>2018-02-04 23:59:36.938</th>\n",
       "      <td>110.029</td>\n",
       "      <td>110.033</td>\n",
       "    </tr>\n",
       "    <tr>\n",
       "      <th>2018-02-04 23:59:36.994</th>\n",
       "      <td>110.028</td>\n",
       "      <td>110.032</td>\n",
       "    </tr>\n",
       "    <tr>\n",
       "      <th>2018-02-04 23:59:36.999</th>\n",
       "      <td>110.028</td>\n",
       "      <td>110.033</td>\n",
       "    </tr>\n",
       "    <tr>\n",
       "      <th>2018-02-04 23:59:38.189</th>\n",
       "      <td>110.029</td>\n",
       "      <td>110.034</td>\n",
       "    </tr>\n",
       "    <tr>\n",
       "      <th>2018-02-04 23:59:38.630</th>\n",
       "      <td>110.030</td>\n",
       "      <td>110.034</td>\n",
       "    </tr>\n",
       "    <tr>\n",
       "      <th>2018-02-04 23:59:42.842</th>\n",
       "      <td>110.030</td>\n",
       "      <td>110.035</td>\n",
       "    </tr>\n",
       "    <tr>\n",
       "      <th>2018-02-04 23:59:44.589</th>\n",
       "      <td>110.032</td>\n",
       "      <td>110.036</td>\n",
       "    </tr>\n",
       "    <tr>\n",
       "      <th>2018-02-04 23:59:46.003</th>\n",
       "      <td>110.032</td>\n",
       "      <td>110.037</td>\n",
       "    </tr>\n",
       "    <tr>\n",
       "      <th>2018-02-04 23:59:47.746</th>\n",
       "      <td>110.031</td>\n",
       "      <td>110.036</td>\n",
       "    </tr>\n",
       "    <tr>\n",
       "      <th>2018-02-04 23:59:47.861</th>\n",
       "      <td>110.030</td>\n",
       "      <td>110.035</td>\n",
       "    </tr>\n",
       "    <tr>\n",
       "      <th>2018-02-04 23:59:52.399</th>\n",
       "      <td>110.028</td>\n",
       "      <td>110.034</td>\n",
       "    </tr>\n",
       "    <tr>\n",
       "      <th>2018-02-04 23:59:52.782</th>\n",
       "      <td>110.030</td>\n",
       "      <td>110.035</td>\n",
       "    </tr>\n",
       "    <tr>\n",
       "      <th>2018-02-04 23:59:56.326</th>\n",
       "      <td>110.031</td>\n",
       "      <td>110.036</td>\n",
       "    </tr>\n",
       "    <tr>\n",
       "      <th>2018-02-04 23:59:56.381</th>\n",
       "      <td>110.032</td>\n",
       "      <td>110.037</td>\n",
       "    </tr>\n",
       "    <tr>\n",
       "      <th>2018-02-04 23:59:56.385</th>\n",
       "      <td>110.033</td>\n",
       "      <td>110.037</td>\n",
       "    </tr>\n",
       "    <tr>\n",
       "      <th>2018-02-04 23:59:56.505</th>\n",
       "      <td>110.033</td>\n",
       "      <td>110.038</td>\n",
       "    </tr>\n",
       "    <tr>\n",
       "      <th>2018-02-04 23:59:56.558</th>\n",
       "      <td>110.034</td>\n",
       "      <td>110.039</td>\n",
       "    </tr>\n",
       "    <tr>\n",
       "      <th>2018-02-04 23:59:58.085</th>\n",
       "      <td>110.035</td>\n",
       "      <td>110.040</td>\n",
       "    </tr>\n",
       "    <tr>\n",
       "      <th>2018-02-04 23:59:58.088</th>\n",
       "      <td>110.036</td>\n",
       "      <td>110.040</td>\n",
       "    </tr>\n",
       "    <tr>\n",
       "      <th>2018-02-04 23:59:58.146</th>\n",
       "      <td>110.035</td>\n",
       "      <td>110.039</td>\n",
       "    </tr>\n",
       "    <tr>\n",
       "      <th>2018-02-04 23:59:58.204</th>\n",
       "      <td>110.035</td>\n",
       "      <td>110.040</td>\n",
       "    </tr>\n",
       "    <tr>\n",
       "      <th>2018-02-04 23:59:59.678</th>\n",
       "      <td>110.035</td>\n",
       "      <td>110.039</td>\n",
       "    </tr>\n",
       "    <tr>\n",
       "      <th>2018-02-04 23:59:59.846</th>\n",
       "      <td>110.034</td>\n",
       "      <td>110.038</td>\n",
       "    </tr>\n",
       "  </tbody>\n",
       "</table>\n",
       "<p>24971 rows × 2 columns</p>\n",
       "</div>"
      ],
      "text/plain": [
       "                             bid      ask\n",
       "date                                     \n",
       "2018-02-04 22:02:18.170  110.130  110.225\n",
       "2018-02-04 22:02:24.262  110.130  110.235\n",
       "2018-02-04 22:02:28.540  110.142  110.214\n",
       "2018-02-04 22:02:28.543  110.147  110.215\n",
       "2018-02-04 22:02:30.257  110.142  110.215\n",
       "2018-02-04 22:02:30.311  110.146  110.216\n",
       "2018-02-04 22:02:33.327  110.142  110.216\n",
       "2018-02-04 22:02:33.330  110.146  110.216\n",
       "2018-02-04 22:02:36.283  110.142  110.215\n",
       "2018-02-04 22:02:44.430  110.144  110.230\n",
       "2018-02-04 22:02:44.486  110.144  110.213\n",
       "2018-02-04 22:02:55.886  110.130  110.229\n",
       "2018-02-04 22:03:01.253  110.143  110.229\n",
       "2018-02-04 22:03:01.304  110.147  110.217\n",
       "2018-02-04 22:03:08.508  110.143  110.218\n",
       "2018-02-04 22:03:08.513  110.149  110.218\n",
       "2018-02-04 22:03:12.047  110.149  110.232\n",
       "2018-02-04 22:03:12.104  110.149  110.219\n",
       "2018-02-04 22:03:12.167  110.149  110.232\n",
       "2018-02-04 22:03:12.226  110.152  110.222\n",
       "2018-02-04 22:03:12.473  110.153  110.239\n",
       "2018-02-04 22:03:12.536  110.153  110.228\n",
       "2018-02-04 22:03:13.580  110.153  110.239\n",
       "2018-02-04 22:03:13.637  110.153  110.223\n",
       "2018-02-04 22:03:15.752  110.143  110.222\n",
       "2018-02-04 22:03:15.755  110.147  110.217\n",
       "2018-02-04 22:03:15.811  110.146  110.213\n",
       "2018-02-04 22:03:21.229  110.144  110.199\n",
       "2018-02-04 22:03:31.651  110.135  110.217\n",
       "2018-02-04 22:03:37.590  110.134  110.216\n",
       "...                          ...      ...\n",
       "2018-02-04 23:59:31.966  110.027  110.031\n",
       "2018-02-04 23:59:31.970  110.027  110.033\n",
       "2018-02-04 23:59:34.410  110.026  110.031\n",
       "2018-02-04 23:59:34.577  110.026  110.032\n",
       "2018-02-04 23:59:34.582  110.026  110.030\n",
       "2018-02-04 23:59:36.880  110.027  110.030\n",
       "2018-02-04 23:59:36.934  110.027  110.032\n",
       "2018-02-04 23:59:36.938  110.029  110.033\n",
       "2018-02-04 23:59:36.994  110.028  110.032\n",
       "2018-02-04 23:59:36.999  110.028  110.033\n",
       "2018-02-04 23:59:38.189  110.029  110.034\n",
       "2018-02-04 23:59:38.630  110.030  110.034\n",
       "2018-02-04 23:59:42.842  110.030  110.035\n",
       "2018-02-04 23:59:44.589  110.032  110.036\n",
       "2018-02-04 23:59:46.003  110.032  110.037\n",
       "2018-02-04 23:59:47.746  110.031  110.036\n",
       "2018-02-04 23:59:47.861  110.030  110.035\n",
       "2018-02-04 23:59:52.399  110.028  110.034\n",
       "2018-02-04 23:59:52.782  110.030  110.035\n",
       "2018-02-04 23:59:56.326  110.031  110.036\n",
       "2018-02-04 23:59:56.381  110.032  110.037\n",
       "2018-02-04 23:59:56.385  110.033  110.037\n",
       "2018-02-04 23:59:56.505  110.033  110.038\n",
       "2018-02-04 23:59:56.558  110.034  110.039\n",
       "2018-02-04 23:59:58.085  110.035  110.040\n",
       "2018-02-04 23:59:58.088  110.036  110.040\n",
       "2018-02-04 23:59:58.146  110.035  110.039\n",
       "2018-02-04 23:59:58.204  110.035  110.040\n",
       "2018-02-04 23:59:59.678  110.035  110.039\n",
       "2018-02-04 23:59:59.846  110.034  110.038\n",
       "\n",
       "[24971 rows x 2 columns]"
      ]
     },
     "execution_count": 7,
     "metadata": {},
     "output_type": "execute_result"
    }
   ],
   "source": [
    "datos['2018-02-04'] #datos corridos que pertenecen al proximo lunes"
   ]
  },
  {
   "cell_type": "code",
   "execution_count": 8,
   "metadata": {},
   "outputs": [
    {
     "data": {
      "text/html": [
       "<div>\n",
       "<style>\n",
       "    .dataframe thead tr:only-child th {\n",
       "        text-align: right;\n",
       "    }\n",
       "\n",
       "    .dataframe thead th {\n",
       "        text-align: left;\n",
       "    }\n",
       "\n",
       "    .dataframe tbody tr th {\n",
       "        vertical-align: top;\n",
       "    }\n",
       "</style>\n",
       "<table border=\"1\" class=\"dataframe\">\n",
       "  <thead>\n",
       "    <tr style=\"text-align: right;\">\n",
       "      <th></th>\n",
       "      <th>bid</th>\n",
       "      <th>ask</th>\n",
       "    </tr>\n",
       "    <tr>\n",
       "      <th>date</th>\n",
       "      <th></th>\n",
       "      <th></th>\n",
       "    </tr>\n",
       "  </thead>\n",
       "  <tbody>\n",
       "    <tr>\n",
       "      <th>2018-02-02 21:59:49.302</th>\n",
       "      <td>110.135</td>\n",
       "      <td>110.178</td>\n",
       "    </tr>\n",
       "    <tr>\n",
       "      <th>2018-02-02 21:59:50.098</th>\n",
       "      <td>110.135</td>\n",
       "      <td>110.199</td>\n",
       "    </tr>\n",
       "    <tr>\n",
       "      <th>2018-02-02 21:59:50.101</th>\n",
       "      <td>110.135</td>\n",
       "      <td>110.187</td>\n",
       "    </tr>\n",
       "    <tr>\n",
       "      <th>2018-02-02 21:59:56.105</th>\n",
       "      <td>110.135</td>\n",
       "      <td>110.205</td>\n",
       "    </tr>\n",
       "    <tr>\n",
       "      <th>2018-02-02 21:59:56.160</th>\n",
       "      <td>110.115</td>\n",
       "      <td>110.205</td>\n",
       "    </tr>\n",
       "  </tbody>\n",
       "</table>\n",
       "</div>"
      ],
      "text/plain": [
       "                             bid      ask\n",
       "date                                     \n",
       "2018-02-02 21:59:49.302  110.135  110.178\n",
       "2018-02-02 21:59:50.098  110.135  110.199\n",
       "2018-02-02 21:59:50.101  110.135  110.187\n",
       "2018-02-02 21:59:56.105  110.135  110.205\n",
       "2018-02-02 21:59:56.160  110.115  110.205"
      ]
     },
     "execution_count": 8,
     "metadata": {},
     "output_type": "execute_result"
    }
   ],
   "source": [
    "datos['2018-02-02'].tail() #datos faltantes del viernes para completar el día"
   ]
  },
  {
   "cell_type": "code",
   "execution_count": 9,
   "metadata": {},
   "outputs": [
    {
     "name": "stdout",
     "output_type": "stream",
     "text": [
      "tiempo que los datos están corridos:\n"
     ]
    },
    {
     "data": {
      "text/plain": [
       "Timedelta('0 days 01:57:41')"
      ]
     },
     "execution_count": 9,
     "metadata": {},
     "output_type": "execute_result"
    }
   ],
   "source": [
    "print('tiempo que los datos están corridos:')\n",
    "pd.Timedelta(hours=24,minutes=0,seconds=0) - pd.Timedelta(hours=22,minutes=2,seconds=19)"
   ]
  },
  {
   "cell_type": "code",
   "execution_count": 10,
   "metadata": {
    "collapsed": true
   },
   "outputs": [],
   "source": [
    "#para correr los dias, quedan 5 bussines day\n",
    "datos.index = datos.index + pd.Timedelta(hours=1, minutes=58, seconds=12)"
   ]
  },
  {
   "cell_type": "code",
   "execution_count": 11,
   "metadata": {},
   "outputs": [
    {
     "data": {
      "text/plain": [
       "array([datetime.date(2018, 2, 1), datetime.date(2018, 2, 2),\n",
       "       datetime.date(2018, 2, 5), datetime.date(2018, 2, 6),\n",
       "       datetime.date(2018, 2, 7), datetime.date(2018, 2, 8),\n",
       "       datetime.date(2018, 2, 9), datetime.date(2018, 2, 12),\n",
       "       datetime.date(2018, 2, 13), datetime.date(2018, 2, 14),\n",
       "       datetime.date(2018, 2, 15), datetime.date(2018, 2, 16),\n",
       "       datetime.date(2018, 2, 19), datetime.date(2018, 2, 20),\n",
       "       datetime.date(2018, 2, 21), datetime.date(2018, 2, 22),\n",
       "       datetime.date(2018, 2, 23), datetime.date(2018, 2, 26),\n",
       "       datetime.date(2018, 2, 27), datetime.date(2018, 2, 28),\n",
       "       datetime.date(2018, 3, 1)], dtype=object)"
      ]
     },
     "execution_count": 11,
     "metadata": {},
     "output_type": "execute_result"
    }
   ],
   "source": [
    "np.unique(datos.index.date)"
   ]
  },
  {
   "cell_type": "code",
   "execution_count": 14,
   "metadata": {},
   "outputs": [
    {
     "name": "stdout",
     "output_type": "stream",
     "text": [
      "(241921, 2)\n"
     ]
    },
    {
     "data": {
      "text/html": [
       "<div>\n",
       "<style>\n",
       "    .dataframe thead tr:only-child th {\n",
       "        text-align: right;\n",
       "    }\n",
       "\n",
       "    .dataframe thead th {\n",
       "        text-align: left;\n",
       "    }\n",
       "\n",
       "    .dataframe tbody tr th {\n",
       "        vertical-align: top;\n",
       "    }\n",
       "</style>\n",
       "<table border=\"1\" class=\"dataframe\">\n",
       "  <thead>\n",
       "    <tr style=\"text-align: right;\">\n",
       "      <th></th>\n",
       "      <th>bid</th>\n",
       "      <th>ask</th>\n",
       "    </tr>\n",
       "    <tr>\n",
       "      <th>date</th>\n",
       "      <th></th>\n",
       "      <th></th>\n",
       "    </tr>\n",
       "  </thead>\n",
       "  <tbody>\n",
       "    <tr>\n",
       "      <th>2018-02-01 01:58:20</th>\n",
       "      <td>109.190</td>\n",
       "      <td>109.194</td>\n",
       "    </tr>\n",
       "    <tr>\n",
       "      <th>2018-02-01 01:58:30</th>\n",
       "      <td>109.186</td>\n",
       "      <td>109.190</td>\n",
       "    </tr>\n",
       "    <tr>\n",
       "      <th>2018-02-01 01:58:40</th>\n",
       "      <td>109.183</td>\n",
       "      <td>109.187</td>\n",
       "    </tr>\n",
       "    <tr>\n",
       "      <th>2018-02-01 01:58:50</th>\n",
       "      <td>109.169</td>\n",
       "      <td>109.173</td>\n",
       "    </tr>\n",
       "    <tr>\n",
       "      <th>2018-02-01 01:59:00</th>\n",
       "      <td>109.167</td>\n",
       "      <td>109.171</td>\n",
       "    </tr>\n",
       "  </tbody>\n",
       "</table>\n",
       "</div>"
      ],
      "text/plain": [
       "                         bid      ask\n",
       "date                                 \n",
       "2018-02-01 01:58:20  109.190  109.194\n",
       "2018-02-01 01:58:30  109.186  109.190\n",
       "2018-02-01 01:58:40  109.183  109.187\n",
       "2018-02-01 01:58:50  109.169  109.173\n",
       "2018-02-01 01:59:00  109.167  109.171"
      ]
     },
     "execution_count": 14,
     "metadata": {},
     "output_type": "execute_result"
    }
   ],
   "source": [
    "#se muestrean en intervalos de 10s\n",
    "datos = datos.resample('10s', loffset='10s').last() #se coge el último valor de muestreo de los 10s\n",
    "print(datos.shape)\n",
    "datos.head()"
   ]
  },
  {
   "cell_type": "code",
   "execution_count": 15,
   "metadata": {},
   "outputs": [
    {
     "data": {
      "image/png": "[encoded data removed]",
      "text/plain": [
       "<matplotlib.figure.Figure at 0x7f064d592898>"
      ]
     },
     "metadata": {},
     "output_type": "display_data"
    }
   ],
   "source": [
    "plt.figure(figsize=(15,5))\n",
    "plt.title('Bid')\n",
    "plt.xlabel('time 10s')\n",
    "plt.ylabel('Bid')\n",
    "plt.plot(np.arange(datos.shape[0]), datos.iloc[:,0],color='blue',alpha=0.6, label='Bid')\n",
    "plt.legend();"
   ]
  },
  {
   "cell_type": "code",
   "execution_count": 16,
   "metadata": {},
   "outputs": [
    {
     "name": "stdout",
     "output_type": "stream",
     "text": [
      "datos nan\n",
      "------------\n",
      "bid    72154\n",
      "ask    72154\n",
      "dtype: int64\n"
     ]
    }
   ],
   "source": [
    "print('datos nan')\n",
    "print('------------')\n",
    "print(np.sum(pd.isnull(datos)*1))"
   ]
  },
  {
   "cell_type": "code",
   "execution_count": 17,
   "metadata": {},
   "outputs": [
    {
     "name": "stdout",
     "output_type": "stream",
     "text": [
      "(169767, 2)\n"
     ]
    }
   ],
   "source": [
    "datos = datos.dropna() #se eliminan los nan\n",
    "print(datos.shape)"
   ]
  },
  {
   "cell_type": "code",
   "execution_count": 18,
   "metadata": {},
   "outputs": [
    {
     "data": {
      "image/png": "[encoded data removed]",
      "text/plain": [
       "<matplotlib.figure.Figure at 0x7f064d544cf8>"
      ]
     },
     "metadata": {},
     "output_type": "display_data"
    }
   ],
   "source": [
    "plt.figure(figsize=(15,5))\n",
    "plt.title('Bid')\n",
    "plt.xlabel('time 10s')\n",
    "plt.ylabel('Bid')\n",
    "plt.plot(np.arange(datos.shape[0]), datos.iloc[:,0],color='blue',alpha=0.6, label='Bid')\n",
    "plt.legend();"
   ]
  },
  {
   "cell_type": "code",
   "execution_count": 19,
   "metadata": {
    "collapsed": true
   },
   "outputs": [],
   "source": [
    "#guardar el data set pre-procesado\n",
    "datos.to_csv('data/TrueFX/USD-JPY/datos_procesados_USDJPY-2018-02.csv')"
   ]
  },
  {
   "cell_type": "code",
   "execution_count": null,
   "metadata": {
    "collapsed": true
   },
   "outputs": [],
   "source": []
  }
 ],
 "metadata": {
  "kernelspec": {
   "display_name": "Python 3",
   "language": "python",
   "name": "python3"
  },
  "language_info": {
   "codemirror_mode": {
    "name": "ipython",
    "version": 3
   },
   "file_extension": ".py",
   "mimetype": "text/x-python",
   "name": "python",
   "nbconvert_exporter": "python",
   "pygments_lexer": "ipython3",
   "version": "3.6.2"
  }
 },
 "nbformat": 4,
 "nbformat_minor": 2
}
