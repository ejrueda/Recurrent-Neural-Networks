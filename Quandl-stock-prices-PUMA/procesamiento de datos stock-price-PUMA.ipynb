{
 "cells": [
  {
   "cell_type": "code",
   "execution_count": 7,
   "metadata": {},
   "outputs": [],
   "source": [
    "import pandas as  pd\n",
    "import numpy as np\n",
    "import bokeh.plotting as bp\n",
    "import matplotlib.pyplot as plt\n",
    "%matplotlib inline\n",
    "#bp.output_notebook()"
   ]
  },
  {
   "cell_type": "markdown",
   "metadata": {},
   "source": [
    "Se importa el dataset, el cual lo obtuve de Quandl. Este representa el valor en USD de las acciones de PUMA SE diariamente."
   ]
  },
  {
   "cell_type": "code",
   "execution_count": 14,
   "metadata": {},
   "outputs": [],
   "source": [
    "data_set = pd.read_csv('../data/Quandl/stock-prices-PUMA.csv',index_col=0,parse_dates=True\n",
    "                       ,infer_datetime_format=True)"
   ]
  },
  {
   "cell_type": "code",
   "execution_count": 15,
   "metadata": {},
   "outputs": [
    {
     "data": {
      "text/html": [
       "<div>\n",
       "<style>\n",
       "    .dataframe thead tr:only-child th {\n",
       "        text-align: right;\n",
       "    }\n",
       "\n",
       "    .dataframe thead th {\n",
       "        text-align: left;\n",
       "    }\n",
       "\n",
       "    .dataframe tbody tr th {\n",
       "        vertical-align: top;\n",
       "    }\n",
       "</style>\n",
       "<table border=\"1\" class=\"dataframe\">\n",
       "  <thead>\n",
       "    <tr style=\"text-align: right;\">\n",
       "      <th></th>\n",
       "      <th>Open</th>\n",
       "      <th>High</th>\n",
       "      <th>Low</th>\n",
       "      <th>Close</th>\n",
       "      <th>Change</th>\n",
       "      <th>Traded Volume</th>\n",
       "      <th>Turnover</th>\n",
       "      <th>Last Price of the Day</th>\n",
       "      <th>Daily Traded Units</th>\n",
       "      <th>Daily Turnover</th>\n",
       "    </tr>\n",
       "    <tr>\n",
       "      <th>Date</th>\n",
       "      <th></th>\n",
       "      <th></th>\n",
       "      <th></th>\n",
       "      <th></th>\n",
       "      <th></th>\n",
       "      <th></th>\n",
       "      <th></th>\n",
       "      <th></th>\n",
       "      <th></th>\n",
       "      <th></th>\n",
       "    </tr>\n",
       "  </thead>\n",
       "  <tbody>\n",
       "    <tr>\n",
       "      <th>2018-03-23</th>\n",
       "      <td>NaN</td>\n",
       "      <td>400.5</td>\n",
       "      <td>382.0</td>\n",
       "      <td>385.5</td>\n",
       "      <td>NaN</td>\n",
       "      <td>30853.0</td>\n",
       "      <td>11991646.0</td>\n",
       "      <td>NaN</td>\n",
       "      <td>NaN</td>\n",
       "      <td>NaN</td>\n",
       "    </tr>\n",
       "    <tr>\n",
       "      <th>2018-03-22</th>\n",
       "      <td>NaN</td>\n",
       "      <td>411.5</td>\n",
       "      <td>398.5</td>\n",
       "      <td>399.0</td>\n",
       "      <td>NaN</td>\n",
       "      <td>29061.0</td>\n",
       "      <td>11754473.0</td>\n",
       "      <td>NaN</td>\n",
       "      <td>NaN</td>\n",
       "      <td>NaN</td>\n",
       "    </tr>\n",
       "    <tr>\n",
       "      <th>2018-03-21</th>\n",
       "      <td>NaN</td>\n",
       "      <td>419.0</td>\n",
       "      <td>404.5</td>\n",
       "      <td>412.5</td>\n",
       "      <td>NaN</td>\n",
       "      <td>42542.0</td>\n",
       "      <td>17543190.0</td>\n",
       "      <td>NaN</td>\n",
       "      <td>NaN</td>\n",
       "      <td>NaN</td>\n",
       "    </tr>\n",
       "    <tr>\n",
       "      <th>2018-03-20</th>\n",
       "      <td>NaN</td>\n",
       "      <td>421.5</td>\n",
       "      <td>385.5</td>\n",
       "      <td>415.0</td>\n",
       "      <td>NaN</td>\n",
       "      <td>53258.0</td>\n",
       "      <td>21873839.0</td>\n",
       "      <td>NaN</td>\n",
       "      <td>NaN</td>\n",
       "      <td>NaN</td>\n",
       "    </tr>\n",
       "    <tr>\n",
       "      <th>2018-03-19</th>\n",
       "      <td>NaN</td>\n",
       "      <td>393.5</td>\n",
       "      <td>387.5</td>\n",
       "      <td>392.5</td>\n",
       "      <td>NaN</td>\n",
       "      <td>15166.0</td>\n",
       "      <td>5936658.0</td>\n",
       "      <td>NaN</td>\n",
       "      <td>NaN</td>\n",
       "      <td>NaN</td>\n",
       "    </tr>\n",
       "  </tbody>\n",
       "</table>\n",
       "</div>"
      ],
      "text/plain": [
       "            Open   High    Low  Close  Change  Traded Volume    Turnover  \\\n",
       "Date                                                                       \n",
       "2018-03-23   NaN  400.5  382.0  385.5     NaN        30853.0  11991646.0   \n",
       "2018-03-22   NaN  411.5  398.5  399.0     NaN        29061.0  11754473.0   \n",
       "2018-03-21   NaN  419.0  404.5  412.5     NaN        42542.0  17543190.0   \n",
       "2018-03-20   NaN  421.5  385.5  415.0     NaN        53258.0  21873839.0   \n",
       "2018-03-19   NaN  393.5  387.5  392.5     NaN        15166.0   5936658.0   \n",
       "\n",
       "            Last Price of the Day  Daily Traded Units  Daily Turnover  \n",
       "Date                                                                   \n",
       "2018-03-23                    NaN                 NaN             NaN  \n",
       "2018-03-22                    NaN                 NaN             NaN  \n",
       "2018-03-21                    NaN                 NaN             NaN  \n",
       "2018-03-20                    NaN                 NaN             NaN  \n",
       "2018-03-19                    NaN                 NaN             NaN  "
      ]
     },
     "execution_count": 15,
     "metadata": {},
     "output_type": "execute_result"
    }
   ],
   "source": [
    "data_set.head()"
   ]
  },
  {
   "cell_type": "code",
   "execution_count": 16,
   "metadata": {},
   "outputs": [
    {
     "data": {
      "text/plain": [
       "(4694, 10)"
      ]
     },
     "execution_count": 16,
     "metadata": {},
     "output_type": "execute_result"
    }
   ],
   "source": [
    "data_set.shape"
   ]
  },
  {
   "cell_type": "markdown",
   "metadata": {},
   "source": [
    "Como ciertas fechas no tienen valor de \"open\", se promedió el valor mas alto y bajo del dia para tomarlo como \"open\""
   ]
  },
  {
   "cell_type": "code",
   "execution_count": 17,
   "metadata": {
    "collapsed": true
   },
   "outputs": [],
   "source": [
    "for i in range(data_set.shape[0]):\n",
    "    if pd.isnull(data_set['Open'].iloc[i]):\n",
    "        data_set['Open'].iloc[i] = np.mean([data_set['High'].iloc[i],data_set['Low'].iloc[i]])"
   ]
  },
  {
   "cell_type": "code",
   "execution_count": 18,
   "metadata": {
    "collapsed": true
   },
   "outputs": [],
   "source": [
    "data_set = data_set.iloc[:,:4]"
   ]
  },
  {
   "cell_type": "code",
   "execution_count": 19,
   "metadata": {},
   "outputs": [
    {
     "data": {
      "text/html": [
       "<div>\n",
       "<style>\n",
       "    .dataframe thead tr:only-child th {\n",
       "        text-align: right;\n",
       "    }\n",
       "\n",
       "    .dataframe thead th {\n",
       "        text-align: left;\n",
       "    }\n",
       "\n",
       "    .dataframe tbody tr th {\n",
       "        vertical-align: top;\n",
       "    }\n",
       "</style>\n",
       "<table border=\"1\" class=\"dataframe\">\n",
       "  <thead>\n",
       "    <tr style=\"text-align: right;\">\n",
       "      <th></th>\n",
       "      <th>Open</th>\n",
       "      <th>High</th>\n",
       "      <th>Low</th>\n",
       "      <th>Close</th>\n",
       "    </tr>\n",
       "    <tr>\n",
       "      <th>Date</th>\n",
       "      <th></th>\n",
       "      <th></th>\n",
       "      <th></th>\n",
       "      <th></th>\n",
       "    </tr>\n",
       "  </thead>\n",
       "  <tbody>\n",
       "    <tr>\n",
       "      <th>2018-03-23</th>\n",
       "      <td>391.25</td>\n",
       "      <td>400.5</td>\n",
       "      <td>382.0</td>\n",
       "      <td>385.5</td>\n",
       "    </tr>\n",
       "    <tr>\n",
       "      <th>2018-03-22</th>\n",
       "      <td>405.00</td>\n",
       "      <td>411.5</td>\n",
       "      <td>398.5</td>\n",
       "      <td>399.0</td>\n",
       "    </tr>\n",
       "    <tr>\n",
       "      <th>2018-03-21</th>\n",
       "      <td>411.75</td>\n",
       "      <td>419.0</td>\n",
       "      <td>404.5</td>\n",
       "      <td>412.5</td>\n",
       "    </tr>\n",
       "    <tr>\n",
       "      <th>2018-03-20</th>\n",
       "      <td>403.50</td>\n",
       "      <td>421.5</td>\n",
       "      <td>385.5</td>\n",
       "      <td>415.0</td>\n",
       "    </tr>\n",
       "    <tr>\n",
       "      <th>2018-03-19</th>\n",
       "      <td>390.50</td>\n",
       "      <td>393.5</td>\n",
       "      <td>387.5</td>\n",
       "      <td>392.5</td>\n",
       "    </tr>\n",
       "  </tbody>\n",
       "</table>\n",
       "</div>"
      ],
      "text/plain": [
       "              Open   High    Low  Close\n",
       "Date                                   \n",
       "2018-03-23  391.25  400.5  382.0  385.5\n",
       "2018-03-22  405.00  411.5  398.5  399.0\n",
       "2018-03-21  411.75  419.0  404.5  412.5\n",
       "2018-03-20  403.50  421.5  385.5  415.0\n",
       "2018-03-19  390.50  393.5  387.5  392.5"
      ]
     },
     "execution_count": 19,
     "metadata": {},
     "output_type": "execute_result"
    }
   ],
   "source": [
    "data_set.head()"
   ]
  },
  {
   "cell_type": "code",
   "execution_count": 24,
   "metadata": {},
   "outputs": [
    {
     "data": {
      "image/png": "[encoded data removed]",
      "text/plain": [
       "<matplotlib.figure.Figure at 0x7f9d5aa30940>"
      ]
     },
     "metadata": {},
     "output_type": "display_data"
    }
   ],
   "source": [
    "plt.figure(figsize=(15,5))\n",
    "plt.title('Open')\n",
    "plt.ylabel('USD')\n",
    "plt.xlabel('datetime')\n",
    "plt.plot(data_set.index.date[-1::-1], data_set.iloc[:,1][-1::-1]);"
   ]
  },
  {
   "cell_type": "markdown",
   "metadata": {},
   "source": [
    "se puede ver que hay huecos, debido a que hay años donde nisiquiera figuran datos para el \"ohlc\", se eliminarán estos datos.."
   ]
  },
  {
   "cell_type": "code",
   "execution_count": 52,
   "metadata": {},
   "outputs": [
    {
     "name": "stdout",
     "output_type": "stream",
     "text": [
      "datos nan de open y high =  0\n",
      "datos nan de open y low =  0\n",
      "datos nan de high y low =  0\n",
      "datos nan de open y close =  0\n"
     ]
    }
   ],
   "source": [
    "print('datos nan de open y high = ',sum((pd.isnull(data_set.iloc[:,0]) & pd.isnull(data_set.iloc[:,1]) ==True)*1))\n",
    "print('datos nan de open y low = ',sum((pd.isnull(data_set.iloc[:,0]) & pd.isnull(data_set.iloc[:,2]) ==True)*1))\n",
    "print('datos nan de high y low = ',sum((pd.isnull(data_set.iloc[:,1]) & pd.isnull(data_set.iloc[:,2]) ==True)*1))\n",
    "print('datos nan de open y close = ',sum((pd.isnull(data_set.iloc[:,0]) & pd.isnull(data_set.iloc[:,1]) ==True)*1))"
   ]
  },
  {
   "cell_type": "code",
   "execution_count": 49,
   "metadata": {
    "collapsed": true
   },
   "outputs": [],
   "source": [
    "data_set = data_set.dropna()"
   ]
  },
  {
   "cell_type": "code",
   "execution_count": 59,
   "metadata": {},
   "outputs": [
    {
     "data": {
      "image/png": "[encoded data removed]",
      "text/plain": [
       "<matplotlib.figure.Figure at 0x7f9d5a8741d0>"
      ]
     },
     "metadata": {},
     "output_type": "display_data"
    }
   ],
   "source": [
    "plt.figure(figsize=(15,5))\n",
    "plt.title('Open')\n",
    "plt.ylabel('USD')\n",
    "plt.xlabel('datetime')\n",
    "plt.plot(data_set.index.date[-1::-1], data_set.iloc[:,0][-1::-1]);"
   ]
  },
  {
   "cell_type": "markdown",
   "metadata": {},
   "source": [
    "pintando con bokeh"
   ]
  },
  {
   "cell_type": "code",
   "execution_count": 51,
   "metadata": {
    "collapsed": true
   },
   "outputs": [],
   "source": [
    "plot = bp.figure(width=800, height=300,x_axis_type='datetime',title='Open price for PUMA SE')\n",
    "plot.xaxis.axis_label = 'dates'\n",
    "plot.yaxis.axis_label = 'stock price in USD'\n",
    "plot.line(data_set.index[-1::-1],data_set.iloc[:,1][-1::-1])\n",
    "bp.show(plot)"
   ]
  },
  {
   "cell_type": "code",
   "execution_count": 54,
   "metadata": {},
   "outputs": [],
   "source": [
    "%run ../code/build_dataset.py\n",
    "%run ../code/PNLEstimatorWrapper.py\n",
    "%run ../code/redim.py\n",
    "%run ../code/step_validation.py\n",
    "%run ../code/v_split.py"
   ]
  },
  {
   "cell_type": "code",
   "execution_count": 67,
   "metadata": {},
   "outputs": [],
   "source": [
    "X, y_reg, bt = build_dataset(data_set.iloc[:,0],binary_target=True,window=3, PNL=True)"
   ]
  },
  {
   "cell_type": "code",
   "execution_count": 74,
   "metadata": {},
   "outputs": [
    {
     "name": "stdout",
     "output_type": "stream",
     "text": [
      "--------- KNeighborsClassifier ----------------\n",
      "average PNL :  0.840098039216\n",
      "average buy:  10.3921568627\n",
      "average sell:  9.60784313725\n",
      "-------------------------------------\n",
      "       PNL  buys  sells  longest_buys  longest_sells\n",
      "0     8.85   4.0   16.0           4.0           16.0\n",
      "1     6.40   3.0   17.0           3.0           14.0\n",
      "2    38.40   8.0   12.0           5.0            9.0\n",
      "3    -3.90   1.0   19.0           1.0           19.0\n",
      "4    19.20   3.0   17.0           2.0            9.0\n",
      "5   -40.00   4.0   16.0           2.0            9.0\n",
      "6   -17.60   6.0   14.0           2.0            5.0\n",
      "7    -0.60   0.0   20.0           0.0           20.0\n",
      "8   -63.60  19.0    1.0          14.0            1.0\n",
      "9     2.95  12.0    8.0          12.0            6.0\n",
      "10   14.95   9.0   11.0           9.0           11.0\n",
      "11   -8.90  14.0    6.0          12.0            5.0\n",
      "12   -3.10  18.0    2.0          14.0            1.0\n",
      "13   12.10  11.0    9.0           8.0            9.0\n",
      "14   26.20   9.0   11.0           5.0            5.0\n",
      "15   12.85   8.0   12.0           2.0            5.0\n",
      "16   -5.75   4.0   16.0           2.0            8.0\n",
      "17  -17.45  20.0    0.0          20.0            0.0\n",
      "18   -6.25   0.0   20.0           0.0           20.0\n",
      "19  -12.10   3.0   17.0           3.0           14.0\n",
      "20    7.25   1.0   19.0           1.0           12.0\n",
      "21   14.95   3.0   17.0           1.0            9.0\n",
      "22   -7.90   7.0   13.0           3.0            9.0\n",
      "23   16.30  14.0    6.0           7.0            2.0\n",
      "24   -9.85   7.0   13.0           4.0            7.0\n",
      "25    4.95   3.0   17.0           2.0           15.0\n",
      "26   12.90  12.0    8.0           7.0            4.0\n",
      "27    1.15  11.0    9.0           6.0            5.0\n",
      "28    2.65   0.0   20.0           0.0           20.0\n",
      "29   11.40  14.0    6.0           8.0            4.0\n",
      "..     ...   ...    ...           ...            ...\n",
      "174 -19.44  20.0    0.0          20.0            0.0\n",
      "175   1.81   0.0   20.0           0.0           20.0\n",
      "176  -0.60  19.0    1.0          19.0            1.0\n",
      "177  -9.52  16.0    4.0          10.0            3.0\n",
      "178 -17.01  20.0    0.0          20.0            0.0\n",
      "179   4.34   0.0   20.0           0.0           20.0\n",
      "180  -0.52  19.0    1.0          18.0            1.0\n",
      "181  -1.86  16.0    4.0          11.0            4.0\n",
      "182  -0.71   0.0   20.0           0.0           20.0\n",
      "183  10.02  10.0   10.0           5.0            7.0\n",
      "184   7.00   4.0   16.0           3.0           14.0\n",
      "185  -9.32  20.0    0.0          20.0            0.0\n",
      "186  -5.02  20.0    0.0          20.0            0.0\n",
      "187   7.39  15.0    5.0           8.0            3.0\n",
      "188  -0.77   7.0   13.0           7.0           13.0\n",
      "189  -1.70  20.0    0.0          20.0            0.0\n",
      "190  14.06  11.0    9.0           6.0            6.0\n",
      "191  -2.70  19.0    1.0          19.0            1.0\n",
      "192  -7.17   5.0   15.0           3.0            7.0\n",
      "193  14.01  10.0   10.0           4.0            4.0\n",
      "194  -0.56   6.0   14.0           2.0            7.0\n",
      "195   4.14   1.0   19.0           1.0           17.0\n",
      "196  -9.92   2.0   18.0           1.0            9.0\n",
      "197   1.25  18.0    2.0          18.0            2.0\n",
      "198  -3.15  18.0    2.0          18.0            2.0\n",
      "199  -1.50  18.0    2.0          14.0            1.0\n",
      "200   0.43   9.0   11.0           5.0            4.0\n",
      "201  -5.36  20.0    0.0          20.0            0.0\n",
      "202  -0.41   9.0   11.0           9.0           11.0\n",
      "203   5.73   0.0   20.0           0.0           20.0\n",
      "\n",
      "[204 rows x 5 columns]\n"
     ]
    }
   ],
   "source": [
    "from sklearn.neighbors import KNeighborsClassifier\n",
    "\n",
    "y = bt\n",
    "\n",
    "est = PNLEstimatorWrapper(KNeighborsClassifier(),'PNL')\n",
    "result_KNC = step_validation(est, X, y, v_split(X,60,20,20))\n",
    "result_KNC, predict_KNC = redim(result_KNC)\n",
    "\n",
    "print('--------- KNeighborsClassifier ----------------')\n",
    "print('average PNL : ', np.mean(result_KNC[:,0]))\n",
    "print('average buy: ', np.mean(result_KNC[:,1]))\n",
    "print('average sell: ', np.mean(result_KNC[:,2]))\n",
    "print('-------------------------------------')\n",
    "print(pd.DataFrame(result_KNC, columns=list(['PNL','buys','sells','longest_buys','longest_sells'])))"
   ]
  },
  {
   "cell_type": "code",
   "execution_count": null,
   "metadata": {
    "collapsed": true
   },
   "outputs": [],
   "source": []
  }
 ],
 "metadata": {
  "kernelspec": {
   "display_name": "Python 3",
   "language": "python",
   "name": "python3"
  },
  "language_info": {
   "codemirror_mode": {
    "name": "ipython",
    "version": 3
   },
   "file_extension": ".py",
   "mimetype": "text/x-python",
   "name": "python",
   "nbconvert_exporter": "python",
   "pygments_lexer": "ipython3",
   "version": "3.6.2"
  }
 },
 "nbformat": 4,
 "nbformat_minor": 2
}
