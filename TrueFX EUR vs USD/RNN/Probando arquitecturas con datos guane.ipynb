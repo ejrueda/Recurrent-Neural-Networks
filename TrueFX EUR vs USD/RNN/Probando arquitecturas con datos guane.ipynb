{
 "cells": [
  {
   "cell_type": "code",
   "execution_count": 33,
   "metadata": {
    "collapsed": true
   },
   "outputs": [],
   "source": [
    "import pandas as pd\n",
    "import numpy as np"
   ]
  },
  {
   "cell_type": "code",
   "execution_count": 34,
   "metadata": {},
   "outputs": [],
   "source": [
    "data_train = pd.read_csv('./data_guane/EUR-USD_procesados_OHLC_1T_2017-1_2017-5.csv',index_col=0,\n",
    "                         parse_dates=True, infer_datetime_format=True)"
   ]
  },
  {
   "cell_type": "code",
   "execution_count": 35,
   "metadata": {},
   "outputs": [
    {
     "name": "stdout",
     "output_type": "stream",
     "text": [
      "(30468, 5)\n"
     ]
    },
    {
     "data": {
      "text/html": [
       "<div>\n",
       "<style>\n",
       "    .dataframe thead tr:only-child th {\n",
       "        text-align: right;\n",
       "    }\n",
       "\n",
       "    .dataframe thead th {\n",
       "        text-align: left;\n",
       "    }\n",
       "\n",
       "    .dataframe tbody tr th {\n",
       "        vertical-align: top;\n",
       "    }\n",
       "</style>\n",
       "<table border=\"1\" class=\"dataframe\">\n",
       "  <thead>\n",
       "    <tr style=\"text-align: right;\">\n",
       "      <th></th>\n",
       "      <th>open</th>\n",
       "      <th>high</th>\n",
       "      <th>low</th>\n",
       "      <th>bid</th>\n",
       "      <th>ask</th>\n",
       "    </tr>\n",
       "  </thead>\n",
       "  <tbody>\n",
       "    <tr>\n",
       "      <th>2017-01-02 00:05:00</th>\n",
       "      <td>1.05230</td>\n",
       "      <td>1.05230</td>\n",
       "      <td>1.05153</td>\n",
       "      <td>1.05196</td>\n",
       "      <td>1.052991</td>\n",
       "    </tr>\n",
       "    <tr>\n",
       "      <th>2017-01-02 00:10:00</th>\n",
       "      <td>1.05196</td>\n",
       "      <td>1.05203</td>\n",
       "      <td>1.05153</td>\n",
       "      <td>1.05201</td>\n",
       "      <td>1.052955</td>\n",
       "    </tr>\n",
       "    <tr>\n",
       "      <th>2017-01-02 00:15:00</th>\n",
       "      <td>1.05201</td>\n",
       "      <td>1.05202</td>\n",
       "      <td>1.05187</td>\n",
       "      <td>1.05196</td>\n",
       "      <td>1.052957</td>\n",
       "    </tr>\n",
       "    <tr>\n",
       "      <th>2017-01-02 00:20:00</th>\n",
       "      <td>1.05196</td>\n",
       "      <td>1.05196</td>\n",
       "      <td>1.05185</td>\n",
       "      <td>1.05196</td>\n",
       "      <td>1.052988</td>\n",
       "    </tr>\n",
       "    <tr>\n",
       "      <th>2017-01-02 00:25:00</th>\n",
       "      <td>1.05196</td>\n",
       "      <td>1.05198</td>\n",
       "      <td>1.05185</td>\n",
       "      <td>1.05196</td>\n",
       "      <td>1.052955</td>\n",
       "    </tr>\n",
       "  </tbody>\n",
       "</table>\n",
       "</div>"
      ],
      "text/plain": [
       "                        open     high      low      bid       ask\n",
       "2017-01-02 00:05:00  1.05230  1.05230  1.05153  1.05196  1.052991\n",
       "2017-01-02 00:10:00  1.05196  1.05203  1.05153  1.05201  1.052955\n",
       "2017-01-02 00:15:00  1.05201  1.05202  1.05187  1.05196  1.052957\n",
       "2017-01-02 00:20:00  1.05196  1.05196  1.05185  1.05196  1.052988\n",
       "2017-01-02 00:25:00  1.05196  1.05198  1.05185  1.05196  1.052955"
      ]
     },
     "execution_count": 35,
     "metadata": {},
     "output_type": "execute_result"
    }
   ],
   "source": [
    "print(data_train.shape)\n",
    "data_train.head()"
   ]
  },
  {
   "cell_type": "code",
   "execution_count": 36,
   "metadata": {
    "collapsed": true
   },
   "outputs": [],
   "source": [
    "%run ../../code/EUtilities.py\n",
    "EU = EUtilities()"
   ]
  },
  {
   "cell_type": "code",
   "execution_count": 37,
   "metadata": {},
   "outputs": [],
   "source": [
    "window = 100\n",
    "X_train, y_train_reg, bt_train = EU.build_dataset(data_train, window=window, bid_col='bid', binary_target=True, PNL=True)"
   ]
  },
  {
   "cell_type": "code",
   "execution_count": 38,
   "metadata": {},
   "outputs": [
    {
     "data": {
      "text/html": [
       "<div>\n",
       "<style>\n",
       "    .dataframe thead tr:only-child th {\n",
       "        text-align: right;\n",
       "    }\n",
       "\n",
       "    .dataframe thead th {\n",
       "        text-align: left;\n",
       "    }\n",
       "\n",
       "    .dataframe tbody tr th {\n",
       "        vertical-align: top;\n",
       "    }\n",
       "</style>\n",
       "<table border=\"1\" class=\"dataframe\">\n",
       "  <thead>\n",
       "    <tr style=\"text-align: right;\">\n",
       "      <th></th>\n",
       "      <th>0</th>\n",
       "      <th>1</th>\n",
       "      <th>2</th>\n",
       "      <th>3</th>\n",
       "      <th>4</th>\n",
       "      <th>5</th>\n",
       "      <th>6</th>\n",
       "      <th>7</th>\n",
       "      <th>8</th>\n",
       "      <th>9</th>\n",
       "      <th>...</th>\n",
       "      <th>92</th>\n",
       "      <th>93</th>\n",
       "      <th>94</th>\n",
       "      <th>95</th>\n",
       "      <th>96</th>\n",
       "      <th>97</th>\n",
       "      <th>98</th>\n",
       "      <th>99</th>\n",
       "      <th>PNL_0</th>\n",
       "      <th>PNL_1</th>\n",
       "    </tr>\n",
       "  </thead>\n",
       "  <tbody>\n",
       "    <tr>\n",
       "      <th>2017-01-02 08:20:00</th>\n",
       "      <td>1.05196</td>\n",
       "      <td>1.05201</td>\n",
       "      <td>1.05196</td>\n",
       "      <td>1.05196</td>\n",
       "      <td>1.05196</td>\n",
       "      <td>1.05201</td>\n",
       "      <td>1.05195</td>\n",
       "      <td>1.05195</td>\n",
       "      <td>1.05195</td>\n",
       "      <td>1.05195</td>\n",
       "      <td>...</td>\n",
       "      <td>1.05181</td>\n",
       "      <td>1.05155</td>\n",
       "      <td>1.05140</td>\n",
       "      <td>1.05138</td>\n",
       "      <td>1.05167</td>\n",
       "      <td>1.05149</td>\n",
       "      <td>1.05153</td>\n",
       "      <td>1.05085</td>\n",
       "      <td>-0.000493</td>\n",
       "      <td>-0.000057</td>\n",
       "    </tr>\n",
       "    <tr>\n",
       "      <th>2017-01-02 08:25:00</th>\n",
       "      <td>1.05201</td>\n",
       "      <td>1.05196</td>\n",
       "      <td>1.05196</td>\n",
       "      <td>1.05196</td>\n",
       "      <td>1.05201</td>\n",
       "      <td>1.05195</td>\n",
       "      <td>1.05195</td>\n",
       "      <td>1.05195</td>\n",
       "      <td>1.05195</td>\n",
       "      <td>1.05183</td>\n",
       "      <td>...</td>\n",
       "      <td>1.05155</td>\n",
       "      <td>1.05140</td>\n",
       "      <td>1.05138</td>\n",
       "      <td>1.05167</td>\n",
       "      <td>1.05149</td>\n",
       "      <td>1.05153</td>\n",
       "      <td>1.05085</td>\n",
       "      <td>1.05120</td>\n",
       "      <td>-0.000102</td>\n",
       "      <td>-0.000293</td>\n",
       "    </tr>\n",
       "    <tr>\n",
       "      <th>2017-01-02 08:30:00</th>\n",
       "      <td>1.05196</td>\n",
       "      <td>1.05196</td>\n",
       "      <td>1.05196</td>\n",
       "      <td>1.05201</td>\n",
       "      <td>1.05195</td>\n",
       "      <td>1.05195</td>\n",
       "      <td>1.05195</td>\n",
       "      <td>1.05195</td>\n",
       "      <td>1.05183</td>\n",
       "      <td>1.05195</td>\n",
       "      <td>...</td>\n",
       "      <td>1.05140</td>\n",
       "      <td>1.05138</td>\n",
       "      <td>1.05167</td>\n",
       "      <td>1.05149</td>\n",
       "      <td>1.05153</td>\n",
       "      <td>1.05085</td>\n",
       "      <td>1.05120</td>\n",
       "      <td>1.05105</td>\n",
       "      <td>-0.000609</td>\n",
       "      <td>-0.000242</td>\n",
       "    </tr>\n",
       "    <tr>\n",
       "      <th>2017-01-02 08:35:00</th>\n",
       "      <td>1.05196</td>\n",
       "      <td>1.05196</td>\n",
       "      <td>1.05201</td>\n",
       "      <td>1.05195</td>\n",
       "      <td>1.05195</td>\n",
       "      <td>1.05195</td>\n",
       "      <td>1.05195</td>\n",
       "      <td>1.05183</td>\n",
       "      <td>1.05195</td>\n",
       "      <td>1.05193</td>\n",
       "      <td>...</td>\n",
       "      <td>1.05138</td>\n",
       "      <td>1.05167</td>\n",
       "      <td>1.05149</td>\n",
       "      <td>1.05153</td>\n",
       "      <td>1.05085</td>\n",
       "      <td>1.05120</td>\n",
       "      <td>1.05105</td>\n",
       "      <td>1.05106</td>\n",
       "      <td>-0.000387</td>\n",
       "      <td>-0.000309</td>\n",
       "    </tr>\n",
       "    <tr>\n",
       "      <th>2017-01-02 08:40:00</th>\n",
       "      <td>1.05196</td>\n",
       "      <td>1.05201</td>\n",
       "      <td>1.05195</td>\n",
       "      <td>1.05195</td>\n",
       "      <td>1.05195</td>\n",
       "      <td>1.05195</td>\n",
       "      <td>1.05183</td>\n",
       "      <td>1.05195</td>\n",
       "      <td>1.05193</td>\n",
       "      <td>1.05199</td>\n",
       "      <td>...</td>\n",
       "      <td>1.05167</td>\n",
       "      <td>1.05149</td>\n",
       "      <td>1.05153</td>\n",
       "      <td>1.05085</td>\n",
       "      <td>1.05120</td>\n",
       "      <td>1.05105</td>\n",
       "      <td>1.05106</td>\n",
       "      <td>1.05135</td>\n",
       "      <td>-0.000067</td>\n",
       "      <td>-0.000477</td>\n",
       "    </tr>\n",
       "  </tbody>\n",
       "</table>\n",
       "<p>5 rows × 102 columns</p>\n",
       "</div>"
      ],
      "text/plain": [
       "                           0        1        2        3        4        5  \\\n",
       "2017-01-02 08:20:00  1.05196  1.05201  1.05196  1.05196  1.05196  1.05201   \n",
       "2017-01-02 08:25:00  1.05201  1.05196  1.05196  1.05196  1.05201  1.05195   \n",
       "2017-01-02 08:30:00  1.05196  1.05196  1.05196  1.05201  1.05195  1.05195   \n",
       "2017-01-02 08:35:00  1.05196  1.05196  1.05201  1.05195  1.05195  1.05195   \n",
       "2017-01-02 08:40:00  1.05196  1.05201  1.05195  1.05195  1.05195  1.05195   \n",
       "\n",
       "                           6        7        8        9    ...          92  \\\n",
       "2017-01-02 08:20:00  1.05195  1.05195  1.05195  1.05195    ...     1.05181   \n",
       "2017-01-02 08:25:00  1.05195  1.05195  1.05195  1.05183    ...     1.05155   \n",
       "2017-01-02 08:30:00  1.05195  1.05195  1.05183  1.05195    ...     1.05140   \n",
       "2017-01-02 08:35:00  1.05195  1.05183  1.05195  1.05193    ...     1.05138   \n",
       "2017-01-02 08:40:00  1.05183  1.05195  1.05193  1.05199    ...     1.05167   \n",
       "\n",
       "                          93       94       95       96       97       98  \\\n",
       "2017-01-02 08:20:00  1.05155  1.05140  1.05138  1.05167  1.05149  1.05153   \n",
       "2017-01-02 08:25:00  1.05140  1.05138  1.05167  1.05149  1.05153  1.05085   \n",
       "2017-01-02 08:30:00  1.05138  1.05167  1.05149  1.05153  1.05085  1.05120   \n",
       "2017-01-02 08:35:00  1.05167  1.05149  1.05153  1.05085  1.05120  1.05105   \n",
       "2017-01-02 08:40:00  1.05149  1.05153  1.05085  1.05120  1.05105  1.05106   \n",
       "\n",
       "                          99     PNL_0     PNL_1  \n",
       "2017-01-02 08:20:00  1.05085 -0.000493 -0.000057  \n",
       "2017-01-02 08:25:00  1.05120 -0.000102 -0.000293  \n",
       "2017-01-02 08:30:00  1.05105 -0.000609 -0.000242  \n",
       "2017-01-02 08:35:00  1.05106 -0.000387 -0.000309  \n",
       "2017-01-02 08:40:00  1.05135 -0.000067 -0.000477  \n",
       "\n",
       "[5 rows x 102 columns]"
      ]
     },
     "execution_count": 38,
     "metadata": {},
     "output_type": "execute_result"
    }
   ],
   "source": [
    "X_train.head()"
   ]
  },
  {
   "cell_type": "code",
   "execution_count": 39,
   "metadata": {
    "collapsed": true
   },
   "outputs": [],
   "source": [
    "X_train['open'] = data_train.filter(X_train.index,axis=0).open\n",
    "X_train['high'] = data_train.filter(X_train.index,axis=0).high\n",
    "X_train['low'] = data_train.filter(X_train.index,axis=0).low"
   ]
  },
  {
   "cell_type": "code",
   "execution_count": 40,
   "metadata": {},
   "outputs": [
    {
     "data": {
      "text/html": [
       "<div>\n",
       "<style>\n",
       "    .dataframe thead tr:only-child th {\n",
       "        text-align: right;\n",
       "    }\n",
       "\n",
       "    .dataframe thead th {\n",
       "        text-align: left;\n",
       "    }\n",
       "\n",
       "    .dataframe tbody tr th {\n",
       "        vertical-align: top;\n",
       "    }\n",
       "</style>\n",
       "<table border=\"1\" class=\"dataframe\">\n",
       "  <thead>\n",
       "    <tr style=\"text-align: right;\">\n",
       "      <th></th>\n",
       "      <th>0</th>\n",
       "      <th>1</th>\n",
       "      <th>2</th>\n",
       "      <th>3</th>\n",
       "      <th>4</th>\n",
       "      <th>5</th>\n",
       "      <th>6</th>\n",
       "      <th>7</th>\n",
       "      <th>8</th>\n",
       "      <th>9</th>\n",
       "      <th>...</th>\n",
       "      <th>95</th>\n",
       "      <th>96</th>\n",
       "      <th>97</th>\n",
       "      <th>98</th>\n",
       "      <th>99</th>\n",
       "      <th>PNL_0</th>\n",
       "      <th>PNL_1</th>\n",
       "      <th>open</th>\n",
       "      <th>high</th>\n",
       "      <th>low</th>\n",
       "    </tr>\n",
       "  </thead>\n",
       "  <tbody>\n",
       "    <tr>\n",
       "      <th>2017-01-02 08:20:00</th>\n",
       "      <td>1.05196</td>\n",
       "      <td>1.05201</td>\n",
       "      <td>1.05196</td>\n",
       "      <td>1.05196</td>\n",
       "      <td>1.05196</td>\n",
       "      <td>1.05201</td>\n",
       "      <td>1.05195</td>\n",
       "      <td>1.05195</td>\n",
       "      <td>1.05195</td>\n",
       "      <td>1.05195</td>\n",
       "      <td>...</td>\n",
       "      <td>1.05138</td>\n",
       "      <td>1.05167</td>\n",
       "      <td>1.05149</td>\n",
       "      <td>1.05153</td>\n",
       "      <td>1.05085</td>\n",
       "      <td>-0.000493</td>\n",
       "      <td>-0.000057</td>\n",
       "      <td>1.05153</td>\n",
       "      <td>1.05153</td>\n",
       "      <td>1.05084</td>\n",
       "    </tr>\n",
       "    <tr>\n",
       "      <th>2017-01-02 08:25:00</th>\n",
       "      <td>1.05201</td>\n",
       "      <td>1.05196</td>\n",
       "      <td>1.05196</td>\n",
       "      <td>1.05196</td>\n",
       "      <td>1.05201</td>\n",
       "      <td>1.05195</td>\n",
       "      <td>1.05195</td>\n",
       "      <td>1.05195</td>\n",
       "      <td>1.05195</td>\n",
       "      <td>1.05183</td>\n",
       "      <td>...</td>\n",
       "      <td>1.05167</td>\n",
       "      <td>1.05149</td>\n",
       "      <td>1.05153</td>\n",
       "      <td>1.05085</td>\n",
       "      <td>1.05120</td>\n",
       "      <td>-0.000102</td>\n",
       "      <td>-0.000293</td>\n",
       "      <td>1.05085</td>\n",
       "      <td>1.05138</td>\n",
       "      <td>1.05082</td>\n",
       "    </tr>\n",
       "    <tr>\n",
       "      <th>2017-01-02 08:30:00</th>\n",
       "      <td>1.05196</td>\n",
       "      <td>1.05196</td>\n",
       "      <td>1.05196</td>\n",
       "      <td>1.05201</td>\n",
       "      <td>1.05195</td>\n",
       "      <td>1.05195</td>\n",
       "      <td>1.05195</td>\n",
       "      <td>1.05195</td>\n",
       "      <td>1.05183</td>\n",
       "      <td>1.05195</td>\n",
       "      <td>...</td>\n",
       "      <td>1.05149</td>\n",
       "      <td>1.05153</td>\n",
       "      <td>1.05085</td>\n",
       "      <td>1.05120</td>\n",
       "      <td>1.05105</td>\n",
       "      <td>-0.000609</td>\n",
       "      <td>-0.000242</td>\n",
       "      <td>1.05120</td>\n",
       "      <td>1.05128</td>\n",
       "      <td>1.05098</td>\n",
       "    </tr>\n",
       "    <tr>\n",
       "      <th>2017-01-02 08:35:00</th>\n",
       "      <td>1.05196</td>\n",
       "      <td>1.05196</td>\n",
       "      <td>1.05201</td>\n",
       "      <td>1.05195</td>\n",
       "      <td>1.05195</td>\n",
       "      <td>1.05195</td>\n",
       "      <td>1.05195</td>\n",
       "      <td>1.05183</td>\n",
       "      <td>1.05195</td>\n",
       "      <td>1.05193</td>\n",
       "      <td>...</td>\n",
       "      <td>1.05153</td>\n",
       "      <td>1.05085</td>\n",
       "      <td>1.05120</td>\n",
       "      <td>1.05105</td>\n",
       "      <td>1.05106</td>\n",
       "      <td>-0.000387</td>\n",
       "      <td>-0.000309</td>\n",
       "      <td>1.05121</td>\n",
       "      <td>1.05146</td>\n",
       "      <td>1.05082</td>\n",
       "    </tr>\n",
       "    <tr>\n",
       "      <th>2017-01-02 08:40:00</th>\n",
       "      <td>1.05196</td>\n",
       "      <td>1.05201</td>\n",
       "      <td>1.05195</td>\n",
       "      <td>1.05195</td>\n",
       "      <td>1.05195</td>\n",
       "      <td>1.05195</td>\n",
       "      <td>1.05183</td>\n",
       "      <td>1.05195</td>\n",
       "      <td>1.05193</td>\n",
       "      <td>1.05199</td>\n",
       "      <td>...</td>\n",
       "      <td>1.05085</td>\n",
       "      <td>1.05120</td>\n",
       "      <td>1.05105</td>\n",
       "      <td>1.05106</td>\n",
       "      <td>1.05135</td>\n",
       "      <td>-0.000067</td>\n",
       "      <td>-0.000477</td>\n",
       "      <td>1.05106</td>\n",
       "      <td>1.05144</td>\n",
       "      <td>1.05101</td>\n",
       "    </tr>\n",
       "  </tbody>\n",
       "</table>\n",
       "<p>5 rows × 105 columns</p>\n",
       "</div>"
      ],
      "text/plain": [
       "                           0        1        2        3        4        5  \\\n",
       "2017-01-02 08:20:00  1.05196  1.05201  1.05196  1.05196  1.05196  1.05201   \n",
       "2017-01-02 08:25:00  1.05201  1.05196  1.05196  1.05196  1.05201  1.05195   \n",
       "2017-01-02 08:30:00  1.05196  1.05196  1.05196  1.05201  1.05195  1.05195   \n",
       "2017-01-02 08:35:00  1.05196  1.05196  1.05201  1.05195  1.05195  1.05195   \n",
       "2017-01-02 08:40:00  1.05196  1.05201  1.05195  1.05195  1.05195  1.05195   \n",
       "\n",
       "                           6        7        8        9   ...          95  \\\n",
       "2017-01-02 08:20:00  1.05195  1.05195  1.05195  1.05195   ...     1.05138   \n",
       "2017-01-02 08:25:00  1.05195  1.05195  1.05195  1.05183   ...     1.05167   \n",
       "2017-01-02 08:30:00  1.05195  1.05195  1.05183  1.05195   ...     1.05149   \n",
       "2017-01-02 08:35:00  1.05195  1.05183  1.05195  1.05193   ...     1.05153   \n",
       "2017-01-02 08:40:00  1.05183  1.05195  1.05193  1.05199   ...     1.05085   \n",
       "\n",
       "                          96       97       98       99     PNL_0     PNL_1  \\\n",
       "2017-01-02 08:20:00  1.05167  1.05149  1.05153  1.05085 -0.000493 -0.000057   \n",
       "2017-01-02 08:25:00  1.05149  1.05153  1.05085  1.05120 -0.000102 -0.000293   \n",
       "2017-01-02 08:30:00  1.05153  1.05085  1.05120  1.05105 -0.000609 -0.000242   \n",
       "2017-01-02 08:35:00  1.05085  1.05120  1.05105  1.05106 -0.000387 -0.000309   \n",
       "2017-01-02 08:40:00  1.05120  1.05105  1.05106  1.05135 -0.000067 -0.000477   \n",
       "\n",
       "                        open     high      low  \n",
       "2017-01-02 08:20:00  1.05153  1.05153  1.05084  \n",
       "2017-01-02 08:25:00  1.05085  1.05138  1.05082  \n",
       "2017-01-02 08:30:00  1.05120  1.05128  1.05098  \n",
       "2017-01-02 08:35:00  1.05121  1.05146  1.05082  \n",
       "2017-01-02 08:40:00  1.05106  1.05144  1.05101  \n",
       "\n",
       "[5 rows x 105 columns]"
      ]
     },
     "execution_count": 40,
     "metadata": {},
     "output_type": "execute_result"
    }
   ],
   "source": [
    "X_train.head()"
   ]
  },
  {
   "cell_type": "code",
   "execution_count": 41,
   "metadata": {},
   "outputs": [
    {
     "name": "stdout",
     "output_type": "stream",
     "text": [
      "target 0:  11216\n",
      "target 1:  11480\n",
      "target 2:  3569\n",
      "target 3:  3325\n"
     ]
    }
   ],
   "source": [
    "print('target 0: ', sum(bt_train==0))\n",
    "print('target 1: ', sum(bt_train==1))\n",
    "print('target 2: ', sum(bt_train==2))\n",
    "print('target 3: ', sum(bt_train==3))"
   ]
  },
  {
   "cell_type": "code",
   "execution_count": 42,
   "metadata": {},
   "outputs": [],
   "source": [
    "from keras.models import Sequential\n",
    "from keras.utils import to_categorical\n",
    "from sklearn.preprocessing import MinMaxScaler\n",
    "from keras.layers import Dense, Dropout, Activation, LSTM, Embedding\n",
    "from keras.optimizers import RMSprop, SGD"
   ]
  },
  {
   "cell_type": "code",
   "execution_count": 43,
   "metadata": {},
   "outputs": [],
   "source": [
    "X_train_PNL_0 = X_train.PNL_0\n",
    "X_train_PNL_1 = X_train.PNL_1\n",
    "\n",
    "X_train = np.array(X_train[[col for col in X_train.columns if col!='PNL_0' and col!='PNL_1']])"
   ]
  },
  {
   "cell_type": "code",
   "execution_count": 12,
   "metadata": {},
   "outputs": [],
   "source": [
    "scaler = MinMaxScaler(feature_range=(0, 1))\n",
    "X_train = scaler.fit_transform(X_train)\n",
    "X_train = X_train.reshape(X_train.shape[0],1,X_train.shape[1])\n",
    "y_train = to_categorical(bt_train,num_classes=4)"
   ]
  },
  {
   "cell_type": "code",
   "execution_count": 44,
   "metadata": {
    "collapsed": true
   },
   "outputs": [],
   "source": [
    "y_train = to_categorical(bt_train,num_classes=4)"
   ]
  },
  {
   "cell_type": "code",
   "execution_count": 45,
   "metadata": {},
   "outputs": [
    {
     "data": {
      "text/plain": [
       "((29590, 103), (29590,))"
      ]
     },
     "execution_count": 45,
     "metadata": {},
     "output_type": "execute_result"
    }
   ],
   "source": [
    "X_train.shape, bt_train.shape"
   ]
  },
  {
   "cell_type": "code",
   "execution_count": 48,
   "metadata": {},
   "outputs": [],
   "source": [
    "model = Sequential()\n",
    "model.add(Embedding(X_train.shape[0],X_train.shape[1]))\n",
    "model.add(LSTM(16,input_shape=(X_train.shape[0],X_train.shape[1]),activation='tanh', return_sequences=True))\n",
    "model.add(Dropout(0.5))\n",
    "model.add(LSTM(32, activation='softmax'))\n",
    "model.add(Dropout(0.5))\n",
    "model.add(Dense(4, activation='softmax'))\n",
    "\n",
    "model.compile(loss='categorical_crossentropy', optimizer='rmsprop', metrics=['accuracy'])"
   ]
  },
  {
   "cell_type": "code",
   "execution_count": 49,
   "metadata": {},
   "outputs": [
    {
     "data": {
      "text/plain": [
       "(0.01, 0.012721505376344087, 0.01335478044926064, 0.01887072334316931)"
      ]
     },
     "execution_count": 49,
     "metadata": {},
     "output_type": "execute_result"
    }
   ],
   "source": [
    "(23662/23662)/100, (23662/18600)/100, (23662/17718)/100, (23662/12539)/100"
   ]
  },
  {
   "cell_type": "code",
   "execution_count": 50,
   "metadata": {},
   "outputs": [
    {
     "name": "stdout",
     "output_type": "stream",
     "text": [
      "[ 0.65954886  0.64438153  2.07270944  2.22481203]\n"
     ]
    }
   ],
   "source": [
    "from sklearn.utils import class_weight\n",
    "\n",
    "c_w = class_weight.compute_class_weight('balanced',np.unique(bt_train),bt_train)\n",
    "print(c_w)"
   ]
  },
  {
   "cell_type": "code",
   "execution_count": null,
   "metadata": {
    "scrolled": true
   },
   "outputs": [
    {
     "name": "stdout",
     "output_type": "stream",
     "text": [
      "Epoch 1/100\n",
      "29590/29590 [==============================] - 49s - loss: 1.3702 - acc: 0.3572    \n",
      "Epoch 2/100\n",
      "29590/29590 [==============================] - 48s - loss: 1.3202 - acc: 0.3807    \n",
      "Epoch 3/100\n",
      "29590/29590 [==============================] - 48s - loss: 1.2895 - acc: 0.3826    \n",
      "Epoch 4/100\n",
      "29590/29590 [==============================] - 48s - loss: 1.2750 - acc: 0.3864    \n",
      "Epoch 5/100\n",
      "29590/29590 [==============================] - 48s - loss: 1.2661 - acc: 0.3818    \n",
      "Epoch 6/100\n",
      "29590/29590 [==============================] - 48s - loss: 1.2563 - acc: 0.3862    \n",
      "Epoch 7/100\n",
      "29590/29590 [==============================] - 49s - loss: 1.2533 - acc: 0.3884    \n",
      "Epoch 8/100\n",
      "29590/29590 [==============================] - 48s - loss: 1.2478 - acc: 0.3873    \n",
      "Epoch 9/100\n",
      "29590/29590 [==============================] - 49s - loss: 1.2445 - acc: 0.3853    \n",
      "Epoch 10/100\n",
      "29590/29590 [==============================] - 49s - loss: 1.2417 - acc: 0.3849    \n",
      "Epoch 11/100\n",
      "29590/29590 [==============================] - 49s - loss: 1.2406 - acc: 0.3861    \n",
      "Epoch 12/100\n",
      "29590/29590 [==============================] - 48s - loss: 1.2395 - acc: 0.3862    \n",
      "Epoch 13/100\n",
      "29590/29590 [==============================] - 50s - loss: 1.2388 - acc: 0.3830    \n",
      "Epoch 14/100\n",
      "29590/29590 [==============================] - 49s - loss: 1.2380 - acc: 0.3826    \n",
      "Epoch 15/100\n",
      "29590/29590 [==============================] - 49s - loss: 1.2373 - acc: 0.3876    \n",
      "Epoch 16/100\n",
      "29590/29590 [==============================] - 49s - loss: 1.2382 - acc: 0.3872    \n",
      "Epoch 17/100\n",
      "29590/29590 [==============================] - 49s - loss: 1.2376 - acc: 0.3877    \n",
      "Epoch 18/100\n",
      "29590/29590 [==============================] - 48s - loss: 1.2371 - acc: 0.3812    \n",
      "Epoch 19/100\n",
      "29590/29590 [==============================] - 48s - loss: 1.2374 - acc: 0.3825    \n",
      "Epoch 20/100\n",
      "29590/29590 [==============================] - 49s - loss: 1.2374 - acc: 0.3858    \n",
      "Epoch 21/100\n",
      "29590/29590 [==============================] - 48s - loss: 1.2366 - acc: 0.3844    \n",
      "Epoch 22/100\n",
      "29590/29590 [==============================] - 49s - loss: 1.2366 - acc: 0.3882    \n",
      "Epoch 23/100\n",
      "29590/29590 [==============================] - 49s - loss: 1.2366 - acc: 0.3858    \n",
      "Epoch 24/100\n",
      "29590/29590 [==============================] - 49s - loss: 1.2369 - acc: 0.3860    \n",
      "Epoch 25/100\n",
      "29590/29590 [==============================] - 49s - loss: 1.2365 - acc: 0.3866    \n",
      "Epoch 26/100\n",
      "29590/29590 [==============================] - 48s - loss: 1.2369 - acc: 0.3876    \n",
      "Epoch 27/100\n",
      "29590/29590 [==============================] - 49s - loss: 1.2366 - acc: 0.3849    \n",
      "Epoch 28/100\n",
      "29590/29590 [==============================] - 49s - loss: 1.2366 - acc: 0.3904    \n",
      "Epoch 29/100\n",
      "29590/29590 [==============================] - 49s - loss: 1.2364 - acc: 0.3886    \n",
      "Epoch 30/100\n",
      "29590/29590 [==============================] - 49s - loss: 1.2364 - acc: 0.3857    \n",
      "Epoch 31/100\n",
      "29590/29590 [==============================] - 49s - loss: 1.2366 - acc: 0.3845    \n",
      "Epoch 32/100\n",
      "29590/29590 [==============================] - 49s - loss: 1.2368 - acc: 0.3883    \n",
      "Epoch 33/100\n",
      "29590/29590 [==============================] - 49s - loss: 1.2365 - acc: 0.3827    \n",
      "Epoch 34/100\n",
      "29590/29590 [==============================] - 49s - loss: 1.2364 - acc: 0.3871    \n",
      "Epoch 35/100\n",
      "29590/29590 [==============================] - 49s - loss: 1.2362 - acc: 0.3850    \n",
      "Epoch 36/100\n",
      "29590/29590 [==============================] - 49s - loss: 1.2364 - acc: 0.3895    \n",
      "Epoch 37/100\n",
      "29590/29590 [==============================] - 49s - loss: 1.2363 - acc: 0.3873    \n",
      "Epoch 38/100\n",
      "15000/29590 [==============>...............] - ETA: 25s - loss: 1.2366 - acc: 0.3851"
     ]
    }
   ],
   "source": [
    "#model.fit(X_train, y_train, epochs=50, batch_size=1000)\n",
    "#model.fit(X_train, y_train, epochs=100, batch_size=500,class_weight={0:1, 1:1, 2:5, 3:5})\n",
    "model.fit(X_train, y_train, epochs=100, batch_size=1000, class_weight=c_w)"
   ]
  },
  {
   "cell_type": "code",
   "execution_count": 105,
   "metadata": {},
   "outputs": [],
   "source": [
    "data_test = pd.read_csv('./data_guane/EUR-USD_procesados_OHLC_1T_2017-6.csv',index_col=0,\n",
    "                         parse_dates=True, infer_datetime_format=True)"
   ]
  },
  {
   "cell_type": "code",
   "execution_count": 106,
   "metadata": {},
   "outputs": [
    {
     "data": {
      "text/html": [
       "<div>\n",
       "<style>\n",
       "    .dataframe thead tr:only-child th {\n",
       "        text-align: right;\n",
       "    }\n",
       "\n",
       "    .dataframe thead th {\n",
       "        text-align: left;\n",
       "    }\n",
       "\n",
       "    .dataframe tbody tr th {\n",
       "        vertical-align: top;\n",
       "    }\n",
       "</style>\n",
       "<table border=\"1\" class=\"dataframe\">\n",
       "  <thead>\n",
       "    <tr style=\"text-align: right;\">\n",
       "      <th></th>\n",
       "      <th>open</th>\n",
       "      <th>high</th>\n",
       "      <th>low</th>\n",
       "      <th>bid</th>\n",
       "      <th>ask</th>\n",
       "    </tr>\n",
       "  </thead>\n",
       "  <tbody>\n",
       "    <tr>\n",
       "      <th>2017-06-01 00:01:00</th>\n",
       "      <td>1.12390</td>\n",
       "      <td>1.12393</td>\n",
       "      <td>1.12376</td>\n",
       "      <td>1.12382</td>\n",
       "      <td>1.123867</td>\n",
       "    </tr>\n",
       "    <tr>\n",
       "      <th>2017-06-01 00:02:00</th>\n",
       "      <td>1.12382</td>\n",
       "      <td>1.12383</td>\n",
       "      <td>1.12371</td>\n",
       "      <td>1.12381</td>\n",
       "      <td>1.123807</td>\n",
       "    </tr>\n",
       "    <tr>\n",
       "      <th>2017-06-01 00:03:00</th>\n",
       "      <td>1.12381</td>\n",
       "      <td>1.12381</td>\n",
       "      <td>1.12366</td>\n",
       "      <td>1.12377</td>\n",
       "      <td>1.123775</td>\n",
       "    </tr>\n",
       "    <tr>\n",
       "      <th>2017-06-01 00:04:00</th>\n",
       "      <td>1.12377</td>\n",
       "      <td>1.12382</td>\n",
       "      <td>1.12365</td>\n",
       "      <td>1.12366</td>\n",
       "      <td>1.123780</td>\n",
       "    </tr>\n",
       "    <tr>\n",
       "      <th>2017-06-01 00:05:00</th>\n",
       "      <td>1.12366</td>\n",
       "      <td>1.12377</td>\n",
       "      <td>1.12364</td>\n",
       "      <td>1.12376</td>\n",
       "      <td>1.123726</td>\n",
       "    </tr>\n",
       "  </tbody>\n",
       "</table>\n",
       "</div>"
      ],
      "text/plain": [
       "                        open     high      low      bid       ask\n",
       "2017-06-01 00:01:00  1.12390  1.12393  1.12376  1.12382  1.123867\n",
       "2017-06-01 00:02:00  1.12382  1.12383  1.12371  1.12381  1.123807\n",
       "2017-06-01 00:03:00  1.12381  1.12381  1.12366  1.12377  1.123775\n",
       "2017-06-01 00:04:00  1.12377  1.12382  1.12365  1.12366  1.123780\n",
       "2017-06-01 00:05:00  1.12366  1.12377  1.12364  1.12376  1.123726"
      ]
     },
     "execution_count": 106,
     "metadata": {},
     "output_type": "execute_result"
    }
   ],
   "source": [
    "data_test.head()"
   ]
  },
  {
   "cell_type": "code",
   "execution_count": 107,
   "metadata": {
    "collapsed": true
   },
   "outputs": [],
   "source": [
    "window = 100\n",
    "X_test, y_test_reg, bt_test = EU.build_dataset(data_test, window=window, bid_col='bid', binary_target=True, PNL=True)"
   ]
  },
  {
   "cell_type": "code",
   "execution_count": 108,
   "metadata": {},
   "outputs": [
    {
     "name": "stdout",
     "output_type": "stream",
     "text": [
      "target 0:  7469\n",
      "target 1:  9312\n",
      "target 2:  7025\n",
      "target 3:  5006\n"
     ]
    }
   ],
   "source": [
    "print('target 0: ', sum(bt_test==0))\n",
    "print('target 1: ', sum(bt_test==1))\n",
    "print('target 2: ', sum(bt_test==2))\n",
    "print('target 3: ', sum(bt_test==3))"
   ]
  },
  {
   "cell_type": "code",
   "execution_count": 109,
   "metadata": {},
   "outputs": [
    {
     "data": {
      "text/plain": [
       "((28812, 1, 103), (28812,))"
      ]
     },
     "execution_count": 109,
     "metadata": {},
     "output_type": "execute_result"
    }
   ],
   "source": [
    "X_test['open'] = data_test.filter(X_test.index,axis=0).open\n",
    "X_test['high'] = data_test.filter(X_test.index,axis=0).high\n",
    "X_test['low'] = data_test.filter(X_test.index,axis=0).low\n",
    "\n",
    "X_test_PNL_0 = X_test.PNL_0\n",
    "X_test_PNL_1 = X_test.PNL_1\n",
    "\n",
    "X_test = np.array(X_test[[col for col in X_test.columns if col!='PNL_0' and col!='PNL_1']])\n",
    "\n",
    "scaler = MinMaxScaler(feature_range=(0, 1))\n",
    "X_test = scaler.fit_transform(X_test)\n",
    "X_test = X_test.reshape(X_test.shape[0],1,X_test.shape[1])\n",
    "y_test = to_categorical(bt_test,num_classes=4)\n",
    "\n",
    "X_test.shape, bt_test.shape"
   ]
  },
  {
   "cell_type": "code",
   "execution_count": 112,
   "metadata": {},
   "outputs": [
    {
     "name": "stdout",
     "output_type": "stream",
     "text": [
      "28160/28812 [============================>.] - ETA: 0s"
     ]
    },
    {
     "data": {
      "text/plain": [
       "array([1])"
      ]
     },
     "execution_count": 112,
     "metadata": {},
     "output_type": "execute_result"
    }
   ],
   "source": [
    "predict = model.predict_classes(X_test)\n",
    "np.unique(predict)"
   ]
  },
  {
   "cell_type": "code",
   "execution_count": 113,
   "metadata": {},
   "outputs": [
    {
     "name": "stdout",
     "output_type": "stream",
     "text": [
      "predict 0:  0\n",
      "predict 1:  28812\n",
      "predict 2:  0\n",
      "predict 3:  0\n"
     ]
    }
   ],
   "source": [
    "print('predict 0: ', sum(predict==0))\n",
    "print('predict 1: ', sum(predict==1))\n",
    "print('predict 2: ', sum(predict==2))\n",
    "print('predict 3: ', sum(predict==3))"
   ]
  },
  {
   "cell_type": "code",
   "execution_count": 114,
   "metadata": {},
   "outputs": [
    {
     "name": "stdout",
     "output_type": "stream",
     "text": [
      "PNL final en train:  -0.99906622587\n"
     ]
    }
   ],
   "source": [
    "PNL = sum((predict==1)*X_test_PNL_1 + (predict==0)*X_test_PNL_0)\n",
    "print('PNL final en train: ', PNL)"
   ]
  },
  {
   "cell_type": "code",
   "execution_count": null,
   "metadata": {
    "collapsed": true
   },
   "outputs": [],
   "source": []
  },
  {
   "cell_type": "code",
   "execution_count": 26,
   "metadata": {},
   "outputs": [
    {
     "name": "stdout",
     "output_type": "stream",
     "text": [
      "buy mes:  28328\n",
      "sell mes:  484\n",
      "longest buy:  10372\n",
      "longest sell:  88\n",
      "correct target 1:  0.316916562543\n",
      "correct target 0:  0.00607385811467\n",
      "correct target 2:  0.0\n",
      "correct target 3:  0.0\n",
      "percision total:  0.322990420658\n"
     ]
    }
   ],
   "source": [
    "l_zero, l_one = [],[]\n",
    "count_ones, count_zeros = 0,0\n",
    "for i in range(len(predict)):\n",
    "    if predict[i]==1:\n",
    "        l_zero.append(count_zeros)\n",
    "        count_zeros = 0\n",
    "        count_ones += 1\n",
    "    else:\n",
    "        l_one.append(count_ones)\n",
    "        count_zeros += 1\n",
    "        count_ones = 0\n",
    "    \n",
    "    if i==len(predict)-1:\n",
    "        l_one.append(count_ones)\n",
    "        l_zero.append(count_zeros)\n",
    "\n",
    "print('buy mes: ', sum(predict==1)+sum(predict==3))\n",
    "print('sell mes: ',sum(predict==0)+sum(predict==2))\n",
    "print('longest buy: ', max(l_one))\n",
    "print('longest sell: ', max(l_zero))\n",
    "print('correct target 1: ', np.mean((predict==1)*(bt_test==1)))\n",
    "print('correct target 0: ', np.mean((predict==0)*(bt_test==0)))\n",
    "print('correct target 2: ', np.mean((predict==2)*(bt_test==2)))\n",
    "print('correct target 3: ', np.mean((predict==3)*(bt_test==3)))\n",
    "print('percision total: ', np.mean(predict==bt_test))"
   ]
  },
  {
   "cell_type": "code",
   "execution_count": 80,
   "metadata": {},
   "outputs": [
    {
     "data": {
      "text/plain": [
       "-0.026"
      ]
     },
     "execution_count": 80,
     "metadata": {},
     "output_type": "execute_result"
    }
   ],
   "source": [
    "-0.0013*20"
   ]
  },
  {
   "cell_type": "code",
   "execution_count": null,
   "metadata": {
    "collapsed": true
   },
   "outputs": [],
   "source": []
  },
  {
   "cell_type": "code",
   "execution_count": null,
   "metadata": {
    "collapsed": true
   },
   "outputs": [],
   "source": []
  },
  {
   "cell_type": "code",
   "execution_count": 250,
   "metadata": {},
   "outputs": [
    {
     "data": {
      "text/plain": [
       "907"
      ]
     },
     "execution_count": 250,
     "metadata": {},
     "output_type": "execute_result"
    }
   ],
   "source": [
    "sum(predict==1)"
   ]
  },
  {
   "cell_type": "code",
   "execution_count": null,
   "metadata": {
    "collapsed": true
   },
   "outputs": [],
   "source": []
  }
 ],
 "metadata": {
  "kernelspec": {
   "display_name": "Python 3",
   "language": "python",
   "name": "python3"
  },
  "language_info": {
   "codemirror_mode": {
    "name": "ipython",
    "version": 3
   },
   "file_extension": ".py",
   "mimetype": "text/x-python",
   "name": "python",
   "nbconvert_exporter": "python",
   "pygments_lexer": "ipython3",
   "version": "3.6.2"
  }
 },
 "nbformat": 4,
 "nbformat_minor": 2
}
