{
 "cells": [
  {
   "cell_type": "code",
   "execution_count": 1,
   "metadata": {
    "collapsed": true
   },
   "outputs": [],
   "source": [
    "import pandas as pd\n",
    "import numpy as np"
   ]
  },
  {
   "cell_type": "code",
   "execution_count": 2,
   "metadata": {
    "collapsed": true
   },
   "outputs": [],
   "source": [
    "data_train = pd.read_csv('./data_guane/EUR-USD_procesados_OHLC_5T_2017-6.csv',index_col=0,\n",
    "                         parse_dates=True, infer_datetime_format=True)"
   ]
  },
  {
   "cell_type": "code",
   "execution_count": 3,
   "metadata": {},
   "outputs": [
    {
     "name": "stdout",
     "output_type": "stream",
     "text": [
      "(6296, 5)\n"
     ]
    },
    {
     "data": {
      "text/html": [
       "<div>\n",
       "<style>\n",
       "    .dataframe thead tr:only-child th {\n",
       "        text-align: right;\n",
       "    }\n",
       "\n",
       "    .dataframe thead th {\n",
       "        text-align: left;\n",
       "    }\n",
       "\n",
       "    .dataframe tbody tr th {\n",
       "        vertical-align: top;\n",
       "    }\n",
       "</style>\n",
       "<table border=\"1\" class=\"dataframe\">\n",
       "  <thead>\n",
       "    <tr style=\"text-align: right;\">\n",
       "      <th></th>\n",
       "      <th>open</th>\n",
       "      <th>high</th>\n",
       "      <th>low</th>\n",
       "      <th>bid</th>\n",
       "      <th>ask</th>\n",
       "    </tr>\n",
       "  </thead>\n",
       "  <tbody>\n",
       "    <tr>\n",
       "      <th>2017-06-01 00:05:00</th>\n",
       "      <td>1.12390</td>\n",
       "      <td>1.12393</td>\n",
       "      <td>1.12364</td>\n",
       "      <td>1.12376</td>\n",
       "      <td>1.123796</td>\n",
       "    </tr>\n",
       "    <tr>\n",
       "      <th>2017-06-01 00:10:00</th>\n",
       "      <td>1.12376</td>\n",
       "      <td>1.12398</td>\n",
       "      <td>1.12366</td>\n",
       "      <td>1.12394</td>\n",
       "      <td>1.123833</td>\n",
       "    </tr>\n",
       "    <tr>\n",
       "      <th>2017-06-01 00:15:00</th>\n",
       "      <td>1.12393</td>\n",
       "      <td>1.12423</td>\n",
       "      <td>1.12392</td>\n",
       "      <td>1.12397</td>\n",
       "      <td>1.124104</td>\n",
       "    </tr>\n",
       "    <tr>\n",
       "      <th>2017-06-01 00:20:00</th>\n",
       "      <td>1.12397</td>\n",
       "      <td>1.12400</td>\n",
       "      <td>1.12374</td>\n",
       "      <td>1.12381</td>\n",
       "      <td>1.123908</td>\n",
       "    </tr>\n",
       "    <tr>\n",
       "      <th>2017-06-01 00:25:00</th>\n",
       "      <td>1.12381</td>\n",
       "      <td>1.12381</td>\n",
       "      <td>1.12334</td>\n",
       "      <td>1.12339</td>\n",
       "      <td>1.123551</td>\n",
       "    </tr>\n",
       "  </tbody>\n",
       "</table>\n",
       "</div>"
      ],
      "text/plain": [
       "                        open     high      low      bid       ask\n",
       "2017-06-01 00:05:00  1.12390  1.12393  1.12364  1.12376  1.123796\n",
       "2017-06-01 00:10:00  1.12376  1.12398  1.12366  1.12394  1.123833\n",
       "2017-06-01 00:15:00  1.12393  1.12423  1.12392  1.12397  1.124104\n",
       "2017-06-01 00:20:00  1.12397  1.12400  1.12374  1.12381  1.123908\n",
       "2017-06-01 00:25:00  1.12381  1.12381  1.12334  1.12339  1.123551"
      ]
     },
     "execution_count": 3,
     "metadata": {},
     "output_type": "execute_result"
    }
   ],
   "source": [
    "print(data_train.shape)\n",
    "data_train.head()"
   ]
  },
  {
   "cell_type": "code",
   "execution_count": 4,
   "metadata": {
    "collapsed": true
   },
   "outputs": [],
   "source": [
    "%run ../../code/EUtilities.py\n",
    "EU = EUtilities()"
   ]
  },
  {
   "cell_type": "code",
   "execution_count": 5,
   "metadata": {
    "collapsed": true
   },
   "outputs": [],
   "source": [
    "window = 7\n",
    "X, y_reg, bt = EU.build_dataset(data_train, window=window, bid_col='bid', binary_target=True, PNL=True)"
   ]
  },
  {
   "cell_type": "code",
   "execution_count": 6,
   "metadata": {},
   "outputs": [
    {
     "data": {
      "text/html": [
       "<div>\n",
       "<style>\n",
       "    .dataframe thead tr:only-child th {\n",
       "        text-align: right;\n",
       "    }\n",
       "\n",
       "    .dataframe thead th {\n",
       "        text-align: left;\n",
       "    }\n",
       "\n",
       "    .dataframe tbody tr th {\n",
       "        vertical-align: top;\n",
       "    }\n",
       "</style>\n",
       "<table border=\"1\" class=\"dataframe\">\n",
       "  <thead>\n",
       "    <tr style=\"text-align: right;\">\n",
       "      <th></th>\n",
       "      <th>0</th>\n",
       "      <th>1</th>\n",
       "      <th>2</th>\n",
       "      <th>3</th>\n",
       "      <th>4</th>\n",
       "      <th>5</th>\n",
       "      <th>6</th>\n",
       "      <th>PNL_0</th>\n",
       "      <th>PNL_1</th>\n",
       "    </tr>\n",
       "  </thead>\n",
       "  <tbody>\n",
       "    <tr>\n",
       "      <th>2017-06-01 00:35:00</th>\n",
       "      <td>1.12376</td>\n",
       "      <td>1.12394</td>\n",
       "      <td>1.12397</td>\n",
       "      <td>1.12381</td>\n",
       "      <td>1.12339</td>\n",
       "      <td>1.12362</td>\n",
       "      <td>1.12350</td>\n",
       "      <td>-0.000025</td>\n",
       "      <td>-0.000083</td>\n",
       "    </tr>\n",
       "    <tr>\n",
       "      <th>2017-06-01 00:40:00</th>\n",
       "      <td>1.12394</td>\n",
       "      <td>1.12397</td>\n",
       "      <td>1.12381</td>\n",
       "      <td>1.12339</td>\n",
       "      <td>1.12362</td>\n",
       "      <td>1.12350</td>\n",
       "      <td>1.12355</td>\n",
       "      <td>-0.000051</td>\n",
       "      <td>-0.000115</td>\n",
       "    </tr>\n",
       "    <tr>\n",
       "      <th>2017-06-01 00:45:00</th>\n",
       "      <td>1.12397</td>\n",
       "      <td>1.12381</td>\n",
       "      <td>1.12339</td>\n",
       "      <td>1.12362</td>\n",
       "      <td>1.12350</td>\n",
       "      <td>1.12355</td>\n",
       "      <td>1.12341</td>\n",
       "      <td>-0.000030</td>\n",
       "      <td>-0.000251</td>\n",
       "    </tr>\n",
       "    <tr>\n",
       "      <th>2017-06-01 00:50:00</th>\n",
       "      <td>1.12381</td>\n",
       "      <td>1.12339</td>\n",
       "      <td>1.12362</td>\n",
       "      <td>1.12350</td>\n",
       "      <td>1.12355</td>\n",
       "      <td>1.12341</td>\n",
       "      <td>1.12335</td>\n",
       "      <td>-0.000117</td>\n",
       "      <td>0.000010</td>\n",
       "    </tr>\n",
       "    <tr>\n",
       "      <th>2017-06-01 00:55:00</th>\n",
       "      <td>1.12339</td>\n",
       "      <td>1.12362</td>\n",
       "      <td>1.12350</td>\n",
       "      <td>1.12355</td>\n",
       "      <td>1.12341</td>\n",
       "      <td>1.12335</td>\n",
       "      <td>1.12345</td>\n",
       "      <td>-0.000051</td>\n",
       "      <td>-0.000027</td>\n",
       "    </tr>\n",
       "  </tbody>\n",
       "</table>\n",
       "</div>"
      ],
      "text/plain": [
       "                           0        1        2        3        4        5  \\\n",
       "2017-06-01 00:35:00  1.12376  1.12394  1.12397  1.12381  1.12339  1.12362   \n",
       "2017-06-01 00:40:00  1.12394  1.12397  1.12381  1.12339  1.12362  1.12350   \n",
       "2017-06-01 00:45:00  1.12397  1.12381  1.12339  1.12362  1.12350  1.12355   \n",
       "2017-06-01 00:50:00  1.12381  1.12339  1.12362  1.12350  1.12355  1.12341   \n",
       "2017-06-01 00:55:00  1.12339  1.12362  1.12350  1.12355  1.12341  1.12335   \n",
       "\n",
       "                           6     PNL_0     PNL_1  \n",
       "2017-06-01 00:35:00  1.12350 -0.000025 -0.000083  \n",
       "2017-06-01 00:40:00  1.12355 -0.000051 -0.000115  \n",
       "2017-06-01 00:45:00  1.12341 -0.000030 -0.000251  \n",
       "2017-06-01 00:50:00  1.12335 -0.000117  0.000010  \n",
       "2017-06-01 00:55:00  1.12345 -0.000051 -0.000027  "
      ]
     },
     "execution_count": 6,
     "metadata": {},
     "output_type": "execute_result"
    }
   ],
   "source": [
    "X.head()"
   ]
  },
  {
   "cell_type": "code",
   "execution_count": 7,
   "metadata": {
    "collapsed": true
   },
   "outputs": [],
   "source": [
    "X['open'] = data_train.filter(X.index,axis=0).open\n",
    "X['high'] = data_train.filter(X.index,axis=0).high\n",
    "X['low'] = data_train.filter(X.index,axis=0).low"
   ]
  },
  {
   "cell_type": "code",
   "execution_count": 8,
   "metadata": {},
   "outputs": [
    {
     "data": {
      "text/html": [
       "<div>\n",
       "<style>\n",
       "    .dataframe thead tr:only-child th {\n",
       "        text-align: right;\n",
       "    }\n",
       "\n",
       "    .dataframe thead th {\n",
       "        text-align: left;\n",
       "    }\n",
       "\n",
       "    .dataframe tbody tr th {\n",
       "        vertical-align: top;\n",
       "    }\n",
       "</style>\n",
       "<table border=\"1\" class=\"dataframe\">\n",
       "  <thead>\n",
       "    <tr style=\"text-align: right;\">\n",
       "      <th></th>\n",
       "      <th>0</th>\n",
       "      <th>1</th>\n",
       "      <th>2</th>\n",
       "      <th>3</th>\n",
       "      <th>4</th>\n",
       "      <th>5</th>\n",
       "      <th>6</th>\n",
       "      <th>PNL_0</th>\n",
       "      <th>PNL_1</th>\n",
       "      <th>open</th>\n",
       "      <th>high</th>\n",
       "      <th>low</th>\n",
       "    </tr>\n",
       "  </thead>\n",
       "  <tbody>\n",
       "    <tr>\n",
       "      <th>2017-06-01 00:35:00</th>\n",
       "      <td>1.12376</td>\n",
       "      <td>1.12394</td>\n",
       "      <td>1.12397</td>\n",
       "      <td>1.12381</td>\n",
       "      <td>1.12339</td>\n",
       "      <td>1.12362</td>\n",
       "      <td>1.12350</td>\n",
       "      <td>-0.000025</td>\n",
       "      <td>-0.000083</td>\n",
       "      <td>1.12362</td>\n",
       "      <td>1.12367</td>\n",
       "      <td>1.12349</td>\n",
       "    </tr>\n",
       "    <tr>\n",
       "      <th>2017-06-01 00:40:00</th>\n",
       "      <td>1.12394</td>\n",
       "      <td>1.12397</td>\n",
       "      <td>1.12381</td>\n",
       "      <td>1.12339</td>\n",
       "      <td>1.12362</td>\n",
       "      <td>1.12350</td>\n",
       "      <td>1.12355</td>\n",
       "      <td>-0.000051</td>\n",
       "      <td>-0.000115</td>\n",
       "      <td>1.12350</td>\n",
       "      <td>1.12356</td>\n",
       "      <td>1.12344</td>\n",
       "    </tr>\n",
       "    <tr>\n",
       "      <th>2017-06-01 00:45:00</th>\n",
       "      <td>1.12397</td>\n",
       "      <td>1.12381</td>\n",
       "      <td>1.12339</td>\n",
       "      <td>1.12362</td>\n",
       "      <td>1.12350</td>\n",
       "      <td>1.12355</td>\n",
       "      <td>1.12341</td>\n",
       "      <td>-0.000030</td>\n",
       "      <td>-0.000251</td>\n",
       "      <td>1.12355</td>\n",
       "      <td>1.12372</td>\n",
       "      <td>1.12340</td>\n",
       "    </tr>\n",
       "    <tr>\n",
       "      <th>2017-06-01 00:50:00</th>\n",
       "      <td>1.12381</td>\n",
       "      <td>1.12339</td>\n",
       "      <td>1.12362</td>\n",
       "      <td>1.12350</td>\n",
       "      <td>1.12355</td>\n",
       "      <td>1.12341</td>\n",
       "      <td>1.12335</td>\n",
       "      <td>-0.000117</td>\n",
       "      <td>0.000010</td>\n",
       "      <td>1.12341</td>\n",
       "      <td>1.12347</td>\n",
       "      <td>1.12333</td>\n",
       "    </tr>\n",
       "    <tr>\n",
       "      <th>2017-06-01 00:55:00</th>\n",
       "      <td>1.12339</td>\n",
       "      <td>1.12362</td>\n",
       "      <td>1.12350</td>\n",
       "      <td>1.12355</td>\n",
       "      <td>1.12341</td>\n",
       "      <td>1.12335</td>\n",
       "      <td>1.12345</td>\n",
       "      <td>-0.000051</td>\n",
       "      <td>-0.000027</td>\n",
       "      <td>1.12335</td>\n",
       "      <td>1.12355</td>\n",
       "      <td>1.12334</td>\n",
       "    </tr>\n",
       "  </tbody>\n",
       "</table>\n",
       "</div>"
      ],
      "text/plain": [
       "                           0        1        2        3        4        5  \\\n",
       "2017-06-01 00:35:00  1.12376  1.12394  1.12397  1.12381  1.12339  1.12362   \n",
       "2017-06-01 00:40:00  1.12394  1.12397  1.12381  1.12339  1.12362  1.12350   \n",
       "2017-06-01 00:45:00  1.12397  1.12381  1.12339  1.12362  1.12350  1.12355   \n",
       "2017-06-01 00:50:00  1.12381  1.12339  1.12362  1.12350  1.12355  1.12341   \n",
       "2017-06-01 00:55:00  1.12339  1.12362  1.12350  1.12355  1.12341  1.12335   \n",
       "\n",
       "                           6     PNL_0     PNL_1     open     high      low  \n",
       "2017-06-01 00:35:00  1.12350 -0.000025 -0.000083  1.12362  1.12367  1.12349  \n",
       "2017-06-01 00:40:00  1.12355 -0.000051 -0.000115  1.12350  1.12356  1.12344  \n",
       "2017-06-01 00:45:00  1.12341 -0.000030 -0.000251  1.12355  1.12372  1.12340  \n",
       "2017-06-01 00:50:00  1.12335 -0.000117  0.000010  1.12341  1.12347  1.12333  \n",
       "2017-06-01 00:55:00  1.12345 -0.000051 -0.000027  1.12335  1.12355  1.12334  "
      ]
     },
     "execution_count": 8,
     "metadata": {},
     "output_type": "execute_result"
    }
   ],
   "source": [
    "X.head()"
   ]
  },
  {
   "cell_type": "code",
   "execution_count": 9,
   "metadata": {},
   "outputs": [
    {
     "name": "stdout",
     "output_type": "stream",
     "text": [
      "target 0:  2001\n",
      "target 1:  2288\n",
      "target 2:  993\n",
      "target 3:  819\n"
     ]
    }
   ],
   "source": [
    "print('target 0: ', sum(bt==0))\n",
    "print('target 1: ', sum(bt==1))\n",
    "print('target 2: ', sum(bt==2))\n",
    "print('target 3: ', sum(bt==3))"
   ]
  },
  {
   "cell_type": "code",
   "execution_count": 10,
   "metadata": {},
   "outputs": [
    {
     "name": "stdout",
     "output_type": "stream",
     "text": [
      "train:  0 832 test:  833 1113\n",
      "train:  272 1113 test:  1114 1392\n",
      "train:  516 1392 test:  1393 1675\n",
      "train:  550 1675 test:  1676 1921\n",
      "train:  833 1921 test:  1922 1955\n",
      "train:  1114 1955 test:  1956 2235\n",
      "train:  1393 2235 test:  2236 2513\n",
      "train:  1676 2513 test:  2514 2789\n",
      "train:  1922 2789 test:  2790 3070\n",
      "train:  1956 3070 test:  3071 3314\n",
      "train:  2236 3314 test:  3315 3347\n",
      "train:  2514 3347 test:  3348 3625\n",
      "train:  2790 3625 test:  3626 3904\n",
      "train:  3071 3904 test:  3905 4181\n",
      "train:  3315 4181 test:  4182 4453\n",
      "train:  3348 4453 test:  4454 4699\n",
      "train:  3626 4699 test:  4700 4732\n",
      "train:  3905 4732 test:  4733 5009\n",
      "train:  4182 5009 test:  5010 5287\n",
      "train:  4454 5287 test:  5288 5571\n",
      "train:  4700 5571 test:  5572 5854\n",
      "train:  4733 5854 test:  5855 6100\n"
     ]
    }
   ],
   "source": [
    "for i in EU.v_split(X,4,1,1):\n",
    "    print('train: ',i[0][0],i[0][-1],'test: ', i[1][0],i[1][-1])"
   ]
  },
  {
   "cell_type": "code",
   "execution_count": 11,
   "metadata": {},
   "outputs": [
    {
     "name": "stderr",
     "output_type": "stream",
     "text": [
      "Using TensorFlow backend.\n"
     ]
    }
   ],
   "source": [
    "from keras.models import Sequential\n",
    "from keras.utils import to_categorical\n",
    "from sklearn.preprocessing import MinMaxScaler\n",
    "from keras.layers import Dense, Dropout, Activation, LSTM, Embedding\n",
    "from keras.optimizers import RMSprop, SGD"
   ]
  },
  {
   "cell_type": "code",
   "execution_count": 12,
   "metadata": {},
   "outputs": [],
   "source": [
    "X_test_PNL_0 = X.PNL_0[833:1113]\n",
    "X_test_PNL_1 = X.PNL_1[833:1113]"
   ]
  },
  {
   "cell_type": "code",
   "execution_count": 13,
   "metadata": {},
   "outputs": [],
   "source": [
    "X_train = np.array(X[[col for col in X.columns if col!='PNL_0' and col!='PNL_1']])[:832]"
   ]
  },
  {
   "cell_type": "code",
   "execution_count": 14,
   "metadata": {},
   "outputs": [
    {
     "data": {
      "text/plain": [
       "(832, 10)"
      ]
     },
     "execution_count": 14,
     "metadata": {},
     "output_type": "execute_result"
    }
   ],
   "source": [
    "X_train.shape"
   ]
  },
  {
   "cell_type": "code",
   "execution_count": 15,
   "metadata": {},
   "outputs": [],
   "source": [
    "scaler = MinMaxScaler(feature_range=(0, 1))\n",
    "X_train = scaler.fit_transform(X_train)\n",
    "X_train = X_train.reshape(X_train.shape[0],1,X_train.shape[1])\n",
    "y_train = to_categorical(bt[:832],num_classes=4)"
   ]
  },
  {
   "cell_type": "code",
   "execution_count": 16,
   "metadata": {},
   "outputs": [
    {
     "data": {
      "text/plain": [
       "((832, 1, 10), (832, 4))"
      ]
     },
     "execution_count": 16,
     "metadata": {},
     "output_type": "execute_result"
    }
   ],
   "source": [
    "X_train.shape, y_train.shape"
   ]
  },
  {
   "cell_type": "markdown",
   "metadata": {},
   "source": [
    "### red neuronal recurrente\n",
    "para empezar probaremos unidades LSTM solo con cuatro días de entrenamiento y probando al quinto día"
   ]
  },
  {
   "cell_type": "code",
   "execution_count": 102,
   "metadata": {
    "collapsed": true
   },
   "outputs": [],
   "source": [
    "model = Sequential()\n",
    "\n",
    "model.add(LSTM(32,input_shape=(X_train.shape[1],X_train.shape[2]),activation='tanh', return_sequences=True))\n",
    "model.add(Dropout(0.5))\n",
    "model.add(LSTM(64, activation='softmax'))\n",
    "model.add(Dropout(0.5))\n",
    "model.add(Dense(10))\n",
    "model.add(Dense(4, activation='softmax'))\n",
    "\n",
    "model.compile(loss='categorical_crossentropy', optimizer='rmsprop', metrics=['accuracy'])"
   ]
  },
  {
   "cell_type": "code",
   "execution_count": 103,
   "metadata": {},
   "outputs": [],
   "source": [
    "def compute_class_weigth(y):\n",
    "    u = np.unique(y)\n",
    "    r = {}\n",
    "    for i in range(len(u)):\n",
    "        r[i] = sum(u[0]==y)/sum(u[i]==y)\n",
    "        \n",
    "    return r"
   ]
  },
  {
   "cell_type": "code",
   "execution_count": 104,
   "metadata": {},
   "outputs": [
    {
     "name": "stdout",
     "output_type": "stream",
     "text": [
      "label 0:  280\n",
      "label 1:  305\n",
      "label 2:  139\n",
      "label 3:  108\n"
     ]
    }
   ],
   "source": [
    "print('label 0: ', sum(bt[:832]==0))\n",
    "print('label 1: ', sum(bt[:832]==1))\n",
    "print('label 2: ', sum(bt[:832]==2))\n",
    "print('label 3: ', sum(bt[:832]==3))"
   ]
  },
  {
   "cell_type": "code",
   "execution_count": 105,
   "metadata": {},
   "outputs": [
    {
     "data": {
      "text/plain": [
       "{0: 1.0, 1: 0.91803278688524592, 2: 2.014388489208633, 3: 2.5925925925925926}"
      ]
     },
     "execution_count": 105,
     "metadata": {},
     "output_type": "execute_result"
    }
   ],
   "source": [
    "cw = compute_class_weigth(bt[:832])\n",
    "cw"
   ]
  },
  {
   "cell_type": "code",
   "execution_count": 117,
   "metadata": {
    "scrolled": true
   },
   "outputs": [
    {
     "data": {
      "text/plain": [
       "<keras.callbacks.History at 0x7f42ab7b77b8>"
      ]
     },
     "execution_count": 117,
     "metadata": {},
     "output_type": "execute_result"
    }
   ],
   "source": [
    "#model.fit(X_train, y_train, epochs=50, batch_size=1000)\n",
    "#model.fit(X_train, y_train, epochs=2000, batch_size=200,class_weight={0:1, 1:0.8053, 2:2.275, 3:2.5277})\n",
    "model.fit(X_train, y_train, epochs=5000, batch_size=200,class_weight=cw)\n",
    "#model.fit(X_train, y_train, epochs=2000, batch_size=200,class_weight=cw)"
   ]
  },
  {
   "cell_type": "code",
   "execution_count": 107,
   "metadata": {},
   "outputs": [],
   "source": [
    "X_test = np.array(X[[col for col in X.columns if col!='PNL_0' and col!='PNL_1']])[833:1113]"
   ]
  },
  {
   "cell_type": "code",
   "execution_count": 108,
   "metadata": {
    "collapsed": true
   },
   "outputs": [],
   "source": [
    "scaler = MinMaxScaler(feature_range=(0, 1))\n",
    "X_test = scaler.fit_transform(X_test)\n",
    "X_test = X_test.reshape(X_test.shape[0],1,X_test.shape[1])\n",
    "y_test = to_categorical(bt[833:1113],num_classes=4)"
   ]
  },
  {
   "cell_type": "code",
   "execution_count": 109,
   "metadata": {},
   "outputs": [
    {
     "name": "stdout",
     "output_type": "stream",
     "text": [
      "\r",
      " 32/280 [==>...........................] - ETA: 2s"
     ]
    },
    {
     "data": {
      "text/plain": [
       "array([0, 1, 2, 3])"
      ]
     },
     "execution_count": 109,
     "metadata": {},
     "output_type": "execute_result"
    }
   ],
   "source": [
    "predict = model.predict_classes(X_test)\n",
    "np.unique(predict)"
   ]
  },
  {
   "cell_type": "code",
   "execution_count": 110,
   "metadata": {
    "collapsed": true
   },
   "outputs": [],
   "source": [
    "bt_test = bt[833:1113]"
   ]
  },
  {
   "cell_type": "code",
   "execution_count": 111,
   "metadata": {},
   "outputs": [
    {
     "name": "stdout",
     "output_type": "stream",
     "text": [
      "label 0:  91\n",
      "label 1:  113\n",
      "label 2:  40\n",
      "label 3:  36\n"
     ]
    }
   ],
   "source": [
    "print('label 0: ', sum(bt_test==0))\n",
    "print('label 1: ', sum(bt_test==1))\n",
    "print('label 2: ', sum(bt_test==2))\n",
    "print('label 3: ', sum(bt_test==3))"
   ]
  },
  {
   "cell_type": "code",
   "execution_count": 112,
   "metadata": {},
   "outputs": [
    {
     "name": "stdout",
     "output_type": "stream",
     "text": [
      "predict 0:  76\n",
      "predict 1:  47\n",
      "predict 2:  61\n",
      "predict 3:  96\n"
     ]
    }
   ],
   "source": [
    "print('predict 0: ', sum(predict==0))\n",
    "print('predict 1: ', sum(predict==1))\n",
    "print('predict 2: ', sum(predict==2))\n",
    "print('predict 3: ', sum(predict==3))"
   ]
  },
  {
   "cell_type": "code",
   "execution_count": null,
   "metadata": {
    "collapsed": true
   },
   "outputs": [],
   "source": []
  },
  {
   "cell_type": "code",
   "execution_count": 113,
   "metadata": {},
   "outputs": [
    {
     "name": "stdout",
     "output_type": "stream",
     "text": [
      "PNL accumulated:  0.00212125114\n",
      "buy mes:  143\n",
      "sell mes:  137\n",
      "longest buy:  4\n",
      "longest sell:  73\n",
      "correct target 1:  0.1\n",
      "correct target 0:  0.0821428571429\n",
      "correct target 2:  0.0285714285714\n",
      "correct target 3:  0.0928571428571\n",
      "percision total:  0.303571428571\n"
     ]
    }
   ],
   "source": [
    "l_zero, l_one = [],[]\n",
    "count_ones, count_zeros = 0,0\n",
    "for i in range(len(predict)):\n",
    "    if predict[i]==1:\n",
    "        l_zero.append(count_zeros)\n",
    "        count_zeros = 0\n",
    "        count_ones += 1\n",
    "    else:\n",
    "        l_one.append(count_ones)\n",
    "        count_zeros += 1\n",
    "        count_ones = 0\n",
    "    \n",
    "    if i==len(predict)-1:\n",
    "        l_one.append(count_ones)\n",
    "        l_zero.append(count_zeros)\n",
    "\n",
    "print('PNL accumulated: ',sum((predict==1)*X_test_PNL_1 + (predict==0)*X_test_PNL_0))\n",
    "print('buy mes: ', sum(predict==1)+sum(predict==3))\n",
    "print('sell mes: ',sum(predict==0)+sum(predict==2))\n",
    "print('longest buy: ', max(l_one))\n",
    "print('longest sell: ', max(l_zero))\n",
    "print('correct target 1: ', np.mean((predict==1)*(bt_test==1)))\n",
    "print('correct target 0: ', np.mean((predict==0)*(bt_test==0)))\n",
    "print('correct target 2: ', np.mean((predict==2)*(bt_test==2)))\n",
    "print('correct target 3: ', np.mean((predict==3)*(bt_test==3)))\n",
    "print('percision total: ', np.mean(predict==bt_test))"
   ]
  },
  {
   "cell_type": "markdown",
   "metadata": {},
   "source": [
    "#### Conlcusiones\n",
    "cabe anotar que el error del gradiente disminuye demasiado lento, de hecho se utilizaron 5000 epochs y su disminución del error fue poca, mas sin embargo al pesar las etiquetas la red se comporta de una mejor forma, inclusive haciendo que se genere una ganancia de 0.002121 USD en ese día de comercio, habrá que probar como se comporta en todo un mes."
   ]
  },
  {
   "cell_type": "code",
   "execution_count": null,
   "metadata": {
    "collapsed": true
   },
   "outputs": [],
   "source": []
  },
  {
   "cell_type": "code",
   "execution_count": null,
   "metadata": {
    "collapsed": true
   },
   "outputs": [],
   "source": []
  },
  {
   "cell_type": "code",
   "execution_count": null,
   "metadata": {
    "collapsed": true
   },
   "outputs": [],
   "source": []
  },
  {
   "cell_type": "code",
   "execution_count": null,
   "metadata": {
    "collapsed": true
   },
   "outputs": [],
   "source": []
  },
  {
   "cell_type": "code",
   "execution_count": null,
   "metadata": {
    "collapsed": true
   },
   "outputs": [],
   "source": []
  },
  {
   "cell_type": "code",
   "execution_count": null,
   "metadata": {
    "collapsed": true
   },
   "outputs": [],
   "source": []
  },
  {
   "cell_type": "code",
   "execution_count": null,
   "metadata": {
    "collapsed": true
   },
   "outputs": [],
   "source": []
  },
  {
   "cell_type": "code",
   "execution_count": null,
   "metadata": {
    "collapsed": true
   },
   "outputs": [],
   "source": []
  },
  {
   "cell_type": "code",
   "execution_count": null,
   "metadata": {
    "collapsed": true
   },
   "outputs": [],
   "source": []
  },
  {
   "cell_type": "code",
   "execution_count": null,
   "metadata": {
    "collapsed": true
   },
   "outputs": [],
   "source": []
  },
  {
   "cell_type": "code",
   "execution_count": null,
   "metadata": {
    "collapsed": true
   },
   "outputs": [],
   "source": []
  },
  {
   "cell_type": "code",
   "execution_count": null,
   "metadata": {
    "collapsed": true
   },
   "outputs": [],
   "source": []
  },
  {
   "cell_type": "code",
   "execution_count": null,
   "metadata": {
    "collapsed": true
   },
   "outputs": [],
   "source": []
  },
  {
   "cell_type": "code",
   "execution_count": null,
   "metadata": {
    "collapsed": true
   },
   "outputs": [],
   "source": []
  },
  {
   "cell_type": "code",
   "execution_count": null,
   "metadata": {
    "collapsed": true
   },
   "outputs": [],
   "source": []
  },
  {
   "cell_type": "code",
   "execution_count": 105,
   "metadata": {
    "collapsed": true
   },
   "outputs": [],
   "source": [
    "data_test = pd.read_csv('./data_guane/EUR-USD_procesados_OHLC_1T_2017-6.csv',index_col=0,\n",
    "                         parse_dates=True, infer_datetime_format=True)"
   ]
  },
  {
   "cell_type": "code",
   "execution_count": 106,
   "metadata": {},
   "outputs": [
    {
     "data": {
      "text/html": [
       "<div>\n",
       "<style>\n",
       "    .dataframe thead tr:only-child th {\n",
       "        text-align: right;\n",
       "    }\n",
       "\n",
       "    .dataframe thead th {\n",
       "        text-align: left;\n",
       "    }\n",
       "\n",
       "    .dataframe tbody tr th {\n",
       "        vertical-align: top;\n",
       "    }\n",
       "</style>\n",
       "<table border=\"1\" class=\"dataframe\">\n",
       "  <thead>\n",
       "    <tr style=\"text-align: right;\">\n",
       "      <th></th>\n",
       "      <th>open</th>\n",
       "      <th>high</th>\n",
       "      <th>low</th>\n",
       "      <th>bid</th>\n",
       "      <th>ask</th>\n",
       "    </tr>\n",
       "  </thead>\n",
       "  <tbody>\n",
       "    <tr>\n",
       "      <th>2017-06-01 00:01:00</th>\n",
       "      <td>1.12390</td>\n",
       "      <td>1.12393</td>\n",
       "      <td>1.12376</td>\n",
       "      <td>1.12382</td>\n",
       "      <td>1.123867</td>\n",
       "    </tr>\n",
       "    <tr>\n",
       "      <th>2017-06-01 00:02:00</th>\n",
       "      <td>1.12382</td>\n",
       "      <td>1.12383</td>\n",
       "      <td>1.12371</td>\n",
       "      <td>1.12381</td>\n",
       "      <td>1.123807</td>\n",
       "    </tr>\n",
       "    <tr>\n",
       "      <th>2017-06-01 00:03:00</th>\n",
       "      <td>1.12381</td>\n",
       "      <td>1.12381</td>\n",
       "      <td>1.12366</td>\n",
       "      <td>1.12377</td>\n",
       "      <td>1.123775</td>\n",
       "    </tr>\n",
       "    <tr>\n",
       "      <th>2017-06-01 00:04:00</th>\n",
       "      <td>1.12377</td>\n",
       "      <td>1.12382</td>\n",
       "      <td>1.12365</td>\n",
       "      <td>1.12366</td>\n",
       "      <td>1.123780</td>\n",
       "    </tr>\n",
       "    <tr>\n",
       "      <th>2017-06-01 00:05:00</th>\n",
       "      <td>1.12366</td>\n",
       "      <td>1.12377</td>\n",
       "      <td>1.12364</td>\n",
       "      <td>1.12376</td>\n",
       "      <td>1.123726</td>\n",
       "    </tr>\n",
       "  </tbody>\n",
       "</table>\n",
       "</div>"
      ],
      "text/plain": [
       "                        open     high      low      bid       ask\n",
       "2017-06-01 00:01:00  1.12390  1.12393  1.12376  1.12382  1.123867\n",
       "2017-06-01 00:02:00  1.12382  1.12383  1.12371  1.12381  1.123807\n",
       "2017-06-01 00:03:00  1.12381  1.12381  1.12366  1.12377  1.123775\n",
       "2017-06-01 00:04:00  1.12377  1.12382  1.12365  1.12366  1.123780\n",
       "2017-06-01 00:05:00  1.12366  1.12377  1.12364  1.12376  1.123726"
      ]
     },
     "execution_count": 106,
     "metadata": {},
     "output_type": "execute_result"
    }
   ],
   "source": [
    "data_test.head()"
   ]
  },
  {
   "cell_type": "code",
   "execution_count": 107,
   "metadata": {
    "collapsed": true
   },
   "outputs": [],
   "source": [
    "window = 100\n",
    "X_test, y_test_reg, bt_test = EU.build_dataset(data_test, window=window, bid_col='bid', binary_target=True, PNL=True)"
   ]
  },
  {
   "cell_type": "code",
   "execution_count": 108,
   "metadata": {},
   "outputs": [
    {
     "name": "stdout",
     "output_type": "stream",
     "text": [
      "target 0:  7469\n",
      "target 1:  9312\n",
      "target 2:  7025\n",
      "target 3:  5006\n"
     ]
    }
   ],
   "source": [
    "print('target 0: ', sum(bt_test==0))\n",
    "print('target 1: ', sum(bt_test==1))\n",
    "print('target 2: ', sum(bt_test==2))\n",
    "print('target 3: ', sum(bt_test==3))"
   ]
  },
  {
   "cell_type": "code",
   "execution_count": 109,
   "metadata": {},
   "outputs": [
    {
     "data": {
      "text/plain": [
       "((28812, 1, 103), (28812,))"
      ]
     },
     "execution_count": 109,
     "metadata": {},
     "output_type": "execute_result"
    }
   ],
   "source": [
    "X_test['open'] = data_test.filter(X_test.index,axis=0).open\n",
    "X_test['high'] = data_test.filter(X_test.index,axis=0).high\n",
    "X_test['low'] = data_test.filter(X_test.index,axis=0).low\n",
    "\n",
    "X_test_PNL_0 = X_test.PNL_0\n",
    "X_test_PNL_1 = X_test.PNL_1\n",
    "\n",
    "X_test = np.array(X_test[[col for col in X_test.columns if col!='PNL_0' and col!='PNL_1']])\n",
    "\n",
    "scaler = MinMaxScaler(feature_range=(0, 1))\n",
    "X_test = scaler.fit_transform(X_test)\n",
    "X_test = X_test.reshape(X_test.shape[0],1,X_test.shape[1])\n",
    "y_test = to_categorical(bt_test,num_classes=4)\n",
    "\n",
    "X_test.shape, bt_test.shape"
   ]
  },
  {
   "cell_type": "code",
   "execution_count": 112,
   "metadata": {},
   "outputs": [
    {
     "name": "stdout",
     "output_type": "stream",
     "text": [
      "28160/28812 [============================>.] - ETA: 0s"
     ]
    },
    {
     "data": {
      "text/plain": [
       "array([1])"
      ]
     },
     "execution_count": 112,
     "metadata": {},
     "output_type": "execute_result"
    }
   ],
   "source": [
    "predict = model.predict_classes(X_test)\n",
    "np.unique(predict)"
   ]
  },
  {
   "cell_type": "code",
   "execution_count": 113,
   "metadata": {},
   "outputs": [
    {
     "name": "stdout",
     "output_type": "stream",
     "text": [
      "predict 0:  0\n",
      "predict 1:  28812\n",
      "predict 2:  0\n",
      "predict 3:  0\n"
     ]
    }
   ],
   "source": [
    "print('predict 0: ', sum(predict==0))\n",
    "print('predict 1: ', sum(predict==1))\n",
    "print('predict 2: ', sum(predict==2))\n",
    "print('predict 3: ', sum(predict==3))"
   ]
  },
  {
   "cell_type": "code",
   "execution_count": 114,
   "metadata": {},
   "outputs": [
    {
     "name": "stdout",
     "output_type": "stream",
     "text": [
      "PNL final en train:  -0.99906622587\n"
     ]
    }
   ],
   "source": [
    "PNL = sum((predict==1)*X_test_PNL_1 + (predict==0)*X_test_PNL_0)\n",
    "print('PNL final en train: ', PNL)"
   ]
  },
  {
   "cell_type": "code",
   "execution_count": null,
   "metadata": {
    "collapsed": true
   },
   "outputs": [],
   "source": []
  },
  {
   "cell_type": "code",
   "execution_count": 26,
   "metadata": {},
   "outputs": [
    {
     "name": "stdout",
     "output_type": "stream",
     "text": [
      "buy mes:  28328\n",
      "sell mes:  484\n",
      "longest buy:  10372\n",
      "longest sell:  88\n",
      "correct target 1:  0.316916562543\n",
      "correct target 0:  0.00607385811467\n",
      "correct target 2:  0.0\n",
      "correct target 3:  0.0\n",
      "percision total:  0.322990420658\n"
     ]
    }
   ],
   "source": [
    "l_zero, l_one = [],[]\n",
    "count_ones, count_zeros = 0,0\n",
    "for i in range(len(predict)):\n",
    "    if predict[i]==1:\n",
    "        l_zero.append(count_zeros)\n",
    "        count_zeros = 0\n",
    "        count_ones += 1\n",
    "    else:\n",
    "        l_one.append(count_ones)\n",
    "        count_zeros += 1\n",
    "        count_ones = 0\n",
    "    \n",
    "    if i==len(predict)-1:\n",
    "        l_one.append(count_ones)\n",
    "        l_zero.append(count_zeros)\n",
    "\n",
    "print('buy mes: ', sum(predict==1)+sum(predict==3))\n",
    "print('sell mes: ',sum(predict==0)+sum(predict==2))\n",
    "print('longest buy: ', max(l_one))\n",
    "print('longest sell: ', max(l_zero))\n",
    "print('correct target 1: ', np.mean((predict==1)*(bt_test==1)))\n",
    "print('correct target 0: ', np.mean((predict==0)*(bt_test==0)))\n",
    "print('correct target 2: ', np.mean((predict==2)*(bt_test==2)))\n",
    "print('correct target 3: ', np.mean((predict==3)*(bt_test==3)))\n",
    "print('percision total: ', np.mean(predict==bt_test))"
   ]
  },
  {
   "cell_type": "code",
   "execution_count": 80,
   "metadata": {},
   "outputs": [
    {
     "data": {
      "text/plain": [
       "-0.026"
      ]
     },
     "execution_count": 80,
     "metadata": {},
     "output_type": "execute_result"
    }
   ],
   "source": [
    "-0.0013*20"
   ]
  },
  {
   "cell_type": "code",
   "execution_count": null,
   "metadata": {
    "collapsed": true
   },
   "outputs": [],
   "source": []
  },
  {
   "cell_type": "code",
   "execution_count": null,
   "metadata": {
    "collapsed": true
   },
   "outputs": [],
   "source": []
  },
  {
   "cell_type": "code",
   "execution_count": 250,
   "metadata": {},
   "outputs": [
    {
     "data": {
      "text/plain": [
       "907"
      ]
     },
     "execution_count": 250,
     "metadata": {},
     "output_type": "execute_result"
    }
   ],
   "source": [
    "sum(predict==1)"
   ]
  },
  {
   "cell_type": "code",
   "execution_count": null,
   "metadata": {
    "collapsed": true
   },
   "outputs": [],
   "source": []
  }
 ],
 "metadata": {
  "kernelspec": {
   "display_name": "Python 3",
   "language": "python",
   "name": "python3"
  },
  "language_info": {
   "codemirror_mode": {
    "name": "ipython",
    "version": 3
   },
   "file_extension": ".py",
   "mimetype": "text/x-python",
   "name": "python",
   "nbconvert_exporter": "python",
   "pygments_lexer": "ipython3",
   "version": "3.6.2"
  }
 },
 "nbformat": 4,
 "nbformat_minor": 2
}
