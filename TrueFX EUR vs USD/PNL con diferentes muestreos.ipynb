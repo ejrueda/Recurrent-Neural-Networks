{
 "cells": [
  {
   "cell_type": "code",
   "execution_count": 1,
   "metadata": {
    "collapsed": true
   },
   "outputs": [],
   "source": [
    "import numpy as np\n",
    "import pandas as pd\n",
    "import bokeh.plotting as bp\n",
    "from bokeh.layouts import gridplot\n",
    "#bp.output_notebook()\n",
    "import matplotlib.pyplot as plt\n",
    "%matplotlib inline"
   ]
  },
  {
   "cell_type": "code",
   "execution_count": 2,
   "metadata": {
    "collapsed": true
   },
   "outputs": [],
   "source": [
    "%run ../code/PNLEstimatorWrapper.py\n",
    "%run ../code/EUtilities.py\n",
    "EU = EUtilities()"
   ]
  },
  {
   "cell_type": "code",
   "execution_count": 3,
   "metadata": {
    "collapsed": true
   },
   "outputs": [],
   "source": [
    "#Se lee la señal anteriormente procesada\n",
    "data_set = pd.read_csv(\"../data/TrueFX/EUR-USD/datos_procesados_20s_EURUSD-2018-01.csv\", parse_dates=True,\n",
    "                      infer_datetime_format=True, index_col=0)"
   ]
  },
  {
   "cell_type": "code",
   "execution_count": 4,
   "metadata": {},
   "outputs": [
    {
     "data": {
      "text/html": [
       "<div>\n",
       "<style>\n",
       "    .dataframe thead tr:only-child th {\n",
       "        text-align: right;\n",
       "    }\n",
       "\n",
       "    .dataframe thead th {\n",
       "        text-align: left;\n",
       "    }\n",
       "\n",
       "    .dataframe tbody tr th {\n",
       "        vertical-align: top;\n",
       "    }\n",
       "</style>\n",
       "<table border=\"1\" class=\"dataframe\">\n",
       "  <thead>\n",
       "    <tr style=\"text-align: right;\">\n",
       "      <th></th>\n",
       "      <th>bid</th>\n",
       "      <th>ask</th>\n",
       "    </tr>\n",
       "  </thead>\n",
       "  <tbody>\n",
       "    <tr>\n",
       "      <th>2018-01-01 23:58:00</th>\n",
       "      <td>1.20093</td>\n",
       "      <td>1.20115</td>\n",
       "    </tr>\n",
       "    <tr>\n",
       "      <th>2018-01-01 23:58:20</th>\n",
       "      <td>1.20082</td>\n",
       "      <td>1.20111</td>\n",
       "    </tr>\n",
       "    <tr>\n",
       "      <th>2018-01-01 23:58:40</th>\n",
       "      <td>1.20043</td>\n",
       "      <td>1.20110</td>\n",
       "    </tr>\n",
       "    <tr>\n",
       "      <th>2018-01-01 23:59:00</th>\n",
       "      <td>1.20015</td>\n",
       "      <td>1.20110</td>\n",
       "    </tr>\n",
       "    <tr>\n",
       "      <th>2018-01-01 23:59:20</th>\n",
       "      <td>1.20028</td>\n",
       "      <td>1.20110</td>\n",
       "    </tr>\n",
       "  </tbody>\n",
       "</table>\n",
       "</div>"
      ],
      "text/plain": [
       "                         bid      ask\n",
       "2018-01-01 23:58:00  1.20093  1.20115\n",
       "2018-01-01 23:58:20  1.20082  1.20111\n",
       "2018-01-01 23:58:40  1.20043  1.20110\n",
       "2018-01-01 23:59:00  1.20015  1.20110\n",
       "2018-01-01 23:59:20  1.20028  1.20110"
      ]
     },
     "execution_count": 4,
     "metadata": {},
     "output_type": "execute_result"
    }
   ],
   "source": [
    "data_set.head()"
   ]
  },
  {
   "cell_type": "code",
   "execution_count": 16,
   "metadata": {
    "collapsed": true
   },
   "outputs": [],
   "source": [
    "window = 3\n",
    "X, y_reg, bt = EU.build_dataset(data_set, window, binary_target=True, delete_constant_values=True, PNL=True)"
   ]
  },
  {
   "cell_type": "code",
   "execution_count": 11,
   "metadata": {},
   "outputs": [
    {
     "name": "stdout",
     "output_type": "stream",
     "text": [
      "--------- GaussianNB 20s ----------------\n",
      "average PNL :  -0.143961\n",
      "average buy:  1348.0\n",
      "average sell:  2336.2\n",
      "-------------------------------------\n",
      "                PNL    buys   sells  longest_buys  longest_sells\n",
      "2018-01-05 -0.13801   612.0  3000.0         190.0         2438.0\n",
      "2018-01-08 -0.12600  3378.0   228.0        3010.0          228.0\n",
      "2018-01-09 -0.11832  3676.0     0.0        3676.0            0.0\n",
      "2018-01-10 -0.14112  3518.0   284.0        1986.0          220.0\n",
      "2018-01-11 -0.13274  2270.0  1530.0        2270.0         1530.0\n",
      "2018-01-12 -0.13557     0.0  3841.0           0.0         3841.0\n",
      "2018-01-15 -0.16903  3842.0     0.0        3842.0            0.0\n",
      "2018-01-16 -0.14234     0.0  3877.0           0.0         3877.0\n",
      "2018-01-17 -0.16683     0.0  3998.0           0.0         3998.0\n",
      "2018-01-18 -0.14779   144.0  3791.0          89.0         2976.0\n",
      "2018-01-19 -0.16542  1626.0  2250.0         987.0         1842.0\n",
      "2018-01-22 -0.14994  1813.0  2036.0        1142.0          495.0\n",
      "2018-01-23 -0.13585   455.0  3399.0         255.0         1529.0\n",
      "2018-01-24 -0.13078     0.0  3945.0           0.0         3945.0\n",
      "2018-01-25 -0.17194     0.0  4028.0           0.0         4028.0\n",
      "2018-01-26 -0.17715     0.0  3980.0           0.0         3980.0\n",
      "2018-01-29 -0.16619   853.0  3088.0         810.0         2532.0\n",
      "2018-01-30 -0.15218  3160.0   762.0        2026.0          412.0\n",
      "2018-01-31 -0.18379  1421.0  2578.0         359.0         2153.0\n",
      "2018-02-01 -0.02823   192.0   109.0         157.0           74.0\n"
     ]
    }
   ],
   "source": [
    "from sklearn.naive_bayes import GaussianNB\n",
    "    \n",
    "y = bt\n",
    "n_bdtrain = 4\n",
    "n_bdtest = 1\n",
    "mday = 1\n",
    "#para indexar el dataframe por las fechas\n",
    "dates = np.unique(X.index.date)[n_bdtrain:]\n",
    "est_GNB = PNLEstimatorWrapper(GaussianNB(), PNL_column=['PNL_0','PNL_1'])\n",
    "result_GNB = EU.step_validation(est_GNB, X, y, EU.v_split(X,n_bdtrain,n_bdtest,mday))\n",
    "result_GNB, predict_GNB = EU.redim(result_GNB)\n",
    "print('--------- GaussianNB 20s ----------------')\n",
    "print('average PNL : ', np.mean(result_GNB[:,0]))\n",
    "print('average buy: ', np.mean(result_GNB[:,1]))\n",
    "print('average sell: ', np.mean(result_GNB[:,2]))\n",
    "print('-------------------------------------')\n",
    "df_GNB = pd.DataFrame(result_GNB, columns=list(['PNL','buys','sells','longest_buys','longest_sells']),index=dates)\n",
    "print(df_GNB)\n",
    "df_GNB.to_csv('../resultados/TrueFX/EUR-USD/GaussianNB/pnl_20s_GNB_wsize3_2018-01.csv')"
   ]
  },
  {
   "cell_type": "code",
   "execution_count": 12,
   "metadata": {},
   "outputs": [
    {
     "name": "stdout",
     "output_type": "stream",
     "text": [
      "-------- KNeighborsClassifier 20s -------\n",
      "average PNL:  -0.142048\n",
      "average buy:  1644.4\n",
      "average sell:  2039.8\n",
      "-------------------------------------\n",
      "                PNL    buys   sells  longest_buys  longest_sells\n",
      "2018-01-05 -0.13652  1663.0  1949.0          14.0           18.0\n",
      "2018-01-08 -0.13142  2940.0   666.0        1661.0           18.0\n",
      "2018-01-09 -0.11841  2971.0   705.0        2263.0           23.0\n",
      "2018-01-10 -0.13792  1790.0  2012.0          59.0           57.0\n",
      "2018-01-11 -0.13646  1736.0  2064.0          17.0           29.0\n",
      "2018-01-12 -0.14024   543.0  3298.0          27.0         2309.0\n",
      "2018-01-15 -0.16142   526.0  3316.0          82.0         2276.0\n",
      "2018-01-16 -0.14288  1872.0  2005.0          35.0           50.0\n",
      "2018-01-17 -0.16368  1957.0  2041.0          18.0          123.0\n",
      "2018-01-18 -0.15643  2192.0  1743.0          46.0           14.0\n",
      "2018-01-19 -0.14803  1881.0  1995.0          12.0           14.0\n",
      "2018-01-22 -0.13804  1931.0  1918.0          12.0           12.0\n",
      "2018-01-23 -0.14361  1866.0  1988.0          22.0           34.0\n",
      "2018-01-24 -0.13275   126.0  3819.0          11.0         3433.0\n",
      "2018-01-25 -0.18458   681.0  3347.0           9.0         1018.0\n",
      "2018-01-26 -0.18450  1886.0  2094.0          48.0           25.0\n",
      "2018-01-29 -0.14372  2069.0  1872.0          41.0           13.0\n",
      "2018-01-30 -0.15167  2052.0  1870.0          21.0           15.0\n",
      "2018-01-31 -0.16138  2044.0  1955.0          22.0           20.0\n",
      "2018-02-01 -0.02730   162.0   139.0          10.0            9.0\n"
     ]
    }
   ],
   "source": [
    "from sklearn.neighbors import KNeighborsClassifier\n",
    "\n",
    "est_KNC = PNLEstimatorWrapper(KNeighborsClassifier(n_neighbors=7,n_jobs=2,leaf_size=30\n",
    "                                                   ,algorithm='kd_tree'), PNL_column=['PNL_0','PNL_1'])\n",
    "result_KNC = EU.step_validation(est_KNC, X, y, EU.v_split(X,4,1,1))\n",
    "result_KNC, predict_KNC = EU.redim(result_KNC)\n",
    "print('-------- KNeighborsClassifier 20s -------')\n",
    "print('average PNL: ', np.mean(result_KNC[:,0]))\n",
    "print('average buy: ', np.mean(result_KNC[:,1]))\n",
    "print('average sell: ', np.mean(result_KNC[:,2]))\n",
    "print('-------------------------------------')\n",
    "df_KNC = pd.DataFrame(result_KNC, columns=list(['PNL','buys','sells','longest_buys','longest_sells']),index=dates)\n",
    "print(df_KNC)\n",
    "df_KNC.to_csv('../resultados/TrueFX/EUR-USD/KNeighborsClassfier/pnl_20s_KNC_wsize3_2018-01.csv')"
   ]
  },
  {
   "cell_type": "code",
   "execution_count": 13,
   "metadata": {},
   "outputs": [
    {
     "name": "stdout",
     "output_type": "stream",
     "text": [
      "------ DecisionTreeClassifier 20s -------\n",
      "average PNL:  -0.13886\n",
      "average buy:  1784.6\n",
      "average sell:  1899.6\n",
      "-------------------------------------\n",
      "                PNL    buys   sells  longest_buys  longest_sells\n",
      "2018-01-05 -0.13125  1709.0  1903.0          14.0           18.0\n",
      "2018-01-08 -0.12886  2896.0   710.0        1670.0           11.0\n",
      "2018-01-09 -0.11918  3050.0   626.0        2262.0           12.0\n",
      "2018-01-10 -0.13969  1771.0  2031.0          34.0           42.0\n",
      "2018-01-11 -0.14370  1861.0  1939.0          10.0           15.0\n",
      "2018-01-12 -0.14167   698.0  3143.0          27.0         2317.0\n",
      "2018-01-15 -0.15499   648.0  3194.0          42.0         2266.0\n",
      "2018-01-16 -0.14206  1898.0  1979.0          15.0           13.0\n",
      "2018-01-17 -0.16616  1945.0  2053.0          10.0           70.0\n",
      "2018-01-18 -0.15524  2073.0  1862.0          31.0           10.0\n",
      "2018-01-19 -0.14517  1891.0  1985.0          13.0           11.0\n",
      "2018-01-22 -0.13701  1843.0  2006.0          11.0           12.0\n",
      "2018-01-23 -0.13421  1900.0  1954.0          25.0           13.0\n",
      "2018-01-24 -0.13107   184.0  3761.0           9.0         3117.0\n",
      "2018-01-25 -0.15093  3086.0   942.0        1012.0           10.0\n",
      "2018-01-26 -0.16064  2006.0  1974.0          53.0           17.0\n",
      "2018-01-29 -0.15896  2077.0  1864.0          25.0           15.0\n",
      "2018-01-30 -0.14822  1978.0  1944.0          13.0           11.0\n",
      "2018-01-31 -0.16146  2030.0  1969.0          10.0           13.0\n",
      "2018-02-01 -0.02673   148.0   153.0           5.0            6.0\n"
     ]
    }
   ],
   "source": [
    "from sklearn.tree import DecisionTreeClassifier\n",
    "\n",
    "est_DTC = PNLEstimatorWrapper(DecisionTreeClassifier(), PNL_column=['PNL_0','PNL_1'])\n",
    "result_DTC = EU.step_validation(est_DTC, X, y, EU.v_split(X,4,1,1))\n",
    "result_DTC, predict_DTC = EU.redim(result_DTC)\n",
    "print('------ DecisionTreeClassifier 20s -------')\n",
    "print('average PNL: ', np.mean(result_DTC[:,0]))\n",
    "print('average buy: ', np.mean(result_DTC[:,1]))\n",
    "print('average sell: ', np.mean(result_DTC[:,2]))\n",
    "print('-------------------------------------')\n",
    "df_DTC = pd.DataFrame(result_DTC, columns=list(['PNL','buys','sells','longest_buys','longest_sells']),index=dates)\n",
    "print(df_DTC)\n",
    "df_DTC.to_csv('../resultados/TrueFX/EUR-USD/DecisionTreeClassifier/pnl_20s_DTC_wsize3_2018-01.csv')"
   ]
  },
  {
   "cell_type": "code",
   "execution_count": 14,
   "metadata": {},
   "outputs": [
    {
     "name": "stdout",
     "output_type": "stream",
     "text": [
      "------- RandomForestClassifier 20s -------\n",
      "PNL promedio:  -0.1441505\n",
      "buy promedio:  1664.9\n",
      "sell promedio:  2019.3\n",
      "-------------------------------------\n",
      "                PNL    buys   sells  longest_buys  longest_sells\n",
      "2018-01-05 -0.13879  1716.0  1896.0          13.0           15.0\n",
      "2018-01-08 -0.13390  2956.0   650.0        1670.0           11.0\n",
      "2018-01-09 -0.12506  3031.0   645.0        2263.0           10.0\n",
      "2018-01-10 -0.13848  1862.0  1940.0          19.0           42.0\n",
      "2018-01-11 -0.12879  1812.0  1988.0          16.0           11.0\n",
      "2018-01-12 -0.16354   582.0  3259.0          28.0         2332.0\n",
      "2018-01-15 -0.16785   624.0  3218.0          76.0         2277.0\n",
      "2018-01-16 -0.14804  1841.0  2036.0          18.0           32.0\n",
      "2018-01-17 -0.15699  1937.0  2061.0          11.0           74.0\n",
      "2018-01-18 -0.15246  2133.0  1802.0          17.0           11.0\n",
      "2018-01-19 -0.16003  1882.0  1994.0          13.0           12.0\n",
      "2018-01-22 -0.13533  1902.0  1947.0           9.0           14.0\n",
      "2018-01-23 -0.13887  1843.0  2011.0          21.0           13.0\n",
      "2018-01-24 -0.15430   139.0  3806.0           6.0         3432.0\n",
      "2018-01-25 -0.16825   756.0  3272.0           9.0         1017.0\n",
      "2018-01-26 -0.19405  1993.0  1987.0          49.0           21.0\n",
      "2018-01-29 -0.16080  2094.0  1847.0          33.0           20.0\n",
      "2018-01-30 -0.13787  2036.0  1886.0          12.0           12.0\n",
      "2018-01-31 -0.15346  2015.0  1984.0          13.0           18.0\n",
      "2018-02-01 -0.02615   144.0   157.0           7.0            8.0\n"
     ]
    }
   ],
   "source": [
    "from sklearn.ensemble import RandomForestClassifier\n",
    "\n",
    "est_RFC = PNLEstimatorWrapper(RandomForestClassifier(n_estimators=15, n_jobs=3), PNL_column=['PNL_1','PNL_0'])\n",
    "result_RFC = EU.step_validation(est_RFC, X, y, EU.v_split(X,4,1,1))\n",
    "result_RFC, predict_RFC = EU.redim(result_RFC)\n",
    "print('------- RandomForestClassifier 20s -------')\n",
    "print('PNL promedio: ', np.mean(result_RFC[:,0]))\n",
    "print('buy promedio: ', np.mean(result_RFC[:,1]))\n",
    "print('sell promedio: ', np.mean(result_RFC[:,2]))\n",
    "print('-------------------------------------')\n",
    "df_RFC = pd.DataFrame(result_RFC, columns=list(['PNL','buys','sells','longest_buys','longest_sells']),index=dates)\n",
    "print(df_RFC)\n",
    "df_RFC.to_csv('../resultados/TrueFX/EUR-USD/RandomForestClassifier/pnl_20s_RFC_wsize3_2018-01.csv')"
   ]
  },
  {
   "cell_type": "markdown",
   "metadata": {},
   "source": [
    "### ahora probaremos con 30s"
   ]
  },
  {
   "cell_type": "code",
   "execution_count": 21,
   "metadata": {
    "collapsed": true
   },
   "outputs": [],
   "source": [
    "#Se lee la señal anteriormente procesada\n",
    "data_set = pd.read_csv(\"../data/TrueFX/EUR-USD/datos_procesados_30s_EURUSD-2018-01.csv\", parse_dates=True,\n",
    "                      infer_datetime_format=True, index_col=0)\n",
    "window = 3\n",
    "X, y_reg, bt = EU.build_dataset(data_set, window, binary_target=True, delete_constant_values=True, PNL=True)"
   ]
  },
  {
   "cell_type": "code",
   "execution_count": 17,
   "metadata": {},
   "outputs": [
    {
     "name": "stdout",
     "output_type": "stream",
     "text": [
      "--------- GaussianNB 30s ----------------\n",
      "average PNL :  -0.100517\n",
      "average buy:  772.05\n",
      "average sell:  1753.35\n",
      "-------------------------------------\n",
      "                PNL    buys   sells  longest_buys  longest_sells\n",
      "2018-01-05 -0.10094   691.0  1841.0         404.0         1223.0\n",
      "2018-01-08 -0.08581  2394.0   130.0        2110.0          124.0\n",
      "2018-01-09 -0.08742     0.0  2526.0           0.0         2526.0\n",
      "2018-01-10 -0.09996  2135.0   482.0        1347.0          423.0\n",
      "2018-01-11 -0.08292     0.0  2607.0           0.0         2607.0\n",
      "2018-01-12 -0.09411   937.0  1689.0         468.0         1217.0\n",
      "2018-01-15 -0.11704  2642.0     0.0        2642.0            0.0\n",
      "2018-01-16 -0.09875     0.0  2644.0           0.0         2644.0\n",
      "2018-01-17 -0.11831     0.0  2737.0           0.0         2737.0\n",
      "2018-01-18 -0.10329   228.0  2470.0          83.0         2001.0\n",
      "2018-01-19 -0.11852   794.0  1859.0         504.0         1406.0\n",
      "2018-01-22 -0.10328   933.0  1703.0         747.0          475.0\n",
      "2018-01-23 -0.09885   528.0  2117.0         223.0          987.0\n",
      "2018-01-24 -0.08613     0.0  2690.0           0.0         2690.0\n",
      "2018-01-25 -0.11792     0.0  2744.0           0.0         2744.0\n",
      "2018-01-26 -0.12076     0.0  2704.0           0.0         2704.0\n",
      "2018-01-29 -0.12006  1012.0  1684.0         716.0         1116.0\n",
      "2018-01-30 -0.10698  2009.0   673.0        1355.0          303.0\n",
      "2018-01-31 -0.13054   956.0  1748.0         247.0         1673.0\n",
      "2018-02-01 -0.01875   182.0    19.0         170.0           10.0\n"
     ]
    }
   ],
   "source": [
    "from sklearn.naive_bayes import GaussianNB\n",
    "    \n",
    "y = bt\n",
    "n_bdtrain = 4\n",
    "n_bdtest = 1\n",
    "mday = 1\n",
    "#para indexar el dataframe por las fechas\n",
    "dates = np.unique(X.index.date)[n_bdtrain:]\n",
    "est_GNB = PNLEstimatorWrapper(GaussianNB(), PNL_column=['PNL_0','PNL_1'])\n",
    "result_GNB = EU.step_validation(est_GNB, X, y, EU.v_split(X,n_bdtrain,n_bdtest,mday))\n",
    "result_GNB, predict_GNB = EU.redim(result_GNB)\n",
    "print('--------- GaussianNB 30s ----------------')\n",
    "print('average PNL : ', np.mean(result_GNB[:,0]))\n",
    "print('average buy: ', np.mean(result_GNB[:,1]))\n",
    "print('average sell: ', np.mean(result_GNB[:,2]))\n",
    "print('-------------------------------------')\n",
    "df_GNB = pd.DataFrame(result_GNB, columns=list(['PNL','buys','sells','longest_buys','longest_sells']),index=dates)\n",
    "print(df_GNB)\n",
    "df_GNB.to_csv('../resultados/TrueFX/EUR-USD/GaussianNB/pnl_30s_GNB_wsize3_2018-01.csv')"
   ]
  },
  {
   "cell_type": "code",
   "execution_count": 18,
   "metadata": {},
   "outputs": [
    {
     "name": "stdout",
     "output_type": "stream",
     "text": [
      "-------- KNeighborsClassifier 30s -------\n",
      "average PNL:  -0.097478\n",
      "average buy:  1113.1\n",
      "average sell:  1412.3\n",
      "-------------------------------------\n",
      "                PNL    buys   sells  longest_buys  longest_sells\n",
      "2018-01-05 -0.09386  1270.0  1262.0          14.0           20.0\n",
      "2018-01-08 -0.08848  2033.0   491.0        1163.0           17.0\n",
      "2018-01-09 -0.08591  2022.0   504.0        1552.0           29.0\n",
      "2018-01-10 -0.09649  1179.0  1438.0          28.0           44.0\n",
      "2018-01-11 -0.09679  1240.0  1367.0          16.0           13.0\n",
      "2018-01-12 -0.09481   342.0  2284.0          12.0         1576.0\n",
      "2018-01-15 -0.10683   232.0  2410.0          54.0         1560.0\n",
      "2018-01-16 -0.09041  1096.0  1548.0          17.0           26.0\n",
      "2018-01-17 -0.11512  1233.0  1504.0          11.0          172.0\n",
      "2018-01-18 -0.10405  1389.0  1309.0          26.0           13.0\n",
      "2018-01-19 -0.10174  1290.0  1363.0          10.0           20.0\n",
      "2018-01-22 -0.09064  1314.0  1322.0          15.0           10.0\n",
      "2018-01-23 -0.09276  1202.0  1443.0          17.0           19.0\n",
      "2018-01-24 -0.08833    90.0  2600.0           9.0         2335.0\n",
      "2018-01-25 -0.13870   473.0  2271.0          11.0          703.0\n",
      "2018-01-26 -0.11955  1374.0  1330.0          21.0           20.0\n",
      "2018-01-29 -0.10890  1632.0  1064.0          39.0           14.0\n",
      "2018-01-30 -0.10260  1433.0  1249.0          15.0           12.0\n",
      "2018-01-31 -0.11634  1309.0  1395.0          10.0           37.0\n",
      "2018-02-01 -0.01725   109.0    92.0          12.0            9.0\n"
     ]
    }
   ],
   "source": [
    "from sklearn.neighbors import KNeighborsClassifier\n",
    "\n",
    "est_KNC = PNLEstimatorWrapper(KNeighborsClassifier(n_neighbors=7,n_jobs=2,leaf_size=30\n",
    "                                                   ,algorithm='kd_tree'), PNL_column=['PNL_0','PNL_1'])\n",
    "result_KNC = EU.step_validation(est_KNC, X, y, EU.v_split(X,4,1,1))\n",
    "result_KNC, predict_KNC = EU.redim(result_KNC)\n",
    "print('-------- KNeighborsClassifier 30s -------')\n",
    "print('average PNL: ', np.mean(result_KNC[:,0]))\n",
    "print('average buy: ', np.mean(result_KNC[:,1]))\n",
    "print('average sell: ', np.mean(result_KNC[:,2]))\n",
    "print('-------------------------------------')\n",
    "df_KNC = pd.DataFrame(result_KNC, columns=list(['PNL','buys','sells','longest_buys','longest_sells']),index=dates)\n",
    "print(df_KNC)\n",
    "df_KNC.to_csv('../resultados/TrueFX/EUR-USD/KNeighborsClassfier/pnl_30s_KNC_wsize3_2018-01.csv')"
   ]
  },
  {
   "cell_type": "code",
   "execution_count": 19,
   "metadata": {},
   "outputs": [
    {
     "name": "stdout",
     "output_type": "stream",
     "text": [
      "------ DecisionTreeClassifier 30s -------\n",
      "average PNL:  -0.096987\n",
      "average buy:  1301.65\n",
      "average sell:  1223.75\n",
      "-------------------------------------\n",
      "                PNL    buys   sells  longest_buys  longest_sells\n",
      "2018-01-05 -0.09470  1269.0  1263.0          10.0           10.0\n",
      "2018-01-08 -0.08966  2021.0   503.0        1163.0            7.0\n",
      "2018-01-09 -0.08202  2000.0   526.0        1552.0           20.0\n",
      "2018-01-10 -0.09939  1333.0  1284.0          25.0           47.0\n",
      "2018-01-11 -0.09468  1280.0  1327.0          11.0           13.0\n",
      "2018-01-12 -0.09203   385.0  2241.0          19.0         1576.0\n",
      "2018-01-15 -0.11019  2068.0   574.0        1482.0           50.0\n",
      "2018-01-16 -0.09550  1196.0  1448.0          13.0           23.0\n",
      "2018-01-17 -0.11283  1318.0  1419.0          13.0           74.0\n",
      "2018-01-18 -0.10986  1387.0  1311.0          11.0           12.0\n",
      "2018-01-19 -0.10545  1265.0  1388.0          11.0           11.0\n",
      "2018-01-22 -0.09887  1309.0  1327.0           9.0           13.0\n",
      "2018-01-23 -0.08969  1260.0  1385.0          22.0           17.0\n",
      "2018-01-24 -0.08812   152.0  2538.0           8.0         2115.0\n",
      "2018-01-25 -0.10479  2123.0   621.0         685.0           12.0\n",
      "2018-01-26 -0.13045  1445.0  1259.0          64.0           10.0\n",
      "2018-01-29 -0.11538  1415.0  1281.0          34.0           16.0\n",
      "2018-01-30 -0.09461  1392.0  1290.0          14.0           10.0\n",
      "2018-01-31 -0.11497  1327.0  1377.0          11.0           13.0\n",
      "2018-02-01 -0.01655    88.0   113.0           7.0           10.0\n"
     ]
    }
   ],
   "source": [
    "from sklearn.tree import DecisionTreeClassifier\n",
    "\n",
    "est_DTC = PNLEstimatorWrapper(DecisionTreeClassifier(), PNL_column=['PNL_0','PNL_1'])\n",
    "result_DTC = EU.step_validation(est_DTC, X, y, EU.v_split(X,4,1,1))\n",
    "result_DTC, predict_DTC = EU.redim(result_DTC)\n",
    "print('------ DecisionTreeClassifier 30s -------')\n",
    "print('average PNL: ', np.mean(result_DTC[:,0]))\n",
    "print('average buy: ', np.mean(result_DTC[:,1]))\n",
    "print('average sell: ', np.mean(result_DTC[:,2]))\n",
    "print('-------------------------------------')\n",
    "df_DTC = pd.DataFrame(result_DTC, columns=list(['PNL','buys','sells','longest_buys','longest_sells']),index=dates)\n",
    "print(df_DTC)\n",
    "df_DTC.to_csv('../resultados/TrueFX/EUR-USD/DecisionTreeClassifier/pnl_30s_DTC_wsize3_2018-01.csv')"
   ]
  },
  {
   "cell_type": "code",
   "execution_count": 20,
   "metadata": {},
   "outputs": [
    {
     "name": "stdout",
     "output_type": "stream",
     "text": [
      "------- RandomForestClassifier 30s -------\n",
      "PNL promedio:  -0.100241\n",
      "buy promedio:  1122.05\n",
      "sell promedio:  1403.35\n",
      "-------------------------------------\n",
      "                PNL    buys   sells  longest_buys  longest_sells\n",
      "2018-01-05 -0.08839  1202.0  1330.0          12.0           32.0\n",
      "2018-01-08 -0.09374  2033.0   491.0        1168.0           12.0\n",
      "2018-01-09 -0.08801  2024.0   502.0        1555.0           12.0\n",
      "2018-01-10 -0.10235  1259.0  1358.0          27.0           44.0\n",
      "2018-01-11 -0.08663  1267.0  1340.0          12.0           15.0\n",
      "2018-01-12 -0.12296   339.0  2287.0          11.0         1579.0\n",
      "2018-01-15 -0.11561   302.0  2340.0          45.0         1560.0\n",
      "2018-01-16 -0.09494  1206.0  1438.0          24.0           13.0\n",
      "2018-01-17 -0.11051  1271.0  1466.0          11.0           91.0\n",
      "2018-01-18 -0.10230  1439.0  1259.0          26.0           12.0\n",
      "2018-01-19 -0.12804  1279.0  1374.0          17.0           11.0\n",
      "2018-01-22 -0.09698  1283.0  1353.0          10.0           10.0\n",
      "2018-01-23 -0.09621  1193.0  1452.0          16.0           20.0\n",
      "2018-01-24 -0.10619    97.0  2593.0          13.0         2337.0\n",
      "2018-01-25 -0.10852   494.0  2250.0          11.0          686.0\n",
      "2018-01-26 -0.12874  1416.0  1288.0          44.0           11.0\n",
      "2018-01-29 -0.11209  1512.0  1184.0          34.0           12.0\n",
      "2018-01-30 -0.09542  1437.0  1245.0          12.0           13.0\n",
      "2018-01-31 -0.11122  1294.0  1410.0          11.0           15.0\n",
      "2018-02-01 -0.01597    94.0   107.0           7.0            7.0\n"
     ]
    }
   ],
   "source": [
    "from sklearn.ensemble import RandomForestClassifier\n",
    "\n",
    "est_RFC = PNLEstimatorWrapper(RandomForestClassifier(n_estimators=15, n_jobs=3), PNL_column=['PNL_1','PNL_0'])\n",
    "result_RFC = EU.step_validation(est_RFC, X, y, EU.v_split(X,4,1,1))\n",
    "result_RFC, predict_RFC = EU.redim(result_RFC)\n",
    "print('------- RandomForestClassifier 30s -------')\n",
    "print('PNL promedio: ', np.mean(result_RFC[:,0]))\n",
    "print('buy promedio: ', np.mean(result_RFC[:,1]))\n",
    "print('sell promedio: ', np.mean(result_RFC[:,2]))\n",
    "print('-------------------------------------')\n",
    "df_RFC = pd.DataFrame(result_RFC, columns=list(['PNL','buys','sells','longest_buys','longest_sells']),index=dates)\n",
    "print(df_RFC)\n",
    "df_RFC.to_csv('../resultados/TrueFX/EUR-USD/RandomForestClassifier/pnl_30s_RFC_wsize3_2018-01.csv')"
   ]
  },
  {
   "cell_type": "markdown",
   "metadata": {},
   "source": [
    "### ahora con intervalos de 40s"
   ]
  },
  {
   "cell_type": "code",
   "execution_count": 24,
   "metadata": {
    "collapsed": true
   },
   "outputs": [],
   "source": [
    "#Se lee la señal anteriormente procesada\n",
    "data_set = pd.read_csv(\"../data/TrueFX/EUR-USD/datos_procesados_40s_EURUSD-2018-01.csv\", parse_dates=True,\n",
    "                      infer_datetime_format=True, index_col=0)\n",
    "window = 3\n",
    "X, y_reg, bt = EU.build_dataset(data_set, window, binary_target=True, delete_constant_values=True, PNL=True)"
   ]
  },
  {
   "cell_type": "code",
   "execution_count": 25,
   "metadata": {},
   "outputs": [
    {
     "name": "stdout",
     "output_type": "stream",
     "text": [
      "--------- GaussianNB 40s ----------------\n",
      "average PNL :  -0.0775695\n",
      "average buy:  827.35\n",
      "average sell:  1091.95\n",
      "-------------------------------------\n",
      "                PNL    buys   sells  longest_buys  longest_sells\n",
      "2018-01-05 -0.07755   444.0  1482.0         303.0          939.0\n",
      "2018-01-08 -0.06537  1837.0   105.0        1617.0           97.0\n",
      "2018-01-09 -0.06115  1933.0     0.0        1933.0            0.0\n",
      "2018-01-10 -0.06992  1729.0   252.0        1253.0          130.0\n",
      "2018-01-11 -0.06184     0.0  2001.0           0.0         2001.0\n",
      "2018-01-12 -0.09686  1846.0   151.0        1846.0          151.0\n",
      "2018-01-15 -0.09233  2017.0     0.0        2017.0            0.0\n",
      "2018-01-16 -0.07567     0.0  2000.0           0.0         2000.0\n",
      "2018-01-17 -0.09090    13.0  2031.0          13.0         2031.0\n",
      "2018-01-18 -0.08200   585.0  1451.0         174.0         1214.0\n",
      "2018-01-19 -0.09276   698.0  1316.0         405.0         1027.0\n",
      "2018-01-22 -0.08360   934.0  1088.0         612.0          316.0\n",
      "2018-01-23 -0.08005   349.0  1664.0         163.0          766.0\n",
      "2018-01-24 -0.06350     0.0  2043.0           0.0         2043.0\n",
      "2018-01-25 -0.08675    14.0  2062.0           7.0         1374.0\n",
      "2018-01-26 -0.09134     0.0  2065.0           0.0         2065.0\n",
      "2018-01-29 -0.09063  1452.0   581.0         944.0          252.0\n",
      "2018-01-30 -0.08331  1682.0   356.0        1061.0          207.0\n",
      "2018-01-31 -0.09076   866.0  1187.0         428.0         1080.0\n",
      "2018-02-01 -0.01510   148.0     4.0         142.0            4.0\n"
     ]
    }
   ],
   "source": [
    "from sklearn.naive_bayes import GaussianNB\n",
    "    \n",
    "y = bt\n",
    "n_bdtrain = 4\n",
    "n_bdtest = 1\n",
    "mday = 1\n",
    "#para indexar el dataframe por las fechas\n",
    "dates = np.unique(X.index.date)[n_bdtrain:]\n",
    "est_GNB = PNLEstimatorWrapper(GaussianNB(), PNL_column=['PNL_0','PNL_1'])\n",
    "result_GNB = EU.step_validation(est_GNB, X, y, EU.v_split(X,n_bdtrain,n_bdtest,mday))\n",
    "result_GNB, predict_GNB = EU.redim(result_GNB)\n",
    "print('--------- GaussianNB 40s ----------------')\n",
    "print('average PNL : ', np.mean(result_GNB[:,0]))\n",
    "print('average buy: ', np.mean(result_GNB[:,1]))\n",
    "print('average sell: ', np.mean(result_GNB[:,2]))\n",
    "print('-------------------------------------')\n",
    "df_GNB = pd.DataFrame(result_GNB, columns=list(['PNL','buys','sells','longest_buys','longest_sells']),index=dates)\n",
    "print(df_GNB)\n",
    "df_GNB.to_csv('../resultados/TrueFX/EUR-USD/GaussianNB/pnl_40s_GNB_wsize3_2018-01.csv')"
   ]
  },
  {
   "cell_type": "code",
   "execution_count": 26,
   "metadata": {},
   "outputs": [
    {
     "name": "stdout",
     "output_type": "stream",
     "text": [
      "-------- KNeighborsClassifier 40s -------\n",
      "average PNL:  -0.0721925\n",
      "average buy:  853.05\n",
      "average sell:  1066.25\n",
      "-------------------------------------\n",
      "                PNL    buys   sells  longest_buys  longest_sells\n",
      "2018-01-05 -0.07183   906.0  1020.0          14.0           14.0\n",
      "2018-01-08 -0.06990  1576.0   366.0         902.0           11.0\n",
      "2018-01-09 -0.06225  1597.0   336.0        1189.0           10.0\n",
      "2018-01-10 -0.06764   890.0  1091.0          19.0           39.0\n",
      "2018-01-11 -0.06449   906.0  1095.0          10.0           13.0\n",
      "2018-01-12 -0.07116   272.0  1725.0           7.0         1192.0\n",
      "2018-01-15 -0.08374   237.0  1780.0          50.0         1179.0\n",
      "2018-01-16 -0.07703   866.0  1134.0          12.0           22.0\n",
      "2018-01-17 -0.09937   976.0  1068.0          16.0           59.0\n",
      "2018-01-18 -0.08091  1141.0   895.0          36.0           14.0\n",
      "2018-01-19 -0.07265   977.0  1037.0          14.0           10.0\n",
      "2018-01-22 -0.06833  1079.0   943.0          15.0           13.0\n",
      "2018-01-23 -0.06780   877.0  1136.0          15.0           32.0\n",
      "2018-01-24 -0.06410    55.0  1988.0           8.0         1766.0\n",
      "2018-01-25 -0.09601   392.0  1684.0          15.0          518.0\n",
      "2018-01-26 -0.07210   855.0  1210.0          25.0           21.0\n",
      "2018-01-29 -0.07239  1228.0   805.0          30.0           11.0\n",
      "2018-01-30 -0.07549  1099.0   939.0          18.0           15.0\n",
      "2018-01-31 -0.09187  1036.0  1017.0          23.0           14.0\n",
      "2018-02-01 -0.01479    96.0    56.0          12.0            6.0\n"
     ]
    }
   ],
   "source": [
    "from sklearn.neighbors import KNeighborsClassifier\n",
    "\n",
    "est_KNC = PNLEstimatorWrapper(KNeighborsClassifier(n_neighbors=7,n_jobs=2,leaf_size=30\n",
    "                                                   ,algorithm='kd_tree'), PNL_column=['PNL_0','PNL_1'])\n",
    "result_KNC = EU.step_validation(est_KNC, X, y, EU.v_split(X,4,1,1))\n",
    "result_KNC, predict_KNC = EU.redim(result_KNC)\n",
    "print('-------- KNeighborsClassifier 40s -------')\n",
    "print('average PNL: ', np.mean(result_KNC[:,0]))\n",
    "print('average buy: ', np.mean(result_KNC[:,1]))\n",
    "print('average sell: ', np.mean(result_KNC[:,2]))\n",
    "print('-------------------------------------')\n",
    "df_KNC = pd.DataFrame(result_KNC, columns=list(['PNL','buys','sells','longest_buys','longest_sells']),index=dates)\n",
    "print(df_KNC)\n",
    "df_KNC.to_csv('../resultados/TrueFX/EUR-USD/KNeighborsClassfier/pnl_40s_KNC_wsize3_2018-01.csv')"
   ]
  },
  {
   "cell_type": "code",
   "execution_count": 27,
   "metadata": {},
   "outputs": [
    {
     "name": "stdout",
     "output_type": "stream",
     "text": [
      "------ DecisionTreeClassifier 40s -------\n",
      "average PNL:  -0.07226\n",
      "average buy:  863.45\n",
      "average sell:  1055.85\n",
      "-------------------------------------\n",
      "                PNL    buys   sells  longest_buys  longest_sells\n",
      "2018-01-05 -0.08115   888.0  1038.0          10.0           14.0\n",
      "2018-01-08 -0.07390   426.0  1516.0          10.0          884.0\n",
      "2018-01-09 -0.06182  1607.0   326.0        1189.0            7.0\n",
      "2018-01-10 -0.07283   983.0   998.0          18.0           35.0\n",
      "2018-01-11 -0.07467   962.0  1039.0          12.0           13.0\n",
      "2018-01-12 -0.06868   302.0  1695.0          11.0         1191.0\n",
      "2018-01-15 -0.08910  1527.0   490.0        1168.0           48.0\n",
      "2018-01-16 -0.06890   984.0  1016.0          23.0           16.0\n",
      "2018-01-17 -0.08375  1017.0  1027.0          37.0           14.0\n",
      "2018-01-18 -0.07357  1045.0   991.0          49.0           11.0\n",
      "2018-01-19 -0.07160   939.0  1075.0           9.0           20.0\n",
      "2018-01-22 -0.07102  1021.0  1001.0           9.0           17.0\n",
      "2018-01-23 -0.07435   958.0  1055.0          24.0           15.0\n",
      "2018-01-24 -0.06508    57.0  1986.0           4.0         1769.0\n",
      "2018-01-25 -0.09011   380.0  1696.0           9.0          531.0\n",
      "2018-01-26 -0.08967   909.0  1156.0          12.0           18.0\n",
      "2018-01-29 -0.07579  1079.0   954.0          14.0           13.0\n",
      "2018-01-30 -0.07877  1054.0   984.0          17.0           11.0\n",
      "2018-01-31 -0.06639  1038.0  1015.0          13.0            9.0\n",
      "2018-02-01 -0.01405    93.0    59.0          16.0            6.0\n"
     ]
    }
   ],
   "source": [
    "from sklearn.tree import DecisionTreeClassifier\n",
    "\n",
    "est_DTC = PNLEstimatorWrapper(DecisionTreeClassifier(), PNL_column=['PNL_0','PNL_1'])\n",
    "result_DTC = EU.step_validation(est_DTC, X, y, EU.v_split(X,4,1,1))\n",
    "result_DTC, predict_DTC = EU.redim(result_DTC)\n",
    "print('------ DecisionTreeClassifier 40s -------')\n",
    "print('average PNL: ', np.mean(result_DTC[:,0]))\n",
    "print('average buy: ', np.mean(result_DTC[:,1]))\n",
    "print('average sell: ', np.mean(result_DTC[:,2]))\n",
    "print('-------------------------------------')\n",
    "df_DTC = pd.DataFrame(result_DTC, columns=list(['PNL','buys','sells','longest_buys','longest_sells']),index=dates)\n",
    "print(df_DTC)\n",
    "df_DTC.to_csv('../resultados/TrueFX/EUR-USD/DecisionTreeClassifier/pnl_40s_DTC_wsize3_2018-01.csv')"
   ]
  },
  {
   "cell_type": "code",
   "execution_count": 28,
   "metadata": {},
   "outputs": [
    {
     "name": "stdout",
     "output_type": "stream",
     "text": [
      "------- RandomForestClassifier 40s -------\n",
      "PNL promedio:  -0.077048\n",
      "buy promedio:  856.35\n",
      "sell promedio:  1062.95\n",
      "-------------------------------------\n",
      "                PNL    buys   sells  longest_buys  longest_sells\n",
      "2018-01-05 -0.07573   895.0  1031.0          11.0           11.0\n",
      "2018-01-08 -0.06861  1568.0   374.0         899.0           11.0\n",
      "2018-01-09 -0.06662  1639.0   294.0        1190.0            8.0\n",
      "2018-01-10 -0.07109   902.0  1079.0          18.0           47.0\n",
      "2018-01-11 -0.06519   968.0  1033.0          13.0           13.0\n",
      "2018-01-12 -0.09567   253.0  1744.0           7.0         1191.0\n",
      "2018-01-15 -0.09083   223.0  1794.0          41.0         1185.0\n",
      "2018-01-16 -0.08597   901.0  1099.0          24.0           17.0\n",
      "2018-01-17 -0.07075   984.0  1060.0          14.0           61.0\n",
      "2018-01-18 -0.07848  1052.0   984.0          20.0           11.0\n",
      "2018-01-19 -0.09276   950.0  1064.0          10.0           11.0\n",
      "2018-01-22 -0.07105  1060.0   962.0          11.0           12.0\n",
      "2018-01-23 -0.07127   923.0  1090.0          23.0           23.0\n",
      "2018-01-24 -0.08212    76.0  1967.0          11.0         1767.0\n",
      "2018-01-25 -0.09012   384.0  1692.0          10.0          519.0\n",
      "2018-01-26 -0.10761   908.0  1157.0          22.0           16.0\n",
      "2018-01-29 -0.08960  1209.0   824.0          26.0           14.0\n",
      "2018-01-30 -0.06855  1090.0   948.0          16.0           19.0\n",
      "2018-01-31 -0.08565  1047.0  1006.0          17.0           20.0\n",
      "2018-02-01 -0.01329    95.0    57.0          24.0            4.0\n"
     ]
    }
   ],
   "source": [
    "from sklearn.ensemble import RandomForestClassifier\n",
    "\n",
    "est_RFC = PNLEstimatorWrapper(RandomForestClassifier(n_estimators=15, n_jobs=3), PNL_column=['PNL_1','PNL_0'])\n",
    "result_RFC = EU.step_validation(est_RFC, X, y, EU.v_split(X,4,1,1))\n",
    "result_RFC, predict_RFC = EU.redim(result_RFC)\n",
    "print('------- RandomForestClassifier 40s -------')\n",
    "print('PNL promedio: ', np.mean(result_RFC[:,0]))\n",
    "print('buy promedio: ', np.mean(result_RFC[:,1]))\n",
    "print('sell promedio: ', np.mean(result_RFC[:,2]))\n",
    "print('-------------------------------------')\n",
    "df_RFC = pd.DataFrame(result_RFC, columns=list(['PNL','buys','sells','longest_buys','longest_sells']),index=dates)\n",
    "print(df_RFC)\n",
    "df_RFC.to_csv('../resultados/TrueFX/EUR-USD/RandomForestClassifier/pnl_40s_RFC_wsize3_2018-01.csv')"
   ]
  },
  {
   "cell_type": "markdown",
   "metadata": {},
   "source": [
    "### se probará con muestreo de 50s"
   ]
  },
  {
   "cell_type": "code",
   "execution_count": 29,
   "metadata": {
    "collapsed": true
   },
   "outputs": [],
   "source": [
    "#Se lee la señal anteriormente procesada\n",
    "data_set = pd.read_csv(\"../data/TrueFX/EUR-USD/datos_procesados_50s_EURUSD-2018-01.csv\", parse_dates=True,\n",
    "                      infer_datetime_format=True, index_col=0)\n",
    "window = 3\n",
    "X, y_reg, bt = EU.build_dataset(data_set, window, binary_target=True, delete_constant_values=True, PNL=True)"
   ]
  },
  {
   "cell_type": "code",
   "execution_count": 30,
   "metadata": {},
   "outputs": [
    {
     "name": "stdout",
     "output_type": "stream",
     "text": [
      "--------- GaussianNB 50s ----------------\n",
      "average PNL :  -0.06148\n",
      "average buy:  443.157894737\n",
      "average sell:  1109.73684211\n",
      "-------------------------------------\n",
      "                PNL    buys   sells  longest_buys  longest_sells\n",
      "2018-01-08 -0.05220  1489.0    84.0        1302.0           80.0\n",
      "2018-01-09 -0.05239   479.0  1114.0         255.0          981.0\n",
      "2018-01-10 -0.05777     0.0  1613.0           0.0         1613.0\n",
      "2018-01-11 -0.04908     0.0  1614.0           0.0         1614.0\n",
      "2018-01-12 -0.04926     0.0  1612.0           0.0         1612.0\n",
      "2018-01-15 -0.07471  1630.0     0.0        1630.0            0.0\n",
      "2018-01-16 -0.06034     0.0  1606.0           0.0         1606.0\n",
      "2018-01-17 -0.07393     0.0  1653.0           0.0         1653.0\n",
      "2018-01-18 -0.06269   240.0  1410.0         134.0         1216.0\n",
      "2018-01-19 -0.07762   486.0  1154.0         317.0          863.0\n",
      "2018-01-22 -0.06973   698.0   930.0         474.0          253.0\n",
      "2018-01-23 -0.05871   198.0  1422.0         127.0          637.0\n",
      "2018-01-24 -0.04897     0.0  1657.0           0.0         1657.0\n",
      "2018-01-25 -0.07281     0.0  1662.0           0.0         1662.0\n",
      "2018-01-26 -0.07389     0.0  1656.0           0.0         1656.0\n",
      "2018-01-29 -0.07460   927.0   718.0         674.0          300.0\n",
      "2018-01-30 -0.06964  1350.0   309.0         862.0          170.0\n",
      "2018-01-31 -0.07788   798.0   871.0         360.0          811.0\n",
      "2018-02-01 -0.01190   125.0     0.0         125.0            0.0\n"
     ]
    }
   ],
   "source": [
    "from sklearn.naive_bayes import GaussianNB\n",
    "    \n",
    "y = bt\n",
    "n_bdtrain = 4\n",
    "n_bdtest = 1\n",
    "mday = 1\n",
    "#para indexar el dataframe por las fechas\n",
    "dates = np.unique(X.index.date)[n_bdtrain:]\n",
    "est_GNB = PNLEstimatorWrapper(GaussianNB(), PNL_column=['PNL_0','PNL_1'])\n",
    "result_GNB = EU.step_validation(est_GNB, X, y, EU.v_split(X,n_bdtrain,n_bdtest,mday))\n",
    "result_GNB, predict_GNB = EU.redim(result_GNB)\n",
    "print('--------- GaussianNB 50s ----------------')\n",
    "print('average PNL : ', np.mean(result_GNB[:,0]))\n",
    "print('average buy: ', np.mean(result_GNB[:,1]))\n",
    "print('average sell: ', np.mean(result_GNB[:,2]))\n",
    "print('-------------------------------------')\n",
    "df_GNB = pd.DataFrame(result_GNB, columns=list(['PNL','buys','sells','longest_buys','longest_sells']),index=dates)\n",
    "print(df_GNB)\n",
    "df_GNB.to_csv('../resultados/TrueFX/EUR-USD/GaussianNB/pnl_50s_GNB_wsize3_2018-01.csv')"
   ]
  },
  {
   "cell_type": "code",
   "execution_count": 31,
   "metadata": {},
   "outputs": [
    {
     "name": "stdout",
     "output_type": "stream",
     "text": [
      "-------- KNeighborsClassifier 50s -------\n",
      "average PNL:  -0.0574368421053\n",
      "average buy:  674.210526316\n",
      "average sell:  878.684210526\n",
      "-------------------------------------\n",
      "                PNL    buys   sells  longest_buys  longest_sells\n",
      "2018-01-08 -0.05458  1253.0   320.0         715.0           12.0\n",
      "2018-01-09 -0.05240  1291.0   302.0         959.0            8.0\n",
      "2018-01-10 -0.05394   661.0   952.0          14.0           35.0\n",
      "2018-01-11 -0.05625   713.0   901.0          10.0           12.0\n",
      "2018-01-12 -0.05248   184.0  1428.0           7.0         1028.0\n",
      "2018-01-15 -0.06753    95.0  1535.0          32.0         1179.0\n",
      "2018-01-16 -0.05528   819.0   787.0          37.0           15.0\n",
      "2018-01-17 -0.06427   739.0   914.0          12.0           56.0\n",
      "2018-01-18 -0.06230   915.0   735.0          37.0           17.0\n",
      "2018-01-19 -0.07202   786.0   854.0          14.0           11.0\n",
      "2018-01-22 -0.06122   862.0   766.0          16.0            9.0\n",
      "2018-01-23 -0.05635   732.0   888.0          16.0           17.0\n",
      "2018-01-24 -0.05203    87.0  1570.0           9.0         1437.0\n",
      "2018-01-25 -0.07409   285.0  1377.0          16.0          420.0\n",
      "2018-01-26 -0.06856   699.0   957.0          18.0           31.0\n",
      "2018-01-29 -0.05466   943.0   702.0          26.0           15.0\n",
      "2018-01-30 -0.04901   846.0   813.0          12.0           12.0\n",
      "2018-01-31 -0.07353   828.0   841.0          10.0           20.0\n",
      "2018-02-01 -0.01080    72.0    53.0           9.0            6.0\n"
     ]
    }
   ],
   "source": [
    "from sklearn.neighbors import KNeighborsClassifier\n",
    "\n",
    "est_KNC = PNLEstimatorWrapper(KNeighborsClassifier(n_neighbors=7,n_jobs=2,leaf_size=30\n",
    "                                                   ,algorithm='kd_tree'), PNL_column=['PNL_0','PNL_1'])\n",
    "result_KNC = EU.step_validation(est_KNC, X, y, EU.v_split(X,4,1,1))\n",
    "result_KNC, predict_KNC = EU.redim(result_KNC)\n",
    "print('-------- KNeighborsClassifier 50s -------')\n",
    "print('average PNL: ', np.mean(result_KNC[:,0]))\n",
    "print('average buy: ', np.mean(result_KNC[:,1]))\n",
    "print('average sell: ', np.mean(result_KNC[:,2]))\n",
    "print('-------------------------------------')\n",
    "df_KNC = pd.DataFrame(result_KNC, columns=list(['PNL','buys','sells','longest_buys','longest_sells']),index=dates)\n",
    "print(df_KNC)\n",
    "df_KNC.to_csv('../resultados/TrueFX/EUR-USD/KNeighborsClassfier/pnl_50s_KNC_wsize3_2018-01.csv')"
   ]
  },
  {
   "cell_type": "code",
   "execution_count": 32,
   "metadata": {},
   "outputs": [
    {
     "name": "stdout",
     "output_type": "stream",
     "text": [
      "------ DecisionTreeClassifier 50s -------\n",
      "average PNL:  -0.0591242105263\n",
      "average buy:  692.368421053\n",
      "average sell:  860.526315789\n",
      "-------------------------------------\n",
      "                PNL    buys   sells  longest_buys  longest_sells\n",
      "2018-01-08 -0.05323  1231.0   342.0         705.0           12.0\n",
      "2018-01-09 -0.05177  1306.0   287.0         961.0            8.0\n",
      "2018-01-10 -0.06212   704.0   909.0          15.0           34.0\n",
      "2018-01-11 -0.05436   743.0   871.0          11.0            9.0\n",
      "2018-01-12 -0.05247   268.0  1344.0          11.0          951.0\n",
      "2018-01-15 -0.06441   158.0  1472.0          32.0          962.0\n",
      "2018-01-16 -0.06139   853.0   753.0          25.0           19.0\n",
      "2018-01-17 -0.06791   781.0   872.0          44.0           16.0\n",
      "2018-01-18 -0.07215   806.0   844.0          10.0           12.0\n",
      "2018-01-19 -0.06137   813.0   827.0          12.0           11.0\n",
      "2018-01-22 -0.05242   818.0   810.0          12.0           13.0\n",
      "2018-01-23 -0.04745   821.0   799.0          32.0           31.0\n",
      "2018-01-24 -0.05077    72.0  1585.0           7.0         1436.0\n",
      "2018-01-25 -0.09391   316.0  1346.0          14.0          407.0\n",
      "2018-01-26 -0.06720   795.0   861.0          24.0           22.0\n",
      "2018-01-29 -0.05917   907.0   738.0          24.0           17.0\n",
      "2018-01-30 -0.06347   819.0   840.0          13.0           12.0\n",
      "2018-01-31 -0.07729   880.0   789.0          12.0           10.0\n",
      "2018-02-01 -0.01050    64.0    61.0          10.0           13.0\n"
     ]
    }
   ],
   "source": [
    "from sklearn.tree import DecisionTreeClassifier\n",
    "\n",
    "est_DTC = PNLEstimatorWrapper(DecisionTreeClassifier(), PNL_column=['PNL_0','PNL_1'])\n",
    "result_DTC = EU.step_validation(est_DTC, X, y, EU.v_split(X,4,1,1))\n",
    "result_DTC, predict_DTC = EU.redim(result_DTC)\n",
    "print('------ DecisionTreeClassifier 50s -------')\n",
    "print('average PNL: ', np.mean(result_DTC[:,0]))\n",
    "print('average buy: ', np.mean(result_DTC[:,1]))\n",
    "print('average sell: ', np.mean(result_DTC[:,2]))\n",
    "print('-------------------------------------')\n",
    "df_DTC = pd.DataFrame(result_DTC, columns=list(['PNL','buys','sells','longest_buys','longest_sells']),index=dates)\n",
    "print(df_DTC)\n",
    "df_DTC.to_csv('../resultados/TrueFX/EUR-USD/DecisionTreeClassifier/pnl_50s_DTC_wsize3_2018-01.csv')"
   ]
  },
  {
   "cell_type": "code",
   "execution_count": 33,
   "metadata": {},
   "outputs": [
    {
     "name": "stdout",
     "output_type": "stream",
     "text": [
      "------- RandomForestClassifier 50s -------\n",
      "PNL promedio:  -0.0622526315789\n",
      "buy promedio:  633.052631579\n",
      "sell promedio:  919.842105263\n",
      "-------------------------------------\n",
      "                PNL    buys   sells  longest_buys  longest_sells\n",
      "2018-01-08 -0.05859   348.0  1225.0          13.0          703.0\n",
      "2018-01-09 -0.05550  1288.0   305.0         972.0            9.0\n",
      "2018-01-10 -0.06195   669.0   944.0          15.0           31.0\n",
      "2018-01-11 -0.06059   712.0   902.0           7.0           14.0\n",
      "2018-01-12 -0.07809   227.0  1385.0          10.0          962.0\n",
      "2018-01-15 -0.06768   141.0  1489.0          31.0          963.0\n",
      "2018-01-16 -0.05848   803.0   803.0          22.0           12.0\n",
      "2018-01-17 -0.06545   767.0   886.0          14.0           46.0\n",
      "2018-01-18 -0.05616   857.0   793.0          27.0           12.0\n",
      "2018-01-19 -0.06393   759.0   881.0          12.0            8.0\n",
      "2018-01-22 -0.06124   805.0   823.0          11.0           13.0\n",
      "2018-01-23 -0.06510   794.0   826.0          30.0           16.0\n",
      "2018-01-24 -0.06948    77.0  1580.0           4.0         1436.0\n",
      "2018-01-25 -0.06672   294.0  1368.0          18.0          408.0\n",
      "2018-01-26 -0.08363   833.0   823.0          23.0           19.0\n",
      "2018-01-29 -0.08050   924.0   721.0          21.0           12.0\n",
      "2018-01-30 -0.06142   829.0   830.0          12.0           15.0\n",
      "2018-01-31 -0.05650   833.0   836.0          12.0           10.0\n",
      "2018-02-01 -0.01179    68.0    57.0          11.0           13.0\n"
     ]
    }
   ],
   "source": [
    "from sklearn.ensemble import RandomForestClassifier\n",
    "\n",
    "est_RFC = PNLEstimatorWrapper(RandomForestClassifier(n_estimators=15, n_jobs=3), PNL_column=['PNL_1','PNL_0'])\n",
    "result_RFC = EU.step_validation(est_RFC, X, y, EU.v_split(X,4,1,1))\n",
    "result_RFC, predict_RFC = EU.redim(result_RFC)\n",
    "print('------- RandomForestClassifier 50s -------')\n",
    "print('PNL promedio: ', np.mean(result_RFC[:,0]))\n",
    "print('buy promedio: ', np.mean(result_RFC[:,1]))\n",
    "print('sell promedio: ', np.mean(result_RFC[:,2]))\n",
    "print('-------------------------------------')\n",
    "df_RFC = pd.DataFrame(result_RFC, columns=list(['PNL','buys','sells','longest_buys','longest_sells']),index=dates)\n",
    "print(df_RFC)\n",
    "df_RFC.to_csv('../resultados/TrueFX/EUR-USD/RandomForestClassifier/pnl_50s_RFC_wsize3_2018-01.csv')"
   ]
  },
  {
   "cell_type": "markdown",
   "metadata": {},
   "source": [
    "### se prueba con resample = 1 minuto"
   ]
  },
  {
   "cell_type": "code",
   "execution_count": 34,
   "metadata": {
    "collapsed": true
   },
   "outputs": [],
   "source": [
    "#Se lee la señal anteriormente procesada\n",
    "data_set = pd.read_csv(\"../data/TrueFX/EUR-USD/datos_procesados_1T_EURUSD-2018-01.csv\", parse_dates=True,\n",
    "                      infer_datetime_format=True, index_col=0)\n",
    "window = 3\n",
    "X, y_reg, bt = EU.build_dataset(data_set, window, binary_target=True, delete_constant_values=True, PNL=True)"
   ]
  },
  {
   "cell_type": "code",
   "execution_count": 35,
   "metadata": {},
   "outputs": [
    {
     "name": "stdout",
     "output_type": "stream",
     "text": [
      "--------- GaussianNB 1m ----------------\n",
      "average PNL :  -0.0522663157895\n",
      "average buy:  636.315789474\n",
      "average sell:  665.947368421\n",
      "-------------------------------------\n",
      "                PNL    buys   sells  longest_buys  longest_sells\n",
      "2018-01-08 -0.04382  1237.0    91.0        1096.0           91.0\n",
      "2018-01-09 -0.03772  1299.0    24.0         852.0            9.0\n",
      "2018-01-10 -0.05551  1334.0    35.0         768.0           13.0\n",
      "2018-01-11 -0.04805   827.0   546.0         827.0          546.0\n",
      "2018-01-12 -0.03802    54.0  1303.0          54.0         1303.0\n",
      "2018-01-15 -0.06492  1375.0     0.0        1375.0            0.0\n",
      "2018-01-16 -0.05220     0.0  1357.0           0.0         1357.0\n",
      "2018-01-17 -0.06477     1.0  1382.0           1.0         1377.0\n",
      "2018-01-18 -0.05732   643.0   746.0         576.0          701.0\n",
      "2018-01-19 -0.06391   713.0   657.0         390.0          613.0\n",
      "2018-01-22 -0.06052   761.0   608.0         444.0          169.0\n",
      "2018-01-23 -0.04966   172.0  1184.0         102.0          535.0\n",
      "2018-01-24 -0.03893     0.0  1374.0           0.0         1374.0\n",
      "2018-01-25 -0.05875  1393.0     0.0        1393.0            0.0\n",
      "2018-01-26 -0.06215     0.0  1390.0           0.0         1390.0\n",
      "2018-01-29 -0.06411   646.0   729.0         564.0          304.0\n",
      "2018-01-30 -0.05882  1034.0   339.0         702.0          154.0\n",
      "2018-01-31 -0.06412   546.0   836.0         169.0          734.0\n",
      "2018-02-01 -0.00976    55.0    52.0          55.0           52.0\n"
     ]
    }
   ],
   "source": [
    "from sklearn.naive_bayes import GaussianNB\n",
    "    \n",
    "y = bt\n",
    "n_bdtrain = 4\n",
    "n_bdtest = 1\n",
    "mday = 1\n",
    "#para indexar el dataframe por las fechas\n",
    "dates = np.unique(X.index.date)[n_bdtrain:]\n",
    "est_GNB = PNLEstimatorWrapper(GaussianNB(), PNL_column=['PNL_0','PNL_1'])\n",
    "result_GNB = EU.step_validation(est_GNB, X, y, EU.v_split(X,n_bdtrain,n_bdtest,mday))\n",
    "result_GNB, predict_GNB = EU.redim(result_GNB)\n",
    "print('--------- GaussianNB 1m ----------------')\n",
    "print('average PNL : ', np.mean(result_GNB[:,0]))\n",
    "print('average buy: ', np.mean(result_GNB[:,1]))\n",
    "print('average sell: ', np.mean(result_GNB[:,2]))\n",
    "print('-------------------------------------')\n",
    "df_GNB = pd.DataFrame(result_GNB, columns=list(['PNL','buys','sells','longest_buys','longest_sells']),index=dates)\n",
    "print(df_GNB)\n",
    "df_GNB.to_csv('../resultados/TrueFX/EUR-USD/GaussianNB/pnl_1m_GNB_wsize3_2018-01.csv')"
   ]
  },
  {
   "cell_type": "code",
   "execution_count": 36,
   "metadata": {},
   "outputs": [
    {
     "name": "stdout",
     "output_type": "stream",
     "text": [
      "-------- KNeighborsClassifier 1m -------\n",
      "average PNL:  -0.0476647368421\n",
      "average buy:  544.368421053\n",
      "average sell:  757.894736842\n",
      "-------------------------------------\n",
      "                PNL    buys   sells  longest_buys  longest_sells\n",
      "2018-01-08 -0.04699  1086.0   242.0         611.0            8.0\n",
      "2018-01-09 -0.04563   202.0  1121.0          10.0          795.0\n",
      "2018-01-10 -0.05491   595.0   774.0          17.0           85.0\n",
      "2018-01-11 -0.04645   641.0   732.0          12.0           12.0\n",
      "2018-01-12 -0.04161   224.0  1133.0          13.0          851.0\n",
      "2018-01-15 -0.05653   137.0  1238.0          27.0          811.0\n",
      "2018-01-16 -0.05444   701.0   656.0          23.0           17.0\n",
      "2018-01-17 -0.05451   661.0   722.0          28.0           87.0\n",
      "2018-01-18 -0.04876   793.0   596.0          20.0           12.0\n",
      "2018-01-19 -0.05172   679.0   691.0          13.0           11.0\n",
      "2018-01-22 -0.04833   747.0   622.0          14.0           10.0\n",
      "2018-01-23 -0.04897   607.0   749.0          19.0           34.0\n",
      "2018-01-24 -0.04006    63.0  1311.0           6.0         1186.0\n",
      "2018-01-25 -0.06444   279.0  1114.0          18.0          348.0\n",
      "2018-01-26 -0.04277   653.0   737.0          20.0           16.0\n",
      "2018-01-29 -0.04304   784.0   591.0          22.0           11.0\n",
      "2018-01-30 -0.04817   728.0   645.0          15.0           11.0\n",
      "2018-01-31 -0.05948   711.0   671.0          10.0            8.0\n",
      "2018-02-01 -0.00882    52.0    55.0           5.0            9.0\n"
     ]
    }
   ],
   "source": [
    "from sklearn.neighbors import KNeighborsClassifier\n",
    "\n",
    "est_KNC = PNLEstimatorWrapper(KNeighborsClassifier(n_neighbors=7,n_jobs=2,leaf_size=30\n",
    "                                                   ,algorithm='kd_tree'), PNL_column=['PNL_0','PNL_1'])\n",
    "result_KNC = EU.step_validation(est_KNC, X, y, EU.v_split(X,4,1,1))\n",
    "result_KNC, predict_KNC = EU.redim(result_KNC)\n",
    "print('-------- KNeighborsClassifier 1m -------')\n",
    "print('average PNL: ', np.mean(result_KNC[:,0]))\n",
    "print('average buy: ', np.mean(result_KNC[:,1]))\n",
    "print('average sell: ', np.mean(result_KNC[:,2]))\n",
    "print('-------------------------------------')\n",
    "df_KNC = pd.DataFrame(result_KNC, columns=list(['PNL','buys','sells','longest_buys','longest_sells']),index=dates)\n",
    "print(df_KNC)\n",
    "df_KNC.to_csv('../resultados/TrueFX/EUR-USD/KNeighborsClassfier/pnl_1m_KNC_wsize3_2018-01.csv')"
   ]
  },
  {
   "cell_type": "code",
   "execution_count": 37,
   "metadata": {},
   "outputs": [
    {
     "name": "stdout",
     "output_type": "stream",
     "text": [
      "------ DecisionTreeClassifier 1m -------\n",
      "average PNL:  -0.0521205263158\n",
      "average buy:  636.421052632\n",
      "average sell:  665.842105263\n",
      "-------------------------------------\n",
      "                PNL    buys   sells  longest_buys  longest_sells\n",
      "2018-01-08 -0.05229   281.0  1047.0          10.0          598.0\n",
      "2018-01-09 -0.04281  1075.0   248.0         797.0           10.0\n",
      "2018-01-10 -0.04864   618.0   751.0          12.0           22.0\n",
      "2018-01-11 -0.04872   675.0   698.0           8.0           11.0\n",
      "2018-01-12 -0.06776  1101.0   256.0         793.0           21.0\n",
      "2018-01-15 -0.06548  1057.0   318.0         806.0           48.0\n",
      "2018-01-16 -0.05351   726.0   631.0          17.0           15.0\n",
      "2018-01-17 -0.04815   705.0   678.0          38.0           15.0\n",
      "2018-01-18 -0.04963   729.0   660.0          36.0           11.0\n",
      "2018-01-19 -0.06197   686.0   684.0          11.0           10.0\n",
      "2018-01-22 -0.04446   698.0   671.0          10.0            9.0\n",
      "2018-01-23 -0.05773   613.0   743.0           8.0           55.0\n",
      "2018-01-24 -0.03920    57.0  1317.0           7.0         1188.0\n",
      "2018-01-25 -0.05995   260.0  1133.0           9.0          346.0\n",
      "2018-01-26 -0.07194   616.0   774.0           9.0           38.0\n",
      "2018-01-29 -0.04900   753.0   622.0          21.0           13.0\n",
      "2018-01-30 -0.05075   717.0   656.0          17.0            8.0\n",
      "2018-01-31 -0.06886   671.0   711.0          10.0           15.0\n",
      "2018-02-01 -0.00944    54.0    53.0           5.0            7.0\n"
     ]
    }
   ],
   "source": [
    "from sklearn.tree import DecisionTreeClassifier\n",
    "\n",
    "est_DTC = PNLEstimatorWrapper(DecisionTreeClassifier(), PNL_column=['PNL_0','PNL_1'])\n",
    "result_DTC = EU.step_validation(est_DTC, X, y, EU.v_split(X,4,1,1))\n",
    "result_DTC, predict_DTC = EU.redim(result_DTC)\n",
    "print('------ DecisionTreeClassifier 1m -------')\n",
    "print('average PNL: ', np.mean(result_DTC[:,0]))\n",
    "print('average buy: ', np.mean(result_DTC[:,1]))\n",
    "print('average sell: ', np.mean(result_DTC[:,2]))\n",
    "print('-------------------------------------')\n",
    "df_DTC = pd.DataFrame(result_DTC, columns=list(['PNL','buys','sells','longest_buys','longest_sells']),index=dates)\n",
    "print(df_DTC)\n",
    "df_DTC.to_csv('../resultados/TrueFX/EUR-USD/DecisionTreeClassifier/pnl_1m_DTC_wsize3_2018-01.csv')"
   ]
  },
  {
   "cell_type": "code",
   "execution_count": 38,
   "metadata": {},
   "outputs": [
    {
     "name": "stdout",
     "output_type": "stream",
     "text": [
      "------- RandomForestClassifier 1m -------\n",
      "PNL promedio:  -0.0526326315789\n",
      "buy promedio:  584.894736842\n",
      "sell promedio:  717.368421053\n",
      "-------------------------------------\n",
      "                PNL    buys   sells  longest_buys  longest_sells\n",
      "2018-01-08 -0.04668   314.0  1014.0          16.0          598.0\n",
      "2018-01-09 -0.04378  1062.0   261.0         797.0           11.0\n",
      "2018-01-10 -0.05164   611.0   758.0          14.0           28.0\n",
      "2018-01-11 -0.05102   655.0   718.0          12.0            9.0\n",
      "2018-01-12 -0.04798  1122.0   235.0         787.0           11.0\n",
      "2018-01-15 -0.05467   112.0  1263.0          26.0          813.0\n",
      "2018-01-16 -0.05896   642.0   715.0          16.0           21.0\n",
      "2018-01-17 -0.05105   642.0   741.0          12.0           38.0\n",
      "2018-01-18 -0.04737   744.0   645.0          33.0           11.0\n",
      "2018-01-19 -0.06381   666.0   704.0          12.0            9.0\n",
      "2018-01-22 -0.05211   724.0   645.0          11.0           10.0\n",
      "2018-01-23 -0.04724   649.0   707.0          12.0           23.0\n",
      "2018-01-24 -0.06066    43.0  1331.0           4.0         1188.0\n",
      "2018-01-25 -0.06356   265.0  1128.0          11.0          346.0\n",
      "2018-01-26 -0.07086   627.0   763.0          26.0           26.0\n",
      "2018-01-29 -0.07358   808.0   567.0          21.0           11.0\n",
      "2018-01-30 -0.04670   679.0   694.0          11.0           12.0\n",
      "2018-01-31 -0.05835   691.0   691.0          11.0            9.0\n",
      "2018-02-01 -0.01000    57.0    50.0           6.0            5.0\n"
     ]
    }
   ],
   "source": [
    "from sklearn.ensemble import RandomForestClassifier\n",
    "\n",
    "est_RFC = PNLEstimatorWrapper(RandomForestClassifier(n_estimators=15, n_jobs=3), PNL_column=['PNL_1','PNL_0'])\n",
    "result_RFC = EU.step_validation(est_RFC, X, y, EU.v_split(X,4,1,1))\n",
    "result_RFC, predict_RFC = EU.redim(result_RFC)\n",
    "print('------- RandomForestClassifier 1m -------')\n",
    "print('PNL promedio: ', np.mean(result_RFC[:,0]))\n",
    "print('buy promedio: ', np.mean(result_RFC[:,1]))\n",
    "print('sell promedio: ', np.mean(result_RFC[:,2]))\n",
    "print('-------------------------------------')\n",
    "df_RFC = pd.DataFrame(result_RFC, columns=list(['PNL','buys','sells','longest_buys','longest_sells']),index=dates)\n",
    "print(df_RFC)\n",
    "df_RFC.to_csv('../resultados/TrueFX/EUR-USD/RandomForestClassifier/pnl_1m_RFC_wsize3_2018-01.csv')"
   ]
  },
  {
   "cell_type": "markdown",
   "metadata": {},
   "source": [
    "### ahora se prueba con las muestras de 1 minuto y 30s"
   ]
  },
  {
   "cell_type": "code",
   "execution_count": 39,
   "metadata": {
    "collapsed": true
   },
   "outputs": [],
   "source": [
    "#Se lee la señal anteriormente procesada\n",
    "data_set = pd.read_csv(\"../data/TrueFX/EUR-USD/datos_procesados_1T30s_EURUSD-2018-01.csv\", parse_dates=True,\n",
    "                      infer_datetime_format=True, index_col=0)\n",
    "window = 3\n",
    "X, y_reg, bt = EU.build_dataset(data_set, window, binary_target=True, delete_constant_values=True, PNL=True)"
   ]
  },
  {
   "cell_type": "code",
   "execution_count": 40,
   "metadata": {},
   "outputs": [
    {
     "name": "stdout",
     "output_type": "stream",
     "text": [
      "--------- GaussianNB 1m30s ----------------\n",
      "average PNL :  -0.0361521052632\n",
      "average buy:  364.210526316\n",
      "average sell:  515.473684211\n",
      "-------------------------------------\n",
      "                PNL   buys  sells  longest_buys  longest_sells\n",
      "2018-01-08 -0.02756  869.0   30.0         743.0           17.0\n",
      "2018-01-09 -0.03024  368.0  542.0         324.0          537.0\n",
      "2018-01-10 -0.03776  867.0   54.0         495.0           48.0\n",
      "2018-01-11 -0.02322    0.0  910.0           0.0          910.0\n",
      "2018-01-12 -0.04131  516.0  398.0         516.0          398.0\n",
      "2018-01-15 -0.04457  910.0    0.0         910.0            0.0\n",
      "2018-01-16 -0.03489  924.0    0.0         924.0            0.0\n",
      "2018-01-17 -0.04715    3.0  940.0           3.0          939.0\n",
      "2018-01-18 -0.03858  364.0  569.0         305.0          495.0\n",
      "2018-01-19 -0.04781  416.0  514.0         260.0          431.0\n",
      "2018-01-22 -0.04093  451.0  477.0         302.0          138.0\n",
      "2018-01-23 -0.03572  157.0  765.0          75.0          356.0\n",
      "2018-01-24 -0.02233    0.0  929.0           0.0          929.0\n",
      "2018-01-25 -0.04218    0.0  936.0           0.0          936.0\n",
      "2018-01-26 -0.04166    0.0  938.0           0.0          938.0\n",
      "2018-01-29 -0.04163  389.0  540.0         375.0          380.0\n",
      "2018-01-30 -0.03882  523.0  406.0         456.0          259.0\n",
      "2018-01-31 -0.04193  106.0  830.0          70.0          644.0\n",
      "2018-02-01 -0.00860   57.0   16.0          50.0           14.0\n"
     ]
    }
   ],
   "source": [
    "from sklearn.naive_bayes import GaussianNB\n",
    "    \n",
    "y = bt\n",
    "n_bdtrain = 4\n",
    "n_bdtest = 1\n",
    "mday = 1\n",
    "#para indexar el dataframe por las fechas\n",
    "dates = np.unique(X.index.date)[n_bdtrain:]\n",
    "est_GNB = PNLEstimatorWrapper(GaussianNB(), PNL_column=['PNL_0','PNL_1'])\n",
    "result_GNB = EU.step_validation(est_GNB, X, y, EU.v_split(X,n_bdtrain,n_bdtest,mday))\n",
    "result_GNB, predict_GNB = EU.redim(result_GNB)\n",
    "print('--------- GaussianNB 1m30s ----------------')\n",
    "print('average PNL : ', np.mean(result_GNB[:,0]))\n",
    "print('average buy: ', np.mean(result_GNB[:,1]))\n",
    "print('average sell: ', np.mean(result_GNB[:,2]))\n",
    "print('-------------------------------------')\n",
    "df_GNB = pd.DataFrame(result_GNB, columns=list(['PNL','buys','sells','longest_buys','longest_sells']),index=dates)\n",
    "print(df_GNB)\n",
    "df_GNB.to_csv('../resultados/TrueFX/EUR-USD/GaussianNB/pnl_1m30s_GNB_wsize3_2018-01.csv')"
   ]
  },
  {
   "cell_type": "code",
   "execution_count": 41,
   "metadata": {},
   "outputs": [
    {
     "name": "stdout",
     "output_type": "stream",
     "text": [
      "-------- KNeighborsClassifier 1m30s -------\n",
      "average PNL:  -0.0330778947368\n",
      "average buy:  387.0\n",
      "average sell:  492.684210526\n",
      "-------------------------------------\n",
      "                PNL   buys  sells  longest_buys  longest_sells\n",
      "2018-01-08 -0.02738  739.0  160.0         415.0            8.0\n",
      "2018-01-09 -0.03385  705.0  205.0         539.0           13.0\n",
      "2018-01-10 -0.04704  337.0  584.0          21.0           54.0\n",
      "2018-01-11 -0.03059  394.0  516.0          17.0           26.0\n",
      "2018-01-12 -0.02650  138.0  776.0          11.0          574.0\n",
      "2018-01-15 -0.03728  100.0  810.0          17.0          667.0\n",
      "2018-01-16 -0.02353  511.0  413.0          28.0           19.0\n",
      "2018-01-17 -0.05093  439.0  504.0          15.0           60.0\n",
      "2018-01-18 -0.03260  592.0  341.0          38.0            9.0\n",
      "2018-01-19 -0.03925  476.0  454.0          15.0           10.0\n",
      "2018-01-22 -0.03211  458.0  470.0           9.0           18.0\n",
      "2018-01-23 -0.03994  349.0  573.0           8.0           64.0\n",
      "2018-01-24 -0.02469   38.0  891.0          13.0          804.0\n",
      "2018-01-25 -0.04544  146.0  790.0          13.0          253.0\n",
      "2018-01-26 -0.03764  366.0  572.0          12.0           30.0\n",
      "2018-01-29 -0.03518  506.0  423.0          24.0           13.0\n",
      "2018-01-30 -0.02291  511.0  418.0          11.0           13.0\n",
      "2018-01-31 -0.03430  504.0  432.0          29.0           13.0\n",
      "2018-02-01 -0.00732   44.0   29.0          13.0            4.0\n"
     ]
    }
   ],
   "source": [
    "from sklearn.neighbors import KNeighborsClassifier\n",
    "\n",
    "est_KNC = PNLEstimatorWrapper(KNeighborsClassifier(n_neighbors=7,n_jobs=2,leaf_size=30\n",
    "                                                   ,algorithm='kd_tree'), PNL_column=['PNL_0','PNL_1'])\n",
    "result_KNC = EU.step_validation(est_KNC, X, y, EU.v_split(X,4,1,1))\n",
    "result_KNC, predict_KNC = EU.redim(result_KNC)\n",
    "print('-------- KNeighborsClassifier 1m30s -------')\n",
    "print('average PNL: ', np.mean(result_KNC[:,0]))\n",
    "print('average buy: ', np.mean(result_KNC[:,1]))\n",
    "print('average sell: ', np.mean(result_KNC[:,2]))\n",
    "print('-------------------------------------')\n",
    "df_KNC = pd.DataFrame(result_KNC, columns=list(['PNL','buys','sells','longest_buys','longest_sells']),index=dates)\n",
    "print(df_KNC)\n",
    "df_KNC.to_csv('../resultados/TrueFX/EUR-USD/KNeighborsClassfier/pnl_1m30s_KNC_wsize3_2018-01.csv')"
   ]
  },
  {
   "cell_type": "code",
   "execution_count": 42,
   "metadata": {},
   "outputs": [
    {
     "name": "stdout",
     "output_type": "stream",
     "text": [
      "------ DecisionTreeClassifier 1m30s -------\n",
      "average PNL:  -0.0319463157895\n",
      "average buy:  388.263157895\n",
      "average sell:  491.421052632\n",
      "-------------------------------------\n",
      "                PNL   buys  sells  longest_buys  longest_sells\n",
      "2018-01-08 -0.03758  209.0  690.0           9.0          401.0\n",
      "2018-01-09 -0.02862  699.0  211.0         538.0            9.0\n",
      "2018-01-10 -0.03859  377.0  544.0          11.0           26.0\n",
      "2018-01-11 -0.03262  394.0  516.0          10.0            9.0\n",
      "2018-01-12 -0.02109  141.0  773.0          20.0          537.0\n",
      "2018-01-15 -0.03749   89.0  821.0          17.0          535.0\n",
      "2018-01-16 -0.04022  477.0  447.0          28.0           13.0\n",
      "2018-01-17 -0.03801  462.0  481.0          26.0           16.0\n",
      "2018-01-18 -0.03206  514.0  419.0          24.0            9.0\n",
      "2018-01-19 -0.03526  465.0  465.0          11.0           11.0\n",
      "2018-01-22 -0.04175  447.0  481.0          10.0           12.0\n",
      "2018-01-23 -0.03705  404.0  518.0           8.0           19.0\n",
      "2018-01-24 -0.02278   43.0  886.0           9.0          805.0\n",
      "2018-01-25 -0.02542  694.0  242.0         230.0            8.0\n",
      "2018-01-26 -0.01626  393.0  545.0          13.0           12.0\n",
      "2018-01-29 -0.04070  532.0  397.0          15.0           10.0\n",
      "2018-01-30 -0.03312  495.0  434.0          13.0           14.0\n",
      "2018-01-31 -0.04271  506.0  430.0          13.0           11.0\n",
      "2018-02-01 -0.00565   36.0   37.0           5.0            5.0\n"
     ]
    }
   ],
   "source": [
    "from sklearn.tree import DecisionTreeClassifier\n",
    "\n",
    "est_DTC = PNLEstimatorWrapper(DecisionTreeClassifier(), PNL_column=['PNL_0','PNL_1'])\n",
    "result_DTC = EU.step_validation(est_DTC, X, y, EU.v_split(X,4,1,1))\n",
    "result_DTC, predict_DTC = EU.redim(result_DTC)\n",
    "print('------ DecisionTreeClassifier 1m30s -------')\n",
    "print('average PNL: ', np.mean(result_DTC[:,0]))\n",
    "print('average buy: ', np.mean(result_DTC[:,1]))\n",
    "print('average sell: ', np.mean(result_DTC[:,2]))\n",
    "print('-------------------------------------')\n",
    "df_DTC = pd.DataFrame(result_DTC, columns=list(['PNL','buys','sells','longest_buys','longest_sells']),index=dates)\n",
    "print(df_DTC)\n",
    "df_DTC.to_csv('../resultados/TrueFX/EUR-USD/DecisionTreeClassifier/pnl_1m30s_DTC_wsize3_2018-01.csv')"
   ]
  },
  {
   "cell_type": "code",
   "execution_count": 43,
   "metadata": {},
   "outputs": [
    {
     "name": "stdout",
     "output_type": "stream",
     "text": [
      "------- RandomForestClassifier 1m30s -------\n",
      "PNL promedio:  -0.0356573684211\n",
      "buy promedio:  388.421052632\n",
      "sell promedio:  491.263157895\n",
      "-------------------------------------\n",
      "                PNL   buys  sells  longest_buys  longest_sells\n",
      "2018-01-08 -0.03441  720.0  179.0         417.0            9.0\n",
      "2018-01-09 -0.03291  703.0  207.0         538.0           14.0\n",
      "2018-01-10 -0.03361  354.0  567.0           9.0           35.0\n",
      "2018-01-11 -0.02416  396.0  514.0          11.0           12.0\n",
      "2018-01-12 -0.05451  146.0  768.0          20.0          537.0\n",
      "2018-01-15 -0.04072  107.0  803.0          17.0          535.0\n",
      "2018-01-16 -0.02622  494.0  430.0          35.0           11.0\n",
      "2018-01-17 -0.03195  421.0  522.0          13.0           35.0\n",
      "2018-01-18 -0.04084  566.0  367.0          33.0            8.0\n",
      "2018-01-19 -0.03055  482.0  448.0          10.0            9.0\n",
      "2018-01-22 -0.03527  498.0  430.0           9.0           11.0\n",
      "2018-01-23 -0.03541  344.0  578.0           9.0           37.0\n",
      "2018-01-24 -0.04386   46.0  883.0          10.0          805.0\n",
      "2018-01-25 -0.02984  134.0  802.0          17.0          243.0\n",
      "2018-01-26 -0.05171  393.0  545.0          15.0           28.0\n",
      "2018-01-29 -0.03970  553.0  376.0          22.0            6.0\n",
      "2018-01-30 -0.03831  484.0  445.0          12.0           12.0\n",
      "2018-01-31 -0.04679  495.0  441.0          27.0           12.0\n",
      "2018-02-01 -0.00672   44.0   29.0          13.0            6.0\n"
     ]
    }
   ],
   "source": [
    "from sklearn.ensemble import RandomForestClassifier\n",
    "\n",
    "est_RFC = PNLEstimatorWrapper(RandomForestClassifier(n_estimators=15, n_jobs=3), PNL_column=['PNL_1','PNL_0'])\n",
    "result_RFC = EU.step_validation(est_RFC, X, y, EU.v_split(X,4,1,1))\n",
    "result_RFC, predict_RFC = EU.redim(result_RFC)\n",
    "print('------- RandomForestClassifier 1m30s -------')\n",
    "print('PNL promedio: ', np.mean(result_RFC[:,0]))\n",
    "print('buy promedio: ', np.mean(result_RFC[:,1]))\n",
    "print('sell promedio: ', np.mean(result_RFC[:,2]))\n",
    "print('-------------------------------------')\n",
    "df_RFC = pd.DataFrame(result_RFC, columns=list(['PNL','buys','sells','longest_buys','longest_sells']),index=dates)\n",
    "print(df_RFC)\n",
    "df_RFC.to_csv('../resultados/TrueFX/EUR-USD/RandomForestClassifier/pnl_1m30s_RFC_wsize3_2018-01.csv')"
   ]
  },
  {
   "cell_type": "markdown",
   "metadata": {},
   "source": [
    "### se prueba con los datos muestreados en intervalo de 5 min"
   ]
  },
  {
   "cell_type": "code",
   "execution_count": 44,
   "metadata": {
    "collapsed": true
   },
   "outputs": [],
   "source": [
    "#Se lee la señal anteriormente procesada\n",
    "data_set = pd.read_csv(\"../data/TrueFX/EUR-USD/datos_procesados_5T_EURUSD-2018-01.csv\", parse_dates=True,\n",
    "                      infer_datetime_format=True, index_col=0)\n",
    "window = 3\n",
    "X, y_reg, bt = EU.build_dataset(data_set, window, binary_target=True, delete_constant_values=True, PNL=True)"
   ]
  },
  {
   "cell_type": "code",
   "execution_count": 45,
   "metadata": {},
   "outputs": [
    {
     "name": "stdout",
     "output_type": "stream",
     "text": [
      "--------- GaussianNB 5m ----------------\n",
      "average PNL :  -0.0123530434783\n",
      "average buy:  132.391304348\n",
      "average sell:  89.7826086957\n",
      "-------------------------------------\n",
      "                PNL   buys  sells  longest_buys  longest_sells\n",
      "2018-01-06 -0.00121    1.0    0.0           1.0            0.0\n",
      "2018-01-08 -0.00512  260.0   19.0         228.0           19.0\n",
      "2018-01-09 -0.00241  277.0    6.0         186.0            3.0\n",
      "2018-01-10 -0.01532  217.0   64.0         148.0           64.0\n",
      "2018-01-11 -0.01248  155.0  127.0         107.0          108.0\n",
      "2018-01-12 -0.01715  163.0  117.0         159.0          112.0\n",
      "2018-01-13 -0.00125    1.0    0.0           1.0            0.0\n",
      "2018-01-15 -0.01813  280.0    0.0         280.0            0.0\n",
      "2018-01-16 -0.01097    0.0  282.0           0.0          282.0\n",
      "2018-01-17 -0.02044   38.0  250.0          21.0          119.0\n",
      "2018-01-18 -0.02444  269.0   13.0         196.0           10.0\n",
      "2018-01-19 -0.01747  150.0  133.0          80.0          127.0\n",
      "2018-01-20 -0.00490    1.0    0.0           1.0            0.0\n",
      "2018-01-22 -0.01544  125.0  157.0          89.0           44.0\n",
      "2018-01-23 -0.01135   21.0  259.0          15.0          122.0\n",
      "2018-01-24 -0.02131  282.0    0.0         282.0            0.0\n",
      "2018-01-25 -0.01089  286.0    0.0         286.0            0.0\n",
      "2018-01-26 -0.01214   29.0  255.0          29.0          255.0\n",
      "2018-01-27 -0.00172    0.0    1.0           0.0            1.0\n",
      "2018-01-29 -0.01476  180.0  101.0         127.0           47.0\n",
      "2018-01-30 -0.01763  250.0   31.0         156.0           21.0\n",
      "2018-01-31 -0.02639   60.0  227.0          28.0          180.0\n",
      "2018-02-01 -0.00120    0.0   23.0           0.0           23.0\n"
     ]
    }
   ],
   "source": [
    "from sklearn.naive_bayes import GaussianNB\n",
    "    \n",
    "y = bt\n",
    "n_bdtrain = 4\n",
    "n_bdtest = 1\n",
    "mday = 1\n",
    "#para indexar el dataframe por las fechas\n",
    "dates = np.unique(X.index.date)[n_bdtrain:]\n",
    "est_GNB = PNLEstimatorWrapper(GaussianNB(), PNL_column=['PNL_0','PNL_1'])\n",
    "result_GNB = EU.step_validation(est_GNB, X, y, EU.v_split(X,n_bdtrain,n_bdtest,mday))\n",
    "result_GNB, predict_GNB = EU.redim(result_GNB)\n",
    "print('--------- GaussianNB 5m ----------------')\n",
    "print('average PNL : ', np.mean(result_GNB[:,0]))\n",
    "print('average buy: ', np.mean(result_GNB[:,1]))\n",
    "print('average sell: ', np.mean(result_GNB[:,2]))\n",
    "print('-------------------------------------')\n",
    "df_GNB = pd.DataFrame(result_GNB, columns=list(['PNL','buys','sells','longest_buys','longest_sells']),index=dates)\n",
    "print(df_GNB)\n",
    "df_GNB.to_csv('../resultados/TrueFX/EUR-USD/GaussianNB/pnl_5m_GNB_wsize3_2018-01.csv')"
   ]
  },
  {
   "cell_type": "code",
   "execution_count": 46,
   "metadata": {},
   "outputs": [
    {
     "name": "stdout",
     "output_type": "stream",
     "text": [
      "-------- KNeighborsClassifier 5m -------\n",
      "average PNL:  -0.00713304347826\n",
      "average buy:  109.826086957\n",
      "average sell:  112.347826087\n",
      "-------------------------------------\n",
      "                PNL   buys  sells  longest_buys  longest_sells\n",
      "2018-01-06 -0.00121    1.0    0.0           1.0            0.0\n",
      "2018-01-08 -0.00526  228.0   51.0         171.0           13.0\n",
      "2018-01-09 -0.00635  254.0   29.0         167.0            4.0\n",
      "2018-01-10 -0.00996  135.0  146.0          21.0           37.0\n",
      "2018-01-11 -0.00041  101.0  181.0           7.0           21.0\n",
      "2018-01-12 -0.00272   20.0  260.0           6.0          175.0\n",
      "2018-01-13 -0.00125    1.0    0.0           1.0            0.0\n",
      "2018-01-15 -0.02048  236.0   44.0         168.0            7.0\n",
      "2018-01-16 -0.00350  145.0  137.0          23.0           14.0\n",
      "2018-01-17 -0.00734  160.0  128.0          14.0           28.0\n",
      "2018-01-18 -0.01356  205.0   77.0          26.0            4.0\n",
      "2018-01-19 -0.01470  145.0  138.0           8.0           11.0\n",
      "2018-01-20  0.00299    0.0    1.0           0.0            1.0\n",
      "2018-01-22 -0.01032  144.0  138.0          25.0           14.0\n",
      "2018-01-23 -0.00194   82.0  198.0           5.0           84.0\n",
      "2018-01-24 -0.00030    9.0  273.0           7.0          244.0\n",
      "2018-01-25 -0.02509   42.0  244.0           7.0           80.0\n",
      "2018-01-26 -0.01213  111.0  173.0          10.0           42.0\n",
      "2018-01-27 -0.00172    0.0    1.0           0.0            1.0\n",
      "2018-01-29 -0.00240  174.0  107.0          15.0           11.0\n",
      "2018-01-30 -0.01880  158.0  123.0          26.0           13.0\n",
      "2018-01-31 -0.00509  160.0  127.0          11.0            7.0\n",
      "2018-02-01 -0.00252   15.0    8.0           5.0            3.0\n"
     ]
    }
   ],
   "source": [
    "from sklearn.neighbors import KNeighborsClassifier\n",
    "\n",
    "est_KNC = PNLEstimatorWrapper(KNeighborsClassifier(n_neighbors=7,n_jobs=2,leaf_size=30\n",
    "                                                   ,algorithm='kd_tree'), PNL_column=['PNL_0','PNL_1'])\n",
    "result_KNC = EU.step_validation(est_KNC, X, y, EU.v_split(X,4,1,1))\n",
    "result_KNC, predict_KNC = EU.redim(result_KNC)\n",
    "print('-------- KNeighborsClassifier 5m -------')\n",
    "print('average PNL: ', np.mean(result_KNC[:,0]))\n",
    "print('average buy: ', np.mean(result_KNC[:,1]))\n",
    "print('average sell: ', np.mean(result_KNC[:,2]))\n",
    "print('-------------------------------------')\n",
    "df_KNC = pd.DataFrame(result_KNC, columns=list(['PNL','buys','sells','longest_buys','longest_sells']),index=dates)\n",
    "print(df_KNC)\n",
    "df_KNC.to_csv('../resultados/TrueFX/EUR-USD/KNeighborsClassfier/pnl_5m_KNC_wsize3_2018-01.csv')"
   ]
  },
  {
   "cell_type": "code",
   "execution_count": 47,
   "metadata": {},
   "outputs": [
    {
     "name": "stdout",
     "output_type": "stream",
     "text": [
      "------ DecisionTreeClassifier 5m -------\n",
      "average PNL:  -0.00761739130435\n",
      "average buy:  107.608695652\n",
      "average sell:  114.565217391\n",
      "-------------------------------------\n",
      "                PNL   buys  sells  longest_buys  longest_sells\n",
      "2018-01-06 -0.00057    0.0    1.0           0.0            1.0\n",
      "2018-01-08 -0.01204   66.0  213.0           8.0          126.0\n",
      "2018-01-09 -0.00670  239.0   44.0         166.0            5.0\n",
      "2018-01-10 -0.00613  129.0  152.0          14.0           19.0\n",
      "2018-01-11 -0.01939  125.0  157.0           7.0            9.0\n",
      "2018-01-12 -0.02653  224.0   56.0         174.0            7.0\n",
      "2018-01-13 -0.00125    1.0    0.0           1.0            0.0\n",
      "2018-01-15 -0.01328   63.0  217.0          14.0          168.0\n",
      "2018-01-16 -0.00942  167.0  115.0          25.0           10.0\n",
      "2018-01-17 -0.01092  149.0  139.0           7.0           21.0\n",
      "2018-01-18 -0.00804  117.0  165.0          10.0           27.0\n",
      "2018-01-19 -0.00373  148.0  135.0           8.0            5.0\n",
      "2018-01-20  0.00299    0.0    1.0           0.0            1.0\n",
      "2018-01-22 -0.01108  130.0  152.0          17.0            8.0\n",
      "2018-01-23 -0.01008  101.0  179.0           5.0           45.0\n",
      "2018-01-24 -0.00144   11.0  271.0           3.0          244.0\n",
      "2018-01-25  0.01256  203.0   83.0          74.0           10.0\n",
      "2018-01-26 -0.01728  118.0  166.0          14.0           14.0\n",
      "2018-01-27 -0.00172    0.0    1.0           0.0            1.0\n",
      "2018-01-29  0.00674  160.0  121.0          12.0           11.0\n",
      "2018-01-30 -0.01498  140.0  141.0           9.0            9.0\n",
      "2018-01-31 -0.02150  170.0  117.0          10.0            7.0\n",
      "2018-02-01 -0.00141   14.0    9.0           4.0            3.0\n"
     ]
    }
   ],
   "source": [
    "from sklearn.tree import DecisionTreeClassifier\n",
    "\n",
    "est_DTC = PNLEstimatorWrapper(DecisionTreeClassifier(), PNL_column=['PNL_0','PNL_1'])\n",
    "result_DTC = EU.step_validation(est_DTC, X, y, EU.v_split(X,4,1,1))\n",
    "result_DTC, predict_DTC = EU.redim(result_DTC)\n",
    "print('------ DecisionTreeClassifier 5m -------')\n",
    "print('average PNL: ', np.mean(result_DTC[:,0]))\n",
    "print('average buy: ', np.mean(result_DTC[:,1]))\n",
    "print('average sell: ', np.mean(result_DTC[:,2]))\n",
    "print('-------------------------------------')\n",
    "df_DTC = pd.DataFrame(result_DTC, columns=list(['PNL','buys','sells','longest_buys','longest_sells']),index=dates)\n",
    "print(df_DTC)\n",
    "df_DTC.to_csv('../resultados/TrueFX/EUR-USD/DecisionTreeClassifier/pnl_5m_DTC_wsize3_2018-01.csv')"
   ]
  },
  {
   "cell_type": "code",
   "execution_count": 48,
   "metadata": {},
   "outputs": [
    {
     "name": "stdout",
     "output_type": "stream",
     "text": [
      "------- RandomForestClassifier 5m -------\n",
      "PNL promedio:  -0.00819956521739\n",
      "buy promedio:  104.086956522\n",
      "sell promedio:  118.086956522\n",
      "-------------------------------------\n",
      "                PNL   buys  sells  longest_buys  longest_sells\n",
      "2018-01-06 -0.00057    1.0    0.0           1.0            0.0\n",
      "2018-01-08 -0.01504  221.0   58.0         127.0           16.0\n",
      "2018-01-09 -0.00762  225.0   58.0         166.0            7.0\n",
      "2018-01-10 -0.01204  119.0  162.0          21.0           16.0\n",
      "2018-01-11 -0.00830  123.0  159.0           6.0           10.0\n",
      "2018-01-12 -0.02214   28.0  252.0           3.0          173.0\n",
      "2018-01-13 -0.00138    1.0    0.0           1.0            0.0\n",
      "2018-01-15 -0.00586  236.0   44.0         167.0           15.0\n",
      "2018-01-16 -0.01119  169.0  113.0          32.0           11.0\n",
      "2018-01-17 -0.01054  146.0  142.0          11.0           24.0\n",
      "2018-01-18 -0.00153  166.0  116.0          26.0            9.0\n",
      "2018-01-19 -0.00691  132.0  151.0           8.0           15.0\n",
      "2018-01-20 -0.00490    0.0    1.0           0.0            1.0\n",
      "2018-01-22 -0.00966  136.0  146.0          17.0           13.0\n",
      "2018-01-23 -0.00637   86.0  194.0          14.0           79.0\n",
      "2018-01-24 -0.01920   13.0  269.0           8.0          244.0\n",
      "2018-01-25 -0.00482   27.0  259.0           4.0           81.0\n",
      "2018-01-26 -0.01154   81.0  203.0          14.0           47.0\n",
      "2018-01-27 -0.00172    1.0    0.0           1.0            0.0\n",
      "2018-01-29 -0.02113  184.0   97.0          23.0            5.0\n",
      "2018-01-30 -0.00091  143.0  138.0          15.0           12.0\n",
      "2018-01-31 -0.00364  146.0  141.0           9.0           10.0\n",
      "2018-02-01 -0.00158   10.0   13.0           4.0            5.0\n"
     ]
    }
   ],
   "source": [
    "from sklearn.ensemble import RandomForestClassifier\n",
    "\n",
    "est_RFC = PNLEstimatorWrapper(RandomForestClassifier(n_estimators=15, n_jobs=3), PNL_column=['PNL_1','PNL_0'])\n",
    "result_RFC = EU.step_validation(est_RFC, X, y, EU.v_split(X,4,1,1))\n",
    "result_RFC, predict_RFC = EU.redim(result_RFC)\n",
    "print('------- RandomForestClassifier 5m -------')\n",
    "print('PNL promedio: ', np.mean(result_RFC[:,0]))\n",
    "print('buy promedio: ', np.mean(result_RFC[:,1]))\n",
    "print('sell promedio: ', np.mean(result_RFC[:,2]))\n",
    "print('-------------------------------------')\n",
    "df_RFC = pd.DataFrame(result_RFC, columns=list(['PNL','buys','sells','longest_buys','longest_sells']),index=dates)\n",
    "print(df_RFC)\n",
    "df_RFC.to_csv('../resultados/TrueFX/EUR-USD/RandomForestClassifier/pnl_5m_RFC_wsize3_2018-01.csv')"
   ]
  },
  {
   "cell_type": "code",
   "execution_count": null,
   "metadata": {
    "collapsed": true
   },
   "outputs": [],
   "source": []
  }
 ],
 "metadata": {
  "kernelspec": {
   "display_name": "Python 3",
   "language": "python",
   "name": "python3"
  },
  "language_info": {
   "codemirror_mode": {
    "name": "ipython",
    "version": 3
   },
   "file_extension": ".py",
   "mimetype": "text/x-python",
   "name": "python",
   "nbconvert_exporter": "python",
   "pygments_lexer": "ipython3",
   "version": "3.6.2"
  }
 },
 "nbformat": 4,
 "nbformat_minor": 2
}
