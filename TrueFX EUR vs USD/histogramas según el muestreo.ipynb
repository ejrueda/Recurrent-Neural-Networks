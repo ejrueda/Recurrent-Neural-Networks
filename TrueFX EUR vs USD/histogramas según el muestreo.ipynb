{
 "cells": [
  {
   "cell_type": "code",
   "execution_count": 1,
   "metadata": {
    "collapsed": true
   },
   "outputs": [],
   "source": [
    "import pandas as pd\n",
    "import numpy as np\n",
    "import matplotlib.pyplot as plt\n",
    "import bokeh.plotting as bp\n",
    "%matplotlib inline"
   ]
  },
  {
   "cell_type": "markdown",
   "metadata": {},
   "source": [
    "data_est = pd.read_csv('../data/TrueFX/EUR-USD/EURUSD-2018-03.csv',index_col=0,parse_dates=True\n",
    "                   ,infer_datetime_format=True)\n",
    "data_alta = pd.read_csv('../data/TrueFX/EUR-USD/EURUSD-2017-07.csv',index_col=0,parse_dates=True\n",
    "                   ,infer_datetime_format=True)\n",
    "data_baja = pd.read_csv('../data/TrueFX/EUR-USD/EURUSD-2017-02.csv',index_col=0,parse_dates=True\n",
    "                   ,infer_datetime_format=True)"
   ]
  },
  {
   "cell_type": "code",
   "execution_count": 2,
   "metadata": {
    "collapsed": true
   },
   "outputs": [],
   "source": [
    "data_est = pd.read_csv('../data/TrueFX/EUR-USD/datos_procesados_EURUSD-2018-03.csv',parse_dates=True\n",
    "                      ,index_col=0,infer_datetime_format=True)"
   ]
  },
  {
   "cell_type": "code",
   "execution_count": 3,
   "metadata": {
    "collapsed": true
   },
   "outputs": [],
   "source": [
    "data_est = data_est.resample('10s',loffset='10s').last().dropna()"
   ]
  },
  {
   "cell_type": "code",
   "execution_count": 4,
   "metadata": {},
   "outputs": [
    {
     "name": "stdout",
     "output_type": "stream",
     "text": [
      "(179264, 2)\n"
     ]
    },
    {
     "data": {
      "text/html": [
       "<div>\n",
       "<style>\n",
       "    .dataframe thead tr:only-child th {\n",
       "        text-align: right;\n",
       "    }\n",
       "\n",
       "    .dataframe thead th {\n",
       "        text-align: left;\n",
       "    }\n",
       "\n",
       "    .dataframe tbody tr th {\n",
       "        vertical-align: top;\n",
       "    }\n",
       "</style>\n",
       "<table border=\"1\" class=\"dataframe\">\n",
       "  <thead>\n",
       "    <tr style=\"text-align: right;\">\n",
       "      <th></th>\n",
       "      <th>bid</th>\n",
       "      <th>ask</th>\n",
       "    </tr>\n",
       "    <tr>\n",
       "      <th>date</th>\n",
       "      <th></th>\n",
       "      <th></th>\n",
       "    </tr>\n",
       "  </thead>\n",
       "  <tbody>\n",
       "    <tr>\n",
       "      <th>2018-03-01 02:59:20</th>\n",
       "      <td>1.21910</td>\n",
       "      <td>1.21914</td>\n",
       "    </tr>\n",
       "    <tr>\n",
       "      <th>2018-03-01 02:59:30</th>\n",
       "      <td>1.21913</td>\n",
       "      <td>1.21916</td>\n",
       "    </tr>\n",
       "    <tr>\n",
       "      <th>2018-03-01 02:59:40</th>\n",
       "      <td>1.21904</td>\n",
       "      <td>1.21908</td>\n",
       "    </tr>\n",
       "    <tr>\n",
       "      <th>2018-03-01 02:59:50</th>\n",
       "      <td>1.21907</td>\n",
       "      <td>1.21909</td>\n",
       "    </tr>\n",
       "    <tr>\n",
       "      <th>2018-03-01 03:00:00</th>\n",
       "      <td>1.21913</td>\n",
       "      <td>1.21915</td>\n",
       "    </tr>\n",
       "  </tbody>\n",
       "</table>\n",
       "</div>"
      ],
      "text/plain": [
       "                         bid      ask\n",
       "date                                 \n",
       "2018-03-01 02:59:20  1.21910  1.21914\n",
       "2018-03-01 02:59:30  1.21913  1.21916\n",
       "2018-03-01 02:59:40  1.21904  1.21908\n",
       "2018-03-01 02:59:50  1.21907  1.21909\n",
       "2018-03-01 03:00:00  1.21913  1.21915"
      ]
     },
     "execution_count": 4,
     "metadata": {},
     "output_type": "execute_result"
    }
   ],
   "source": [
    "print(data_est.shape)\n",
    "data_est.head()"
   ]
  },
  {
   "cell_type": "code",
   "execution_count": 5,
   "metadata": {
    "collapsed": true
   },
   "outputs": [],
   "source": [
    "spread = data_est.iloc[:,1] - data_est.iloc[:,0]"
   ]
  },
  {
   "cell_type": "code",
   "execution_count": null,
   "metadata": {
    "collapsed": true
   },
   "outputs": [],
   "source": []
  },
  {
   "cell_type": "code",
   "execution_count": 59,
   "metadata": {},
   "outputs": [
    {
     "data": {
      "image/png": "[encoded data removed]",
      "text/plain": [
       "<matplotlib.figure.Figure at 0x7f0f2b823860>"
      ]
     },
     "metadata": {},
     "output_type": "display_data"
    }
   ],
   "source": [
    "plt.figure(figsize=(7,3))\n",
    "plt.title('spread 10s')\n",
    "plt.grid()\n",
    "plt.yscale('log')\n",
    "x = plt.hist(spread, rwidth=.5, normed=True, bins=len(np.unique(spread)),color='blue')"
   ]
  },
  {
   "cell_type": "code",
   "execution_count": 35,
   "metadata": {},
   "outputs": [],
   "source": [
    "a = np.array([  6.16486503e+03,   1.02234939e+02,   1.86998017e+01,\n",
    "          1.85945496e+00,   5.26260837e-01,   3.15756502e-01,\n",
    "          3.15756502e-01,   4.56092725e-01,   0.00000000e+00,\n",
    "          3.50840558e-02])"
   ]
  },
  {
   "cell_type": "code",
   "execution_count": 40,
   "metadata": {},
   "outputs": [
    {
     "data": {
      "text/plain": [
       "6289.308176281801"
      ]
     },
     "execution_count": 40,
     "metadata": {},
     "output_type": "execute_result"
    }
   ],
   "source": [
    "sum(a)"
   ]
  },
  {
   "cell_type": "code",
   "execution_count": 49,
   "metadata": {},
   "outputs": [
    {
     "data": {
      "text/plain": [
       "162"
      ]
     },
     "execution_count": 49,
     "metadata": {},
     "output_type": "execute_result"
    }
   ],
   "source": [
    "len(np.unique(spread))"
   ]
  },
  {
   "cell_type": "code",
   "execution_count": null,
   "metadata": {
    "collapsed": true
   },
   "outputs": [],
   "source": []
  }
 ],
 "metadata": {
  "kernelspec": {
   "display_name": "Python 3",
   "language": "python",
   "name": "python3"
  },
  "language_info": {
   "codemirror_mode": {
    "name": "ipython",
    "version": 3
   },
   "file_extension": ".py",
   "mimetype": "text/x-python",
   "name": "python",
   "nbconvert_exporter": "python",
   "pygments_lexer": "ipython3",
   "version": "3.6.2"
  }
 },
 "nbformat": 4,
 "nbformat_minor": 2
}
