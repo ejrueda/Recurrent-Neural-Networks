{
 "cells": [
  {
   "cell_type": "code",
   "execution_count": 1,
   "metadata": {
    "collapsed": true
   },
   "outputs": [],
   "source": [
    "import numpy as np\n",
    "import pandas as pd\n",
    "import bokeh.plotting as bp\n",
    "from bokeh.layouts import gridplot\n",
    "#bp.output_notebook()\n",
    "import matplotlib.pyplot as plt\n",
    "%matplotlib inline"
   ]
  },
  {
   "cell_type": "code",
   "execution_count": 2,
   "metadata": {
    "collapsed": true
   },
   "outputs": [],
   "source": [
    "#Se lee la señal pre-procesada\\n\",\n",
    "data_set = pd.read_csv(\"../data/TrueFX/EUR-USD/datos_procesados_EURUSD-2018-01.csv\", parse_dates=True,\n",
    "                      infer_datetime_format=True, index_col=0)"
   ]
  },
  {
   "cell_type": "code",
   "execution_count": 3,
   "metadata": {
    "scrolled": true
   },
   "outputs": [
    {
     "data": {
      "text/html": [
       "<div>\n",
       "<style>\n",
       "    .dataframe thead tr:only-child th {\n",
       "        text-align: right;\n",
       "    }\n",
       "\n",
       "    .dataframe thead th {\n",
       "        text-align: left;\n",
       "    }\n",
       "\n",
       "    .dataframe tbody tr th {\n",
       "        vertical-align: top;\n",
       "    }\n",
       "</style>\n",
       "<table border=\"1\" class=\"dataframe\">\n",
       "  <thead>\n",
       "    <tr style=\"text-align: right;\">\n",
       "      <th></th>\n",
       "      <th>bid</th>\n",
       "      <th>ask</th>\n",
       "    </tr>\n",
       "    <tr>\n",
       "      <th>date</th>\n",
       "      <th></th>\n",
       "      <th></th>\n",
       "    </tr>\n",
       "  </thead>\n",
       "  <tbody>\n",
       "    <tr>\n",
       "      <th>2018-01-01 23:58:00</th>\n",
       "      <td>1.20093</td>\n",
       "      <td>1.20115</td>\n",
       "    </tr>\n",
       "    <tr>\n",
       "      <th>2018-01-01 23:58:10</th>\n",
       "      <td>1.20093</td>\n",
       "      <td>1.20111</td>\n",
       "    </tr>\n",
       "    <tr>\n",
       "      <th>2018-01-01 23:58:20</th>\n",
       "      <td>1.20082</td>\n",
       "      <td>1.20111</td>\n",
       "    </tr>\n",
       "    <tr>\n",
       "      <th>2018-01-01 23:58:30</th>\n",
       "      <td>1.20043</td>\n",
       "      <td>1.20110</td>\n",
       "    </tr>\n",
       "    <tr>\n",
       "      <th>2018-01-01 23:58:50</th>\n",
       "      <td>1.20011</td>\n",
       "      <td>1.20113</td>\n",
       "    </tr>\n",
       "    <tr>\n",
       "      <th>2018-01-01 23:59:00</th>\n",
       "      <td>1.20015</td>\n",
       "      <td>1.20110</td>\n",
       "    </tr>\n",
       "    <tr>\n",
       "      <th>2018-01-01 23:59:10</th>\n",
       "      <td>1.20028</td>\n",
       "      <td>1.20110</td>\n",
       "    </tr>\n",
       "    <tr>\n",
       "      <th>2018-01-01 23:59:50</th>\n",
       "      <td>1.20015</td>\n",
       "      <td>1.20110</td>\n",
       "    </tr>\n",
       "    <tr>\n",
       "      <th>2018-01-02 00:00:40</th>\n",
       "      <td>1.20015</td>\n",
       "      <td>1.20105</td>\n",
       "    </tr>\n",
       "    <tr>\n",
       "      <th>2018-01-02 00:00:50</th>\n",
       "      <td>1.20030</td>\n",
       "      <td>1.20113</td>\n",
       "    </tr>\n",
       "  </tbody>\n",
       "</table>\n",
       "</div>"
      ],
      "text/plain": [
       "                         bid      ask\n",
       "date                                 \n",
       "2018-01-01 23:58:00  1.20093  1.20115\n",
       "2018-01-01 23:58:10  1.20093  1.20111\n",
       "2018-01-01 23:58:20  1.20082  1.20111\n",
       "2018-01-01 23:58:30  1.20043  1.20110\n",
       "2018-01-01 23:58:50  1.20011  1.20113\n",
       "2018-01-01 23:59:00  1.20015  1.20110\n",
       "2018-01-01 23:59:10  1.20028  1.20110\n",
       "2018-01-01 23:59:50  1.20015  1.20110\n",
       "2018-01-02 00:00:40  1.20015  1.20105\n",
       "2018-01-02 00:00:50  1.20030  1.20113"
      ]
     },
     "execution_count": 3,
     "metadata": {},
     "output_type": "execute_result"
    }
   ],
   "source": [
    "data_set[:10]"
   ]
  },
  {
   "cell_type": "code",
   "execution_count": 4,
   "metadata": {},
   "outputs": [
    {
     "data": {
      "text/plain": [
       "array([datetime.date(2018, 1, 1), datetime.date(2018, 1, 2),\n",
       "       datetime.date(2018, 1, 3), datetime.date(2018, 1, 4),\n",
       "       datetime.date(2018, 1, 5), datetime.date(2018, 1, 8),\n",
       "       datetime.date(2018, 1, 9), datetime.date(2018, 1, 10),\n",
       "       datetime.date(2018, 1, 11), datetime.date(2018, 1, 12),\n",
       "       datetime.date(2018, 1, 15), datetime.date(2018, 1, 16),\n",
       "       datetime.date(2018, 1, 17), datetime.date(2018, 1, 18),\n",
       "       datetime.date(2018, 1, 19), datetime.date(2018, 1, 22),\n",
       "       datetime.date(2018, 1, 23), datetime.date(2018, 1, 24),\n",
       "       datetime.date(2018, 1, 25), datetime.date(2018, 1, 26),\n",
       "       datetime.date(2018, 1, 29), datetime.date(2018, 1, 30),\n",
       "       datetime.date(2018, 1, 31)], dtype=object)"
      ]
     },
     "execution_count": 4,
     "metadata": {},
     "output_type": "execute_result"
    }
   ],
   "source": [
    "pd.unique(data_set.index.date)"
   ]
  },
  {
   "cell_type": "code",
   "execution_count": 5,
   "metadata": {},
   "outputs": [
    {
     "data": {
      "image/png": "[encoded data removed]",
      "text/plain": [
       "<matplotlib.figure.Figure at 0x7f7a31dece80>"
      ]
     },
     "metadata": {},
     "output_type": "display_data"
    }
   ],
   "source": [
    "plt.figure(figsize=(15,5))\n",
    "plt.title('Comportamiento del Bid')\n",
    "plt.xlabel('[t] en pulsasiones')\n",
    "plt.ylabel('EUR/USD')\n",
    "plt.plot(np.arange(data_set.shape[0]), data_set.iloc[:,0], alpha=1, color='#3383FF');"
   ]
  },
  {
   "cell_type": "code",
   "execution_count": 6,
   "metadata": {},
   "outputs": [
    {
     "data": {
      "image/png": "[encoded data removed]",
      "text/plain": [
       "<matplotlib.figure.Figure at 0x7f7a305de438>"
      ]
     },
     "metadata": {},
     "output_type": "display_data"
    }
   ],
   "source": [
    "plt.figure(figsize=(15,5))\n",
    "plt.title('Comportamiento del Spread')\n",
    "plt.xlabel('[t] en pulsasiones')\n",
    "plt.ylabel('EUR/USD')\n",
    "plt.plot(np.arange(data_set.shape[0]), data_set.iloc[:,1] - data_set.iloc[:,0], alpha=1, color='green');"
   ]
  },
  {
   "cell_type": "code",
   "execution_count": 7,
   "metadata": {},
   "outputs": [
    {
     "name": "stdout",
     "output_type": "stream",
     "text": [
      "                   Bussines day - year, month, day\n",
      "\n",
      "[datetime.date(2018, 1, 1) datetime.date(2018, 1, 2)\n",
      " datetime.date(2018, 1, 3) datetime.date(2018, 1, 4)\n",
      " datetime.date(2018, 1, 5) datetime.date(2018, 1, 8)\n",
      " datetime.date(2018, 1, 9) datetime.date(2018, 1, 10)\n",
      " datetime.date(2018, 1, 11) datetime.date(2018, 1, 12)\n",
      " datetime.date(2018, 1, 15) datetime.date(2018, 1, 16)\n",
      " datetime.date(2018, 1, 17) datetime.date(2018, 1, 18)\n",
      " datetime.date(2018, 1, 19) datetime.date(2018, 1, 22)\n",
      " datetime.date(2018, 1, 23) datetime.date(2018, 1, 24)\n",
      " datetime.date(2018, 1, 25) datetime.date(2018, 1, 26)\n",
      " datetime.date(2018, 1, 29) datetime.date(2018, 1, 30)\n",
      " datetime.date(2018, 1, 31)]\n"
     ]
    }
   ],
   "source": [
    "print('                   Bussines day - year, month, day')\n",
    "print()\n",
    "print(pd.unique(data_set.index.date))"
   ]
  },
  {
   "cell_type": "markdown",
   "metadata": {},
   "source": [
    "#### Se crea un validation split\n",
    "el \"v_split\" se crea para entrenar y validar el rendimiento del estimador, esa función retorna un generador con los indices de los dias que se tomarán para entrenar y los dias a validar. Los parametros que ella recibe son los siguientes:\n",
    "\n",
    "   - X, que tiene que ser un dataframe indexado por fechas.\n",
    "   - n_bdtrain, un entero el cual representa los días que se utilizarán para entrenar.\n",
    "   - n_bdtest, un entero el cual representa los días que se utilizarán para validar.\n",
    "   - mday, entero que representa los días que se va corriendo  el estimador para validar."
   ]
  },
  {
   "cell_type": "code",
   "execution_count": 8,
   "metadata": {
    "collapsed": true
   },
   "outputs": [],
   "source": [
    "# Se crea un generador \"v_split\" para utilizar como método de validación cruzada\n",
    "def v_split(X, n_bdtrain, n_bdtest, mday):\n",
    "\n",
    "    \"\"\"\"\n",
    "    Hace un particionado del dataset, para tomar n_bdtrain días para entrenar\n",
    "    y n_bdtest para probar, además, mday representa el paso de día a correr.\n",
    "    X, dataframe, se necesita el indice de este para separar por días.\n",
    "    n_bdtrain, número de bussines day utilizados para train.\n",
    "    n_bdtest, número de bussines day utilizados para test.\n",
    "    mday, días a correr para cada validación.\n",
    "    \n",
    "    \"\"\"\n",
    "    from datetime import date\n",
    "    start_day = 0\n",
    "    \n",
    "    #Divide el data set según días de train, test y cuanto se va moviendo\n",
    "    bussines_day = []\n",
    "    dates = pd.unique(X.index.date) #saco las fechas para luego tomar solo año-mes-día\n",
    "\n",
    "    for i in dates: bussines_day.append(date.__format__(i,'%Y-%m-%d')) #lista de los bussines day\n",
    "    \n",
    "    intervals = []\n",
    "    count = 0\n",
    "    for i in bussines_day:\n",
    "        f = len(X[i])-1 +count\n",
    "        intervals.append([count,f])\n",
    "        count = f+1\n",
    "    \n",
    "    for i in range(len(intervals)-n_bdtrain):\n",
    "        yield(np.arange(intervals[start_day:start_day+n_bdtrain][0][0],\n",
    "                        intervals[start_day:start_day+n_bdtrain][n_bdtrain-1][1]+1),\n",
    "              np.arange(intervals[n_bdtrain+start_day:n_bdtrain+start_day+n_bdtest][0][0],\n",
    "                        intervals[n_bdtrain+start_day:n_bdtrain+start_day+n_bdtest][n_bdtest-1][1]+1))\n",
    "    \n",
    "        start_day += mday\n",
    "        if start_day+n_bdtest > len(intervals)-n_bdtrain:\n",
    "            break"
   ]
  },
  {
   "cell_type": "code",
   "execution_count": 9,
   "metadata": {},
   "outputs": [
    {
     "name": "stdout",
     "output_type": "stream",
     "text": [
      "train data & test data\n",
      "----------------------\n",
      "(array([    0,     1,     2, ..., 24640, 24641, 24642]), array([24643, 24644, 24645, ..., 32762, 32763, 32764]))\n",
      "(array([    8,     9,    10, ..., 32762, 32763, 32764]), array([32765, 32766, 32767, ..., 40857, 40858, 40859]))\n",
      "(array([ 8229,  8230,  8231, ..., 40857, 40858, 40859]), array([40860, 40861, 40862, ..., 48998, 48999, 49000]))\n",
      "(array([16415, 16416, 16417, ..., 48998, 48999, 49000]), array([49001, 49002, 49003, ..., 57255, 57256, 57257]))\n",
      "(array([24643, 24644, 24645, ..., 57255, 57256, 57257]), array([57258, 57259, 57260, ..., 65577, 65578, 65579]))\n",
      "(array([32765, 32766, 32767, ..., 65577, 65578, 65579]), array([65580, 65581, 65582, ..., 73916, 73917, 73918]))\n",
      "(array([40860, 40861, 40862, ..., 73916, 73917, 73918]), array([73919, 73920, 73921, ..., 82295, 82296, 82297]))\n",
      "(array([49001, 49002, 49003, ..., 82295, 82296, 82297]), array([82298, 82299, 82300, ..., 90585, 90586, 90587]))\n",
      "(array([57258, 57259, 57260, ..., 90585, 90586, 90587]), array([90588, 90589, 90590, ..., 99061, 99062, 99063]))\n",
      "(array([65580, 65581, 65582, ..., 99061, 99062, 99063]), array([ 99064,  99065,  99066, ..., 107517, 107518, 107519]))\n",
      "(array([ 73919,  73920,  73921, ..., 107517, 107518, 107519]), array([107520, 107521, 107522, ..., 115932, 115933, 115934]))\n",
      "(array([ 82298,  82299,  82300, ..., 115932, 115933, 115934]), array([115935, 115936, 115937, ..., 124307, 124308, 124309]))\n",
      "(array([ 90588,  90589,  90590, ..., 124307, 124308, 124309]), array([124310, 124311, 124312, ..., 132693, 132694, 132695]))\n",
      "(array([ 99064,  99065,  99066, ..., 132693, 132694, 132695]), array([132696, 132697, 132698, ..., 141121, 141122, 141123]))\n",
      "(array([107520, 107521, 107522, ..., 141121, 141122, 141123]), array([141124, 141125, 141126, ..., 149629, 149630, 149631]))\n",
      "(array([115935, 115936, 115937, ..., 149629, 149630, 149631]), array([149632, 149633, 149634, ..., 158110, 158111, 158112]))\n",
      "(array([124310, 124311, 124312, ..., 158110, 158111, 158112]), array([158113, 158114, 158115, ..., 166565, 166566, 166567]))\n",
      "(array([132696, 132697, 132698, ..., 166565, 166566, 166567]), array([166568, 166569, 166570, ..., 175034, 175035, 175036]))\n",
      "(array([141124, 141125, 141126, ..., 175034, 175035, 175036]), array([175037, 175038, 175039, ..., 183532, 183533, 183534]))\n"
     ]
    }
   ],
   "source": [
    "print(\"train data & test data\")\n",
    "print(\"----------------------\")\n",
    "for i in v_split(data_set,4,1,1):\n",
    "    print (i)"
   ]
  },
  {
   "cell_type": "markdown",
   "metadata": {},
   "source": [
    "#### Se crea una función para construir el dataset ####\n",
    "Con \"build_dataset\" lo que se quiere es que mediante la señal, un tamaño de ventana y otros parámetros que explicaré a continuación se genere el dataset como un dataframe indexado por sus fechas. Los parámetros de esta función son:\n",
    "\n",
    "   - signal, señal a procesar, tiene que ser un dataframe indexado por las fechas.\n",
    "   - window, tamaño de ventana a coger, este define las columnas del dataset.\n",
    "   - binary_target, por defecto es False, determina si se quiere el target binario de los datos, esto me permite trabajar con clasificación.\n",
    "   - delete_constant_values, por defecto es True, dado a que son datos que fluctuan poco, al momento de crear el dataset puede que para el target este se mantenga igual, que el precio no suba ni baje, por ende estos datos los elimino.\n",
    "   - PNL, por defecto es False, este agrega una columna al dataframe, la cual consiste en anotar la ganancia o perdida según si sube o baja el precio del mercado."
   ]
  },
  {
   "cell_type": "code",
   "execution_count": 11,
   "metadata": {
    "collapsed": true
   },
   "outputs": [],
   "source": [
    "# %load ../code/build_dataset.py\n",
    "def build_dataset(df, window, binary_target=False, delete_constant_values=True, PNL=False):\n",
    "    \"\"\"\n",
    "    función para construir un data set\n",
    "    window: tamaño de la ventana a utilizar para construir el dataset\n",
    "    df: dataframe, con columna bid y ask.\n",
    "    binary_target: si desea clasificar, este arroja 2 si el valor se mantiene,\n",
    "    1 si el valor sube y 0 si este baja.\n",
    "    delete_constant_values: default: True, elimina los valores que se mantienen\n",
    "    \n",
    "    retorna:\n",
    "    X: dataset, con columna de PNL si así se especifica(default: False)\n",
    "    y: target\n",
    "    bt: binary target, default: False\n",
    "    \"\"\"\n",
    "\n",
    "    import pandas as pd\n",
    "    import numpy as np\n",
    "    result = []\n",
    "    binary = [] #para la columna objetivo binaria\n",
    "    pnl_buy = [] #almacenar el pnl en caso de compra\n",
    "    pnl_sell = [] #almacenar el pnl en caso de venta\n",
    "    signal = df.bid\n",
    "    ask = df.ask\n",
    "    indx = signal.index[window-1:-1] #se toman los indicen que quedarán al final\n",
    "    for i in range(len(signal)-window):\n",
    "        \n",
    "        if delete_constant_values == True:\n",
    "            if signal[i+window] != signal[i+window-1]:\n",
    "\n",
    "                result.append(signal[i: i + window+1])\n",
    "                if PNL == True: \n",
    "                    pnl_sell.append(signal[i+window-1] - ask[i+window]) #calcular pnl en caso de venta-compra\n",
    "                    pnl_buy.append(signal[i+window] - ask[i+window-1]) #calcular pnl en caso de compra-venta\n",
    "                \n",
    "                if binary_target == True:\n",
    "                    if signal[i+window] < signal[i+window-1]: binary.append(0) # 0 si baja\n",
    "                    if signal[i+window] > signal[i+window-1]: binary.append(1) # 1 si sube\n",
    "                        \n",
    "            else: indx = indx.delete(len(result))\n",
    "                \n",
    "        else:\n",
    "\n",
    "            result.append(signal[i: i + window+1])\n",
    "            if PNL == True:\n",
    "                pnl_sell.append(signal[i+window-1] - ask[i+window]) #calcular pnl en caso de venta-compra\n",
    "                pnl_buy.append(signal[i+window] - ask[i+window-1]) #calcular pnl en caso de compra-venta\n",
    "            \n",
    "        if binary_target == True and delete_constant_values == False:\n",
    "            if signal[i+window] == signal[i+window-1]: binary.append(2) # 2 si se mantiene\n",
    "            if signal[i+window] < signal[i+window-1]: binary.append(0) # 1 si baja\n",
    "            if signal[i+window] > signal[i+window-1]: binary.append(1) # 0 si sube\n",
    "    \n",
    "    data = pd.DataFrame(np.array(result), index=indx)\n",
    "    y = np.array(data.iloc[:,window])\n",
    "    data = data.drop(window,axis=1)\n",
    "    if PNL == True:\n",
    "        data['PNL_0'] = pnl_sell\n",
    "        data['PNL_1'] = pnl_buy \n",
    "    if binary_target == True: return data, y, np.array(binary)\n",
    "    else: return data, y"
   ]
  },
  {
   "cell_type": "code",
   "execution_count": 12,
   "metadata": {},
   "outputs": [
    {
     "data": {
      "text/html": [
       "<div>\n",
       "<style>\n",
       "    .dataframe thead tr:only-child th {\n",
       "        text-align: right;\n",
       "    }\n",
       "\n",
       "    .dataframe thead th {\n",
       "        text-align: left;\n",
       "    }\n",
       "\n",
       "    .dataframe tbody tr th {\n",
       "        vertical-align: top;\n",
       "    }\n",
       "</style>\n",
       "<table border=\"1\" class=\"dataframe\">\n",
       "  <thead>\n",
       "    <tr style=\"text-align: right;\">\n",
       "      <th></th>\n",
       "      <th>bid</th>\n",
       "      <th>ask</th>\n",
       "    </tr>\n",
       "    <tr>\n",
       "      <th>date</th>\n",
       "      <th></th>\n",
       "      <th></th>\n",
       "    </tr>\n",
       "  </thead>\n",
       "  <tbody>\n",
       "    <tr>\n",
       "      <th>2018-01-01 23:58:00</th>\n",
       "      <td>1.20093</td>\n",
       "      <td>1.20115</td>\n",
       "    </tr>\n",
       "    <tr>\n",
       "      <th>2018-01-01 23:58:10</th>\n",
       "      <td>1.20093</td>\n",
       "      <td>1.20111</td>\n",
       "    </tr>\n",
       "    <tr>\n",
       "      <th>2018-01-01 23:58:20</th>\n",
       "      <td>1.20082</td>\n",
       "      <td>1.20111</td>\n",
       "    </tr>\n",
       "    <tr>\n",
       "      <th>2018-01-01 23:58:30</th>\n",
       "      <td>1.20043</td>\n",
       "      <td>1.20110</td>\n",
       "    </tr>\n",
       "    <tr>\n",
       "      <th>2018-01-01 23:58:50</th>\n",
       "      <td>1.20011</td>\n",
       "      <td>1.20113</td>\n",
       "    </tr>\n",
       "  </tbody>\n",
       "</table>\n",
       "</div>"
      ],
      "text/plain": [
       "                         bid      ask\n",
       "date                                 \n",
       "2018-01-01 23:58:00  1.20093  1.20115\n",
       "2018-01-01 23:58:10  1.20093  1.20111\n",
       "2018-01-01 23:58:20  1.20082  1.20111\n",
       "2018-01-01 23:58:30  1.20043  1.20110\n",
       "2018-01-01 23:58:50  1.20011  1.20113"
      ]
     },
     "execution_count": 12,
     "metadata": {},
     "output_type": "execute_result"
    }
   ],
   "source": [
    "data_set.head()"
   ]
  },
  {
   "cell_type": "markdown",
   "metadata": {},
   "source": [
    "#### Construyendo el dataset\n",
    "se prueba construyendo el dataset con una ventana de tamaño 3 ya que con esta es que se obtuvo mejores resultados."
   ]
  },
  {
   "cell_type": "code",
   "execution_count": 14,
   "metadata": {},
   "outputs": [],
   "source": [
    "window = 3\n",
    "X, y_reg, bt = build_dataset(data_set, window, binary_target=True, delete_constant_values=True, PNL=True)"
   ]
  },
  {
   "cell_type": "code",
   "execution_count": 15,
   "metadata": {},
   "outputs": [
    {
     "data": {
      "text/plain": [
       "((156579, 5), (156579,), (156579,))"
      ]
     },
     "execution_count": 15,
     "metadata": {},
     "output_type": "execute_result"
    }
   ],
   "source": [
    "X.shape, bt.shape, y_reg.shape"
   ]
  },
  {
   "cell_type": "code",
   "execution_count": 16,
   "metadata": {},
   "outputs": [
    {
     "data": {
      "text/html": [
       "<div>\n",
       "<style>\n",
       "    .dataframe thead tr:only-child th {\n",
       "        text-align: right;\n",
       "    }\n",
       "\n",
       "    .dataframe thead th {\n",
       "        text-align: left;\n",
       "    }\n",
       "\n",
       "    .dataframe tbody tr th {\n",
       "        vertical-align: top;\n",
       "    }\n",
       "</style>\n",
       "<table border=\"1\" class=\"dataframe\">\n",
       "  <thead>\n",
       "    <tr style=\"text-align: right;\">\n",
       "      <th></th>\n",
       "      <th>0</th>\n",
       "      <th>1</th>\n",
       "      <th>2</th>\n",
       "      <th>PNL_0</th>\n",
       "      <th>PNL_1</th>\n",
       "    </tr>\n",
       "    <tr>\n",
       "      <th>date</th>\n",
       "      <th></th>\n",
       "      <th></th>\n",
       "      <th></th>\n",
       "      <th></th>\n",
       "      <th></th>\n",
       "    </tr>\n",
       "  </thead>\n",
       "  <tbody>\n",
       "    <tr>\n",
       "      <th>2018-01-01 23:58:20</th>\n",
       "      <td>1.20093</td>\n",
       "      <td>1.20093</td>\n",
       "      <td>1.20082</td>\n",
       "      <td>-0.00028</td>\n",
       "      <td>-0.00068</td>\n",
       "    </tr>\n",
       "    <tr>\n",
       "      <th>2018-01-01 23:58:30</th>\n",
       "      <td>1.20093</td>\n",
       "      <td>1.20082</td>\n",
       "      <td>1.20043</td>\n",
       "      <td>-0.00070</td>\n",
       "      <td>-0.00099</td>\n",
       "    </tr>\n",
       "    <tr>\n",
       "      <th>2018-01-01 23:58:50</th>\n",
       "      <td>1.20082</td>\n",
       "      <td>1.20043</td>\n",
       "      <td>1.20011</td>\n",
       "      <td>-0.00099</td>\n",
       "      <td>-0.00098</td>\n",
       "    </tr>\n",
       "    <tr>\n",
       "      <th>2018-01-01 23:59:00</th>\n",
       "      <td>1.20043</td>\n",
       "      <td>1.20011</td>\n",
       "      <td>1.20015</td>\n",
       "      <td>-0.00095</td>\n",
       "      <td>-0.00082</td>\n",
       "    </tr>\n",
       "    <tr>\n",
       "      <th>2018-01-01 23:59:10</th>\n",
       "      <td>1.20011</td>\n",
       "      <td>1.20015</td>\n",
       "      <td>1.20028</td>\n",
       "      <td>-0.00082</td>\n",
       "      <td>-0.00095</td>\n",
       "    </tr>\n",
       "  </tbody>\n",
       "</table>\n",
       "</div>"
      ],
      "text/plain": [
       "                           0        1        2    PNL_0    PNL_1\n",
       "date                                                            \n",
       "2018-01-01 23:58:20  1.20093  1.20093  1.20082 -0.00028 -0.00068\n",
       "2018-01-01 23:58:30  1.20093  1.20082  1.20043 -0.00070 -0.00099\n",
       "2018-01-01 23:58:50  1.20082  1.20043  1.20011 -0.00099 -0.00098\n",
       "2018-01-01 23:59:00  1.20043  1.20011  1.20015 -0.00095 -0.00082\n",
       "2018-01-01 23:59:10  1.20011  1.20015  1.20028 -0.00082 -0.00095"
      ]
     },
     "execution_count": 16,
     "metadata": {},
     "output_type": "execute_result"
    }
   ],
   "source": [
    "X.head()"
   ]
  },
  {
   "cell_type": "code",
   "execution_count": 17,
   "metadata": {},
   "outputs": [
    {
     "name": "stdout",
     "output_type": "stream",
     "text": [
      "[ 1.20043  1.20011  1.20015  1.20028  1.20015]\n",
      "[0 0 1 1 0]\n"
     ]
    }
   ],
   "source": [
    "print(y_reg[:5])\n",
    "print(bt[:5])"
   ]
  },
  {
   "cell_type": "markdown",
   "metadata": {},
   "source": [
    "Se utiliza cross_val_score pasandole el parámetro cv para la partición del dataset a la hora de entrenar y probrar, se utiliza la función score que este trae por defecto"
   ]
  },
  {
   "cell_type": "code",
   "execution_count": 87,
   "metadata": {},
   "outputs": [
    {
     "name": "stdout",
     "output_type": "stream",
     "text": [
      "train =  [    0     1     2 ..., 19613 19614 19615] test =  [19616 19617 19618 ..., 26071 26072 26073]\n",
      "train =  [    5     6     7 ..., 26071 26072 26073] test =  [26074 26075 26076 ..., 32585 32586 32587]\n",
      "train =  [ 6503  6504  6505 ..., 32585 32586 32587] test =  [32588 32589 32590 ..., 39240 39241 39242]\n",
      "train =  [13025 13026 13027 ..., 39240 39241 39242] test =  [39243 39244 39245 ..., 46260 46261 46262]\n",
      "train =  [19616 19617 19618 ..., 46260 46261 46262] test =  [46263 46264 46265 ..., 53372 53373 53374]\n",
      "train =  [26074 26075 26076 ..., 53372 53373 53374] test =  [53375 53376 53377 ..., 60465 60466 60467]\n",
      "train =  [32588 32589 32590 ..., 60465 60466 60467] test =  [60468 60469 60470 ..., 67564 67565 67566]\n",
      "train =  [39243 39244 39245 ..., 67564 67565 67566] test =  [67567 67568 67569 ..., 74686 74687 74688]\n",
      "train =  [46263 46264 46265 ..., 74686 74687 74688] test =  [74689 74690 74691 ..., 82225 82226 82227]\n",
      "train =  [53375 53376 53377 ..., 82225 82226 82227] test =  [82228 82229 82230 ..., 89583 89584 89585]\n",
      "train =  [60468 60469 60470 ..., 89583 89584 89585] test =  [89586 89587 89588 ..., 96894 96895 96896]\n",
      "train =  [67567 67568 67569 ..., 96894 96895 96896] test =  [ 96897  96898  96899 ..., 104045 104046 104047]\n",
      "train =  [ 74689  74690  74691 ..., 104045 104046 104047] test =  [104048 104049 104050 ..., 111225 111226 111227]\n",
      "train =  [ 82228  82229  82230 ..., 111225 111226 111227] test =  [111228 111229 111230 ..., 118696 118697 118698]\n",
      "train =  [ 89586  89587  89588 ..., 118696 118697 118698] test =  [118699 118700 118701 ..., 126415 126416 126417]\n",
      "train =  [ 96897  96898  96899 ..., 126415 126416 126417] test =  [126418 126419 126420 ..., 134034 134035 134036]\n",
      "train =  [104048 104049 104050 ..., 134034 134035 134036] test =  [134037 134038 134039 ..., 141485 141486 141487]\n",
      "train =  [111228 111229 111230 ..., 141485 141486 141487] test =  [141488 141489 141490 ..., 148971 148972 148973]\n",
      "train =  [118699 118700 118701 ..., 148971 148972 148973] test =  [148974 148975 148976 ..., 156576 156577 156578]\n",
      "\n",
      "[ 0.91808609  0.6722444   0.63035312  0.89188034  0.93278965  0.62427746\n",
      "  0.60036625  0.90339792  0.92041385  0.92769774  0.94857065  0.94308488\n",
      "  0.93774373  0.54410387  0.69257676  0.8879118   0.91772916  0.94723484\n",
      "  0.94240631]\n",
      "\n",
      "score avg =  0.830677306575\n",
      "score std =  0.141711019686\n"
     ]
    }
   ],
   "source": [
    "from sklearn.model_selection import cross_val_score\n",
    "\n",
    "y = bt\n",
    "\n",
    "from sklearn.neighbors import KNeighborsClassifier\n",
    "\n",
    "n_bdtrain = 4 #número de dias con los que se entrena\n",
    "n_bdtest = 1  #número de días con los que se hace el test\n",
    "move_day = 1  #número de días que se van corriendo\n",
    "\n",
    "vs = v_split(X,n_bdtrain,n_bdtest,move_day)\n",
    "k = KNeighborsClassifier()\n",
    "\n",
    "for train_index, test_index in vs:\n",
    "    print ('train = ',train_index, 'test = ',test_index)\n",
    "print()\n",
    "result = cross_val_score(k, X, y, cv=v_split(X, n_bdtrain, n_bdtest, move_day))\n",
    "\n",
    "print(result)\n",
    "print()\n",
    "print('score avg = ', np.mean(result))\n",
    "print('score std = ', np.std(result))"
   ]
  },
  {
   "cell_type": "markdown",
   "metadata": {},
   "source": [
    "se crea la clase PNLEstimatorWrapper para crear nuestra propia función score y así retornar nuestros diferentes tipos de score"
   ]
  },
  {
   "cell_type": "code",
   "execution_count": 88,
   "metadata": {
    "collapsed": true
   },
   "outputs": [],
   "source": [
    "# %load ../code/PNLEstimatorWrapper.py\n",
    "import pandas as pd\n",
    "import numpy as np\n",
    "class PNLEstimatorWrapper:\n",
    "    \n",
    "    def __init__(self, estimator, PNL_column, exclude_PNL_column_from_training=True):\n",
    "        self.estimator = estimator\n",
    "        self.PNL_column = PNL_column\n",
    "        self.exclude_PNL_column_from_training = exclude_PNL_column_from_training\n",
    "        \n",
    "    def fit(self, X, y):\n",
    "        assert 'PNL_1' and 'PNL_0' in X.columns, \"column \"+self.PNL_column+\" not in X dataframe\"\n",
    "        if self.exclude_PNL_column_from_training:\n",
    "            X = X[[col for col in X.columns if col!=self.PNL_column[0] and col!=self.PNL_column[1]]]\n",
    "        self.estimator.fit(X,y)\n",
    "        \n",
    "    def predict(self, X):\n",
    "        assert 'PNL_1' and 'PNL_0' in X.columns, \"column \"+self.PNL_column+\" not in X dataframe\"\n",
    "        if self.exclude_PNL_column_from_training:\n",
    "            X = X[[col for col in X.columns if col!=self.PNL_column[0] and col!=self.PNL_column[1]]]\n",
    "        return self.estimator.predict(X)\n",
    "    \n",
    "    def score(self, X, y):\n",
    "        pnl_1 = X[self.PNL_column[0]]\n",
    "        pnl_0 = X[self.PNL_column[1]]\n",
    "        pre = self.predict(X)\n",
    "        r = sum((pre==1)*pnl_1 + (pre==0)*pnl_0)\n",
    "        sell = sum((pre==0)*1)\n",
    "        buy = sum((pre==1)*1)\n",
    "        \n",
    "        count_ones, count_zeros = 0,0\n",
    "        l_one, l_zero = [],[]\n",
    "        for i in pre:\n",
    "            if i==1:\n",
    "                l_zero.append(count_zeros)\n",
    "                count_zeros = 0\n",
    "                count_ones += 1\n",
    "            else:\n",
    "                l_one.append(count_ones)\n",
    "                count_zeros += 1\n",
    "                count_ones = 0\n",
    "        l_zero.append(count_zeros)\n",
    "        l_one.append(count_ones)\n",
    "        \n",
    "        #return np.array([r,buy,sell,max(l_one),max(l_zero)])\n",
    "        return np.array([r,buy,sell,max(l_one),max(l_zero)]), pre\n",
    "        \n",
    "    def get_params(self, deep=False):\n",
    "        return {\"PNL_column\": self.PNL_column,\n",
    "                \"exclude_PNL_column_from_training\": self.exclude_PNL_column_from_training,\n",
    "                \"estimator\": self.estimator}"
   ]
  },
  {
   "cell_type": "markdown",
   "metadata": {},
   "source": [
    "#### creando la función step_validation\n",
    "esta función me recibe el estimador en el cual va implicita la clase PNLEstimatorWrapper, lo que hace es coger el generador \"v_split\" para aplicarlo con el estimador y así validar los datos.\n"
   ]
  },
  {
   "cell_type": "code",
   "execution_count": 89,
   "metadata": {
    "collapsed": true
   },
   "outputs": [],
   "source": [
    "def step_validation(estimator, X, y, cv):\n",
    "    '''\n",
    "    Recibe el estimador,X,y, y un generador cv con el cual hace la validación\n",
    "    dependiendo que la configuración que este tenga\n",
    "    '''\n",
    "    result = []\n",
    "    for index in cv:\n",
    "        estimator.fit(X.iloc[index[0]], y[index[0]])\n",
    "        result.append(estimator.score(X.iloc[index[1]], y[index[1]]))\n",
    "    return np.array(result)"
   ]
  },
  {
   "cell_type": "markdown",
   "metadata": {},
   "source": [
    "Debido a que la función score arroja un vector que en cada posición tiene un vector con datos del PNL y otro con las predicciones, se hace necesario crear una función llamada \"redim\" para tratar esta salida y poder separar los datos del PNL y los del predict."
   ]
  },
  {
   "cell_type": "code",
   "execution_count": 90,
   "metadata": {
    "collapsed": true
   },
   "outputs": [],
   "source": [
    "def redim(signal):\n",
    "    '''\n",
    "    recibe un array plano el cual convierte en dos salidas,\n",
    "    en una de estas se encuentran los resultados pertinentes\n",
    "    a medir con el PNL y en el otro las predicciones.\n",
    "    '''\n",
    "    result = signal[:,0][0]\n",
    "    predict = np.array(signal[:,1][0],dtype=np.float16)\n",
    "    for i in range(1,len(signal)):\n",
    "        result = np.concatenate((result,signal[:,0][i]))\n",
    "        predict = np.concatenate((predict,signal[:,1][i]))\n",
    "    result = result.reshape((len(signal),signal[:,0][0].shape[0]))\n",
    "    return result, predict"
   ]
  },
  {
   "cell_type": "code",
   "execution_count": 91,
   "metadata": {},
   "outputs": [
    {
     "data": {
      "text/html": [
       "<div>\n",
       "<style>\n",
       "    .dataframe thead tr:only-child th {\n",
       "        text-align: right;\n",
       "    }\n",
       "\n",
       "    .dataframe thead th {\n",
       "        text-align: left;\n",
       "    }\n",
       "\n",
       "    .dataframe tbody tr th {\n",
       "        vertical-align: top;\n",
       "    }\n",
       "</style>\n",
       "<table border=\"1\" class=\"dataframe\">\n",
       "  <thead>\n",
       "    <tr style=\"text-align: right;\">\n",
       "      <th></th>\n",
       "      <th>0</th>\n",
       "      <th>1</th>\n",
       "      <th>2</th>\n",
       "      <th>PNL_0</th>\n",
       "      <th>PNL_1</th>\n",
       "    </tr>\n",
       "    <tr>\n",
       "      <th>date</th>\n",
       "      <th></th>\n",
       "      <th></th>\n",
       "      <th></th>\n",
       "      <th></th>\n",
       "      <th></th>\n",
       "    </tr>\n",
       "  </thead>\n",
       "  <tbody>\n",
       "    <tr>\n",
       "      <th>2018-01-01 23:58:20</th>\n",
       "      <td>1.20093</td>\n",
       "      <td>1.20093</td>\n",
       "      <td>1.20082</td>\n",
       "      <td>-0.00028</td>\n",
       "      <td>-0.00068</td>\n",
       "    </tr>\n",
       "    <tr>\n",
       "      <th>2018-01-01 23:58:30</th>\n",
       "      <td>1.20093</td>\n",
       "      <td>1.20082</td>\n",
       "      <td>1.20043</td>\n",
       "      <td>-0.00070</td>\n",
       "      <td>-0.00099</td>\n",
       "    </tr>\n",
       "    <tr>\n",
       "      <th>2018-01-01 23:58:50</th>\n",
       "      <td>1.20082</td>\n",
       "      <td>1.20043</td>\n",
       "      <td>1.20011</td>\n",
       "      <td>-0.00099</td>\n",
       "      <td>-0.00098</td>\n",
       "    </tr>\n",
       "    <tr>\n",
       "      <th>2018-01-01 23:59:00</th>\n",
       "      <td>1.20043</td>\n",
       "      <td>1.20011</td>\n",
       "      <td>1.20015</td>\n",
       "      <td>-0.00095</td>\n",
       "      <td>-0.00082</td>\n",
       "    </tr>\n",
       "    <tr>\n",
       "      <th>2018-01-01 23:59:10</th>\n",
       "      <td>1.20011</td>\n",
       "      <td>1.20015</td>\n",
       "      <td>1.20028</td>\n",
       "      <td>-0.00082</td>\n",
       "      <td>-0.00095</td>\n",
       "    </tr>\n",
       "  </tbody>\n",
       "</table>\n",
       "</div>"
      ],
      "text/plain": [
       "                           0        1        2    PNL_0    PNL_1\n",
       "date                                                            \n",
       "2018-01-01 23:58:20  1.20093  1.20093  1.20082 -0.00028 -0.00068\n",
       "2018-01-01 23:58:30  1.20093  1.20082  1.20043 -0.00070 -0.00099\n",
       "2018-01-01 23:58:50  1.20082  1.20043  1.20011 -0.00099 -0.00098\n",
       "2018-01-01 23:59:00  1.20043  1.20011  1.20015 -0.00095 -0.00082\n",
       "2018-01-01 23:59:10  1.20011  1.20015  1.20028 -0.00082 -0.00095"
      ]
     },
     "execution_count": 91,
     "metadata": {},
     "output_type": "execute_result"
    }
   ],
   "source": [
    "X.head()"
   ]
  },
  {
   "cell_type": "code",
   "execution_count": 92,
   "metadata": {},
   "outputs": [
    {
     "data": {
      "text/plain": [
       "array([ 1.20043,  1.20011,  1.20015,  1.20028,  1.20015])"
      ]
     },
     "execution_count": 92,
     "metadata": {},
     "output_type": "execute_result"
    }
   ],
   "source": [
    "y_reg[:5]"
   ]
  },
  {
   "cell_type": "code",
   "execution_count": 93,
   "metadata": {
    "collapsed": true
   },
   "outputs": [],
   "source": [
    "# se muestrea la señal a predecir por cada hora para colocar con los buy y sell por dia.\n",
    "signal_sample = (X.resample('1h',loffset='h').last()).iloc[:,2][1:]"
   ]
  },
  {
   "cell_type": "code",
   "execution_count": 94,
   "metadata": {},
   "outputs": [
    {
     "data": {
      "text/plain": [
       "(720,)"
      ]
     },
     "execution_count": 94,
     "metadata": {},
     "output_type": "execute_result"
    }
   ],
   "source": [
    "signal_sample.shape"
   ]
  },
  {
   "cell_type": "code",
   "execution_count": 95,
   "metadata": {},
   "outputs": [
    {
     "data": {
      "text/plain": [
       "date\n",
       "2018-01-02 01:00:00    1.20057\n",
       "2018-01-02 02:00:00    1.20092\n",
       "2018-01-02 03:00:00    1.20170\n",
       "2018-01-02 04:00:00    1.20161\n",
       "2018-01-02 05:00:00    1.20097\n",
       "Freq: H, Name: 2, dtype: float64"
      ]
     },
     "execution_count": 95,
     "metadata": {},
     "output_type": "execute_result"
    }
   ],
   "source": [
    "signal_sample.head()"
   ]
  },
  {
   "cell_type": "markdown",
   "metadata": {},
   "source": [
    "Se prueba con un GaussianNB para ver su rendimiento, esto teniendo cuenta que solo es con un mes de datos"
   ]
  },
  {
   "cell_type": "code",
   "execution_count": 96,
   "metadata": {},
   "outputs": [
    {
     "name": "stdout",
     "output_type": "stream",
     "text": [
      "--------- GaussianNB ----------------\n",
      "average PNL :  -0.270086842105\n",
      "average buy:  1753.05263158\n",
      "average sell:  5455.52631579\n",
      "-------------------------------------\n",
      "                PNL    buys   sells  longest_buys  longest_sells\n",
      "2018-01-05 -0.22388   125.0  6333.0          86.0         4331.0\n",
      "2018-01-08 -0.23485  5370.0  1144.0        5088.0          939.0\n",
      "2018-01-09 -0.21759  6655.0     0.0        6655.0            0.0\n",
      "2018-01-10 -0.24520     0.0  7020.0           0.0         7020.0\n",
      "2018-01-11 -0.25744     0.0  7112.0           0.0         7112.0\n",
      "2018-01-12 -0.28993     0.0  7093.0           0.0         7093.0\n",
      "2018-01-15 -0.28936  7099.0     0.0        7099.0            0.0\n",
      "2018-01-16 -0.25366     0.0  7122.0           0.0         7122.0\n",
      "2018-01-17 -0.28687     0.0  7539.0           0.0         7539.0\n",
      "2018-01-18 -0.27218  3525.0  3833.0        2993.0         3694.0\n",
      "2018-01-19 -0.27293   936.0  6375.0         322.0         5501.0\n",
      "2018-01-22 -0.25306  1564.0  5587.0         752.0         2844.0\n",
      "2018-01-23 -0.25535    41.0  7139.0          27.0         4122.0\n",
      "2018-01-24 -0.27443     0.0  7471.0           0.0         7471.0\n",
      "2018-01-25 -0.33001   250.0  7469.0          64.0         5037.0\n",
      "2018-01-26 -0.34038     0.0  7619.0           0.0         7619.0\n",
      "2018-01-29 -0.28478   305.0  7146.0          95.0         5176.0\n",
      "2018-01-30 -0.26259  5526.0  1960.0        3771.0          889.0\n",
      "2018-01-31 -0.28716  1912.0  5693.0         598.0         4809.0\n"
     ]
    }
   ],
   "source": [
    "from sklearn.naive_bayes import GaussianNB\n",
    "    \n",
    "est_GNB = PNLEstimatorWrapper(GaussianNB(), PNL_column=['PNL_1','PNL_0'])\n",
    "n_bdtrain = 4\n",
    "n_bdtest = 1\n",
    "move_day = 1\n",
    "#para indexar los resultados del dataframe\n",
    "dates = pd.unique(X.index.date)[n_bdtrain:]\n",
    "result_GNB = step_validation(est_GNB, X, y, v_split(X,n_bdtrain,n_bdtest,move_day))\n",
    "result_GNB, predict_GNB = redim(result_GNB)\n",
    "print('--------- GaussianNB ----------------')\n",
    "print('average PNL : ', np.mean(result_GNB[:,0]))\n",
    "print('average buy: ', np.mean(result_GNB[:,1]))\n",
    "print('average sell: ', np.mean(result_GNB[:,2]))\n",
    "print('-------------------------------------')\n",
    "df_GNB = pd.DataFrame(result_GNB, columns=list(['PNL','buys','sells','longest_buys','longest_sells']), index=dates)\n",
    "print(df_GNB)\n",
    "df_GNB.to_csv('../resultados/TrueFX/EUR-USD/GaussianNB/pnl_GNB_wsize3_2018-01.csv')"
   ]
  },
  {
   "cell_type": "markdown",
   "metadata": {},
   "source": [
    "### Se pintarán las ventas en color rojo y las compras en color verde!"
   ]
  },
  {
   "cell_type": "markdown",
   "metadata": {},
   "source": [
    "para poder graficar la señal original con las predicciones, hay que tener en cuenta que los primeros 4 días que se eligieron anteriormente en la variable \"n_bdtrain\" se deben omitir."
   ]
  },
  {
   "cell_type": "code",
   "execution_count": 97,
   "metadata": {
    "collapsed": true
   },
   "outputs": [],
   "source": [
    "firts_4bd = 19616 #primeros 4 días"
   ]
  },
  {
   "cell_type": "markdown",
   "metadata": {},
   "source": [
    "el vector de predicción tiene el mismo tamaño que el vector de target, teniendo en cuenta que este empieza después de los 4 días que tenemos para entrenar desde un principio"
   ]
  },
  {
   "cell_type": "code",
   "execution_count": 98,
   "metadata": {},
   "outputs": [
    {
     "data": {
      "text/plain": [
       "(136963, 136963)"
      ]
     },
     "execution_count": 98,
     "metadata": {},
     "output_type": "execute_result"
    }
   ],
   "source": [
    "len(predict_GNB),len(y)- firts_4bd"
   ]
  },
  {
   "cell_type": "code",
   "execution_count": 99,
   "metadata": {},
   "outputs": [
    {
     "data": {
      "text/plain": [
       "array([ 1.20043,  1.20011,  1.20015,  1.20028,  1.20015])"
      ]
     },
     "execution_count": 99,
     "metadata": {},
     "output_type": "execute_result"
    }
   ],
   "source": [
    "y_reg[:5]"
   ]
  },
  {
   "cell_type": "code",
   "execution_count": 100,
   "metadata": {},
   "outputs": [
    {
     "data": {
      "text/plain": [
       "(array([0, 0, 1, 1, 0]), array([ 0.,  0.,  0.,  0.,  0.]))"
      ]
     },
     "execution_count": 100,
     "metadata": {},
     "output_type": "execute_result"
    }
   ],
   "source": [
    "bt[:5], predict_GNB[:5]"
   ]
  },
  {
   "cell_type": "code",
   "execution_count": 101,
   "metadata": {},
   "outputs": [
    {
     "data": {
      "text/html": [
       "<div>\n",
       "<style>\n",
       "    .dataframe thead tr:only-child th {\n",
       "        text-align: right;\n",
       "    }\n",
       "\n",
       "    .dataframe thead th {\n",
       "        text-align: left;\n",
       "    }\n",
       "\n",
       "    .dataframe tbody tr th {\n",
       "        vertical-align: top;\n",
       "    }\n",
       "</style>\n",
       "<table border=\"1\" class=\"dataframe\">\n",
       "  <thead>\n",
       "    <tr style=\"text-align: right;\">\n",
       "      <th></th>\n",
       "      <th>0</th>\n",
       "      <th>1</th>\n",
       "      <th>2</th>\n",
       "      <th>PNL_0</th>\n",
       "      <th>PNL_1</th>\n",
       "    </tr>\n",
       "    <tr>\n",
       "      <th>date</th>\n",
       "      <th></th>\n",
       "      <th></th>\n",
       "      <th></th>\n",
       "      <th></th>\n",
       "      <th></th>\n",
       "    </tr>\n",
       "  </thead>\n",
       "  <tbody>\n",
       "    <tr>\n",
       "      <th>2018-01-01 23:58:20</th>\n",
       "      <td>1.20093</td>\n",
       "      <td>1.20093</td>\n",
       "      <td>1.20082</td>\n",
       "      <td>-0.00028</td>\n",
       "      <td>-0.00068</td>\n",
       "    </tr>\n",
       "    <tr>\n",
       "      <th>2018-01-01 23:58:30</th>\n",
       "      <td>1.20093</td>\n",
       "      <td>1.20082</td>\n",
       "      <td>1.20043</td>\n",
       "      <td>-0.00070</td>\n",
       "      <td>-0.00099</td>\n",
       "    </tr>\n",
       "    <tr>\n",
       "      <th>2018-01-01 23:58:50</th>\n",
       "      <td>1.20082</td>\n",
       "      <td>1.20043</td>\n",
       "      <td>1.20011</td>\n",
       "      <td>-0.00099</td>\n",
       "      <td>-0.00098</td>\n",
       "    </tr>\n",
       "    <tr>\n",
       "      <th>2018-01-01 23:59:00</th>\n",
       "      <td>1.20043</td>\n",
       "      <td>1.20011</td>\n",
       "      <td>1.20015</td>\n",
       "      <td>-0.00095</td>\n",
       "      <td>-0.00082</td>\n",
       "    </tr>\n",
       "    <tr>\n",
       "      <th>2018-01-01 23:59:10</th>\n",
       "      <td>1.20011</td>\n",
       "      <td>1.20015</td>\n",
       "      <td>1.20028</td>\n",
       "      <td>-0.00082</td>\n",
       "      <td>-0.00095</td>\n",
       "    </tr>\n",
       "    <tr>\n",
       "      <th>2018-01-02 00:00:40</th>\n",
       "      <td>1.20028</td>\n",
       "      <td>1.20015</td>\n",
       "      <td>1.20015</td>\n",
       "      <td>-0.00098</td>\n",
       "      <td>-0.00075</td>\n",
       "    </tr>\n",
       "  </tbody>\n",
       "</table>\n",
       "</div>"
      ],
      "text/plain": [
       "                           0        1        2    PNL_0    PNL_1\n",
       "date                                                            \n",
       "2018-01-01 23:58:20  1.20093  1.20093  1.20082 -0.00028 -0.00068\n",
       "2018-01-01 23:58:30  1.20093  1.20082  1.20043 -0.00070 -0.00099\n",
       "2018-01-01 23:58:50  1.20082  1.20043  1.20011 -0.00099 -0.00098\n",
       "2018-01-01 23:59:00  1.20043  1.20011  1.20015 -0.00095 -0.00082\n",
       "2018-01-01 23:59:10  1.20011  1.20015  1.20028 -0.00082 -0.00095\n",
       "2018-01-02 00:00:40  1.20028  1.20015  1.20015 -0.00098 -0.00075"
      ]
     },
     "execution_count": 101,
     "metadata": {},
     "output_type": "execute_result"
    }
   ],
   "source": [
    "X.iloc[:6]"
   ]
  },
  {
   "cell_type": "code",
   "execution_count": 102,
   "metadata": {},
   "outputs": [
    {
     "data": {
      "text/plain": [
       "((156579,), (156579, 5))"
      ]
     },
     "execution_count": 102,
     "metadata": {},
     "output_type": "execute_result"
    }
   ],
   "source": [
    "y_reg.shape, X.shape"
   ]
  },
  {
   "cell_type": "markdown",
   "metadata": {
    "collapsed": true
   },
   "source": [
    "Como para el target se empieza del segundo valor de la fila X, es decir, el primer valor de la señal no tiene una predicción ya que no tiene un valor anterior para ser comparado, por esto se coge la señal \"y_reg\" y no se toma el último valor ya que este no tiene predicción"
   ]
  },
  {
   "cell_type": "code",
   "execution_count": 103,
   "metadata": {},
   "outputs": [
    {
     "name": "stdout",
     "output_type": "stream",
     "text": [
      "(136963,)\n",
      "(136963,)\n",
      "(136963,)\n",
      "(136963,)\n"
     ]
    }
   ],
   "source": [
    "#para graficar las compras acertadas sobre la señal original\n",
    "buy_GNB_ok = ((predict_GNB==bt[firts_4bd:])&(predict_GNB==1))*y_reg[firts_4bd-1:-1]\n",
    "buy_GNB_ok[buy_GNB_ok==0] = np.nan \n",
    "print (buy_GNB_ok.shape)\n",
    "#para graficar las ventas acertadas sobre la señal original\n",
    "sell_GNB_ok = ((predict_GNB==bt[firts_4bd:])&(predict_GNB==0))*y_reg[firts_4bd-1:-1]\n",
    "sell_GNB_ok[sell_GNB_ok==0] = np.nan\n",
    "print (sell_GNB_ok.shape)\n",
    "\n",
    "#para graficar las compras fallidas sobre la señal original\n",
    "buy_GNB_mal = ((predict_GNB!=bt[firts_4bd:])&(predict_GNB==1))*y_reg[firts_4bd-1:-1]\n",
    "buy_GNB_mal[buy_GNB_mal==0] = np.nan \n",
    "print (buy_GNB_mal.shape)\n",
    "#para graficar las ventas fallidas sobre la señal original\n",
    "sell_GNB_mal = ((predict_GNB!=bt[firts_4bd:])&(predict_GNB==0))*y_reg[firts_4bd-1:-1]\n",
    "sell_GNB_mal[sell_GNB_mal==0] = np.nan\n",
    "print (sell_GNB_mal.shape)"
   ]
  },
  {
   "cell_type": "code",
   "execution_count": 104,
   "metadata": {
    "collapsed": true
   },
   "outputs": [],
   "source": [
    "#dates = np.unique(X.index.date) #para graficar el numero de ventas y compras por dia\n",
    "x_axis = X.index[firts_4bd:] #para graficar los resultados por datetime"
   ]
  },
  {
   "cell_type": "code",
   "execution_count": 105,
   "metadata": {},
   "outputs": [
    {
     "data": {
      "text/plain": [
       "((136963,), (136963,))"
      ]
     },
     "execution_count": 105,
     "metadata": {},
     "output_type": "execute_result"
    }
   ],
   "source": [
    "x_axis.shape, sell_GNB_ok.shape"
   ]
  },
  {
   "cell_type": "code",
   "execution_count": 106,
   "metadata": {},
   "outputs": [
    {
     "data": {
      "text/plain": [
       "DatetimeIndex(['2018-01-05 00:00:00', '2018-01-05 00:00:10',\n",
       "               '2018-01-05 00:00:20', '2018-01-05 00:00:30',\n",
       "               '2018-01-05 00:01:00', '2018-01-05 00:01:20',\n",
       "               '2018-01-05 00:01:50', '2018-01-05 00:02:00',\n",
       "               '2018-01-05 00:02:20', '2018-01-05 00:02:40',\n",
       "               ...\n",
       "               '2018-01-31 23:57:30', '2018-01-31 23:57:40',\n",
       "               '2018-01-31 23:57:50', '2018-01-31 23:58:00',\n",
       "               '2018-01-31 23:58:10', '2018-01-31 23:58:30',\n",
       "               '2018-01-31 23:58:50', '2018-01-31 23:59:00',\n",
       "               '2018-01-31 23:59:10', '2018-01-31 23:59:20'],\n",
       "              dtype='datetime64[ns]', name='date', length=136963, freq=None)"
      ]
     },
     "execution_count": 106,
     "metadata": {},
     "output_type": "execute_result"
    }
   ],
   "source": [
    "x_axis"
   ]
  },
  {
   "cell_type": "markdown",
   "metadata": {},
   "source": [
    "graficando con bokeh..."
   ]
  },
  {
   "cell_type": "code",
   "execution_count": 108,
   "metadata": {},
   "outputs": [],
   "source": [
    "p1_GNB = bp.Figure(width=750, height=300,title='buys and sells with a GaussianNB',x_axis_type='datetime',\n",
    "               title_location = 'above')\n",
    "p1_GNB.triangle(x_axis, buy_GNB_ok, color='green', legend='predict buy ok')\n",
    "p1_GNB.triangle(x_axis, sell_GNB_ok, color='green', legend='predict sells ok', angle=45)\n",
    "p1_GNB.xaxis.axis_label = 'Datetime'\n",
    "p1_GNB.yaxis.axis_label = 'EUR/USD'\n",
    "p1_GNB.triangle(x_axis, buy_GNB_mal, color='red', legend='incorrect predict buy')\n",
    "p1_GNB.triangle(x_axis, sell_GNB_mal, color='red', legend='incorrect predict sell', angle=45)\n",
    "p1_GNB.line(x_axis, y_reg[firts_4bd-1:-1], color='blue', alpha=0.2, legend='bid')\n",
    "p1_GNB.legend.location = 'bottom_left'\n",
    "p1_GNB.legend.orientation = 'horizontal'\n",
    "p1_GNB.legend.background_fill_color = 'grey'\n",
    "p1_GNB.legend.background_fill_alpha = 0.1\n",
    "p1_GNB.legend.border_line_alpha = None\n",
    "\n",
    "p2_GNB = bp.Figure(width=750, height=300,title='Profit and Loss with a GaussianNB',x_axis_type='datetime')\n",
    "p2_GNB.line(dates, result_GNB[:,0], color='blue', legend='PNL', alpha=0.5)\n",
    "p2_GNB.circle(dates, result_GNB[:,0], color='blue', legend='PNL', alpha=0.5)\n",
    "p2_GNB.line(dates, np.zeros(len(result_GNB)), color='red', legend='PNL = 0', line_dash='dotted')\n",
    "p2_GNB.line(dates,np.ones(len(result_GNB[:,0]))*np.mean(result_GNB[:,0]),color='green',legend='avg PNL')\n",
    "p2_GNB.xaxis.axis_label = 'datetime'\n",
    "p2_GNB.yaxis.axis_label = 'PNL'\n",
    "p2_GNB.legend.location ='bottom_center'\n",
    "p2_GNB.legend.orientation = 'horizontal'\n",
    "\n",
    "p3_GNB = bp.Figure(width=450, height=250, title='buys and sells per day', x_axis_type='datetime')\n",
    "p3_GNB.line(dates, result_GNB[:,1], color='green', legend='buys')\n",
    "p3_GNB.circle(dates, result_GNB[:,1], color='green', legend='buys')\n",
    "p3_GNB.line(dates, result_GNB[:,2], color='red', legend='sells')\n",
    "p3_GNB.circle(dates, result_GNB[:,2], color='red', legend='sells')\n",
    "p3_GNB.xaxis.axis_label = 'datetime'\n",
    "p3_GNB.yaxis.axis_label = 'quantity'\n",
    "p3_GNB.legend.location = 'top_left'\n",
    "#se utiliza el x_range para correlacionar las dos gráficas por el eje x\n",
    "\n",
    "#para pintar el PNL que se va acumulando\n",
    "PNL_accu_GNB = []\n",
    "count_GNB = 0\n",
    "for i in result_GNB[:,0]:\n",
    "    count_GNB += i\n",
    "    PNL_accu_GNB.append(count_GNB)\n",
    "#se pinta el PNL acumulado\n",
    "p5_GNB = bp.Figure(width=750, height=300,title='PNL accumulated with a GaussianNB',x_axis_type='datetime',\n",
    "                   x_range=p2_GNB.x_range)\n",
    "p5_GNB.line(dates,PNL_accu_GNB,color='blue',legend='PNL accumulated',alpha=0.5)\n",
    "p5_GNB.circle(dates, PNL_accu_GNB, color='blue',legend='PNL accumulated', alpha=0.5)\n",
    "p5_GNB.line(dates, np.zeros(len(result_GNB)), color='red', legend='PNL = 0', line_dash='dotted')\n",
    "p5_GNB.xaxis.axis_label = 'datetime'\n",
    "p5_GNB.yaxis.axis_label = 'PNL accumulated'\n",
    "p5_GNB.legend.location ='bottom_center'\n",
    "p5_GNB.legend.orientation = 'horizontal'\n",
    "\n",
    "#se pinta la señal submuestreada para verlas con en volumen de compras y ventas por día\n",
    "p6_GNB = bp.Figure(width=400, height=250, title='signal per hours', x_axis_type='datetime',x_range=p3_GNB.x_range)\n",
    "p6_GNB.line(signal_sample.index, signal_sample, color='blue')\n",
    "p6_GNB.xaxis.axis_label = 'datetime'\n",
    "p6_GNB.yaxis.axis_label = 'bid EUR/USD'\n",
    "\n",
    "bp.show(gridplot([[p1_GNB,p3_GNB],[p2_GNB,p6_GNB],[p5_GNB]], toolbar_location=\"right\"))\n",
    "bp.output_file(filename='../resultados/TrueFX/EUR-USD/GaussianNB/grafico GaussianNB.html', title='GaussianNB')"
   ]
  },
  {
   "cell_type": "markdown",
   "metadata": {},
   "source": [
    "se gráfica el PNL y su media para poder ver graficamente las veces que se gana o se pierde y si en general se termina ganando o perdiendo dinero"
   ]
  },
  {
   "cell_type": "code",
   "execution_count": 109,
   "metadata": {},
   "outputs": [
    {
     "data": {
      "image/png": "[encoded data removed]",
      "text/plain": [
       "<matplotlib.figure.Figure at 0x7f7a0dd1ffd0>"
      ]
     },
     "metadata": {},
     "output_type": "display_data"
    }
   ],
   "source": [
    "plt.figure(figsize=(15,5))\n",
    "    \n",
    "plt.title('Profit and Loss with GaussianNB', size=15)\n",
    "plt.plot(range(len(result_GNB[:,0])), result_GNB[:,0], label='PNL')\n",
    "plt.plot(range(len(result_GNB[:,0])), np.zeros(len(result_GNB[:,0])),color='red', alpha=0.6, label='PNL = 0', linestyle='--')\n",
    "plt.plot(range(len(result_GNB[:,0])), np.ones(len(result_GNB[:,0]))*np.mean(result_GNB[:,0]),\n",
    "         color='green', alpha=0.6, label='PNL mean')\n",
    "plt.xlabel('test day')\n",
    "plt.xticks(range(len(result_GNB)),dates[n_bdtrain:], size=10, rotation=25)\n",
    "plt.legend();"
   ]
  },
  {
   "cell_type": "code",
   "execution_count": 110,
   "metadata": {},
   "outputs": [
    {
     "data": {
      "image/png": "[encoded data removed]",
      "text/plain": [
       "<matplotlib.figure.Figure at 0x7f7a0d020748>"
      ]
     },
     "metadata": {},
     "output_type": "display_data"
    }
   ],
   "source": [
    "plt.figure(figsize=(16,3))\n",
    "plt.subplot(1,2,1)\n",
    "plt.title('Buys - GaussianNB', size=15)\n",
    "plt.plot(range(len(result_GNB[:,1])), result_GNB[:,1],color='green', alpha=0.6, label='Buys')\n",
    "plt.xlabel('test day')\n",
    "plt.ylabel('# Buys')\n",
    "plt.xticks(range(len(result_GNB)),dates[n_bdtrain:], size=10, rotation=80)\n",
    "plt.legend();\n",
    "    \n",
    "plt.subplot(1,2,2)\n",
    "plt.title('Sells - GaussianNB', size=15)\n",
    "plt.plot(range(len(result_GNB[:,2])), result_GNB[:,2],color='red', alpha=0.6, label='Sells')\n",
    "plt.xlabel('test day')\n",
    "plt.ylabel('# Sells')\n",
    "plt.xticks(range(len(result_GNB)),dates[n_bdtrain:], size=10, rotation=80)\n",
    "plt.legend();"
   ]
  },
  {
   "cell_type": "markdown",
   "metadata": {},
   "source": [
    "Se prueba con un KNeighborsClassifier"
   ]
  },
  {
   "cell_type": "code",
   "execution_count": 111,
   "metadata": {},
   "outputs": [
    {
     "data": {
      "text/plain": [
       "(19,)"
      ]
     },
     "execution_count": 111,
     "metadata": {},
     "output_type": "execute_result"
    }
   ],
   "source": [
    "dates.shape"
   ]
  },
  {
   "cell_type": "code",
   "execution_count": 112,
   "metadata": {},
   "outputs": [
    {
     "name": "stdout",
     "output_type": "stream",
     "text": [
      "-------- KNeighborsClassifier -------\n",
      "average PNL:  -0.272484736842\n",
      "average buy:  3167.84210526\n",
      "average sell:  4040.73684211\n",
      "-------------------------------------\n",
      "                PNL    buys   sells  longest_buys  longest_sells\n",
      "2018-01-05 -0.23473  3039.0  3419.0          18.0           17.0\n",
      "2018-01-08 -0.23443  5217.0  1297.0        3067.0           11.0\n",
      "2018-01-09 -0.21357  5474.0  1181.0        4206.0           26.0\n",
      "2018-01-10 -0.25319  3111.0  3909.0          22.0          101.0\n",
      "2018-01-11 -0.25477  3276.0  3836.0          11.0           17.0\n",
      "2018-01-12 -0.28979   835.0  6258.0          18.0         4418.0\n",
      "2018-01-15 -0.29855  1075.0  6024.0          59.0         4150.0\n",
      "2018-01-16 -0.25825  3432.0  3690.0          43.0           49.0\n",
      "2018-01-17 -0.28553  3595.0  3944.0          16.0          177.0\n",
      "2018-01-18 -0.27951  3981.0  3377.0          39.0           11.0\n",
      "2018-01-19 -0.28711  3518.0  3793.0          13.0           13.0\n",
      "2018-01-22 -0.25264  3410.0  3741.0          14.0           15.0\n",
      "2018-01-23 -0.25835  3454.0  3726.0          25.0           20.0\n",
      "2018-01-24 -0.27271   257.0  7214.0           9.0         5964.0\n",
      "2018-01-25 -0.30622  1554.0  6165.0          15.0         1968.0\n",
      "2018-01-26 -0.33381  3584.0  4035.0          95.0           26.0\n",
      "2018-01-29 -0.29944  3875.0  3576.0          35.0           42.0\n",
      "2018-01-30 -0.26024  3755.0  3731.0          20.0           15.0\n",
      "2018-01-31 -0.30437  3747.0  3858.0          16.0           19.0\n"
     ]
    }
   ],
   "source": [
    "from sklearn.neighbors import KNeighborsClassifier\n",
    "\n",
    "est_KNC = PNLEstimatorWrapper(KNeighborsClassifier(n_neighbors=7,n_jobs=2,leaf_size=30\n",
    "                                                   ,algorithm='kd_tree'), PNL_column=['PNL_1','PNL_0'])\n",
    "result_KNC = step_validation(est_KNC, X, y, v_split(X,4,1,1))\n",
    "result_KNC, predict_KNC = redim(result_KNC)\n",
    "print('-------- KNeighborsClassifier -------')\n",
    "print('average PNL: ', np.mean(result_KNC[:,0]))\n",
    "print('average buy: ', np.mean(result_KNC[:,1]))\n",
    "print('average sell: ', np.mean(result_KNC[:,2]))\n",
    "print('-------------------------------------')\n",
    "df_KNC = pd.DataFrame(result_KNC, columns=list(['PNL','buys','sells','longest_buys','longest_sells']), index=dates)\n",
    "print(df_KNC)\n",
    "df_KNC.to_csv('../resultados/TrueFX/EUR-USD/KNeighborsClassfier/pnl_KNC_wsize3_2017-09.csv')"
   ]
  },
  {
   "cell_type": "markdown",
   "metadata": {},
   "source": [
    "#### Pintando con bokeh, se guarda la imagen debido a que consume una cantidad de memoria RAM considerable"
   ]
  },
  {
   "cell_type": "code",
   "execution_count": 113,
   "metadata": {},
   "outputs": [
    {
     "name": "stdout",
     "output_type": "stream",
     "text": [
      "(136963,)\n",
      "(136963,)\n",
      "(136963,)\n",
      "(136963,)\n"
     ]
    }
   ],
   "source": [
    "#para graficar las compras acertadas sobre la señal original\n",
    "buy_KNC_ok = ((predict_KNC==bt[firts_4bd:])&(predict_KNC==1))*y_reg[firts_4bd-1:-1]\n",
    "buy_KNC_ok[buy_KNC_ok==0] = np.nan \n",
    "print (buy_KNC_ok.shape)\n",
    "#para graficar las ventas acertadas sobre la señal original\n",
    "sell_KNC_ok = ((predict_KNC==bt[firts_4bd:])&(predict_KNC==0))*y_reg[firts_4bd-1:-1]\n",
    "sell_KNC_ok[sell_KNC_ok==0] = np.nan\n",
    "print (sell_KNC_ok.shape)\n",
    "\n",
    "#para graficar las compras fallidas sobre la señal original\n",
    "buy_KNC_mal = ((predict_KNC!=bt[firts_4bd:])&(predict_KNC==1))*y_reg[firts_4bd-1:-1]\n",
    "buy_KNC_mal[buy_KNC_mal==0] = np.nan \n",
    "print (buy_KNC_mal.shape)\n",
    "#para graficar las ventas fallidas sobre la señal original\n",
    "sell_KNC_mal = ((predict_KNC!=bt[firts_4bd:])&(predict_KNC==0))*y_reg[firts_4bd-1:-1]\n",
    "sell_KNC_mal[sell_KNC_mal==0] = np.nan\n",
    "print (sell_KNC_mal.shape)"
   ]
  },
  {
   "cell_type": "markdown",
   "metadata": {},
   "source": [
    "al parecer si uso bp.reset_output y luego ejecuto dos veces la celda de graficar, esto no me genera conflicto"
   ]
  },
  {
   "cell_type": "code",
   "execution_count": 118,
   "metadata": {
    "collapsed": true
   },
   "outputs": [],
   "source": [
    "bp.reset_output()"
   ]
  },
  {
   "cell_type": "code",
   "execution_count": 120,
   "metadata": {},
   "outputs": [],
   "source": [
    "p1_KNC = bp.Figure(width=750, height=300,title='buys and sells with a KNeighborsClassifier',x_axis_type='datetime',\n",
    "               title_location = 'above')\n",
    "p1_KNC.triangle(x_axis, buy_KNC_ok, color='green', legend='predict buys ok')\n",
    "p1_KNC.triangle(x_axis, sell_KNC_ok, color='green', legend='predict sells ok', angle=45)\n",
    "p1_KNC.xaxis.axis_label = 'Datetime'\n",
    "p1_KNC.yaxis.axis_label = 'EUR/USD'\n",
    "p1_KNC.triangle(x_axis, buy_KNC_mal, color='red', legend='incorrect predict buys')\n",
    "p1_KNC.triangle(x_axis, sell_KNC_mal, color='red', legend='incorrect predict sells', angle=45)\n",
    "p1_KNC.line(x_axis, y_reg[firts_4bd-1:-1], color='blue', alpha=0.2, legend='bid')\n",
    "p1_KNC.legend.location = 'bottom_left'\n",
    "p1_KNC.legend.orientation = 'horizontal'\n",
    "p1_KNC.legend.background_fill_color = 'grey'\n",
    "p1_KNC.legend.background_fill_alpha = 0.1\n",
    "p1_KNC.legend.border_line_alpha = None\n",
    "\n",
    "p2_KNC = bp.Figure(width=750, height=300,title='Profit and Loss with a KNeighborsClassifier',x_axis_type='datetime')\n",
    "p2_KNC.line(dates, result_KNC[:,0], color='blue', legend='PNL', alpha=0.5)\n",
    "p2_KNC.circle(dates, result_KNC[:,0], color='blue', legend='PNL', alpha=0.5)\n",
    "p2_KNC.line(dates, np.zeros(len(result_KNC)), color='red', legend='PNL = 0', line_dash='dotted')\n",
    "p2_KNC.line(dates,np.ones(len(result_KNC[:,0]))*np.mean(result_KNC[:,0]),color='green',legend='avg PNL')\n",
    "p2_KNC.xaxis.axis_label = 'datetime'\n",
    "p2_KNC.yaxis.axis_label = 'PNL'\n",
    "p2_KNC.legend.location ='bottom_center'\n",
    "p2_KNC.legend.orientation = 'horizontal'\n",
    "\n",
    "p3_KNC = bp.Figure(width=400, height=250, title='buys and sells per day', x_axis_type='datetime')\n",
    "p3_KNC.line(dates, result_KNC[:,1], color='green', legend='buys')\n",
    "p3_KNC.circle(dates, result_KNC[:,1], color='green', legend='buys')\n",
    "p3_KNC.line(dates, result_KNC[:,2], color='red',legend='sells')\n",
    "p3_KNC.circle(dates, result_KNC[:,2], color='red', legend='sells')\n",
    "p3_KNC.xaxis.axis_label = 'datetime'\n",
    "p3_KNC.yaxis.axis_label = 'quantity'\n",
    "p3_KNC.legend.location = 'top_left'\n",
    "#se utiliza el x_range para correlacionar las dos gráficas por el eje x\n",
    "#para pintar el PNL que se va acumulando\n",
    "PNL_accu_KNC = []\n",
    "count_KNC = 0\n",
    "for i in result_KNC[:,0]:\n",
    "    count_KNC += i\n",
    "    PNL_accu_KNC.append(count_KNC)\n",
    "    \n",
    "p5_KNC = bp.Figure(width=750, height=300,title='PNL accumulated with a KNeighborsClassifier',x_axis_type='datetime',\n",
    "                   x_range=p2_KNC.x_range)\n",
    "p5_KNC.line(dates,PNL_accu_KNC,color='blue',legend='PNL accumulated',alpha=0.5)\n",
    "p5_KNC.circle(dates, PNL_accu_KNC, color='blue',legend='PNL accumulated', alpha=0.5)\n",
    "p5_KNC.line(dates, np.zeros(len(result_KNC)), color='red', legend='PNL = 0', line_dash='dotted')\n",
    "p5_KNC.xaxis.axis_label = 'datetime'\n",
    "p5_KNC.yaxis.axis_label = 'PNL accumulated'\n",
    "p5_KNC.legend.location ='bottom_center'\n",
    "p5_KNC.legend.orientation = 'horizontal'\n",
    "#se pinta la señal submuestreada para verlas con en volumen de compras y ventas por día\n",
    "p6_KNC = bp.Figure(width=400, height=250, title='signal per hours', x_axis_type='datetime',x_range=p3_KNC.x_range)\n",
    "p6_KNC.line(signal_sample.index, signal_sample, color='blue')\n",
    "p6_KNC.xaxis.axis_label = 'datetime'\n",
    "p6_KNC.yaxis.axis_label = 'bid EUR/USD'\n",
    "\n",
    "bp.show(gridplot([[p1_KNC,p3_KNC],[p2_KNC,p6_KNC],[p5_KNC]], toolbar_location=\"right\"))\n",
    "bp.output_file(filename='../resultados/TrueFX/EUR-USD/KNeighborsClassfier/grafico KNeihgborsClassifier.html', title='KNeihgborsClassifier')"
   ]
  },
  {
   "cell_type": "markdown",
   "metadata": {},
   "source": [
    "se gráfica el PNL y su media para poder ver graficamente las veces que se gana o se pierde y si en general se termina ganando o perdiendo dinero"
   ]
  },
  {
   "cell_type": "code",
   "execution_count": 121,
   "metadata": {},
   "outputs": [
    {
     "data": {
      "image/png": "[encoded data removed]",
      "text/plain": [
       "<matplotlib.figure.Figure at 0x7f7a2141c978>"
      ]
     },
     "metadata": {},
     "output_type": "display_data"
    }
   ],
   "source": [
    "plt.figure(figsize=(15,5))\n",
    "    \n",
    "plt.title('Profit and Loss with KNeighborsClassifier', size=15)\n",
    "plt.plot(range(len(result_KNC[:,0])), result_KNC[:,0], label='PNL')\n",
    "plt.plot(range(len(result_KNC[:,0])), np.zeros(len(result_KNC[:,0])),color='red', alpha=0.6, label='PNL = 0', linestyle='--')\n",
    "plt.plot(range(len(result_KNC[:,0])), np.ones(len(result_KNC[:,0]))*np.mean(result_KNC[:,0]),\n",
    "         color='green', alpha=0.6, label='PNL mean')\n",
    "plt.xlabel('test day')\n",
    "plt.xticks(range(len(result_KNC)),dates[n_bdtrain:], size=10, rotation=25)\n",
    "plt.legend();"
   ]
  },
  {
   "cell_type": "code",
   "execution_count": 122,
   "metadata": {},
   "outputs": [
    {
     "data": {
      "image/png": "[encoded data removed]",
      "text/plain": [
       "<matplotlib.figure.Figure at 0x7f7a2141cda0>"
      ]
     },
     "metadata": {},
     "output_type": "display_data"
    }
   ],
   "source": [
    "plt.figure(figsize=(16,3))\n",
    "plt.subplot(1,2,1)\n",
    "plt.title('Buys - KNeighborsClassifier', size=15)\n",
    "plt.plot(range(len(result_KNC[:,1])), result_KNC[:,1],color='green', alpha=0.6, label='Buys')\n",
    "plt.xlabel('test day')\n",
    "plt.ylabel('# Buys')\n",
    "plt.xticks(range(len(result_KNC)),dates[n_bdtrain:], size=10, rotation=80)\n",
    "plt.legend();\n",
    "\n",
    "plt.subplot(1,2,2)\n",
    "plt.title('Sells - KNeighborsClassifier', size=15)\n",
    "plt.plot(range(len(result_KNC[:,2])), result_KNC[:,2],color='red', alpha=0.6, label='Sells')\n",
    "plt.xlabel('test day')\n",
    "plt.ylabel('# Sells')\n",
    "plt.xticks(range(len(result_KNC)),dates[n_bdtrain:], size=10, rotation=80)\n",
    "plt.legend();"
   ]
  },
  {
   "cell_type": "markdown",
   "metadata": {},
   "source": [
    "se prueba con un DecisionTreeClassifier"
   ]
  },
  {
   "cell_type": "code",
   "execution_count": 123,
   "metadata": {},
   "outputs": [
    {
     "name": "stdout",
     "output_type": "stream",
     "text": [
      "------ DecisionTreeClassifier -------\n",
      "average PNL:  -0.272438421053\n",
      "average buy:  3771.42105263\n",
      "average sell:  3437.15789474\n",
      "-------------------------------------\n",
      "                PNL    buys   sells  longest_buys  longest_sells\n",
      "2018-01-05 -0.22857  3104.0  3354.0          16.0           18.0\n",
      "2018-01-08 -0.23009  5151.0  1363.0        3067.0           10.0\n",
      "2018-01-09 -0.20840  5353.0  1302.0        4206.0           17.0\n",
      "2018-01-10 -0.25298  3293.0  3727.0          14.0           59.0\n",
      "2018-01-11 -0.24797  3373.0  3739.0          14.0           12.0\n",
      "2018-01-12 -0.28435  5735.0  1358.0        4368.0           24.0\n",
      "2018-01-15 -0.29271  1061.0  6038.0          17.0         3966.0\n",
      "2018-01-16 -0.25305  3497.0  3625.0          27.0           16.0\n",
      "2018-01-17 -0.30735  3507.0  4032.0          12.0          142.0\n",
      "2018-01-18 -0.27047  3597.0  3761.0          18.0           12.0\n",
      "2018-01-19 -0.28075  3487.0  3824.0          13.0           14.0\n",
      "2018-01-22 -0.26209  3516.0  3635.0          13.0           11.0\n",
      "2018-01-23 -0.24628  3465.0  3715.0          44.0           24.0\n",
      "2018-01-24 -0.27329  6995.0   476.0        4826.0           12.0\n",
      "2018-01-25 -0.33529  1621.0  6098.0          14.0         1976.0\n",
      "2018-01-26 -0.33024  3881.0  3738.0          98.0           18.0\n",
      "2018-01-29 -0.30116  3703.0  3748.0          26.0           36.0\n",
      "2018-01-30 -0.26756  3667.0  3819.0          14.0           12.0\n",
      "2018-01-31 -0.30373  3651.0  3954.0          12.0           13.0\n"
     ]
    }
   ],
   "source": [
    "from sklearn.tree import DecisionTreeClassifier\n",
    "\n",
    "est_DTC = PNLEstimatorWrapper(DecisionTreeClassifier(), PNL_column=['PNL_0','PNL_1'])\n",
    "result_DTC = step_validation(est_DTC, X, y, v_split(X,4,1,1))\n",
    "result_DTC, predict_DTC = redim(result_DTC)\n",
    "print('------ DecisionTreeClassifier -------')\n",
    "print('average PNL: ', np.mean(result_DTC[:,0]))\n",
    "print('average buy: ', np.mean(result_DTC[:,1]))\n",
    "print('average sell: ', np.mean(result_DTC[:,2]))\n",
    "print('-------------------------------------')\n",
    "df_DTC = pd.DataFrame(result_DTC, columns=list(['PNL','buys','sells','longest_buys','longest_sells']), index=dates)\n",
    "print(df_DTC)\n",
    "df_DTC.to_csv('../resultados/TrueFX/EUR-USD/DecisionTreeClassifier/pnl_DTC_wsize3_2017-09.csv')"
   ]
  },
  {
   "cell_type": "code",
   "execution_count": 124,
   "metadata": {},
   "outputs": [
    {
     "name": "stdout",
     "output_type": "stream",
     "text": [
      "(136963,)\n",
      "(136963,)\n",
      "(136963,)\n",
      "(136963,)\n"
     ]
    }
   ],
   "source": [
    "#para graficar las compras acertadas sobre la señal original\n",
    "buy_DTC_ok = ((predict_DTC==bt[firts_4bd:])&(predict_DTC==1))*y_reg[firts_4bd-1:-1]\n",
    "buy_DTC_ok[buy_DTC_ok==0] = np.nan \n",
    "print (buy_DTC_ok.shape)\n",
    "#para graficar las ventas acertadas sobre la señal original\n",
    "sell_DTC_ok = ((predict_DTC==bt[firts_4bd:])&(predict_DTC==0))*y_reg[firts_4bd-1:-1]\n",
    "sell_DTC_ok[sell_DTC_ok==0] = np.nan\n",
    "print (sell_DTC_ok.shape)\n",
    "\n",
    "#para graficar las compras fallidas sobre la señal original\n",
    "buy_DTC_mal = ((predict_DTC!=bt[firts_4bd:])&(predict_DTC==1))*y_reg[firts_4bd-1:-1]\n",
    "buy_DTC_mal[buy_DTC_mal==0] = np.nan \n",
    "print (buy_DTC_mal.shape)\n",
    "#para graficar las ventas fallidas sobre la señal original\n",
    "sell_DTC_mal = ((predict_DTC!=bt[firts_4bd:])&(predict_DTC==0))*y_reg[firts_4bd-1:-1]\n",
    "sell_DTC_mal[sell_DTC_mal==0] = np.nan\n",
    "print (sell_DTC_mal.shape)"
   ]
  },
  {
   "cell_type": "markdown",
   "metadata": {},
   "source": [
    "se guarda el gráfico de bokeh debido que si se pinta en el jupyter se va consumiendo mucha memoria ram"
   ]
  },
  {
   "cell_type": "code",
   "execution_count": 125,
   "metadata": {
    "collapsed": true
   },
   "outputs": [],
   "source": [
    "bp.reset_output()"
   ]
  },
  {
   "cell_type": "code",
   "execution_count": 127,
   "metadata": {
    "collapsed": true
   },
   "outputs": [],
   "source": [
    "p1_DTC = bp.figure(width=750, height=300,title='buys and sells with a DecisionTreeClassifier',x_axis_type='datetime',\n",
    "               title_location = 'above')\n",
    "p1_DTC.triangle(x_axis, buy_DTC_ok, color='green', legend='predict buys ok')\n",
    "p1_DTC.triangle(x_axis, sell_DTC_ok, color='green', legend='predict sells ok', angle=45)\n",
    "p1_DTC.xaxis.axis_label = 'Datetime'\n",
    "p1_DTC.yaxis.axis_label = 'EUR/USD'\n",
    "p1_DTC.triangle(x_axis, buy_DTC_mal, color='red', legend='incorrect predict buy')\n",
    "p1_DTC.triangle(x_axis, sell_DTC_mal, color='red', legend='incorrect predict sell', angle=45)\n",
    "p1_DTC.line(x_axis, y_reg[firts_4bd-1:-1], color='blue', alpha=0.2, legend='bid')\n",
    "p1_DTC.legend.location = 'bottom_left'\n",
    "p1_DTC.legend.orientation = 'horizontal'\n",
    "p1_DTC.legend.background_fill_color = 'grey'\n",
    "p1_DTC.legend.background_fill_alpha = 0.1\n",
    "p1_DTC.legend.border_line_alpha = None\n",
    "\n",
    "p2_DTC = bp.figure(width=750, height=300,title='Profit and Loss with a DecisionTreeClassifier'\n",
    "                   ,x_axis_type='datetime')\n",
    "p2_DTC.line(dates, result_DTC[:,0], color='blue', legend='PNL', alpha=0.5)\n",
    "p2_DTC.circle(dates, result_DTC[:,0], color='blue', legend='PNL', alpha=0.5)\n",
    "p2_DTC.line(dates, np.zeros(len(result_DTC)), color='red', legend='PNL = 0', line_dash='dotted')\n",
    "p2_DTC.line(dates,np.ones(len(result_DTC[:,0]))*np.mean(result_DTC[:,0]),color='green',legend='avg PNL')\n",
    "p2_DTC.xaxis.axis_label = 'datetime'\n",
    "p2_DTC.yaxis.axis_label = 'PNL'\n",
    "p2_DTC.legend.location ='bottom_center'\n",
    "p2_DTC.legend.orientation = 'horizontal'\n",
    "\n",
    "p3_DTC = bp.figure(width=400, height=250, title='buys and sells per day', x_axis_type='datetime')\n",
    "p3_DTC.line(dates, result_DTC[:,1], color='green', legend='buys')\n",
    "p3_DTC.circle(dates, result_DTC[:,1], color='green', legend='buys')\n",
    "p3_DTC.line(dates, result_DTC[:,2], color='red', legend='sells')\n",
    "p3_DTC.circle(dates, result_DTC[:,2], color='red', legend='sells')\n",
    "p3_DTC.xaxis.axis_label = 'datetime'\n",
    "p3_DTC.yaxis.axis_label = 'quantity'\n",
    "p3_DTC.legend.location = 'top_left'\n",
    "#se utiliza el x_range para correlacionar las dos gráficas por el eje x\n",
    "\n",
    "#para pintar el PNL que se va acumulando\n",
    "PNL_accu_DTC = []\n",
    "count_DTC = 0\n",
    "for i in result_DTC[:,0]:\n",
    "    count_DTC += i\n",
    "    PNL_accu_DTC.append(count_DTC)\n",
    "    \n",
    "p5_DTC = bp.figure(width=750, height=300,title='PNL accumulated with a DecisionTreeClassifier',\n",
    "                   x_axis_type='datetime',x_range=p2_DTC.x_range)\n",
    "p5_DTC.line(dates,PNL_accu_DTC,color='blue',legend='PNL accumulated',alpha=0.5)\n",
    "p5_DTC.circle(dates, PNL_accu_DTC, color='blue',legend='PNL accumulated', alpha=0.5)\n",
    "p5_DTC.line(dates, np.zeros(len(result_DTC)), color='red', legend='PNL = 0', line_dash='dotted')\n",
    "p5_DTC.xaxis.axis_label = 'datetime'\n",
    "p5_DTC.yaxis.axis_label = 'PNL accumulated'\n",
    "p5_DTC.legend.location ='bottom_center'\n",
    "p5_DTC.legend.orientation = 'horizontal'\n",
    "#se pinta la señal submuestreada para verlas con en volumen de compras y ventas por día\n",
    "p6_DTC = bp.figure(width=400, height=250, title='signal per hours', x_axis_type='datetime',x_range=p3_DTC.x_range)\n",
    "p6_DTC.line(signal_sample.index, signal_sample, color='blue')\n",
    "p6_DTC.xaxis.axis_label = 'datetime'\n",
    "p6_DTC.yaxis.axis_label = 'bid EUR/USD'\n",
    "\n",
    "bp.show(gridplot([[p1_DTC,p3_DTC],[p2_DTC,p6_DTC],[p5_DTC]], toolbar_location=\"right\"))\n",
    "bp.output_file(filename='../resultados/TrueFX/EUR-USD/DecisionTreeClassifier/grafico DecisionTreeClassifier.html', title='DecisionTreeClassifier')"
   ]
  },
  {
   "cell_type": "code",
   "execution_count": 128,
   "metadata": {},
   "outputs": [
    {
     "data": {
      "image/png": "[encoded data removed]",
      "text/plain": [
       "<matplotlib.figure.Figure at 0x7f7a0dcbb160>"
      ]
     },
     "metadata": {},
     "output_type": "display_data"
    }
   ],
   "source": [
    "plt.figure(figsize=(15,5))\n",
    "\n",
    "plt.title('Profit and Loss with DecisionTreeClassifier', size=15)\n",
    "plt.plot(range(len(result_DTC[:,0])), result_DTC[:,0], label='PNL')\n",
    "plt.plot(range(len(result_DTC[:,0])), np.zeros(len(result_DTC[:,0])),color='red', alpha=0.6, label='PNL = 0', linestyle='--')\n",
    "plt.plot(range(len(result_DTC[:,0])), np.ones(len(result_DTC[:,0]))*np.mean(result_DTC[:,0]),\n",
    "         color='green', alpha=0.6, label='PNL mean')\n",
    "plt.xlabel('test day')\n",
    "plt.xticks(range(len(result_DTC)),dates[n_bdtrain:], size=10, rotation=25)\n",
    "plt.legend();"
   ]
  },
  {
   "cell_type": "code",
   "execution_count": 129,
   "metadata": {},
   "outputs": [
    {
     "data": {
      "image/png": "[encoded data removed]",
      "text/plain": [
       "<matplotlib.figure.Figure at 0x7f7a13d753c8>"
      ]
     },
     "metadata": {},
     "output_type": "display_data"
    }
   ],
   "source": [
    "plt.figure(figsize=(16,3))\n",
    "plt.subplot(1,2,1)\n",
    "plt.title('Buy - DecisionTreeClassifier', size=15),\n",
    "plt.plot(range(len(result_DTC[:,1])), result_DTC[:,1],color='green', alpha=0.6, label='PNL mean')\n",
    "plt.xlabel('test day')\n",
    "plt.xticks(range(len(result_DTC)),dates[n_bdtrain:], size=10, rotation=80)\n",
    "plt.legend();\n",
    "\n",
    "plt.subplot(1,2,2)\n",
    "plt.title('Sell - DecisionTreeClassifier', size=15)\n",
    "plt.plot(range(len(result_DTC[:,2])), result_DTC[:,2],color='red', alpha=0.6, label='PNL mean')\n",
    "plt.xlabel('test day')\n",
    "plt.xticks(range(len(result_DTC)),dates[n_bdtrain:], size=10, rotation=80)\n",
    "plt.legend();"
   ]
  },
  {
   "cell_type": "markdown",
   "metadata": {},
   "source": [
    "probando con un RandomForestClassifier, con ciertos parametros establecidos los cuales me han arrojado mejores resultados"
   ]
  },
  {
   "cell_type": "code",
   "execution_count": 130,
   "metadata": {},
   "outputs": [
    {
     "name": "stdout",
     "output_type": "stream",
     "text": [
      "RandomForestClassifier\n",
      "PNL promedio:  -0.271568947368\n",
      "buy promedio:  3179.36842105\n",
      "sell promedio:  4029.21052632\n",
      "-------------------------------------\n",
      "                PNL    buys   sells  longest_buys  longest_sells\n",
      "2018-01-05 -0.22557  3121.0  3337.0          18.0           14.0\n",
      "2018-01-08 -0.22669  5237.0  1277.0        3067.0           12.0\n",
      "2018-01-09 -0.21037  5420.0  1235.0        4206.0           23.0\n",
      "2018-01-10 -0.24471  3119.0  3901.0          24.0           65.0\n",
      "2018-01-11 -0.24274  3366.0  3746.0          12.0           15.0\n",
      "2018-01-12 -0.26161  1021.0  6072.0          15.0         4367.0\n",
      "2018-01-15 -0.29397  1040.0  6059.0          25.0         4160.0\n",
      "2018-01-16 -0.24922  3511.0  3611.0          27.0           19.0\n",
      "2018-01-17 -0.30613  3541.0  3998.0          18.0          142.0\n",
      "2018-01-18 -0.27782  3792.0  3566.0          22.0           12.0\n",
      "2018-01-19 -0.27996  3466.0  3845.0          15.0           13.0\n",
      "2018-01-22 -0.26121  3486.0  3665.0          12.0           12.0\n",
      "2018-01-23 -0.25631  3433.0  3747.0          19.0           29.0\n",
      "2018-01-24 -0.25712   338.0  7133.0          11.0         5960.0\n",
      "2018-01-25 -0.33165  1557.0  6162.0          14.0         1974.0\n",
      "2018-01-26 -0.33326  3678.0  3941.0          99.0           20.0\n",
      "2018-01-29 -0.30188  3918.0  3533.0          32.0           20.0\n",
      "2018-01-30 -0.29286  3707.0  3779.0          16.0           14.0\n",
      "2018-01-31 -0.30673  3657.0  3948.0          11.0           18.0\n"
     ]
    }
   ],
   "source": [
    "from sklearn.ensemble import RandomForestClassifier\n",
    "\n",
    "est_RFC = PNLEstimatorWrapper(RandomForestClassifier(n_estimators=15, n_jobs=3), PNL_column=['PNL_0','PNL_1'])\n",
    "result_RFC = step_validation(est_RFC, X, y, v_split(X,4,1,1))\n",
    "result_RFC, predict_RFC = redim(result_RFC)\n",
    "print('RandomForestClassifier')\n",
    "print('PNL promedio: ', np.mean(result_RFC[:,0]))\n",
    "print('buy promedio: ', np.mean(result_RFC[:,1]))\n",
    "print('sell promedio: ', np.mean(result_RFC[:,2]))\n",
    "print('-------------------------------------')\n",
    "df_RFC = pd.DataFrame(result_RFC, columns=list(['PNL','buys','sells','longest_buys','longest_sells']), index=dates)\n",
    "print(df_RFC)\n",
    "df_RFC.to_csv('../resultados/TrueFX/EUR-USD/RandomForestClassifier/pnl_RFC_wsize3_2017-09.csv')"
   ]
  },
  {
   "cell_type": "code",
   "execution_count": 131,
   "metadata": {},
   "outputs": [
    {
     "name": "stdout",
     "output_type": "stream",
     "text": [
      "(136963,)\n",
      "(136963,)\n",
      "(136963,)\n",
      "(136963,)\n"
     ]
    }
   ],
   "source": [
    "#para graficar las compras acertadas sobre la señal original\n",
    "buy_RFC_ok = ((predict_RFC==bt[firts_4bd:])&(predict_RFC==1))*y_reg[firts_4bd-1:-1]\n",
    "buy_RFC_ok[buy_RFC_ok==0] = np.nan \n",
    "print (buy_RFC_ok.shape)\n",
    "#para graficar las ventas acertadas sobre la señal original\n",
    "sell_RFC_ok = ((predict_RFC==bt[firts_4bd:])&(predict_RFC==0))*y_reg[firts_4bd-1:-1]\n",
    "sell_RFC_ok[sell_RFC_ok==0] = np.nan\n",
    "print (sell_RFC_ok.shape)\n",
    "\n",
    "#para graficar las compras fallidas sobre la señal original\n",
    "buy_RFC_mal = ((predict_RFC!=bt[firts_4bd:])&(predict_RFC==1))*y_reg[firts_4bd-1:-1]\n",
    "buy_RFC_mal[buy_RFC_mal==0] = np.nan \n",
    "print (buy_RFC_mal.shape)\n",
    "#para graficar las ventas fallidas sobre la señal original\n",
    "sell_RFC_mal = ((predict_RFC!=bt[firts_4bd:])&(predict_RFC==0))*y_reg[firts_4bd-1:-1]\n",
    "sell_RFC_mal[sell_RFC_mal==0] = np.nan\n",
    "print (sell_RFC_mal.shape)"
   ]
  },
  {
   "cell_type": "code",
   "execution_count": 132,
   "metadata": {
    "collapsed": true
   },
   "outputs": [],
   "source": [
    "bp.reset_output()"
   ]
  },
  {
   "cell_type": "code",
   "execution_count": 134,
   "metadata": {
    "collapsed": true
   },
   "outputs": [],
   "source": [
    "p1_RFC = bp.figure(width=750, height=300,title='buys and sells with a RandomForestClassifier',x_axis_type='datetime',\n",
    "               title_location = 'above')\n",
    "p1_RFC.triangle(x_axis, buy_RFC_ok, color='green', legend='predict buys ok')\n",
    "p1_RFC.triangle(x_axis, sell_RFC_ok, color='green', legend='predict sells ok', angle=45)\n",
    "p1_RFC.xaxis.axis_label = 'Datetime'\n",
    "p1_RFC.yaxis.axis_label = 'EUR/USD'\n",
    "p1_RFC.triangle(x_axis, buy_RFC_mal, color='red', legend='incorrect predict buy')\n",
    "p1_RFC.triangle(x_axis, sell_RFC_mal, color='red', legend='incorrect predict bad', angle=45)\n",
    "p1_RFC.line(x_axis, y_reg[firts_4bd-1:-1], color='blue', alpha=0.2, legend='bid')\n",
    "p1_RFC.legend.location = 'bottom_left'\n",
    "p1_RFC.legend.orientation = 'horizontal'\n",
    "p1_RFC.legend.background_fill_color = 'grey'\n",
    "p1_RFC.legend.background_fill_alpha = 0.1\n",
    "p1_RFC.legend.border_line_alpha = None\n",
    "\n",
    "p2_RFC = bp.figure(width=750, height=300,title='Profit and Loss with a RandomForestClassifier'\n",
    "                   ,x_axis_type='datetime')\n",
    "p2_RFC.line(dates, result_RFC[:,0], color='blue', legend='PNL', alpha=0.5)\n",
    "p2_RFC.circle(dates, result_RFC[:,0], color='blue', legend='PNL', alpha=0.5)\n",
    "p2_RFC.line(dates, np.zeros(len(result_RFC)), color='red', legend='PNL = 0', line_dash='dotted')\n",
    "p2_RFC.line(dates,np.ones(len(result_RFC[:,0]))*np.mean(result_RFC[:,0]),color='green',legend='avg PNL')\n",
    "p2_RFC.xaxis.axis_label = 'datetime'\n",
    "p2_RFC.yaxis.axis_label = 'PNL'\n",
    "p2_RFC.legend.location ='bottom_center'\n",
    "p2_RFC.legend.orientation = 'horizontal'\n",
    "\n",
    "p3_RFC = bp.figure(width=400, height=250, title='buys and sells per day', x_axis_type='datetime')\n",
    "p3_RFC.line(dates, result_RFC[:,1], color='green', legend='buys')\n",
    "p3_RFC.circle(dates, result_RFC[:,1], color='green', legend='buys')\n",
    "p3_RFC.line(dates, result_RFC[:,2], color='red', legend='sells')\n",
    "p3_RFC.circle(dates, result_RFC[:,2], color='red', legend='sells')\n",
    "p3_RFC.xaxis.axis_label = 'datetime'\n",
    "p3_RFC.yaxis.axis_label = 'quantity'\n",
    "p3_RFC.legend.location = 'top_left'\n",
    "#se utiliza el x_range para correlacionar las dos gráficas por el eje x\n",
    "\n",
    "#para pintar el PNL que se va acumulando\n",
    "PNL_accu_RFC = []\n",
    "count_RFC = 0\n",
    "for i in result_RFC[:,0]:\n",
    "    count_RFC += i\n",
    "    PNL_accu_RFC.append(count_RFC)\n",
    "    \n",
    "p5_RFC = bp.figure(width=750, height=300,title='PNL accumulated with a RandomForestClassifier',\n",
    "                   x_axis_type='datetime',x_range=p2_RFC.x_range)\n",
    "p5_RFC.line(dates,PNL_accu_RFC,color='blue',legend='PNL accumulated',alpha=0.5)\n",
    "p5_RFC.circle(dates, PNL_accu_RFC, color='blue',legend='PNL accumulated', alpha=0.5)\n",
    "p5_RFC.line(dates, np.zeros(len(result_RFC)), color='red', legend='PNL = 0', line_dash='dotted')\n",
    "p5_RFC.xaxis.axis_label = 'datetime'\n",
    "p5_RFC.yaxis.axis_label = 'PNL accumulated'\n",
    "p5_RFC.legend.location ='bottom_center'\n",
    "p5_RFC.legend.orientation = 'horizontal'\n",
    "#se pinta la señal submuestreada para verlas con en volumen de compras y ventas por día\n",
    "p6_RFC = bp.figure(width=400, height=250, title='signal per hours', x_axis_type='datetime',x_range=p3_RFC.x_range)\n",
    "p6_RFC.line(signal_sample.index, signal_sample, color='blue')\n",
    "p6_RFC.xaxis.axis_label = 'datetime'\n",
    "p6_RFC.yaxis.axis_label = 'bid EUR/USD'\n",
    "\n",
    "bp.show(gridplot([[p1_RFC,p3_RFC],[p2_RFC,p6_RFC],[p5_RFC]], toolbar_location=\"right\"))\n",
    "bp.output_file(filename='../resultados/TrueFX/EUR-USD/RandomForestClassifier/egrafico RandomForestClassifier.html', title='RandomForestClassifier')"
   ]
  },
  {
   "cell_type": "code",
   "execution_count": 135,
   "metadata": {},
   "outputs": [
    {
     "data": {
      "image/png": "[encoded data removed]",
      "text/plain": [
       "<matplotlib.figure.Figure at 0x7f7a0dcf5978>"
      ]
     },
     "metadata": {},
     "output_type": "display_data"
    }
   ],
   "source": [
    "plt.figure(figsize=(15,5))\n",
    "\n",
    "plt.title('Profit and Loss with RandomForestClassifier', size=15)\n",
    "plt.plot(range(len(result_RFC[:,0])), result_RFC[:,0], label='PNL')\n",
    "plt.plot(range(len(result_RFC[:,0])), np.zeros(len(result_RFC[:,0])),color='red', alpha=0.6, label='PNL = 0', linestyle='--')\n",
    "plt.plot(range(len(result_RFC[:,0])), np.ones(len(result_RFC[:,0]))*np.mean(result_RFC[:,0]),\n",
    "         color='green', alpha=0.6, label='PNL mean')\n",
    "plt.xlabel('test day')\n",
    "plt.xticks(range(len(result_RFC)),dates[n_bdtrain:], size=10, rotation=25)\n",
    "plt.legend();"
   ]
  },
  {
   "cell_type": "code",
   "execution_count": 136,
   "metadata": {},
   "outputs": [
    {
     "data": {
      "image/png": "[encoded data removed]",
      "text/plain": [
       "<matplotlib.figure.Figure at 0x7f7a0dcf50f0>"
      ]
     },
     "metadata": {},
     "output_type": "display_data"
    }
   ],
   "source": [
    "plt.figure(figsize=(16,3))\n",
    "plt.subplot(1,2,1)\n",
    "plt.title('Buy - RandomForestClassifier', size=15)\n",
    "plt.plot(range(len(result_RFC[:,1])), result_RFC[:,1],color='green', alpha=0.6, label='PNL mean')\n",
    "plt.xlabel('test day')\n",
    "plt.xticks(range(len(result_RFC)),dates[n_bdtrain:], size=10, rotation=80)\n",
    "plt.legend();\n",
    "\n",
    "plt.subplot(1,2,2)\n",
    "plt.title('Sell - DecisionTreeClassifier', size=15)\n",
    "plt.plot(range(len(result_RFC[:,2])), result_RFC[:,2],color='red', alpha=0.6, label='PNL mean')\n",
    "plt.xlabel('test day')\n",
    "plt.xticks(range(len(result_RFC)),dates[n_bdtrain:], size=10, rotation=80)\n",
    "plt.legend();"
   ]
  },
  {
   "cell_type": "markdown",
   "metadata": {
    "collapsed": true
   },
   "source": [
    "#### Se probará con multiples señales de entrada para experimentar como se comportan estos modelos.."
   ]
  },
  {
   "cell_type": "code",
   "execution_count": 137,
   "metadata": {
    "collapsed": true
   },
   "outputs": [],
   "source": [
    "#Se lee la señal correspondiente a GBP vs USD para el mes de enero de 2018\n",
    "data_GBPvsUSD = pd.read_csv(\"../data/TrueFX/GBP-USD/GBPUSD-preprocesado-2018-01.csv\", index_col=0\n",
    "                            ,infer_datetime_format=True, parse_dates=True )\n",
    "\n",
    "#Se lee la señal correspondiente a EUR vs USD para el mes de enero de 2018\n",
    "data_EURvsUSD = pd.read_csv(\"../data/TrueFX/EUR-USD/datos_procesados_EURUSD-2018-01.csv\", index_col=0\n",
    "                            ,infer_datetime_format=True, parse_dates=True )"
   ]
  },
  {
   "cell_type": "code",
   "execution_count": 138,
   "metadata": {},
   "outputs": [
    {
     "data": {
      "text/html": [
       "<div>\n",
       "<style>\n",
       "    .dataframe thead tr:only-child th {\n",
       "        text-align: right;\n",
       "    }\n",
       "\n",
       "    .dataframe thead th {\n",
       "        text-align: left;\n",
       "    }\n",
       "\n",
       "    .dataframe tbody tr th {\n",
       "        vertical-align: top;\n",
       "    }\n",
       "</style>\n",
       "<table border=\"1\" class=\"dataframe\">\n",
       "  <thead>\n",
       "    <tr style=\"text-align: right;\">\n",
       "      <th></th>\n",
       "      <th>bid</th>\n",
       "      <th>ask</th>\n",
       "    </tr>\n",
       "    <tr>\n",
       "      <th>date</th>\n",
       "      <th></th>\n",
       "      <th></th>\n",
       "    </tr>\n",
       "  </thead>\n",
       "  <tbody>\n",
       "    <tr>\n",
       "      <th>2018-01-01 23:58:00</th>\n",
       "      <td>1.20093</td>\n",
       "      <td>1.20115</td>\n",
       "    </tr>\n",
       "    <tr>\n",
       "      <th>2018-01-01 23:58:10</th>\n",
       "      <td>1.20093</td>\n",
       "      <td>1.20111</td>\n",
       "    </tr>\n",
       "    <tr>\n",
       "      <th>2018-01-01 23:58:20</th>\n",
       "      <td>1.20082</td>\n",
       "      <td>1.20111</td>\n",
       "    </tr>\n",
       "    <tr>\n",
       "      <th>2018-01-01 23:58:30</th>\n",
       "      <td>1.20043</td>\n",
       "      <td>1.20110</td>\n",
       "    </tr>\n",
       "    <tr>\n",
       "      <th>2018-01-01 23:58:50</th>\n",
       "      <td>1.20011</td>\n",
       "      <td>1.20113</td>\n",
       "    </tr>\n",
       "  </tbody>\n",
       "</table>\n",
       "</div>"
      ],
      "text/plain": [
       "                         bid      ask\n",
       "date                                 \n",
       "2018-01-01 23:58:00  1.20093  1.20115\n",
       "2018-01-01 23:58:10  1.20093  1.20111\n",
       "2018-01-01 23:58:20  1.20082  1.20111\n",
       "2018-01-01 23:58:30  1.20043  1.20110\n",
       "2018-01-01 23:58:50  1.20011  1.20113"
      ]
     },
     "execution_count": 138,
     "metadata": {},
     "output_type": "execute_result"
    }
   ],
   "source": [
    "data_EURvsUSD.head()"
   ]
  },
  {
   "cell_type": "code",
   "execution_count": 139,
   "metadata": {},
   "outputs": [
    {
     "data": {
      "text/html": [
       "<div>\n",
       "<style>\n",
       "    .dataframe thead tr:only-child th {\n",
       "        text-align: right;\n",
       "    }\n",
       "\n",
       "    .dataframe thead th {\n",
       "        text-align: left;\n",
       "    }\n",
       "\n",
       "    .dataframe tbody tr th {\n",
       "        vertical-align: top;\n",
       "    }\n",
       "</style>\n",
       "<table border=\"1\" class=\"dataframe\">\n",
       "  <thead>\n",
       "    <tr style=\"text-align: right;\">\n",
       "      <th></th>\n",
       "      <th>bid</th>\n",
       "      <th>ask</th>\n",
       "    </tr>\n",
       "    <tr>\n",
       "      <th>date</th>\n",
       "      <th></th>\n",
       "      <th></th>\n",
       "    </tr>\n",
       "  </thead>\n",
       "  <tbody>\n",
       "    <tr>\n",
       "      <th>2018-01-02 00:00:40</th>\n",
       "      <td>1.34979</td>\n",
       "      <td>1.35176</td>\n",
       "    </tr>\n",
       "    <tr>\n",
       "      <th>2018-01-02 00:01:00</th>\n",
       "      <td>1.34918</td>\n",
       "      <td>1.35208</td>\n",
       "    </tr>\n",
       "    <tr>\n",
       "      <th>2018-01-02 00:01:10</th>\n",
       "      <td>1.34915</td>\n",
       "      <td>1.35354</td>\n",
       "    </tr>\n",
       "    <tr>\n",
       "      <th>2018-01-02 00:01:20</th>\n",
       "      <td>1.34915</td>\n",
       "      <td>1.35386</td>\n",
       "    </tr>\n",
       "    <tr>\n",
       "      <th>2018-01-02 00:01:30</th>\n",
       "      <td>1.34938</td>\n",
       "      <td>1.35440</td>\n",
       "    </tr>\n",
       "  </tbody>\n",
       "</table>\n",
       "</div>"
      ],
      "text/plain": [
       "                         bid      ask\n",
       "date                                 \n",
       "2018-01-02 00:00:40  1.34979  1.35176\n",
       "2018-01-02 00:01:00  1.34918  1.35208\n",
       "2018-01-02 00:01:10  1.34915  1.35354\n",
       "2018-01-02 00:01:20  1.34915  1.35386\n",
       "2018-01-02 00:01:30  1.34938  1.35440"
      ]
     },
     "execution_count": 139,
     "metadata": {},
     "output_type": "execute_result"
    }
   ],
   "source": [
    "data_GBPvsUSD.head()"
   ]
  },
  {
   "cell_type": "code",
   "execution_count": 140,
   "metadata": {},
   "outputs": [
    {
     "data": {
      "text/plain": [
       "((183535, 2), (185443, 2))"
      ]
     },
     "execution_count": 140,
     "metadata": {},
     "output_type": "execute_result"
    }
   ],
   "source": [
    "data_EURvsUSD.shape, data_GBPvsUSD.shape"
   ]
  },
  {
   "cell_type": "code",
   "execution_count": 141,
   "metadata": {
    "collapsed": true
   },
   "outputs": [],
   "source": [
    "#saco los valores que si están en el mismo instante de tiempo\n",
    "values = data_GBPvsUSD.filter(items=data_EURvsUSD.index, axis=0)"
   ]
  },
  {
   "cell_type": "code",
   "execution_count": 142,
   "metadata": {
    "collapsed": true
   },
   "outputs": [],
   "source": [
    "#inserto una columa llena de ceros para posteriormente colocar ahi los valores a utilizar\n",
    "data_EURvsUSD.insert(loc=2, column='bidGBP/USD', value=np.zeros((data_EURvsUSD.shape[0],1)))"
   ]
  },
  {
   "cell_type": "code",
   "execution_count": 143,
   "metadata": {},
   "outputs": [
    {
     "data": {
      "text/html": [
       "<div>\n",
       "<style>\n",
       "    .dataframe thead tr:only-child th {\n",
       "        text-align: right;\n",
       "    }\n",
       "\n",
       "    .dataframe thead th {\n",
       "        text-align: left;\n",
       "    }\n",
       "\n",
       "    .dataframe tbody tr th {\n",
       "        vertical-align: top;\n",
       "    }\n",
       "</style>\n",
       "<table border=\"1\" class=\"dataframe\">\n",
       "  <thead>\n",
       "    <tr style=\"text-align: right;\">\n",
       "      <th></th>\n",
       "      <th>bid</th>\n",
       "      <th>ask</th>\n",
       "      <th>bidGBP/USD</th>\n",
       "    </tr>\n",
       "    <tr>\n",
       "      <th>date</th>\n",
       "      <th></th>\n",
       "      <th></th>\n",
       "      <th></th>\n",
       "    </tr>\n",
       "  </thead>\n",
       "  <tbody>\n",
       "    <tr>\n",
       "      <th>2018-01-01 23:58:00</th>\n",
       "      <td>1.20093</td>\n",
       "      <td>1.20115</td>\n",
       "      <td>0.0</td>\n",
       "    </tr>\n",
       "    <tr>\n",
       "      <th>2018-01-01 23:58:10</th>\n",
       "      <td>1.20093</td>\n",
       "      <td>1.20111</td>\n",
       "      <td>0.0</td>\n",
       "    </tr>\n",
       "    <tr>\n",
       "      <th>2018-01-01 23:58:20</th>\n",
       "      <td>1.20082</td>\n",
       "      <td>1.20111</td>\n",
       "      <td>0.0</td>\n",
       "    </tr>\n",
       "    <tr>\n",
       "      <th>2018-01-01 23:58:30</th>\n",
       "      <td>1.20043</td>\n",
       "      <td>1.20110</td>\n",
       "      <td>0.0</td>\n",
       "    </tr>\n",
       "    <tr>\n",
       "      <th>2018-01-01 23:58:50</th>\n",
       "      <td>1.20011</td>\n",
       "      <td>1.20113</td>\n",
       "      <td>0.0</td>\n",
       "    </tr>\n",
       "  </tbody>\n",
       "</table>\n",
       "</div>"
      ],
      "text/plain": [
       "                         bid      ask  bidGBP/USD\n",
       "date                                             \n",
       "2018-01-01 23:58:00  1.20093  1.20115         0.0\n",
       "2018-01-01 23:58:10  1.20093  1.20111         0.0\n",
       "2018-01-01 23:58:20  1.20082  1.20111         0.0\n",
       "2018-01-01 23:58:30  1.20043  1.20110         0.0\n",
       "2018-01-01 23:58:50  1.20011  1.20113         0.0"
      ]
     },
     "execution_count": 143,
     "metadata": {},
     "output_type": "execute_result"
    }
   ],
   "source": [
    "data_EURvsUSD.head()"
   ]
  },
  {
   "cell_type": "markdown",
   "metadata": {},
   "source": [
    "procedemos al llenado de los datos con los que contamos, van a quedar algunos en cero debido a que en ciertos instantes de tiempo no se cuenta con esos datos.."
   ]
  },
  {
   "cell_type": "code",
   "execution_count": 144,
   "metadata": {
    "collapsed": true,
    "scrolled": true
   },
   "outputs": [],
   "source": [
    "data_EURvsUSD.loc[values.index,'bidGBP/USD'] = values.loc[values.index,'bid']"
   ]
  },
  {
   "cell_type": "code",
   "execution_count": 145,
   "metadata": {},
   "outputs": [
    {
     "data": {
      "text/html": [
       "<div>\n",
       "<style>\n",
       "    .dataframe thead tr:only-child th {\n",
       "        text-align: right;\n",
       "    }\n",
       "\n",
       "    .dataframe thead th {\n",
       "        text-align: left;\n",
       "    }\n",
       "\n",
       "    .dataframe tbody tr th {\n",
       "        vertical-align: top;\n",
       "    }\n",
       "</style>\n",
       "<table border=\"1\" class=\"dataframe\">\n",
       "  <thead>\n",
       "    <tr style=\"text-align: right;\">\n",
       "      <th></th>\n",
       "      <th>bid</th>\n",
       "      <th>ask</th>\n",
       "      <th>bidGBP/USD</th>\n",
       "    </tr>\n",
       "    <tr>\n",
       "      <th>date</th>\n",
       "      <th></th>\n",
       "      <th></th>\n",
       "      <th></th>\n",
       "    </tr>\n",
       "  </thead>\n",
       "  <tbody>\n",
       "    <tr>\n",
       "      <th>2018-01-01 23:58:00</th>\n",
       "      <td>1.20093</td>\n",
       "      <td>1.20115</td>\n",
       "      <td>0.00000</td>\n",
       "    </tr>\n",
       "    <tr>\n",
       "      <th>2018-01-01 23:58:10</th>\n",
       "      <td>1.20093</td>\n",
       "      <td>1.20111</td>\n",
       "      <td>0.00000</td>\n",
       "    </tr>\n",
       "    <tr>\n",
       "      <th>2018-01-01 23:58:20</th>\n",
       "      <td>1.20082</td>\n",
       "      <td>1.20111</td>\n",
       "      <td>0.00000</td>\n",
       "    </tr>\n",
       "    <tr>\n",
       "      <th>2018-01-01 23:58:30</th>\n",
       "      <td>1.20043</td>\n",
       "      <td>1.20110</td>\n",
       "      <td>0.00000</td>\n",
       "    </tr>\n",
       "    <tr>\n",
       "      <th>2018-01-01 23:58:50</th>\n",
       "      <td>1.20011</td>\n",
       "      <td>1.20113</td>\n",
       "      <td>0.00000</td>\n",
       "    </tr>\n",
       "    <tr>\n",
       "      <th>2018-01-01 23:59:00</th>\n",
       "      <td>1.20015</td>\n",
       "      <td>1.20110</td>\n",
       "      <td>0.00000</td>\n",
       "    </tr>\n",
       "    <tr>\n",
       "      <th>2018-01-01 23:59:10</th>\n",
       "      <td>1.20028</td>\n",
       "      <td>1.20110</td>\n",
       "      <td>0.00000</td>\n",
       "    </tr>\n",
       "    <tr>\n",
       "      <th>2018-01-01 23:59:50</th>\n",
       "      <td>1.20015</td>\n",
       "      <td>1.20110</td>\n",
       "      <td>0.00000</td>\n",
       "    </tr>\n",
       "    <tr>\n",
       "      <th>2018-01-02 00:00:40</th>\n",
       "      <td>1.20015</td>\n",
       "      <td>1.20105</td>\n",
       "      <td>1.34979</td>\n",
       "    </tr>\n",
       "    <tr>\n",
       "      <th>2018-01-02 00:00:50</th>\n",
       "      <td>1.20030</td>\n",
       "      <td>1.20113</td>\n",
       "      <td>0.00000</td>\n",
       "    </tr>\n",
       "  </tbody>\n",
       "</table>\n",
       "</div>"
      ],
      "text/plain": [
       "                         bid      ask  bidGBP/USD\n",
       "date                                             \n",
       "2018-01-01 23:58:00  1.20093  1.20115     0.00000\n",
       "2018-01-01 23:58:10  1.20093  1.20111     0.00000\n",
       "2018-01-01 23:58:20  1.20082  1.20111     0.00000\n",
       "2018-01-01 23:58:30  1.20043  1.20110     0.00000\n",
       "2018-01-01 23:58:50  1.20011  1.20113     0.00000\n",
       "2018-01-01 23:59:00  1.20015  1.20110     0.00000\n",
       "2018-01-01 23:59:10  1.20028  1.20110     0.00000\n",
       "2018-01-01 23:59:50  1.20015  1.20110     0.00000\n",
       "2018-01-02 00:00:40  1.20015  1.20105     1.34979\n",
       "2018-01-02 00:00:50  1.20030  1.20113     0.00000"
      ]
     },
     "execution_count": 145,
     "metadata": {},
     "output_type": "execute_result"
    }
   ],
   "source": [
    "data_EURvsUSD[:10]"
   ]
  },
  {
   "cell_type": "markdown",
   "metadata": {},
   "source": [
    "ahora lo que haremos es llenar estos ceros con el mismo dato del bid del par EUR/USD"
   ]
  },
  {
   "cell_type": "code",
   "execution_count": 146,
   "metadata": {
    "collapsed": true
   },
   "outputs": [],
   "source": [
    "data_EURvsUSD.loc[data_EURvsUSD.loc[data_EURvsUSD.index,'bidGBP/USD']==0, 'bidGBP/USD'] = data_EURvsUSD.loc[data_EURvsUSD.loc[data_EURvsUSD.index,'bidGBP/USD']==0,'bid']"
   ]
  },
  {
   "cell_type": "code",
   "execution_count": 147,
   "metadata": {},
   "outputs": [
    {
     "data": {
      "text/html": [
       "<div>\n",
       "<style>\n",
       "    .dataframe thead tr:only-child th {\n",
       "        text-align: right;\n",
       "    }\n",
       "\n",
       "    .dataframe thead th {\n",
       "        text-align: left;\n",
       "    }\n",
       "\n",
       "    .dataframe tbody tr th {\n",
       "        vertical-align: top;\n",
       "    }\n",
       "</style>\n",
       "<table border=\"1\" class=\"dataframe\">\n",
       "  <thead>\n",
       "    <tr style=\"text-align: right;\">\n",
       "      <th></th>\n",
       "      <th>bid</th>\n",
       "      <th>ask</th>\n",
       "      <th>bidGBP/USD</th>\n",
       "    </tr>\n",
       "    <tr>\n",
       "      <th>date</th>\n",
       "      <th></th>\n",
       "      <th></th>\n",
       "      <th></th>\n",
       "    </tr>\n",
       "  </thead>\n",
       "  <tbody>\n",
       "    <tr>\n",
       "      <th>2018-01-01 23:58:00</th>\n",
       "      <td>1.20093</td>\n",
       "      <td>1.20115</td>\n",
       "      <td>1.20093</td>\n",
       "    </tr>\n",
       "    <tr>\n",
       "      <th>2018-01-01 23:58:10</th>\n",
       "      <td>1.20093</td>\n",
       "      <td>1.20111</td>\n",
       "      <td>1.20093</td>\n",
       "    </tr>\n",
       "    <tr>\n",
       "      <th>2018-01-01 23:58:20</th>\n",
       "      <td>1.20082</td>\n",
       "      <td>1.20111</td>\n",
       "      <td>1.20082</td>\n",
       "    </tr>\n",
       "    <tr>\n",
       "      <th>2018-01-01 23:58:30</th>\n",
       "      <td>1.20043</td>\n",
       "      <td>1.20110</td>\n",
       "      <td>1.20043</td>\n",
       "    </tr>\n",
       "    <tr>\n",
       "      <th>2018-01-01 23:58:50</th>\n",
       "      <td>1.20011</td>\n",
       "      <td>1.20113</td>\n",
       "      <td>1.20011</td>\n",
       "    </tr>\n",
       "    <tr>\n",
       "      <th>2018-01-01 23:59:00</th>\n",
       "      <td>1.20015</td>\n",
       "      <td>1.20110</td>\n",
       "      <td>1.20015</td>\n",
       "    </tr>\n",
       "    <tr>\n",
       "      <th>2018-01-01 23:59:10</th>\n",
       "      <td>1.20028</td>\n",
       "      <td>1.20110</td>\n",
       "      <td>1.20028</td>\n",
       "    </tr>\n",
       "    <tr>\n",
       "      <th>2018-01-01 23:59:50</th>\n",
       "      <td>1.20015</td>\n",
       "      <td>1.20110</td>\n",
       "      <td>1.20015</td>\n",
       "    </tr>\n",
       "    <tr>\n",
       "      <th>2018-01-02 00:00:40</th>\n",
       "      <td>1.20015</td>\n",
       "      <td>1.20105</td>\n",
       "      <td>1.34979</td>\n",
       "    </tr>\n",
       "    <tr>\n",
       "      <th>2018-01-02 00:00:50</th>\n",
       "      <td>1.20030</td>\n",
       "      <td>1.20113</td>\n",
       "      <td>1.20030</td>\n",
       "    </tr>\n",
       "  </tbody>\n",
       "</table>\n",
       "</div>"
      ],
      "text/plain": [
       "                         bid      ask  bidGBP/USD\n",
       "date                                             \n",
       "2018-01-01 23:58:00  1.20093  1.20115     1.20093\n",
       "2018-01-01 23:58:10  1.20093  1.20111     1.20093\n",
       "2018-01-01 23:58:20  1.20082  1.20111     1.20082\n",
       "2018-01-01 23:58:30  1.20043  1.20110     1.20043\n",
       "2018-01-01 23:58:50  1.20011  1.20113     1.20011\n",
       "2018-01-01 23:59:00  1.20015  1.20110     1.20015\n",
       "2018-01-01 23:59:10  1.20028  1.20110     1.20028\n",
       "2018-01-01 23:59:50  1.20015  1.20110     1.20015\n",
       "2018-01-02 00:00:40  1.20015  1.20105     1.34979\n",
       "2018-01-02 00:00:50  1.20030  1.20113     1.20030"
      ]
     },
     "execution_count": 147,
     "metadata": {},
     "output_type": "execute_result"
    }
   ],
   "source": [
    "data_EURvsUSD[:10]"
   ]
  },
  {
   "cell_type": "markdown",
   "metadata": {
    "collapsed": true
   },
   "source": [
    "ahora construimos las dos señales con una ventana de tamaño 3 para probar que tal va..."
   ]
  },
  {
   "cell_type": "code",
   "execution_count": 149,
   "metadata": {},
   "outputs": [],
   "source": [
    "%run ../code/EUtilities.py\n",
    "EU = EUtilities()"
   ]
  },
  {
   "cell_type": "code",
   "execution_count": 19,
   "metadata": {
    "collapsed": true
   },
   "outputs": [],
   "source": [
    "#los datos de el par GBP/USD para luego unirlos y formar los datos X para entrenar\n",
    "X_GBPUSD,_ = EU.build_dataset(data_EURvsUSD.iloc[:,2],window=3,binary_target=False,delete_constant_values=True)\n",
    "#los datos de el par EUR/USD \"\"\n",
    "X_EURUSD, y_EURUSD, bt_EURUSD = EU.build_dataset(data_EURvsUSD.iloc[:,0],window=3,binary_target=True,PNL=True\n",
    "                                             ,delete_constant_values=True)"
   ]
  },
  {
   "cell_type": "code",
   "execution_count": 20,
   "metadata": {},
   "outputs": [
    {
     "data": {
      "text/plain": [
       "((156578, 4), (161098, 3))"
      ]
     },
     "execution_count": 20,
     "metadata": {},
     "output_type": "execute_result"
    }
   ],
   "source": [
    "X_EURUSD.shape, X_GBPUSD.shape"
   ]
  },
  {
   "cell_type": "markdown",
   "metadata": {},
   "source": [
    "debido a que son diferentes señales, al habilitar la opción de <i>\"delete_constant_values\"</i> en la función <i>\"build_dataset\"</i> esto hace que las señales resultantes no sean iguales en tamaño, por ende para entrenar se cogeran los valores de los indices de la señal a medir, si este no está en la otra señal, se coloca lo de la señal EUR/USD"
   ]
  },
  {
   "cell_type": "code",
   "execution_count": 22,
   "metadata": {},
   "outputs": [
    {
     "data": {
      "text/plain": [
       "((156578, 4), (156578, 3))"
      ]
     },
     "execution_count": 22,
     "metadata": {},
     "output_type": "execute_result"
    }
   ],
   "source": [
    "X_GBPUSD = X_GBPUSD.loc[X_EURUSD.index]\n",
    "X_EURUSD.shape, X_GBPUSD.shape"
   ]
  },
  {
   "cell_type": "code",
   "execution_count": 23,
   "metadata": {},
   "outputs": [
    {
     "data": {
      "text/html": [
       "<div>\n",
       "<style>\n",
       "    .dataframe thead tr:only-child th {\n",
       "        text-align: right;\n",
       "    }\n",
       "\n",
       "    .dataframe thead th {\n",
       "        text-align: left;\n",
       "    }\n",
       "\n",
       "    .dataframe tbody tr th {\n",
       "        vertical-align: top;\n",
       "    }\n",
       "</style>\n",
       "<table border=\"1\" class=\"dataframe\">\n",
       "  <thead>\n",
       "    <tr style=\"text-align: right;\">\n",
       "      <th></th>\n",
       "      <th>0</th>\n",
       "      <th>1</th>\n",
       "      <th>2</th>\n",
       "    </tr>\n",
       "    <tr>\n",
       "      <th>date</th>\n",
       "      <th></th>\n",
       "      <th></th>\n",
       "      <th></th>\n",
       "    </tr>\n",
       "  </thead>\n",
       "  <tbody>\n",
       "    <tr>\n",
       "      <th>2018-01-01 23:58:50</th>\n",
       "      <td>1.20093</td>\n",
       "      <td>1.20093</td>\n",
       "      <td>1.20082</td>\n",
       "    </tr>\n",
       "    <tr>\n",
       "      <th>2018-01-01 23:59:00</th>\n",
       "      <td>1.20093</td>\n",
       "      <td>1.20082</td>\n",
       "      <td>1.20043</td>\n",
       "    </tr>\n",
       "    <tr>\n",
       "      <th>2018-01-01 23:59:10</th>\n",
       "      <td>1.20082</td>\n",
       "      <td>1.20043</td>\n",
       "      <td>1.20011</td>\n",
       "    </tr>\n",
       "    <tr>\n",
       "      <th>2018-01-01 23:59:50</th>\n",
       "      <td>1.20043</td>\n",
       "      <td>1.20011</td>\n",
       "      <td>1.20015</td>\n",
       "    </tr>\n",
       "    <tr>\n",
       "      <th>2018-01-02 00:00:40</th>\n",
       "      <td>1.20011</td>\n",
       "      <td>1.20015</td>\n",
       "      <td>1.20028</td>\n",
       "    </tr>\n",
       "    <tr>\n",
       "      <th>2018-01-02 00:01:00</th>\n",
       "      <td>1.20028</td>\n",
       "      <td>1.20015</td>\n",
       "      <td>1.34979</td>\n",
       "    </tr>\n",
       "    <tr>\n",
       "      <th>2018-01-02 00:03:00</th>\n",
       "      <td>1.20030</td>\n",
       "      <td>1.34918</td>\n",
       "      <td>1.34915</td>\n",
       "    </tr>\n",
       "    <tr>\n",
       "      <th>2018-01-02 00:03:30</th>\n",
       "      <td>1.34915</td>\n",
       "      <td>1.34940</td>\n",
       "      <td>1.20026</td>\n",
       "    </tr>\n",
       "    <tr>\n",
       "      <th>2018-01-02 00:03:40</th>\n",
       "      <td>NaN</td>\n",
       "      <td>NaN</td>\n",
       "      <td>NaN</td>\n",
       "    </tr>\n",
       "    <tr>\n",
       "      <th>2018-01-02 00:03:50</th>\n",
       "      <td>1.20026</td>\n",
       "      <td>1.34979</td>\n",
       "      <td>1.34979</td>\n",
       "    </tr>\n",
       "  </tbody>\n",
       "</table>\n",
       "</div>"
      ],
      "text/plain": [
       "                           0        1        2\n",
       "date                                          \n",
       "2018-01-01 23:58:50  1.20093  1.20093  1.20082\n",
       "2018-01-01 23:59:00  1.20093  1.20082  1.20043\n",
       "2018-01-01 23:59:10  1.20082  1.20043  1.20011\n",
       "2018-01-01 23:59:50  1.20043  1.20011  1.20015\n",
       "2018-01-02 00:00:40  1.20011  1.20015  1.20028\n",
       "2018-01-02 00:01:00  1.20028  1.20015  1.34979\n",
       "2018-01-02 00:03:00  1.20030  1.34918  1.34915\n",
       "2018-01-02 00:03:30  1.34915  1.34940  1.20026\n",
       "2018-01-02 00:03:40      NaN      NaN      NaN\n",
       "2018-01-02 00:03:50  1.20026  1.34979  1.34979"
      ]
     },
     "execution_count": 23,
     "metadata": {},
     "output_type": "execute_result"
    }
   ],
   "source": [
    "X_GBPUSD[:10]"
   ]
  },
  {
   "cell_type": "markdown",
   "metadata": {},
   "source": [
    "con este metodo lleno los valores NaN del par GBP/USD por los valores que hay en EUR/USD"
   ]
  },
  {
   "cell_type": "code",
   "execution_count": 24,
   "metadata": {
    "collapsed": true,
    "scrolled": true
   },
   "outputs": [],
   "source": [
    "#para cambiar los valores NaN\n",
    "X_GBPUSD = X_GBPUSD.fillna(X_EURUSD,axis=0)"
   ]
  },
  {
   "cell_type": "markdown",
   "metadata": {},
   "source": [
    "ahora se unen para poder entrenar la multiseñal y ver como funciona"
   ]
  },
  {
   "cell_type": "code",
   "execution_count": 25,
   "metadata": {
    "collapsed": true
   },
   "outputs": [],
   "source": [
    "X_EURUSD.insert(loc=3,column=3,value=X_GBPUSD.iloc[:,0])\n",
    "X_EURUSD.insert(loc=4,column=4,value=X_GBPUSD.iloc[:,1])\n",
    "X_EURUSD.insert(loc=5,column=5,value=X_GBPUSD.iloc[:,2])"
   ]
  },
  {
   "cell_type": "code",
   "execution_count": 26,
   "metadata": {},
   "outputs": [
    {
     "data": {
      "text/html": [
       "<div>\n",
       "<style>\n",
       "    .dataframe thead tr:only-child th {\n",
       "        text-align: right;\n",
       "    }\n",
       "\n",
       "    .dataframe thead th {\n",
       "        text-align: left;\n",
       "    }\n",
       "\n",
       "    .dataframe tbody tr th {\n",
       "        vertical-align: top;\n",
       "    }\n",
       "</style>\n",
       "<table border=\"1\" class=\"dataframe\">\n",
       "  <thead>\n",
       "    <tr style=\"text-align: right;\">\n",
       "      <th></th>\n",
       "      <th>0</th>\n",
       "      <th>1</th>\n",
       "      <th>2</th>\n",
       "      <th>3</th>\n",
       "      <th>4</th>\n",
       "      <th>5</th>\n",
       "      <th>PNL</th>\n",
       "    </tr>\n",
       "    <tr>\n",
       "      <th>date</th>\n",
       "      <th></th>\n",
       "      <th></th>\n",
       "      <th></th>\n",
       "      <th></th>\n",
       "      <th></th>\n",
       "      <th></th>\n",
       "      <th></th>\n",
       "    </tr>\n",
       "  </thead>\n",
       "  <tbody>\n",
       "    <tr>\n",
       "      <th>2018-01-01 23:58:50</th>\n",
       "      <td>1.20093</td>\n",
       "      <td>1.20093</td>\n",
       "      <td>1.20082</td>\n",
       "      <td>1.20093</td>\n",
       "      <td>1.20093</td>\n",
       "      <td>1.20082</td>\n",
       "      <td>-0.00039</td>\n",
       "    </tr>\n",
       "    <tr>\n",
       "      <th>2018-01-01 23:59:00</th>\n",
       "      <td>1.20093</td>\n",
       "      <td>1.20082</td>\n",
       "      <td>1.20043</td>\n",
       "      <td>1.20093</td>\n",
       "      <td>1.20082</td>\n",
       "      <td>1.20043</td>\n",
       "      <td>-0.00032</td>\n",
       "    </tr>\n",
       "    <tr>\n",
       "      <th>2018-01-01 23:59:10</th>\n",
       "      <td>1.20082</td>\n",
       "      <td>1.20043</td>\n",
       "      <td>1.20011</td>\n",
       "      <td>1.20082</td>\n",
       "      <td>1.20043</td>\n",
       "      <td>1.20011</td>\n",
       "      <td>0.00004</td>\n",
       "    </tr>\n",
       "    <tr>\n",
       "      <th>2018-01-01 23:59:50</th>\n",
       "      <td>1.20043</td>\n",
       "      <td>1.20011</td>\n",
       "      <td>1.20015</td>\n",
       "      <td>1.20043</td>\n",
       "      <td>1.20011</td>\n",
       "      <td>1.20015</td>\n",
       "      <td>0.00013</td>\n",
       "    </tr>\n",
       "    <tr>\n",
       "      <th>2018-01-02 00:00:40</th>\n",
       "      <td>1.20011</td>\n",
       "      <td>1.20015</td>\n",
       "      <td>1.20028</td>\n",
       "      <td>1.20011</td>\n",
       "      <td>1.20015</td>\n",
       "      <td>1.20028</td>\n",
       "      <td>-0.00013</td>\n",
       "    </tr>\n",
       "  </tbody>\n",
       "</table>\n",
       "</div>"
      ],
      "text/plain": [
       "                           0        1        2        3        4        5  \\\n",
       "date                                                                        \n",
       "2018-01-01 23:58:50  1.20093  1.20093  1.20082  1.20093  1.20093  1.20082   \n",
       "2018-01-01 23:59:00  1.20093  1.20082  1.20043  1.20093  1.20082  1.20043   \n",
       "2018-01-01 23:59:10  1.20082  1.20043  1.20011  1.20082  1.20043  1.20011   \n",
       "2018-01-01 23:59:50  1.20043  1.20011  1.20015  1.20043  1.20011  1.20015   \n",
       "2018-01-02 00:00:40  1.20011  1.20015  1.20028  1.20011  1.20015  1.20028   \n",
       "\n",
       "                         PNL  \n",
       "date                          \n",
       "2018-01-01 23:58:50 -0.00039  \n",
       "2018-01-01 23:59:00 -0.00032  \n",
       "2018-01-01 23:59:10  0.00004  \n",
       "2018-01-01 23:59:50  0.00013  \n",
       "2018-01-02 00:00:40 -0.00013  "
      ]
     },
     "execution_count": 26,
     "metadata": {},
     "output_type": "execute_result"
    }
   ],
   "source": [
    "X_EURUSD.head()"
   ]
  },
  {
   "cell_type": "code",
   "execution_count": 31,
   "metadata": {},
   "outputs": [
    {
     "name": "stdout",
     "output_type": "stream",
     "text": [
      "--------- GaussianNB ----------------\n",
      "average PNL :  -0.00102210526316\n",
      "average buy:  2010.26315789\n",
      "average sell:  5198.36842105\n",
      "-------------------------------------\n",
      "        PNL    buys   sells  longest_buys  longest_sells\n",
      "0   0.00627   417.0  6041.0          11.0         2864.0\n",
      "1  -0.00614  5424.0  1090.0        4746.0           22.0\n",
      "2  -0.00332  6656.0     0.0        6656.0            0.0\n",
      "3  -0.00100   159.0  6860.0           2.0         1590.0\n",
      "4  -0.00804   130.0  6982.0           2.0         3336.0\n",
      "5  -0.01655     0.0  7093.0           0.0         7093.0\n",
      "6   0.00657  7099.0     0.0        7099.0            0.0\n",
      "7   0.00251   983.0  6139.0           6.0           58.0\n",
      "8   0.00696   841.0  6698.0          17.0           74.0\n",
      "9  -0.00829  1089.0  6269.0          14.0           47.0\n",
      "10  0.00468   928.0  6383.0         160.0         3966.0\n",
      "11  0.00730  1919.0  5232.0          40.0         1393.0\n",
      "12 -0.00059    87.0  7094.0          15.0         4046.0\n",
      "13 -0.01095     0.0  7471.0           0.0         7471.0\n",
      "14 -0.01674  1130.0  6589.0         130.0         4951.0\n",
      "15 -0.00382     0.0  7618.0           0.0         7618.0\n",
      "16  0.00756  2856.0  4596.0          76.0         1683.0\n",
      "17  0.00640  5662.0  1823.0          84.0          626.0\n",
      "18  0.00777  2815.0  4791.0         140.0         3890.0\n"
     ]
    }
   ],
   "source": [
    "from sklearn.naive_bayes import GaussianNB\n",
    "    \n",
    "y = bt_EURUSD\n",
    "n_bdtrain = 4\n",
    "n_bdtest = 1\n",
    "mday = 1\n",
    "\n",
    "est_GNB = PNLEstimatorWrapper(GaussianNB(), PNL_column='PNL')\n",
    "result_GNB = step_validation(est_GNB, X_EURUSD, y, v_split(X_EURUSD,n_bdtrain,n_bdtest,mday))\n",
    "result_GNB, predict_GNB = redim(result_GNB)\n",
    "print('--------- GaussianNB ----------------')\n",
    "print('average PNL : ', np.mean(result_GNB[:,0]))\n",
    "print('average buy: ', np.mean(result_GNB[:,1]))\n",
    "print('average sell: ', np.mean(result_GNB[:,2]))\n",
    "print('-------------------------------------')\n",
    "print(pd.DataFrame(result_GNB, columns=list(['PNL','buys','sells','longest_buys','longest_sells'])))"
   ]
  },
  {
   "cell_type": "code",
   "execution_count": 32,
   "metadata": {},
   "outputs": [
    {
     "name": "stdout",
     "output_type": "stream",
     "text": [
      "--------- KNeighborsClassifier ----------------\n",
      "average PNL :  -0.000912631578947\n",
      "average buy:  3360.05263158\n",
      "average sell:  3848.57894737\n",
      "-------------------------------------\n",
      "        PNL    buys   sells  longest_buys  longest_sells\n",
      "0  -0.00021  3175.0  3283.0          60.0          100.0\n",
      "1  -0.00958  4993.0  1521.0         109.0           24.0\n",
      "2  -0.00086  5661.0   995.0        1560.0           28.0\n",
      "3  -0.00346  3850.0  3169.0         202.0           58.0\n",
      "4  -0.00960  4189.0  2923.0          72.0          100.0\n",
      "5  -0.01023   855.0  6238.0          21.0          960.0\n",
      "6  -0.00007  5181.0  1918.0         132.0           54.0\n",
      "7   0.00391  3981.0  3141.0         146.0           61.0\n",
      "8  -0.00060  4791.0  2748.0         132.0          142.0\n",
      "9  -0.00157  2726.0  4632.0          77.0           85.0\n",
      "10 -0.00152  3482.0  3829.0          58.0           60.0\n",
      "11  0.01526  3157.0  3994.0          41.0           64.0\n",
      "12  0.00127  2290.0  4891.0          25.0          102.0\n",
      "13 -0.00923   258.0  7213.0          21.0         1803.0\n",
      "14  0.00378  2561.0  5158.0         106.0         1895.0\n",
      "15  0.00286  3035.0  4583.0          49.0          236.0\n",
      "16  0.00014  4016.0  3436.0         212.0          124.0\n",
      "17 -0.00126  2584.0  4901.0          53.0          105.0\n",
      "18  0.00363  3056.0  4550.0          55.0          170.0\n"
     ]
    }
   ],
   "source": [
    "from sklearn.neighbors import KNeighborsClassifier\n",
    "    \n",
    "y = bt_EURUSD\n",
    "n_bdtrain = 4\n",
    "n_bdtest = 1\n",
    "mday = 1\n",
    "\n",
    "est_KNC = PNLEstimatorWrapper(KNeighborsClassifier(n_neighbors=7,n_jobs=2,leaf_size=30\n",
    "                                                   ,algorithm='kd_tree'), PNL_column='PNL')\n",
    "result_KNC = step_validation(est_KNC, X_EURUSD, y, v_split(X_EURUSD,n_bdtrain,n_bdtest,mday))\n",
    "result_KNC, predict_KNC = redim(result_KNC)\n",
    "print('--------- KNeighborsClassifier ----------------')\n",
    "print('average PNL : ', np.mean(result_KNC[:,0]))\n",
    "print('average buy: ', np.mean(result_KNC[:,1]))\n",
    "print('average sell: ', np.mean(result_KNC[:,2]))\n",
    "print('-------------------------------------')\n",
    "print(pd.DataFrame(result_KNC, columns=list(['PNL','buys','sells','longest_buys','longest_sells'])))"
   ]
  },
  {
   "cell_type": "code",
   "execution_count": 33,
   "metadata": {},
   "outputs": [
    {
     "name": "stdout",
     "output_type": "stream",
     "text": [
      "--------- DecisionTreeClassifier ----------------\n",
      "average PNL :  -0.00222\n",
      "average buy:  3349.0\n",
      "average sell:  3859.63157895\n",
      "-------------------------------------\n",
      "        PNL    buys   sells  longest_buys  longest_sells\n",
      "0  -0.00569  2915.0  3543.0          26.0           35.0\n",
      "1   0.00172  1407.0  5107.0          39.0          721.0\n",
      "2  -0.00256  5959.0   697.0        4215.0           19.0\n",
      "3   0.00554  4733.0  2286.0         124.0           25.0\n",
      "4  -0.01136  3664.0  3448.0          31.0           62.0\n",
      "5  -0.01365   765.0  6328.0          12.0          960.0\n",
      "6  -0.00551  1197.0  5902.0          31.0         1187.0\n",
      "7  -0.00235  4524.0  2598.0         139.0           24.0\n",
      "8   0.00218  4734.0  2805.0          91.0           49.0\n",
      "9  -0.00959  3241.0  4117.0         111.0           60.0\n",
      "10 -0.00844  3561.0  3750.0          41.0           74.0\n",
      "11 -0.00956  2832.0  4319.0          53.0          115.0\n",
      "12  0.00507  3598.0  3583.0          62.0           81.0\n",
      "13 -0.01063  1105.0  6366.0         154.0           95.0\n",
      "14  0.00446  6538.0  1181.0         102.0           53.0\n",
      "15  0.00980  3562.0  4056.0          31.0          179.0\n",
      "16  0.00480  2905.0  4547.0          51.0          111.0\n",
      "17 -0.00178  3185.0  4300.0         221.0           89.0\n",
      "18  0.00537  3206.0  4400.0          30.0          173.0\n"
     ]
    }
   ],
   "source": [
    "from sklearn.tree import DecisionTreeClassifier\n",
    "    \n",
    "y = bt_EURUSD\n",
    "n_bdtrain = 4\n",
    "n_bdtest = 1\n",
    "mday = 1\n",
    "\n",
    "est_DTC = PNLEstimatorWrapper(DecisionTreeClassifier(), PNL_column='PNL')\n",
    "result_DTC = step_validation(est_DTC, X_EURUSD, y, v_split(X_EURUSD,n_bdtrain,n_bdtest,mday))\n",
    "result_DTC, predict_DTC = redim(result_DTC)\n",
    "print('--------- DecisionTreeClassifier ----------------')\n",
    "print('average PNL : ', np.mean(result_DTC[:,0]))\n",
    "print('average buy: ', np.mean(result_DTC[:,1]))\n",
    "print('average sell: ', np.mean(result_DTC[:,2]))\n",
    "print('-------------------------------------')\n",
    "print(pd.DataFrame(result_DTC, columns=list(['PNL','buys','sells','longest_buys','longest_sells'])))"
   ]
  },
  {
   "cell_type": "markdown",
   "metadata": {},
   "source": [
    "#### se puede concluir que disminuye el nivel de acierto al añadirle al par EUR/USD la señal de GBP/USD..\n",
    "ahora probaré con los mismos dos pares pero para predecir el par GBP/USD"
   ]
  },
  {
   "cell_type": "code",
   "execution_count": 63,
   "metadata": {
    "collapsed": true
   },
   "outputs": [],
   "source": [
    "#Se lee la señal correspondiente a GBP vs USD para el mes de enero de 2018\n",
    "data_GBPvsUSD = pd.read_csv(\"../data/TrueFX/GBP-USD/GBPUSD-preprocesado-2018-01.csv\", index_col=0\n",
    "                            ,infer_datetime_format=True, parse_dates=True )\n",
    "#Se lee la señal correspondiente a EUR vs USD para el mes de enero de 2018\n",
    "data_EURvsUSD = pd.read_csv(\"../data/TrueFX/EUR-USD/datos_procesados_EURUSD-2018-01.csv\", index_col=0\n",
    "                            ,infer_datetime_format=True, parse_dates=True )\n",
    "\n",
    "#saco los valores que si están en el mismo instante de tiempo\n",
    "values = data_EURvsUSD.filter(items=data_GBPvsUSD.index, axis=0)\n",
    "\n",
    "#inserto una columa llena de ceros para posteriormente colocar ahi los valores a utilizar\n",
    "data_GBPvsUSD.insert(loc=2, column='bidEUR/USD', value=np.zeros((data_GBPvsUSD.shape[0],1)))\n",
    "\n",
    "#llenamos con los datos\n",
    "data_GBPvsUSD.loc[values.index,'bidEUR/USD'] = values.loc[values.index,'bid']\n",
    "\n",
    "#llenamos los ceros\n",
    "data_GBPvsUSD.loc[data_GBPvsUSD.loc[data_GBPvsUSD.index,'bidEUR/USD']==0, 'bidEUR/USD'] = data_GBPvsUSD.loc[data_GBPvsUSD.loc[data_GBPvsUSD.index,'bidEUR/USD']==0,'bid']"
   ]
  },
  {
   "cell_type": "code",
   "execution_count": 66,
   "metadata": {},
   "outputs": [
    {
     "data": {
      "text/plain": [
       "((183535, 2), (185443, 3))"
      ]
     },
     "execution_count": 66,
     "metadata": {},
     "output_type": "execute_result"
    }
   ],
   "source": [
    "data_EURvsUSD.shape, data_GBPvsUSD.shape"
   ]
  },
  {
   "cell_type": "code",
   "execution_count": 67,
   "metadata": {},
   "outputs": [
    {
     "data": {
      "text/html": [
       "<div>\n",
       "<style>\n",
       "    .dataframe thead tr:only-child th {\n",
       "        text-align: right;\n",
       "    }\n",
       "\n",
       "    .dataframe thead th {\n",
       "        text-align: left;\n",
       "    }\n",
       "\n",
       "    .dataframe tbody tr th {\n",
       "        vertical-align: top;\n",
       "    }\n",
       "</style>\n",
       "<table border=\"1\" class=\"dataframe\">\n",
       "  <thead>\n",
       "    <tr style=\"text-align: right;\">\n",
       "      <th></th>\n",
       "      <th>bid</th>\n",
       "      <th>ask</th>\n",
       "      <th>bidEUR/USD</th>\n",
       "    </tr>\n",
       "    <tr>\n",
       "      <th>date</th>\n",
       "      <th></th>\n",
       "      <th></th>\n",
       "      <th></th>\n",
       "    </tr>\n",
       "  </thead>\n",
       "  <tbody>\n",
       "    <tr>\n",
       "      <th>2018-01-02 00:00:40</th>\n",
       "      <td>1.34979</td>\n",
       "      <td>1.35176</td>\n",
       "      <td>1.20015</td>\n",
       "    </tr>\n",
       "    <tr>\n",
       "      <th>2018-01-02 00:01:00</th>\n",
       "      <td>1.34918</td>\n",
       "      <td>1.35208</td>\n",
       "      <td>1.20030</td>\n",
       "    </tr>\n",
       "    <tr>\n",
       "      <th>2018-01-02 00:01:10</th>\n",
       "      <td>1.34915</td>\n",
       "      <td>1.35354</td>\n",
       "      <td>1.34915</td>\n",
       "    </tr>\n",
       "    <tr>\n",
       "      <th>2018-01-02 00:01:20</th>\n",
       "      <td>1.34915</td>\n",
       "      <td>1.35386</td>\n",
       "      <td>1.20030</td>\n",
       "    </tr>\n",
       "    <tr>\n",
       "      <th>2018-01-02 00:01:30</th>\n",
       "      <td>1.34938</td>\n",
       "      <td>1.35440</td>\n",
       "      <td>1.34938</td>\n",
       "    </tr>\n",
       "  </tbody>\n",
       "</table>\n",
       "</div>"
      ],
      "text/plain": [
       "                         bid      ask  bidEUR/USD\n",
       "date                                             \n",
       "2018-01-02 00:00:40  1.34979  1.35176     1.20015\n",
       "2018-01-02 00:01:00  1.34918  1.35208     1.20030\n",
       "2018-01-02 00:01:10  1.34915  1.35354     1.34915\n",
       "2018-01-02 00:01:20  1.34915  1.35386     1.20030\n",
       "2018-01-02 00:01:30  1.34938  1.35440     1.34938"
      ]
     },
     "execution_count": 67,
     "metadata": {},
     "output_type": "execute_result"
    }
   ],
   "source": [
    "data_GBPvsUSD.head()"
   ]
  },
  {
   "cell_type": "code",
   "execution_count": 69,
   "metadata": {
    "collapsed": true
   },
   "outputs": [],
   "source": [
    "#los datos de el par GBP/USD para luego unirlos y formar los datos X para entrenar\n",
    "X_GBPUSD, y_GBPUSD, bt_GBPUSD = build_dataset(data_GBPvsUSD.iloc[:,0],window=3,binary_target=True,PNL=True)\n",
    "#los datos de el par EUR/USD \"\"\n",
    "X_EURUSD,_ = build_dataset(data_GBPvsUSD.iloc[:,2],window=3,delete_constant_values=True)"
   ]
  },
  {
   "cell_type": "code",
   "execution_count": 70,
   "metadata": {},
   "outputs": [
    {
     "data": {
      "text/plain": [
       "((160808, 3), (160804, 4))"
      ]
     },
     "execution_count": 70,
     "metadata": {},
     "output_type": "execute_result"
    }
   ],
   "source": [
    "X_EURUSD.shape, X_GBPUSD.shape"
   ]
  },
  {
   "cell_type": "code",
   "execution_count": 72,
   "metadata": {},
   "outputs": [
    {
     "data": {
      "text/plain": [
       "((160804, 3), (160804, 4))"
      ]
     },
     "execution_count": 72,
     "metadata": {},
     "output_type": "execute_result"
    }
   ],
   "source": [
    "X_EURUSD = X_EURUSD.loc[X_GBPUSD.index]\n",
    "X_EURUSD.shape, X_GBPUSD.shape"
   ]
  },
  {
   "cell_type": "code",
   "execution_count": 73,
   "metadata": {
    "collapsed": true
   },
   "outputs": [],
   "source": [
    "#para cambiar los valores NaN\n",
    "X_EURUSD = X_EURUSD.fillna(X_GBPUSD,axis=0)"
   ]
  },
  {
   "cell_type": "code",
   "execution_count": 74,
   "metadata": {
    "collapsed": true
   },
   "outputs": [],
   "source": [
    "X_GBPUSD.insert(loc=3,column=3,value=X_EURUSD.iloc[:,0])\n",
    "X_GBPUSD.insert(loc=4,column=4,value=X_EURUSD.iloc[:,1])\n",
    "X_GBPUSD.insert(loc=5,column=5,value=X_EURUSD.iloc[:,2])"
   ]
  },
  {
   "cell_type": "code",
   "execution_count": 75,
   "metadata": {},
   "outputs": [
    {
     "data": {
      "text/html": [
       "<div>\n",
       "<style>\n",
       "    .dataframe thead tr:only-child th {\n",
       "        text-align: right;\n",
       "    }\n",
       "\n",
       "    .dataframe thead th {\n",
       "        text-align: left;\n",
       "    }\n",
       "\n",
       "    .dataframe tbody tr th {\n",
       "        vertical-align: top;\n",
       "    }\n",
       "</style>\n",
       "<table border=\"1\" class=\"dataframe\">\n",
       "  <thead>\n",
       "    <tr style=\"text-align: right;\">\n",
       "      <th></th>\n",
       "      <th>0</th>\n",
       "      <th>1</th>\n",
       "      <th>2</th>\n",
       "      <th>3</th>\n",
       "      <th>4</th>\n",
       "      <th>5</th>\n",
       "      <th>PNL</th>\n",
       "    </tr>\n",
       "    <tr>\n",
       "      <th>date</th>\n",
       "      <th></th>\n",
       "      <th></th>\n",
       "      <th></th>\n",
       "      <th></th>\n",
       "      <th></th>\n",
       "      <th></th>\n",
       "      <th></th>\n",
       "    </tr>\n",
       "  </thead>\n",
       "  <tbody>\n",
       "    <tr>\n",
       "      <th>2018-01-02 00:01:40</th>\n",
       "      <td>1.34918</td>\n",
       "      <td>1.34915</td>\n",
       "      <td>1.34915</td>\n",
       "      <td>1.20030</td>\n",
       "      <td>1.34915</td>\n",
       "      <td>1.20030</td>\n",
       "      <td>0.00023</td>\n",
       "    </tr>\n",
       "    <tr>\n",
       "      <th>2018-01-02 00:02:10</th>\n",
       "      <td>1.34915</td>\n",
       "      <td>1.34938</td>\n",
       "      <td>1.34938</td>\n",
       "      <td>1.20030</td>\n",
       "      <td>1.34938</td>\n",
       "      <td>1.34938</td>\n",
       "      <td>0.00004</td>\n",
       "    </tr>\n",
       "    <tr>\n",
       "      <th>2018-01-02 00:02:30</th>\n",
       "      <td>1.34938</td>\n",
       "      <td>1.34938</td>\n",
       "      <td>1.34942</td>\n",
       "      <td>1.34938</td>\n",
       "      <td>1.34938</td>\n",
       "      <td>1.34942</td>\n",
       "      <td>-0.00003</td>\n",
       "    </tr>\n",
       "    <tr>\n",
       "      <th>2018-01-02 00:02:40</th>\n",
       "      <td>1.34938</td>\n",
       "      <td>1.34942</td>\n",
       "      <td>1.34939</td>\n",
       "      <td>1.34938</td>\n",
       "      <td>1.34942</td>\n",
       "      <td>1.34939</td>\n",
       "      <td>0.00040</td>\n",
       "    </tr>\n",
       "    <tr>\n",
       "      <th>2018-01-02 00:03:10</th>\n",
       "      <td>1.34939</td>\n",
       "      <td>1.34979</td>\n",
       "      <td>1.34979</td>\n",
       "      <td>1.34939</td>\n",
       "      <td>1.34979</td>\n",
       "      <td>1.34979</td>\n",
       "      <td>-0.00039</td>\n",
       "    </tr>\n",
       "  </tbody>\n",
       "</table>\n",
       "</div>"
      ],
      "text/plain": [
       "                           0        1        2        3        4        5  \\\n",
       "date                                                                        \n",
       "2018-01-02 00:01:40  1.34918  1.34915  1.34915  1.20030  1.34915  1.20030   \n",
       "2018-01-02 00:02:10  1.34915  1.34938  1.34938  1.20030  1.34938  1.34938   \n",
       "2018-01-02 00:02:30  1.34938  1.34938  1.34942  1.34938  1.34938  1.34942   \n",
       "2018-01-02 00:02:40  1.34938  1.34942  1.34939  1.34938  1.34942  1.34939   \n",
       "2018-01-02 00:03:10  1.34939  1.34979  1.34979  1.34939  1.34979  1.34979   \n",
       "\n",
       "                         PNL  \n",
       "date                          \n",
       "2018-01-02 00:01:40  0.00023  \n",
       "2018-01-02 00:02:10  0.00004  \n",
       "2018-01-02 00:02:30 -0.00003  \n",
       "2018-01-02 00:02:40  0.00040  \n",
       "2018-01-02 00:03:10 -0.00039  "
      ]
     },
     "execution_count": 75,
     "metadata": {},
     "output_type": "execute_result"
    }
   ],
   "source": [
    "X_GBPUSD.head()"
   ]
  },
  {
   "cell_type": "code",
   "execution_count": 77,
   "metadata": {},
   "outputs": [
    {
     "name": "stdout",
     "output_type": "stream",
     "text": [
      "--------- GaussianNB ----------------\n",
      "average PNL :  -0.00199052631579\n",
      "average buy:  2261.31578947\n",
      "average sell:  4741.89473684\n",
      "-------------------------------------\n",
      "        PNL    buys   sells  longest_buys  longest_sells\n",
      "0   0.00680  1225.0  5574.0          41.0         2316.0\n",
      "1   0.00676  3011.0  3822.0        1606.0         2579.0\n",
      "2   0.00762  3437.0  3611.0         849.0          108.0\n",
      "3   0.00036  4790.0  2343.0        3361.0         1274.0\n",
      "4  -0.01519  3032.0  4189.0        2399.0          477.0\n",
      "5   0.00606  7280.0     0.0        7280.0            0.0\n",
      "6   0.00038     0.0  7107.0           0.0         7107.0\n",
      "7  -0.00455     0.0  7515.0           0.0         7515.0\n",
      "8  -0.00646     0.0  7473.0           0.0         7473.0\n",
      "9   0.00683     0.0  7361.0           0.0         7361.0\n",
      "10 -0.01562     0.0  7399.0           0.0         7399.0\n",
      "11 -0.00114     0.0  7330.0           0.0         7330.0\n",
      "12 -0.02440     0.0  7579.0           0.0         7579.0\n",
      "13 -0.00801  6913.0   912.0         130.0           11.0\n",
      "14 -0.00241     0.0  7780.0           0.0         7780.0\n",
      "15 -0.00836  6549.0  1008.0          70.0            8.0\n",
      "16  0.00405  4111.0  3515.0        3010.0          825.0\n",
      "17  0.01033  2616.0  5102.0          62.0         1463.0\n",
      "18 -0.00087     1.0   476.0           1.0          474.0\n"
     ]
    }
   ],
   "source": [
    "from sklearn.naive_bayes import GaussianNB\n",
    "    \n",
    "y = bt_GBPUSD\n",
    "n_bdtrain = 4\n",
    "n_bdtest = 1\n",
    "mday = 1\n",
    "\n",
    "est_GNB = PNLEstimatorWrapper(GaussianNB(), PNL_column='PNL')\n",
    "result_GNB = step_validation(est_GNB, X_GBPUSD, y, v_split(X_GBPUSD,n_bdtrain,n_bdtest,mday))\n",
    "result_GNB, predict_GNB = redim(result_GNB)\n",
    "print('--------- GaussianNB ----------------')\n",
    "print('average PNL : ', np.mean(result_GNB[:,0]))\n",
    "print('average buy: ', np.mean(result_GNB[:,1]))\n",
    "print('average sell: ', np.mean(result_GNB[:,2]))\n",
    "print('-------------------------------------')\n",
    "print(pd.DataFrame(result_GNB, columns=list(['PNL','buys','sells','longest_buys','longest_sells'])))"
   ]
  },
  {
   "cell_type": "code",
   "execution_count": 81,
   "metadata": {},
   "outputs": [
    {
     "name": "stdout",
     "output_type": "stream",
     "text": [
      "--------- KNeighbors ----------------\n",
      "average PNL :  0.00288421052632\n",
      "average buy:  3156.21052632\n",
      "average sell:  3847.0\n",
      "-------------------------------------\n",
      "        PNL    buys   sells  longest_buys  longest_sells\n",
      "0  -0.00228  3354.0  3445.0          63.0           72.0\n",
      "1   0.00424  4795.0  2038.0         138.0           78.0\n",
      "2   0.00926  4599.0  2449.0         256.0           45.0\n",
      "3   0.01506  4249.0  2884.0         291.0           46.0\n",
      "4  -0.01177  1655.0  5566.0          40.0         1284.0\n",
      "5  -0.00926  1287.0  5993.0          22.0          578.0\n",
      "6  -0.00674  2484.0  4623.0          46.0           88.0\n",
      "7   0.01069  2065.0  5450.0          46.0          156.0\n",
      "8   0.00270  4556.0  2917.0          82.0          152.0\n",
      "9   0.00969  3246.0  4115.0          88.0          138.0\n",
      "10 -0.00146  2499.0  4900.0          22.0          620.0\n",
      "11  0.01944  3261.0  4069.0         113.0          273.0\n",
      "12 -0.02094   736.0  6843.0          33.0         1586.0\n",
      "13  0.00019  1887.0  5938.0          66.0          130.0\n",
      "14 -0.00361  4333.0  3447.0         351.0          123.0\n",
      "15  0.00260  6263.0  1294.0         749.0           82.0\n",
      "16  0.02547  4577.0  3049.0         190.0           55.0\n",
      "17  0.01241  3799.0  3919.0         119.0           85.0\n",
      "18 -0.00089   323.0   154.0          38.0           20.0\n"
     ]
    }
   ],
   "source": [
    "from sklearn.neighbors import KNeighborsClassifier\n",
    "    \n",
    "y = bt_GBPUSD\n",
    "n_bdtrain = 4\n",
    "n_bdtest = 1\n",
    "mday = 1\n",
    "\n",
    "est_KNC = PNLEstimatorWrapper(KNeighborsClassifier(n_neighbors=7,n_jobs=2,leaf_size=30\n",
    "                                                   ,algorithm='kd_tree'), PNL_column='PNL')\n",
    "result_KNC = step_validation(est_KNC, X_GBPUSD, y, v_split(X_GBPUSD,n_bdtrain,n_bdtest,mday))\n",
    "result_KNC, predict_KNC = redim(result_KNC)\n",
    "print('--------- KNeighbors ----------------')\n",
    "print('average PNL : ', np.mean(result_KNC[:,0]))\n",
    "print('average buy: ', np.mean(result_KNC[:,1]))\n",
    "print('average sell: ', np.mean(result_KNC[:,2]))\n",
    "print('-------------------------------------')\n",
    "print(pd.DataFrame(result_KNC, columns=list(['PNL','buys','sells','longest_buys','longest_sells'])))"
   ]
  },
  {
   "cell_type": "code",
   "execution_count": 85,
   "metadata": {},
   "outputs": [
    {
     "name": "stdout",
     "output_type": "stream",
     "text": [
      "--------- DecisionTreeClassifier ----------------\n",
      "average PNL :  0.00269157894737\n",
      "average buy:  3366.84210526\n",
      "average sell:  3636.36842105\n",
      "-------------------------------------\n",
      "        PNL    buys   sells  longest_buys  longest_sells\n",
      "0   0.00528  4520.0  2279.0          59.0           34.0\n",
      "1   0.00066  4312.0  2521.0          85.0           39.0\n",
      "2  -0.00178  4245.0  2803.0          89.0           47.0\n",
      "3   0.00808  3669.0  3464.0         206.0           55.0\n",
      "4  -0.01471  1727.0  5494.0          42.0           91.0\n",
      "5  -0.00022   999.0  6281.0          49.0         4020.0\n",
      "6   0.00120  2935.0  4172.0         115.0           56.0\n",
      "7   0.00737  2743.0  4772.0          95.0          109.0\n",
      "8   0.00042  3112.0  4361.0         110.0           69.0\n",
      "9  -0.00177  3577.0  3784.0          72.0           61.0\n",
      "10 -0.01422  2348.0  5051.0          24.0         1502.0\n",
      "11  0.00556  3105.0  4225.0         112.0          104.0\n",
      "12  0.01852  6819.0   760.0        4844.0           59.0\n",
      "13 -0.00333  1913.0  5912.0         108.0         1853.0\n",
      "14  0.01251  3688.0  4092.0         138.0           64.0\n",
      "15  0.01644  5472.0  2085.0         129.0           68.0\n",
      "16  0.00341  4787.0  2839.0          98.0           30.0\n",
      "17  0.00249  3739.0  3979.0          34.0           87.0\n",
      "18  0.00523   260.0   217.0          48.0           10.0\n"
     ]
    }
   ],
   "source": [
    "from sklearn.tree import DecisionTreeClassifier\n",
    "    \n",
    "y = bt_GBPUSD\n",
    "n_bdtrain = 4\n",
    "n_bdtest = 1\n",
    "mday = 1\n",
    "\n",
    "est_DTC = PNLEstimatorWrapper(DecisionTreeClassifier(), PNL_column='PNL')\n",
    "result_DTC = step_validation(est_DTC, X_GBPUSD, y, v_split(X_GBPUSD,n_bdtrain,n_bdtest,mday))\n",
    "result_DTC, predict_DTC = redim(result_DTC)\n",
    "print('--------- DecisionTreeClassifier ----------------')\n",
    "print('average PNL : ', np.mean(result_DTC[:,0]))\n",
    "print('average buy: ', np.mean(result_DTC[:,1]))\n",
    "print('average sell: ', np.mean(result_DTC[:,2]))\n",
    "print('-------------------------------------')\n",
    "print(pd.DataFrame(result_DTC, columns=list(['PNL','buys','sells','longest_buys','longest_sells'])))"
   ]
  },
  {
   "cell_type": "code",
   "execution_count": 88,
   "metadata": {},
   "outputs": [
    {
     "name": "stdout",
     "output_type": "stream",
     "text": [
      "--------- RandomForestClassifier ----------------\n",
      "average PNL :  0.00480421052632\n",
      "average buy:  2696.78947368\n",
      "average sell:  4306.42105263\n",
      "-------------------------------------\n",
      "        PNL    buys   sells  longest_buys  longest_sells\n",
      "0  -0.00258  1601.0  5198.0          22.0           69.0\n",
      "1   0.00274  1656.0  5177.0          28.0           81.0\n",
      "2   0.00554  4172.0  2876.0         157.0           30.0\n",
      "3   0.01074  3783.0  3350.0         157.0           49.0\n",
      "4  -0.01679  1528.0  5693.0          25.0           91.0\n",
      "5  -0.00002   852.0  6428.0          22.0         4020.0\n",
      "6   0.00694  2762.0  4345.0          47.0           69.0\n",
      "7   0.00391  2086.0  5429.0          24.0           74.0\n",
      "8   0.00862  4110.0  3363.0         183.0          106.0\n",
      "9   0.01489  3262.0  4099.0          52.0           56.0\n",
      "10 -0.01658  2301.0  5098.0          24.0          654.0\n",
      "11  0.01766  2525.0  4805.0          20.0           86.0\n",
      "12 -0.02086   300.0  7279.0          19.0         5256.0\n",
      "13  0.01739  1176.0  6649.0          97.0         3223.0\n",
      "14  0.01959  4019.0  3761.0          58.0           53.0\n",
      "15  0.00432  6098.0  1459.0         239.0           37.0\n",
      "16  0.00715  4879.0  2747.0         190.0           27.0\n",
      "17  0.03121  3867.0  3851.0          61.0           44.0\n",
      "18 -0.00259   262.0   215.0          29.0           18.0\n"
     ]
    }
   ],
   "source": [
    "from sklearn.ensemble import RandomForestClassifier\n",
    "    \n",
    "y = bt_GBPUSD\n",
    "n_bdtrain = 4\n",
    "n_bdtest = 1\n",
    "mday = 1\n",
    "\n",
    "est_RFC = PNLEstimatorWrapper(RandomForestClassifier(n_estimators=15, n_jobs=3), PNL_column='PNL')\n",
    "result_RFC = step_validation(est_RFC, X_GBPUSD, y, v_split(X_GBPUSD,n_bdtrain,n_bdtest,mday))\n",
    "result_RFC, predict_RFC = redim(result_RFC)\n",
    "print('--------- RandomForestClassifier ----------------')\n",
    "print('average PNL : ', np.mean(result_RFC[:,0]))\n",
    "print('average buy: ', np.mean(result_RFC[:,1]))\n",
    "print('average sell: ', np.mean(result_RFC[:,2]))\n",
    "print('-------------------------------------')\n",
    "print(pd.DataFrame(result_RFC, columns=list(['PNL','buys','sells','longest_buys','longest_sells'])))"
   ]
  },
  {
   "cell_type": "markdown",
   "metadata": {},
   "source": [
    "esto nos incrementa la ganancia si lo comprobamos con el PNL obtenido entrenando solo con la señal GBP/USD, lo que nos indica que usando la multiseñal EUR/USD y GBP/USD para predecir GBP/USD, nos aumenta la ganancia."
   ]
  },
  {
   "cell_type": "markdown",
   "metadata": {},
   "source": [
    "por cuestiones de formalidad para el posterior uso, creo la función multi_signal la cual me permite pasarle dos series de tiempo y esta se encarga de crear la multiseñal, teniendo en cuenta que se rige por los indices de la primer señal, asi que dará resultados diferentes dependiendo de la señal que se le pase primero"
   ]
  },
  {
   "cell_type": "code",
   "execution_count": 20,
   "metadata": {
    "collapsed": true
   },
   "outputs": [],
   "source": [
    "def multi_signal(s_A, s_B):\n",
    "    \"\"\"\n",
    "    dada dos señales s_A y s_B, se obtiene una multiseñal donde la\n",
    "    señal que predomina para la contrucción es s_A\n",
    "    \"\"\"\n",
    "    #saco los valores que si están en el mismo instante de tiempo\n",
    "    #se filtra la señal s_B por los indices que tiene s_A\n",
    "    values = s_B.filter(items=s_A.index, axis=0)\n",
    "    #inserto una columa llena de ceros para posteriormente colocar ahi los valores a utilizar\n",
    "    s_A.insert(loc=2, column=s_B.columns[0]+'new', value=np.zeros((s_A.shape[0],1)))\n",
    "    #llenamos con los datos\n",
    "    s_A.loc[values.index,s_B.columns[0]+'new'] = values.loc[values.index,values.columns[0]]\n",
    "    #llenamos los ceros\n",
    "    s_A.loc[s_A.loc[s_A.index,s_B.columns[0]+'new']==0, s_B.columns[0]+'new'] = s_A.loc[s_A.loc[s_A.index,s_B.columns[0]+'new']==0,s_A.columns[0]]\n",
    "    \n",
    "    return s_A"
   ]
  },
  {
   "cell_type": "code",
   "execution_count": null,
   "metadata": {
    "collapsed": true
   },
   "outputs": [],
   "source": []
  },
  {
   "cell_type": "code",
   "execution_count": null,
   "metadata": {
    "collapsed": true
   },
   "outputs": [],
   "source": []
  },
  {
   "cell_type": "code",
   "execution_count": null,
   "metadata": {
    "collapsed": true
   },
   "outputs": [],
   "source": []
  }
 ],
 "metadata": {
  "kernelspec": {
   "display_name": "Python 3",
   "language": "python",
   "name": "python3"
  },
  "language_info": {
   "codemirror_mode": {
    "name": "ipython",
    "version": 3
   },
   "file_extension": ".py",
   "mimetype": "text/x-python",
   "name": "python",
   "nbconvert_exporter": "python",
   "pygments_lexer": "ipython3",
   "version": "3.6.2"
  }
 },
 "nbformat": 4,
 "nbformat_minor": 2
}
