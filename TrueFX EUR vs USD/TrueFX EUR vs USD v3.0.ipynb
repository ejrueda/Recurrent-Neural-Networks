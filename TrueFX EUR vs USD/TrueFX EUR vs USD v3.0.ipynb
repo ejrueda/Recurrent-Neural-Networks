{
 "cells": [
  {
   "cell_type": "code",
   "execution_count": 3,
   "metadata": {
    "collapsed": true
   },
   "outputs": [],
   "source": [
    "import numpy as np\n",
    "import pandas as pd\n",
    "import bokeh.plotting as bp\n",
    "from bokeh.layouts import gridplot\n",
    "#bp.output_notebook()\n",
    "import matplotlib.pyplot as plt\n",
    "%matplotlib inline"
   ]
  },
  {
   "cell_type": "code",
   "execution_count": 4,
   "metadata": {},
   "outputs": [],
   "source": [
    "#Se lee la señal pre-procesada\\n\",\n",
    "data_set = pd.read_csv(\"../data/TrueFX/EUR-USD/datos_procesados_EURUSD-2018-01.csv\", parse_dates=True,\n",
    "                      infer_datetime_format=True, index_col=0)"
   ]
  },
  {
   "cell_type": "code",
   "execution_count": 5,
   "metadata": {},
   "outputs": [
    {
     "data": {
      "text/plain": [
       "(183535, 2)"
      ]
     },
     "execution_count": 5,
     "metadata": {},
     "output_type": "execute_result"
    }
   ],
   "source": [
    "data_set.shape"
   ]
  },
  {
   "cell_type": "code",
   "execution_count": 6,
   "metadata": {
    "scrolled": false
   },
   "outputs": [
    {
     "data": {
      "text/html": [
       "<div>\n",
       "<style>\n",
       "    .dataframe thead tr:only-child th {\n",
       "        text-align: right;\n",
       "    }\n",
       "\n",
       "    .dataframe thead th {\n",
       "        text-align: left;\n",
       "    }\n",
       "\n",
       "    .dataframe tbody tr th {\n",
       "        vertical-align: top;\n",
       "    }\n",
       "</style>\n",
       "<table border=\"1\" class=\"dataframe\">\n",
       "  <thead>\n",
       "    <tr style=\"text-align: right;\">\n",
       "      <th></th>\n",
       "      <th>bid</th>\n",
       "      <th>ask</th>\n",
       "    </tr>\n",
       "    <tr>\n",
       "      <th>date</th>\n",
       "      <th></th>\n",
       "      <th></th>\n",
       "    </tr>\n",
       "  </thead>\n",
       "  <tbody>\n",
       "    <tr>\n",
       "      <th>2018-01-01 23:58:00</th>\n",
       "      <td>1.20093</td>\n",
       "      <td>1.20115</td>\n",
       "    </tr>\n",
       "    <tr>\n",
       "      <th>2018-01-01 23:58:10</th>\n",
       "      <td>1.20093</td>\n",
       "      <td>1.20111</td>\n",
       "    </tr>\n",
       "    <tr>\n",
       "      <th>2018-01-01 23:58:20</th>\n",
       "      <td>1.20082</td>\n",
       "      <td>1.20111</td>\n",
       "    </tr>\n",
       "    <tr>\n",
       "      <th>2018-01-01 23:58:30</th>\n",
       "      <td>1.20043</td>\n",
       "      <td>1.20110</td>\n",
       "    </tr>\n",
       "    <tr>\n",
       "      <th>2018-01-01 23:58:50</th>\n",
       "      <td>1.20011</td>\n",
       "      <td>1.20113</td>\n",
       "    </tr>\n",
       "    <tr>\n",
       "      <th>2018-01-01 23:59:00</th>\n",
       "      <td>1.20015</td>\n",
       "      <td>1.20110</td>\n",
       "    </tr>\n",
       "    <tr>\n",
       "      <th>2018-01-01 23:59:10</th>\n",
       "      <td>1.20028</td>\n",
       "      <td>1.20110</td>\n",
       "    </tr>\n",
       "    <tr>\n",
       "      <th>2018-01-01 23:59:50</th>\n",
       "      <td>1.20015</td>\n",
       "      <td>1.20110</td>\n",
       "    </tr>\n",
       "    <tr>\n",
       "      <th>2018-01-02 00:00:40</th>\n",
       "      <td>1.20015</td>\n",
       "      <td>1.20105</td>\n",
       "    </tr>\n",
       "    <tr>\n",
       "      <th>2018-01-02 00:00:50</th>\n",
       "      <td>1.20030</td>\n",
       "      <td>1.20113</td>\n",
       "    </tr>\n",
       "  </tbody>\n",
       "</table>\n",
       "</div>"
      ],
      "text/plain": [
       "                         bid      ask\n",
       "date                                 \n",
       "2018-01-01 23:58:00  1.20093  1.20115\n",
       "2018-01-01 23:58:10  1.20093  1.20111\n",
       "2018-01-01 23:58:20  1.20082  1.20111\n",
       "2018-01-01 23:58:30  1.20043  1.20110\n",
       "2018-01-01 23:58:50  1.20011  1.20113\n",
       "2018-01-01 23:59:00  1.20015  1.20110\n",
       "2018-01-01 23:59:10  1.20028  1.20110\n",
       "2018-01-01 23:59:50  1.20015  1.20110\n",
       "2018-01-02 00:00:40  1.20015  1.20105\n",
       "2018-01-02 00:00:50  1.20030  1.20113"
      ]
     },
     "execution_count": 6,
     "metadata": {},
     "output_type": "execute_result"
    }
   ],
   "source": [
    "data_set[:10]"
   ]
  },
  {
   "cell_type": "code",
   "execution_count": 7,
   "metadata": {},
   "outputs": [
    {
     "data": {
      "text/plain": [
       "array([datetime.date(2018, 1, 1), datetime.date(2018, 1, 2),\n",
       "       datetime.date(2018, 1, 3), datetime.date(2018, 1, 4),\n",
       "       datetime.date(2018, 1, 5), datetime.date(2018, 1, 8),\n",
       "       datetime.date(2018, 1, 9), datetime.date(2018, 1, 10),\n",
       "       datetime.date(2018, 1, 11), datetime.date(2018, 1, 12),\n",
       "       datetime.date(2018, 1, 15), datetime.date(2018, 1, 16),\n",
       "       datetime.date(2018, 1, 17), datetime.date(2018, 1, 18),\n",
       "       datetime.date(2018, 1, 19), datetime.date(2018, 1, 22),\n",
       "       datetime.date(2018, 1, 23), datetime.date(2018, 1, 24),\n",
       "       datetime.date(2018, 1, 25), datetime.date(2018, 1, 26),\n",
       "       datetime.date(2018, 1, 29), datetime.date(2018, 1, 30),\n",
       "       datetime.date(2018, 1, 31)], dtype=object)"
      ]
     },
     "execution_count": 7,
     "metadata": {},
     "output_type": "execute_result"
    }
   ],
   "source": [
    "pd.unique(data_set.index.date)"
   ]
  },
  {
   "cell_type": "code",
   "execution_count": 8,
   "metadata": {},
   "outputs": [
    {
     "data": {
      "image/png": "[encoded data removed]",
      "text/plain": [
       "<matplotlib.figure.Figure at 0x7fc13c13d470>"
      ]
     },
     "metadata": {},
     "output_type": "display_data"
    }
   ],
   "source": [
    "plt.figure(figsize=(15,5))\n",
    "plt.title('Comportamiento del Bid')\n",
    "plt.xlabel('[t] en pulsaciones')\n",
    "plt.ylabel('EUR/USD')\n",
    "plt.plot(np.arange(data_set.shape[0]), data_set.iloc[:,0], alpha=1, color='#3383FF');"
   ]
  },
  {
   "cell_type": "code",
   "execution_count": 9,
   "metadata": {},
   "outputs": [
    {
     "data": {
      "image/png": "[encoded data removed]",
      "text/plain": [
       "<matplotlib.figure.Figure at 0x7fc13a37d5c0>"
      ]
     },
     "metadata": {},
     "output_type": "display_data"
    }
   ],
   "source": [
    "plt.figure(figsize=(15,5))\n",
    "plt.title('Comportamiento del Spread')\n",
    "plt.xlabel('[t] en pulsasiones')\n",
    "plt.ylabel('EUR/USD')\n",
    "plt.plot(np.arange(data_set.shape[0]), data_set.iloc[:,1] - data_set.iloc[:,0], alpha=1, color='green');"
   ]
  },
  {
   "cell_type": "code",
   "execution_count": 10,
   "metadata": {},
   "outputs": [
    {
     "name": "stdout",
     "output_type": "stream",
     "text": [
      "                   Bussines day - year, month, day\n",
      "\n",
      "[datetime.date(2018, 1, 1) datetime.date(2018, 1, 2)\n",
      " datetime.date(2018, 1, 3) datetime.date(2018, 1, 4)\n",
      " datetime.date(2018, 1, 5) datetime.date(2018, 1, 8)\n",
      " datetime.date(2018, 1, 9) datetime.date(2018, 1, 10)\n",
      " datetime.date(2018, 1, 11) datetime.date(2018, 1, 12)\n",
      " datetime.date(2018, 1, 15) datetime.date(2018, 1, 16)\n",
      " datetime.date(2018, 1, 17) datetime.date(2018, 1, 18)\n",
      " datetime.date(2018, 1, 19) datetime.date(2018, 1, 22)\n",
      " datetime.date(2018, 1, 23) datetime.date(2018, 1, 24)\n",
      " datetime.date(2018, 1, 25) datetime.date(2018, 1, 26)\n",
      " datetime.date(2018, 1, 29) datetime.date(2018, 1, 30)\n",
      " datetime.date(2018, 1, 31)]\n"
     ]
    }
   ],
   "source": [
    "print('                   Bussines day - year, month, day')\n",
    "print()\n",
    "print(pd.unique(data_set.index.date))"
   ]
  },
  {
   "cell_type": "markdown",
   "metadata": {},
   "source": [
    "#### Se crea un validation split\n",
    "el \"v_split\" se crea para entrenar y validar el rendimiento del estimador, esa función retorna un generador con los indices de los dias que se tomarán para entrenar y los dias a validar. Los parametros que ella recibe son los siguientes:\n",
    "\n",
    "   - X, que tiene que ser un dataframe indexado por fechas.\n",
    "   - n_bdtrain, un entero el cual representa los días que se utilizarán para entrenar.\n",
    "   - n_bdtest, un entero el cual representa los días que se utilizarán para validar.\n",
    "   - mday, entero que representa los días que se va corriendo  el estimador para validar."
   ]
  },
  {
   "cell_type": "code",
   "execution_count": 11,
   "metadata": {
    "collapsed": true
   },
   "outputs": [],
   "source": [
    "# Se crea un generador \"v_split\" para utilizar como método de validación cruzada\n",
    "def v_split(X, n_bdtrain, n_bdtest, mday):\n",
    "\n",
    "    \"\"\"\"\n",
    "    Hace un particionado del dataset, para tomar n_bdtrain días para entrenar\n",
    "    y n_bdtest para probar, además, mday representa el paso de día a correr.\n",
    "    X, dataframe, se necesita el indice de este para separar por días.\n",
    "    n_bdtrain, número de bussines day utilizados para train.\n",
    "    n_bdtest, número de bussines day utilizados para test.\n",
    "    mday, días a correr para cada validación.\n",
    "    \n",
    "    \"\"\"\n",
    "    from datetime import date\n",
    "    start_day = 0\n",
    "    \n",
    "    #Divide el data set según días de train, test y cuanto se va moviendo\n",
    "    bussines_day = []\n",
    "    dates = pd.unique(X.index.date) #saco las fechas para luego tomar solo año-mes-día\n",
    "\n",
    "    for i in dates: bussines_day.append(date.__format__(i,'%Y-%m-%d')) #lista de los bussines day\n",
    "    \n",
    "    intervals = []\n",
    "    count = 0\n",
    "    for i in bussines_day:\n",
    "        f = len(X[i])-1 +count\n",
    "        intervals.append([count,f])\n",
    "        count = f+1\n",
    "    \n",
    "    for i in range(len(intervals)-n_bdtrain):\n",
    "        yield(np.arange(intervals[start_day:start_day+n_bdtrain][0][0],\n",
    "                        intervals[start_day:start_day+n_bdtrain][n_bdtrain-1][1]+1),\n",
    "              np.arange(intervals[n_bdtrain+start_day:n_bdtrain+start_day+n_bdtest][0][0],\n",
    "                        intervals[n_bdtrain+start_day:n_bdtrain+start_day+n_bdtest][n_bdtest-1][1]+1))\n",
    "    \n",
    "        start_day += mday\n",
    "        if start_day+n_bdtest > len(intervals)-n_bdtrain:\n",
    "            break"
   ]
  },
  {
   "cell_type": "code",
   "execution_count": 12,
   "metadata": {},
   "outputs": [
    {
     "name": "stdout",
     "output_type": "stream",
     "text": [
      "train data & test data\n",
      "----------------------\n",
      "(array([    0,     1,     2, ..., 24640, 24641, 24642]), array([24643, 24644, 24645, ..., 32762, 32763, 32764]))\n",
      "(array([    8,     9,    10, ..., 32762, 32763, 32764]), array([32765, 32766, 32767, ..., 40857, 40858, 40859]))\n",
      "(array([ 8229,  8230,  8231, ..., 40857, 40858, 40859]), array([40860, 40861, 40862, ..., 48998, 48999, 49000]))\n",
      "(array([16415, 16416, 16417, ..., 48998, 48999, 49000]), array([49001, 49002, 49003, ..., 57255, 57256, 57257]))\n",
      "(array([24643, 24644, 24645, ..., 57255, 57256, 57257]), array([57258, 57259, 57260, ..., 65577, 65578, 65579]))\n",
      "(array([32765, 32766, 32767, ..., 65577, 65578, 65579]), array([65580, 65581, 65582, ..., 73916, 73917, 73918]))\n",
      "(array([40860, 40861, 40862, ..., 73916, 73917, 73918]), array([73919, 73920, 73921, ..., 82295, 82296, 82297]))\n",
      "(array([49001, 49002, 49003, ..., 82295, 82296, 82297]), array([82298, 82299, 82300, ..., 90585, 90586, 90587]))\n",
      "(array([57258, 57259, 57260, ..., 90585, 90586, 90587]), array([90588, 90589, 90590, ..., 99061, 99062, 99063]))\n",
      "(array([65580, 65581, 65582, ..., 99061, 99062, 99063]), array([ 99064,  99065,  99066, ..., 107517, 107518, 107519]))\n",
      "(array([ 73919,  73920,  73921, ..., 107517, 107518, 107519]), array([107520, 107521, 107522, ..., 115932, 115933, 115934]))\n",
      "(array([ 82298,  82299,  82300, ..., 115932, 115933, 115934]), array([115935, 115936, 115937, ..., 124307, 124308, 124309]))\n",
      "(array([ 90588,  90589,  90590, ..., 124307, 124308, 124309]), array([124310, 124311, 124312, ..., 132693, 132694, 132695]))\n",
      "(array([ 99064,  99065,  99066, ..., 132693, 132694, 132695]), array([132696, 132697, 132698, ..., 141121, 141122, 141123]))\n",
      "(array([107520, 107521, 107522, ..., 141121, 141122, 141123]), array([141124, 141125, 141126, ..., 149629, 149630, 149631]))\n",
      "(array([115935, 115936, 115937, ..., 149629, 149630, 149631]), array([149632, 149633, 149634, ..., 158110, 158111, 158112]))\n",
      "(array([124310, 124311, 124312, ..., 158110, 158111, 158112]), array([158113, 158114, 158115, ..., 166565, 166566, 166567]))\n",
      "(array([132696, 132697, 132698, ..., 166565, 166566, 166567]), array([166568, 166569, 166570, ..., 175034, 175035, 175036]))\n",
      "(array([141124, 141125, 141126, ..., 175034, 175035, 175036]), array([175037, 175038, 175039, ..., 183532, 183533, 183534]))\n"
     ]
    }
   ],
   "source": [
    "print(\"train data & test data\")\n",
    "print(\"----------------------\")\n",
    "for i in v_split(data_set,4,1,1):\n",
    "    print (i)"
   ]
  },
  {
   "cell_type": "markdown",
   "metadata": {},
   "source": [
    "#### Se crea una función para construir el dataset ####\n",
    "Con \"build_dataset\" lo que se quiere es que mediante la señal, un tamaño de ventana y otros parámetros que explicaré a continuación se genere el dataset como un dataframe indexado por sus fechas. Los parámetros de esta función son:\n",
    "\n",
    "   - signal, señal a procesar, tiene que ser un dataframe indexado por las fechas.\n",
    "   - window, tamaño de ventana a coger, este define las columnas del dataset.\n",
    "   - binary_target, por defecto es False, determina si se quiere el target binario de los datos, esto me permite trabajar con clasificación.\n",
    "   - delete_constant_values, por defecto es True, dado a que son datos que fluctuan poco, al momento de crear el dataset puede que para el target este se mantenga igual, que el precio no suba ni baje, por ende estos datos los elimino.\n",
    "   - PNL, por defecto es False, este agrega una columna al dataframe, la cual consiste en anotar la ganancia o perdida según si sube o baja el precio del mercado."
   ]
  },
  {
   "cell_type": "code",
   "execution_count": 13,
   "metadata": {
    "collapsed": true
   },
   "outputs": [],
   "source": [
    "# %load ../code/build_dataset.py\n",
    "def build_dataset(df, window, binary_target=False, delete_constant_values=True, PNL=False):\n",
    "    \"\"\"\n",
    "    función para construir un data set\n",
    "    window: tamaño de la ventana a utilizar para construir el dataset\n",
    "    df: dataframe, con columna bid y ask.\n",
    "    binary_target: si desea clasificar, este arroja 2 si el valor se mantiene,\n",
    "    1 si el valor sube y 0 si este baja.\n",
    "    delete_constant_values: default: True, elimina los valores que se mantienen\n",
    "    \n",
    "    retorna:\n",
    "    X: dataset, con columna de PNL si así se especifica(default: False)\n",
    "    y: target\n",
    "    bt: binary target, default: False\n",
    "    \"\"\"\n",
    "\n",
    "    import pandas as pd\n",
    "    import numpy as np\n",
    "    result = []\n",
    "    binary = [] #para la columna objetivo binaria\n",
    "    pnl_buy = [] #almacenar el pnl en caso de compra\n",
    "    pnl_sell = [] #almacenar el pnl en caso de venta\n",
    "    signal = df.bid\n",
    "    ask = df.ask\n",
    "    indx = signal.index[window-1:-1] #se toman los indicen que quedarán al final\n",
    "    for i in range(len(signal)-window):\n",
    "        \n",
    "        if delete_constant_values == True:\n",
    "            if signal[i+window] != signal[i+window-1]:\n",
    "\n",
    "                result.append(signal[i: i + window+1])\n",
    "                if PNL == True: \n",
    "                    pnl_sell.append(signal[i+window-1] - ask[i+window]) #calcular pnl en caso de venta-compra\n",
    "                    pnl_buy.append(signal[i+window] - ask[i+window-1]) #calcular pnl en caso de compra-venta\n",
    "                \n",
    "                if binary_target == True:\n",
    "                    if signal[i+window] < signal[i+window-1]: binary.append(0) # 0 si baja\n",
    "                    if signal[i+window] > signal[i+window-1]: binary.append(1) # 1 si sube\n",
    "                        \n",
    "            else: indx = indx.delete(len(result))\n",
    "                \n",
    "        else:\n",
    "\n",
    "            result.append(signal[i: i + window+1])\n",
    "            if PNL == True:\n",
    "                pnl_sell.append(signal[i+window-1] - ask[i+window]) #calcular pnl en caso de venta-compra\n",
    "                pnl_buy.append(signal[i+window] - ask[i+window-1]) #calcular pnl en caso de compra-venta\n",
    "            \n",
    "        if binary_target == True and delete_constant_values == False:\n",
    "            if signal[i+window] == signal[i+window-1]: binary.append(2) # 2 si se mantiene\n",
    "            if signal[i+window] < signal[i+window-1]: binary.append(0) # 1 si baja\n",
    "            if signal[i+window] > signal[i+window-1]: binary.append(1) # 0 si sube\n",
    "    \n",
    "    data = pd.DataFrame(np.array(result), index=indx)\n",
    "    y = np.array(data.iloc[:,window])\n",
    "    data = data.drop(window,axis=1)\n",
    "    if PNL == True:\n",
    "        data['PNL_0'] = pnl_sell\n",
    "        data['PNL_1'] = pnl_buy \n",
    "    if binary_target == True: return data, y, np.array(binary)\n",
    "    else: return data, y"
   ]
  },
  {
   "cell_type": "code",
   "execution_count": 14,
   "metadata": {},
   "outputs": [
    {
     "data": {
      "text/html": [
       "<div>\n",
       "<style>\n",
       "    .dataframe thead tr:only-child th {\n",
       "        text-align: right;\n",
       "    }\n",
       "\n",
       "    .dataframe thead th {\n",
       "        text-align: left;\n",
       "    }\n",
       "\n",
       "    .dataframe tbody tr th {\n",
       "        vertical-align: top;\n",
       "    }\n",
       "</style>\n",
       "<table border=\"1\" class=\"dataframe\">\n",
       "  <thead>\n",
       "    <tr style=\"text-align: right;\">\n",
       "      <th></th>\n",
       "      <th>bid</th>\n",
       "      <th>ask</th>\n",
       "    </tr>\n",
       "    <tr>\n",
       "      <th>date</th>\n",
       "      <th></th>\n",
       "      <th></th>\n",
       "    </tr>\n",
       "  </thead>\n",
       "  <tbody>\n",
       "    <tr>\n",
       "      <th>2018-01-01 23:58:00</th>\n",
       "      <td>1.20093</td>\n",
       "      <td>1.20115</td>\n",
       "    </tr>\n",
       "    <tr>\n",
       "      <th>2018-01-01 23:58:10</th>\n",
       "      <td>1.20093</td>\n",
       "      <td>1.20111</td>\n",
       "    </tr>\n",
       "    <tr>\n",
       "      <th>2018-01-01 23:58:20</th>\n",
       "      <td>1.20082</td>\n",
       "      <td>1.20111</td>\n",
       "    </tr>\n",
       "    <tr>\n",
       "      <th>2018-01-01 23:58:30</th>\n",
       "      <td>1.20043</td>\n",
       "      <td>1.20110</td>\n",
       "    </tr>\n",
       "    <tr>\n",
       "      <th>2018-01-01 23:58:50</th>\n",
       "      <td>1.20011</td>\n",
       "      <td>1.20113</td>\n",
       "    </tr>\n",
       "  </tbody>\n",
       "</table>\n",
       "</div>"
      ],
      "text/plain": [
       "                         bid      ask\n",
       "date                                 \n",
       "2018-01-01 23:58:00  1.20093  1.20115\n",
       "2018-01-01 23:58:10  1.20093  1.20111\n",
       "2018-01-01 23:58:20  1.20082  1.20111\n",
       "2018-01-01 23:58:30  1.20043  1.20110\n",
       "2018-01-01 23:58:50  1.20011  1.20113"
      ]
     },
     "execution_count": 14,
     "metadata": {},
     "output_type": "execute_result"
    }
   ],
   "source": [
    "data_set.head()"
   ]
  },
  {
   "cell_type": "markdown",
   "metadata": {},
   "source": [
    "#### Construyendo el dataset\n",
    "se prueba construyendo el dataset con una ventana de tamaño 3 ya que con esta es que se obtuvo mejores resultados."
   ]
  },
  {
   "cell_type": "code",
   "execution_count": 15,
   "metadata": {
    "collapsed": true
   },
   "outputs": [],
   "source": [
    "window = 3\n",
    "X, y_reg, bt = build_dataset(data_set, window, binary_target=True, delete_constant_values=True, PNL=True)"
   ]
  },
  {
   "cell_type": "code",
   "execution_count": 16,
   "metadata": {},
   "outputs": [
    {
     "data": {
      "text/plain": [
       "((156579, 5), (156579,), (156579,))"
      ]
     },
     "execution_count": 16,
     "metadata": {},
     "output_type": "execute_result"
    }
   ],
   "source": [
    "X.shape, bt.shape, y_reg.shape"
   ]
  },
  {
   "cell_type": "code",
   "execution_count": 17,
   "metadata": {},
   "outputs": [
    {
     "name": "stdout",
     "output_type": "stream",
     "text": [
      "[ 1.20043  1.20011  1.20015  1.20028  1.20015]\n",
      "[0 0 1 1 0]\n"
     ]
    }
   ],
   "source": [
    "print(y_reg[:5])\n",
    "print(bt[:5])"
   ]
  },
  {
   "cell_type": "markdown",
   "metadata": {},
   "source": [
    "Se utiliza cross_val_score pasandole el parámetro cv para la partición del dataset a la hora de entrenar y probrar, se utiliza la función score que este trae por defecto"
   ]
  },
  {
   "cell_type": "code",
   "execution_count": 17,
   "metadata": {},
   "outputs": [
    {
     "name": "stdout",
     "output_type": "stream",
     "text": [
      "train =  [    0     1     2 ..., 27017 27018 27019] test =  [27020 27021 27022 ..., 34030 34031 34032]\n",
      "train =  [ 6739  6740  6741 ..., 34030 34031 34032] test =  [34033 34034 34035 ..., 40565 40566 40567]\n",
      "train =  [13262 13263 13264 ..., 40565 40566 40567] test =  [40568 40569 40570 ..., 47252 47253 47254]\n",
      "train =  [20136 20137 20138 ..., 47252 47253 47254] test =  [47255 47256 47257 ..., 54247 54248 54249]\n",
      "train =  [27020 27021 27022 ..., 54247 54248 54249] test =  [54250 54251 54252 ..., 61143 61144 61145]\n",
      "train =  [34033 34034 34035 ..., 61143 61144 61145] test =  [61146 61147 61148 ..., 67863 67864 67865]\n",
      "train =  [40568 40569 40570 ..., 67863 67864 67865] test =  [67866 67867 67868 ..., 74494 74495 74496]\n",
      "train =  [47255 47256 47257 ..., 74494 74495 74496] test =  [74497 74498 74499 ..., 81695 81696 81697]\n",
      "train =  [54250 54251 54252 ..., 81695 81696 81697] test =  [81698 81699 81700 ..., 88440 88441 88442]\n",
      "train =  [61146 61147 61148 ..., 88440 88441 88442] test =  [88443 88444 88445 ..., 95536 95537 95538]\n",
      "train =  [67866 67867 67868 ..., 95536 95537 95538] test =  [ 95539  95540  95541 ..., 102590 102591 102592]\n",
      "train =  [ 74497  74498  74499 ..., 102590 102591 102592] test =  [102593 102594 102595 ..., 109422 109423 109424]\n",
      "train =  [ 81698  81699  81700 ..., 109422 109423 109424] test =  [109425 109426 109427 ..., 116485 116486 116487]\n",
      "train =  [ 88443  88444  88445 ..., 116485 116486 116487] test =  [116488 116489 116490 ..., 123604 123605 123606]\n",
      "train =  [ 95539  95540  95541 ..., 123604 123605 123606] test =  [123607 123608 123609 ..., 131000 131001 131002]\n",
      "train =  [102593 102594 102595 ..., 131000 131001 131002] test =  [131003 131004 131005 ..., 138164 138165 138166]\n",
      "train =  [109425 109426 109427 ..., 138164 138165 138166] test =  [138167 138168 138169 ..., 145282 145283 145284]\n",
      "train =  [116488 116489 116490 ..., 145282 145283 145284] test =  [145285 145286 145287 ..., 152440 152441 152442]\n",
      "train =  [123607 123608 123609 ..., 152440 152441 152442] test =  [152443 152444 152445 ..., 159644 159645 159646]\n",
      "train =  [131003 131004 131005 ..., 159644 159645 159646] test =  [159647 159648 159649 ..., 166733 166734 166735]\n",
      "train =  [138167 138168 138169 ..., 166733 166734 166735] test =  [166736 166737 166738 ..., 173794 173795 173796]\n",
      "train =  [145285 145286 145287 ..., 173794 173795 173796] test =  [173797 173798 173799 ..., 180709 180710 180711]\n",
      "train =  [152443 152444 152445 ..., 180709 180710 180711] test =  [180712 180713 180714 ..., 187855 187856 187857]\n",
      "train =  [159647 159648 159649 ..., 187855 187856 187857] test =  [187858 187859 187860 ..., 195281 195282 195283]\n",
      "train =  [166736 166737 166738 ..., 195281 195282 195283] test =  [195284 195285 195286 ..., 202482 202483 202484]\n",
      "train =  [173797 173798 173799 ..., 202482 202483 202484] test =  [202485 202486 202487 ..., 209651 209652 209653]\n",
      "train =  [180712 180713 180714 ..., 209651 209652 209653] test =  [209654 209655 209656 ..., 216873 216874 216875]\n",
      "train =  [187858 187859 187860 ..., 216873 216874 216875] test =  [216876 216877 216878 ..., 223963 223964 223965]\n",
      "train =  [195284 195285 195286 ..., 223963 223964 223965] test =  [223966 223967 223968 ..., 231051 231052 231053]\n",
      "train =  [202485 202486 202487 ..., 231051 231052 231053] test =  [231054 231055 231056 ..., 238394 238395 238396]\n",
      "train =  [209654 209655 209656 ..., 238394 238395 238396] test =  [238397 238398 238399 ..., 245669 245670 245671]\n",
      "train =  [216876 216877 216878 ..., 245669 245670 245671] test =  [245672 245673 245674 ..., 252656 252657 252658]\n",
      "train =  [223966 223967 223968 ..., 252656 252657 252658] test =  [252659 252660 252661 ..., 259578 259579 259580]\n",
      "train =  [231054 231055 231056 ..., 259578 259579 259580] test =  [259581 259582 259583 ..., 266571 266572 266573]\n",
      "train =  [238397 238398 238399 ..., 266571 266572 266573] test =  [266574 266575 266576 ..., 273374 273375 273376]\n",
      "train =  [245672 245673 245674 ..., 273374 273375 273376] test =  [273377 273378 273379 ..., 280326 280327 280328]\n",
      "train =  [252659 252660 252661 ..., 280326 280327 280328] test =  [280329 280330 280331 280332 280333 280334 280335 280336 280337 280338\n",
      " 280339 280340 280341 280342 280343 280344 280345 280346 280347 280348\n",
      " 280349 280350 280351 280352 280353 280354 280355 280356 280357 280358\n",
      " 280359 280360 280361 280362 280363 280364 280365 280366 280367 280368\n",
      " 280369 280370 280371 280372 280373 280374 280375 280376 280377 280378\n",
      " 280379 280380 280381 280382 280383 280384 280385 280386 280387 280388\n",
      " 280389 280390 280391 280392 280393 280394 280395 280396 280397 280398\n",
      " 280399 280400 280401 280402 280403 280404 280405 280406 280407 280408\n",
      " 280409 280410 280411 280412 280413 280414 280415 280416 280417 280418\n",
      " 280419 280420 280421 280422 280423 280424 280425 280426 280427 280428\n",
      " 280429 280430 280431 280432 280433 280434 280435 280436 280437 280438\n",
      " 280439 280440 280441 280442 280443 280444 280445 280446 280447 280448\n",
      " 280449 280450 280451 280452 280453 280454 280455 280456 280457 280458\n",
      " 280459 280460 280461 280462 280463 280464 280465 280466 280467 280468\n",
      " 280469 280470 280471 280472 280473 280474 280475 280476 280477 280478\n",
      " 280479 280480 280481 280482 280483 280484 280485 280486 280487 280488\n",
      " 280489 280490 280491 280492 280493 280494 280495 280496 280497 280498\n",
      " 280499 280500 280501 280502 280503 280504 280505 280506 280507 280508\n",
      " 280509 280510 280511 280512 280513 280514 280515 280516 280517 280518\n",
      " 280519 280520 280521 280522 280523 280524 280525 280526 280527 280528\n",
      " 280529 280530 280531 280532 280533 280534 280535 280536 280537 280538\n",
      " 280539 280540 280541 280542 280543 280544 280545 280546 280547 280548\n",
      " 280549 280550 280551 280552 280553 280554 280555 280556 280557 280558\n",
      " 280559 280560 280561 280562 280563 280564 280565 280566 280567 280568\n",
      " 280569 280570 280571 280572 280573 280574 280575 280576 280577 280578\n",
      " 280579 280580 280581 280582 280583 280584 280585 280586 280587 280588\n",
      " 280589 280590 280591 280592 280593 280594 280595 280596 280597 280598\n",
      " 280599 280600 280601 280602 280603 280604 280605 280606 280607 280608\n",
      " 280609 280610 280611 280612 280613 280614 280615 280616 280617 280618\n",
      " 280619 280620 280621 280622 280623 280624 280625 280626 280627 280628\n",
      " 280629 280630 280631 280632 280633 280634 280635 280636 280637 280638\n",
      " 280639 280640 280641 280642 280643 280644 280645 280646 280647 280648\n",
      " 280649 280650 280651 280652 280653 280654 280655 280656 280657 280658\n",
      " 280659 280660 280661 280662 280663 280664 280665 280666 280667 280668\n",
      " 280669 280670 280671 280672 280673 280674 280675 280676 280677 280678\n",
      " 280679 280680 280681 280682 280683 280684 280685 280686 280687 280688\n",
      " 280689 280690 280691 280692 280693 280694 280695 280696 280697 280698\n",
      " 280699 280700 280701 280702 280703 280704 280705 280706 280707 280708\n",
      " 280709 280710 280711 280712 280713 280714 280715 280716 280717 280718\n",
      " 280719 280720 280721 280722 280723 280724 280725 280726 280727 280728\n",
      " 280729 280730 280731 280732 280733 280734 280735 280736 280737 280738\n",
      " 280739 280740 280741 280742 280743 280744 280745 280746 280747 280748\n",
      " 280749 280750 280751 280752 280753 280754 280755 280756 280757 280758\n",
      " 280759 280760 280761 280762 280763 280764 280765 280766 280767 280768\n",
      " 280769 280770 280771 280772 280773 280774 280775 280776 280777 280778\n",
      " 280779 280780 280781 280782 280783 280784 280785 280786 280787 280788\n",
      " 280789 280790 280791 280792 280793 280794 280795 280796 280797 280798\n",
      " 280799 280800 280801 280802 280803 280804 280805 280806 280807 280808\n",
      " 280809 280810 280811 280812 280813 280814 280815 280816 280817 280818\n",
      " 280819 280820 280821 280822 280823 280824 280825 280826 280827 280828\n",
      " 280829 280830 280831 280832 280833 280834 280835 280836 280837 280838\n",
      " 280839 280840 280841 280842 280843 280844 280845 280846 280847 280848\n",
      " 280849 280850 280851 280852 280853 280854 280855 280856 280857 280858\n",
      " 280859 280860 280861 280862 280863 280864 280865 280866 280867 280868\n",
      " 280869 280870 280871 280872 280873 280874 280875 280876 280877 280878\n",
      " 280879 280880 280881 280882 280883 280884 280885 280886 280887 280888\n",
      " 280889 280890 280891 280892 280893 280894 280895 280896 280897 280898\n",
      " 280899 280900 280901 280902 280903 280904 280905 280906 280907 280908\n",
      " 280909 280910 280911 280912 280913 280914 280915 280916 280917 280918\n",
      " 280919 280920 280921 280922 280923 280924 280925 280926 280927 280928\n",
      " 280929 280930 280931 280932 280933 280934 280935 280936 280937 280938\n",
      " 280939 280940 280941 280942 280943 280944 280945 280946 280947 280948\n",
      " 280949 280950 280951 280952 280953 280954 280955 280956 280957 280958\n",
      " 280959 280960 280961 280962 280963 280964 280965 280966 280967 280968\n",
      " 280969 280970 280971 280972 280973 280974 280975 280976 280977 280978\n",
      " 280979 280980 280981 280982 280983 280984 280985 280986 280987 280988\n",
      " 280989 280990 280991 280992 280993 280994 280995 280996 280997 280998\n",
      " 280999 281000 281001 281002 281003 281004 281005 281006 281007 281008\n",
      " 281009 281010 281011 281012 281013 281014 281015 281016 281017 281018\n",
      " 281019 281020 281021 281022 281023 281024 281025 281026 281027 281028\n",
      " 281029 281030 281031 281032 281033 281034 281035 281036 281037 281038\n",
      " 281039 281040 281041 281042 281043 281044 281045 281046 281047 281048\n",
      " 281049 281050 281051 281052 281053 281054 281055 281056 281057 281058\n",
      " 281059 281060 281061 281062 281063 281064 281065 281066 281067 281068\n",
      " 281069 281070 281071 281072 281073 281074 281075 281076 281077 281078\n",
      " 281079 281080 281081 281082 281083 281084 281085 281086 281087 281088\n",
      " 281089 281090 281091 281092 281093 281094 281095 281096 281097 281098\n",
      " 281099 281100 281101 281102 281103 281104 281105 281106 281107 281108\n",
      " 281109 281110 281111 281112 281113 281114 281115 281116 281117 281118\n",
      " 281119 281120 281121 281122 281123 281124 281125 281126 281127 281128\n",
      " 281129 281130 281131 281132 281133 281134 281135 281136 281137 281138\n",
      " 281139 281140 281141 281142 281143 281144 281145 281146 281147 281148\n",
      " 281149 281150 281151 281152 281153 281154 281155 281156 281157 281158\n",
      " 281159 281160 281161 281162 281163 281164 281165 281166 281167 281168\n",
      " 281169 281170 281171 281172 281173 281174 281175 281176 281177 281178\n",
      " 281179 281180 281181 281182 281183 281184 281185 281186 281187 281188\n",
      " 281189 281190 281191 281192 281193 281194 281195 281196 281197 281198\n",
      " 281199 281200 281201 281202 281203 281204 281205 281206]\n",
      "train =  [259581 259582 259583 ..., 281204 281205 281206] test =  [281207 281208 281209 ..., 287725 287726 287727]\n",
      "train =  [266574 266575 266576 ..., 287725 287726 287727] test =  [287728 287729 287730 ..., 295093 295094 295095]\n",
      "train =  [273377 273378 273379 ..., 295093 295094 295095] test =  [295096 295097 295098 ..., 302451 302452 302453]\n",
      "train =  [280329 280330 280331 ..., 302451 302452 302453] test =  [302454 302455 302456 ..., 309598 309599 309600]\n",
      "train =  [281207 281208 281209 ..., 309598 309599 309600] test =  [309601 309602 309603 ..., 316683 316684 316685]\n",
      "train =  [287728 287729 287730 ..., 316683 316684 316685] test =  [316686 316687 316688 ..., 323913 323914 323915]\n",
      "train =  [295096 295097 295098 ..., 323913 323914 323915] test =  [323916 323917 323918 ..., 331139 331140 331141]\n",
      "train =  [302454 302455 302456 ..., 331139 331140 331141] test =  [331142 331143 331144 ..., 338398 338399 338400]\n",
      "train =  [309601 309602 309603 ..., 338398 338399 338400] test =  [338401 338402 338403 ..., 345803 345804 345805]\n",
      "train =  [316686 316687 316688 ..., 345803 345804 345805] test =  [345806 345807 345808 ..., 353010 353011 353012]\n",
      "train =  [323916 323917 323918 ..., 353010 353011 353012] test =  [353013 353014 353015 ..., 359444 359445 359446]\n",
      "train =  [331142 331143 331144 ..., 359444 359445 359446] test =  [359447 359448 359449 ..., 366601 366602 366603]\n",
      "train =  [338401 338402 338403 ..., 366601 366602 366603] test =  [366604 366605 366606 ..., 373876 373877 373878]\n"
     ]
    },
    {
     "name": "stdout",
     "output_type": "stream",
     "text": [
      "train =  [345806 345807 345808 ..., 373876 373877 373878] test =  [373879 373880 373881 ..., 381291 381292 381293]\n",
      "train =  [353013 353014 353015 ..., 381291 381292 381293] test =  [381294 381295 381296 ..., 388646 388647 388648]\n",
      "train =  [359447 359448 359449 ..., 388646 388647 388648] test =  [388649 388650 388651 ..., 396060 396061 396062]\n",
      "train =  [366604 366605 366606 ..., 396060 396061 396062] test =  [396063 396064 396065 ..., 403367 403368 403369]\n",
      "train =  [373879 373880 373881 ..., 403367 403368 403369] test =  [403370 403371 403372 ..., 410814 410815 410816]\n",
      "train =  [381294 381295 381296 ..., 410814 410815 410816] test =  [410817 410818 410819 ..., 418123 418124 418125]\n",
      "train =  [388649 388650 388651 ..., 418123 418124 418125] test =  [418126 418127 418128 ..., 425324 425325 425326]\n",
      "train =  [396063 396064 396065 ..., 425324 425325 425326] test =  [425327 425328 425329 ..., 432607 432608 432609]\n",
      "train =  [403370 403371 403372 ..., 432607 432608 432609] test =  [432610 432611 432612 ..., 440041 440042 440043]\n",
      "train =  [410817 410818 410819 ..., 440041 440042 440043] test =  [440044 440045 440046 ..., 447354 447355 447356]\n",
      "train =  [418126 418127 418128 ..., 447354 447355 447356] test =  [447357 447358 447359 ..., 454606 454607 454608]\n",
      "train =  [425327 425328 425329 ..., 454606 454607 454608] test =  [454609 454610 454611 ..., 461791 461792 461793]\n",
      "train =  [432610 432611 432612 ..., 461791 461792 461793] test =  [461794 461795 461796 ..., 469024 469025 469026]\n",
      "train =  [440044 440045 440046 ..., 469024 469025 469026] test =  [469027 469028 469029 ..., 476181 476182 476183]\n",
      "train =  [447357 447358 447359 ..., 476181 476182 476183] test =  [476184 476185 476186 ..., 483196 483197 483198]\n",
      "train =  [454609 454610 454611 ..., 483196 483197 483198] test =  [483199 483200 483201 ..., 490364 490365 490366]\n",
      "train =  [461794 461795 461796 ..., 490364 490365 490366] test =  [490367 490368 490369 ..., 497146 497147 497148]\n",
      "train =  [469027 469028 469029 ..., 497146 497147 497148] test =  [497149 497150 497151 ..., 504196 504197 504198]\n",
      "train =  [476184 476185 476186 ..., 504196 504197 504198] test =  [504199 504200 504201 ..., 511372 511373 511374]\n",
      "train =  [483199 483200 483201 ..., 511372 511373 511374] test =  [511375 511376 511377 ..., 518367 518368 518369]\n",
      "train =  [490367 490368 490369 ..., 518367 518368 518369] test =  [518370 518371 518372 ..., 525456 525457 525458]\n",
      "train =  [497149 497150 497151 ..., 525456 525457 525458] test =  [525459 525460 525461 ..., 532431 532432 532433]\n",
      "train =  [504199 504200 504201 ..., 532431 532432 532433] test =  [532434 532435 532436 ..., 539418 539419 539420]\n",
      "train =  [511375 511376 511377 ..., 539418 539419 539420] test =  [539421 539422 539423 ..., 546359 546360 546361]\n",
      "train =  [518370 518371 518372 ..., 546359 546360 546361] test =  [546362 546363 546364 ..., 553585 553586 553587]\n",
      "train =  [525459 525460 525461 ..., 553585 553586 553587] test =  [553588 553589 553590 ..., 560779 560780 560781]\n",
      "train =  [532434 532435 532436 ..., 560779 560780 560781] test =  [560782 560783 560784 ..., 567761 567762 567763]\n",
      "train =  [539421 539422 539423 ..., 567761 567762 567763] test =  [567764 567765 567766 ..., 574545 574546 574547]\n",
      "train =  [546362 546363 546364 ..., 574545 574546 574547] test =  [574548 574549 574550 ..., 581634 581635 581636]\n",
      "train =  [553588 553589 553590 ..., 581634 581635 581636] test =  [581637 581638 581639 ..., 588813 588814 588815]\n",
      "train =  [560782 560783 560784 ..., 588813 588814 588815] test =  [588816 588817 588818 ..., 596035 596036 596037]\n",
      "train =  [567764 567765 567766 ..., 596035 596036 596037] test =  [596038 596039 596040 ..., 603027 603028 603029]\n",
      "train =  [574548 574549 574550 ..., 603027 603028 603029] test =  [603030 603031 603032 ..., 609983 609984 609985]\n",
      "train =  [581637 581638 581639 ..., 609983 609984 609985] test =  [609986 609987 609988 ..., 616964 616965 616966]\n",
      "train =  [588816 588817 588818 ..., 616964 616965 616966] test =  [616967 616968 616969 ..., 624112 624113 624114]\n",
      "train =  [596038 596039 596040 ..., 624112 624113 624114] test =  [624115 624116 624117 ..., 630869 630870 630871]\n",
      "train =  [603030 603031 603032 ..., 630869 630870 630871] test =  [630872 630873 630874 ..., 637318 637319 637320]\n",
      "train =  [609986 609987 609988 ..., 637318 637319 637320] test =  [637321 637322 637323 ..., 644013 644014 644015]\n",
      "train =  [616967 616968 616969 ..., 644013 644014 644015] test =  [644016 644017 644018 ..., 650689 650690 650691]\n",
      "train =  [624115 624116 624117 ..., 650689 650690 650691] test =  [650692 650693 650694 ..., 657417 657418 657419]\n",
      "train =  [630872 630873 630874 ..., 657417 657418 657419] test =  [657420 657421 657422 ..., 663940 663941 663942]\n",
      "train =  [637321 637322 637323 ..., 663940 663941 663942] test =  [663943 663944 663945 ..., 670133 670134 670135]\n",
      "train =  [644016 644017 644018 ..., 670133 670134 670135] test =  [670136 670137 670138 ..., 676506 676507 676508]\n",
      "train =  [650692 650693 650694 ..., 676506 676507 676508] test =  [676509 676510 676511 ..., 683369 683370 683371]\n",
      "train =  [657420 657421 657422 ..., 683369 683370 683371] test =  [683372 683373 683374 ..., 690139 690140 690141]\n",
      "train =  [663943 663944 663945 ..., 690139 690140 690141] test =  [690142 690143 690144 ..., 697089 697090 697091]\n",
      "train =  [670136 670137 670138 ..., 697089 697090 697091] test =  [697092 697093 697094 ..., 703820 703821 703822]\n",
      "train =  [676509 676510 676511 ..., 703820 703821 703822] test =  [703823 703824 703825 ..., 710456 710457 710458]\n",
      "train =  [683372 683373 683374 ..., 710456 710457 710458] test =  [710459 710460 710461 ..., 717120 717121 717122]\n",
      "train =  [690142 690143 690144 ..., 717120 717121 717122] test =  [717123 717124 717125 ..., 723538 723539 723540]\n",
      "train =  [697092 697093 697094 ..., 723538 723539 723540] test =  [723541 723542 723543 ..., 729987 729988 729989]\n",
      "train =  [703823 703824 703825 ..., 729987 729988 729989] test =  [729990 729991 729992 ..., 736371 736372 736373]\n",
      "train =  [710459 710460 710461 ..., 736371 736372 736373] test =  [736374 736375 736376 ..., 743270 743271 743272]\n",
      "train =  [717123 717124 717125 ..., 743270 743271 743272] test =  [743273 743274 743275 ..., 750210 750211 750212]\n",
      "train =  [723541 723542 723543 ..., 750210 750211 750212] test =  [750213 750214 750215 ..., 757256 757257 757258]\n",
      "train =  [729990 729991 729992 ..., 757256 757257 757258] test =  [757259 757260 757261 ..., 764614 764615 764616]\n",
      "train =  [736374 736375 736376 ..., 764614 764615 764616] test =  [764617 764618 764619 ..., 771315 771316 771317]\n",
      "train =  [743273 743274 743275 ..., 771315 771316 771317] test =  [771318 771319 771320 ..., 778135 778136 778137]\n",
      "train =  [750213 750214 750215 ..., 778135 778136 778137] test =  [778138 778139 778140 ..., 784971 784972 784973]\n",
      "train =  [757259 757260 757261 ..., 784971 784972 784973] test =  [784974 784975 784976 ..., 791786 791787 791788]\n",
      "train =  [764617 764618 764619 ..., 791786 791787 791788] test =  [791789 791790 791791 ..., 798527 798528 798529]\n",
      "train =  [771318 771319 771320 ..., 798527 798528 798529] test =  [798530 798531 798532 ..., 804838 804839 804840]\n",
      "train =  [778138 778139 778140 ..., 804838 804839 804840] test =  [804841 804842 804843 ..., 811239 811240 811241]\n",
      "train =  [784974 784975 784976 ..., 811239 811240 811241] test =  [811242 811243 811244 ..., 817605 817606 817607]\n",
      "train =  [791789 791790 791791 ..., 817605 817606 817607] test =  [817608 817609 817610 ..., 824601 824602 824603]\n",
      "train =  [798530 798531 798532 ..., 824601 824602 824603] test =  [824604 824605 824606 ..., 831331 831332 831333]\n",
      "train =  [804841 804842 804843 ..., 831331 831332 831333] test =  [831334 831335 831336 ..., 837761 837762 837763]\n",
      "train =  [811242 811243 811244 ..., 837761 837762 837763] test =  [837764 837765 837766 ..., 844424 844425 844426]\n",
      "train =  [817608 817609 817610 ..., 844424 844425 844426] test =  [844427 844428 844429 ..., 851012 851013 851014]\n",
      "train =  [824604 824605 824606 ..., 851012 851013 851014] test =  [851015 851016 851017 ..., 857589 857590 857591]\n",
      "train =  [831334 831335 831336 ..., 857589 857590 857591] test =  [857592 857593 857594 ..., 864204 864205 864206]\n",
      "train =  [837764 837765 837766 ..., 864204 864205 864206] test =  [864207 864208 864209 864210 864211 864212 864213 864214 864215 864216\n",
      " 864217 864218 864219 864220 864221 864222 864223 864224 864225 864226\n",
      " 864227 864228 864229 864230 864231 864232 864233 864234 864235 864236\n",
      " 864237 864238 864239 864240 864241 864242 864243 864244 864245 864246\n",
      " 864247 864248 864249 864250 864251 864252 864253 864254 864255 864256\n",
      " 864257 864258 864259 864260 864261 864262 864263 864264 864265 864266\n",
      " 864267 864268 864269 864270 864271 864272 864273 864274 864275 864276\n",
      " 864277 864278 864279 864280 864281 864282 864283 864284 864285 864286\n",
      " 864287 864288 864289 864290 864291 864292 864293 864294 864295 864296\n",
      " 864297 864298 864299 864300 864301 864302 864303 864304 864305 864306\n",
      " 864307 864308 864309 864310 864311 864312 864313 864314 864315 864316\n",
      " 864317 864318 864319 864320 864321 864322 864323 864324 864325 864326\n",
      " 864327 864328 864329 864330 864331 864332 864333 864334 864335 864336\n",
      " 864337 864338 864339 864340 864341 864342 864343 864344 864345 864346\n",
      " 864347 864348 864349 864350 864351 864352 864353 864354 864355 864356\n",
      " 864357 864358 864359 864360 864361 864362 864363 864364 864365 864366\n",
      " 864367 864368 864369 864370 864371 864372 864373 864374 864375 864376\n",
      " 864377 864378 864379 864380 864381 864382 864383 864384 864385 864386\n",
      " 864387 864388 864389 864390 864391 864392 864393 864394 864395 864396\n",
      " 864397 864398 864399 864400 864401 864402 864403 864404 864405 864406\n",
      " 864407 864408 864409 864410 864411 864412 864413 864414 864415 864416\n",
      " 864417 864418 864419 864420 864421 864422 864423 864424 864425 864426\n",
      " 864427 864428 864429 864430 864431 864432 864433 864434 864435 864436\n",
      " 864437 864438 864439 864440 864441 864442 864443 864444 864445 864446\n",
      " 864447 864448 864449 864450 864451 864452 864453 864454 864455 864456\n",
      " 864457 864458 864459 864460 864461 864462 864463 864464 864465 864466\n",
      " 864467 864468 864469 864470 864471 864472 864473 864474 864475 864476\n",
      " 864477 864478 864479 864480 864481 864482 864483 864484 864485 864486\n",
      " 864487 864488 864489 864490 864491 864492 864493 864494 864495 864496\n",
      " 864497 864498 864499 864500 864501 864502 864503 864504 864505 864506\n",
      " 864507 864508 864509 864510 864511 864512 864513 864514 864515 864516\n",
      " 864517 864518 864519 864520 864521 864522 864523 864524 864525 864526\n",
      " 864527 864528 864529 864530 864531 864532 864533 864534 864535 864536\n",
      " 864537 864538 864539 864540 864541 864542 864543 864544 864545 864546\n",
      " 864547 864548 864549 864550 864551 864552 864553 864554 864555 864556\n",
      " 864557 864558 864559 864560 864561 864562 864563 864564 864565 864566\n",
      " 864567 864568 864569 864570 864571 864572 864573 864574 864575 864576\n",
      " 864577 864578 864579 864580 864581 864582 864583 864584 864585 864586\n",
      " 864587 864588 864589 864590 864591 864592 864593 864594 864595 864596\n",
      " 864597 864598 864599 864600 864601 864602 864603 864604 864605 864606\n",
      " 864607 864608 864609 864610 864611 864612 864613 864614 864615 864616\n",
      " 864617 864618 864619 864620 864621 864622 864623 864624 864625 864626\n",
      " 864627 864628 864629 864630 864631 864632 864633 864634 864635 864636\n",
      " 864637 864638 864639 864640 864641 864642 864643 864644 864645 864646\n",
      " 864647 864648 864649 864650 864651 864652 864653 864654 864655 864656\n",
      " 864657 864658 864659 864660 864661 864662 864663 864664 864665 864666\n",
      " 864667 864668 864669 864670 864671 864672 864673 864674 864675 864676\n",
      " 864677 864678 864679 864680 864681 864682 864683 864684 864685 864686\n",
      " 864687 864688 864689 864690 864691 864692 864693 864694 864695 864696\n",
      " 864697 864698 864699 864700 864701 864702 864703 864704 864705 864706\n",
      " 864707 864708 864709 864710 864711 864712 864713 864714 864715 864716\n",
      " 864717 864718 864719 864720 864721 864722 864723 864724 864725 864726\n",
      " 864727 864728 864729 864730 864731 864732 864733 864734 864735 864736\n",
      " 864737]\n",
      "train =  [844427 844428 844429 ..., 864735 864736 864737] test =  [864738 864739 864740 ..., 869617 869618 869619]\n",
      "train =  [851015 851016 851017 ..., 869617 869618 869619] test =  [869620 869621 869622 ..., 875833 875834 875835]\n",
      "train =  [857592 857593 857594 ..., 875833 875834 875835] test =  [875836 875837 875838 ..., 882108 882109 882110]\n",
      "train =  [864207 864208 864209 ..., 882108 882109 882110] test =  [882111 882112 882113 ..., 888309 888310 888311]\n",
      "\n",
      "[ 0.61799515  0.63121653  0.66726484  0.9698356   0.96693735  0.95952381\n",
      "  0.9357563   0.87043466  0.9135656   0.92446449  0.80422455  0.90998244\n",
      "  0.82755203  0.84070796  0.92942131  0.86460078  0.90053386  0.92917016\n",
      "  0.92712382  0.91606715  0.92593117  0.93130875  0.95801847  0.95421492\n",
      "  0.95736703  0.9549449   0.89130435  0.94287729  0.96303612  0.94430069\n",
      "  0.9580756   0.93802777  0.92328807  0.95295295  0.9072468   0.90722094\n",
      "  0.66970387  0.72212851  0.89332248  0.93775482  0.96865818  0.89188426\n",
      "  0.93665284  0.79629117  0.71001515  0.81782579  0.92507285  0.93425552\n",
      "  0.96283359  0.92041237  0.95266352  0.95173351  0.91205827  0.89229506\n",
      "  0.950047    0.96620605  0.8848771   0.8798572   0.91794458  0.90810885\n",
      "  0.95890789  0.95337509  0.93958247  0.95934051  0.95081967  0.96135603\n",
      "  0.93866116  0.92680851  0.93492196  0.95725518  0.92946819  0.92286738\n",
      "  0.91598683  0.93214234  0.85981179  0.93327773  0.95230593  0.95592571\n",
      "  0.96078431  0.9451177   0.97147605  0.92920481  0.91719379  0.92307692\n",
      "  0.91731953  0.91875092  0.95348116  0.97654966  0.97468544  0.9603151\n",
      "  0.97301855  0.96883578  0.9397458   0.97756083  0.95096012  0.97755396\n",
      "  0.97905215  0.97453285  0.96983794  0.91243378  0.94696852  0.97869674\n",
      "  0.98043195  0.98054755  0.97700823  0.98491438  0.97179525  0.97756598\n",
      "  0.96474547  0.97417461  0.97151758  0.96878466  0.96937978  0.96968269\n",
      "  0.93210406  0.96953938  0.97791602  0.95797689  0.94474803  0.97308803\n",
      "  0.96689342  0.73634652  0.51003687  0.50402188  0.50613546  0.51975488]\n",
      "\n",
      "score avg =  0.909429945397\n",
      "score std =  0.100627961109\n"
     ]
    }
   ],
   "source": [
    "from sklearn.model_selection import cross_val_score\n",
    "\n",
    "y = bt\n",
    "\n",
    "from sklearn.neighbors import KNeighborsClassifier\n",
    "from sklearn.naive_bayes import GaussianNB\n",
    "from sklearn.tree import DecisionTreeClassifier\n",
    "from sklearn.ensemble import RandomForestClassifier\n",
    "\n",
    "n_bdtrain = 4 #número de dias con los que se entrena\n",
    "n_bdtest = 1  #número de días con los que se hace el test\n",
    "move_day = 1  #número de días que se van corriendo\n",
    "\n",
    "vs = v_split(X,n_bdtrain,n_bdtest,move_day)\n",
    "k = GaussianNB()\n",
    "\n",
    "for train_index, test_index in vs:\n",
    "    print ('train = ',train_index, 'test = ',test_index)\n",
    "print()\n",
    "result = cross_val_score(k, X, y, cv=v_split(X, n_bdtrain, n_bdtest, move_day))\n",
    "\n",
    "print(result)\n",
    "print()\n",
    "print('score avg = ', np.mean(result))\n",
    "print('score std = ', np.std(result))"
   ]
  },
  {
   "cell_type": "markdown",
   "metadata": {},
   "source": [
    "se crea la clase PNLEstimatorWrapper para crear nuestra propia función score y así retornar nuestros diferentes tipos de score"
   ]
  },
  {
   "cell_type": "code",
   "execution_count": 18,
   "metadata": {
    "collapsed": true
   },
   "outputs": [],
   "source": [
    "# %load ../code/PNLEstimatorWrapper.py\n",
    "import pandas as pd\n",
    "import numpy as np\n",
    "class PNLEstimatorWrapper:\n",
    "    \n",
    "    def __init__(self, estimator, PNL_column, exclude_PNL_column_from_training=True):\n",
    "        self.estimator = estimator\n",
    "        self.PNL_column = PNL_column\n",
    "        self.exclude_PNL_column_from_training = exclude_PNL_column_from_training\n",
    "        \n",
    "    def fit(self, X, y):\n",
    "        assert 'PNL_1' and 'PNL_0' in X.columns, \"column \"+self.PNL_column+\" not in X dataframe\"\n",
    "        if self.exclude_PNL_column_from_training:\n",
    "            X = X[[col for col in X.columns if col!=self.PNL_column[0] and col!=self.PNL_column[1]]]\n",
    "        self.estimator.fit(X,y)\n",
    "        \n",
    "    def predict(self, X):\n",
    "        assert 'PNL_1' and 'PNL_0' in X.columns, \"column \"+self.PNL_column+\" not in X dataframe\"\n",
    "        if self.exclude_PNL_column_from_training:\n",
    "            X = X[[col for col in X.columns if col!=self.PNL_column[0] and col!=self.PNL_column[1]]]\n",
    "        return self.estimator.predict(X)\n",
    "    \n",
    "    def score(self, X, y):\n",
    "        pnl_1 = X[self.PNL_column[0]]\n",
    "        pnl_0 = X[self.PNL_column[1]]\n",
    "        pre = self.predict(X)\n",
    "        r = sum((pre==1)*pnl_1 + (pre==0)*pnl_0)\n",
    "        sell = sum((pre==0)*1)\n",
    "        buy = sum((pre==1)*1)\n",
    "        \n",
    "        count_ones, count_zeros = 0,0\n",
    "        l_one, l_zero = [],[]\n",
    "        for i in pre:\n",
    "            if i==1:\n",
    "                l_zero.append(count_zeros)\n",
    "                count_zeros = 0\n",
    "                count_ones += 1\n",
    "            else:\n",
    "                l_one.append(count_ones)\n",
    "                count_zeros += 1\n",
    "                count_ones = 0\n",
    "        l_zero.append(count_zeros)\n",
    "        l_one.append(count_ones)\n",
    "        \n",
    "        #return np.array([r,buy,sell,max(l_one),max(l_zero)])\n",
    "        return np.array([r,buy,sell,max(l_one),max(l_zero)]), pre\n",
    "        \n",
    "    def get_params(self, deep=False):\n",
    "        return {\"PNL_column\": self.PNL_column,\n",
    "                \"exclude_PNL_column_from_training\": self.exclude_PNL_column_from_training,\n",
    "                \"estimator\": self.estimator}"
   ]
  },
  {
   "cell_type": "markdown",
   "metadata": {},
   "source": [
    "#### creando la función step_validation\n",
    "esta función me recibe el estimador en el cual va implicita la clase PNLEstimatorWrapper, lo que hace es coger el generador \"v_split\" para aplicarlo con el estimador y así validar los datos.\n"
   ]
  },
  {
   "cell_type": "code",
   "execution_count": 19,
   "metadata": {
    "collapsed": true
   },
   "outputs": [],
   "source": [
    "def step_validation(estimator, X, y, cv):\n",
    "    '''\n",
    "    Recibe el estimador,X,y, y un generador cv con el cual hace la validación\n",
    "    dependiendo que la configuración que este tenga\n",
    "    '''\n",
    "    result = []\n",
    "    for index in cv:\n",
    "        estimator.fit(X.iloc[index[0]], y[index[0]])\n",
    "        result.append(estimator.score(X.iloc[index[1]], y[index[1]]))\n",
    "    return np.array(result)"
   ]
  },
  {
   "cell_type": "markdown",
   "metadata": {},
   "source": [
    "Debido a que la función score arroja un vector que en cada posición tiene un vector con datos del PNL y otro con las predicciones, se hace necesario crear una función llamada \"redim\" para tratar esta salida y poder separar los datos del PNL y los del predict."
   ]
  },
  {
   "cell_type": "code",
   "execution_count": 20,
   "metadata": {
    "collapsed": true
   },
   "outputs": [],
   "source": [
    "def redim(signal):\n",
    "    '''\n",
    "    recibe un array plano el cual convierte en dos salidas,\n",
    "    en una de estas se encuentran los resultados pertinentes\n",
    "    a medir con el PNL y en el otro las predicciones.\n",
    "    '''\n",
    "    result = signal[:,0][0]\n",
    "    predict = np.array(signal[:,1][0],dtype=np.float16)\n",
    "    for i in range(1,len(signal)):\n",
    "        result = np.concatenate((result,signal[:,0][i]))\n",
    "        predict = np.concatenate((predict,signal[:,1][i]))\n",
    "    result = result.reshape((len(signal),signal[:,0][0].shape[0]))\n",
    "    return result, predict"
   ]
  },
  {
   "cell_type": "code",
   "execution_count": 21,
   "metadata": {},
   "outputs": [
    {
     "data": {
      "text/html": [
       "<div>\n",
       "<style>\n",
       "    .dataframe thead tr:only-child th {\n",
       "        text-align: right;\n",
       "    }\n",
       "\n",
       "    .dataframe thead th {\n",
       "        text-align: left;\n",
       "    }\n",
       "\n",
       "    .dataframe tbody tr th {\n",
       "        vertical-align: top;\n",
       "    }\n",
       "</style>\n",
       "<table border=\"1\" class=\"dataframe\">\n",
       "  <thead>\n",
       "    <tr style=\"text-align: right;\">\n",
       "      <th></th>\n",
       "      <th>0</th>\n",
       "      <th>1</th>\n",
       "      <th>2</th>\n",
       "      <th>PNL_0</th>\n",
       "      <th>PNL_1</th>\n",
       "    </tr>\n",
       "    <tr>\n",
       "      <th>date</th>\n",
       "      <th></th>\n",
       "      <th></th>\n",
       "      <th></th>\n",
       "      <th></th>\n",
       "      <th></th>\n",
       "    </tr>\n",
       "  </thead>\n",
       "  <tbody>\n",
       "    <tr>\n",
       "      <th>2018-01-01 23:58:20</th>\n",
       "      <td>1.20093</td>\n",
       "      <td>1.20093</td>\n",
       "      <td>1.20082</td>\n",
       "      <td>-0.00028</td>\n",
       "      <td>-0.00068</td>\n",
       "    </tr>\n",
       "    <tr>\n",
       "      <th>2018-01-01 23:58:30</th>\n",
       "      <td>1.20093</td>\n",
       "      <td>1.20082</td>\n",
       "      <td>1.20043</td>\n",
       "      <td>-0.00070</td>\n",
       "      <td>-0.00099</td>\n",
       "    </tr>\n",
       "    <tr>\n",
       "      <th>2018-01-01 23:58:50</th>\n",
       "      <td>1.20082</td>\n",
       "      <td>1.20043</td>\n",
       "      <td>1.20011</td>\n",
       "      <td>-0.00099</td>\n",
       "      <td>-0.00098</td>\n",
       "    </tr>\n",
       "    <tr>\n",
       "      <th>2018-01-01 23:59:00</th>\n",
       "      <td>1.20043</td>\n",
       "      <td>1.20011</td>\n",
       "      <td>1.20015</td>\n",
       "      <td>-0.00095</td>\n",
       "      <td>-0.00082</td>\n",
       "    </tr>\n",
       "    <tr>\n",
       "      <th>2018-01-01 23:59:10</th>\n",
       "      <td>1.20011</td>\n",
       "      <td>1.20015</td>\n",
       "      <td>1.20028</td>\n",
       "      <td>-0.00082</td>\n",
       "      <td>-0.00095</td>\n",
       "    </tr>\n",
       "  </tbody>\n",
       "</table>\n",
       "</div>"
      ],
      "text/plain": [
       "                           0        1        2    PNL_0    PNL_1\n",
       "date                                                            \n",
       "2018-01-01 23:58:20  1.20093  1.20093  1.20082 -0.00028 -0.00068\n",
       "2018-01-01 23:58:30  1.20093  1.20082  1.20043 -0.00070 -0.00099\n",
       "2018-01-01 23:58:50  1.20082  1.20043  1.20011 -0.00099 -0.00098\n",
       "2018-01-01 23:59:00  1.20043  1.20011  1.20015 -0.00095 -0.00082\n",
       "2018-01-01 23:59:10  1.20011  1.20015  1.20028 -0.00082 -0.00095"
      ]
     },
     "execution_count": 21,
     "metadata": {},
     "output_type": "execute_result"
    }
   ],
   "source": [
    "X.head()"
   ]
  },
  {
   "cell_type": "code",
   "execution_count": 22,
   "metadata": {},
   "outputs": [
    {
     "data": {
      "text/plain": [
       "array([ 1.20043,  1.20011,  1.20015,  1.20028,  1.20015])"
      ]
     },
     "execution_count": 22,
     "metadata": {},
     "output_type": "execute_result"
    }
   ],
   "source": [
    "y_reg[:5]"
   ]
  },
  {
   "cell_type": "code",
   "execution_count": 23,
   "metadata": {
    "collapsed": true
   },
   "outputs": [],
   "source": [
    "# se muestrea la señal a predecir por cada hora para colocar con los buy y sell por dia.\n",
    "signal_sample = (X.resample('1h',loffset='h').last()).iloc[:,2][1:]"
   ]
  },
  {
   "cell_type": "code",
   "execution_count": 24,
   "metadata": {},
   "outputs": [
    {
     "data": {
      "text/plain": [
       "(720,)"
      ]
     },
     "execution_count": 24,
     "metadata": {},
     "output_type": "execute_result"
    }
   ],
   "source": [
    "signal_sample.shape"
   ]
  },
  {
   "cell_type": "code",
   "execution_count": 25,
   "metadata": {},
   "outputs": [
    {
     "data": {
      "text/plain": [
       "date\n",
       "2018-01-02 01:00:00    1.20057\n",
       "2018-01-02 02:00:00    1.20092\n",
       "2018-01-02 03:00:00    1.20170\n",
       "2018-01-02 04:00:00    1.20161\n",
       "2018-01-02 05:00:00    1.20097\n",
       "Freq: H, Name: 2, dtype: float64"
      ]
     },
     "execution_count": 25,
     "metadata": {},
     "output_type": "execute_result"
    }
   ],
   "source": [
    "signal_sample.head()"
   ]
  },
  {
   "cell_type": "markdown",
   "metadata": {},
   "source": [
    "Se prueba con un GaussianNB para ver su rendimiento, esto teniendo cuenta que solo es con un mes de datos"
   ]
  },
  {
   "cell_type": "code",
   "execution_count": 30,
   "metadata": {},
   "outputs": [
    {
     "name": "stdout",
     "output_type": "stream",
     "text": [
      "--------- GaussianNB ----------------\n",
      "average PNL :  -0.270086842105\n",
      "average buy:  1753.05263158\n",
      "average sell:  5455.52631579\n",
      "-------------------------------------\n",
      "                PNL    buys   sells  longest_buys  longest_sells\n",
      "2018-01-05 -0.22388   125.0  6333.0          86.0         4331.0\n",
      "2018-01-08 -0.23485  5370.0  1144.0        5088.0          939.0\n",
      "2018-01-09 -0.21759  6655.0     0.0        6655.0            0.0\n",
      "2018-01-10 -0.24520     0.0  7020.0           0.0         7020.0\n",
      "2018-01-11 -0.25744     0.0  7112.0           0.0         7112.0\n",
      "2018-01-12 -0.28993     0.0  7093.0           0.0         7093.0\n",
      "2018-01-15 -0.28936  7099.0     0.0        7099.0            0.0\n",
      "2018-01-16 -0.25366     0.0  7122.0           0.0         7122.0\n",
      "2018-01-17 -0.28687     0.0  7539.0           0.0         7539.0\n",
      "2018-01-18 -0.27218  3525.0  3833.0        2993.0         3694.0\n",
      "2018-01-19 -0.27293   936.0  6375.0         322.0         5501.0\n",
      "2018-01-22 -0.25306  1564.0  5587.0         752.0         2844.0\n",
      "2018-01-23 -0.25535    41.0  7139.0          27.0         4122.0\n",
      "2018-01-24 -0.27443     0.0  7471.0           0.0         7471.0\n",
      "2018-01-25 -0.33001   250.0  7469.0          64.0         5037.0\n",
      "2018-01-26 -0.34038     0.0  7619.0           0.0         7619.0\n",
      "2018-01-29 -0.28478   305.0  7146.0          95.0         5176.0\n",
      "2018-01-30 -0.26259  5526.0  1960.0        3771.0          889.0\n",
      "2018-01-31 -0.28716  1912.0  5693.0         598.0         4809.0\n"
     ]
    }
   ],
   "source": [
    "from sklearn.naive_bayes import GaussianNB\n",
    "    \n",
    "est_GNB = PNLEstimatorWrapper(GaussianNB(), PNL_column=['PNL_1','PNL_0'])\n",
    "y = bt\n",
    "n_bdtrain = 4\n",
    "n_bdtest = 1\n",
    "move_day = 1\n",
    "#para indexar los resultados del dataframe\n",
    "dates = pd.unique(X.index.date)[n_bdtrain:]\n",
    "result_GNB = step_validation(est_GNB, X, y, v_split(X,n_bdtrain,n_bdtest,move_day))\n",
    "result_GNB, predict_GNB = redim(result_GNB)\n",
    "print('--------- GaussianNB ----------------')\n",
    "print('average PNL : ', np.mean(result_GNB[:,0]))\n",
    "print('average buy: ', np.mean(result_GNB[:,1]))\n",
    "print('average sell: ', np.mean(result_GNB[:,2]))\n",
    "print('-------------------------------------')\n",
    "df_GNB = pd.DataFrame(result_GNB, columns=list(['PNL','buys','sells','longest_buys','longest_sells']), index=dates)\n",
    "print(df_GNB)\n",
    "df_GNB.to_csv('../resultados/TrueFX/EUR-USD/GaussianNB/pnl_GNB_wsize3_2018-01.csv')"
   ]
  },
  {
   "cell_type": "code",
   "execution_count": 31,
   "metadata": {},
   "outputs": [
    {
     "data": {
      "text/plain": [
       "-0.27008684210526751"
      ]
     },
     "execution_count": 31,
     "metadata": {},
     "output_type": "execute_result"
    }
   ],
   "source": [
    "np.mean(result_GNB[:,0])"
   ]
  },
  {
   "cell_type": "code",
   "execution_count": 32,
   "metadata": {},
   "outputs": [
    {
     "data": {
      "text/plain": [
       "(7099.0, 7619.0)"
      ]
     },
     "execution_count": 32,
     "metadata": {},
     "output_type": "execute_result"
    }
   ],
   "source": [
    "max(df_GNB.iloc[:,3]), max(df_GNB.iloc[:,4])"
   ]
  },
  {
   "cell_type": "markdown",
   "metadata": {},
   "source": [
    "### Se pintarán las ventas en color rojo y las compras en color verde!"
   ]
  },
  {
   "cell_type": "markdown",
   "metadata": {},
   "source": [
    "para poder graficar la señal original con las predicciones, hay que tener en cuenta que los primeros 4 días que se eligieron anteriormente en la variable \"n_bdtrain\" se deben omitir."
   ]
  },
  {
   "cell_type": "code",
   "execution_count": 33,
   "metadata": {
    "collapsed": true
   },
   "outputs": [],
   "source": [
    "firts_4bd = 19616 #primeros 4 días"
   ]
  },
  {
   "cell_type": "markdown",
   "metadata": {},
   "source": [
    "el vector de predicción tiene el mismo tamaño que el vector de target, teniendo en cuenta que este empieza después de los 4 días que tenemos para entrenar desde un principio"
   ]
  },
  {
   "cell_type": "code",
   "execution_count": 34,
   "metadata": {},
   "outputs": [
    {
     "data": {
      "text/plain": [
       "(136963, 136963)"
      ]
     },
     "execution_count": 34,
     "metadata": {},
     "output_type": "execute_result"
    }
   ],
   "source": [
    "len(predict_GNB),len(y)- firts_4bd"
   ]
  },
  {
   "cell_type": "code",
   "execution_count": 35,
   "metadata": {},
   "outputs": [
    {
     "data": {
      "text/plain": [
       "array([ 1.20043,  1.20011,  1.20015,  1.20028,  1.20015])"
      ]
     },
     "execution_count": 35,
     "metadata": {},
     "output_type": "execute_result"
    }
   ],
   "source": [
    "y_reg[:5]"
   ]
  },
  {
   "cell_type": "code",
   "execution_count": 36,
   "metadata": {},
   "outputs": [
    {
     "data": {
      "text/plain": [
       "(array([0, 0, 1, 1, 0]), array([ 0.,  0.,  0.,  0.,  0.]))"
      ]
     },
     "execution_count": 36,
     "metadata": {},
     "output_type": "execute_result"
    }
   ],
   "source": [
    "bt[:5], predict_GNB[:5]"
   ]
  },
  {
   "cell_type": "code",
   "execution_count": 37,
   "metadata": {},
   "outputs": [
    {
     "data": {
      "text/html": [
       "<div>\n",
       "<style>\n",
       "    .dataframe thead tr:only-child th {\n",
       "        text-align: right;\n",
       "    }\n",
       "\n",
       "    .dataframe thead th {\n",
       "        text-align: left;\n",
       "    }\n",
       "\n",
       "    .dataframe tbody tr th {\n",
       "        vertical-align: top;\n",
       "    }\n",
       "</style>\n",
       "<table border=\"1\" class=\"dataframe\">\n",
       "  <thead>\n",
       "    <tr style=\"text-align: right;\">\n",
       "      <th></th>\n",
       "      <th>0</th>\n",
       "      <th>1</th>\n",
       "      <th>2</th>\n",
       "      <th>PNL_0</th>\n",
       "      <th>PNL_1</th>\n",
       "    </tr>\n",
       "    <tr>\n",
       "      <th>date</th>\n",
       "      <th></th>\n",
       "      <th></th>\n",
       "      <th></th>\n",
       "      <th></th>\n",
       "      <th></th>\n",
       "    </tr>\n",
       "  </thead>\n",
       "  <tbody>\n",
       "    <tr>\n",
       "      <th>2018-01-01 23:58:20</th>\n",
       "      <td>1.20093</td>\n",
       "      <td>1.20093</td>\n",
       "      <td>1.20082</td>\n",
       "      <td>-0.00028</td>\n",
       "      <td>-0.00068</td>\n",
       "    </tr>\n",
       "    <tr>\n",
       "      <th>2018-01-01 23:58:30</th>\n",
       "      <td>1.20093</td>\n",
       "      <td>1.20082</td>\n",
       "      <td>1.20043</td>\n",
       "      <td>-0.00070</td>\n",
       "      <td>-0.00099</td>\n",
       "    </tr>\n",
       "    <tr>\n",
       "      <th>2018-01-01 23:58:50</th>\n",
       "      <td>1.20082</td>\n",
       "      <td>1.20043</td>\n",
       "      <td>1.20011</td>\n",
       "      <td>-0.00099</td>\n",
       "      <td>-0.00098</td>\n",
       "    </tr>\n",
       "    <tr>\n",
       "      <th>2018-01-01 23:59:00</th>\n",
       "      <td>1.20043</td>\n",
       "      <td>1.20011</td>\n",
       "      <td>1.20015</td>\n",
       "      <td>-0.00095</td>\n",
       "      <td>-0.00082</td>\n",
       "    </tr>\n",
       "    <tr>\n",
       "      <th>2018-01-01 23:59:10</th>\n",
       "      <td>1.20011</td>\n",
       "      <td>1.20015</td>\n",
       "      <td>1.20028</td>\n",
       "      <td>-0.00082</td>\n",
       "      <td>-0.00095</td>\n",
       "    </tr>\n",
       "    <tr>\n",
       "      <th>2018-01-02 00:00:40</th>\n",
       "      <td>1.20028</td>\n",
       "      <td>1.20015</td>\n",
       "      <td>1.20015</td>\n",
       "      <td>-0.00098</td>\n",
       "      <td>-0.00075</td>\n",
       "    </tr>\n",
       "  </tbody>\n",
       "</table>\n",
       "</div>"
      ],
      "text/plain": [
       "                           0        1        2    PNL_0    PNL_1\n",
       "date                                                            \n",
       "2018-01-01 23:58:20  1.20093  1.20093  1.20082 -0.00028 -0.00068\n",
       "2018-01-01 23:58:30  1.20093  1.20082  1.20043 -0.00070 -0.00099\n",
       "2018-01-01 23:58:50  1.20082  1.20043  1.20011 -0.00099 -0.00098\n",
       "2018-01-01 23:59:00  1.20043  1.20011  1.20015 -0.00095 -0.00082\n",
       "2018-01-01 23:59:10  1.20011  1.20015  1.20028 -0.00082 -0.00095\n",
       "2018-01-02 00:00:40  1.20028  1.20015  1.20015 -0.00098 -0.00075"
      ]
     },
     "execution_count": 37,
     "metadata": {},
     "output_type": "execute_result"
    }
   ],
   "source": [
    "X.iloc[:6]"
   ]
  },
  {
   "cell_type": "code",
   "execution_count": 38,
   "metadata": {},
   "outputs": [
    {
     "data": {
      "text/plain": [
       "((156579,), (156579, 5))"
      ]
     },
     "execution_count": 38,
     "metadata": {},
     "output_type": "execute_result"
    }
   ],
   "source": [
    "y_reg.shape, X.shape"
   ]
  },
  {
   "cell_type": "markdown",
   "metadata": {
    "collapsed": true
   },
   "source": [
    "Como para el target se empieza del segundo valor de la fila X, es decir, el primer valor de la señal no tiene una predicción ya que no tiene un valor anterior para ser comparado, por esto se coge la señal \"y_reg\" y no se toma el último valor ya que este no tiene predicción"
   ]
  },
  {
   "cell_type": "code",
   "execution_count": 39,
   "metadata": {},
   "outputs": [
    {
     "name": "stdout",
     "output_type": "stream",
     "text": [
      "(136963,)\n",
      "(136963,)\n",
      "(136963,)\n",
      "(136963,)\n"
     ]
    }
   ],
   "source": [
    "#para graficar las compras acertadas sobre la señal original\n",
    "buy_GNB_ok = ((predict_GNB==bt[firts_4bd:])&(predict_GNB==1))*y_reg[firts_4bd-1:-1]\n",
    "buy_GNB_ok[buy_GNB_ok==0] = np.nan \n",
    "print (buy_GNB_ok.shape)\n",
    "#para graficar las ventas acertadas sobre la señal original\n",
    "sell_GNB_ok = ((predict_GNB==bt[firts_4bd:])&(predict_GNB==0))*y_reg[firts_4bd-1:-1]\n",
    "sell_GNB_ok[sell_GNB_ok==0] = np.nan\n",
    "print (sell_GNB_ok.shape)\n",
    "\n",
    "#para graficar las compras fallidas sobre la señal original\n",
    "buy_GNB_mal = ((predict_GNB!=bt[firts_4bd:])&(predict_GNB==1))*y_reg[firts_4bd-1:-1]\n",
    "buy_GNB_mal[buy_GNB_mal==0] = np.nan \n",
    "print (buy_GNB_mal.shape)\n",
    "#para graficar las ventas fallidas sobre la señal original\n",
    "sell_GNB_mal = ((predict_GNB!=bt[firts_4bd:])&(predict_GNB==0))*y_reg[firts_4bd-1:-1]\n",
    "sell_GNB_mal[sell_GNB_mal==0] = np.nan\n",
    "print (sell_GNB_mal.shape)"
   ]
  },
  {
   "cell_type": "code",
   "execution_count": 40,
   "metadata": {
    "collapsed": true
   },
   "outputs": [],
   "source": [
    "#dates = np.unique(X.index.date) #para graficar el numero de ventas y compras por dia\n",
    "x_axis = X.index[firts_4bd:] #para graficar los resultados por datetime"
   ]
  },
  {
   "cell_type": "code",
   "execution_count": 41,
   "metadata": {},
   "outputs": [
    {
     "data": {
      "text/plain": [
       "((136963,), (136963,))"
      ]
     },
     "execution_count": 41,
     "metadata": {},
     "output_type": "execute_result"
    }
   ],
   "source": [
    "x_axis.shape, sell_GNB_ok.shape"
   ]
  },
  {
   "cell_type": "code",
   "execution_count": 44,
   "metadata": {},
   "outputs": [
    {
     "data": {
      "text/plain": [
       "DatetimeIndex(['2018-01-05 00:00:00', '2018-01-05 00:00:10',\n",
       "               '2018-01-05 00:00:20', '2018-01-05 00:00:30',\n",
       "               '2018-01-05 00:01:00', '2018-01-05 00:01:20',\n",
       "               '2018-01-05 00:01:50', '2018-01-05 00:02:00',\n",
       "               '2018-01-05 00:02:20', '2018-01-05 00:02:40',\n",
       "               ...\n",
       "               '2018-01-31 23:57:30', '2018-01-31 23:57:40',\n",
       "               '2018-01-31 23:57:50', '2018-01-31 23:58:00',\n",
       "               '2018-01-31 23:58:10', '2018-01-31 23:58:30',\n",
       "               '2018-01-31 23:58:50', '2018-01-31 23:59:00',\n",
       "               '2018-01-31 23:59:10', '2018-01-31 23:59:20'],\n",
       "              dtype='datetime64[ns]', name='date', length=136963, freq=None)"
      ]
     },
     "execution_count": 44,
     "metadata": {},
     "output_type": "execute_result"
    }
   ],
   "source": [
    "x_axis"
   ]
  },
  {
   "cell_type": "markdown",
   "metadata": {},
   "source": [
    "graficando con bokeh..."
   ]
  },
  {
   "cell_type": "code",
   "execution_count": 45,
   "metadata": {
    "collapsed": true
   },
   "outputs": [],
   "source": [
    "p1_GNB = bp.Figure(width=750, height=300,title='buys and sells with a GaussianNB',x_axis_type='datetime',\n",
    "               title_location = 'above')\n",
    "p1_GNB.triangle(x_axis, buy_GNB_ok, color='green', legend='predict buy ok')\n",
    "p1_GNB.triangle(x_axis, sell_GNB_ok, color='green', legend='predict sells ok', angle=45)\n",
    "p1_GNB.xaxis.axis_label = 'Datetime'\n",
    "p1_GNB.yaxis.axis_label = 'EUR/USD'\n",
    "p1_GNB.triangle(x_axis, buy_GNB_mal, color='red', legend='incorrect predict buy')\n",
    "p1_GNB.triangle(x_axis, sell_GNB_mal, color='red', legend='incorrect predict sell', angle=45)\n",
    "p1_GNB.line(x_axis, y_reg[firts_4bd-1:-1], color='blue', alpha=0.2, legend='bid')\n",
    "p1_GNB.legend.location = 'bottom_left'\n",
    "p1_GNB.legend.orientation = 'horizontal'\n",
    "p1_GNB.legend.background_fill_color = 'grey'\n",
    "p1_GNB.legend.background_fill_alpha = 0.1\n",
    "p1_GNB.legend.border_line_alpha = None\n",
    "\n",
    "p2_GNB = bp.Figure(width=750, height=300,title='Profit and Loss with a GaussianNB',x_axis_type='datetime')\n",
    "p2_GNB.line(dates, result_GNB[:,0], color='blue', legend='PNL', alpha=0.5)\n",
    "p2_GNB.circle(dates, result_GNB[:,0], color='blue', legend='PNL', alpha=0.5)\n",
    "p2_GNB.line(dates, np.zeros(len(result_GNB)), color='red', legend='PNL = 0', line_dash='dotted')\n",
    "p2_GNB.line(dates,np.ones(len(result_GNB[:,0]))*np.mean(result_GNB[:,0]),color='green',legend='avg PNL')\n",
    "p2_GNB.xaxis.axis_label = 'datetime'\n",
    "p2_GNB.yaxis.axis_label = 'PNL'\n",
    "p2_GNB.legend.location ='bottom_center'\n",
    "p2_GNB.legend.orientation = 'horizontal'\n",
    "\n",
    "p3_GNB = bp.Figure(width=450, height=250, title='buys and sells per day', x_axis_type='datetime')\n",
    "p3_GNB.line(dates, result_GNB[:,1], color='green', legend='buys')\n",
    "p3_GNB.circle(dates, result_GNB[:,1], color='green', legend='buys')\n",
    "p3_GNB.line(dates, result_GNB[:,2], color='red', legend='sells')\n",
    "p3_GNB.circle(dates, result_GNB[:,2], color='red', legend='sells')\n",
    "p3_GNB.xaxis.axis_label = 'datetime'\n",
    "p3_GNB.yaxis.axis_label = 'quantity'\n",
    "p3_GNB.legend.location = 'top_left'\n",
    "#se utiliza el x_range para correlacionar las dos gráficas por el eje x\n",
    "\n",
    "#para pintar el PNL que se va acumulando\n",
    "PNL_accu_GNB = []\n",
    "count_GNB = 0\n",
    "for i in result_GNB[:,0]:\n",
    "    count_GNB += i\n",
    "    PNL_accu_GNB.append(count_GNB)\n",
    "#se pinta el PNL acumulado\n",
    "p5_GNB = bp.Figure(width=750, height=300,title='PNL accumulated with a GaussianNB',x_axis_type='datetime',\n",
    "                   x_range=p2_GNB.x_range)\n",
    "p5_GNB.line(dates,PNL_accu_GNB,color='blue',legend='PNL accumulated',alpha=0.5)\n",
    "p5_GNB.circle(dates, PNL_accu_GNB, color='blue',legend='PNL accumulated', alpha=0.5)\n",
    "p5_GNB.line(dates, np.zeros(len(result_GNB)), color='red', legend='PNL = 0', line_dash='dotted')\n",
    "p5_GNB.xaxis.axis_label = 'datetime'\n",
    "p5_GNB.yaxis.axis_label = 'PNL accumulated'\n",
    "p5_GNB.legend.location ='bottom_center'\n",
    "p5_GNB.legend.orientation = 'horizontal'\n",
    "\n",
    "#se pinta la señal submuestreada para verlas con en volumen de compras y ventas por día\n",
    "p6_GNB = bp.Figure(width=400, height=250, title='signal per hours', x_axis_type='datetime',x_range=p3_GNB.x_range)\n",
    "p6_GNB.line(signal_sample.index, signal_sample, color='blue')\n",
    "p6_GNB.xaxis.axis_label = 'datetime'\n",
    "p6_GNB.yaxis.axis_label = 'bid EUR/USD'\n",
    "\n",
    "bp.show(gridplot([[p1_GNB,p3_GNB],[p2_GNB,p6_GNB],[p5_GNB]], toolbar_location=\"right\"))\n",
    "bp.output_file(filename='../resultados/TrueFX/EUR-USD/GaussianNB/grafico GaussianNB.html', title='GaussianNB')"
   ]
  },
  {
   "cell_type": "markdown",
   "metadata": {},
   "source": [
    "se gráfica el PNL y su media para poder ver graficamente las veces que se gana o se pierde y si en general se termina ganando o perdiendo dinero"
   ]
  },
  {
   "cell_type": "code",
   "execution_count": 48,
   "metadata": {},
   "outputs": [
    {
     "data": {
      "image/png": "[encoded data removed]",
      "text/plain": [
       "<matplotlib.figure.Figure at 0x7f21235121d0>"
      ]
     },
     "metadata": {},
     "output_type": "display_data"
    }
   ],
   "source": [
    "plt.figure(figsize=(15,5))\n",
    "    \n",
    "plt.title('Profit and Loss with GaussianNB', size=15)\n",
    "plt.plot(range(len(result_GNB[:,0])), result_GNB[:,0], label='PNL')\n",
    "plt.plot(range(len(result_GNB[:,0])), np.zeros(len(result_GNB[:,0])),color='red', alpha=0.6, label='PNL = 0', linestyle='--')\n",
    "plt.plot(range(len(result_GNB[:,0])), np.ones(len(result_GNB[:,0]))*np.mean(result_GNB[:,0]),\n",
    "         color='green', alpha=0.6, label='PNL mean')\n",
    "plt.xlabel('test day')\n",
    "plt.xticks(range(len(result_GNB)),dates[n_bdtrain:], size=10, rotation=25)\n",
    "plt.legend();"
   ]
  },
  {
   "cell_type": "code",
   "execution_count": 49,
   "metadata": {},
   "outputs": [
    {
     "data": {
      "image/png": "[encoded data removed]",
      "text/plain": [
       "<matplotlib.figure.Figure at 0x7f2123c8aeb8>"
      ]
     },
     "metadata": {},
     "output_type": "display_data"
    }
   ],
   "source": [
    "plt.figure(figsize=(16,3))\n",
    "plt.subplot(1,2,1)\n",
    "plt.title('Buys - GaussianNB', size=15)\n",
    "plt.plot(range(len(result_GNB[:,1])), result_GNB[:,1],color='green', alpha=0.6, label='Buys')\n",
    "plt.xlabel('test day')\n",
    "plt.ylabel('# Buys')\n",
    "plt.xticks(range(len(result_GNB)),dates[n_bdtrain:], size=10, rotation=80)\n",
    "plt.legend();\n",
    "    \n",
    "plt.subplot(1,2,2)\n",
    "plt.title('Sells - GaussianNB', size=15)\n",
    "plt.plot(range(len(result_GNB[:,2])), result_GNB[:,2],color='red', alpha=0.6, label='Sells')\n",
    "plt.xlabel('test day')\n",
    "plt.ylabel('# Sells')\n",
    "plt.xticks(range(len(result_GNB)),dates[n_bdtrain:], size=10, rotation=80)\n",
    "plt.legend();"
   ]
  },
  {
   "cell_type": "markdown",
   "metadata": {},
   "source": [
    "Se prueba con un KNeighborsClassifier"
   ]
  },
  {
   "cell_type": "code",
   "execution_count": 50,
   "metadata": {},
   "outputs": [
    {
     "data": {
      "text/plain": [
       "(19,)"
      ]
     },
     "execution_count": 50,
     "metadata": {},
     "output_type": "execute_result"
    }
   ],
   "source": [
    "dates.shape"
   ]
  },
  {
   "cell_type": "code",
   "execution_count": 43,
   "metadata": {},
   "outputs": [
    {
     "name": "stdout",
     "output_type": "stream",
     "text": [
      "-------- KNeighborsClassifier -------\n",
      "average PNL:  -0.272484736842\n",
      "average buy:  3167.84210526\n",
      "average sell:  4040.73684211\n",
      "-------------------------------------\n",
      "                PNL    buys   sells  longest_buys  longest_sells\n",
      "2018-01-05 -0.23473  3039.0  3419.0          18.0           17.0\n",
      "2018-01-08 -0.23443  5217.0  1297.0        3067.0           11.0\n",
      "2018-01-09 -0.21357  5474.0  1181.0        4206.0           26.0\n",
      "2018-01-10 -0.25319  3111.0  3909.0          22.0          101.0\n",
      "2018-01-11 -0.25477  3276.0  3836.0          11.0           17.0\n",
      "2018-01-12 -0.28979   835.0  6258.0          18.0         4418.0\n",
      "2018-01-15 -0.29855  1075.0  6024.0          59.0         4150.0\n",
      "2018-01-16 -0.25825  3432.0  3690.0          43.0           49.0\n",
      "2018-01-17 -0.28553  3595.0  3944.0          16.0          177.0\n",
      "2018-01-18 -0.27951  3981.0  3377.0          39.0           11.0\n",
      "2018-01-19 -0.28711  3518.0  3793.0          13.0           13.0\n",
      "2018-01-22 -0.25264  3410.0  3741.0          14.0           15.0\n",
      "2018-01-23 -0.25835  3454.0  3726.0          25.0           20.0\n",
      "2018-01-24 -0.27271   257.0  7214.0           9.0         5964.0\n",
      "2018-01-25 -0.30622  1554.0  6165.0          15.0         1968.0\n",
      "2018-01-26 -0.33381  3584.0  4035.0          95.0           26.0\n",
      "2018-01-29 -0.29944  3875.0  3576.0          35.0           42.0\n",
      "2018-01-30 -0.26024  3755.0  3731.0          20.0           15.0\n",
      "2018-01-31 -0.30437  3747.0  3858.0          16.0           19.0\n"
     ]
    }
   ],
   "source": [
    "from sklearn.neighbors import KNeighborsClassifier\n",
    "\n",
    "est_KNC = PNLEstimatorWrapper(KNeighborsClassifier(n_neighbors=7,n_jobs=2,leaf_size=30\n",
    "                                                   ,algorithm='kd_tree'), PNL_column=['PNL_1','PNL_0'])\n",
    "result_KNC = step_validation(est_KNC, X, y, v_split(X,4,1,1))\n",
    "result_KNC, predict_KNC = redim(result_KNC)\n",
    "print('-------- KNeighborsClassifier -------')\n",
    "print('average PNL: ', np.mean(result_KNC[:,0]))\n",
    "print('average buy: ', np.mean(result_KNC[:,1]))\n",
    "print('average sell: ', np.mean(result_KNC[:,2]))\n",
    "print('-------------------------------------')\n",
    "df_KNC = pd.DataFrame(result_KNC, columns=list(['PNL','buys','sells','longest_buys','longest_sells']), index=dates)\n",
    "print(df_KNC)\n",
    "df_KNC.to_csv('../resultados/TrueFX/EUR-USD/KNeighborsClassfier/pnl_KNC_wsize3_2018-01.csv')"
   ]
  },
  {
   "cell_type": "markdown",
   "metadata": {},
   "source": [
    "#### Pintando con bokeh, se guarda la imagen debido a que consume una cantidad de memoria RAM considerable"
   ]
  },
  {
   "cell_type": "code",
   "execution_count": 53,
   "metadata": {},
   "outputs": [
    {
     "name": "stdout",
     "output_type": "stream",
     "text": [
      "(136963,)\n",
      "(136963,)\n",
      "(136963,)\n",
      "(136963,)\n"
     ]
    }
   ],
   "source": [
    "#para graficar las compras acertadas sobre la señal original\n",
    "buy_KNC_ok = ((predict_KNC==bt[firts_4bd:])&(predict_KNC==1))*y_reg[firts_4bd-1:-1]\n",
    "buy_KNC_ok[buy_KNC_ok==0] = np.nan \n",
    "print (buy_KNC_ok.shape)\n",
    "#para graficar las ventas acertadas sobre la señal original\n",
    "sell_KNC_ok = ((predict_KNC==bt[firts_4bd:])&(predict_KNC==0))*y_reg[firts_4bd-1:-1]\n",
    "sell_KNC_ok[sell_KNC_ok==0] = np.nan\n",
    "print (sell_KNC_ok.shape)\n",
    "\n",
    "#para graficar las compras fallidas sobre la señal original\n",
    "buy_KNC_mal = ((predict_KNC!=bt[firts_4bd:])&(predict_KNC==1))*y_reg[firts_4bd-1:-1]\n",
    "buy_KNC_mal[buy_KNC_mal==0] = np.nan \n",
    "print (buy_KNC_mal.shape)\n",
    "#para graficar las ventas fallidas sobre la señal original\n",
    "sell_KNC_mal = ((predict_KNC!=bt[firts_4bd:])&(predict_KNC==0))*y_reg[firts_4bd-1:-1]\n",
    "sell_KNC_mal[sell_KNC_mal==0] = np.nan\n",
    "print (sell_KNC_mal.shape)"
   ]
  },
  {
   "cell_type": "markdown",
   "metadata": {},
   "source": [
    "al parecer si uso bp.reset_output y luego ejecuto dos veces la celda de graficar, esto no me genera conflicto"
   ]
  },
  {
   "cell_type": "code",
   "execution_count": 54,
   "metadata": {
    "collapsed": true
   },
   "outputs": [],
   "source": [
    "bp.reset_output()"
   ]
  },
  {
   "cell_type": "code",
   "execution_count": 55,
   "metadata": {
    "collapsed": true
   },
   "outputs": [],
   "source": [
    "p1_KNC = bp.Figure(width=750, height=300,title='buys and sells with a KNeighborsClassifier',x_axis_type='datetime',\n",
    "               title_location = 'above')\n",
    "p1_KNC.triangle(x_axis, buy_KNC_ok, color='green', legend='predict buys ok')\n",
    "p1_KNC.triangle(x_axis, sell_KNC_ok, color='green', legend='predict sells ok', angle=45)\n",
    "p1_KNC.xaxis.axis_label = 'Datetime'\n",
    "p1_KNC.yaxis.axis_label = 'EUR/USD'\n",
    "p1_KNC.triangle(x_axis, buy_KNC_mal, color='red', legend='incorrect predict buys')\n",
    "p1_KNC.triangle(x_axis, sell_KNC_mal, color='red', legend='incorrect predict sells', angle=45)\n",
    "p1_KNC.line(x_axis, y_reg[firts_4bd-1:-1], color='blue', alpha=0.2, legend='bid')\n",
    "p1_KNC.legend.location = 'bottom_left'\n",
    "p1_KNC.legend.orientation = 'horizontal'\n",
    "p1_KNC.legend.background_fill_color = 'grey'\n",
    "p1_KNC.legend.background_fill_alpha = 0.1\n",
    "p1_KNC.legend.border_line_alpha = None\n",
    "\n",
    "p2_KNC = bp.Figure(width=750, height=300,title='Profit and Loss with a KNeighborsClassifier',x_axis_type='datetime')\n",
    "p2_KNC.line(dates, result_KNC[:,0], color='blue', legend='PNL', alpha=0.5)\n",
    "p2_KNC.circle(dates, result_KNC[:,0], color='blue', legend='PNL', alpha=0.5)\n",
    "p2_KNC.line(dates, np.zeros(len(result_KNC)), color='red', legend='PNL = 0', line_dash='dotted')\n",
    "p2_KNC.line(dates,np.ones(len(result_KNC[:,0]))*np.mean(result_KNC[:,0]),color='green',legend='avg PNL')\n",
    "p2_KNC.xaxis.axis_label = 'datetime'\n",
    "p2_KNC.yaxis.axis_label = 'PNL'\n",
    "p2_KNC.legend.location ='bottom_center'\n",
    "p2_KNC.legend.orientation = 'horizontal'\n",
    "\n",
    "p3_KNC = bp.Figure(width=400, height=250, title='buys and sells per day', x_axis_type='datetime')\n",
    "p3_KNC.line(dates, result_KNC[:,1], color='green', legend='buys')\n",
    "p3_KNC.circle(dates, result_KNC[:,1], color='green', legend='buys')\n",
    "p3_KNC.line(dates, result_KNC[:,2], color='red',legend='sells')\n",
    "p3_KNC.circle(dates, result_KNC[:,2], color='red', legend='sells')\n",
    "p3_KNC.xaxis.axis_label = 'datetime'\n",
    "p3_KNC.yaxis.axis_label = 'quantity'\n",
    "p3_KNC.legend.location = 'top_left'\n",
    "#se utiliza el x_range para correlacionar las dos gráficas por el eje x\n",
    "#para pintar el PNL que se va acumulando\n",
    "PNL_accu_KNC = []\n",
    "count_KNC = 0\n",
    "for i in result_KNC[:,0]:\n",
    "    count_KNC += i\n",
    "    PNL_accu_KNC.append(count_KNC)\n",
    "    \n",
    "p5_KNC = bp.Figure(width=750, height=300,title='PNL accumulated with a KNeighborsClassifier',x_axis_type='datetime',\n",
    "                   x_range=p2_KNC.x_range)\n",
    "p5_KNC.line(dates,PNL_accu_KNC,color='blue',legend='PNL accumulated',alpha=0.5)\n",
    "p5_KNC.circle(dates, PNL_accu_KNC, color='blue',legend='PNL accumulated', alpha=0.5)\n",
    "p5_KNC.line(dates, np.zeros(len(result_KNC)), color='red', legend='PNL = 0', line_dash='dotted')\n",
    "p5_KNC.xaxis.axis_label = 'datetime'\n",
    "p5_KNC.yaxis.axis_label = 'PNL accumulated'\n",
    "p5_KNC.legend.location ='bottom_center'\n",
    "p5_KNC.legend.orientation = 'horizontal'\n",
    "#se pinta la señal submuestreada para verlas con en volumen de compras y ventas por día\n",
    "p6_KNC = bp.Figure(width=400, height=250, title='signal per hours', x_axis_type='datetime',x_range=p3_KNC.x_range)\n",
    "p6_KNC.line(signal_sample.index, signal_sample, color='blue')\n",
    "p6_KNC.xaxis.axis_label = 'datetime'\n",
    "p6_KNC.yaxis.axis_label = 'bid EUR/USD'\n",
    "\n",
    "bp.show(gridplot([[p1_KNC,p3_KNC],[p2_KNC,p6_KNC],[p5_KNC]], toolbar_location=\"right\"))\n",
    "bp.output_file(filename='../resultados/TrueFX/EUR-USD/KNeighborsClassfier/grafico KNeihgborsClassifier.html', title='KNeihgborsClassifier')"
   ]
  },
  {
   "cell_type": "markdown",
   "metadata": {},
   "source": [
    "se gráfica el PNL y su media para poder ver graficamente las veces que se gana o se pierde y si en general se termina ganando o perdiendo dinero"
   ]
  },
  {
   "cell_type": "code",
   "execution_count": 57,
   "metadata": {},
   "outputs": [
    {
     "data": {
      "image/png": "[encoded data removed]",
      "text/plain": [
       "<matplotlib.figure.Figure at 0x7f2123951390>"
      ]
     },
     "metadata": {},
     "output_type": "display_data"
    }
   ],
   "source": [
    "plt.figure(figsize=(15,5))\n",
    "    \n",
    "plt.title('Profit and Loss with KNeighborsClassifier', size=15)\n",
    "plt.plot(range(len(result_KNC[:,0])), result_KNC[:,0], label='PNL')\n",
    "plt.plot(range(len(result_KNC[:,0])), np.zeros(len(result_KNC[:,0])),color='red', alpha=0.6, label='PNL = 0', linestyle='--')\n",
    "plt.plot(range(len(result_KNC[:,0])), np.ones(len(result_KNC[:,0]))*np.mean(result_KNC[:,0]),\n",
    "         color='green', alpha=0.6, label='PNL mean')\n",
    "plt.xlabel('test day')\n",
    "plt.xticks(range(len(result_KNC)),dates[n_bdtrain:], size=10, rotation=25)\n",
    "plt.legend();"
   ]
  },
  {
   "cell_type": "code",
   "execution_count": 58,
   "metadata": {},
   "outputs": [
    {
     "data": {
      "image/png": "[encoded data removed]",
      "text/plain": [
       "<matplotlib.figure.Figure at 0x7f21461b09e8>"
      ]
     },
     "metadata": {},
     "output_type": "display_data"
    }
   ],
   "source": [
    "plt.figure(figsize=(16,3))\n",
    "plt.subplot(1,2,1)\n",
    "plt.title('Buys - KNeighborsClassifier', size=15)\n",
    "plt.plot(range(len(result_KNC[:,1])), result_KNC[:,1],color='green', alpha=0.6, label='Buys')\n",
    "plt.xlabel('test day')\n",
    "plt.ylabel('# Buys')\n",
    "plt.xticks(range(len(result_KNC)),dates[n_bdtrain:], size=10, rotation=80)\n",
    "plt.legend();\n",
    "\n",
    "plt.subplot(1,2,2)\n",
    "plt.title('Sells - KNeighborsClassifier', size=15)\n",
    "plt.plot(range(len(result_KNC[:,2])), result_KNC[:,2],color='red', alpha=0.6, label='Sells')\n",
    "plt.xlabel('test day')\n",
    "plt.ylabel('# Sells')\n",
    "plt.xticks(range(len(result_KNC)),dates[n_bdtrain:], size=10, rotation=80)\n",
    "plt.legend();"
   ]
  },
  {
   "cell_type": "markdown",
   "metadata": {},
   "source": [
    "se prueba con un DecisionTreeClassifier"
   ]
  },
  {
   "cell_type": "code",
   "execution_count": 44,
   "metadata": {},
   "outputs": [
    {
     "name": "stdout",
     "output_type": "stream",
     "text": [
      "------ DecisionTreeClassifier -------\n",
      "average PNL:  -0.272001052632\n",
      "average buy:  3777.84210526\n",
      "average sell:  3430.73684211\n",
      "-------------------------------------\n",
      "                PNL    buys   sells  longest_buys  longest_sells\n",
      "2018-01-05 -0.22943  3128.0  3330.0          15.0           16.0\n",
      "2018-01-08 -0.22972  5169.0  1345.0        3067.0           11.0\n",
      "2018-01-09 -0.20940  5344.0  1311.0        4206.0           17.0\n",
      "2018-01-10 -0.25153  3317.0  3703.0          14.0           60.0\n",
      "2018-01-11 -0.24687  3386.0  3726.0          14.0           15.0\n",
      "2018-01-12 -0.28193  5757.0  1336.0        4368.0           19.0\n",
      "2018-01-15 -0.29357  1109.0  5990.0          24.0         4161.0\n",
      "2018-01-16 -0.25543  3440.0  3682.0          27.0           16.0\n",
      "2018-01-17 -0.30550  3489.0  4050.0          12.0          149.0\n",
      "2018-01-18 -0.26795  3602.0  3756.0          18.0           13.0\n",
      "2018-01-19 -0.28314  3521.0  3790.0          13.0           19.0\n",
      "2018-01-22 -0.26261  3506.0  3645.0          13.0           11.0\n",
      "2018-01-23 -0.24742  3480.0  3700.0          21.0           15.0\n",
      "2018-01-24 -0.27169  7002.0   469.0        4826.0           12.0\n",
      "2018-01-25 -0.33399  1659.0  6060.0          16.0         1976.0\n",
      "2018-01-26 -0.32850  3775.0  3844.0          96.0           18.0\n",
      "2018-01-29 -0.30054  3765.0  3686.0          22.0           25.0\n",
      "2018-01-30 -0.26635  3668.0  3818.0          14.0           14.0\n",
      "2018-01-31 -0.30245  3662.0  3943.0          13.0           13.0\n"
     ]
    }
   ],
   "source": [
    "from sklearn.tree import DecisionTreeClassifier\n",
    "\n",
    "est_DTC = PNLEstimatorWrapper(DecisionTreeClassifier(), PNL_column=['PNL_0','PNL_1'])\n",
    "result_DTC = step_validation(est_DTC, X, y, v_split(X,4,1,1))\n",
    "result_DTC, predict_DTC = redim(result_DTC)\n",
    "print('------ DecisionTreeClassifier -------')\n",
    "print('average PNL: ', np.mean(result_DTC[:,0]))\n",
    "print('average buy: ', np.mean(result_DTC[:,1]))\n",
    "print('average sell: ', np.mean(result_DTC[:,2]))\n",
    "print('-------------------------------------')\n",
    "df_DTC = pd.DataFrame(result_DTC, columns=list(['PNL','buys','sells','longest_buys','longest_sells']), index=dates)\n",
    "print(df_DTC)\n",
    "df_DTC.to_csv('../resultados/TrueFX/EUR-USD/DecisionTreeClassifier/pnl_DTC_wsize3_2018-01.csv')"
   ]
  },
  {
   "cell_type": "code",
   "execution_count": 60,
   "metadata": {},
   "outputs": [
    {
     "name": "stdout",
     "output_type": "stream",
     "text": [
      "(136963,)\n",
      "(136963,)\n",
      "(136963,)\n",
      "(136963,)\n"
     ]
    }
   ],
   "source": [
    "#para graficar las compras acertadas sobre la señal original\n",
    "buy_DTC_ok = ((predict_DTC==bt[firts_4bd:])&(predict_DTC==1))*y_reg[firts_4bd-1:-1]\n",
    "buy_DTC_ok[buy_DTC_ok==0] = np.nan \n",
    "print (buy_DTC_ok.shape)\n",
    "#para graficar las ventas acertadas sobre la señal original\n",
    "sell_DTC_ok = ((predict_DTC==bt[firts_4bd:])&(predict_DTC==0))*y_reg[firts_4bd-1:-1]\n",
    "sell_DTC_ok[sell_DTC_ok==0] = np.nan\n",
    "print (sell_DTC_ok.shape)\n",
    "\n",
    "#para graficar las compras fallidas sobre la señal original\n",
    "buy_DTC_mal = ((predict_DTC!=bt[firts_4bd:])&(predict_DTC==1))*y_reg[firts_4bd-1:-1]\n",
    "buy_DTC_mal[buy_DTC_mal==0] = np.nan \n",
    "print (buy_DTC_mal.shape)\n",
    "#para graficar las ventas fallidas sobre la señal original\n",
    "sell_DTC_mal = ((predict_DTC!=bt[firts_4bd:])&(predict_DTC==0))*y_reg[firts_4bd-1:-1]\n",
    "sell_DTC_mal[sell_DTC_mal==0] = np.nan\n",
    "print (sell_DTC_mal.shape)"
   ]
  },
  {
   "cell_type": "markdown",
   "metadata": {},
   "source": [
    "se guarda el gráfico de bokeh debido que si se pinta en el jupyter se va consumiendo mucha memoria ram"
   ]
  },
  {
   "cell_type": "code",
   "execution_count": 61,
   "metadata": {
    "collapsed": true
   },
   "outputs": [],
   "source": [
    "bp.reset_output()"
   ]
  },
  {
   "cell_type": "code",
   "execution_count": 62,
   "metadata": {
    "collapsed": true
   },
   "outputs": [],
   "source": [
    "p1_DTC = bp.figure(width=750, height=300,title='buys and sells with a DecisionTreeClassifier',x_axis_type='datetime',\n",
    "               title_location = 'above')\n",
    "p1_DTC.triangle(x_axis, buy_DTC_ok, color='green', legend='predict buys ok')\n",
    "p1_DTC.triangle(x_axis, sell_DTC_ok, color='green', legend='predict sells ok', angle=45)\n",
    "p1_DTC.xaxis.axis_label = 'Datetime'\n",
    "p1_DTC.yaxis.axis_label = 'EUR/USD'\n",
    "p1_DTC.triangle(x_axis, buy_DTC_mal, color='red', legend='incorrect predict buy')\n",
    "p1_DTC.triangle(x_axis, sell_DTC_mal, color='red', legend='incorrect predict sell', angle=45)\n",
    "p1_DTC.line(x_axis, y_reg[firts_4bd-1:-1], color='blue', alpha=0.2, legend='bid')\n",
    "p1_DTC.legend.location = 'bottom_left'\n",
    "p1_DTC.legend.orientation = 'horizontal'\n",
    "p1_DTC.legend.background_fill_color = 'grey'\n",
    "p1_DTC.legend.background_fill_alpha = 0.1\n",
    "p1_DTC.legend.border_line_alpha = None\n",
    "\n",
    "p2_DTC = bp.figure(width=750, height=300,title='Profit and Loss with a DecisionTreeClassifier'\n",
    "                   ,x_axis_type='datetime')\n",
    "p2_DTC.line(dates, result_DTC[:,0], color='blue', legend='PNL', alpha=0.5)\n",
    "p2_DTC.circle(dates, result_DTC[:,0], color='blue', legend='PNL', alpha=0.5)\n",
    "p2_DTC.line(dates, np.zeros(len(result_DTC)), color='red', legend='PNL = 0', line_dash='dotted')\n",
    "p2_DTC.line(dates,np.ones(len(result_DTC[:,0]))*np.mean(result_DTC[:,0]),color='green',legend='avg PNL')\n",
    "p2_DTC.xaxis.axis_label = 'datetime'\n",
    "p2_DTC.yaxis.axis_label = 'PNL'\n",
    "p2_DTC.legend.location ='bottom_center'\n",
    "p2_DTC.legend.orientation = 'horizontal'\n",
    "\n",
    "p3_DTC = bp.figure(width=400, height=250, title='buys and sells per day', x_axis_type='datetime')\n",
    "p3_DTC.line(dates, result_DTC[:,1], color='green', legend='buys')\n",
    "p3_DTC.circle(dates, result_DTC[:,1], color='green', legend='buys')\n",
    "p3_DTC.line(dates, result_DTC[:,2], color='red', legend='sells')\n",
    "p3_DTC.circle(dates, result_DTC[:,2], color='red', legend='sells')\n",
    "p3_DTC.xaxis.axis_label = 'datetime'\n",
    "p3_DTC.yaxis.axis_label = 'quantity'\n",
    "p3_DTC.legend.location = 'top_left'\n",
    "#se utiliza el x_range para correlacionar las dos gráficas por el eje x\n",
    "\n",
    "#para pintar el PNL que se va acumulando\n",
    "PNL_accu_DTC = []\n",
    "count_DTC = 0\n",
    "for i in result_DTC[:,0]:\n",
    "    count_DTC += i\n",
    "    PNL_accu_DTC.append(count_DTC)\n",
    "    \n",
    "p5_DTC = bp.figure(width=750, height=300,title='PNL accumulated with a DecisionTreeClassifier',\n",
    "                   x_axis_type='datetime',x_range=p2_DTC.x_range)\n",
    "p5_DTC.line(dates,PNL_accu_DTC,color='blue',legend='PNL accumulated',alpha=0.5)\n",
    "p5_DTC.circle(dates, PNL_accu_DTC, color='blue',legend='PNL accumulated', alpha=0.5)\n",
    "p5_DTC.line(dates, np.zeros(len(result_DTC)), color='red', legend='PNL = 0', line_dash='dotted')\n",
    "p5_DTC.xaxis.axis_label = 'datetime'\n",
    "p5_DTC.yaxis.axis_label = 'PNL accumulated'\n",
    "p5_DTC.legend.location ='bottom_center'\n",
    "p5_DTC.legend.orientation = 'horizontal'\n",
    "#se pinta la señal submuestreada para verlas con en volumen de compras y ventas por día\n",
    "p6_DTC = bp.figure(width=400, height=250, title='signal per hours', x_axis_type='datetime',x_range=p3_DTC.x_range)\n",
    "p6_DTC.line(signal_sample.index, signal_sample, color='blue')\n",
    "p6_DTC.xaxis.axis_label = 'datetime'\n",
    "p6_DTC.yaxis.axis_label = 'bid EUR/USD'\n",
    "\n",
    "bp.show(gridplot([[p1_DTC,p3_DTC],[p2_DTC,p6_DTC],[p5_DTC]], toolbar_location=\"right\"))\n",
    "bp.output_file(filename='../resultados/TrueFX/EUR-USD/DecisionTreeClassifier/grafico DecisionTreeClassifier.html', title='DecisionTreeClassifier')"
   ]
  },
  {
   "cell_type": "code",
   "execution_count": 65,
   "metadata": {},
   "outputs": [
    {
     "data": {
      "image/png": "[encoded data removed]",
      "text/plain": [
       "<matplotlib.figure.Figure at 0x7f2123b3d128>"
      ]
     },
     "metadata": {},
     "output_type": "display_data"
    }
   ],
   "source": [
    "plt.figure(figsize=(15,5))\n",
    "\n",
    "plt.title('Profit and Loss with DecisionTreeClassifier', size=15)\n",
    "plt.plot(range(len(result_DTC[:,0])), result_DTC[:,0], label='PNL')\n",
    "plt.plot(range(len(result_DTC[:,0])), np.zeros(len(result_DTC[:,0])),color='red', alpha=0.6, label='PNL = 0', linestyle='--')\n",
    "plt.plot(range(len(result_DTC[:,0])), np.ones(len(result_DTC[:,0]))*np.mean(result_DTC[:,0]),\n",
    "         color='green', alpha=0.6, label='PNL mean')\n",
    "plt.xlabel('test day')\n",
    "plt.xticks(range(len(result_DTC)),dates[n_bdtrain:], size=10, rotation=25)\n",
    "plt.legend();"
   ]
  },
  {
   "cell_type": "code",
   "execution_count": 66,
   "metadata": {},
   "outputs": [
    {
     "data": {
      "image/png": "[encoded data removed]",
      "text/plain": [
       "<matplotlib.figure.Figure at 0x7f21234fb898>"
      ]
     },
     "metadata": {},
     "output_type": "display_data"
    }
   ],
   "source": [
    "plt.figure(figsize=(16,3))\n",
    "plt.subplot(1,2,1)\n",
    "plt.title('Buy - DecisionTreeClassifier', size=15),\n",
    "plt.plot(range(len(result_DTC[:,1])), result_DTC[:,1],color='green', alpha=0.6, label='PNL mean')\n",
    "plt.xlabel('test day')\n",
    "plt.xticks(range(len(result_DTC)),dates[n_bdtrain:], size=10, rotation=80)\n",
    "plt.legend();\n",
    "\n",
    "plt.subplot(1,2,2)\n",
    "plt.title('Sell - DecisionTreeClassifier', size=15)\n",
    "plt.plot(range(len(result_DTC[:,2])), result_DTC[:,2],color='red', alpha=0.6, label='PNL mean')\n",
    "plt.xlabel('test day')\n",
    "plt.xticks(range(len(result_DTC)),dates[n_bdtrain:], size=10, rotation=80)\n",
    "plt.legend();"
   ]
  },
  {
   "cell_type": "markdown",
   "metadata": {},
   "source": [
    "probando con un RandomForestClassifier, con ciertos parametros establecidos los cuales me han arrojado mejores resultados"
   ]
  },
  {
   "cell_type": "code",
   "execution_count": 45,
   "metadata": {},
   "outputs": [
    {
     "name": "stdout",
     "output_type": "stream",
     "text": [
      "RandomForestClassifier\n",
      "PNL promedio:  -0.272394736842\n",
      "buy promedio:  3428.0\n",
      "sell promedio:  3780.57894737\n",
      "-------------------------------------\n",
      "                PNL    buys   sells  longest_buys  longest_sells\n",
      "2018-01-05 -0.22584  3071.0  3387.0          17.0           15.0\n",
      "2018-01-08 -0.22996  5233.0  1281.0        3067.0           11.0\n",
      "2018-01-09 -0.21196  5450.0  1205.0        4207.0           13.0\n",
      "2018-01-10 -0.25039  3189.0  3831.0          15.0           52.0\n",
      "2018-01-11 -0.25002  3312.0  3800.0          12.0           18.0\n",
      "2018-01-12 -0.28432  5731.0  1362.0        4368.0           23.0\n",
      "2018-01-15 -0.29065  1032.0  6067.0          29.0         3966.0\n",
      "2018-01-16 -0.23881  3329.0  3793.0          27.0           22.0\n",
      "2018-01-17 -0.30347  3576.0  3963.0          13.0          141.0\n",
      "2018-01-18 -0.27852  3763.0  3595.0          21.0           12.0\n",
      "2018-01-19 -0.28238  3499.0  3812.0          12.0           17.0\n",
      "2018-01-22 -0.26635  3538.0  3613.0          14.0           13.0\n",
      "2018-01-23 -0.25454  3558.0  3622.0          24.0           18.0\n",
      "2018-01-24 -0.25515   347.0  7124.0          17.0         4829.0\n",
      "2018-01-25 -0.33627  1563.0  6156.0          12.0         1977.0\n",
      "2018-01-26 -0.33802  3633.0  3986.0          97.0           21.0\n",
      "2018-01-29 -0.29480  3912.0  3539.0          49.0           24.0\n",
      "2018-01-30 -0.27421  3719.0  3767.0          15.0           12.0\n",
      "2018-01-31 -0.30984  3677.0  3928.0          18.0           17.0\n"
     ]
    }
   ],
   "source": [
    "from sklearn.ensemble import RandomForestClassifier\n",
    "\n",
    "est_RFC = PNLEstimatorWrapper(RandomForestClassifier(n_estimators=15, n_jobs=3), PNL_column=['PNL_0','PNL_1'])\n",
    "result_RFC = step_validation(est_RFC, X, y, v_split(X,4,1,1))\n",
    "result_RFC, predict_RFC = redim(result_RFC)\n",
    "print('RandomForestClassifier')\n",
    "print('PNL promedio: ', np.mean(result_RFC[:,0]))\n",
    "print('buy promedio: ', np.mean(result_RFC[:,1]))\n",
    "print('sell promedio: ', np.mean(result_RFC[:,2]))\n",
    "print('-------------------------------------')\n",
    "df_RFC = pd.DataFrame(result_RFC, columns=list(['PNL','buys','sells','longest_buys','longest_sells']), index=dates)\n",
    "print(df_RFC)\n",
    "df_RFC.to_csv('../resultados/TrueFX/EUR-USD/RandomForestClassifier/pnl_RFC_wsize3_2018-01.csv')"
   ]
  },
  {
   "cell_type": "code",
   "execution_count": 68,
   "metadata": {},
   "outputs": [
    {
     "name": "stdout",
     "output_type": "stream",
     "text": [
      "(136963,)\n",
      "(136963,)\n",
      "(136963,)\n",
      "(136963,)\n"
     ]
    }
   ],
   "source": [
    "#para graficar las compras acertadas sobre la señal original\n",
    "buy_RFC_ok = ((predict_RFC==bt[firts_4bd:])&(predict_RFC==1))*y_reg[firts_4bd-1:-1]\n",
    "buy_RFC_ok[buy_RFC_ok==0] = np.nan \n",
    "print (buy_RFC_ok.shape)\n",
    "#para graficar las ventas acertadas sobre la señal original\n",
    "sell_RFC_ok = ((predict_RFC==bt[firts_4bd:])&(predict_RFC==0))*y_reg[firts_4bd-1:-1]\n",
    "sell_RFC_ok[sell_RFC_ok==0] = np.nan\n",
    "print (sell_RFC_ok.shape)\n",
    "\n",
    "#para graficar las compras fallidas sobre la señal original\n",
    "buy_RFC_mal = ((predict_RFC!=bt[firts_4bd:])&(predict_RFC==1))*y_reg[firts_4bd-1:-1]\n",
    "buy_RFC_mal[buy_RFC_mal==0] = np.nan \n",
    "print (buy_RFC_mal.shape)\n",
    "#para graficar las ventas fallidas sobre la señal original\n",
    "sell_RFC_mal = ((predict_RFC!=bt[firts_4bd:])&(predict_RFC==0))*y_reg[firts_4bd-1:-1]\n",
    "sell_RFC_mal[sell_RFC_mal==0] = np.nan\n",
    "print (sell_RFC_mal.shape)"
   ]
  },
  {
   "cell_type": "code",
   "execution_count": 69,
   "metadata": {
    "collapsed": true
   },
   "outputs": [],
   "source": [
    "bp.reset_output()"
   ]
  },
  {
   "cell_type": "code",
   "execution_count": 70,
   "metadata": {
    "collapsed": true
   },
   "outputs": [],
   "source": [
    "p1_RFC = bp.figure(width=750, height=300,title='buys and sells with a RandomForestClassifier',x_axis_type='datetime',\n",
    "               title_location = 'above')\n",
    "p1_RFC.triangle(x_axis, buy_RFC_ok, color='green', legend='predict buys ok')\n",
    "p1_RFC.triangle(x_axis, sell_RFC_ok, color='green', legend='predict sells ok', angle=45)\n",
    "p1_RFC.xaxis.axis_label = 'Datetime'\n",
    "p1_RFC.yaxis.axis_label = 'EUR/USD'\n",
    "p1_RFC.triangle(x_axis, buy_RFC_mal, color='red', legend='incorrect predict buy')\n",
    "p1_RFC.triangle(x_axis, sell_RFC_mal, color='red', legend='incorrect predict bad', angle=45)\n",
    "p1_RFC.line(x_axis, y_reg[firts_4bd-1:-1], color='blue', alpha=0.2, legend='bid')\n",
    "p1_RFC.legend.location = 'bottom_left'\n",
    "p1_RFC.legend.orientation = 'horizontal'\n",
    "p1_RFC.legend.background_fill_color = 'grey'\n",
    "p1_RFC.legend.background_fill_alpha = 0.1\n",
    "p1_RFC.legend.border_line_alpha = None\n",
    "\n",
    "p2_RFC = bp.figure(width=750, height=300,title='Profit and Loss with a RandomForestClassifier'\n",
    "                   ,x_axis_type='datetime')\n",
    "p2_RFC.line(dates, result_RFC[:,0], color='blue', legend='PNL', alpha=0.5)\n",
    "p2_RFC.circle(dates, result_RFC[:,0], color='blue', legend='PNL', alpha=0.5)\n",
    "p2_RFC.line(dates, np.zeros(len(result_RFC)), color='red', legend='PNL = 0', line_dash='dotted')\n",
    "p2_RFC.line(dates,np.ones(len(result_RFC[:,0]))*np.mean(result_RFC[:,0]),color='green',legend='avg PNL')\n",
    "p2_RFC.xaxis.axis_label = 'datetime'\n",
    "p2_RFC.yaxis.axis_label = 'PNL'\n",
    "p2_RFC.legend.location ='bottom_center'\n",
    "p2_RFC.legend.orientation = 'horizontal'\n",
    "\n",
    "p3_RFC = bp.figure(width=400, height=250, title='buys and sells per day', x_axis_type='datetime')\n",
    "p3_RFC.line(dates, result_RFC[:,1], color='green', legend='buys')\n",
    "p3_RFC.circle(dates, result_RFC[:,1], color='green', legend='buys')\n",
    "p3_RFC.line(dates, result_RFC[:,2], color='red', legend='sells')\n",
    "p3_RFC.circle(dates, result_RFC[:,2], color='red', legend='sells')\n",
    "p3_RFC.xaxis.axis_label = 'datetime'\n",
    "p3_RFC.yaxis.axis_label = 'quantity'\n",
    "p3_RFC.legend.location = 'top_left'\n",
    "#se utiliza el x_range para correlacionar las dos gráficas por el eje x\n",
    "\n",
    "#para pintar el PNL que se va acumulando\n",
    "PNL_accu_RFC = []\n",
    "count_RFC = 0\n",
    "for i in result_RFC[:,0]:\n",
    "    count_RFC += i\n",
    "    PNL_accu_RFC.append(count_RFC)\n",
    "    \n",
    "p5_RFC = bp.figure(width=750, height=300,title='PNL accumulated with a RandomForestClassifier',\n",
    "                   x_axis_type='datetime',x_range=p2_RFC.x_range)\n",
    "p5_RFC.line(dates,PNL_accu_RFC,color='blue',legend='PNL accumulated',alpha=0.5)\n",
    "p5_RFC.circle(dates, PNL_accu_RFC, color='blue',legend='PNL accumulated', alpha=0.5)\n",
    "p5_RFC.line(dates, np.zeros(len(result_RFC)), color='red', legend='PNL = 0', line_dash='dotted')\n",
    "p5_RFC.xaxis.axis_label = 'datetime'\n",
    "p5_RFC.yaxis.axis_label = 'PNL accumulated'\n",
    "p5_RFC.legend.location ='bottom_center'\n",
    "p5_RFC.legend.orientation = 'horizontal'\n",
    "#se pinta la señal submuestreada para verlas con en volumen de compras y ventas por día\n",
    "p6_RFC = bp.figure(width=400, height=250, title='signal per hours', x_axis_type='datetime',x_range=p3_RFC.x_range)\n",
    "p6_RFC.line(signal_sample.index, signal_sample, color='blue')\n",
    "p6_RFC.xaxis.axis_label = 'datetime'\n",
    "p6_RFC.yaxis.axis_label = 'bid EUR/USD'\n",
    "\n",
    "bp.show(gridplot([[p1_RFC,p3_RFC],[p2_RFC,p6_RFC],[p5_RFC]], toolbar_location=\"right\"))\n",
    "bp.output_file(filename='../resultados/TrueFX/EUR-USD/RandomForestClassifier/egrafico RandomForestClassifier.html', title='RandomForestClassifier')"
   ]
  },
  {
   "cell_type": "code",
   "execution_count": 71,
   "metadata": {},
   "outputs": [
    {
     "data": {
      "text/plain": [
       "-5.1782500000000518"
      ]
     },
     "execution_count": 71,
     "metadata": {},
     "output_type": "execute_result"
    }
   ],
   "source": [
    "PNL_accu_RFC[-1]"
   ]
  },
  {
   "cell_type": "code",
   "execution_count": 72,
   "metadata": {},
   "outputs": [
    {
     "data": {
      "image/png": "[encoded data removed]",
      "text/plain": [
       "<matplotlib.figure.Figure at 0x7f2123b0ff28>"
      ]
     },
     "metadata": {},
     "output_type": "display_data"
    }
   ],
   "source": [
    "plt.figure(figsize=(15,5))\n",
    "\n",
    "plt.title('Profit and Loss with RandomForestClassifier', size=15)\n",
    "plt.plot(range(len(result_RFC[:,0])), result_RFC[:,0], label='PNL')\n",
    "plt.plot(range(len(result_RFC[:,0])), np.zeros(len(result_RFC[:,0])),color='red', alpha=0.6, label='PNL = 0', linestyle='--')\n",
    "plt.plot(range(len(result_RFC[:,0])), np.ones(len(result_RFC[:,0]))*np.mean(result_RFC[:,0]),\n",
    "         color='green', alpha=0.6, label='PNL mean')\n",
    "plt.xlabel('test day')\n",
    "plt.xticks(range(len(result_RFC)),dates[n_bdtrain:], size=10, rotation=25)\n",
    "plt.legend();"
   ]
  },
  {
   "cell_type": "code",
   "execution_count": 73,
   "metadata": {},
   "outputs": [
    {
     "data": {
      "image/png": "[encoded data removed]",
      "text/plain": [
       "<matplotlib.figure.Figure at 0x7f21234fb3c8>"
      ]
     },
     "metadata": {},
     "output_type": "display_data"
    }
   ],
   "source": [
    "plt.figure(figsize=(16,3))\n",
    "plt.subplot(1,2,1)\n",
    "plt.title('Buy - RandomForestClassifier', size=15)\n",
    "plt.plot(range(len(result_RFC[:,1])), result_RFC[:,1],color='green', alpha=0.6, label='PNL mean')\n",
    "plt.xlabel('test day')\n",
    "plt.xticks(range(len(result_RFC)),dates[n_bdtrain:], size=10, rotation=80)\n",
    "plt.legend();\n",
    "\n",
    "plt.subplot(1,2,2)\n",
    "plt.title('Sell - DecisionTreeClassifier', size=15)\n",
    "plt.plot(range(len(result_RFC[:,2])), result_RFC[:,2],color='red', alpha=0.6, label='PNL mean')\n",
    "plt.xlabel('test day')\n",
    "plt.xticks(range(len(result_RFC)),dates[n_bdtrain:], size=10, rotation=80)\n",
    "plt.legend();"
   ]
  },
  {
   "cell_type": "markdown",
   "metadata": {
    "collapsed": true
   },
   "source": [
    "#### Se probará con multiples señales de entrada para experimentar como se comportan estos modelos.."
   ]
  },
  {
   "cell_type": "code",
   "execution_count": 137,
   "metadata": {
    "collapsed": true
   },
   "outputs": [],
   "source": [
    "#Se lee la señal correspondiente a GBP vs USD para el mes de enero de 2018\n",
    "data_GBPvsUSD = pd.read_csv(\"../data/TrueFX/GBP-USD/GBPUSD-preprocesado-2018-01.csv\", index_col=0\n",
    "                            ,infer_datetime_format=True, parse_dates=True )\n",
    "\n",
    "#Se lee la señal correspondiente a EUR vs USD para el mes de enero de 2018\n",
    "data_EURvsUSD = pd.read_csv(\"../data/TrueFX/EUR-USD/datos_procesados_EURUSD-2018-01.csv\", index_col=0\n",
    "                            ,infer_datetime_format=True, parse_dates=True )"
   ]
  },
  {
   "cell_type": "code",
   "execution_count": 138,
   "metadata": {},
   "outputs": [
    {
     "data": {
      "text/html": [
       "<div>\n",
       "<style>\n",
       "    .dataframe thead tr:only-child th {\n",
       "        text-align: right;\n",
       "    }\n",
       "\n",
       "    .dataframe thead th {\n",
       "        text-align: left;\n",
       "    }\n",
       "\n",
       "    .dataframe tbody tr th {\n",
       "        vertical-align: top;\n",
       "    }\n",
       "</style>\n",
       "<table border=\"1\" class=\"dataframe\">\n",
       "  <thead>\n",
       "    <tr style=\"text-align: right;\">\n",
       "      <th></th>\n",
       "      <th>bid</th>\n",
       "      <th>ask</th>\n",
       "    </tr>\n",
       "    <tr>\n",
       "      <th>date</th>\n",
       "      <th></th>\n",
       "      <th></th>\n",
       "    </tr>\n",
       "  </thead>\n",
       "  <tbody>\n",
       "    <tr>\n",
       "      <th>2018-01-01 23:58:00</th>\n",
       "      <td>1.20093</td>\n",
       "      <td>1.20115</td>\n",
       "    </tr>\n",
       "    <tr>\n",
       "      <th>2018-01-01 23:58:10</th>\n",
       "      <td>1.20093</td>\n",
       "      <td>1.20111</td>\n",
       "    </tr>\n",
       "    <tr>\n",
       "      <th>2018-01-01 23:58:20</th>\n",
       "      <td>1.20082</td>\n",
       "      <td>1.20111</td>\n",
       "    </tr>\n",
       "    <tr>\n",
       "      <th>2018-01-01 23:58:30</th>\n",
       "      <td>1.20043</td>\n",
       "      <td>1.20110</td>\n",
       "    </tr>\n",
       "    <tr>\n",
       "      <th>2018-01-01 23:58:50</th>\n",
       "      <td>1.20011</td>\n",
       "      <td>1.20113</td>\n",
       "    </tr>\n",
       "  </tbody>\n",
       "</table>\n",
       "</div>"
      ],
      "text/plain": [
       "                         bid      ask\n",
       "date                                 \n",
       "2018-01-01 23:58:00  1.20093  1.20115\n",
       "2018-01-01 23:58:10  1.20093  1.20111\n",
       "2018-01-01 23:58:20  1.20082  1.20111\n",
       "2018-01-01 23:58:30  1.20043  1.20110\n",
       "2018-01-01 23:58:50  1.20011  1.20113"
      ]
     },
     "execution_count": 138,
     "metadata": {},
     "output_type": "execute_result"
    }
   ],
   "source": [
    "data_EURvsUSD.head()"
   ]
  },
  {
   "cell_type": "code",
   "execution_count": 139,
   "metadata": {},
   "outputs": [
    {
     "data": {
      "text/html": [
       "<div>\n",
       "<style>\n",
       "    .dataframe thead tr:only-child th {\n",
       "        text-align: right;\n",
       "    }\n",
       "\n",
       "    .dataframe thead th {\n",
       "        text-align: left;\n",
       "    }\n",
       "\n",
       "    .dataframe tbody tr th {\n",
       "        vertical-align: top;\n",
       "    }\n",
       "</style>\n",
       "<table border=\"1\" class=\"dataframe\">\n",
       "  <thead>\n",
       "    <tr style=\"text-align: right;\">\n",
       "      <th></th>\n",
       "      <th>bid</th>\n",
       "      <th>ask</th>\n",
       "    </tr>\n",
       "    <tr>\n",
       "      <th>date</th>\n",
       "      <th></th>\n",
       "      <th></th>\n",
       "    </tr>\n",
       "  </thead>\n",
       "  <tbody>\n",
       "    <tr>\n",
       "      <th>2018-01-02 00:00:40</th>\n",
       "      <td>1.34979</td>\n",
       "      <td>1.35176</td>\n",
       "    </tr>\n",
       "    <tr>\n",
       "      <th>2018-01-02 00:01:00</th>\n",
       "      <td>1.34918</td>\n",
       "      <td>1.35208</td>\n",
       "    </tr>\n",
       "    <tr>\n",
       "      <th>2018-01-02 00:01:10</th>\n",
       "      <td>1.34915</td>\n",
       "      <td>1.35354</td>\n",
       "    </tr>\n",
       "    <tr>\n",
       "      <th>2018-01-02 00:01:20</th>\n",
       "      <td>1.34915</td>\n",
       "      <td>1.35386</td>\n",
       "    </tr>\n",
       "    <tr>\n",
       "      <th>2018-01-02 00:01:30</th>\n",
       "      <td>1.34938</td>\n",
       "      <td>1.35440</td>\n",
       "    </tr>\n",
       "  </tbody>\n",
       "</table>\n",
       "</div>"
      ],
      "text/plain": [
       "                         bid      ask\n",
       "date                                 \n",
       "2018-01-02 00:00:40  1.34979  1.35176\n",
       "2018-01-02 00:01:00  1.34918  1.35208\n",
       "2018-01-02 00:01:10  1.34915  1.35354\n",
       "2018-01-02 00:01:20  1.34915  1.35386\n",
       "2018-01-02 00:01:30  1.34938  1.35440"
      ]
     },
     "execution_count": 139,
     "metadata": {},
     "output_type": "execute_result"
    }
   ],
   "source": [
    "data_GBPvsUSD.head()"
   ]
  },
  {
   "cell_type": "code",
   "execution_count": 140,
   "metadata": {},
   "outputs": [
    {
     "data": {
      "text/plain": [
       "((183535, 2), (185443, 2))"
      ]
     },
     "execution_count": 140,
     "metadata": {},
     "output_type": "execute_result"
    }
   ],
   "source": [
    "data_EURvsUSD.shape, data_GBPvsUSD.shape"
   ]
  },
  {
   "cell_type": "code",
   "execution_count": 141,
   "metadata": {
    "collapsed": true
   },
   "outputs": [],
   "source": [
    "#saco los valores que si están en el mismo instante de tiempo\n",
    "values = data_GBPvsUSD.filter(items=data_EURvsUSD.index, axis=0)"
   ]
  },
  {
   "cell_type": "code",
   "execution_count": 142,
   "metadata": {
    "collapsed": true
   },
   "outputs": [],
   "source": [
    "#inserto una columa llena de ceros para posteriormente colocar ahi los valores a utilizar\n",
    "data_EURvsUSD.insert(loc=2, column='bidGBP/USD', value=np.zeros((data_EURvsUSD.shape[0],1)))"
   ]
  },
  {
   "cell_type": "code",
   "execution_count": 143,
   "metadata": {},
   "outputs": [
    {
     "data": {
      "text/html": [
       "<div>\n",
       "<style>\n",
       "    .dataframe thead tr:only-child th {\n",
       "        text-align: right;\n",
       "    }\n",
       "\n",
       "    .dataframe thead th {\n",
       "        text-align: left;\n",
       "    }\n",
       "\n",
       "    .dataframe tbody tr th {\n",
       "        vertical-align: top;\n",
       "    }\n",
       "</style>\n",
       "<table border=\"1\" class=\"dataframe\">\n",
       "  <thead>\n",
       "    <tr style=\"text-align: right;\">\n",
       "      <th></th>\n",
       "      <th>bid</th>\n",
       "      <th>ask</th>\n",
       "      <th>bidGBP/USD</th>\n",
       "    </tr>\n",
       "    <tr>\n",
       "      <th>date</th>\n",
       "      <th></th>\n",
       "      <th></th>\n",
       "      <th></th>\n",
       "    </tr>\n",
       "  </thead>\n",
       "  <tbody>\n",
       "    <tr>\n",
       "      <th>2018-01-01 23:58:00</th>\n",
       "      <td>1.20093</td>\n",
       "      <td>1.20115</td>\n",
       "      <td>0.0</td>\n",
       "    </tr>\n",
       "    <tr>\n",
       "      <th>2018-01-01 23:58:10</th>\n",
       "      <td>1.20093</td>\n",
       "      <td>1.20111</td>\n",
       "      <td>0.0</td>\n",
       "    </tr>\n",
       "    <tr>\n",
       "      <th>2018-01-01 23:58:20</th>\n",
       "      <td>1.20082</td>\n",
       "      <td>1.20111</td>\n",
       "      <td>0.0</td>\n",
       "    </tr>\n",
       "    <tr>\n",
       "      <th>2018-01-01 23:58:30</th>\n",
       "      <td>1.20043</td>\n",
       "      <td>1.20110</td>\n",
       "      <td>0.0</td>\n",
       "    </tr>\n",
       "    <tr>\n",
       "      <th>2018-01-01 23:58:50</th>\n",
       "      <td>1.20011</td>\n",
       "      <td>1.20113</td>\n",
       "      <td>0.0</td>\n",
       "    </tr>\n",
       "  </tbody>\n",
       "</table>\n",
       "</div>"
      ],
      "text/plain": [
       "                         bid      ask  bidGBP/USD\n",
       "date                                             \n",
       "2018-01-01 23:58:00  1.20093  1.20115         0.0\n",
       "2018-01-01 23:58:10  1.20093  1.20111         0.0\n",
       "2018-01-01 23:58:20  1.20082  1.20111         0.0\n",
       "2018-01-01 23:58:30  1.20043  1.20110         0.0\n",
       "2018-01-01 23:58:50  1.20011  1.20113         0.0"
      ]
     },
     "execution_count": 143,
     "metadata": {},
     "output_type": "execute_result"
    }
   ],
   "source": [
    "data_EURvsUSD.head()"
   ]
  },
  {
   "cell_type": "markdown",
   "metadata": {},
   "source": [
    "procedemos al llenado de los datos con los que contamos, van a quedar algunos en cero debido a que en ciertos instantes de tiempo no se cuenta con esos datos.."
   ]
  },
  {
   "cell_type": "code",
   "execution_count": 144,
   "metadata": {
    "collapsed": true,
    "scrolled": true
   },
   "outputs": [],
   "source": [
    "data_EURvsUSD.loc[values.index,'bidGBP/USD'] = values.loc[values.index,'bid']"
   ]
  },
  {
   "cell_type": "code",
   "execution_count": 145,
   "metadata": {},
   "outputs": [
    {
     "data": {
      "text/html": [
       "<div>\n",
       "<style>\n",
       "    .dataframe thead tr:only-child th {\n",
       "        text-align: right;\n",
       "    }\n",
       "\n",
       "    .dataframe thead th {\n",
       "        text-align: left;\n",
       "    }\n",
       "\n",
       "    .dataframe tbody tr th {\n",
       "        vertical-align: top;\n",
       "    }\n",
       "</style>\n",
       "<table border=\"1\" class=\"dataframe\">\n",
       "  <thead>\n",
       "    <tr style=\"text-align: right;\">\n",
       "      <th></th>\n",
       "      <th>bid</th>\n",
       "      <th>ask</th>\n",
       "      <th>bidGBP/USD</th>\n",
       "    </tr>\n",
       "    <tr>\n",
       "      <th>date</th>\n",
       "      <th></th>\n",
       "      <th></th>\n",
       "      <th></th>\n",
       "    </tr>\n",
       "  </thead>\n",
       "  <tbody>\n",
       "    <tr>\n",
       "      <th>2018-01-01 23:58:00</th>\n",
       "      <td>1.20093</td>\n",
       "      <td>1.20115</td>\n",
       "      <td>0.00000</td>\n",
       "    </tr>\n",
       "    <tr>\n",
       "      <th>2018-01-01 23:58:10</th>\n",
       "      <td>1.20093</td>\n",
       "      <td>1.20111</td>\n",
       "      <td>0.00000</td>\n",
       "    </tr>\n",
       "    <tr>\n",
       "      <th>2018-01-01 23:58:20</th>\n",
       "      <td>1.20082</td>\n",
       "      <td>1.20111</td>\n",
       "      <td>0.00000</td>\n",
       "    </tr>\n",
       "    <tr>\n",
       "      <th>2018-01-01 23:58:30</th>\n",
       "      <td>1.20043</td>\n",
       "      <td>1.20110</td>\n",
       "      <td>0.00000</td>\n",
       "    </tr>\n",
       "    <tr>\n",
       "      <th>2018-01-01 23:58:50</th>\n",
       "      <td>1.20011</td>\n",
       "      <td>1.20113</td>\n",
       "      <td>0.00000</td>\n",
       "    </tr>\n",
       "    <tr>\n",
       "      <th>2018-01-01 23:59:00</th>\n",
       "      <td>1.20015</td>\n",
       "      <td>1.20110</td>\n",
       "      <td>0.00000</td>\n",
       "    </tr>\n",
       "    <tr>\n",
       "      <th>2018-01-01 23:59:10</th>\n",
       "      <td>1.20028</td>\n",
       "      <td>1.20110</td>\n",
       "      <td>0.00000</td>\n",
       "    </tr>\n",
       "    <tr>\n",
       "      <th>2018-01-01 23:59:50</th>\n",
       "      <td>1.20015</td>\n",
       "      <td>1.20110</td>\n",
       "      <td>0.00000</td>\n",
       "    </tr>\n",
       "    <tr>\n",
       "      <th>2018-01-02 00:00:40</th>\n",
       "      <td>1.20015</td>\n",
       "      <td>1.20105</td>\n",
       "      <td>1.34979</td>\n",
       "    </tr>\n",
       "    <tr>\n",
       "      <th>2018-01-02 00:00:50</th>\n",
       "      <td>1.20030</td>\n",
       "      <td>1.20113</td>\n",
       "      <td>0.00000</td>\n",
       "    </tr>\n",
       "  </tbody>\n",
       "</table>\n",
       "</div>"
      ],
      "text/plain": [
       "                         bid      ask  bidGBP/USD\n",
       "date                                             \n",
       "2018-01-01 23:58:00  1.20093  1.20115     0.00000\n",
       "2018-01-01 23:58:10  1.20093  1.20111     0.00000\n",
       "2018-01-01 23:58:20  1.20082  1.20111     0.00000\n",
       "2018-01-01 23:58:30  1.20043  1.20110     0.00000\n",
       "2018-01-01 23:58:50  1.20011  1.20113     0.00000\n",
       "2018-01-01 23:59:00  1.20015  1.20110     0.00000\n",
       "2018-01-01 23:59:10  1.20028  1.20110     0.00000\n",
       "2018-01-01 23:59:50  1.20015  1.20110     0.00000\n",
       "2018-01-02 00:00:40  1.20015  1.20105     1.34979\n",
       "2018-01-02 00:00:50  1.20030  1.20113     0.00000"
      ]
     },
     "execution_count": 145,
     "metadata": {},
     "output_type": "execute_result"
    }
   ],
   "source": [
    "data_EURvsUSD[:10]"
   ]
  },
  {
   "cell_type": "markdown",
   "metadata": {},
   "source": [
    "ahora lo que haremos es llenar estos ceros con el mismo dato del bid del par EUR/USD"
   ]
  },
  {
   "cell_type": "code",
   "execution_count": 146,
   "metadata": {
    "collapsed": true
   },
   "outputs": [],
   "source": [
    "data_EURvsUSD.loc[data_EURvsUSD.loc[data_EURvsUSD.index,'bidGBP/USD']==0, 'bidGBP/USD'] = data_EURvsUSD.loc[data_EURvsUSD.loc[data_EURvsUSD.index,'bidGBP/USD']==0,'bid']"
   ]
  },
  {
   "cell_type": "code",
   "execution_count": 147,
   "metadata": {},
   "outputs": [
    {
     "data": {
      "text/html": [
       "<div>\n",
       "<style>\n",
       "    .dataframe thead tr:only-child th {\n",
       "        text-align: right;\n",
       "    }\n",
       "\n",
       "    .dataframe thead th {\n",
       "        text-align: left;\n",
       "    }\n",
       "\n",
       "    .dataframe tbody tr th {\n",
       "        vertical-align: top;\n",
       "    }\n",
       "</style>\n",
       "<table border=\"1\" class=\"dataframe\">\n",
       "  <thead>\n",
       "    <tr style=\"text-align: right;\">\n",
       "      <th></th>\n",
       "      <th>bid</th>\n",
       "      <th>ask</th>\n",
       "      <th>bidGBP/USD</th>\n",
       "    </tr>\n",
       "    <tr>\n",
       "      <th>date</th>\n",
       "      <th></th>\n",
       "      <th></th>\n",
       "      <th></th>\n",
       "    </tr>\n",
       "  </thead>\n",
       "  <tbody>\n",
       "    <tr>\n",
       "      <th>2018-01-01 23:58:00</th>\n",
       "      <td>1.20093</td>\n",
       "      <td>1.20115</td>\n",
       "      <td>1.20093</td>\n",
       "    </tr>\n",
       "    <tr>\n",
       "      <th>2018-01-01 23:58:10</th>\n",
       "      <td>1.20093</td>\n",
       "      <td>1.20111</td>\n",
       "      <td>1.20093</td>\n",
       "    </tr>\n",
       "    <tr>\n",
       "      <th>2018-01-01 23:58:20</th>\n",
       "      <td>1.20082</td>\n",
       "      <td>1.20111</td>\n",
       "      <td>1.20082</td>\n",
       "    </tr>\n",
       "    <tr>\n",
       "      <th>2018-01-01 23:58:30</th>\n",
       "      <td>1.20043</td>\n",
       "      <td>1.20110</td>\n",
       "      <td>1.20043</td>\n",
       "    </tr>\n",
       "    <tr>\n",
       "      <th>2018-01-01 23:58:50</th>\n",
       "      <td>1.20011</td>\n",
       "      <td>1.20113</td>\n",
       "      <td>1.20011</td>\n",
       "    </tr>\n",
       "    <tr>\n",
       "      <th>2018-01-01 23:59:00</th>\n",
       "      <td>1.20015</td>\n",
       "      <td>1.20110</td>\n",
       "      <td>1.20015</td>\n",
       "    </tr>\n",
       "    <tr>\n",
       "      <th>2018-01-01 23:59:10</th>\n",
       "      <td>1.20028</td>\n",
       "      <td>1.20110</td>\n",
       "      <td>1.20028</td>\n",
       "    </tr>\n",
       "    <tr>\n",
       "      <th>2018-01-01 23:59:50</th>\n",
       "      <td>1.20015</td>\n",
       "      <td>1.20110</td>\n",
       "      <td>1.20015</td>\n",
       "    </tr>\n",
       "    <tr>\n",
       "      <th>2018-01-02 00:00:40</th>\n",
       "      <td>1.20015</td>\n",
       "      <td>1.20105</td>\n",
       "      <td>1.34979</td>\n",
       "    </tr>\n",
       "    <tr>\n",
       "      <th>2018-01-02 00:00:50</th>\n",
       "      <td>1.20030</td>\n",
       "      <td>1.20113</td>\n",
       "      <td>1.20030</td>\n",
       "    </tr>\n",
       "  </tbody>\n",
       "</table>\n",
       "</div>"
      ],
      "text/plain": [
       "                         bid      ask  bidGBP/USD\n",
       "date                                             \n",
       "2018-01-01 23:58:00  1.20093  1.20115     1.20093\n",
       "2018-01-01 23:58:10  1.20093  1.20111     1.20093\n",
       "2018-01-01 23:58:20  1.20082  1.20111     1.20082\n",
       "2018-01-01 23:58:30  1.20043  1.20110     1.20043\n",
       "2018-01-01 23:58:50  1.20011  1.20113     1.20011\n",
       "2018-01-01 23:59:00  1.20015  1.20110     1.20015\n",
       "2018-01-01 23:59:10  1.20028  1.20110     1.20028\n",
       "2018-01-01 23:59:50  1.20015  1.20110     1.20015\n",
       "2018-01-02 00:00:40  1.20015  1.20105     1.34979\n",
       "2018-01-02 00:00:50  1.20030  1.20113     1.20030"
      ]
     },
     "execution_count": 147,
     "metadata": {},
     "output_type": "execute_result"
    }
   ],
   "source": [
    "data_EURvsUSD[:10]"
   ]
  },
  {
   "cell_type": "markdown",
   "metadata": {
    "collapsed": true
   },
   "source": [
    "ahora construimos las dos señales con una ventana de tamaño 3 para probar que tal va..."
   ]
  },
  {
   "cell_type": "code",
   "execution_count": 149,
   "metadata": {
    "collapsed": true
   },
   "outputs": [],
   "source": [
    "%run ../code/EUtilities.py\n",
    "EU = EUtilities()"
   ]
  },
  {
   "cell_type": "code",
   "execution_count": 19,
   "metadata": {
    "collapsed": true
   },
   "outputs": [],
   "source": [
    "#los datos de el par GBP/USD para luego unirlos y formar los datos X para entrenar\n",
    "X_GBPUSD,_ = EU.build_dataset(data_EURvsUSD.iloc[:,2],window=3,binary_target=False,delete_constant_values=True)\n",
    "#los datos de el par EUR/USD \"\"\n",
    "X_EURUSD, y_EURUSD, bt_EURUSD = EU.build_dataset(data_EURvsUSD.iloc[:,0],window=3,binary_target=True,PNL=True\n",
    "                                             ,delete_constant_values=True)"
   ]
  },
  {
   "cell_type": "code",
   "execution_count": 20,
   "metadata": {},
   "outputs": [
    {
     "data": {
      "text/plain": [
       "((156578, 4), (161098, 3))"
      ]
     },
     "execution_count": 20,
     "metadata": {},
     "output_type": "execute_result"
    }
   ],
   "source": [
    "X_EURUSD.shape, X_GBPUSD.shape"
   ]
  },
  {
   "cell_type": "markdown",
   "metadata": {},
   "source": [
    "debido a que son diferentes señales, al habilitar la opción de <i>\"delete_constant_values\"</i> en la función <i>\"build_dataset\"</i> esto hace que las señales resultantes no sean iguales en tamaño, por ende para entrenar se cogeran los valores de los indices de la señal a medir, si este no está en la otra señal, se coloca lo de la señal EUR/USD"
   ]
  },
  {
   "cell_type": "code",
   "execution_count": 22,
   "metadata": {},
   "outputs": [
    {
     "data": {
      "text/plain": [
       "((156578, 4), (156578, 3))"
      ]
     },
     "execution_count": 22,
     "metadata": {},
     "output_type": "execute_result"
    }
   ],
   "source": [
    "X_GBPUSD = X_GBPUSD.loc[X_EURUSD.index]\n",
    "X_EURUSD.shape, X_GBPUSD.shape"
   ]
  },
  {
   "cell_type": "code",
   "execution_count": 23,
   "metadata": {},
   "outputs": [
    {
     "data": {
      "text/html": [
       "<div>\n",
       "<style>\n",
       "    .dataframe thead tr:only-child th {\n",
       "        text-align: right;\n",
       "    }\n",
       "\n",
       "    .dataframe thead th {\n",
       "        text-align: left;\n",
       "    }\n",
       "\n",
       "    .dataframe tbody tr th {\n",
       "        vertical-align: top;\n",
       "    }\n",
       "</style>\n",
       "<table border=\"1\" class=\"dataframe\">\n",
       "  <thead>\n",
       "    <tr style=\"text-align: right;\">\n",
       "      <th></th>\n",
       "      <th>0</th>\n",
       "      <th>1</th>\n",
       "      <th>2</th>\n",
       "    </tr>\n",
       "    <tr>\n",
       "      <th>date</th>\n",
       "      <th></th>\n",
       "      <th></th>\n",
       "      <th></th>\n",
       "    </tr>\n",
       "  </thead>\n",
       "  <tbody>\n",
       "    <tr>\n",
       "      <th>2018-01-01 23:58:50</th>\n",
       "      <td>1.20093</td>\n",
       "      <td>1.20093</td>\n",
       "      <td>1.20082</td>\n",
       "    </tr>\n",
       "    <tr>\n",
       "      <th>2018-01-01 23:59:00</th>\n",
       "      <td>1.20093</td>\n",
       "      <td>1.20082</td>\n",
       "      <td>1.20043</td>\n",
       "    </tr>\n",
       "    <tr>\n",
       "      <th>2018-01-01 23:59:10</th>\n",
       "      <td>1.20082</td>\n",
       "      <td>1.20043</td>\n",
       "      <td>1.20011</td>\n",
       "    </tr>\n",
       "    <tr>\n",
       "      <th>2018-01-01 23:59:50</th>\n",
       "      <td>1.20043</td>\n",
       "      <td>1.20011</td>\n",
       "      <td>1.20015</td>\n",
       "    </tr>\n",
       "    <tr>\n",
       "      <th>2018-01-02 00:00:40</th>\n",
       "      <td>1.20011</td>\n",
       "      <td>1.20015</td>\n",
       "      <td>1.20028</td>\n",
       "    </tr>\n",
       "    <tr>\n",
       "      <th>2018-01-02 00:01:00</th>\n",
       "      <td>1.20028</td>\n",
       "      <td>1.20015</td>\n",
       "      <td>1.34979</td>\n",
       "    </tr>\n",
       "    <tr>\n",
       "      <th>2018-01-02 00:03:00</th>\n",
       "      <td>1.20030</td>\n",
       "      <td>1.34918</td>\n",
       "      <td>1.34915</td>\n",
       "    </tr>\n",
       "    <tr>\n",
       "      <th>2018-01-02 00:03:30</th>\n",
       "      <td>1.34915</td>\n",
       "      <td>1.34940</td>\n",
       "      <td>1.20026</td>\n",
       "    </tr>\n",
       "    <tr>\n",
       "      <th>2018-01-02 00:03:40</th>\n",
       "      <td>NaN</td>\n",
       "      <td>NaN</td>\n",
       "      <td>NaN</td>\n",
       "    </tr>\n",
       "    <tr>\n",
       "      <th>2018-01-02 00:03:50</th>\n",
       "      <td>1.20026</td>\n",
       "      <td>1.34979</td>\n",
       "      <td>1.34979</td>\n",
       "    </tr>\n",
       "  </tbody>\n",
       "</table>\n",
       "</div>"
      ],
      "text/plain": [
       "                           0        1        2\n",
       "date                                          \n",
       "2018-01-01 23:58:50  1.20093  1.20093  1.20082\n",
       "2018-01-01 23:59:00  1.20093  1.20082  1.20043\n",
       "2018-01-01 23:59:10  1.20082  1.20043  1.20011\n",
       "2018-01-01 23:59:50  1.20043  1.20011  1.20015\n",
       "2018-01-02 00:00:40  1.20011  1.20015  1.20028\n",
       "2018-01-02 00:01:00  1.20028  1.20015  1.34979\n",
       "2018-01-02 00:03:00  1.20030  1.34918  1.34915\n",
       "2018-01-02 00:03:30  1.34915  1.34940  1.20026\n",
       "2018-01-02 00:03:40      NaN      NaN      NaN\n",
       "2018-01-02 00:03:50  1.20026  1.34979  1.34979"
      ]
     },
     "execution_count": 23,
     "metadata": {},
     "output_type": "execute_result"
    }
   ],
   "source": [
    "X_GBPUSD[:10]"
   ]
  },
  {
   "cell_type": "markdown",
   "metadata": {},
   "source": [
    "con este metodo lleno los valores NaN del par GBP/USD por los valores que hay en EUR/USD"
   ]
  },
  {
   "cell_type": "code",
   "execution_count": 24,
   "metadata": {
    "collapsed": true,
    "scrolled": true
   },
   "outputs": [],
   "source": [
    "#para cambiar los valores NaN\n",
    "X_GBPUSD = X_GBPUSD.fillna(X_EURUSD,axis=0)"
   ]
  },
  {
   "cell_type": "markdown",
   "metadata": {},
   "source": [
    "ahora se unen para poder entrenar la multiseñal y ver como funciona"
   ]
  },
  {
   "cell_type": "code",
   "execution_count": 25,
   "metadata": {
    "collapsed": true
   },
   "outputs": [],
   "source": [
    "X_EURUSD.insert(loc=3,column=3,value=X_GBPUSD.iloc[:,0])\n",
    "X_EURUSD.insert(loc=4,column=4,value=X_GBPUSD.iloc[:,1])\n",
    "X_EURUSD.insert(loc=5,column=5,value=X_GBPUSD.iloc[:,2])"
   ]
  },
  {
   "cell_type": "code",
   "execution_count": 26,
   "metadata": {},
   "outputs": [
    {
     "data": {
      "text/html": [
       "<div>\n",
       "<style>\n",
       "    .dataframe thead tr:only-child th {\n",
       "        text-align: right;\n",
       "    }\n",
       "\n",
       "    .dataframe thead th {\n",
       "        text-align: left;\n",
       "    }\n",
       "\n",
       "    .dataframe tbody tr th {\n",
       "        vertical-align: top;\n",
       "    }\n",
       "</style>\n",
       "<table border=\"1\" class=\"dataframe\">\n",
       "  <thead>\n",
       "    <tr style=\"text-align: right;\">\n",
       "      <th></th>\n",
       "      <th>0</th>\n",
       "      <th>1</th>\n",
       "      <th>2</th>\n",
       "      <th>3</th>\n",
       "      <th>4</th>\n",
       "      <th>5</th>\n",
       "      <th>PNL</th>\n",
       "    </tr>\n",
       "    <tr>\n",
       "      <th>date</th>\n",
       "      <th></th>\n",
       "      <th></th>\n",
       "      <th></th>\n",
       "      <th></th>\n",
       "      <th></th>\n",
       "      <th></th>\n",
       "      <th></th>\n",
       "    </tr>\n",
       "  </thead>\n",
       "  <tbody>\n",
       "    <tr>\n",
       "      <th>2018-01-01 23:58:50</th>\n",
       "      <td>1.20093</td>\n",
       "      <td>1.20093</td>\n",
       "      <td>1.20082</td>\n",
       "      <td>1.20093</td>\n",
       "      <td>1.20093</td>\n",
       "      <td>1.20082</td>\n",
       "      <td>-0.00039</td>\n",
       "    </tr>\n",
       "    <tr>\n",
       "      <th>2018-01-01 23:59:00</th>\n",
       "      <td>1.20093</td>\n",
       "      <td>1.20082</td>\n",
       "      <td>1.20043</td>\n",
       "      <td>1.20093</td>\n",
       "      <td>1.20082</td>\n",
       "      <td>1.20043</td>\n",
       "      <td>-0.00032</td>\n",
       "    </tr>\n",
       "    <tr>\n",
       "      <th>2018-01-01 23:59:10</th>\n",
       "      <td>1.20082</td>\n",
       "      <td>1.20043</td>\n",
       "      <td>1.20011</td>\n",
       "      <td>1.20082</td>\n",
       "      <td>1.20043</td>\n",
       "      <td>1.20011</td>\n",
       "      <td>0.00004</td>\n",
       "    </tr>\n",
       "    <tr>\n",
       "      <th>2018-01-01 23:59:50</th>\n",
       "      <td>1.20043</td>\n",
       "      <td>1.20011</td>\n",
       "      <td>1.20015</td>\n",
       "      <td>1.20043</td>\n",
       "      <td>1.20011</td>\n",
       "      <td>1.20015</td>\n",
       "      <td>0.00013</td>\n",
       "    </tr>\n",
       "    <tr>\n",
       "      <th>2018-01-02 00:00:40</th>\n",
       "      <td>1.20011</td>\n",
       "      <td>1.20015</td>\n",
       "      <td>1.20028</td>\n",
       "      <td>1.20011</td>\n",
       "      <td>1.20015</td>\n",
       "      <td>1.20028</td>\n",
       "      <td>-0.00013</td>\n",
       "    </tr>\n",
       "  </tbody>\n",
       "</table>\n",
       "</div>"
      ],
      "text/plain": [
       "                           0        1        2        3        4        5  \\\n",
       "date                                                                        \n",
       "2018-01-01 23:58:50  1.20093  1.20093  1.20082  1.20093  1.20093  1.20082   \n",
       "2018-01-01 23:59:00  1.20093  1.20082  1.20043  1.20093  1.20082  1.20043   \n",
       "2018-01-01 23:59:10  1.20082  1.20043  1.20011  1.20082  1.20043  1.20011   \n",
       "2018-01-01 23:59:50  1.20043  1.20011  1.20015  1.20043  1.20011  1.20015   \n",
       "2018-01-02 00:00:40  1.20011  1.20015  1.20028  1.20011  1.20015  1.20028   \n",
       "\n",
       "                         PNL  \n",
       "date                          \n",
       "2018-01-01 23:58:50 -0.00039  \n",
       "2018-01-01 23:59:00 -0.00032  \n",
       "2018-01-01 23:59:10  0.00004  \n",
       "2018-01-01 23:59:50  0.00013  \n",
       "2018-01-02 00:00:40 -0.00013  "
      ]
     },
     "execution_count": 26,
     "metadata": {},
     "output_type": "execute_result"
    }
   ],
   "source": [
    "X_EURUSD.head()"
   ]
  },
  {
   "cell_type": "code",
   "execution_count": 31,
   "metadata": {},
   "outputs": [
    {
     "name": "stdout",
     "output_type": "stream",
     "text": [
      "--------- GaussianNB ----------------\n",
      "average PNL :  -0.00102210526316\n",
      "average buy:  2010.26315789\n",
      "average sell:  5198.36842105\n",
      "-------------------------------------\n",
      "        PNL    buys   sells  longest_buys  longest_sells\n",
      "0   0.00627   417.0  6041.0          11.0         2864.0\n",
      "1  -0.00614  5424.0  1090.0        4746.0           22.0\n",
      "2  -0.00332  6656.0     0.0        6656.0            0.0\n",
      "3  -0.00100   159.0  6860.0           2.0         1590.0\n",
      "4  -0.00804   130.0  6982.0           2.0         3336.0\n",
      "5  -0.01655     0.0  7093.0           0.0         7093.0\n",
      "6   0.00657  7099.0     0.0        7099.0            0.0\n",
      "7   0.00251   983.0  6139.0           6.0           58.0\n",
      "8   0.00696   841.0  6698.0          17.0           74.0\n",
      "9  -0.00829  1089.0  6269.0          14.0           47.0\n",
      "10  0.00468   928.0  6383.0         160.0         3966.0\n",
      "11  0.00730  1919.0  5232.0          40.0         1393.0\n",
      "12 -0.00059    87.0  7094.0          15.0         4046.0\n",
      "13 -0.01095     0.0  7471.0           0.0         7471.0\n",
      "14 -0.01674  1130.0  6589.0         130.0         4951.0\n",
      "15 -0.00382     0.0  7618.0           0.0         7618.0\n",
      "16  0.00756  2856.0  4596.0          76.0         1683.0\n",
      "17  0.00640  5662.0  1823.0          84.0          626.0\n",
      "18  0.00777  2815.0  4791.0         140.0         3890.0\n"
     ]
    }
   ],
   "source": [
    "from sklearn.naive_bayes import GaussianNB\n",
    "    \n",
    "y = bt_EURUSD\n",
    "n_bdtrain = 4\n",
    "n_bdtest = 1\n",
    "mday = 1\n",
    "\n",
    "est_GNB = PNLEstimatorWrapper(GaussianNB(), PNL_column='PNL')\n",
    "result_GNB = step_validation(est_GNB, X_EURUSD, y, v_split(X_EURUSD,n_bdtrain,n_bdtest,mday))\n",
    "result_GNB, predict_GNB = redim(result_GNB)\n",
    "print('--------- GaussianNB ----------------')\n",
    "print('average PNL : ', np.mean(result_GNB[:,0]))\n",
    "print('average buy: ', np.mean(result_GNB[:,1]))\n",
    "print('average sell: ', np.mean(result_GNB[:,2]))\n",
    "print('-------------------------------------')\n",
    "print(pd.DataFrame(result_GNB, columns=list(['PNL','buys','sells','longest_buys','longest_sells'])))"
   ]
  },
  {
   "cell_type": "code",
   "execution_count": 32,
   "metadata": {},
   "outputs": [
    {
     "name": "stdout",
     "output_type": "stream",
     "text": [
      "--------- KNeighborsClassifier ----------------\n",
      "average PNL :  -0.000912631578947\n",
      "average buy:  3360.05263158\n",
      "average sell:  3848.57894737\n",
      "-------------------------------------\n",
      "        PNL    buys   sells  longest_buys  longest_sells\n",
      "0  -0.00021  3175.0  3283.0          60.0          100.0\n",
      "1  -0.00958  4993.0  1521.0         109.0           24.0\n",
      "2  -0.00086  5661.0   995.0        1560.0           28.0\n",
      "3  -0.00346  3850.0  3169.0         202.0           58.0\n",
      "4  -0.00960  4189.0  2923.0          72.0          100.0\n",
      "5  -0.01023   855.0  6238.0          21.0          960.0\n",
      "6  -0.00007  5181.0  1918.0         132.0           54.0\n",
      "7   0.00391  3981.0  3141.0         146.0           61.0\n",
      "8  -0.00060  4791.0  2748.0         132.0          142.0\n",
      "9  -0.00157  2726.0  4632.0          77.0           85.0\n",
      "10 -0.00152  3482.0  3829.0          58.0           60.0\n",
      "11  0.01526  3157.0  3994.0          41.0           64.0\n",
      "12  0.00127  2290.0  4891.0          25.0          102.0\n",
      "13 -0.00923   258.0  7213.0          21.0         1803.0\n",
      "14  0.00378  2561.0  5158.0         106.0         1895.0\n",
      "15  0.00286  3035.0  4583.0          49.0          236.0\n",
      "16  0.00014  4016.0  3436.0         212.0          124.0\n",
      "17 -0.00126  2584.0  4901.0          53.0          105.0\n",
      "18  0.00363  3056.0  4550.0          55.0          170.0\n"
     ]
    }
   ],
   "source": [
    "from sklearn.neighbors import KNeighborsClassifier\n",
    "    \n",
    "y = bt_EURUSD\n",
    "n_bdtrain = 4\n",
    "n_bdtest = 1\n",
    "mday = 1\n",
    "\n",
    "est_KNC = PNLEstimatorWrapper(KNeighborsClassifier(n_neighbors=7,n_jobs=2,leaf_size=30\n",
    "                                                   ,algorithm='kd_tree'), PNL_column='PNL')\n",
    "result_KNC = step_validation(est_KNC, X_EURUSD, y, v_split(X_EURUSD,n_bdtrain,n_bdtest,mday))\n",
    "result_KNC, predict_KNC = redim(result_KNC)\n",
    "print('--------- KNeighborsClassifier ----------------')\n",
    "print('average PNL : ', np.mean(result_KNC[:,0]))\n",
    "print('average buy: ', np.mean(result_KNC[:,1]))\n",
    "print('average sell: ', np.mean(result_KNC[:,2]))\n",
    "print('-------------------------------------')\n",
    "print(pd.DataFrame(result_KNC, columns=list(['PNL','buys','sells','longest_buys','longest_sells'])))"
   ]
  },
  {
   "cell_type": "code",
   "execution_count": 33,
   "metadata": {},
   "outputs": [
    {
     "name": "stdout",
     "output_type": "stream",
     "text": [
      "--------- DecisionTreeClassifier ----------------\n",
      "average PNL :  -0.00222\n",
      "average buy:  3349.0\n",
      "average sell:  3859.63157895\n",
      "-------------------------------------\n",
      "        PNL    buys   sells  longest_buys  longest_sells\n",
      "0  -0.00569  2915.0  3543.0          26.0           35.0\n",
      "1   0.00172  1407.0  5107.0          39.0          721.0\n",
      "2  -0.00256  5959.0   697.0        4215.0           19.0\n",
      "3   0.00554  4733.0  2286.0         124.0           25.0\n",
      "4  -0.01136  3664.0  3448.0          31.0           62.0\n",
      "5  -0.01365   765.0  6328.0          12.0          960.0\n",
      "6  -0.00551  1197.0  5902.0          31.0         1187.0\n",
      "7  -0.00235  4524.0  2598.0         139.0           24.0\n",
      "8   0.00218  4734.0  2805.0          91.0           49.0\n",
      "9  -0.00959  3241.0  4117.0         111.0           60.0\n",
      "10 -0.00844  3561.0  3750.0          41.0           74.0\n",
      "11 -0.00956  2832.0  4319.0          53.0          115.0\n",
      "12  0.00507  3598.0  3583.0          62.0           81.0\n",
      "13 -0.01063  1105.0  6366.0         154.0           95.0\n",
      "14  0.00446  6538.0  1181.0         102.0           53.0\n",
      "15  0.00980  3562.0  4056.0          31.0          179.0\n",
      "16  0.00480  2905.0  4547.0          51.0          111.0\n",
      "17 -0.00178  3185.0  4300.0         221.0           89.0\n",
      "18  0.00537  3206.0  4400.0          30.0          173.0\n"
     ]
    }
   ],
   "source": [
    "from sklearn.tree import DecisionTreeClassifier\n",
    "    \n",
    "y = bt_EURUSD\n",
    "n_bdtrain = 4\n",
    "n_bdtest = 1\n",
    "mday = 1\n",
    "\n",
    "est_DTC = PNLEstimatorWrapper(DecisionTreeClassifier(), PNL_column='PNL')\n",
    "result_DTC = step_validation(est_DTC, X_EURUSD, y, v_split(X_EURUSD,n_bdtrain,n_bdtest,mday))\n",
    "result_DTC, predict_DTC = redim(result_DTC)\n",
    "print('--------- DecisionTreeClassifier ----------------')\n",
    "print('average PNL : ', np.mean(result_DTC[:,0]))\n",
    "print('average buy: ', np.mean(result_DTC[:,1]))\n",
    "print('average sell: ', np.mean(result_DTC[:,2]))\n",
    "print('-------------------------------------')\n",
    "print(pd.DataFrame(result_DTC, columns=list(['PNL','buys','sells','longest_buys','longest_sells'])))"
   ]
  },
  {
   "cell_type": "markdown",
   "metadata": {},
   "source": [
    "#### se puede concluir que disminuye el nivel de acierto al añadirle al par EUR/USD la señal de GBP/USD..\n",
    "ahora probaré con los mismos dos pares pero para predecir el par GBP/USD"
   ]
  },
  {
   "cell_type": "code",
   "execution_count": 63,
   "metadata": {
    "collapsed": true
   },
   "outputs": [],
   "source": [
    "#Se lee la señal correspondiente a GBP vs USD para el mes de enero de 2018\n",
    "data_GBPvsUSD = pd.read_csv(\"../data/TrueFX/GBP-USD/GBPUSD-preprocesado-2018-01.csv\", index_col=0\n",
    "                            ,infer_datetime_format=True, parse_dates=True )\n",
    "#Se lee la señal correspondiente a EUR vs USD para el mes de enero de 2018\n",
    "data_EURvsUSD = pd.read_csv(\"../data/TrueFX/EUR-USD/datos_procesados_EURUSD-2018-01.csv\", index_col=0\n",
    "                            ,infer_datetime_format=True, parse_dates=True )\n",
    "\n",
    "#saco los valores que si están en el mismo instante de tiempo\n",
    "values = data_EURvsUSD.filter(items=data_GBPvsUSD.index, axis=0)\n",
    "\n",
    "#inserto una columa llena de ceros para posteriormente colocar ahi los valores a utilizar\n",
    "data_GBPvsUSD.insert(loc=2, column='bidEUR/USD', value=np.zeros((data_GBPvsUSD.shape[0],1)))\n",
    "\n",
    "#llenamos con los datos\n",
    "data_GBPvsUSD.loc[values.index,'bidEUR/USD'] = values.loc[values.index,'bid']\n",
    "\n",
    "#llenamos los ceros\n",
    "data_GBPvsUSD.loc[data_GBPvsUSD.loc[data_GBPvsUSD.index,'bidEUR/USD']==0, 'bidEUR/USD'] = data_GBPvsUSD.loc[data_GBPvsUSD.loc[data_GBPvsUSD.index,'bidEUR/USD']==0,'bid']"
   ]
  },
  {
   "cell_type": "code",
   "execution_count": 66,
   "metadata": {},
   "outputs": [
    {
     "data": {
      "text/plain": [
       "((183535, 2), (185443, 3))"
      ]
     },
     "execution_count": 66,
     "metadata": {},
     "output_type": "execute_result"
    }
   ],
   "source": [
    "data_EURvsUSD.shape, data_GBPvsUSD.shape"
   ]
  },
  {
   "cell_type": "code",
   "execution_count": 67,
   "metadata": {},
   "outputs": [
    {
     "data": {
      "text/html": [
       "<div>\n",
       "<style>\n",
       "    .dataframe thead tr:only-child th {\n",
       "        text-align: right;\n",
       "    }\n",
       "\n",
       "    .dataframe thead th {\n",
       "        text-align: left;\n",
       "    }\n",
       "\n",
       "    .dataframe tbody tr th {\n",
       "        vertical-align: top;\n",
       "    }\n",
       "</style>\n",
       "<table border=\"1\" class=\"dataframe\">\n",
       "  <thead>\n",
       "    <tr style=\"text-align: right;\">\n",
       "      <th></th>\n",
       "      <th>bid</th>\n",
       "      <th>ask</th>\n",
       "      <th>bidEUR/USD</th>\n",
       "    </tr>\n",
       "    <tr>\n",
       "      <th>date</th>\n",
       "      <th></th>\n",
       "      <th></th>\n",
       "      <th></th>\n",
       "    </tr>\n",
       "  </thead>\n",
       "  <tbody>\n",
       "    <tr>\n",
       "      <th>2018-01-02 00:00:40</th>\n",
       "      <td>1.34979</td>\n",
       "      <td>1.35176</td>\n",
       "      <td>1.20015</td>\n",
       "    </tr>\n",
       "    <tr>\n",
       "      <th>2018-01-02 00:01:00</th>\n",
       "      <td>1.34918</td>\n",
       "      <td>1.35208</td>\n",
       "      <td>1.20030</td>\n",
       "    </tr>\n",
       "    <tr>\n",
       "      <th>2018-01-02 00:01:10</th>\n",
       "      <td>1.34915</td>\n",
       "      <td>1.35354</td>\n",
       "      <td>1.34915</td>\n",
       "    </tr>\n",
       "    <tr>\n",
       "      <th>2018-01-02 00:01:20</th>\n",
       "      <td>1.34915</td>\n",
       "      <td>1.35386</td>\n",
       "      <td>1.20030</td>\n",
       "    </tr>\n",
       "    <tr>\n",
       "      <th>2018-01-02 00:01:30</th>\n",
       "      <td>1.34938</td>\n",
       "      <td>1.35440</td>\n",
       "      <td>1.34938</td>\n",
       "    </tr>\n",
       "  </tbody>\n",
       "</table>\n",
       "</div>"
      ],
      "text/plain": [
       "                         bid      ask  bidEUR/USD\n",
       "date                                             \n",
       "2018-01-02 00:00:40  1.34979  1.35176     1.20015\n",
       "2018-01-02 00:01:00  1.34918  1.35208     1.20030\n",
       "2018-01-02 00:01:10  1.34915  1.35354     1.34915\n",
       "2018-01-02 00:01:20  1.34915  1.35386     1.20030\n",
       "2018-01-02 00:01:30  1.34938  1.35440     1.34938"
      ]
     },
     "execution_count": 67,
     "metadata": {},
     "output_type": "execute_result"
    }
   ],
   "source": [
    "data_GBPvsUSD.head()"
   ]
  },
  {
   "cell_type": "code",
   "execution_count": 69,
   "metadata": {
    "collapsed": true
   },
   "outputs": [],
   "source": [
    "#los datos de el par GBP/USD para luego unirlos y formar los datos X para entrenar\n",
    "X_GBPUSD, y_GBPUSD, bt_GBPUSD = build_dataset(data_GBPvsUSD.iloc[:,0],window=3,binary_target=True,PNL=True)\n",
    "#los datos de el par EUR/USD \"\"\n",
    "X_EURUSD,_ = build_dataset(data_GBPvsUSD.iloc[:,2],window=3,delete_constant_values=True)"
   ]
  },
  {
   "cell_type": "code",
   "execution_count": 70,
   "metadata": {},
   "outputs": [
    {
     "data": {
      "text/plain": [
       "((160808, 3), (160804, 4))"
      ]
     },
     "execution_count": 70,
     "metadata": {},
     "output_type": "execute_result"
    }
   ],
   "source": [
    "X_EURUSD.shape, X_GBPUSD.shape"
   ]
  },
  {
   "cell_type": "code",
   "execution_count": 72,
   "metadata": {},
   "outputs": [
    {
     "data": {
      "text/plain": [
       "((160804, 3), (160804, 4))"
      ]
     },
     "execution_count": 72,
     "metadata": {},
     "output_type": "execute_result"
    }
   ],
   "source": [
    "X_EURUSD = X_EURUSD.loc[X_GBPUSD.index]\n",
    "X_EURUSD.shape, X_GBPUSD.shape"
   ]
  },
  {
   "cell_type": "code",
   "execution_count": 73,
   "metadata": {
    "collapsed": true
   },
   "outputs": [],
   "source": [
    "#para cambiar los valores NaN\n",
    "X_EURUSD = X_EURUSD.fillna(X_GBPUSD,axis=0)"
   ]
  },
  {
   "cell_type": "code",
   "execution_count": 74,
   "metadata": {
    "collapsed": true
   },
   "outputs": [],
   "source": [
    "X_GBPUSD.insert(loc=3,column=3,value=X_EURUSD.iloc[:,0])\n",
    "X_GBPUSD.insert(loc=4,column=4,value=X_EURUSD.iloc[:,1])\n",
    "X_GBPUSD.insert(loc=5,column=5,value=X_EURUSD.iloc[:,2])"
   ]
  },
  {
   "cell_type": "code",
   "execution_count": 75,
   "metadata": {},
   "outputs": [
    {
     "data": {
      "text/html": [
       "<div>\n",
       "<style>\n",
       "    .dataframe thead tr:only-child th {\n",
       "        text-align: right;\n",
       "    }\n",
       "\n",
       "    .dataframe thead th {\n",
       "        text-align: left;\n",
       "    }\n",
       "\n",
       "    .dataframe tbody tr th {\n",
       "        vertical-align: top;\n",
       "    }\n",
       "</style>\n",
       "<table border=\"1\" class=\"dataframe\">\n",
       "  <thead>\n",
       "    <tr style=\"text-align: right;\">\n",
       "      <th></th>\n",
       "      <th>0</th>\n",
       "      <th>1</th>\n",
       "      <th>2</th>\n",
       "      <th>3</th>\n",
       "      <th>4</th>\n",
       "      <th>5</th>\n",
       "      <th>PNL</th>\n",
       "    </tr>\n",
       "    <tr>\n",
       "      <th>date</th>\n",
       "      <th></th>\n",
       "      <th></th>\n",
       "      <th></th>\n",
       "      <th></th>\n",
       "      <th></th>\n",
       "      <th></th>\n",
       "      <th></th>\n",
       "    </tr>\n",
       "  </thead>\n",
       "  <tbody>\n",
       "    <tr>\n",
       "      <th>2018-01-02 00:01:40</th>\n",
       "      <td>1.34918</td>\n",
       "      <td>1.34915</td>\n",
       "      <td>1.34915</td>\n",
       "      <td>1.20030</td>\n",
       "      <td>1.34915</td>\n",
       "      <td>1.20030</td>\n",
       "      <td>0.00023</td>\n",
       "    </tr>\n",
       "    <tr>\n",
       "      <th>2018-01-02 00:02:10</th>\n",
       "      <td>1.34915</td>\n",
       "      <td>1.34938</td>\n",
       "      <td>1.34938</td>\n",
       "      <td>1.20030</td>\n",
       "      <td>1.34938</td>\n",
       "      <td>1.34938</td>\n",
       "      <td>0.00004</td>\n",
       "    </tr>\n",
       "    <tr>\n",
       "      <th>2018-01-02 00:02:30</th>\n",
       "      <td>1.34938</td>\n",
       "      <td>1.34938</td>\n",
       "      <td>1.34942</td>\n",
       "      <td>1.34938</td>\n",
       "      <td>1.34938</td>\n",
       "      <td>1.34942</td>\n",
       "      <td>-0.00003</td>\n",
       "    </tr>\n",
       "    <tr>\n",
       "      <th>2018-01-02 00:02:40</th>\n",
       "      <td>1.34938</td>\n",
       "      <td>1.34942</td>\n",
       "      <td>1.34939</td>\n",
       "      <td>1.34938</td>\n",
       "      <td>1.34942</td>\n",
       "      <td>1.34939</td>\n",
       "      <td>0.00040</td>\n",
       "    </tr>\n",
       "    <tr>\n",
       "      <th>2018-01-02 00:03:10</th>\n",
       "      <td>1.34939</td>\n",
       "      <td>1.34979</td>\n",
       "      <td>1.34979</td>\n",
       "      <td>1.34939</td>\n",
       "      <td>1.34979</td>\n",
       "      <td>1.34979</td>\n",
       "      <td>-0.00039</td>\n",
       "    </tr>\n",
       "  </tbody>\n",
       "</table>\n",
       "</div>"
      ],
      "text/plain": [
       "                           0        1        2        3        4        5  \\\n",
       "date                                                                        \n",
       "2018-01-02 00:01:40  1.34918  1.34915  1.34915  1.20030  1.34915  1.20030   \n",
       "2018-01-02 00:02:10  1.34915  1.34938  1.34938  1.20030  1.34938  1.34938   \n",
       "2018-01-02 00:02:30  1.34938  1.34938  1.34942  1.34938  1.34938  1.34942   \n",
       "2018-01-02 00:02:40  1.34938  1.34942  1.34939  1.34938  1.34942  1.34939   \n",
       "2018-01-02 00:03:10  1.34939  1.34979  1.34979  1.34939  1.34979  1.34979   \n",
       "\n",
       "                         PNL  \n",
       "date                          \n",
       "2018-01-02 00:01:40  0.00023  \n",
       "2018-01-02 00:02:10  0.00004  \n",
       "2018-01-02 00:02:30 -0.00003  \n",
       "2018-01-02 00:02:40  0.00040  \n",
       "2018-01-02 00:03:10 -0.00039  "
      ]
     },
     "execution_count": 75,
     "metadata": {},
     "output_type": "execute_result"
    }
   ],
   "source": [
    "X_GBPUSD.head()"
   ]
  },
  {
   "cell_type": "code",
   "execution_count": 77,
   "metadata": {},
   "outputs": [
    {
     "name": "stdout",
     "output_type": "stream",
     "text": [
      "--------- GaussianNB ----------------\n",
      "average PNL :  -0.00199052631579\n",
      "average buy:  2261.31578947\n",
      "average sell:  4741.89473684\n",
      "-------------------------------------\n",
      "        PNL    buys   sells  longest_buys  longest_sells\n",
      "0   0.00680  1225.0  5574.0          41.0         2316.0\n",
      "1   0.00676  3011.0  3822.0        1606.0         2579.0\n",
      "2   0.00762  3437.0  3611.0         849.0          108.0\n",
      "3   0.00036  4790.0  2343.0        3361.0         1274.0\n",
      "4  -0.01519  3032.0  4189.0        2399.0          477.0\n",
      "5   0.00606  7280.0     0.0        7280.0            0.0\n",
      "6   0.00038     0.0  7107.0           0.0         7107.0\n",
      "7  -0.00455     0.0  7515.0           0.0         7515.0\n",
      "8  -0.00646     0.0  7473.0           0.0         7473.0\n",
      "9   0.00683     0.0  7361.0           0.0         7361.0\n",
      "10 -0.01562     0.0  7399.0           0.0         7399.0\n",
      "11 -0.00114     0.0  7330.0           0.0         7330.0\n",
      "12 -0.02440     0.0  7579.0           0.0         7579.0\n",
      "13 -0.00801  6913.0   912.0         130.0           11.0\n",
      "14 -0.00241     0.0  7780.0           0.0         7780.0\n",
      "15 -0.00836  6549.0  1008.0          70.0            8.0\n",
      "16  0.00405  4111.0  3515.0        3010.0          825.0\n",
      "17  0.01033  2616.0  5102.0          62.0         1463.0\n",
      "18 -0.00087     1.0   476.0           1.0          474.0\n"
     ]
    }
   ],
   "source": [
    "from sklearn.naive_bayes import GaussianNB\n",
    "    \n",
    "y = bt_GBPUSD\n",
    "n_bdtrain = 4\n",
    "n_bdtest = 1\n",
    "mday = 1\n",
    "\n",
    "est_GNB = PNLEstimatorWrapper(GaussianNB(), PNL_column='PNL')\n",
    "result_GNB = step_validation(est_GNB, X_GBPUSD, y, v_split(X_GBPUSD,n_bdtrain,n_bdtest,mday))\n",
    "result_GNB, predict_GNB = redim(result_GNB)\n",
    "print('--------- GaussianNB ----------------')\n",
    "print('average PNL : ', np.mean(result_GNB[:,0]))\n",
    "print('average buy: ', np.mean(result_GNB[:,1]))\n",
    "print('average sell: ', np.mean(result_GNB[:,2]))\n",
    "print('-------------------------------------')\n",
    "print(pd.DataFrame(result_GNB, columns=list(['PNL','buys','sells','longest_buys','longest_sells'])))"
   ]
  },
  {
   "cell_type": "code",
   "execution_count": 81,
   "metadata": {},
   "outputs": [
    {
     "name": "stdout",
     "output_type": "stream",
     "text": [
      "--------- KNeighbors ----------------\n",
      "average PNL :  0.00288421052632\n",
      "average buy:  3156.21052632\n",
      "average sell:  3847.0\n",
      "-------------------------------------\n",
      "        PNL    buys   sells  longest_buys  longest_sells\n",
      "0  -0.00228  3354.0  3445.0          63.0           72.0\n",
      "1   0.00424  4795.0  2038.0         138.0           78.0\n",
      "2   0.00926  4599.0  2449.0         256.0           45.0\n",
      "3   0.01506  4249.0  2884.0         291.0           46.0\n",
      "4  -0.01177  1655.0  5566.0          40.0         1284.0\n",
      "5  -0.00926  1287.0  5993.0          22.0          578.0\n",
      "6  -0.00674  2484.0  4623.0          46.0           88.0\n",
      "7   0.01069  2065.0  5450.0          46.0          156.0\n",
      "8   0.00270  4556.0  2917.0          82.0          152.0\n",
      "9   0.00969  3246.0  4115.0          88.0          138.0\n",
      "10 -0.00146  2499.0  4900.0          22.0          620.0\n",
      "11  0.01944  3261.0  4069.0         113.0          273.0\n",
      "12 -0.02094   736.0  6843.0          33.0         1586.0\n",
      "13  0.00019  1887.0  5938.0          66.0          130.0\n",
      "14 -0.00361  4333.0  3447.0         351.0          123.0\n",
      "15  0.00260  6263.0  1294.0         749.0           82.0\n",
      "16  0.02547  4577.0  3049.0         190.0           55.0\n",
      "17  0.01241  3799.0  3919.0         119.0           85.0\n",
      "18 -0.00089   323.0   154.0          38.0           20.0\n"
     ]
    }
   ],
   "source": [
    "from sklearn.neighbors import KNeighborsClassifier\n",
    "    \n",
    "y = bt_GBPUSD\n",
    "n_bdtrain = 4\n",
    "n_bdtest = 1\n",
    "mday = 1\n",
    "\n",
    "est_KNC = PNLEstimatorWrapper(KNeighborsClassifier(n_neighbors=7,n_jobs=2,leaf_size=30\n",
    "                                                   ,algorithm='kd_tree'), PNL_column='PNL')\n",
    "result_KNC = step_validation(est_KNC, X_GBPUSD, y, v_split(X_GBPUSD,n_bdtrain,n_bdtest,mday))\n",
    "result_KNC, predict_KNC = redim(result_KNC)\n",
    "print('--------- KNeighbors ----------------')\n",
    "print('average PNL : ', np.mean(result_KNC[:,0]))\n",
    "print('average buy: ', np.mean(result_KNC[:,1]))\n",
    "print('average sell: ', np.mean(result_KNC[:,2]))\n",
    "print('-------------------------------------')\n",
    "print(pd.DataFrame(result_KNC, columns=list(['PNL','buys','sells','longest_buys','longest_sells'])))"
   ]
  },
  {
   "cell_type": "code",
   "execution_count": 85,
   "metadata": {},
   "outputs": [
    {
     "name": "stdout",
     "output_type": "stream",
     "text": [
      "--------- DecisionTreeClassifier ----------------\n",
      "average PNL :  0.00269157894737\n",
      "average buy:  3366.84210526\n",
      "average sell:  3636.36842105\n",
      "-------------------------------------\n",
      "        PNL    buys   sells  longest_buys  longest_sells\n",
      "0   0.00528  4520.0  2279.0          59.0           34.0\n",
      "1   0.00066  4312.0  2521.0          85.0           39.0\n",
      "2  -0.00178  4245.0  2803.0          89.0           47.0\n",
      "3   0.00808  3669.0  3464.0         206.0           55.0\n",
      "4  -0.01471  1727.0  5494.0          42.0           91.0\n",
      "5  -0.00022   999.0  6281.0          49.0         4020.0\n",
      "6   0.00120  2935.0  4172.0         115.0           56.0\n",
      "7   0.00737  2743.0  4772.0          95.0          109.0\n",
      "8   0.00042  3112.0  4361.0         110.0           69.0\n",
      "9  -0.00177  3577.0  3784.0          72.0           61.0\n",
      "10 -0.01422  2348.0  5051.0          24.0         1502.0\n",
      "11  0.00556  3105.0  4225.0         112.0          104.0\n",
      "12  0.01852  6819.0   760.0        4844.0           59.0\n",
      "13 -0.00333  1913.0  5912.0         108.0         1853.0\n",
      "14  0.01251  3688.0  4092.0         138.0           64.0\n",
      "15  0.01644  5472.0  2085.0         129.0           68.0\n",
      "16  0.00341  4787.0  2839.0          98.0           30.0\n",
      "17  0.00249  3739.0  3979.0          34.0           87.0\n",
      "18  0.00523   260.0   217.0          48.0           10.0\n"
     ]
    }
   ],
   "source": [
    "from sklearn.tree import DecisionTreeClassifier\n",
    "    \n",
    "y = bt_GBPUSD\n",
    "n_bdtrain = 4\n",
    "n_bdtest = 1\n",
    "mday = 1\n",
    "\n",
    "est_DTC = PNLEstimatorWrapper(DecisionTreeClassifier(), PNL_column='PNL')\n",
    "result_DTC = step_validation(est_DTC, X_GBPUSD, y, v_split(X_GBPUSD,n_bdtrain,n_bdtest,mday))\n",
    "result_DTC, predict_DTC = redim(result_DTC)\n",
    "print('--------- DecisionTreeClassifier ----------------')\n",
    "print('average PNL : ', np.mean(result_DTC[:,0]))\n",
    "print('average buy: ', np.mean(result_DTC[:,1]))\n",
    "print('average sell: ', np.mean(result_DTC[:,2]))\n",
    "print('-------------------------------------')\n",
    "print(pd.DataFrame(result_DTC, columns=list(['PNL','buys','sells','longest_buys','longest_sells'])))"
   ]
  },
  {
   "cell_type": "code",
   "execution_count": 88,
   "metadata": {},
   "outputs": [
    {
     "name": "stdout",
     "output_type": "stream",
     "text": [
      "--------- RandomForestClassifier ----------------\n",
      "average PNL :  0.00480421052632\n",
      "average buy:  2696.78947368\n",
      "average sell:  4306.42105263\n",
      "-------------------------------------\n",
      "        PNL    buys   sells  longest_buys  longest_sells\n",
      "0  -0.00258  1601.0  5198.0          22.0           69.0\n",
      "1   0.00274  1656.0  5177.0          28.0           81.0\n",
      "2   0.00554  4172.0  2876.0         157.0           30.0\n",
      "3   0.01074  3783.0  3350.0         157.0           49.0\n",
      "4  -0.01679  1528.0  5693.0          25.0           91.0\n",
      "5  -0.00002   852.0  6428.0          22.0         4020.0\n",
      "6   0.00694  2762.0  4345.0          47.0           69.0\n",
      "7   0.00391  2086.0  5429.0          24.0           74.0\n",
      "8   0.00862  4110.0  3363.0         183.0          106.0\n",
      "9   0.01489  3262.0  4099.0          52.0           56.0\n",
      "10 -0.01658  2301.0  5098.0          24.0          654.0\n",
      "11  0.01766  2525.0  4805.0          20.0           86.0\n",
      "12 -0.02086   300.0  7279.0          19.0         5256.0\n",
      "13  0.01739  1176.0  6649.0          97.0         3223.0\n",
      "14  0.01959  4019.0  3761.0          58.0           53.0\n",
      "15  0.00432  6098.0  1459.0         239.0           37.0\n",
      "16  0.00715  4879.0  2747.0         190.0           27.0\n",
      "17  0.03121  3867.0  3851.0          61.0           44.0\n",
      "18 -0.00259   262.0   215.0          29.0           18.0\n"
     ]
    }
   ],
   "source": [
    "from sklearn.ensemble import RandomForestClassifier\n",
    "    \n",
    "y = bt_GBPUSD\n",
    "n_bdtrain = 4\n",
    "n_bdtest = 1\n",
    "mday = 1\n",
    "\n",
    "est_RFC = PNLEstimatorWrapper(RandomForestClassifier(n_estimators=15, n_jobs=3), PNL_column='PNL')\n",
    "result_RFC = step_validation(est_RFC, X_GBPUSD, y, v_split(X_GBPUSD,n_bdtrain,n_bdtest,mday))\n",
    "result_RFC, predict_RFC = redim(result_RFC)\n",
    "print('--------- RandomForestClassifier ----------------')\n",
    "print('average PNL : ', np.mean(result_RFC[:,0]))\n",
    "print('average buy: ', np.mean(result_RFC[:,1]))\n",
    "print('average sell: ', np.mean(result_RFC[:,2]))\n",
    "print('-------------------------------------')\n",
    "print(pd.DataFrame(result_RFC, columns=list(['PNL','buys','sells','longest_buys','longest_sells'])))"
   ]
  },
  {
   "cell_type": "markdown",
   "metadata": {},
   "source": [
    "esto nos incrementa la ganancia si lo comprobamos con el PNL obtenido entrenando solo con la señal GBP/USD, lo que nos indica que usando la multiseñal EUR/USD y GBP/USD para predecir GBP/USD, nos aumenta la ganancia."
   ]
  },
  {
   "cell_type": "markdown",
   "metadata": {},
   "source": [
    "por cuestiones de formalidad para el posterior uso, creo la función multi_signal la cual me permite pasarle dos series de tiempo y esta se encarga de crear la multiseñal, teniendo en cuenta que se rige por los indices de la primer señal, asi que dará resultados diferentes dependiendo de la señal que se le pase primero"
   ]
  },
  {
   "cell_type": "code",
   "execution_count": 20,
   "metadata": {
    "collapsed": true
   },
   "outputs": [],
   "source": [
    "def multi_signal(s_A, s_B):\n",
    "    \"\"\"\n",
    "    dada dos señales s_A y s_B, se obtiene una multiseñal donde la\n",
    "    señal que predomina para la contrucción es s_A\n",
    "    \"\"\"\n",
    "    #saco los valores que si están en el mismo instante de tiempo\n",
    "    #se filtra la señal s_B por los indices que tiene s_A\n",
    "    values = s_B.filter(items=s_A.index, axis=0)\n",
    "    #inserto una columa llena de ceros para posteriormente colocar ahi los valores a utilizar\n",
    "    s_A.insert(loc=2, column=s_B.columns[0]+'new', value=np.zeros((s_A.shape[0],1)))\n",
    "    #llenamos con los datos\n",
    "    s_A.loc[values.index,s_B.columns[0]+'new'] = values.loc[values.index,values.columns[0]]\n",
    "    #llenamos los ceros\n",
    "    s_A.loc[s_A.loc[s_A.index,s_B.columns[0]+'new']==0, s_B.columns[0]+'new'] = s_A.loc[s_A.loc[s_A.index,s_B.columns[0]+'new']==0,s_A.columns[0]]\n",
    "    \n",
    "    return s_A"
   ]
  },
  {
   "cell_type": "code",
   "execution_count": null,
   "metadata": {
    "collapsed": true
   },
   "outputs": [],
   "source": []
  },
  {
   "cell_type": "code",
   "execution_count": null,
   "metadata": {
    "collapsed": true
   },
   "outputs": [],
   "source": []
  },
  {
   "cell_type": "code",
   "execution_count": null,
   "metadata": {
    "collapsed": true
   },
   "outputs": [],
   "source": []
  }
 ],
 "metadata": {
  "kernelspec": {
   "display_name": "Python 3",
   "language": "python",
   "name": "python3"
  },
  "language_info": {
   "codemirror_mode": {
    "name": "ipython",
    "version": 3
   },
   "file_extension": ".py",
   "mimetype": "text/x-python",
   "name": "python",
   "nbconvert_exporter": "python",
   "pygments_lexer": "ipython3",
   "version": "3.6.2"
  }
 },
 "nbformat": 4,
 "nbformat_minor": 2
}
