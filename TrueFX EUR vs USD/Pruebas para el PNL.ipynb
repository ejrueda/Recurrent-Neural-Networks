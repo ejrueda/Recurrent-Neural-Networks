{
 "cells": [
  {
   "cell_type": "code",
   "execution_count": 1,
   "metadata": {
    "collapsed": true
   },
   "outputs": [],
   "source": [
    "import pandas as pd\n",
    "import numpy as np\n",
    "import bokeh.plotting as bp\n",
    "#bp.output_notebook()"
   ]
  },
  {
   "cell_type": "code",
   "execution_count": 9,
   "metadata": {
    "collapsed": true
   },
   "outputs": [],
   "source": [
    "#Se lee la señal anteriormente procesada\n",
    "data_set = pd.read_csv(\"../data/TrueFX/EUR-USD/datos_procesados_EURUSD-2017-07.csv\", parse_dates=True,\n",
    "                      infer_datetime_format=True, index_col=0)"
   ]
  },
  {
   "cell_type": "code",
   "execution_count": 21,
   "metadata": {
    "collapsed": true
   },
   "outputs": [],
   "source": [
    "%run ../code/EUtilities.py\n",
    "%run ../code/PNLEstimatorWrapper\n",
    "EU = EUtilities()"
   ]
  },
  {
   "cell_type": "code",
   "execution_count": 11,
   "metadata": {},
   "outputs": [
    {
     "data": {
      "text/html": [
       "<div>\n",
       "<style>\n",
       "    .dataframe thead tr:only-child th {\n",
       "        text-align: right;\n",
       "    }\n",
       "\n",
       "    .dataframe thead th {\n",
       "        text-align: left;\n",
       "    }\n",
       "\n",
       "    .dataframe tbody tr th {\n",
       "        vertical-align: top;\n",
       "    }\n",
       "</style>\n",
       "<table border=\"1\" class=\"dataframe\">\n",
       "  <thead>\n",
       "    <tr style=\"text-align: right;\">\n",
       "      <th></th>\n",
       "      <th>bid</th>\n",
       "      <th>ask</th>\n",
       "    </tr>\n",
       "    <tr>\n",
       "      <th>date</th>\n",
       "      <th></th>\n",
       "      <th></th>\n",
       "    </tr>\n",
       "  </thead>\n",
       "  <tbody>\n",
       "    <tr>\n",
       "      <th>2017-07-03 00:00:10</th>\n",
       "      <td>1.14183</td>\n",
       "      <td>1.14211</td>\n",
       "    </tr>\n",
       "    <tr>\n",
       "      <th>2017-07-03 00:00:20</th>\n",
       "      <td>1.14163</td>\n",
       "      <td>1.14211</td>\n",
       "    </tr>\n",
       "    <tr>\n",
       "      <th>2017-07-03 00:00:30</th>\n",
       "      <td>1.14164</td>\n",
       "      <td>1.14206</td>\n",
       "    </tr>\n",
       "    <tr>\n",
       "      <th>2017-07-03 00:00:50</th>\n",
       "      <td>1.14164</td>\n",
       "      <td>1.14206</td>\n",
       "    </tr>\n",
       "    <tr>\n",
       "      <th>2017-07-03 00:01:00</th>\n",
       "      <td>1.14164</td>\n",
       "      <td>1.14208</td>\n",
       "    </tr>\n",
       "    <tr>\n",
       "      <th>2017-07-03 00:01:10</th>\n",
       "      <td>1.14164</td>\n",
       "      <td>1.14206</td>\n",
       "    </tr>\n",
       "    <tr>\n",
       "      <th>2017-07-03 00:01:20</th>\n",
       "      <td>1.14163</td>\n",
       "      <td>1.14206</td>\n",
       "    </tr>\n",
       "    <tr>\n",
       "      <th>2017-07-03 00:01:30</th>\n",
       "      <td>1.14156</td>\n",
       "      <td>1.14206</td>\n",
       "    </tr>\n",
       "    <tr>\n",
       "      <th>2017-07-03 00:01:40</th>\n",
       "      <td>1.14164</td>\n",
       "      <td>1.14208</td>\n",
       "    </tr>\n",
       "    <tr>\n",
       "      <th>2017-07-03 00:01:50</th>\n",
       "      <td>1.14164</td>\n",
       "      <td>1.14206</td>\n",
       "    </tr>\n",
       "  </tbody>\n",
       "</table>\n",
       "</div>"
      ],
      "text/plain": [
       "                         bid      ask\n",
       "date                                 \n",
       "2017-07-03 00:00:10  1.14183  1.14211\n",
       "2017-07-03 00:00:20  1.14163  1.14211\n",
       "2017-07-03 00:00:30  1.14164  1.14206\n",
       "2017-07-03 00:00:50  1.14164  1.14206\n",
       "2017-07-03 00:01:00  1.14164  1.14208\n",
       "2017-07-03 00:01:10  1.14164  1.14206\n",
       "2017-07-03 00:01:20  1.14163  1.14206\n",
       "2017-07-03 00:01:30  1.14156  1.14206\n",
       "2017-07-03 00:01:40  1.14164  1.14208\n",
       "2017-07-03 00:01:50  1.14164  1.14206"
      ]
     },
     "execution_count": 11,
     "metadata": {},
     "output_type": "execute_result"
    }
   ],
   "source": [
    "data_set[:10]"
   ]
  },
  {
   "cell_type": "code",
   "execution_count": 12,
   "metadata": {},
   "outputs": [],
   "source": [
    "window = 3\n",
    "X,y_reg,bt= EU.build_dataset(data_set,window=window, PNL=True,binary_target=True,delete_constant_values=True)"
   ]
  },
  {
   "cell_type": "code",
   "execution_count": 15,
   "metadata": {},
   "outputs": [
    {
     "data": {
      "text/html": [
       "<div>\n",
       "<style>\n",
       "    .dataframe thead tr:only-child th {\n",
       "        text-align: right;\n",
       "    }\n",
       "\n",
       "    .dataframe thead th {\n",
       "        text-align: left;\n",
       "    }\n",
       "\n",
       "    .dataframe tbody tr th {\n",
       "        vertical-align: top;\n",
       "    }\n",
       "</style>\n",
       "<table border=\"1\" class=\"dataframe\">\n",
       "  <thead>\n",
       "    <tr style=\"text-align: right;\">\n",
       "      <th></th>\n",
       "      <th>0</th>\n",
       "      <th>1</th>\n",
       "      <th>2</th>\n",
       "      <th>PNL_0</th>\n",
       "      <th>PNL_1</th>\n",
       "    </tr>\n",
       "    <tr>\n",
       "      <th>date</th>\n",
       "      <th></th>\n",
       "      <th></th>\n",
       "      <th></th>\n",
       "      <th></th>\n",
       "      <th></th>\n",
       "    </tr>\n",
       "  </thead>\n",
       "  <tbody>\n",
       "    <tr>\n",
       "      <th>2017-07-03 00:01:10</th>\n",
       "      <td>1.14164</td>\n",
       "      <td>1.14164</td>\n",
       "      <td>1.14164</td>\n",
       "      <td>-0.00042</td>\n",
       "      <td>-0.00043</td>\n",
       "    </tr>\n",
       "    <tr>\n",
       "      <th>2017-07-03 00:01:20</th>\n",
       "      <td>1.14164</td>\n",
       "      <td>1.14164</td>\n",
       "      <td>1.14163</td>\n",
       "      <td>-0.00043</td>\n",
       "      <td>-0.00050</td>\n",
       "    </tr>\n",
       "    <tr>\n",
       "      <th>2017-07-03 00:01:30</th>\n",
       "      <td>1.14164</td>\n",
       "      <td>1.14163</td>\n",
       "      <td>1.14156</td>\n",
       "      <td>-0.00052</td>\n",
       "      <td>-0.00042</td>\n",
       "    </tr>\n",
       "    <tr>\n",
       "      <th>2017-07-03 00:02:00</th>\n",
       "      <td>1.14164</td>\n",
       "      <td>1.14164</td>\n",
       "      <td>1.14164</td>\n",
       "      <td>-0.00042</td>\n",
       "      <td>-0.00051</td>\n",
       "    </tr>\n",
       "    <tr>\n",
       "      <th>2017-07-03 00:02:10</th>\n",
       "      <td>1.14164</td>\n",
       "      <td>1.14164</td>\n",
       "      <td>1.14156</td>\n",
       "      <td>-0.00052</td>\n",
       "      <td>-0.00042</td>\n",
       "    </tr>\n",
       "  </tbody>\n",
       "</table>\n",
       "</div>"
      ],
      "text/plain": [
       "                           0        1        2    PNL_0    PNL_1\n",
       "date                                                            \n",
       "2017-07-03 00:01:10  1.14164  1.14164  1.14164 -0.00042 -0.00043\n",
       "2017-07-03 00:01:20  1.14164  1.14164  1.14163 -0.00043 -0.00050\n",
       "2017-07-03 00:01:30  1.14164  1.14163  1.14156 -0.00052 -0.00042\n",
       "2017-07-03 00:02:00  1.14164  1.14164  1.14164 -0.00042 -0.00051\n",
       "2017-07-03 00:02:10  1.14164  1.14164  1.14156 -0.00052 -0.00042"
      ]
     },
     "execution_count": 15,
     "metadata": {},
     "output_type": "execute_result"
    }
   ],
   "source": [
    "X.head()"
   ]
  },
  {
   "cell_type": "code",
   "execution_count": 22,
   "metadata": {},
   "outputs": [
    {
     "name": "stdout",
     "output_type": "stream",
     "text": [
      "--------- GaussianNB ----------------\n",
      "average PNL :  -0.239068333333\n",
      "average buy:  554.722222222\n",
      "average sell:  6060.27777778\n",
      "-------------------------------------\n",
      "                PNL    buys   sells  longest_buys  longest_sells\n",
      "2017-07-07 -0.23658     0.0  7013.0           0.0         7013.0\n",
      "2017-07-10 -0.24576     0.0  6535.0           0.0         6535.0\n",
      "2017-07-11 -0.20856     0.0  6687.0           0.0         6687.0\n",
      "2017-07-12 -0.23936     0.0  6995.0           0.0         6995.0\n",
      "2017-07-13 -0.22130  3035.0  3861.0        1685.0         2981.0\n",
      "2017-07-14 -0.22834  2344.0  4376.0        1714.0         3450.0\n",
      "2017-07-17 -0.31109     0.0  6631.0           0.0         6631.0\n",
      "2017-07-18 -0.22088     0.0  7201.0           0.0         7201.0\n",
      "2017-07-19 -0.21661     0.0  6745.0           0.0         6745.0\n",
      "2017-07-20 -0.22630     0.0  7096.0           0.0         7096.0\n",
      "2017-07-21 -0.23226     0.0  7054.0           0.0         7054.0\n",
      "2017-07-24 -0.32235     0.0  6832.0           0.0         6832.0\n",
      "2017-07-25 -0.26152     0.0  7063.0           0.0         7063.0\n",
      "2017-07-26 -0.23826     0.0  7119.0           0.0         7119.0\n",
      "2017-07-27 -0.25907  4606.0  2790.0        4499.0         2079.0\n",
      "2017-07-28 -0.27775     0.0  7164.0           0.0         7164.0\n",
      "2017-07-31 -0.30793     0.0  7118.0           0.0         7118.0\n",
      "2017-08-01 -0.04931     0.0   805.0           0.0          805.0\n"
     ]
    }
   ],
   "source": [
    "from sklearn.naive_bayes import GaussianNB\n",
    "    \n",
    "y = bt\n",
    "n_bdtrain = 4\n",
    "n_bdtest = 1\n",
    "mday = 1\n",
    "#para indexar el dataframe por las fechas\n",
    "dates = np.unique(X.index.date)[n_bdtrain:]\n",
    "est_GNB = PNLEstimatorWrapper(GaussianNB(), PNL_column=['PNL_0','PNL_1'])\n",
    "result_GNB = EU.step_validation(est_GNB, X, y, EU.v_split(X,n_bdtrain,n_bdtest,mday))\n",
    "result_GNB, predict_GNB = EU.redim(result_GNB)\n",
    "print('--------- GaussianNB ----------------')\n",
    "print('average PNL : ', np.mean(result_GNB[:,0]))\n",
    "print('average buy: ', np.mean(result_GNB[:,1]))\n",
    "print('average sell: ', np.mean(result_GNB[:,2]))\n",
    "print('-------------------------------------')\n",
    "df_GNB = pd.DataFrame(result_GNB, columns=list(['PNL','buys','sells','longest_buys','longest_sells']),index=dates)\n",
    "print(df_GNB)\n",
    "#df_GNB.to_csv('../resultados/TrueFX/GBP-USD/GaussianNB/pnl_GNB_wsize3_2018-01.csv')"
   ]
  },
  {
   "cell_type": "code",
   "execution_count": 23,
   "metadata": {},
   "outputs": [
    {
     "name": "stdout",
     "output_type": "stream",
     "text": [
      "--------- KNeighborsClassifier ------------\n",
      "average PNL :  -0.240473333333\n",
      "average buy:  2800.72222222\n",
      "average sell:  3814.27777778\n",
      "-------------------------------------\n",
      "                PNL    buys   sells  longest_buys  longest_sells\n",
      "2017-07-07 -0.22801  3324.0  3689.0          21.0           18.0\n",
      "2017-07-10 -0.24287  3034.0  3501.0          19.0           20.0\n",
      "2017-07-11 -0.21173  2511.0  4176.0          25.0         1294.0\n",
      "2017-07-12 -0.24316  3815.0  3180.0         401.0          340.0\n",
      "2017-07-13 -0.21132  3357.0  3539.0          20.0           48.0\n",
      "2017-07-14 -0.22960  3254.0  3466.0          20.0           17.0\n",
      "2017-07-17 -0.31092  3134.0  3497.0          20.0           28.0\n",
      "2017-07-18 -0.23275   501.0  6700.0           9.0         6145.0\n",
      "2017-07-19 -0.21063  3766.0  2979.0         173.0           30.0\n",
      "2017-07-20 -0.24639  3566.0  3530.0        1327.0         2043.0\n",
      "2017-07-21 -0.23485  1566.0  5488.0          18.0         2100.0\n",
      "2017-07-24 -0.31746  3116.0  3716.0          15.0           49.0\n",
      "2017-07-25 -0.26013  2952.0  4111.0          21.0          781.0\n",
      "2017-07-26 -0.24898  3081.0  4038.0          15.0          623.0\n",
      "2017-07-27 -0.25409  2980.0  4416.0          98.0         1018.0\n",
      "2017-07-28 -0.27992  3500.0  3664.0          20.0           29.0\n",
      "2017-07-31 -0.31947  2511.0  4607.0          16.0         1876.0\n",
      "2017-08-01 -0.04624   445.0   360.0          27.0           32.0\n"
     ]
    }
   ],
   "source": [
    "from sklearn.neighbors import KNeighborsClassifier\n",
    "    \n",
    "y = bt\n",
    "n_bdtrain = 4\n",
    "n_bdtest = 1\n",
    "mday = 1\n",
    "#para indexar el dataframe por las fechas\n",
    "dates = np.unique(X.index.date)[n_bdtrain:]\n",
    "est_KNC = PNLEstimatorWrapper(KNeighborsClassifier(), PNL_column=['PNL_1','PNL_0'])\n",
    "result_KNC = EU.step_validation(est_KNC, X, y, EU.v_split(X,n_bdtrain,n_bdtest,mday))\n",
    "result_KNC, predict_KNC = EU.redim(result_KNC)\n",
    "print('--------- KNeighborsClassifier ------------')\n",
    "print('average PNL : ', np.mean(result_KNC[:,0]))\n",
    "print('average buy: ', np.mean(result_KNC[:,1]))\n",
    "print('average sell: ', np.mean(result_KNC[:,2]))\n",
    "print('-------------------------------------')\n",
    "df_KNC = pd.DataFrame(result_KNC, columns=list(['PNL','buys','sells','longest_buys','longest_sells']),index=dates)\n",
    "print(df_KNC)"
   ]
  },
  {
   "cell_type": "code",
   "execution_count": 24,
   "metadata": {},
   "outputs": [
    {
     "name": "stdout",
     "output_type": "stream",
     "text": [
      "------ DecisionTreeClassifier -------\n",
      "average PNL:  -0.240777222222\n",
      "average buy:  2868.94444444\n",
      "average sell:  3746.05555556\n",
      "-------------------------------------\n",
      "                PNL    buys   sells  longest_buys  longest_sells\n",
      "2017-07-07 -0.22663  3337.0  3676.0          18.0           31.0\n",
      "2017-07-10 -0.24264  2983.0  3552.0          14.0           17.0\n",
      "2017-07-11 -0.21304  3748.0  2939.0        1141.0           41.0\n",
      "2017-07-12 -0.23276  4224.0  2771.0         792.0           29.0\n",
      "2017-07-13 -0.21753  3337.0  3559.0          31.0           22.0\n",
      "2017-07-14 -0.23230  3098.0  3622.0          14.0           13.0\n",
      "2017-07-17 -0.30280  3118.0  3513.0          12.0           14.0\n",
      "2017-07-18 -0.23317   480.0  6721.0           8.0         6166.0\n",
      "2017-07-19 -0.22331  3679.0  3066.0          94.0           33.0\n",
      "2017-07-20 -0.23875  2982.0  4114.0         208.0         2039.0\n",
      "2017-07-21 -0.22687  1962.0  5092.0           9.0         2010.0\n",
      "2017-07-24 -0.32073  3338.0  3494.0          27.0           21.0\n",
      "2017-07-25 -0.25630  2889.0  4174.0          14.0          781.0\n",
      "2017-07-26 -0.24847  2956.0  4163.0          13.0          621.0\n",
      "2017-07-27 -0.26560  2880.0  4516.0          31.0          994.0\n",
      "2017-07-28 -0.28338  3678.0  3486.0          23.0           25.0\n",
      "2017-07-31 -0.32337  2556.0  4562.0          12.0         1872.0\n",
      "2017-08-01 -0.04634   396.0   409.0          10.0           22.0\n"
     ]
    }
   ],
   "source": [
    "from sklearn.tree import DecisionTreeClassifier\n",
    "\n",
    "est_DTC = PNLEstimatorWrapper(DecisionTreeClassifier(), PNL_column=['PNL_1','PNL_0'])\n",
    "result_DTC = EU.step_validation(est_DTC, X, y, EU.v_split(X,4,1,1))\n",
    "result_DTC, predict_DTC = EU.redim(result_DTC)\n",
    "print('------ DecisionTreeClassifier -------')\n",
    "print('average PNL: ', np.mean(result_DTC[:,0]))\n",
    "print('average buy: ', np.mean(result_DTC[:,1]))\n",
    "print('average sell: ', np.mean(result_DTC[:,2]))\n",
    "print('-------------------------------------')\n",
    "df_DTC = pd.DataFrame(result_DTC, columns=list(['PNL','buys','sells','longest_buys','longest_sells']),index=dates)\n",
    "print(df_DTC)"
   ]
  },
  {
   "cell_type": "code",
   "execution_count": 25,
   "metadata": {},
   "outputs": [
    {
     "name": "stdout",
     "output_type": "stream",
     "text": [
      "------- RandomForestClassifier ----------\n",
      "PNL promedio:  -0.240703333333\n",
      "buy promedio:  2779.77777778\n",
      "sell promedio:  3835.22222222\n",
      "-------------------------------------\n",
      "                PNL    buys   sells  longest_buys  longest_sells\n",
      "2017-07-07 -0.22315  3268.0  3745.0          14.0           30.0\n",
      "2017-07-10 -0.24377  2925.0  3610.0          12.0           22.0\n",
      "2017-07-11 -0.21369  2509.0  4178.0          14.0         1291.0\n",
      "2017-07-12 -0.22787  3875.0  3120.0         793.0          319.0\n",
      "2017-07-13 -0.21382  3568.0  3328.0          23.0           15.0\n",
      "2017-07-14 -0.22897  3177.0  3543.0          11.0           14.0\n",
      "2017-07-17 -0.30113  3175.0  3456.0          14.0           14.0\n",
      "2017-07-18 -0.23149   500.0  6701.0           7.0         6162.0\n",
      "2017-07-19 -0.21457  3471.0  3274.0          92.0           55.0\n",
      "2017-07-20 -0.24194  3571.0  3525.0        1252.0         2044.0\n",
      "2017-07-21 -0.23089  1591.0  5463.0          16.0         2031.0\n",
      "2017-07-24 -0.32317  3232.0  3600.0          18.0           27.0\n",
      "2017-07-25 -0.26060  2857.0  4206.0          15.0          785.0\n",
      "2017-07-26 -0.25258  3033.0  4086.0          13.0          621.0\n",
      "2017-07-27 -0.26135  2789.0  4607.0          82.0          994.0\n",
      "2017-07-28 -0.28743  3526.0  3638.0          20.0           26.0\n",
      "2017-07-31 -0.32836  2542.0  4576.0          14.0         1872.0\n",
      "2017-08-01 -0.04788   427.0   378.0          31.0           25.0\n"
     ]
    }
   ],
   "source": [
    "from sklearn.ensemble import RandomForestClassifier\n",
    "\n",
    "est_RFC = PNLEstimatorWrapper(RandomForestClassifier(n_estimators=15, n_jobs=3), PNL_column=['PNL_1','PNL_0'])\n",
    "result_RFC = EU.step_validation(est_RFC, X, y, EU.v_split(X,4,1,1))\n",
    "result_RFC, predict_RFC = EU.redim(result_RFC)\n",
    "print('------- RandomForestClassifier ----------')\n",
    "print('PNL promedio: ', np.mean(result_RFC[:,0]))\n",
    "print('buy promedio: ', np.mean(result_RFC[:,1]))\n",
    "print('sell promedio: ', np.mean(result_RFC[:,2]))\n",
    "print('-------------------------------------')\n",
    "df_RFC = pd.DataFrame(result_RFC, columns=list(['PNL','buys','sells','longest_buys','longest_sells']),index=dates)\n",
    "print(df_RFC) "
   ]
  },
  {
   "cell_type": "code",
   "execution_count": null,
   "metadata": {
    "collapsed": true
   },
   "outputs": [],
   "source": []
  }
 ],
 "metadata": {
  "kernelspec": {
   "display_name": "Python 3",
   "language": "python",
   "name": "python3"
  },
  "language_info": {
   "codemirror_mode": {
    "name": "ipython",
    "version": 3
   },
   "file_extension": ".py",
   "mimetype": "text/x-python",
   "name": "python",
   "nbconvert_exporter": "python",
   "pygments_lexer": "ipython3",
   "version": "3.6.2"
  }
 },
 "nbformat": 4,
 "nbformat_minor": 2
}
