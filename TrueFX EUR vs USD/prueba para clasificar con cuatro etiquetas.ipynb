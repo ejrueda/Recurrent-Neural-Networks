{
 "cells": [
  {
   "cell_type": "code",
   "execution_count": 39,
   "metadata": {
    "collapsed": true
   },
   "outputs": [],
   "source": [
    "import pandas as pd\n",
    "import numpy as np\n",
    "import matplotlib.pyplot as plt\n",
    "import bokeh.plotting as bp\n",
    "%matplotlib inline"
   ]
  },
  {
   "cell_type": "code",
   "execution_count": 122,
   "metadata": {},
   "outputs": [],
   "source": [
    "#Se lee la señal anteriormente procesada\n",
    "data_set = pd.read_csv(\"../data/TrueFX/EUR-USD/datos_procesados_10T_EURUSD-2018-01.csv\", parse_dates=True,\n",
    "                      infer_datetime_format=True, index_col=0)"
   ]
  },
  {
   "cell_type": "code",
   "execution_count": 123,
   "metadata": {},
   "outputs": [
    {
     "data": {
      "text/html": [
       "<div>\n",
       "<style>\n",
       "    .dataframe thead tr:only-child th {\n",
       "        text-align: right;\n",
       "    }\n",
       "\n",
       "    .dataframe thead th {\n",
       "        text-align: left;\n",
       "    }\n",
       "\n",
       "    .dataframe tbody tr th {\n",
       "        vertical-align: top;\n",
       "    }\n",
       "</style>\n",
       "<table border=\"1\" class=\"dataframe\">\n",
       "  <thead>\n",
       "    <tr style=\"text-align: right;\">\n",
       "      <th></th>\n",
       "      <th>bid</th>\n",
       "      <th>ask</th>\n",
       "    </tr>\n",
       "  </thead>\n",
       "  <tbody>\n",
       "    <tr>\n",
       "      <th>2018-01-02 00:00:00</th>\n",
       "      <td>1.20015</td>\n",
       "      <td>1.20110</td>\n",
       "    </tr>\n",
       "    <tr>\n",
       "      <th>2018-01-02 00:10:00</th>\n",
       "      <td>1.20082</td>\n",
       "      <td>1.20126</td>\n",
       "    </tr>\n",
       "    <tr>\n",
       "      <th>2018-01-02 00:20:00</th>\n",
       "      <td>1.20049</td>\n",
       "      <td>1.20085</td>\n",
       "    </tr>\n",
       "    <tr>\n",
       "      <th>2018-01-02 00:30:00</th>\n",
       "      <td>1.20079</td>\n",
       "      <td>1.20113</td>\n",
       "    </tr>\n",
       "    <tr>\n",
       "      <th>2018-01-02 00:40:00</th>\n",
       "      <td>1.20143</td>\n",
       "      <td>1.20158</td>\n",
       "    </tr>\n",
       "    <tr>\n",
       "      <th>2018-01-02 00:50:00</th>\n",
       "      <td>1.20133</td>\n",
       "      <td>1.20156</td>\n",
       "    </tr>\n",
       "    <tr>\n",
       "      <th>2018-01-02 01:00:00</th>\n",
       "      <td>1.20058</td>\n",
       "      <td>1.20068</td>\n",
       "    </tr>\n",
       "    <tr>\n",
       "      <th>2018-01-02 01:10:00</th>\n",
       "      <td>1.20087</td>\n",
       "      <td>1.20096</td>\n",
       "    </tr>\n",
       "    <tr>\n",
       "      <th>2018-01-02 01:20:00</th>\n",
       "      <td>1.20134</td>\n",
       "      <td>1.20140</td>\n",
       "    </tr>\n",
       "    <tr>\n",
       "      <th>2018-01-02 01:30:00</th>\n",
       "      <td>1.20144</td>\n",
       "      <td>1.20150</td>\n",
       "    </tr>\n",
       "  </tbody>\n",
       "</table>\n",
       "</div>"
      ],
      "text/plain": [
       "                         bid      ask\n",
       "2018-01-02 00:00:00  1.20015  1.20110\n",
       "2018-01-02 00:10:00  1.20082  1.20126\n",
       "2018-01-02 00:20:00  1.20049  1.20085\n",
       "2018-01-02 00:30:00  1.20079  1.20113\n",
       "2018-01-02 00:40:00  1.20143  1.20158\n",
       "2018-01-02 00:50:00  1.20133  1.20156\n",
       "2018-01-02 01:00:00  1.20058  1.20068\n",
       "2018-01-02 01:10:00  1.20087  1.20096\n",
       "2018-01-02 01:20:00  1.20134  1.20140\n",
       "2018-01-02 01:30:00  1.20144  1.20150"
      ]
     },
     "execution_count": 123,
     "metadata": {},
     "output_type": "execute_result"
    }
   ],
   "source": [
    "data_set[:10]"
   ]
  },
  {
   "cell_type": "code",
   "execution_count": 124,
   "metadata": {
    "collapsed": true
   },
   "outputs": [],
   "source": [
    "# %load ../code/build_dataset.py\n",
    "def build_dataset(df, window, binary_target=False, delete_constant_values=True, PNL=False):\n",
    "    \"\"\"\n",
    "    función para construir un data set\n",
    "    window: tamaño de la ventana a utilizar para construir el dataset\n",
    "    df: dataframe, con columna bid y ask.\n",
    "    binary_target: si desea clasificar, este arroja 2 si el valor se mantiene,\n",
    "    1 si el valor sube y 0 si este baja.\n",
    "    delete_constant_values: default: True, elimina los valores que se mantienen\n",
    "    \n",
    "    retorna:\n",
    "    X: dataset, con columna de PNL si así se especifica(default: False)\n",
    "    y: target\n",
    "    bt: binary target, default: False\n",
    "    \"\"\"\n",
    "\n",
    "    import pandas as pd\n",
    "    import numpy as np\n",
    "    result = []\n",
    "    binary = [] #para la columna objetivo binaria\n",
    "    pnl_buy = [] #almacenar el pnl en caso de compra\n",
    "    pnl_sell = [] #almacenar el pnl en caso de venta\n",
    "    signal = df.bid\n",
    "    ask = df.ask\n",
    "    indx = signal.index[window-1:-1] #se toman los indicen que quedarán al final\n",
    "    for i in range(len(signal)-window):\n",
    "        \n",
    "        if delete_constant_values == True:\n",
    "            if signal[i+window] != signal[i+window-1]:\n",
    "\n",
    "                result.append(signal[i: i + window+1])\n",
    "                if PNL == True: \n",
    "                    pnl_sell.append(signal[i+window-1] - ask[i+window]) #calcular pnl en caso de venta-compra\n",
    "                    pnl_buy.append(signal[i+window] - ask[i+window-1]) #calcular pnl en caso de compra-venta\n",
    "                \n",
    "                if binary_target == True:\n",
    "                    if signal[i+window] < signal[i+window-1]: \n",
    "                        if (signal[i+window-1] - ask[i+window]) > 0: binary.append(0) # 0 si baja y gano\n",
    "                        else: binary.append(2) # 2 si baja pero pierdo\n",
    "                            \n",
    "                    if signal[i+window] > signal[i+window-1]: # 1 si sube\n",
    "                        if (signal[i+window] - ask[i+window-1]) > 0: binary.append(1) # 1 si sube y gano\n",
    "                        else: binary.append(3) # 3 si sube pero pierdo\n",
    "                        \n",
    "            else: indx = indx.delete(len(result))\n",
    "                \n",
    "        else:\n",
    "\n",
    "            result.append(signal[i: i + window+1])\n",
    "            if PNL == True:\n",
    "                pnl_sell.append(signal[i+window-1] - ask[i+window]) #calcular pnl en caso de venta-compra\n",
    "                pnl_buy.append(signal[i+window] - ask[i+window-1]) #calcular pnl en caso de compra-venta\n",
    "            \n",
    "        if binary_target == True and delete_constant_values == False:\n",
    "            if signal[i+window] == signal[i+window-1]: binary.append(4) # 2 si se mantiene\n",
    "                \n",
    "            if signal[i+window] < signal[i+window-1]:\n",
    "                if (signal[i+window-1] - ask[i+window]) > 0: binary.append(0) # 0 si baja y gano\n",
    "                else: binary.append(2) # 2 si baja pero pierdo\n",
    "                    \n",
    "            if signal[i+window] > signal[i+window-1]:\n",
    "                if (signal[i+window] - ask[i+window-1]) > 0: binary.append(1) # 1 si sube y gano\n",
    "                else: binary.append(3) # 3 si sube pero pierdo\n",
    "    \n",
    "    data = pd.DataFrame(np.array(result), index=indx)\n",
    "    y = np.array(data.iloc[:,window])\n",
    "    data = data.drop(window,axis=1)\n",
    "    if PNL == True:\n",
    "        data['PNL_0'] = pnl_sell\n",
    "        data['PNL_1'] = pnl_buy \n",
    "    if binary_target == True: return data, y, np.array(binary)\n",
    "    else: return data, y"
   ]
  },
  {
   "cell_type": "code",
   "execution_count": 154,
   "metadata": {
    "collapsed": true
   },
   "outputs": [],
   "source": [
    "# %load ../code/PNLEstimatorWrapper.py\n",
    "import pandas as pd\n",
    "import numpy as np\n",
    "class PNLEstimatorWrapper:\n",
    "    \n",
    "    def __init__(self, estimator, PNL_column, exclude_PNL_column_from_training=True):\n",
    "        self.estimator = estimator\n",
    "        self.PNL_column = PNL_column\n",
    "        self.exclude_PNL_column_from_training = exclude_PNL_column_from_training\n",
    "        \n",
    "    def fit(self, X, y):\n",
    "        assert 'PNL_1' and 'PNL_0' in X.columns, \"column \"+self.PNL_column+\" not in X dataframe\"\n",
    "        if self.exclude_PNL_column_from_training:\n",
    "            X = X[[col for col in X.columns if col!=self.PNL_column[0] and col!=self.PNL_column[1]]]\n",
    "        self.estimator.fit(X,y)\n",
    "        \n",
    "    def predict(self, X):\n",
    "        assert 'PNL_1' and 'PNL_0' in X.columns, \"column \"+self.PNL_column+\" not in X dataframe\"\n",
    "        if self.exclude_PNL_column_from_training:\n",
    "            X = X[[col for col in X.columns if col!=self.PNL_column[0] and col!=self.PNL_column[1]]]\n",
    "        return self.estimator.predict(X)\n",
    "    \n",
    "    def score(self, X, y):\n",
    "        pnl_1 = X.PNL_1\n",
    "        pnl_0 = X.PNL_0\n",
    "        pre = self.predict(X)\n",
    "        r = sum((pre==1)*pnl_1 + (pre==0)*pnl_0)\n",
    "        sell = sum(pre==0) + sum(pre==2)\n",
    "        buy = sum(pre==1) + sum(pre==3)\n",
    "        percent = np.mean(y==pre)*100\n",
    "        \n",
    "        count_ones, count_zeros = 0,0\n",
    "        l_one, l_zero = [],[]\n",
    "        for i in pre:\n",
    "            if i==1:\n",
    "                l_zero.append(count_zeros)\n",
    "                count_zeros = 0\n",
    "                count_ones += 1\n",
    "            else:\n",
    "                l_one.append(count_ones)\n",
    "                count_zeros += 1\n",
    "                count_ones = 0\n",
    "        l_zero.append(count_zeros)\n",
    "        l_one.append(count_ones)\n",
    "        \n",
    "        #return np.array([r,buy,sell,max(l_one),max(l_zero)])\n",
    "        return np.array([r,buy,sell,max(l_one),max(l_zero),percent]), pre\n",
    "        \n",
    "    def get_params(self, deep=False):\n",
    "        return {\"PNL_column\": self.PNL_column,\n",
    "                \"exclude_PNL_column_from_training\": self.exclude_PNL_column_from_training,\n",
    "                \"estimator\": self.estimator}"
   ]
  },
  {
   "cell_type": "code",
   "execution_count": 155,
   "metadata": {},
   "outputs": [
    {
     "data": {
      "text/plain": [
       "(3141, 9)"
      ]
     },
     "execution_count": 155,
     "metadata": {},
     "output_type": "execute_result"
    }
   ],
   "source": [
    "X, y_reg, bt = build_dataset(data_set,window=7,binary_target=True,PNL=True)\n",
    "X.shape"
   ]
  },
  {
   "cell_type": "code",
   "execution_count": 156,
   "metadata": {},
   "outputs": [
    {
     "data": {
      "image/png": "[encoded data removed]",
      "text/plain": [
       "<matplotlib.figure.Figure at 0x7fdcc7045940>"
      ]
     },
     "metadata": {},
     "output_type": "display_data"
    }
   ],
   "source": [
    "plt.figure(figsize=(15,5))\n",
    "plt.plot(X.index,X.iloc[:,5]);"
   ]
  },
  {
   "cell_type": "code",
   "execution_count": 157,
   "metadata": {},
   "outputs": [
    {
     "data": {
      "text/plain": [
       "(Timestamp('2018-01-02 00:20:00'), Timestamp('2018-02-01 02:00:00'))"
      ]
     },
     "execution_count": 157,
     "metadata": {},
     "output_type": "execute_result"
    }
   ],
   "source": [
    "data_set.index[2], data_set.index[-1]"
   ]
  },
  {
   "cell_type": "code",
   "execution_count": 158,
   "metadata": {},
   "outputs": [
    {
     "data": {
      "text/plain": [
       "(Timestamp('2018-01-02 01:00:00'), Timestamp('2018-02-01 01:50:00'))"
      ]
     },
     "execution_count": 158,
     "metadata": {},
     "output_type": "execute_result"
    }
   ],
   "source": [
    "X.index[0], X.index[-1]"
   ]
  },
  {
   "cell_type": "code",
   "execution_count": 159,
   "metadata": {},
   "outputs": [
    {
     "data": {
      "text/plain": [
       "((3141,), (3141, 9))"
      ]
     },
     "execution_count": 159,
     "metadata": {},
     "output_type": "execute_result"
    }
   ],
   "source": [
    "bt.shape, X.shape"
   ]
  },
  {
   "cell_type": "code",
   "execution_count": 160,
   "metadata": {},
   "outputs": [
    {
     "data": {
      "text/html": [
       "<div>\n",
       "<style>\n",
       "    .dataframe thead tr:only-child th {\n",
       "        text-align: right;\n",
       "    }\n",
       "\n",
       "    .dataframe thead th {\n",
       "        text-align: left;\n",
       "    }\n",
       "\n",
       "    .dataframe tbody tr th {\n",
       "        vertical-align: top;\n",
       "    }\n",
       "</style>\n",
       "<table border=\"1\" class=\"dataframe\">\n",
       "  <thead>\n",
       "    <tr style=\"text-align: right;\">\n",
       "      <th></th>\n",
       "      <th>0</th>\n",
       "      <th>1</th>\n",
       "      <th>2</th>\n",
       "      <th>3</th>\n",
       "      <th>4</th>\n",
       "      <th>5</th>\n",
       "      <th>6</th>\n",
       "      <th>PNL_0</th>\n",
       "      <th>PNL_1</th>\n",
       "    </tr>\n",
       "  </thead>\n",
       "  <tbody>\n",
       "    <tr>\n",
       "      <th>2018-01-02 01:00:00</th>\n",
       "      <td>1.20015</td>\n",
       "      <td>1.20082</td>\n",
       "      <td>1.20049</td>\n",
       "      <td>1.20079</td>\n",
       "      <td>1.20143</td>\n",
       "      <td>1.20133</td>\n",
       "      <td>1.20058</td>\n",
       "      <td>-0.00038</td>\n",
       "      <td>0.00019</td>\n",
       "    </tr>\n",
       "    <tr>\n",
       "      <th>2018-01-02 01:10:00</th>\n",
       "      <td>1.20082</td>\n",
       "      <td>1.20049</td>\n",
       "      <td>1.20079</td>\n",
       "      <td>1.20143</td>\n",
       "      <td>1.20133</td>\n",
       "      <td>1.20058</td>\n",
       "      <td>1.20087</td>\n",
       "      <td>-0.00053</td>\n",
       "      <td>0.00038</td>\n",
       "    </tr>\n",
       "    <tr>\n",
       "      <th>2018-01-02 01:20:00</th>\n",
       "      <td>1.20049</td>\n",
       "      <td>1.20079</td>\n",
       "      <td>1.20143</td>\n",
       "      <td>1.20133</td>\n",
       "      <td>1.20058</td>\n",
       "      <td>1.20087</td>\n",
       "      <td>1.20134</td>\n",
       "      <td>-0.00016</td>\n",
       "      <td>0.00004</td>\n",
       "    </tr>\n",
       "    <tr>\n",
       "      <th>2018-01-02 01:30:00</th>\n",
       "      <td>1.20079</td>\n",
       "      <td>1.20143</td>\n",
       "      <td>1.20133</td>\n",
       "      <td>1.20058</td>\n",
       "      <td>1.20087</td>\n",
       "      <td>1.20134</td>\n",
       "      <td>1.20144</td>\n",
       "      <td>0.00031</td>\n",
       "      <td>-0.00041</td>\n",
       "    </tr>\n",
       "    <tr>\n",
       "      <th>2018-01-02 01:40:00</th>\n",
       "      <td>1.20143</td>\n",
       "      <td>1.20133</td>\n",
       "      <td>1.20058</td>\n",
       "      <td>1.20087</td>\n",
       "      <td>1.20134</td>\n",
       "      <td>1.20144</td>\n",
       "      <td>1.20109</td>\n",
       "      <td>0.00006</td>\n",
       "      <td>-0.00015</td>\n",
       "    </tr>\n",
       "  </tbody>\n",
       "</table>\n",
       "</div>"
      ],
      "text/plain": [
       "                           0        1        2        3        4        5  \\\n",
       "2018-01-02 01:00:00  1.20015  1.20082  1.20049  1.20079  1.20143  1.20133   \n",
       "2018-01-02 01:10:00  1.20082  1.20049  1.20079  1.20143  1.20133  1.20058   \n",
       "2018-01-02 01:20:00  1.20049  1.20079  1.20143  1.20133  1.20058  1.20087   \n",
       "2018-01-02 01:30:00  1.20079  1.20143  1.20133  1.20058  1.20087  1.20134   \n",
       "2018-01-02 01:40:00  1.20143  1.20133  1.20058  1.20087  1.20134  1.20144   \n",
       "\n",
       "                           6    PNL_0    PNL_1  \n",
       "2018-01-02 01:00:00  1.20058 -0.00038  0.00019  \n",
       "2018-01-02 01:10:00  1.20087 -0.00053  0.00038  \n",
       "2018-01-02 01:20:00  1.20134 -0.00016  0.00004  \n",
       "2018-01-02 01:30:00  1.20144  0.00031 -0.00041  \n",
       "2018-01-02 01:40:00  1.20109  0.00006 -0.00015  "
      ]
     },
     "execution_count": 160,
     "metadata": {},
     "output_type": "execute_result"
    }
   ],
   "source": [
    "X.head()"
   ]
  },
  {
   "cell_type": "code",
   "execution_count": null,
   "metadata": {
    "collapsed": true
   },
   "outputs": [],
   "source": []
  },
  {
   "cell_type": "code",
   "execution_count": 163,
   "metadata": {},
   "outputs": [
    {
     "name": "stdout",
     "output_type": "stream",
     "text": [
      "tamaño de los datos=  (3141, 9)\n",
      "\n",
      "# veces que baja lo suficiente para ganar =  1410  |  0.448901623687 %\n",
      "# veces que baja pero pierdo =  142  |  0.0452085323145 %\n",
      "--------------------------------------------\n",
      "# veces que sube lo suficiente para ganar =  1444  |  0.459726201847 %\n",
      "# veces que sube pero pierdo =  145  |  0.0461636421522 %\n",
      "--------------------------------------------\n",
      "probabilidad de ganar =  90.8627825533\n",
      "probabilidad de perder =  9.13721744667\n"
     ]
    }
   ],
   "source": [
    "print('tamaño de los datos= ',X.shape)\n",
    "print()\n",
    "print('# veces que baja lo suficiente para ganar = ',sum(bt==0),' | ', np.mean(bt==0),'%')\n",
    "print('# veces que baja pero pierdo = ',sum(bt==2),' | ', np.mean(bt==2),'%')\n",
    "print('--------------------------------------------')\n",
    "print('# veces que sube lo suficiente para ganar = ',sum(bt==1),' | ', np.mean(bt==1),'%')\n",
    "print('# veces que sube pero pierdo = ',sum(bt==3),' | ', np.mean(bt==3),'%')\n",
    "print('--------------------------------------------')\n",
    "print('probabilidad de ganar = ', (np.mean(bt==0)+np.mean(bt==1))*100)\n",
    "print('probabilidad de perder = ', (np.mean(bt==2)+np.mean(bt==3))*100)"
   ]
  },
  {
   "cell_type": "code",
   "execution_count": 164,
   "metadata": {},
   "outputs": [
    {
     "data": {
      "text/plain": [
       "(1410, 1444)"
      ]
     },
     "execution_count": 164,
     "metadata": {},
     "output_type": "execute_result"
    }
   ],
   "source": [
    "sum(X.PNL_0>0), sum(X.PNL_1>0)"
   ]
  },
  {
   "cell_type": "code",
   "execution_count": 165,
   "metadata": {},
   "outputs": [
    {
     "data": {
      "text/plain": [
       "<matplotlib.figure.Figure at 0x7fdccc97f710>"
      ]
     },
     "metadata": {},
     "output_type": "display_data"
    }
   ],
   "source": [
    "%run ../code/redim.py\n",
    "%run ../code/step_validation.py\n",
    "%run ../code/v_split.py"
   ]
  },
  {
   "cell_type": "code",
   "execution_count": 166,
   "metadata": {},
   "outputs": [
    {
     "name": "stdout",
     "output_type": "stream",
     "text": [
      "--------- GaussianNB ----------------\n",
      "average PNL :  -0.000865217391305\n",
      "average buy:  60.5217391304\n",
      "average sell:  51.7391304348\n",
      "average %correct:  37.463453536\n",
      "-------------------------------------\n",
      "                PNL   buys  sells  longest_buys  longest_sells    %correct\n",
      "2018-01-06 -0.00032    1.0    0.0           1.0            0.0    0.000000\n",
      "2018-01-08 -0.00337   53.0   88.0          32.0           83.0   20.567376\n",
      "2018-01-09 -0.00755  141.0    0.0         141.0            0.0   41.134752\n",
      "2018-01-10  0.00116  118.0   23.0          79.0           23.0   37.588652\n",
      "2018-01-11  0.00002   80.0   64.0          53.0           55.0   45.833333\n",
      "2018-01-12  0.00989  141.0    0.0         141.0            0.0   54.609929\n",
      "2018-01-13 -0.00094    1.0    0.0           1.0            0.0    0.000000\n",
      "2018-01-15  0.00161   64.0   79.0          48.0           77.0   28.671329\n",
      "2018-01-16 -0.00016   52.0   92.0          52.0           68.0   25.000000\n",
      "2018-01-17  0.00125   12.0  131.0          10.0           86.0   47.552448\n",
      "2018-01-18  0.00658  134.0    9.0          99.0            8.0   50.349650\n",
      "2018-01-19 -0.00118   47.0   95.0          36.0           82.0   47.887324\n",
      "2018-01-20  0.00297    1.0    0.0           1.0            0.0  100.000000\n",
      "2018-01-22 -0.00289   43.0   99.0          39.0           55.0   46.478873\n",
      "2018-01-23 -0.00868    0.0  142.0           0.0          142.0   47.887324\n",
      "2018-01-24  0.00566  143.0    0.0         143.0            0.0   51.748252\n",
      "2018-01-25 -0.00743  144.0    0.0         144.0            0.0   45.138889\n",
      "2018-01-26 -0.01047    0.0  143.0           0.0          143.0   45.454545\n",
      "2018-01-27  0.00000    0.0    1.0           0.0            1.0    0.000000\n",
      "2018-01-29 -0.00285   91.0   51.0          22.0           23.0   41.549296\n",
      "2018-01-30  0.00258  112.0   31.0          57.0           72.0   25.874126\n",
      "2018-01-31 -0.00379   14.0  130.0           0.0          144.0   41.666667\n",
      "2018-02-01 -0.00199    0.0   12.0           0.0           12.0   16.666667\n"
     ]
    }
   ],
   "source": [
    "from sklearn.naive_bayes import GaussianNB\n",
    "    \n",
    "y = bt\n",
    "n_bdtrain = 4\n",
    "n_bdtest = 1\n",
    "mday = 1\n",
    "#para indexar el dataframe por las fechas\n",
    "dates = np.unique(X.index.date)[n_bdtrain:]\n",
    "est_GNB = PNLEstimatorWrapper(GaussianNB(), PNL_column=['PNL_0','PNL_1'])\n",
    "result_GNB = step_validation(est_GNB, X, y, v_split(X,n_bdtrain,n_bdtest,mday))\n",
    "result_GNB, predict_GNB = redim(result_GNB)\n",
    "print('--------- GaussianNB ----------------')\n",
    "print('average PNL : ', np.mean(result_GNB[:,0]))\n",
    "print('average buy: ', np.mean(result_GNB[:,1]))\n",
    "print('average sell: ', np.mean(result_GNB[:,2]))\n",
    "print('average %correct: ', np.mean(result_GNB[:,5]))\n",
    "print('-------------------------------------')\n",
    "df_GNB = pd.DataFrame(result_GNB, columns=list(['PNL','buys','sells','longest_buys','longest_sells','%correct'])\n",
    "                      ,index=dates)\n",
    "print(df_GNB)"
   ]
  },
  {
   "cell_type": "code",
   "execution_count": 167,
   "metadata": {},
   "outputs": [
    {
     "name": "stdout",
     "output_type": "stream",
     "text": [
      "-------- KNeighborsClassifier 5m -------\n",
      "average PNL:  -0.0040447826087\n",
      "average buy:  53.7391304348\n",
      "average sell:  58.5217391304\n",
      "average %correct:  41.3970230066\n",
      "-------------------------------------\n",
      "                PNL   buys  sells  longest_buys  longest_sells    %correct\n",
      "2018-01-06 -0.00032    1.0    0.0           1.0            0.0    0.000000\n",
      "2018-01-08 -0.00478   36.0  105.0           9.0           57.0   26.950355\n",
      "2018-01-09 -0.00769  122.0   19.0          99.0           13.0   39.716312\n",
      "2018-01-10 -0.00796   67.0   74.0          17.0           13.0   46.099291\n",
      "2018-01-11 -0.01531   17.0  127.0           3.0           51.0   42.361111\n",
      "2018-01-12 -0.01428   68.0   73.0          22.0            8.0   41.843972\n",
      "2018-01-13 -0.00094    1.0    0.0           1.0            0.0    0.000000\n",
      "2018-01-15 -0.01050    2.0  141.0           2.0          126.0   42.657343\n",
      "2018-01-16  0.00483   86.0   58.0          29.0           10.0   46.527778\n",
      "2018-01-17 -0.00458   81.0   62.0          16.0           29.0   46.153846\n",
      "2018-01-18 -0.00089  108.0   35.0          40.0            4.0   48.251748\n",
      "2018-01-19 -0.01408   78.0   64.0          26.0           14.0   42.957746\n",
      "2018-01-20  0.00297    1.0    0.0           1.0            0.0  100.000000\n",
      "2018-01-22 -0.00547   64.0   78.0           8.0            9.0   47.887324\n",
      "2018-01-23 -0.00852   48.0   94.0           7.0           43.0   43.661972\n",
      "2018-01-24  0.00566  143.0    0.0         143.0            0.0   51.748252\n",
      "2018-01-25  0.00142   23.0  121.0          10.0          108.0   54.166667\n",
      "2018-01-26 -0.01131   63.0   80.0          10.0           25.0   40.559441\n",
      "2018-01-27 -0.00170    1.0    0.0           1.0            0.0    0.000000\n",
      "2018-01-29 -0.00196   93.0   49.0          24.0           15.0   47.887324\n",
      "2018-01-30  0.00060   70.0   73.0          11.0           19.0   48.951049\n",
      "2018-01-31  0.00191   55.0   89.0           7.0           11.0   43.750000\n",
      "2018-02-01 -0.00013    8.0    4.0           8.0            3.0   50.000000\n"
     ]
    }
   ],
   "source": [
    "from sklearn.neighbors import KNeighborsClassifier\n",
    "\n",
    "est_KNC = PNLEstimatorWrapper(KNeighborsClassifier(n_neighbors=7,n_jobs=2,leaf_size=30\n",
    "                                                   ,algorithm='kd_tree'), PNL_column=['PNL_0','PNL_1'])\n",
    "result_KNC = step_validation(est_KNC, X, y, v_split(X,n_bdtrain,n_bdtest,mday))\n",
    "result_KNC, predict_KNC = redim(result_KNC)\n",
    "print('-------- KNeighborsClassifier 5m -------')\n",
    "print('average PNL: ', np.mean(result_KNC[:,0]))\n",
    "print('average buy: ', np.mean(result_KNC[:,1]))\n",
    "print('average sell: ', np.mean(result_KNC[:,2]))\n",
    "print('average %correct: ', np.mean(result_KNC[:,5]))\n",
    "print('-------------------------------------')\n",
    "df_KNC = pd.DataFrame(result_KNC, columns=list(['PNL','buys','sells','longest_buys','longest_sells','%correct'])\n",
    "                      ,index=dates)\n",
    "print(df_KNC)"
   ]
  },
  {
   "cell_type": "code",
   "execution_count": null,
   "metadata": {
    "collapsed": true
   },
   "outputs": [],
   "source": []
  },
  {
   "cell_type": "code",
   "execution_count": 168,
   "metadata": {},
   "outputs": [
    {
     "name": "stdout",
     "output_type": "stream",
     "text": [
      "------ DecisionTreeClassifier 5m -------\n",
      "average PNL:  -0.0018347826087\n",
      "average buy:  60.9130434783\n",
      "average sell:  51.347826087\n",
      "average %correct:  38.0228918049\n",
      "-------------------------------------\n",
      "                PNL   buys  sells  longest_buys  longest_sells    %correct\n",
      "2018-01-06 -0.00032    1.0    0.0           1.0            0.0    0.000000\n",
      "2018-01-08 -0.00608   40.0  101.0           9.0           82.0   17.021277\n",
      "2018-01-09 -0.00433   38.0  103.0          16.0           81.0   41.134752\n",
      "2018-01-10 -0.00840   89.0   52.0          14.0           11.0   36.879433\n",
      "2018-01-11 -0.01111   54.0   90.0           4.0           13.0   40.972222\n",
      "2018-01-12  0.01053  117.0   24.0          86.0            4.0   53.191489\n",
      "2018-01-13  0.00000    0.0    1.0           0.0            1.0    0.000000\n",
      "2018-01-15  0.00000  143.0    0.0           0.0          143.0    3.496503\n",
      "2018-01-16  0.00044  103.0   41.0          14.0            8.0   45.833333\n",
      "2018-01-17 -0.00594   63.0   80.0           5.0           13.0   44.755245\n",
      "2018-01-18 -0.00374   76.0   67.0           9.0            5.0   41.258741\n",
      "2018-01-19 -0.00049   60.0   82.0           4.0            7.0   49.295775\n",
      "2018-01-20  0.00297    1.0    0.0           1.0            0.0  100.000000\n",
      "2018-01-22 -0.00358   69.0   73.0          24.0           19.0   40.845070\n",
      "2018-01-23 -0.00594   76.0   66.0          19.0            7.0   50.000000\n",
      "2018-01-24  0.00566  143.0    0.0         143.0            0.0   51.748252\n",
      "2018-01-25 -0.00227   20.0  124.0           9.0           64.0   52.083333\n",
      "2018-01-26 -0.00989   67.0   76.0           8.0           11.0   43.356643\n",
      "2018-01-27  0.00000    0.0    1.0           0.0            1.0    0.000000\n",
      "2018-01-29 -0.00671   92.0   50.0          15.0            9.0   40.140845\n",
      "2018-01-30  0.00186   75.0   68.0          10.0            9.0   41.958042\n",
      "2018-01-31  0.00525   68.0   76.0          12.0           12.0   47.222222\n",
      "2018-02-01 -0.00011    6.0    6.0           4.0            6.0   33.333333\n"
     ]
    }
   ],
   "source": [
    "from sklearn.tree import DecisionTreeClassifier\n",
    "\n",
    "est_DTC = PNLEstimatorWrapper(DecisionTreeClassifier(), PNL_column=['PNL_0','PNL_1'])\n",
    "result_DTC = step_validation(est_DTC, X, y, v_split(X,n_bdtrain,n_bdtest,mday))\n",
    "result_DTC, predict_DTC = redim(result_DTC)\n",
    "print('------ DecisionTreeClassifier 5m -------')\n",
    "print('average PNL: ', np.mean(result_DTC[:,0]))\n",
    "print('average buy: ', np.mean(result_DTC[:,1]))\n",
    "print('average sell: ', np.mean(result_DTC[:,2]))\n",
    "print('average %correct: ', np.mean(result_DTC[:,5]))\n",
    "print('-------------------------------------')\n",
    "df_DTC = pd.DataFrame(result_DTC, columns=list(['PNL','buys','sells','longest_buys','longest_sells','%correct'])\n",
    "                      ,index=dates)\n",
    "print(df_DTC)"
   ]
  },
  {
   "cell_type": "code",
   "execution_count": null,
   "metadata": {
    "collapsed": true
   },
   "outputs": [],
   "source": []
  },
  {
   "cell_type": "code",
   "execution_count": 169,
   "metadata": {},
   "outputs": [
    {
     "name": "stdout",
     "output_type": "stream",
     "text": [
      "------- RandomForestClassifier 5m -------\n",
      "PNL promedio:  -0.00228347826087\n",
      "buy promedio:  52.0434782609\n",
      "sell promedio:  60.2173913043\n",
      "average %correct:  42.4974791082\n",
      "-------------------------------------\n",
      "                PNL   buys  sells  longest_buys  longest_sells     correct\n",
      "2018-01-06 -0.00032    1.0    0.0           1.0            0.0    0.000000\n",
      "2018-01-08 -0.00331   37.0  104.0           9.0           82.0   21.985816\n",
      "2018-01-09 -0.00161   38.0  103.0          15.0           79.0   41.843972\n",
      "2018-01-10 -0.00994   40.0  101.0           8.0           25.0   51.063830\n",
      "2018-01-11 -0.00720   27.0  117.0           4.0           19.0   44.444444\n",
      "2018-01-12  0.01001  121.0   20.0          86.0            6.0   55.319149\n",
      "2018-01-13  0.00000    0.0    1.0           0.0            1.0    0.000000\n",
      "2018-01-15 -0.00749   21.0  122.0           0.0          143.0   37.062937\n",
      "2018-01-16 -0.00390  105.0   39.0          28.0            4.0   43.750000\n",
      "2018-01-17 -0.00938   75.0   68.0          10.0           24.0   45.454545\n",
      "2018-01-18 -0.00605   93.0   50.0          22.0            7.0   45.454545\n",
      "2018-01-19 -0.00216   66.0   76.0           8.0           19.0   46.478873\n",
      "2018-01-20  0.00297    1.0    0.0           1.0            0.0  100.000000\n",
      "2018-01-22 -0.00208   65.0   77.0          22.0           17.0   47.887324\n",
      "2018-01-23 -0.00897   52.0   90.0           7.0           18.0   46.478873\n",
      "2018-01-24  0.00572  142.0    1.0         140.0            1.0   51.748252\n",
      "2018-01-25 -0.00179   23.0  121.0          14.0           64.0   52.083333\n",
      "2018-01-26 -0.00021   52.0   91.0           5.0           39.0   48.951049\n",
      "2018-01-27  0.00000    0.0    1.0           0.0            1.0    0.000000\n",
      "2018-01-29 -0.01525  101.0   41.0          29.0            5.0   41.549296\n",
      "2018-01-30  0.00320   74.0   69.0          14.0           17.0   47.552448\n",
      "2018-01-31  0.00545   56.0   88.0          10.0            9.0   50.000000\n",
      "2018-02-01 -0.00021    7.0    5.0           4.0            4.0   58.333333\n"
     ]
    }
   ],
   "source": [
    "from  sklearn.ensemble  import RandomForestClassifier\n",
    "\n",
    "est_RFC = PNLEstimatorWrapper(RandomForestClassifier(n_estimators=15, n_jobs=3), PNL_column=['PNL_1','PNL_0'])\n",
    "result_RFC = step_validation(est_RFC, X, y, v_split(X,4,1,1))\n",
    "result_RFC, predict_RFC = redim(result_RFC)\n",
    "print('------- RandomForestClassifier 5m -------')\n",
    "print('PNL promedio: ', np.mean(result_RFC[:,0]))\n",
    "print('buy promedio: ', np.mean(result_RFC[:,1]))\n",
    "print('sell promedio: ', np.mean(result_RFC[:,2]))\n",
    "print('average %correct: ', np.mean(result_RFC[:,5]))\n",
    "print('-------------------------------------')\n",
    "df_RFC = pd.DataFrame(result_RFC, columns=list(['PNL','buys','sells','longest_buys','longest_sells','correct'])\n",
    "                      ,index=dates)\n",
    "print(df_RFC)"
   ]
  },
  {
   "cell_type": "code",
   "execution_count": 170,
   "metadata": {},
   "outputs": [
    {
     "data": {
      "text/plain": [
       "(559, 9)"
      ]
     },
     "execution_count": 170,
     "metadata": {},
     "output_type": "execute_result"
    }
   ],
   "source": [
    "X[:'2018-01-05'].shape\n"
   ]
  },
  {
   "cell_type": "code",
   "execution_count": 171,
   "metadata": {},
   "outputs": [
    {
     "data": {
      "text/plain": [
       "((3141,), (2582,))"
      ]
     },
     "execution_count": 171,
     "metadata": {},
     "output_type": "execute_result"
    }
   ],
   "source": [
    "bt.shape, predict_RFC.shape"
   ]
  },
  {
   "cell_type": "code",
   "execution_count": null,
   "metadata": {
    "collapsed": true
   },
   "outputs": [],
   "source": []
  }
 ],
 "metadata": {
  "kernelspec": {
   "display_name": "Python 3",
   "language": "python",
   "name": "python3"
  },
  "language_info": {
   "codemirror_mode": {
    "name": "ipython",
    "version": 3
   },
   "file_extension": ".py",
   "mimetype": "text/x-python",
   "name": "python",
   "nbconvert_exporter": "python",
   "pygments_lexer": "ipython3",
   "version": "3.6.2"
  }
 },
 "nbformat": 4,
 "nbformat_minor": 2
}
