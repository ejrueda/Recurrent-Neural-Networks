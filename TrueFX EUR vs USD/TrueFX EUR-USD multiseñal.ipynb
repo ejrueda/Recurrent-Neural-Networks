{
 "cells": [
  {
   "cell_type": "code",
   "execution_count": 1,
   "metadata": {
    "collapsed": true
   },
   "outputs": [],
   "source": [
    "import numpy as np\n",
    "import pandas as pd\n",
    "import bokeh.plotting as bp\n",
    "from bokeh.layouts import gridplot"
   ]
  },
  {
   "cell_type": "markdown",
   "metadata": {},
   "source": [
    "En primera base se probó con la señal del par EUR-USD para ver esta como se comportaba, ahora probaremos con varias señales de entrada, para ver como se comporta la señal EUR-USD."
   ]
  },
  {
   "cell_type": "markdown",
   "metadata": {},
   "source": [
    "Para empezar se probará con los pares EUR/USD y GBP/USD para predecir la señal EUR/USD"
   ]
  },
  {
   "cell_type": "code",
   "execution_count": 2,
   "metadata": {
    "collapsed": true
   },
   "outputs": [],
   "source": [
    "#Se lee la señal correspondiente a GBP vs USD para el mes de enero de 2018\n",
    "data_GBPvsUSD = pd.read_csv(\"../data/TrueFX/GBP-USD/GBPUSD-preprocesado-2018-01.csv\", index_col=0\n",
    "                            ,infer_datetime_format=True, parse_dates=True )\n",
    "\n",
    "#Se lee la señal correspondiente a EUR vs USD para el mes de enero de 2018\n",
    "data_EURvsUSD = pd.read_csv(\"../data/TrueFX/EUR-USD/datos_procesados_EURUSD-2018-01.csv\", index_col=0\n",
    "                            ,infer_datetime_format=True, parse_dates=True )"
   ]
  },
  {
   "cell_type": "code",
   "execution_count": 3,
   "metadata": {},
   "outputs": [
    {
     "data": {
      "text/html": [
       "<div>\n",
       "<style>\n",
       "    .dataframe thead tr:only-child th {\n",
       "        text-align: right;\n",
       "    }\n",
       "\n",
       "    .dataframe thead th {\n",
       "        text-align: left;\n",
       "    }\n",
       "\n",
       "    .dataframe tbody tr th {\n",
       "        vertical-align: top;\n",
       "    }\n",
       "</style>\n",
       "<table border=\"1\" class=\"dataframe\">\n",
       "  <thead>\n",
       "    <tr style=\"text-align: right;\">\n",
       "      <th></th>\n",
       "      <th>bid</th>\n",
       "      <th>ask</th>\n",
       "    </tr>\n",
       "    <tr>\n",
       "      <th>date</th>\n",
       "      <th></th>\n",
       "      <th></th>\n",
       "    </tr>\n",
       "  </thead>\n",
       "  <tbody>\n",
       "    <tr>\n",
       "      <th>2018-01-02 00:00:40</th>\n",
       "      <td>1.34979</td>\n",
       "      <td>1.35176</td>\n",
       "    </tr>\n",
       "    <tr>\n",
       "      <th>2018-01-02 00:01:00</th>\n",
       "      <td>1.34918</td>\n",
       "      <td>1.35208</td>\n",
       "    </tr>\n",
       "    <tr>\n",
       "      <th>2018-01-02 00:01:10</th>\n",
       "      <td>1.34915</td>\n",
       "      <td>1.35354</td>\n",
       "    </tr>\n",
       "    <tr>\n",
       "      <th>2018-01-02 00:01:20</th>\n",
       "      <td>1.34915</td>\n",
       "      <td>1.35386</td>\n",
       "    </tr>\n",
       "    <tr>\n",
       "      <th>2018-01-02 00:01:30</th>\n",
       "      <td>1.34938</td>\n",
       "      <td>1.35440</td>\n",
       "    </tr>\n",
       "  </tbody>\n",
       "</table>\n",
       "</div>"
      ],
      "text/plain": [
       "                         bid      ask\n",
       "date                                 \n",
       "2018-01-02 00:00:40  1.34979  1.35176\n",
       "2018-01-02 00:01:00  1.34918  1.35208\n",
       "2018-01-02 00:01:10  1.34915  1.35354\n",
       "2018-01-02 00:01:20  1.34915  1.35386\n",
       "2018-01-02 00:01:30  1.34938  1.35440"
      ]
     },
     "execution_count": 3,
     "metadata": {},
     "output_type": "execute_result"
    }
   ],
   "source": [
    "data_GBPvsUSD.head()"
   ]
  },
  {
   "cell_type": "code",
   "execution_count": 4,
   "metadata": {},
   "outputs": [
    {
     "data": {
      "text/html": [
       "<div>\n",
       "<style>\n",
       "    .dataframe thead tr:only-child th {\n",
       "        text-align: right;\n",
       "    }\n",
       "\n",
       "    .dataframe thead th {\n",
       "        text-align: left;\n",
       "    }\n",
       "\n",
       "    .dataframe tbody tr th {\n",
       "        vertical-align: top;\n",
       "    }\n",
       "</style>\n",
       "<table border=\"1\" class=\"dataframe\">\n",
       "  <thead>\n",
       "    <tr style=\"text-align: right;\">\n",
       "      <th></th>\n",
       "      <th>bid</th>\n",
       "      <th>ask</th>\n",
       "    </tr>\n",
       "    <tr>\n",
       "      <th>date</th>\n",
       "      <th></th>\n",
       "      <th></th>\n",
       "    </tr>\n",
       "  </thead>\n",
       "  <tbody>\n",
       "    <tr>\n",
       "      <th>2018-01-01 23:58:00</th>\n",
       "      <td>1.20093</td>\n",
       "      <td>1.20115</td>\n",
       "    </tr>\n",
       "    <tr>\n",
       "      <th>2018-01-01 23:58:10</th>\n",
       "      <td>1.20093</td>\n",
       "      <td>1.20111</td>\n",
       "    </tr>\n",
       "    <tr>\n",
       "      <th>2018-01-01 23:58:20</th>\n",
       "      <td>1.20082</td>\n",
       "      <td>1.20111</td>\n",
       "    </tr>\n",
       "    <tr>\n",
       "      <th>2018-01-01 23:58:30</th>\n",
       "      <td>1.20043</td>\n",
       "      <td>1.20110</td>\n",
       "    </tr>\n",
       "    <tr>\n",
       "      <th>2018-01-01 23:58:50</th>\n",
       "      <td>1.20011</td>\n",
       "      <td>1.20113</td>\n",
       "    </tr>\n",
       "  </tbody>\n",
       "</table>\n",
       "</div>"
      ],
      "text/plain": [
       "                         bid      ask\n",
       "date                                 \n",
       "2018-01-01 23:58:00  1.20093  1.20115\n",
       "2018-01-01 23:58:10  1.20093  1.20111\n",
       "2018-01-01 23:58:20  1.20082  1.20111\n",
       "2018-01-01 23:58:30  1.20043  1.20110\n",
       "2018-01-01 23:58:50  1.20011  1.20113"
      ]
     },
     "execution_count": 4,
     "metadata": {},
     "output_type": "execute_result"
    }
   ],
   "source": [
    "data_EURvsUSD.head()"
   ]
  },
  {
   "cell_type": "code",
   "execution_count": 5,
   "metadata": {},
   "outputs": [
    {
     "name": "stdout",
     "output_type": "stream",
     "text": [
      "tamaño de la señal EUR/USD (183535, 2)\n",
      "tamaño de la señal GBP/USD (185443, 2)\n"
     ]
    }
   ],
   "source": [
    "print('tamaño de la señal EUR/USD', data_EURvsUSD.shape)\n",
    "print('tamaño de la señal GBP/USD', data_GBPvsUSD.shape)"
   ]
  },
  {
   "cell_type": "markdown",
   "metadata": {},
   "source": [
    "como se puede ver, las dos señales no tienen el mismo tamaño, como la señal predominante es el par EUR/USD, el indice de este será el tenido en cuenta para la construcción de la multiseñal."
   ]
  },
  {
   "cell_type": "markdown",
   "metadata": {},
   "source": [
    "procedemos a cargar la clase \"EUtilities\" hecha con anterioridad para tratar estos datos..."
   ]
  },
  {
   "cell_type": "code",
   "execution_count": 21,
   "metadata": {},
   "outputs": [],
   "source": [
    "%run ../code/EUtilities.py\n",
    "EU = EUtilities()"
   ]
  },
  {
   "cell_type": "markdown",
   "metadata": {},
   "source": [
    "para poder utilizar la función \"multi_signal\" se deben cumplir ciertas caracteristicas, entre ellas, que los dataframe a utilizar tenga su columna llamada \"bid\"..."
   ]
  },
  {
   "cell_type": "code",
   "execution_count": 22,
   "metadata": {},
   "outputs": [],
   "source": [
    "#se construye el dataset EUR/USD con las dos señales en el, para su posterior uso\n",
    "data_EURvsUSD = EU.multi_signal(data_EURvsUSD,data_GBPvsUSD)"
   ]
  },
  {
   "cell_type": "code",
   "execution_count": 23,
   "metadata": {},
   "outputs": [
    {
     "data": {
      "text/html": [
       "<div>\n",
       "<style>\n",
       "    .dataframe thead tr:only-child th {\n",
       "        text-align: right;\n",
       "    }\n",
       "\n",
       "    .dataframe thead th {\n",
       "        text-align: left;\n",
       "    }\n",
       "\n",
       "    .dataframe tbody tr th {\n",
       "        vertical-align: top;\n",
       "    }\n",
       "</style>\n",
       "<table border=\"1\" class=\"dataframe\">\n",
       "  <thead>\n",
       "    <tr style=\"text-align: right;\">\n",
       "      <th></th>\n",
       "      <th>bid</th>\n",
       "      <th>ask</th>\n",
       "      <th>bidnew</th>\n",
       "    </tr>\n",
       "    <tr>\n",
       "      <th>date</th>\n",
       "      <th></th>\n",
       "      <th></th>\n",
       "      <th></th>\n",
       "    </tr>\n",
       "  </thead>\n",
       "  <tbody>\n",
       "    <tr>\n",
       "      <th>2018-01-01 23:58:00</th>\n",
       "      <td>1.20093</td>\n",
       "      <td>1.20115</td>\n",
       "      <td>1.20093</td>\n",
       "    </tr>\n",
       "    <tr>\n",
       "      <th>2018-01-01 23:58:10</th>\n",
       "      <td>1.20093</td>\n",
       "      <td>1.20111</td>\n",
       "      <td>1.20093</td>\n",
       "    </tr>\n",
       "    <tr>\n",
       "      <th>2018-01-01 23:58:20</th>\n",
       "      <td>1.20082</td>\n",
       "      <td>1.20111</td>\n",
       "      <td>1.20082</td>\n",
       "    </tr>\n",
       "    <tr>\n",
       "      <th>2018-01-01 23:58:30</th>\n",
       "      <td>1.20043</td>\n",
       "      <td>1.20110</td>\n",
       "      <td>1.20043</td>\n",
       "    </tr>\n",
       "    <tr>\n",
       "      <th>2018-01-01 23:58:50</th>\n",
       "      <td>1.20011</td>\n",
       "      <td>1.20113</td>\n",
       "      <td>1.20011</td>\n",
       "    </tr>\n",
       "    <tr>\n",
       "      <th>2018-01-01 23:59:00</th>\n",
       "      <td>1.20015</td>\n",
       "      <td>1.20110</td>\n",
       "      <td>1.20015</td>\n",
       "    </tr>\n",
       "    <tr>\n",
       "      <th>2018-01-01 23:59:10</th>\n",
       "      <td>1.20028</td>\n",
       "      <td>1.20110</td>\n",
       "      <td>1.20028</td>\n",
       "    </tr>\n",
       "    <tr>\n",
       "      <th>2018-01-01 23:59:50</th>\n",
       "      <td>1.20015</td>\n",
       "      <td>1.20110</td>\n",
       "      <td>1.20015</td>\n",
       "    </tr>\n",
       "    <tr>\n",
       "      <th>2018-01-02 00:00:40</th>\n",
       "      <td>1.20015</td>\n",
       "      <td>1.20105</td>\n",
       "      <td>1.34979</td>\n",
       "    </tr>\n",
       "    <tr>\n",
       "      <th>2018-01-02 00:00:50</th>\n",
       "      <td>1.20030</td>\n",
       "      <td>1.20113</td>\n",
       "      <td>1.20030</td>\n",
       "    </tr>\n",
       "  </tbody>\n",
       "</table>\n",
       "</div>"
      ],
      "text/plain": [
       "                         bid      ask   bidnew\n",
       "date                                          \n",
       "2018-01-01 23:58:00  1.20093  1.20115  1.20093\n",
       "2018-01-01 23:58:10  1.20093  1.20111  1.20093\n",
       "2018-01-01 23:58:20  1.20082  1.20111  1.20082\n",
       "2018-01-01 23:58:30  1.20043  1.20110  1.20043\n",
       "2018-01-01 23:58:50  1.20011  1.20113  1.20011\n",
       "2018-01-01 23:59:00  1.20015  1.20110  1.20015\n",
       "2018-01-01 23:59:10  1.20028  1.20110  1.20028\n",
       "2018-01-01 23:59:50  1.20015  1.20110  1.20015\n",
       "2018-01-02 00:00:40  1.20015  1.20105  1.34979\n",
       "2018-01-02 00:00:50  1.20030  1.20113  1.20030"
      ]
     },
     "execution_count": 23,
     "metadata": {},
     "output_type": "execute_result"
    }
   ],
   "source": [
    "data_EURvsUSD[:10]"
   ]
  },
  {
   "cell_type": "markdown",
   "metadata": {},
   "source": [
    "ya con la multiseñal se procede a crear el X..."
   ]
  },
  {
   "cell_type": "code",
   "execution_count": 24,
   "metadata": {},
   "outputs": [],
   "source": [
    "#los datos del par EUR/USD \n",
    "X_EURUSD, y_EURUSD, bt_EURUSD = EU.build_dataset(data_EURvsUSD.iloc[:,0],window=3,binary_target=True,PNL=True\n",
    "                                             ,delete_constant_values=True)\n",
    "#los datos del par GBP/USD para luego unirlos y formar los datos X para entrenar\n",
    "X_GBPUSD,_ = EU.build_dataset(data_EURvsUSD.iloc[:,2],window=3,binary_target=False,delete_constant_values=True)"
   ]
  },
  {
   "cell_type": "code",
   "execution_count": 25,
   "metadata": {},
   "outputs": [
    {
     "data": {
      "text/plain": [
       "((156578, 4), (161098, 3))"
      ]
     },
     "execution_count": 25,
     "metadata": {},
     "output_type": "execute_result"
    }
   ],
   "source": [
    "X_EURUSD.shape, X_GBPUSD.shape"
   ]
  },
  {
   "cell_type": "markdown",
   "metadata": {},
   "source": [
    "debido a que son diferentes señales, al habilitar la opción de <i>\"delete_constant_values\"</i> en la función <i>\"build_dataset\"</i> esto hace que las señales resultantes no sean iguales en tamaño, por ende para entrenar se cogeran los valores de los indices de la señal a medir, si este no está en la otra señal, se coloca lo de la señal EUR/USD"
   ]
  },
  {
   "cell_type": "code",
   "execution_count": 26,
   "metadata": {},
   "outputs": [
    {
     "data": {
      "text/plain": [
       "((156578, 4), (156578, 3))"
      ]
     },
     "execution_count": 26,
     "metadata": {},
     "output_type": "execute_result"
    }
   ],
   "source": [
    "X_GBPUSD = X_GBPUSD.loc[X_EURUSD.index]\n",
    "X_EURUSD.shape, X_GBPUSD.shape"
   ]
  },
  {
   "cell_type": "code",
   "execution_count": 27,
   "metadata": {},
   "outputs": [
    {
     "data": {
      "text/html": [
       "<div>\n",
       "<style>\n",
       "    .dataframe thead tr:only-child th {\n",
       "        text-align: right;\n",
       "    }\n",
       "\n",
       "    .dataframe thead th {\n",
       "        text-align: left;\n",
       "    }\n",
       "\n",
       "    .dataframe tbody tr th {\n",
       "        vertical-align: top;\n",
       "    }\n",
       "</style>\n",
       "<table border=\"1\" class=\"dataframe\">\n",
       "  <thead>\n",
       "    <tr style=\"text-align: right;\">\n",
       "      <th></th>\n",
       "      <th>0</th>\n",
       "      <th>1</th>\n",
       "      <th>2</th>\n",
       "    </tr>\n",
       "    <tr>\n",
       "      <th>date</th>\n",
       "      <th></th>\n",
       "      <th></th>\n",
       "      <th></th>\n",
       "    </tr>\n",
       "  </thead>\n",
       "  <tbody>\n",
       "    <tr>\n",
       "      <th>2018-01-01 23:58:50</th>\n",
       "      <td>1.20093</td>\n",
       "      <td>1.20093</td>\n",
       "      <td>1.20082</td>\n",
       "    </tr>\n",
       "    <tr>\n",
       "      <th>2018-01-01 23:59:00</th>\n",
       "      <td>1.20093</td>\n",
       "      <td>1.20082</td>\n",
       "      <td>1.20043</td>\n",
       "    </tr>\n",
       "    <tr>\n",
       "      <th>2018-01-01 23:59:10</th>\n",
       "      <td>1.20082</td>\n",
       "      <td>1.20043</td>\n",
       "      <td>1.20011</td>\n",
       "    </tr>\n",
       "    <tr>\n",
       "      <th>2018-01-01 23:59:50</th>\n",
       "      <td>1.20043</td>\n",
       "      <td>1.20011</td>\n",
       "      <td>1.20015</td>\n",
       "    </tr>\n",
       "    <tr>\n",
       "      <th>2018-01-02 00:00:40</th>\n",
       "      <td>1.20011</td>\n",
       "      <td>1.20015</td>\n",
       "      <td>1.20028</td>\n",
       "    </tr>\n",
       "    <tr>\n",
       "      <th>2018-01-02 00:01:00</th>\n",
       "      <td>1.20028</td>\n",
       "      <td>1.20015</td>\n",
       "      <td>1.34979</td>\n",
       "    </tr>\n",
       "    <tr>\n",
       "      <th>2018-01-02 00:03:00</th>\n",
       "      <td>1.20030</td>\n",
       "      <td>1.34918</td>\n",
       "      <td>1.34915</td>\n",
       "    </tr>\n",
       "    <tr>\n",
       "      <th>2018-01-02 00:03:30</th>\n",
       "      <td>1.34915</td>\n",
       "      <td>1.34940</td>\n",
       "      <td>1.20026</td>\n",
       "    </tr>\n",
       "    <tr>\n",
       "      <th>2018-01-02 00:03:40</th>\n",
       "      <td>NaN</td>\n",
       "      <td>NaN</td>\n",
       "      <td>NaN</td>\n",
       "    </tr>\n",
       "    <tr>\n",
       "      <th>2018-01-02 00:03:50</th>\n",
       "      <td>1.20026</td>\n",
       "      <td>1.34979</td>\n",
       "      <td>1.34979</td>\n",
       "    </tr>\n",
       "  </tbody>\n",
       "</table>\n",
       "</div>"
      ],
      "text/plain": [
       "                           0        1        2\n",
       "date                                          \n",
       "2018-01-01 23:58:50  1.20093  1.20093  1.20082\n",
       "2018-01-01 23:59:00  1.20093  1.20082  1.20043\n",
       "2018-01-01 23:59:10  1.20082  1.20043  1.20011\n",
       "2018-01-01 23:59:50  1.20043  1.20011  1.20015\n",
       "2018-01-02 00:00:40  1.20011  1.20015  1.20028\n",
       "2018-01-02 00:01:00  1.20028  1.20015  1.34979\n",
       "2018-01-02 00:03:00  1.20030  1.34918  1.34915\n",
       "2018-01-02 00:03:30  1.34915  1.34940  1.20026\n",
       "2018-01-02 00:03:40      NaN      NaN      NaN\n",
       "2018-01-02 00:03:50  1.20026  1.34979  1.34979"
      ]
     },
     "execution_count": 27,
     "metadata": {},
     "output_type": "execute_result"
    }
   ],
   "source": [
    "X_GBPUSD[:10]"
   ]
  },
  {
   "cell_type": "code",
   "execution_count": 28,
   "metadata": {
    "collapsed": true
   },
   "outputs": [],
   "source": [
    "#para cambiar los valores NaN por los que hay en la señal EUR/USD\n",
    "X_GBPUSD = X_GBPUSD.fillna(X_EURUSD,axis=0)"
   ]
  },
  {
   "cell_type": "markdown",
   "metadata": {},
   "source": [
    "se unen para entrenar la multiseñal..."
   ]
  },
  {
   "cell_type": "code",
   "execution_count": 29,
   "metadata": {
    "collapsed": true
   },
   "outputs": [],
   "source": [
    "X_EURUSD.insert(loc=3,column=3,value=X_GBPUSD.iloc[:,0])\n",
    "X_EURUSD.insert(loc=4,column=4,value=X_GBPUSD.iloc[:,1])\n",
    "X_EURUSD.insert(loc=5,column=5,value=X_GBPUSD.iloc[:,2])"
   ]
  },
  {
   "cell_type": "code",
   "execution_count": 30,
   "metadata": {},
   "outputs": [
    {
     "data": {
      "text/html": [
       "<div>\n",
       "<style>\n",
       "    .dataframe thead tr:only-child th {\n",
       "        text-align: right;\n",
       "    }\n",
       "\n",
       "    .dataframe thead th {\n",
       "        text-align: left;\n",
       "    }\n",
       "\n",
       "    .dataframe tbody tr th {\n",
       "        vertical-align: top;\n",
       "    }\n",
       "</style>\n",
       "<table border=\"1\" class=\"dataframe\">\n",
       "  <thead>\n",
       "    <tr style=\"text-align: right;\">\n",
       "      <th></th>\n",
       "      <th>0</th>\n",
       "      <th>1</th>\n",
       "      <th>2</th>\n",
       "      <th>3</th>\n",
       "      <th>4</th>\n",
       "      <th>5</th>\n",
       "      <th>PNL</th>\n",
       "    </tr>\n",
       "    <tr>\n",
       "      <th>date</th>\n",
       "      <th></th>\n",
       "      <th></th>\n",
       "      <th></th>\n",
       "      <th></th>\n",
       "      <th></th>\n",
       "      <th></th>\n",
       "      <th></th>\n",
       "    </tr>\n",
       "  </thead>\n",
       "  <tbody>\n",
       "    <tr>\n",
       "      <th>2018-01-01 23:58:50</th>\n",
       "      <td>1.20093</td>\n",
       "      <td>1.20093</td>\n",
       "      <td>1.20082</td>\n",
       "      <td>1.20093</td>\n",
       "      <td>1.20093</td>\n",
       "      <td>1.20082</td>\n",
       "      <td>-0.00039</td>\n",
       "    </tr>\n",
       "    <tr>\n",
       "      <th>2018-01-01 23:59:00</th>\n",
       "      <td>1.20093</td>\n",
       "      <td>1.20082</td>\n",
       "      <td>1.20043</td>\n",
       "      <td>1.20093</td>\n",
       "      <td>1.20082</td>\n",
       "      <td>1.20043</td>\n",
       "      <td>-0.00032</td>\n",
       "    </tr>\n",
       "    <tr>\n",
       "      <th>2018-01-01 23:59:10</th>\n",
       "      <td>1.20082</td>\n",
       "      <td>1.20043</td>\n",
       "      <td>1.20011</td>\n",
       "      <td>1.20082</td>\n",
       "      <td>1.20043</td>\n",
       "      <td>1.20011</td>\n",
       "      <td>0.00004</td>\n",
       "    </tr>\n",
       "    <tr>\n",
       "      <th>2018-01-01 23:59:50</th>\n",
       "      <td>1.20043</td>\n",
       "      <td>1.20011</td>\n",
       "      <td>1.20015</td>\n",
       "      <td>1.20043</td>\n",
       "      <td>1.20011</td>\n",
       "      <td>1.20015</td>\n",
       "      <td>0.00013</td>\n",
       "    </tr>\n",
       "    <tr>\n",
       "      <th>2018-01-02 00:00:40</th>\n",
       "      <td>1.20011</td>\n",
       "      <td>1.20015</td>\n",
       "      <td>1.20028</td>\n",
       "      <td>1.20011</td>\n",
       "      <td>1.20015</td>\n",
       "      <td>1.20028</td>\n",
       "      <td>-0.00013</td>\n",
       "    </tr>\n",
       "  </tbody>\n",
       "</table>\n",
       "</div>"
      ],
      "text/plain": [
       "                           0        1        2        3        4        5  \\\n",
       "date                                                                        \n",
       "2018-01-01 23:58:50  1.20093  1.20093  1.20082  1.20093  1.20093  1.20082   \n",
       "2018-01-01 23:59:00  1.20093  1.20082  1.20043  1.20093  1.20082  1.20043   \n",
       "2018-01-01 23:59:10  1.20082  1.20043  1.20011  1.20082  1.20043  1.20011   \n",
       "2018-01-01 23:59:50  1.20043  1.20011  1.20015  1.20043  1.20011  1.20015   \n",
       "2018-01-02 00:00:40  1.20011  1.20015  1.20028  1.20011  1.20015  1.20028   \n",
       "\n",
       "                         PNL  \n",
       "date                          \n",
       "2018-01-01 23:58:50 -0.00039  \n",
       "2018-01-01 23:59:00 -0.00032  \n",
       "2018-01-01 23:59:10  0.00004  \n",
       "2018-01-01 23:59:50  0.00013  \n",
       "2018-01-02 00:00:40 -0.00013  "
      ]
     },
     "execution_count": 30,
     "metadata": {},
     "output_type": "execute_result"
    }
   ],
   "source": [
    "X_EURUSD.head()"
   ]
  },
  {
   "cell_type": "markdown",
   "metadata": {},
   "source": [
    "se prueba con el GaussianNB"
   ]
  },
  {
   "cell_type": "code",
   "execution_count": 31,
   "metadata": {
    "collapsed": true
   },
   "outputs": [],
   "source": [
    "%run ../code/PNLEstimatorWrapper.py"
   ]
  },
  {
   "cell_type": "code",
   "execution_count": 40,
   "metadata": {},
   "outputs": [
    {
     "name": "stdout",
     "output_type": "stream",
     "text": [
      "--------- GaussianNB ----------------\n",
      "average PNL :  -0.00102210526316\n",
      "average buy:  2010.26315789\n",
      "average sell:  5198.36842105\n",
      "-------------------------------------\n",
      "                PNL    buys   sells  longest_buys  longest_sells\n",
      "2018-01-05  0.00627   417.0  6041.0          11.0         2864.0\n",
      "2018-01-08 -0.00614  5424.0  1090.0        4746.0           22.0\n",
      "2018-01-09 -0.00332  6656.0     0.0        6656.0            0.0\n",
      "2018-01-10 -0.00100   159.0  6860.0           2.0         1590.0\n",
      "2018-01-11 -0.00804   130.0  6982.0           2.0         3336.0\n",
      "2018-01-12 -0.01655     0.0  7093.0           0.0         7093.0\n",
      "2018-01-15  0.00657  7099.0     0.0        7099.0            0.0\n",
      "2018-01-16  0.00251   983.0  6139.0           6.0           58.0\n",
      "2018-01-17  0.00696   841.0  6698.0          17.0           74.0\n",
      "2018-01-18 -0.00829  1089.0  6269.0          14.0           47.0\n",
      "2018-01-19  0.00468   928.0  6383.0         160.0         3966.0\n",
      "2018-01-22  0.00730  1919.0  5232.0          40.0         1393.0\n",
      "2018-01-23 -0.00059    87.0  7094.0          15.0         4046.0\n",
      "2018-01-24 -0.01095     0.0  7471.0           0.0         7471.0\n",
      "2018-01-25 -0.01674  1130.0  6589.0         130.0         4951.0\n",
      "2018-01-26 -0.00382     0.0  7618.0           0.0         7618.0\n",
      "2018-01-29  0.00756  2856.0  4596.0          76.0         1683.0\n",
      "2018-01-30  0.00640  5662.0  1823.0          84.0          626.0\n",
      "2018-01-31  0.00777  2815.0  4791.0         140.0         3890.0\n"
     ]
    }
   ],
   "source": [
    "from sklearn.naive_bayes import GaussianNB\n",
    "    \n",
    "y = bt_EURUSD\n",
    "n_bdtrain = 4\n",
    "n_bdtest = 1\n",
    "mday = 1\n",
    "dates = np.unique(X_EURUSD.index.date)[n_bdtrain:]\n",
    "\n",
    "est_GNB = PNLEstimatorWrapper(GaussianNB(), PNL_column='PNL')\n",
    "result_GNB = EU.step_validation(est_GNB, X_EURUSD, y, EU.v_split(X_EURUSD,n_bdtrain,n_bdtest,mday))\n",
    "result_GNB, predict_GNB = EU.redim(result_GNB)\n",
    "print('--------- GaussianNB ----------------')\n",
    "print('average PNL : ', np.mean(result_GNB[:,0]))\n",
    "print('average buy: ', np.mean(result_GNB[:,1]))\n",
    "print('average sell: ', np.mean(result_GNB[:,2]))\n",
    "print('-------------------------------------')\n",
    "df_GNB = pd.DataFrame(result_GNB, columns=list(['PNL','buys','sells','longest_buys','longest_sells']),index=dates)\n",
    "print(df_GNB)\n",
    "df_GNB.to_csv('../resultados/TrueFX/EUR-USD/MultiSeñal/GaussianNB/pnl-EUR-USD_GBP-USD_GNB_wsize3_2018-01.csv')"
   ]
  },
  {
   "cell_type": "markdown",
   "metadata": {},
   "source": [
    "se prueba con el KNeighborsClassifier"
   ]
  },
  {
   "cell_type": "code",
   "execution_count": 39,
   "metadata": {},
   "outputs": [
    {
     "name": "stdout",
     "output_type": "stream",
     "text": [
      "--------- KNeighborsClassifier -------------\n",
      "average PNL :  -0.000912631578947\n",
      "average buy:  3360.05263158\n",
      "average sell:  3848.57894737\n",
      "-------------------------------------\n",
      "                PNL    buys   sells  longest_buys  longest_sells\n",
      "2018-01-05 -0.00021  3175.0  3283.0          60.0          100.0\n",
      "2018-01-08 -0.00958  4993.0  1521.0         109.0           24.0\n",
      "2018-01-09 -0.00086  5661.0   995.0        1560.0           28.0\n",
      "2018-01-10 -0.00346  3850.0  3169.0         202.0           58.0\n",
      "2018-01-11 -0.00960  4189.0  2923.0          72.0          100.0\n",
      "2018-01-12 -0.01023   855.0  6238.0          21.0          960.0\n",
      "2018-01-15 -0.00007  5181.0  1918.0         132.0           54.0\n",
      "2018-01-16  0.00391  3981.0  3141.0         146.0           61.0\n",
      "2018-01-17 -0.00060  4791.0  2748.0         132.0          142.0\n",
      "2018-01-18 -0.00157  2726.0  4632.0          77.0           85.0\n",
      "2018-01-19 -0.00152  3482.0  3829.0          58.0           60.0\n",
      "2018-01-22  0.01526  3157.0  3994.0          41.0           64.0\n",
      "2018-01-23  0.00127  2290.0  4891.0          25.0          102.0\n",
      "2018-01-24 -0.00923   258.0  7213.0          21.0         1803.0\n",
      "2018-01-25  0.00378  2561.0  5158.0         106.0         1895.0\n",
      "2018-01-26  0.00286  3035.0  4583.0          49.0          236.0\n",
      "2018-01-29  0.00014  4016.0  3436.0         212.0          124.0\n",
      "2018-01-30 -0.00126  2584.0  4901.0          53.0          105.0\n",
      "2018-01-31  0.00363  3056.0  4550.0          55.0          170.0\n"
     ]
    }
   ],
   "source": [
    "from sklearn.neighbors import KNeighborsClassifier\n",
    "    \n",
    "y = bt_EURUSD\n",
    "n_bdtrain = 4\n",
    "n_bdtest = 1\n",
    "mday = 1\n",
    "dates = np.unique(X_EURUSD.index.date)[n_bdtrain:]\n",
    "\n",
    "est_KNC = PNLEstimatorWrapper(KNeighborsClassifier(n_neighbors=7,n_jobs=2,leaf_size=30\n",
    "                                                   ,algorithm='kd_tree'), PNL_column='PNL')\n",
    "result_KNC = EU.step_validation(est_KNC, X_EURUSD, y, EU.v_split(X_EURUSD,n_bdtrain,n_bdtest,mday))\n",
    "result_KNC, predict_KNC = EU.redim(result_KNC)\n",
    "print('--------- KNeighborsClassifier -------------')\n",
    "print('average PNL : ', np.mean(result_KNC[:,0]))\n",
    "print('average buy: ', np.mean(result_KNC[:,1]))\n",
    "print('average sell: ', np.mean(result_KNC[:,2]))\n",
    "print('-------------------------------------')\n",
    "df_KNC = pd.DataFrame(result_KNC, columns=list(['PNL','buys','sells','longest_buys','longest_sells']),index=dates)\n",
    "print(df_KNC)\n",
    "df_KNC.to_csv('../resultados/TrueFX/EUR-USD/MultiSeñal/KNeighborsClassifier/pnl-EUR-USD_GBP-USD_KNC_wsize3_2018-01.csv')"
   ]
  },
  {
   "cell_type": "markdown",
   "metadata": {},
   "source": [
    "con el DecisionTreeClassifier..."
   ]
  },
  {
   "cell_type": "code",
   "execution_count": 47,
   "metadata": {},
   "outputs": [
    {
     "name": "stdout",
     "output_type": "stream",
     "text": [
      "--------- DecisionTreeClassifier -------------\n",
      "average PNL :  -0.000632631578947\n",
      "average buy:  3254.68421053\n",
      "average sell:  3953.94736842\n",
      "-------------------------------------\n",
      "                PNL    buys   sells  longest_buys  longest_sells\n",
      "2018-01-05 -0.00449  2864.0  3594.0          26.0           38.0\n",
      "2018-01-08  0.00216  1372.0  5142.0          39.0          727.0\n",
      "2018-01-09 -0.00252  5980.0   676.0        4215.0           19.0\n",
      "2018-01-10  0.00764  4728.0  2291.0         124.0           32.0\n",
      "2018-01-11 -0.00416  4211.0  2901.0          42.0           72.0\n",
      "2018-01-12 -0.01397   773.0  6320.0          12.0          960.0\n",
      "2018-01-15 -0.00491  1203.0  5896.0          26.0         1187.0\n",
      "2018-01-16  0.00159  4081.0  3041.0         140.0           27.0\n",
      "2018-01-17 -0.00160  4690.0  2849.0          91.0           47.0\n",
      "2018-01-18 -0.00495  3061.0  4297.0          63.0           92.0\n",
      "2018-01-19 -0.00272  3199.0  4112.0          23.0           80.0\n",
      "2018-01-22 -0.00642  2814.0  4337.0          53.0          115.0\n",
      "2018-01-23  0.00273  2826.0  4355.0          31.0           98.0\n",
      "2018-01-24 -0.00969   219.0  7252.0           8.0         5964.0\n",
      "2018-01-25  0.00720  6567.0  1152.0         102.0           62.0\n",
      "2018-01-26  0.01178  3560.0  4058.0          41.0          182.0\n",
      "2018-01-29  0.00186  2803.0  4649.0          62.0          111.0\n",
      "2018-01-30  0.00084  3638.0  3847.0         186.0           89.0\n",
      "2018-01-31  0.00761  3250.0  4356.0          23.0          121.0\n"
     ]
    }
   ],
   "source": [
    "from sklearn.tree import DecisionTreeClassifier\n",
    "    \n",
    "y = bt_EURUSD\n",
    "n_bdtrain = 4\n",
    "n_bdtest = 1\n",
    "mday = 1\n",
    "dates = np.unique(X_EURUSD.index.date)[n_bdtrain:]\n",
    "\n",
    "est_DTC = PNLEstimatorWrapper(DecisionTreeClassifier(), PNL_column='PNL')\n",
    "result_DTC = EU.step_validation(est_DTC, X_EURUSD, y, EU.v_split(X_EURUSD,n_bdtrain,n_bdtest,mday))\n",
    "result_DTC, predict_DTC = EU.redim(result_DTC)\n",
    "print('--------- DecisionTreeClassifier -------------')\n",
    "print('average PNL : ', np.mean(result_DTC[:,0]))\n",
    "print('average buy: ', np.mean(result_DTC[:,1]))\n",
    "print('average sell: ', np.mean(result_DTC[:,2]))\n",
    "print('-------------------------------------')\n",
    "df_DTC = pd.DataFrame(result_DTC, columns=list(['PNL','buys','sells','longest_buys','longest_sells']),index=dates)\n",
    "print(df_DTC)\n",
    "df_DTC.to_csv('../resultados/TrueFX/EUR-USD/MultiSeñal/DecisionTreeClassifier/pnl-EUR-USD_GBP-USD_DTC_wsize3_2018-01.csv')"
   ]
  },
  {
   "cell_type": "markdown",
   "metadata": {},
   "source": [
    "con un RandomForestClassifier..."
   ]
  },
  {
   "cell_type": "code",
   "execution_count": 46,
   "metadata": {},
   "outputs": [
    {
     "name": "stdout",
     "output_type": "stream",
     "text": [
      "--------- RandomForestClassifier -------------\n",
      "average PNL :  -0.00174631578947\n",
      "average buy:  3507.31578947\n",
      "average sell:  3701.31578947\n",
      "-------------------------------------\n",
      "                PNL    buys   sells  longest_buys  longest_sells\n",
      "2018-01-05  0.00163  3057.0  3401.0          47.0           32.0\n",
      "2018-01-08 -0.00872  5023.0  1491.0          71.0           15.0\n",
      "2018-01-09 -0.00298  5602.0  1054.0        3488.0           37.0\n",
      "2018-01-10  0.00356  2950.0  4069.0          38.0           35.0\n",
      "2018-01-11 -0.01260  3646.0  3466.0          36.0           54.0\n",
      "2018-01-12  0.00395  4332.0  2761.0         117.0          227.0\n",
      "2018-01-15 -0.00787  4898.0  2201.0         132.0          131.0\n",
      "2018-01-16  0.00131  4058.0  3064.0         147.0           75.0\n",
      "2018-01-17  0.00434  5083.0  2456.0          91.0           43.0\n",
      "2018-01-18 -0.00573  2997.0  4361.0          99.0           52.0\n",
      "2018-01-19  0.00314  3329.0  3982.0          37.0           43.0\n",
      "2018-01-22 -0.00902  4290.0  2861.0          92.0           35.0\n",
      "2018-01-23  0.00783  2899.0  4282.0          30.0           65.0\n",
      "2018-01-24 -0.00777   253.0  7218.0          23.0         1803.0\n",
      "2018-01-25  0.00336  1156.0  6563.0          27.0         1977.0\n",
      "2018-01-26 -0.00790  3498.0  4120.0          49.0          174.0\n",
      "2018-01-29  0.00674  3614.0  3838.0         118.0          102.0\n",
      "2018-01-30 -0.00490  2602.0  4883.0          33.0           75.0\n",
      "2018-01-31 -0.00155  3352.0  4254.0          34.0           59.0\n"
     ]
    }
   ],
   "source": [
    "from sklearn.ensemble import RandomForestClassifier\n",
    "    \n",
    "y = bt_EURUSD\n",
    "n_bdtrain = 4\n",
    "n_bdtest = 1\n",
    "mday = 1\n",
    "dates = np.unique(X_EURUSD.index.date)[n_bdtrain:]\n",
    "\n",
    "est_RFC = PNLEstimatorWrapper(RandomForestClassifier(n_estimators=15, n_jobs=3), PNL_column='PNL')\n",
    "result_RFC = EU.step_validation(est_RFC, X_EURUSD, y, EU.v_split(X_EURUSD,n_bdtrain,n_bdtest,mday))\n",
    "result_RFC, predict_RFC = EU.redim(result_RFC)\n",
    "print('--------- RandomForestClassifier -------------')\n",
    "print('average PNL : ', np.mean(result_RFC[:,0]))\n",
    "print('average buy: ', np.mean(result_RFC[:,1]))\n",
    "print('average sell: ', np.mean(result_RFC[:,2]))\n",
    "print('-------------------------------------')\n",
    "df_RFC = pd.DataFrame(result_RFC, columns=list(['PNL','buys','sells','longest_buys','longest_sells']),index=dates)\n",
    "print(df_RFC)\n",
    "df_RFC.to_csv('../resultados/TrueFX/EUR-USD/MultiSeñal/RandomForestClassifier/pnl-EUR-USD_GBP-USD_RFC_wsize3_2018-01.csv')"
   ]
  },
  {
   "cell_type": "code",
   "execution_count": null,
   "metadata": {
    "collapsed": true
   },
   "outputs": [],
   "source": []
  }
 ],
 "metadata": {
  "kernelspec": {
   "display_name": "Python 3",
   "language": "python",
   "name": "python3"
  },
  "language_info": {
   "codemirror_mode": {
    "name": "ipython",
    "version": 3
   },
   "file_extension": ".py",
   "mimetype": "text/x-python",
   "name": "python",
   "nbconvert_exporter": "python",
   "pygments_lexer": "ipython3",
   "version": "3.6.2"
  }
 },
 "nbformat": 4,
 "nbformat_minor": 2
}
