{
 "cells": [
  {
   "cell_type": "code",
   "execution_count": 31,
   "metadata": {
    "collapsed": true
   },
   "outputs": [],
   "source": [
    "import numpy as np\n",
    "import pandas as pd\n",
    "import bokeh.plotting as bp\n",
    "from bokeh.layouts import gridplot"
   ]
  },
  {
   "cell_type": "markdown",
   "metadata": {},
   "source": [
    "En primera base se probó con la señal del par EUR-USD para ver esta como se comportaba, ahora probaremos con varias señales de entrada, para ver como se comporta la señal EUR-USD."
   ]
  },
  {
   "cell_type": "markdown",
   "metadata": {},
   "source": [
    "Para empezar se probará con los pares EUR/USD y GBP/USD para predecir la señal EUR/USD"
   ]
  },
  {
   "cell_type": "code",
   "execution_count": 32,
   "metadata": {
    "collapsed": true
   },
   "outputs": [],
   "source": [
    "#Se lee la señal correspondiente a GBP vs USD para el mes de enero de 2018\n",
    "data_GBPvsUSD = pd.read_csv(\"../data/TrueFX/GBP-USD/GBPUSD-preprocesado-2018-01.csv\", index_col=0\n",
    "                            ,infer_datetime_format=True, parse_dates=True )\n",
    "\n",
    "#Se lee la señal correspondiente a EUR vs USD para el mes de enero de 2018\n",
    "data_EURvsUSD = pd.read_csv(\"../data/TrueFX/EUR-USD/datos_procesados_EURUSD-2018-01.csv\", index_col=0\n",
    "                            ,infer_datetime_format=True, parse_dates=True )"
   ]
  },
  {
   "cell_type": "code",
   "execution_count": 33,
   "metadata": {},
   "outputs": [
    {
     "data": {
      "text/html": [
       "<div>\n",
       "<style>\n",
       "    .dataframe thead tr:only-child th {\n",
       "        text-align: right;\n",
       "    }\n",
       "\n",
       "    .dataframe thead th {\n",
       "        text-align: left;\n",
       "    }\n",
       "\n",
       "    .dataframe tbody tr th {\n",
       "        vertical-align: top;\n",
       "    }\n",
       "</style>\n",
       "<table border=\"1\" class=\"dataframe\">\n",
       "  <thead>\n",
       "    <tr style=\"text-align: right;\">\n",
       "      <th></th>\n",
       "      <th>bid</th>\n",
       "      <th>ask</th>\n",
       "    </tr>\n",
       "    <tr>\n",
       "      <th>date</th>\n",
       "      <th></th>\n",
       "      <th></th>\n",
       "    </tr>\n",
       "  </thead>\n",
       "  <tbody>\n",
       "    <tr>\n",
       "      <th>2018-01-02 00:00:40</th>\n",
       "      <td>1.34979</td>\n",
       "      <td>1.35176</td>\n",
       "    </tr>\n",
       "    <tr>\n",
       "      <th>2018-01-02 00:01:00</th>\n",
       "      <td>1.34918</td>\n",
       "      <td>1.35208</td>\n",
       "    </tr>\n",
       "    <tr>\n",
       "      <th>2018-01-02 00:01:10</th>\n",
       "      <td>1.34915</td>\n",
       "      <td>1.35354</td>\n",
       "    </tr>\n",
       "    <tr>\n",
       "      <th>2018-01-02 00:01:20</th>\n",
       "      <td>1.34915</td>\n",
       "      <td>1.35386</td>\n",
       "    </tr>\n",
       "    <tr>\n",
       "      <th>2018-01-02 00:01:30</th>\n",
       "      <td>1.34938</td>\n",
       "      <td>1.35440</td>\n",
       "    </tr>\n",
       "    <tr>\n",
       "      <th>2018-01-02 00:01:40</th>\n",
       "      <td>1.34938</td>\n",
       "      <td>1.35386</td>\n",
       "    </tr>\n",
       "    <tr>\n",
       "      <th>2018-01-02 00:01:50</th>\n",
       "      <td>1.34942</td>\n",
       "      <td>1.35300</td>\n",
       "    </tr>\n",
       "    <tr>\n",
       "      <th>2018-01-02 00:02:10</th>\n",
       "      <td>1.34939</td>\n",
       "      <td>1.35300</td>\n",
       "    </tr>\n",
       "    <tr>\n",
       "      <th>2018-01-02 00:02:30</th>\n",
       "      <td>1.34979</td>\n",
       "      <td>1.35154</td>\n",
       "    </tr>\n",
       "    <tr>\n",
       "      <th>2018-01-02 00:02:40</th>\n",
       "      <td>1.34979</td>\n",
       "      <td>1.35153</td>\n",
       "    </tr>\n",
       "  </tbody>\n",
       "</table>\n",
       "</div>"
      ],
      "text/plain": [
       "                         bid      ask\n",
       "date                                 \n",
       "2018-01-02 00:00:40  1.34979  1.35176\n",
       "2018-01-02 00:01:00  1.34918  1.35208\n",
       "2018-01-02 00:01:10  1.34915  1.35354\n",
       "2018-01-02 00:01:20  1.34915  1.35386\n",
       "2018-01-02 00:01:30  1.34938  1.35440\n",
       "2018-01-02 00:01:40  1.34938  1.35386\n",
       "2018-01-02 00:01:50  1.34942  1.35300\n",
       "2018-01-02 00:02:10  1.34939  1.35300\n",
       "2018-01-02 00:02:30  1.34979  1.35154\n",
       "2018-01-02 00:02:40  1.34979  1.35153"
      ]
     },
     "execution_count": 33,
     "metadata": {},
     "output_type": "execute_result"
    }
   ],
   "source": [
    "data_GBPvsUSD[:10]"
   ]
  },
  {
   "cell_type": "code",
   "execution_count": 34,
   "metadata": {},
   "outputs": [
    {
     "data": {
      "text/html": [
       "<div>\n",
       "<style>\n",
       "    .dataframe thead tr:only-child th {\n",
       "        text-align: right;\n",
       "    }\n",
       "\n",
       "    .dataframe thead th {\n",
       "        text-align: left;\n",
       "    }\n",
       "\n",
       "    .dataframe tbody tr th {\n",
       "        vertical-align: top;\n",
       "    }\n",
       "</style>\n",
       "<table border=\"1\" class=\"dataframe\">\n",
       "  <thead>\n",
       "    <tr style=\"text-align: right;\">\n",
       "      <th></th>\n",
       "      <th>bid</th>\n",
       "      <th>ask</th>\n",
       "    </tr>\n",
       "    <tr>\n",
       "      <th>date</th>\n",
       "      <th></th>\n",
       "      <th></th>\n",
       "    </tr>\n",
       "  </thead>\n",
       "  <tbody>\n",
       "    <tr>\n",
       "      <th>2018-01-01 23:58:00</th>\n",
       "      <td>1.20093</td>\n",
       "      <td>1.20115</td>\n",
       "    </tr>\n",
       "    <tr>\n",
       "      <th>2018-01-01 23:58:10</th>\n",
       "      <td>1.20093</td>\n",
       "      <td>1.20111</td>\n",
       "    </tr>\n",
       "    <tr>\n",
       "      <th>2018-01-01 23:58:20</th>\n",
       "      <td>1.20082</td>\n",
       "      <td>1.20111</td>\n",
       "    </tr>\n",
       "    <tr>\n",
       "      <th>2018-01-01 23:58:30</th>\n",
       "      <td>1.20043</td>\n",
       "      <td>1.20110</td>\n",
       "    </tr>\n",
       "    <tr>\n",
       "      <th>2018-01-01 23:58:50</th>\n",
       "      <td>1.20011</td>\n",
       "      <td>1.20113</td>\n",
       "    </tr>\n",
       "    <tr>\n",
       "      <th>2018-01-01 23:59:00</th>\n",
       "      <td>1.20015</td>\n",
       "      <td>1.20110</td>\n",
       "    </tr>\n",
       "    <tr>\n",
       "      <th>2018-01-01 23:59:10</th>\n",
       "      <td>1.20028</td>\n",
       "      <td>1.20110</td>\n",
       "    </tr>\n",
       "    <tr>\n",
       "      <th>2018-01-01 23:59:50</th>\n",
       "      <td>1.20015</td>\n",
       "      <td>1.20110</td>\n",
       "    </tr>\n",
       "    <tr>\n",
       "      <th>2018-01-02 00:00:40</th>\n",
       "      <td>1.20015</td>\n",
       "      <td>1.20105</td>\n",
       "    </tr>\n",
       "    <tr>\n",
       "      <th>2018-01-02 00:00:50</th>\n",
       "      <td>1.20030</td>\n",
       "      <td>1.20113</td>\n",
       "    </tr>\n",
       "  </tbody>\n",
       "</table>\n",
       "</div>"
      ],
      "text/plain": [
       "                         bid      ask\n",
       "date                                 \n",
       "2018-01-01 23:58:00  1.20093  1.20115\n",
       "2018-01-01 23:58:10  1.20093  1.20111\n",
       "2018-01-01 23:58:20  1.20082  1.20111\n",
       "2018-01-01 23:58:30  1.20043  1.20110\n",
       "2018-01-01 23:58:50  1.20011  1.20113\n",
       "2018-01-01 23:59:00  1.20015  1.20110\n",
       "2018-01-01 23:59:10  1.20028  1.20110\n",
       "2018-01-01 23:59:50  1.20015  1.20110\n",
       "2018-01-02 00:00:40  1.20015  1.20105\n",
       "2018-01-02 00:00:50  1.20030  1.20113"
      ]
     },
     "execution_count": 34,
     "metadata": {},
     "output_type": "execute_result"
    }
   ],
   "source": [
    "data_EURvsUSD[:10]"
   ]
  },
  {
   "cell_type": "code",
   "execution_count": 35,
   "metadata": {},
   "outputs": [
    {
     "name": "stdout",
     "output_type": "stream",
     "text": [
      "tamaño de la señal EUR/USD (183535, 2)\n",
      "tamaño de la señal GBP/USD (185443, 2)\n"
     ]
    }
   ],
   "source": [
    "print('tamaño de la señal EUR/USD', data_EURvsUSD.shape)\n",
    "print('tamaño de la señal GBP/USD', data_GBPvsUSD.shape)"
   ]
  },
  {
   "cell_type": "markdown",
   "metadata": {},
   "source": [
    "como se puede ver, las dos señales no tienen el mismo tamaño, como la señal predominante es el par EUR/USD, el indice de este será el tenido en cuenta para la construcción de la multiseñal."
   ]
  },
  {
   "cell_type": "markdown",
   "metadata": {},
   "source": [
    "procedemos a cargar la clase \"EUtilities\" hecha con anterioridad para tratar estos datos..."
   ]
  },
  {
   "cell_type": "code",
   "execution_count": 36,
   "metadata": {
    "collapsed": true
   },
   "outputs": [],
   "source": [
    "%run ../code/EUtilities.py\n",
    "EU = EUtilities()"
   ]
  },
  {
   "cell_type": "markdown",
   "metadata": {},
   "source": [
    "para poder utilizar la función \"multi_signal\" se deben cumplir ciertas caracteristicas, entre ellas, que los dataframe a utilizar tenga su columna llamada \"bid\"..."
   ]
  },
  {
   "cell_type": "code",
   "execution_count": 37,
   "metadata": {
    "collapsed": true
   },
   "outputs": [],
   "source": [
    "#se construye el dataset EUR/USD con las dos señales en el, para su posterior uso\n",
    "data_EURvsUSD = EU.multi_signal(data_EURvsUSD,data_GBPvsUSD)"
   ]
  },
  {
   "cell_type": "code",
   "execution_count": 38,
   "metadata": {},
   "outputs": [
    {
     "data": {
      "text/html": [
       "<div>\n",
       "<style>\n",
       "    .dataframe thead tr:only-child th {\n",
       "        text-align: right;\n",
       "    }\n",
       "\n",
       "    .dataframe thead th {\n",
       "        text-align: left;\n",
       "    }\n",
       "\n",
       "    .dataframe tbody tr th {\n",
       "        vertical-align: top;\n",
       "    }\n",
       "</style>\n",
       "<table border=\"1\" class=\"dataframe\">\n",
       "  <thead>\n",
       "    <tr style=\"text-align: right;\">\n",
       "      <th></th>\n",
       "      <th>bid</th>\n",
       "      <th>ask</th>\n",
       "      <th>bidnew</th>\n",
       "    </tr>\n",
       "    <tr>\n",
       "      <th>date</th>\n",
       "      <th></th>\n",
       "      <th></th>\n",
       "      <th></th>\n",
       "    </tr>\n",
       "  </thead>\n",
       "  <tbody>\n",
       "    <tr>\n",
       "      <th>2018-01-01 23:58:00</th>\n",
       "      <td>1.20093</td>\n",
       "      <td>1.20115</td>\n",
       "      <td>1.20093</td>\n",
       "    </tr>\n",
       "    <tr>\n",
       "      <th>2018-01-01 23:58:10</th>\n",
       "      <td>1.20093</td>\n",
       "      <td>1.20111</td>\n",
       "      <td>1.20093</td>\n",
       "    </tr>\n",
       "    <tr>\n",
       "      <th>2018-01-01 23:58:20</th>\n",
       "      <td>1.20082</td>\n",
       "      <td>1.20111</td>\n",
       "      <td>1.20082</td>\n",
       "    </tr>\n",
       "    <tr>\n",
       "      <th>2018-01-01 23:58:30</th>\n",
       "      <td>1.20043</td>\n",
       "      <td>1.20110</td>\n",
       "      <td>1.20043</td>\n",
       "    </tr>\n",
       "    <tr>\n",
       "      <th>2018-01-01 23:58:50</th>\n",
       "      <td>1.20011</td>\n",
       "      <td>1.20113</td>\n",
       "      <td>1.20011</td>\n",
       "    </tr>\n",
       "    <tr>\n",
       "      <th>2018-01-01 23:59:00</th>\n",
       "      <td>1.20015</td>\n",
       "      <td>1.20110</td>\n",
       "      <td>1.20015</td>\n",
       "    </tr>\n",
       "    <tr>\n",
       "      <th>2018-01-01 23:59:10</th>\n",
       "      <td>1.20028</td>\n",
       "      <td>1.20110</td>\n",
       "      <td>1.20028</td>\n",
       "    </tr>\n",
       "    <tr>\n",
       "      <th>2018-01-01 23:59:50</th>\n",
       "      <td>1.20015</td>\n",
       "      <td>1.20110</td>\n",
       "      <td>1.20015</td>\n",
       "    </tr>\n",
       "    <tr>\n",
       "      <th>2018-01-02 00:00:40</th>\n",
       "      <td>1.20015</td>\n",
       "      <td>1.20105</td>\n",
       "      <td>1.34979</td>\n",
       "    </tr>\n",
       "    <tr>\n",
       "      <th>2018-01-02 00:00:50</th>\n",
       "      <td>1.20030</td>\n",
       "      <td>1.20113</td>\n",
       "      <td>1.20030</td>\n",
       "    </tr>\n",
       "  </tbody>\n",
       "</table>\n",
       "</div>"
      ],
      "text/plain": [
       "                         bid      ask   bidnew\n",
       "date                                          \n",
       "2018-01-01 23:58:00  1.20093  1.20115  1.20093\n",
       "2018-01-01 23:58:10  1.20093  1.20111  1.20093\n",
       "2018-01-01 23:58:20  1.20082  1.20111  1.20082\n",
       "2018-01-01 23:58:30  1.20043  1.20110  1.20043\n",
       "2018-01-01 23:58:50  1.20011  1.20113  1.20011\n",
       "2018-01-01 23:59:00  1.20015  1.20110  1.20015\n",
       "2018-01-01 23:59:10  1.20028  1.20110  1.20028\n",
       "2018-01-01 23:59:50  1.20015  1.20110  1.20015\n",
       "2018-01-02 00:00:40  1.20015  1.20105  1.34979\n",
       "2018-01-02 00:00:50  1.20030  1.20113  1.20030"
      ]
     },
     "execution_count": 38,
     "metadata": {},
     "output_type": "execute_result"
    }
   ],
   "source": [
    "data_EURvsUSD[:10]"
   ]
  },
  {
   "cell_type": "markdown",
   "metadata": {},
   "source": [
    "ya con la multiseñal se procede a crear el X..."
   ]
  },
  {
   "cell_type": "code",
   "execution_count": 39,
   "metadata": {
    "collapsed": true
   },
   "outputs": [],
   "source": [
    "def build_dataset(df, window, bid_col, binary_target=False, delete_constant_values=True, PNL=False):\n",
    "    \"\"\"\n",
    "    función para construir un data set\n",
    "    window: tamaño de la ventana a utilizar para construir el dataset\n",
    "    df: dataframe, con columna bid y ask.\n",
    "    binary_target: si desea clasificar, este arroja 2 si el valor se mantiene,\n",
    "    1 si el valor sube y 0 si este baja.\n",
    "    delete_constant_values: default: True, elimina los valores que se mantienen\n",
    "    \n",
    "    retorna:\n",
    "    X: dataset, con columna de PNL si así se especifica(default: False)\n",
    "    y: target\n",
    "    bt: binary target, default: False\n",
    "    \"\"\"\n",
    "\n",
    "    import pandas as pd\n",
    "    import numpy as np\n",
    "    result = []\n",
    "    binary = [] #para la columna objetivo binaria\n",
    "    pnl_buy = [] #almacenar el pnl en caso de compra\n",
    "    pnl_sell = [] #almacenar el pnl en caso de venta\n",
    "    signal = df[bid_col]\n",
    "    ask = df.ask\n",
    "    indx = signal.index[window-1:-1] #se toman los indicen que quedarán al final\n",
    "    for i in range(len(signal)-window):\n",
    "        \n",
    "        if delete_constant_values == True:\n",
    "            if signal[i+window] != signal[i+window-1]:\n",
    "\n",
    "                result.append(signal[i: i + window+1])\n",
    "                if PNL == True: \n",
    "                    pnl_sell.append(signal[i+window-1] - ask[i+window]) #calcular pnl en caso de venta-compra\n",
    "                    pnl_buy.append(signal[i+window] - ask[i+window-1]) #calcular pnl en caso de compra-venta\n",
    "                \n",
    "                if binary_target == True:\n",
    "                    if signal[i+window] < signal[i+window-1]: binary.append(0) # 0 si baja\n",
    "                    if signal[i+window] > signal[i+window-1]: binary.append(1) # 1 si sube\n",
    "                        \n",
    "            else: indx = indx.delete(len(result))\n",
    "                \n",
    "        else:\n",
    "\n",
    "            result.append(signal[i: i + window+1])\n",
    "            if PNL == True:\n",
    "                pnl_sell.append(signal[i+window-1] - ask[i+window]) #calcular pnl en caso de venta-compra\n",
    "                pnl_buy.append(signal[i+window] - ask[i+window-1]) #calcular pnl en caso de compra-venta\n",
    "            \n",
    "        if binary_target == True and delete_constant_values == False:\n",
    "            if signal[i+window] == signal[i+window-1]: binary.append(2) # 2 si se mantiene\n",
    "            if signal[i+window] < signal[i+window-1]: binary.append(0) # 1 si baja\n",
    "            if signal[i+window] > signal[i+window-1]: binary.append(1) # 0 si sube\n",
    "    \n",
    "    data = pd.DataFrame(np.array(result), index=indx)\n",
    "    y = np.array(data.iloc[:,window])\n",
    "    data = data.drop(window,axis=1)\n",
    "    if PNL == True:\n",
    "        data['PNL_0'] = pnl_sell\n",
    "        data['PNL_1'] = pnl_buy \n",
    "    if binary_target == True: return data, y, np.array(binary)\n",
    "    else: return data, y"
   ]
  },
  {
   "cell_type": "code",
   "execution_count": 40,
   "metadata": {
    "collapsed": true
   },
   "outputs": [],
   "source": [
    "#los datos del par EUR/USD \n",
    "X_EURUSD, y_EURUSD, bt_EURUSD = build_dataset(data_EURvsUSD,bid_col='bid',window=3,binary_target=True,PNL=True\n",
    "                                             ,delete_constant_values=True)\n",
    "#los datos del par GBP/USD para luego unirlos y formar los datos X para entrenar\n",
    "X_GBPUSD,_ = build_dataset(data_EURvsUSD,bid_col='bidnew',window=3,binary_target=False\n",
    "                              ,delete_constant_values=True)"
   ]
  },
  {
   "cell_type": "code",
   "execution_count": 41,
   "metadata": {},
   "outputs": [
    {
     "data": {
      "text/plain": [
       "((156579, 5), (161099, 3))"
      ]
     },
     "execution_count": 41,
     "metadata": {},
     "output_type": "execute_result"
    }
   ],
   "source": [
    "X_EURUSD.shape, X_GBPUSD.shape"
   ]
  },
  {
   "cell_type": "markdown",
   "metadata": {},
   "source": [
    "debido a que son diferentes señales, al habilitar la opción de <i>\"delete_constant_values\"</i> en la función <i>\"build_dataset\"</i> esto hace que las señales resultantes no sean iguales en tamaño, por ende para entrenar se cogeran los valores de los indices de la señal a medir, si este no está en la otra señal, se coloca lo de la señal EUR/USD"
   ]
  },
  {
   "cell_type": "code",
   "execution_count": 42,
   "metadata": {},
   "outputs": [
    {
     "data": {
      "text/plain": [
       "((156579, 5), (156579, 3))"
      ]
     },
     "execution_count": 42,
     "metadata": {},
     "output_type": "execute_result"
    }
   ],
   "source": [
    "X_GBPUSD = X_GBPUSD.loc[X_EURUSD.index]\n",
    "X_EURUSD.shape, X_GBPUSD.shape"
   ]
  },
  {
   "cell_type": "code",
   "execution_count": 43,
   "metadata": {},
   "outputs": [
    {
     "data": {
      "text/html": [
       "<div>\n",
       "<style>\n",
       "    .dataframe thead tr:only-child th {\n",
       "        text-align: right;\n",
       "    }\n",
       "\n",
       "    .dataframe thead th {\n",
       "        text-align: left;\n",
       "    }\n",
       "\n",
       "    .dataframe tbody tr th {\n",
       "        vertical-align: top;\n",
       "    }\n",
       "</style>\n",
       "<table border=\"1\" class=\"dataframe\">\n",
       "  <thead>\n",
       "    <tr style=\"text-align: right;\">\n",
       "      <th></th>\n",
       "      <th>0</th>\n",
       "      <th>1</th>\n",
       "      <th>2</th>\n",
       "    </tr>\n",
       "    <tr>\n",
       "      <th>date</th>\n",
       "      <th></th>\n",
       "      <th></th>\n",
       "      <th></th>\n",
       "    </tr>\n",
       "  </thead>\n",
       "  <tbody>\n",
       "    <tr>\n",
       "      <th>2018-01-01 23:58:20</th>\n",
       "      <td>1.20093</td>\n",
       "      <td>1.20093</td>\n",
       "      <td>1.20082</td>\n",
       "    </tr>\n",
       "    <tr>\n",
       "      <th>2018-01-01 23:58:30</th>\n",
       "      <td>1.20093</td>\n",
       "      <td>1.20082</td>\n",
       "      <td>1.20043</td>\n",
       "    </tr>\n",
       "    <tr>\n",
       "      <th>2018-01-01 23:58:50</th>\n",
       "      <td>1.20082</td>\n",
       "      <td>1.20043</td>\n",
       "      <td>1.20011</td>\n",
       "    </tr>\n",
       "    <tr>\n",
       "      <th>2018-01-01 23:59:00</th>\n",
       "      <td>1.20043</td>\n",
       "      <td>1.20011</td>\n",
       "      <td>1.20015</td>\n",
       "    </tr>\n",
       "    <tr>\n",
       "      <th>2018-01-01 23:59:10</th>\n",
       "      <td>1.20011</td>\n",
       "      <td>1.20015</td>\n",
       "      <td>1.20028</td>\n",
       "    </tr>\n",
       "    <tr>\n",
       "      <th>2018-01-02 00:00:40</th>\n",
       "      <td>1.20028</td>\n",
       "      <td>1.20015</td>\n",
       "      <td>1.34979</td>\n",
       "    </tr>\n",
       "    <tr>\n",
       "      <th>2018-01-02 00:01:20</th>\n",
       "      <td>1.20030</td>\n",
       "      <td>1.34918</td>\n",
       "      <td>1.34915</td>\n",
       "    </tr>\n",
       "    <tr>\n",
       "      <th>2018-01-02 00:03:00</th>\n",
       "      <td>1.34915</td>\n",
       "      <td>1.34940</td>\n",
       "      <td>1.20026</td>\n",
       "    </tr>\n",
       "    <tr>\n",
       "      <th>2018-01-02 00:03:10</th>\n",
       "      <td>NaN</td>\n",
       "      <td>NaN</td>\n",
       "      <td>NaN</td>\n",
       "    </tr>\n",
       "    <tr>\n",
       "      <th>2018-01-02 00:03:30</th>\n",
       "      <td>1.20026</td>\n",
       "      <td>1.34979</td>\n",
       "      <td>1.34979</td>\n",
       "    </tr>\n",
       "  </tbody>\n",
       "</table>\n",
       "</div>"
      ],
      "text/plain": [
       "                           0        1        2\n",
       "date                                          \n",
       "2018-01-01 23:58:20  1.20093  1.20093  1.20082\n",
       "2018-01-01 23:58:30  1.20093  1.20082  1.20043\n",
       "2018-01-01 23:58:50  1.20082  1.20043  1.20011\n",
       "2018-01-01 23:59:00  1.20043  1.20011  1.20015\n",
       "2018-01-01 23:59:10  1.20011  1.20015  1.20028\n",
       "2018-01-02 00:00:40  1.20028  1.20015  1.34979\n",
       "2018-01-02 00:01:20  1.20030  1.34918  1.34915\n",
       "2018-01-02 00:03:00  1.34915  1.34940  1.20026\n",
       "2018-01-02 00:03:10      NaN      NaN      NaN\n",
       "2018-01-02 00:03:30  1.20026  1.34979  1.34979"
      ]
     },
     "execution_count": 43,
     "metadata": {},
     "output_type": "execute_result"
    }
   ],
   "source": [
    "X_GBPUSD[:10]"
   ]
  },
  {
   "cell_type": "code",
   "execution_count": 44,
   "metadata": {
    "collapsed": true
   },
   "outputs": [],
   "source": [
    "#para cambiar los valores NaN por los que hay en la señal EUR/USD\n",
    "X_GBPUSD = X_GBPUSD.fillna(X_EURUSD,axis=0)"
   ]
  },
  {
   "cell_type": "markdown",
   "metadata": {},
   "source": [
    "se unen para entrenar la multiseñal..."
   ]
  },
  {
   "cell_type": "code",
   "execution_count": 45,
   "metadata": {
    "collapsed": true
   },
   "outputs": [],
   "source": [
    "X_EURUSD.insert(loc=3,column=3,value=X_GBPUSD.iloc[:,0])\n",
    "X_EURUSD.insert(loc=4,column=4,value=X_GBPUSD.iloc[:,1])\n",
    "X_EURUSD.insert(loc=5,column=5,value=X_GBPUSD.iloc[:,2])"
   ]
  },
  {
   "cell_type": "code",
   "execution_count": 46,
   "metadata": {},
   "outputs": [
    {
     "data": {
      "text/plain": [
       "(156579, 8)"
      ]
     },
     "execution_count": 46,
     "metadata": {},
     "output_type": "execute_result"
    }
   ],
   "source": [
    "X_EURUSD.shape"
   ]
  },
  {
   "cell_type": "code",
   "execution_count": 47,
   "metadata": {},
   "outputs": [
    {
     "data": {
      "text/html": [
       "<div>\n",
       "<style>\n",
       "    .dataframe thead tr:only-child th {\n",
       "        text-align: right;\n",
       "    }\n",
       "\n",
       "    .dataframe thead th {\n",
       "        text-align: left;\n",
       "    }\n",
       "\n",
       "    .dataframe tbody tr th {\n",
       "        vertical-align: top;\n",
       "    }\n",
       "</style>\n",
       "<table border=\"1\" class=\"dataframe\">\n",
       "  <thead>\n",
       "    <tr style=\"text-align: right;\">\n",
       "      <th></th>\n",
       "      <th>0</th>\n",
       "      <th>1</th>\n",
       "      <th>2</th>\n",
       "      <th>3</th>\n",
       "      <th>4</th>\n",
       "      <th>5</th>\n",
       "      <th>PNL_0</th>\n",
       "      <th>PNL_1</th>\n",
       "    </tr>\n",
       "    <tr>\n",
       "      <th>date</th>\n",
       "      <th></th>\n",
       "      <th></th>\n",
       "      <th></th>\n",
       "      <th></th>\n",
       "      <th></th>\n",
       "      <th></th>\n",
       "      <th></th>\n",
       "      <th></th>\n",
       "    </tr>\n",
       "  </thead>\n",
       "  <tbody>\n",
       "    <tr>\n",
       "      <th>2018-01-01 23:58:20</th>\n",
       "      <td>1.20093</td>\n",
       "      <td>1.20093</td>\n",
       "      <td>1.20082</td>\n",
       "      <td>1.20093</td>\n",
       "      <td>1.20093</td>\n",
       "      <td>1.20082</td>\n",
       "      <td>-0.00028</td>\n",
       "      <td>-0.00068</td>\n",
       "    </tr>\n",
       "    <tr>\n",
       "      <th>2018-01-01 23:58:30</th>\n",
       "      <td>1.20093</td>\n",
       "      <td>1.20082</td>\n",
       "      <td>1.20043</td>\n",
       "      <td>1.20093</td>\n",
       "      <td>1.20082</td>\n",
       "      <td>1.20043</td>\n",
       "      <td>-0.00070</td>\n",
       "      <td>-0.00099</td>\n",
       "    </tr>\n",
       "    <tr>\n",
       "      <th>2018-01-01 23:58:50</th>\n",
       "      <td>1.20082</td>\n",
       "      <td>1.20043</td>\n",
       "      <td>1.20011</td>\n",
       "      <td>1.20082</td>\n",
       "      <td>1.20043</td>\n",
       "      <td>1.20011</td>\n",
       "      <td>-0.00099</td>\n",
       "      <td>-0.00098</td>\n",
       "    </tr>\n",
       "    <tr>\n",
       "      <th>2018-01-01 23:59:00</th>\n",
       "      <td>1.20043</td>\n",
       "      <td>1.20011</td>\n",
       "      <td>1.20015</td>\n",
       "      <td>1.20043</td>\n",
       "      <td>1.20011</td>\n",
       "      <td>1.20015</td>\n",
       "      <td>-0.00095</td>\n",
       "      <td>-0.00082</td>\n",
       "    </tr>\n",
       "    <tr>\n",
       "      <th>2018-01-01 23:59:10</th>\n",
       "      <td>1.20011</td>\n",
       "      <td>1.20015</td>\n",
       "      <td>1.20028</td>\n",
       "      <td>1.20011</td>\n",
       "      <td>1.20015</td>\n",
       "      <td>1.20028</td>\n",
       "      <td>-0.00082</td>\n",
       "      <td>-0.00095</td>\n",
       "    </tr>\n",
       "  </tbody>\n",
       "</table>\n",
       "</div>"
      ],
      "text/plain": [
       "                           0        1        2        3        4        5  \\\n",
       "date                                                                        \n",
       "2018-01-01 23:58:20  1.20093  1.20093  1.20082  1.20093  1.20093  1.20082   \n",
       "2018-01-01 23:58:30  1.20093  1.20082  1.20043  1.20093  1.20082  1.20043   \n",
       "2018-01-01 23:58:50  1.20082  1.20043  1.20011  1.20082  1.20043  1.20011   \n",
       "2018-01-01 23:59:00  1.20043  1.20011  1.20015  1.20043  1.20011  1.20015   \n",
       "2018-01-01 23:59:10  1.20011  1.20015  1.20028  1.20011  1.20015  1.20028   \n",
       "\n",
       "                       PNL_0    PNL_1  \n",
       "date                                   \n",
       "2018-01-01 23:58:20 -0.00028 -0.00068  \n",
       "2018-01-01 23:58:30 -0.00070 -0.00099  \n",
       "2018-01-01 23:58:50 -0.00099 -0.00098  \n",
       "2018-01-01 23:59:00 -0.00095 -0.00082  \n",
       "2018-01-01 23:59:10 -0.00082 -0.00095  "
      ]
     },
     "execution_count": 47,
     "metadata": {},
     "output_type": "execute_result"
    }
   ],
   "source": [
    "X_EURUSD.head()"
   ]
  },
  {
   "cell_type": "markdown",
   "metadata": {},
   "source": [
    "se prueba con el GaussianNB"
   ]
  },
  {
   "cell_type": "code",
   "execution_count": 48,
   "metadata": {
    "collapsed": true
   },
   "outputs": [],
   "source": [
    "%run ../code/PNLEstimatorWrapper.py"
   ]
  },
  {
   "cell_type": "code",
   "execution_count": 49,
   "metadata": {},
   "outputs": [
    {
     "name": "stdout",
     "output_type": "stream",
     "text": [
      "--------- GaussianNB ----------------\n",
      "average PNL :  -0.270821052632\n",
      "average buy:  1970.57894737\n",
      "average sell:  5238.0\n",
      "-------------------------------------\n",
      "                PNL    buys   sells  longest_buys  longest_sells\n",
      "2018-01-05 -0.23772   389.0  6069.0          12.0         2887.0\n",
      "2018-01-08 -0.22527  5426.0  1088.0        4748.0           22.0\n",
      "2018-01-09 -0.21091  6655.0     0.0        6655.0            0.0\n",
      "2018-01-10 -0.24318   161.0  6859.0           2.0         1590.0\n",
      "2018-01-11 -0.24062   128.0  6984.0           2.0         3338.0\n",
      "2018-01-12 -0.25766     0.0  7093.0           0.0         7093.0\n",
      "2018-01-15 -0.30286  7099.0     0.0        7099.0            0.0\n",
      "2018-01-16 -0.25638   983.0  6139.0           6.0           58.0\n",
      "2018-01-17 -0.30150   843.0  6696.0          17.0           74.0\n",
      "2018-01-18 -0.27079  1087.0  6271.0          12.0           47.0\n",
      "2018-01-19 -0.29169   929.0  6382.0         160.0         3967.0\n",
      "2018-01-22 -0.26221  1921.0  5230.0          40.0         1392.0\n",
      "2018-01-23 -0.25360    82.0  7098.0          15.0         4047.0\n",
      "2018-01-24 -0.25282     0.0  7471.0           0.0         7471.0\n",
      "2018-01-25 -0.31405   432.0  7287.0          87.0         5036.0\n",
      "2018-01-26 -0.33476     0.0  7619.0           0.0         7619.0\n",
      "2018-01-29 -0.30272  2832.0  4619.0          76.0         1763.0\n",
      "2018-01-30 -0.27540  5646.0  1840.0          84.0          627.0\n",
      "2018-01-31 -0.31146  2828.0  4777.0         140.0         3890.0\n"
     ]
    }
   ],
   "source": [
    "from sklearn.naive_bayes import GaussianNB\n",
    "    \n",
    "y = bt_EURUSD\n",
    "n_bdtrain = 4\n",
    "n_bdtest = 1\n",
    "mday = 1\n",
    "dates = np.unique(X_EURUSD.index.date)[n_bdtrain:]\n",
    "\n",
    "est_GNB = PNLEstimatorWrapper(GaussianNB(), PNL_column=['PNL_0','PNL_1'])\n",
    "result_GNB = EU.step_validation(est_GNB, X_EURUSD, y, EU.v_split(X_EURUSD,n_bdtrain,n_bdtest,mday))\n",
    "result_GNB, predict_GNB = EU.redim(result_GNB)\n",
    "print('--------- GaussianNB ----------------')\n",
    "print('average PNL : ', np.mean(result_GNB[:,0]))\n",
    "print('average buy: ', np.mean(result_GNB[:,1]))\n",
    "print('average sell: ', np.mean(result_GNB[:,2]))\n",
    "print('-------------------------------------')\n",
    "df_GNB = pd.DataFrame(result_GNB, columns=list(['PNL','buys','sells','longest_buys','longest_sells']),index=dates)\n",
    "print(df_GNB)\n",
    "df_GNB.to_csv('../resultados/TrueFX/EUR-USD/MultiSeñal/GaussianNB/pnl-EUR-USD_GBP-USD_GNB_wsize3_2018-01.csv')"
   ]
  },
  {
   "cell_type": "markdown",
   "metadata": {},
   "source": [
    "se prueba con el KNeighborsClassifier"
   ]
  },
  {
   "cell_type": "code",
   "execution_count": 51,
   "metadata": {},
   "outputs": [
    {
     "name": "stdout",
     "output_type": "stream",
     "text": [
      "--------- KNeighborsClassifier -------------\n",
      "average PNL :  -0.270507894737\n",
      "average buy:  3385.26315789\n",
      "average sell:  3823.31578947\n",
      "-------------------------------------\n",
      "                PNL    buys   sells  longest_buys  longest_sells\n",
      "2018-01-05 -0.23020  3176.0  3282.0          60.0          100.0\n",
      "2018-01-08 -0.22272  5568.0   946.0         665.0           24.0\n",
      "2018-01-09 -0.21364  5658.0   997.0        1560.0           28.0\n",
      "2018-01-10 -0.24078  3851.0  3169.0         202.0           58.0\n",
      "2018-01-11 -0.23922  4188.0  2924.0          72.0          100.0\n",
      "2018-01-12 -0.26349   852.0  6241.0          21.0          960.0\n",
      "2018-01-15 -0.29640  5180.0  1919.0         132.0           54.0\n",
      "2018-01-16 -0.25816  3983.0  3139.0         146.0           61.0\n",
      "2018-01-17 -0.29403  4791.0  2748.0         132.0          142.0\n",
      "2018-01-18 -0.27874  2737.0  4621.0          72.0           85.0\n",
      "2018-01-19 -0.28409  3483.0  3828.0          58.0           60.0\n",
      "2018-01-22 -0.26962  3156.0  3995.0          41.0           64.0\n",
      "2018-01-23 -0.25480  2187.0  4993.0          25.0          102.0\n",
      "2018-01-24 -0.25450   257.0  7214.0          21.0         1803.0\n",
      "2018-01-25 -0.32401  2561.0  5158.0         106.0         1895.0\n",
      "2018-01-26 -0.34055  3036.0  4583.0          49.0          236.0\n",
      "2018-01-29 -0.29749  4015.0  3436.0         212.0          124.0\n",
      "2018-01-30 -0.26829  2584.0  4902.0          53.0          105.0\n",
      "2018-01-31 -0.30892  3057.0  4548.0          55.0          170.0\n"
     ]
    }
   ],
   "source": [
    "from sklearn.neighbors import KNeighborsClassifier\n",
    "    \n",
    "y = bt_EURUSD\n",
    "n_bdtrain = 4\n",
    "n_bdtest = 1\n",
    "mday = 1\n",
    "dates = np.unique(X_EURUSD.index.date)[n_bdtrain:]\n",
    "\n",
    "est_KNC = PNLEstimatorWrapper(KNeighborsClassifier(n_neighbors=7,n_jobs=2,leaf_size=30\n",
    "                                                   ,algorithm='kd_tree'), PNL_column=['PNL_0','PNL_1'])\n",
    "result_KNC = EU.step_validation(est_KNC, X_EURUSD, y, EU.v_split(X_EURUSD,n_bdtrain,n_bdtest,mday))\n",
    "result_KNC, predict_KNC = EU.redim(result_KNC)\n",
    "print('--------- KNeighborsClassifier -------------')\n",
    "print('average PNL : ', np.mean(result_KNC[:,0]))\n",
    "print('average buy: ', np.mean(result_KNC[:,1]))\n",
    "print('average sell: ', np.mean(result_KNC[:,2]))\n",
    "print('-------------------------------------')\n",
    "df_KNC = pd.DataFrame(result_KNC, columns=list(['PNL','buys','sells','longest_buys','longest_sells']),index=dates)\n",
    "print(df_KNC)\n",
    "df_KNC.to_csv('../resultados/TrueFX/EUR-USD/MultiSeñal/KNeighborsClassifier/pnl-EUR-USD_GBP-USD_KNC_wsize3_2018-01.csv')"
   ]
  },
  {
   "cell_type": "markdown",
   "metadata": {},
   "source": [
    "con el DecisionTreeClassifier..."
   ]
  },
  {
   "cell_type": "code",
   "execution_count": 52,
   "metadata": {},
   "outputs": [
    {
     "name": "stdout",
     "output_type": "stream",
     "text": [
      "--------- DecisionTreeClassifier -------------\n",
      "average PNL :  -0.271414736842\n",
      "average buy:  3306.52631579\n",
      "average sell:  3902.05263158\n",
      "-------------------------------------\n",
      "                PNL    buys   sells  longest_buys  longest_sells\n",
      "2018-01-05 -0.22916  2718.0  3740.0          25.0           38.0\n",
      "2018-01-08 -0.23077  1381.0  5133.0          39.0          727.0\n",
      "2018-01-09 -0.21748  6038.0   617.0        4216.0           20.0\n",
      "2018-01-10 -0.23790  4740.0  2280.0         236.0           25.0\n",
      "2018-01-11 -0.24795  3865.0  3247.0          42.0           99.0\n",
      "2018-01-12 -0.28673   788.0  6305.0          12.0          960.0\n",
      "2018-01-15 -0.30060  5150.0  1949.0         132.0           92.0\n",
      "2018-01-16 -0.25312  3870.0  3252.0         158.0           61.0\n",
      "2018-01-17 -0.28146  4712.0  2827.0          91.0           47.0\n",
      "2018-01-18 -0.28716  2592.0  4766.0          44.0           84.0\n",
      "2018-01-19 -0.29458  3439.0  3872.0          25.0           75.0\n",
      "2018-01-22 -0.26172  4334.0  2817.0          92.0           19.0\n",
      "2018-01-23 -0.25479  3586.0  3594.0          58.0           82.0\n",
      "2018-01-24 -0.27341   288.0  7183.0          10.0         1822.0\n",
      "2018-01-25 -0.30458  2084.0  5635.0         102.0         1873.0\n",
      "2018-01-26 -0.33059  3915.0  3704.0          50.0          178.0\n",
      "2018-01-29 -0.29393  3020.0  4431.0          51.0           93.0\n",
      "2018-01-30 -0.27377  3235.0  4251.0          96.0           89.0\n",
      "2018-01-31 -0.29718  3069.0  4536.0          23.0          121.0\n"
     ]
    }
   ],
   "source": [
    "from sklearn.tree import DecisionTreeClassifier\n",
    "    \n",
    "y = bt_EURUSD\n",
    "n_bdtrain = 4\n",
    "n_bdtest = 1\n",
    "mday = 1\n",
    "dates = np.unique(X_EURUSD.index.date)[n_bdtrain:]\n",
    "\n",
    "est_DTC = PNLEstimatorWrapper(DecisionTreeClassifier(), PNL_column=['PNL_1','PNL_0'])\n",
    "result_DTC = EU.step_validation(est_DTC, X_EURUSD, y, EU.v_split(X_EURUSD,n_bdtrain,n_bdtest,mday))\n",
    "result_DTC, predict_DTC = EU.redim(result_DTC)\n",
    "print('--------- DecisionTreeClassifier -------------')\n",
    "print('average PNL : ', np.mean(result_DTC[:,0]))\n",
    "print('average buy: ', np.mean(result_DTC[:,1]))\n",
    "print('average sell: ', np.mean(result_DTC[:,2]))\n",
    "print('-------------------------------------')\n",
    "df_DTC = pd.DataFrame(result_DTC, columns=list(['PNL','buys','sells','longest_buys','longest_sells']),index=dates)\n",
    "print(df_DTC)\n",
    "df_DTC.to_csv('../resultados/TrueFX/EUR-USD/MultiSeñal/DecisionTreeClassifier/pnl-EUR-USD_GBP-USD_DTC_wsize3_2018-01.csv')"
   ]
  },
  {
   "cell_type": "markdown",
   "metadata": {},
   "source": [
    "con un RandomForestClassifier..."
   ]
  },
  {
   "cell_type": "code",
   "execution_count": 53,
   "metadata": {},
   "outputs": [
    {
     "name": "stdout",
     "output_type": "stream",
     "text": [
      "--------- RandomForestClassifier -------------\n",
      "average PNL :  -0.272706315789\n",
      "average buy:  3108.68421053\n",
      "average sell:  4099.89473684\n",
      "-------------------------------------\n",
      "                PNL    buys   sells  longest_buys  longest_sells\n",
      "2018-01-05 -0.23229  3002.0  3456.0          43.0           29.0\n",
      "2018-01-08 -0.23636  5063.0  1451.0          57.0           14.0\n",
      "2018-01-09 -0.21125  4309.0  2346.0         481.0           26.0\n",
      "2018-01-10 -0.23885  3906.0  3114.0          47.0           26.0\n",
      "2018-01-11 -0.25240  4011.0  3101.0          45.0           93.0\n",
      "2018-01-12 -0.28930   755.0  6338.0          17.0          960.0\n",
      "2018-01-15 -0.30026  1158.0  5941.0          53.0         1880.0\n",
      "2018-01-16 -0.25827  3971.0  3151.0         180.0           36.0\n",
      "2018-01-17 -0.29853  4971.0  2568.0         112.0          138.0\n",
      "2018-01-18 -0.28264  3549.0  3809.0          48.0           38.0\n",
      "2018-01-19 -0.27896  3748.0  3563.0          39.0           41.0\n",
      "2018-01-22 -0.25543  2822.0  4329.0          31.0          143.0\n",
      "2018-01-23 -0.25852  2855.0  4325.0          31.0          102.0\n",
      "2018-01-24 -0.27340   397.0  7074.0          12.0         1802.0\n",
      "2018-01-25 -0.31266  1346.0  6373.0          46.0         2050.0\n",
      "2018-01-26 -0.33783  3547.0  4072.0          47.0          183.0\n",
      "2018-01-29 -0.29066  3841.0  3610.0          84.0          165.0\n",
      "2018-01-30 -0.26642  2893.0  4593.0          44.0           65.0\n",
      "2018-01-31 -0.30739  2921.0  4684.0          22.0          113.0\n"
     ]
    }
   ],
   "source": [
    "from sklearn.ensemble import RandomForestClassifier\n",
    "    \n",
    "y = bt_EURUSD\n",
    "n_bdtrain = 4\n",
    "n_bdtest = 1\n",
    "mday = 1\n",
    "dates = np.unique(X_EURUSD.index.date)[n_bdtrain:]\n",
    "\n",
    "est_RFC = PNLEstimatorWrapper(RandomForestClassifier(n_estimators=15, n_jobs=3), PNL_column=['PNL_1','PNL_0'])\n",
    "result_RFC = EU.step_validation(est_RFC, X_EURUSD, y, EU.v_split(X_EURUSD,n_bdtrain,n_bdtest,mday))\n",
    "result_RFC, predict_RFC = EU.redim(result_RFC)\n",
    "print('--------- RandomForestClassifier -------------')\n",
    "print('average PNL : ', np.mean(result_RFC[:,0]))\n",
    "print('average buy: ', np.mean(result_RFC[:,1]))\n",
    "print('average sell: ', np.mean(result_RFC[:,2]))\n",
    "print('-------------------------------------')\n",
    "df_RFC = pd.DataFrame(result_RFC, columns=list(['PNL','buys','sells','longest_buys','longest_sells']),index=dates)\n",
    "print(df_RFC)\n",
    "df_RFC.to_csv('../resultados/TrueFX/EUR-USD/MultiSeñal/RandomForestClassifier/pnl-EUR-USD_GBP-USD_RFC_wsize3_2018-01.csv')"
   ]
  },
  {
   "cell_type": "code",
   "execution_count": null,
   "metadata": {
    "collapsed": true
   },
   "outputs": [],
   "source": []
  }
 ],
 "metadata": {
  "kernelspec": {
   "display_name": "Python 3",
   "language": "python",
   "name": "python3"
  },
  "language_info": {
   "codemirror_mode": {
    "name": "ipython",
    "version": 3
   },
   "file_extension": ".py",
   "mimetype": "text/x-python",
   "name": "python",
   "nbconvert_exporter": "python",
   "pygments_lexer": "ipython3",
   "version": "3.6.2"
  }
 },
 "nbformat": 4,
 "nbformat_minor": 2
}
