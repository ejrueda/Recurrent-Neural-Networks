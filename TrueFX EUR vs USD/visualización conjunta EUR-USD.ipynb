{
 "cells": [
  {
   "cell_type": "code",
   "execution_count": 1,
   "metadata": {
    "collapsed": true
   },
   "outputs": [],
   "source": [
    "import numpy as np\n",
    "import pandas as pd\n",
    "import bokeh.plotting as bp\n",
    "from bokeh.layouts import gridplot\n",
    "#bp.output_notebook()"
   ]
  },
  {
   "cell_type": "markdown",
   "metadata": {},
   "source": [
    "se graficarán los resultados que se generan con los distintos modelos de clasificación utilizados, no se tendrá en cuenta el clasificador GaussianNB ya que este no arrojó buenos resultados"
   ]
  },
  {
   "cell_type": "code",
   "execution_count": 2,
   "metadata": {
    "collapsed": true
   },
   "outputs": [],
   "source": [
    "result_KNC = pd.read_csv('../resultados/TrueFX/EUR-USD/KNeighborsClassfier/pnl_KNC_wsize3_2017-09.csv',\n",
    "                        parse_dates=True, infer_datetime_format=True, index_col=0)\n",
    "result_DTC = pd.read_csv('../resultados/TrueFX/EUR-USD/DecisionTreeClassifier/pnl_DTC_wsize3_2017-09.csv',\n",
    "                        parse_dates=True, infer_datetime_format=True, index_col=0)\n",
    "result_RFC = pd.read_csv('../resultados/TrueFX/EUR-USD/RandomForestClassifier/pnl_RFC_wsize3_2017-09.csv',\n",
    "                        parse_dates=True, infer_datetime_format=True, index_col=0)"
   ]
  },
  {
   "cell_type": "markdown",
   "metadata": {},
   "source": [
    "pintamos los resultados en conjunto para poder compararlos según su modelo..."
   ]
  },
  {
   "cell_type": "code",
   "execution_count": 9,
   "metadata": {},
   "outputs": [
    {
     "data": {
      "text/html": [
       "<div>\n",
       "<style>\n",
       "    .dataframe thead tr:only-child th {\n",
       "        text-align: right;\n",
       "    }\n",
       "\n",
       "    .dataframe thead th {\n",
       "        text-align: left;\n",
       "    }\n",
       "\n",
       "    .dataframe tbody tr th {\n",
       "        vertical-align: top;\n",
       "    }\n",
       "</style>\n",
       "<table border=\"1\" class=\"dataframe\">\n",
       "  <thead>\n",
       "    <tr style=\"text-align: right;\">\n",
       "      <th></th>\n",
       "      <th>PNL</th>\n",
       "      <th>buys</th>\n",
       "      <th>sells</th>\n",
       "      <th>longest_buys</th>\n",
       "      <th>longest_sells</th>\n",
       "    </tr>\n",
       "  </thead>\n",
       "  <tbody>\n",
       "    <tr>\n",
       "      <th>2017-09-07</th>\n",
       "      <td>0.00318</td>\n",
       "      <td>1635.0</td>\n",
       "      <td>5675.0</td>\n",
       "      <td>19.0</td>\n",
       "      <td>2738.0</td>\n",
       "    </tr>\n",
       "    <tr>\n",
       "      <th>2017-09-08</th>\n",
       "      <td>-0.00022</td>\n",
       "      <td>5133.0</td>\n",
       "      <td>2390.0</td>\n",
       "      <td>1284.0</td>\n",
       "      <td>57.0</td>\n",
       "    </tr>\n",
       "    <tr>\n",
       "      <th>2017-09-11</th>\n",
       "      <td>-0.00671</td>\n",
       "      <td>3617.0</td>\n",
       "      <td>3647.0</td>\n",
       "      <td>25.0</td>\n",
       "      <td>40.0</td>\n",
       "    </tr>\n",
       "    <tr>\n",
       "      <th>2017-09-12</th>\n",
       "      <td>-0.00081</td>\n",
       "      <td>3091.0</td>\n",
       "      <td>3356.0</td>\n",
       "      <td>15.0</td>\n",
       "      <td>22.0</td>\n",
       "    </tr>\n",
       "    <tr>\n",
       "      <th>2017-09-13</th>\n",
       "      <td>-0.00330</td>\n",
       "      <td>4473.0</td>\n",
       "      <td>2699.0</td>\n",
       "      <td>1759.0</td>\n",
       "      <td>17.0</td>\n",
       "    </tr>\n",
       "  </tbody>\n",
       "</table>\n",
       "</div>"
      ],
      "text/plain": [
       "                PNL    buys   sells  longest_buys  longest_sells\n",
       "2017-09-07  0.00318  1635.0  5675.0          19.0         2738.0\n",
       "2017-09-08 -0.00022  5133.0  2390.0        1284.0           57.0\n",
       "2017-09-11 -0.00671  3617.0  3647.0          25.0           40.0\n",
       "2017-09-12 -0.00081  3091.0  3356.0          15.0           22.0\n",
       "2017-09-13 -0.00330  4473.0  2699.0        1759.0           17.0"
      ]
     },
     "execution_count": 9,
     "metadata": {},
     "output_type": "execute_result"
    }
   ],
   "source": [
    "result_DTC.head()"
   ]
  },
  {
   "cell_type": "code",
   "execution_count": 6,
   "metadata": {
    "collapsed": true
   },
   "outputs": [],
   "source": [
    "plot_1 = bp.figure(width=850, height=300,title='Profit and Loss',x_axis_type='datetime')\n",
    "#es el mismo indice para todos entonces no hay problema\n",
    "x = result_RFC.index\n",
    "plot_1.line(x, result_RFC.iloc[:,0], color='blue', legend='RFC', alpha=0.5)\n",
    "plot_1.circle(x, result_RFC.iloc[:,0], color='blue', alpha=0.5,size=3)\n",
    "plot_1.line(x, result_DTC.iloc[:,0], color='red', legend='DTC', alpha=0.5)\n",
    "plot_1.circle(x, result_DTC.iloc[:,0], color='red',alpha=0.5,size=3)\n",
    "plot_1.line(x, result_KNC.iloc[:,0], color='green', legend='KNC', alpha=0.5)\n",
    "plot_1.circle(x, result_KNC.iloc[:,0], color='green',alpha=0.5,size=3)\n",
    "plot_1.line(x, np.zeros(len(result_RFC)), color='black', legend='PNL = 0', line_dash='dotted')\n",
    "plot_1.xaxis.axis_label = 'datetime'\n",
    "plot_1.yaxis.axis_label = 'PNL'\n",
    "plot_1.legend.location ='bottom_center'\n",
    "plot_1.legend.orientation = 'horizontal'\n",
    "\n",
    "plot_2 = bp.figure(width=550, height=250, title='buys per day', x_axis_type='datetime')\n",
    "plot_2.line(x, result_RFC.iloc[:,1], color='blue')\n",
    "plot_2.line(x, result_DTC.iloc[:,1], color='red')\n",
    "plot_2.line(x, result_KNC.iloc[:,1], color='green')\n",
    "#p2_RFC.circle(x, result_RFC.iloc[:,1], color='green')\n",
    "plot_2.xaxis.axis_label = 'datetime'\n",
    "plot_2.yaxis.axis_label = 'buys per day'\n",
    "\n",
    "#se utiliza el x_range para correlacionar las dos gráficas por el eje x\n",
    "plot_3 = bp.figure(width=550, height=250, title='sells per day', x_axis_type='datetime',x_range=plot_2.x_range)\n",
    "plot_3.line(x, result_RFC.iloc[:,2], color='blue')\n",
    "plot_3.line(x, result_DTC.iloc[:,2], color='red')\n",
    "plot_3.line(x, result_KNC.iloc[:,2], color='green')\n",
    "#p3_RFC.circle(x, result_RFC.iloc[:,2], color='red')\n",
    "plot_3.xaxis.axis_label = 'datetime'\n",
    "plot_3.yaxis.axis_label = 'sells per day'\n",
    "\n",
    "#para pintar el PNL que se va acumulando del KNC\n",
    "PNL_accu_KNC = []\n",
    "count_KNC = 0\n",
    "for i in result_KNC.iloc[:,0]:\n",
    "    count_KNC += i\n",
    "    PNL_accu_KNC.append(count_KNC)\n",
    "#para pintar el PNL que se va acumulando del DTC\n",
    "PNL_accu_DTC = []\n",
    "count_DTC = 0\n",
    "for i in result_DTC.iloc[:,0]:\n",
    "    count_DTC += i\n",
    "    PNL_accu_DTC.append(count_DTC) \n",
    "#para pintar el PNL que se va acumulando del RFC\n",
    "PNL_accu_RFC = []\n",
    "count_RFC = 0\n",
    "for i in result_RFC.iloc[:,0]:\n",
    "    count_RFC += i\n",
    "    PNL_accu_RFC.append(count_RFC)\n",
    "    \n",
    "plot_4 = bp.figure(width=850, height=300,title='PNL accumulated',x_axis_type='datetime',x_range=plot_1.x_range)\n",
    "plot_4.line(x, PNL_accu_RFC,color='blue',legend='RFC',alpha=0.5)\n",
    "plot_4.circle(x, PNL_accu_RFC, color='blue', alpha=0.5, size=3)\n",
    "plot_4.line(x, PNL_accu_DTC,color='red',legend='DTC',alpha=0.5)\n",
    "plot_4.circle(x, PNL_accu_DTC, color='red', alpha=0.5, size=3)\n",
    "plot_4.line(x, PNL_accu_KNC,color='green',legend='KNC',alpha=0.5)\n",
    "plot_4.circle(x, PNL_accu_KNC, color='green', alpha=0.5, size=3)\n",
    "plot_4.line(x, np.zeros(len(result_RFC)), color='black', legend='PNL = 0', line_dash='dotted')\n",
    "plot_4.xaxis.axis_label = 'datetime'\n",
    "plot_4.yaxis.axis_label = 'PNL accumulated'\n",
    "plot_4.legend.location ='bottom_center'\n",
    "plot_4.legend.orientation = 'horizontal'\n",
    "\n",
    "bp.show(gridplot([[plot_1],[plot_4],[plot_2,plot_3]], toolbar_location=\"right\"))\n",
    "bp.output_file(filename='../resultados/TrueFX/EUR-USD/grafico comparación.html', title='comparación')"
   ]
  },
  {
   "cell_type": "code",
   "execution_count": null,
   "metadata": {
    "collapsed": true
   },
   "outputs": [],
   "source": []
  }
 ],
 "metadata": {
  "kernelspec": {
   "display_name": "Python 3",
   "language": "python",
   "name": "python3"
  },
  "language_info": {
   "codemirror_mode": {
    "name": "ipython",
    "version": 3
   },
   "file_extension": ".py",
   "mimetype": "text/x-python",
   "name": "python",
   "nbconvert_exporter": "python",
   "pygments_lexer": "ipython3",
   "version": "3.6.2"
  }
 },
 "nbformat": 4,
 "nbformat_minor": 2
}
