{
 "cells": [
  {
   "cell_type": "code",
   "execution_count": 2,
   "metadata": {
    "collapsed": true
   },
   "outputs": [],
   "source": [
    "import pandas as pd\n",
    "import numpy as np\n",
    "import bokeh.plotting as bp\n",
    "import matplotlib.pyplot as plt\n",
    "%matplotlib inline"
   ]
  },
  {
   "cell_type": "markdown",
   "metadata": {
    "collapsed": true
   },
   "source": [
    "#### Para empezar se probará con los pares EUR/USD y GBP/USD para predecir la señal EUR/USD"
   ]
  },
  {
   "cell_type": "code",
   "execution_count": 3,
   "metadata": {
    "collapsed": true
   },
   "outputs": [],
   "source": [
    "#Se lee la señal correspondiente a GBP vs USD para el mes de enero de 2018\n",
    "data_GBPvsUSD = pd.read_csv(\"../data/TrueFX/GBP-USD/datos_procesados_5T_GBPUSD-2018-01.csv\", index_col=0\n",
    "                            ,infer_datetime_format=True, parse_dates=True )\n",
    "\n",
    "#Se lee la señal correspondiente a EUR vs USD para el mes de enero de 2018\n",
    "data_EURvsUSD = pd.read_csv(\"../data/TrueFX/EUR-USD/datos_procesados_5T_EURUSD-2018-01.csv\", index_col=0\n",
    "                            ,infer_datetime_format=True, parse_dates=True )"
   ]
  },
  {
   "cell_type": "code",
   "execution_count": 48,
   "metadata": {
    "collapsed": true
   },
   "outputs": [],
   "source": [
    "%run ../code/EUtilities.py\n",
    "%run ../code/PNLEstimatorWrapper.py\n",
    "EU = EUtilities()"
   ]
  },
  {
   "cell_type": "code",
   "execution_count": 12,
   "metadata": {},
   "outputs": [
    {
     "name": "stdout",
     "output_type": "stream",
     "text": [
      "tamaño de la señal EUR/USD (6361, 2)\n",
      "tamaño de la señal GBP/USD (6360, 2)\n"
     ]
    }
   ],
   "source": [
    "print('tamaño de la señal EUR/USD', data_EURvsUSD.shape)\n",
    "print('tamaño de la señal GBP/USD', data_GBPvsUSD.shape)"
   ]
  },
  {
   "cell_type": "markdown",
   "metadata": {},
   "source": [
    "para poder utilizar la función \"multi_signal\" se deben cumplir ciertas caracteristicas, entre ellas, que los dataframe a utilizar tenga su columna llamada \"bid\"..."
   ]
  },
  {
   "cell_type": "code",
   "execution_count": 13,
   "metadata": {
    "collapsed": true
   },
   "outputs": [],
   "source": [
    "#se construye el dataset EUR/USD con las dos señales en el, para su posterior uso\n",
    "data_EURvsUSD = EU.multi_signal(data_EURvsUSD,data_GBPvsUSD)"
   ]
  },
  {
   "cell_type": "code",
   "execution_count": 14,
   "metadata": {},
   "outputs": [
    {
     "data": {
      "text/html": [
       "<div>\n",
       "<style>\n",
       "    .dataframe thead tr:only-child th {\n",
       "        text-align: right;\n",
       "    }\n",
       "\n",
       "    .dataframe thead th {\n",
       "        text-align: left;\n",
       "    }\n",
       "\n",
       "    .dataframe tbody tr th {\n",
       "        vertical-align: top;\n",
       "    }\n",
       "</style>\n",
       "<table border=\"1\" class=\"dataframe\">\n",
       "  <thead>\n",
       "    <tr style=\"text-align: right;\">\n",
       "      <th></th>\n",
       "      <th>bid</th>\n",
       "      <th>ask</th>\n",
       "      <th>bidnew</th>\n",
       "    </tr>\n",
       "  </thead>\n",
       "  <tbody>\n",
       "    <tr>\n",
       "      <th>2018-01-02 00:00:00</th>\n",
       "      <td>1.20015</td>\n",
       "      <td>1.20110</td>\n",
       "      <td>1.20015</td>\n",
       "    </tr>\n",
       "    <tr>\n",
       "      <th>2018-01-02 00:05:00</th>\n",
       "      <td>1.20047</td>\n",
       "      <td>1.20084</td>\n",
       "      <td>1.34940</td>\n",
       "    </tr>\n",
       "    <tr>\n",
       "      <th>2018-01-02 00:10:00</th>\n",
       "      <td>1.20082</td>\n",
       "      <td>1.20126</td>\n",
       "      <td>1.34895</td>\n",
       "    </tr>\n",
       "    <tr>\n",
       "      <th>2018-01-02 00:15:00</th>\n",
       "      <td>1.20035</td>\n",
       "      <td>1.20091</td>\n",
       "      <td>1.34945</td>\n",
       "    </tr>\n",
       "    <tr>\n",
       "      <th>2018-01-02 00:20:00</th>\n",
       "      <td>1.20049</td>\n",
       "      <td>1.20085</td>\n",
       "      <td>1.34953</td>\n",
       "    </tr>\n",
       "    <tr>\n",
       "      <th>2018-01-02 00:25:00</th>\n",
       "      <td>1.20047</td>\n",
       "      <td>1.20085</td>\n",
       "      <td>1.34953</td>\n",
       "    </tr>\n",
       "    <tr>\n",
       "      <th>2018-01-02 00:30:00</th>\n",
       "      <td>1.20079</td>\n",
       "      <td>1.20113</td>\n",
       "      <td>1.34963</td>\n",
       "    </tr>\n",
       "    <tr>\n",
       "      <th>2018-01-02 00:35:00</th>\n",
       "      <td>1.20135</td>\n",
       "      <td>1.20155</td>\n",
       "      <td>1.35042</td>\n",
       "    </tr>\n",
       "    <tr>\n",
       "      <th>2018-01-02 00:40:00</th>\n",
       "      <td>1.20143</td>\n",
       "      <td>1.20158</td>\n",
       "      <td>1.34983</td>\n",
       "    </tr>\n",
       "    <tr>\n",
       "      <th>2018-01-02 00:45:00</th>\n",
       "      <td>1.20149</td>\n",
       "      <td>1.20163</td>\n",
       "      <td>1.34950</td>\n",
       "    </tr>\n",
       "  </tbody>\n",
       "</table>\n",
       "</div>"
      ],
      "text/plain": [
       "                         bid      ask   bidnew\n",
       "2018-01-02 00:00:00  1.20015  1.20110  1.20015\n",
       "2018-01-02 00:05:00  1.20047  1.20084  1.34940\n",
       "2018-01-02 00:10:00  1.20082  1.20126  1.34895\n",
       "2018-01-02 00:15:00  1.20035  1.20091  1.34945\n",
       "2018-01-02 00:20:00  1.20049  1.20085  1.34953\n",
       "2018-01-02 00:25:00  1.20047  1.20085  1.34953\n",
       "2018-01-02 00:30:00  1.20079  1.20113  1.34963\n",
       "2018-01-02 00:35:00  1.20135  1.20155  1.35042\n",
       "2018-01-02 00:40:00  1.20143  1.20158  1.34983\n",
       "2018-01-02 00:45:00  1.20149  1.20163  1.34950"
      ]
     },
     "execution_count": 14,
     "metadata": {},
     "output_type": "execute_result"
    }
   ],
   "source": [
    "data_EURvsUSD[:10]"
   ]
  },
  {
   "cell_type": "markdown",
   "metadata": {},
   "source": [
    "procedemos a construir ambos dataset por separados para luego unirlos"
   ]
  },
  {
   "cell_type": "code",
   "execution_count": 20,
   "metadata": {
    "collapsed": true
   },
   "outputs": [],
   "source": [
    "#los datos del par EUR/USD \n",
    "X_EURUSD, y_EURUSD, bt_EURUSD = EU.build_dataset(data_EURvsUSD,bid_col='bid',window=7,binary_target=True,PNL=True\n",
    "                                             ,delete_constant_values=True)\n",
    "#los datos del par GBP/USD para luego unirlos y formar los datos X para entrenar\n",
    "X_GBPUSD,_ = EU.build_dataset(data_EURvsUSD,bid_col='bidnew',window=7,binary_target=False\n",
    "                              ,delete_constant_values=True)"
   ]
  },
  {
   "cell_type": "code",
   "execution_count": 21,
   "metadata": {},
   "outputs": [
    {
     "data": {
      "text/plain": [
       "((6232, 9), (6237, 7))"
      ]
     },
     "execution_count": 21,
     "metadata": {},
     "output_type": "execute_result"
    }
   ],
   "source": [
    "X_EURUSD.shape, X_GBPUSD.shape"
   ]
  },
  {
   "cell_type": "markdown",
   "metadata": {},
   "source": [
    "debido a que son diferentes señales, al habilitar la opción de <i>\"delete_constant_values\"</i> en la función <i>\"build_dataset\"</i> esto hace que las señales resultantes no sean iguales en tamaño, por ende para entrenar se cogeran los valores de los indices de la señal a medir, si este no está en la otra señal, se coloca lo de la señal EUR/USD"
   ]
  },
  {
   "cell_type": "code",
   "execution_count": 22,
   "metadata": {},
   "outputs": [
    {
     "data": {
      "text/plain": [
       "((6232, 9), (6232, 7))"
      ]
     },
     "execution_count": 22,
     "metadata": {},
     "output_type": "execute_result"
    }
   ],
   "source": [
    "X_GBPUSD = X_GBPUSD.loc[X_EURUSD.index]\n",
    "X_EURUSD.shape, X_GBPUSD.shape"
   ]
  },
  {
   "cell_type": "markdown",
   "metadata": {},
   "source": [
    "debido a que si el valor del indice del par EUR/USD no se encuentra en el par GBP/USD entonces este genera valores nan, estos valores se cambian por el valor que hay en el par EUR/USD"
   ]
  },
  {
   "cell_type": "code",
   "execution_count": 23,
   "metadata": {
    "collapsed": true
   },
   "outputs": [],
   "source": [
    "#para cambiar los valores NaN por los que hay en la señal EUR/USD\n",
    "X_GBPUSD = X_GBPUSD.fillna(X_EURUSD,axis=0)"
   ]
  },
  {
   "cell_type": "markdown",
   "metadata": {},
   "source": [
    "se unen para entrenar la multiseñal"
   ]
  },
  {
   "cell_type": "code",
   "execution_count": 43,
   "metadata": {
    "collapsed": true
   },
   "outputs": [],
   "source": [
    "window=7\n",
    "for i in X_GBPUSD.columns:\n",
    "    X_EURUSD.insert(loc=window+int(i),column=window+int(i),value=X_GBPUSD.iloc[:,i])"
   ]
  },
  {
   "cell_type": "code",
   "execution_count": 44,
   "metadata": {},
   "outputs": [
    {
     "data": {
      "text/html": [
       "<div>\n",
       "<style>\n",
       "    .dataframe thead tr:only-child th {\n",
       "        text-align: right;\n",
       "    }\n",
       "\n",
       "    .dataframe thead th {\n",
       "        text-align: left;\n",
       "    }\n",
       "\n",
       "    .dataframe tbody tr th {\n",
       "        vertical-align: top;\n",
       "    }\n",
       "</style>\n",
       "<table border=\"1\" class=\"dataframe\">\n",
       "  <thead>\n",
       "    <tr style=\"text-align: right;\">\n",
       "      <th></th>\n",
       "      <th>0</th>\n",
       "      <th>1</th>\n",
       "      <th>2</th>\n",
       "      <th>3</th>\n",
       "      <th>4</th>\n",
       "      <th>5</th>\n",
       "      <th>6</th>\n",
       "      <th>7</th>\n",
       "      <th>8</th>\n",
       "      <th>9</th>\n",
       "      <th>10</th>\n",
       "      <th>11</th>\n",
       "      <th>12</th>\n",
       "      <th>13</th>\n",
       "      <th>PNL_0</th>\n",
       "      <th>PNL_1</th>\n",
       "    </tr>\n",
       "  </thead>\n",
       "  <tbody>\n",
       "    <tr>\n",
       "      <th>2018-01-02 00:30:00</th>\n",
       "      <td>1.20015</td>\n",
       "      <td>1.20047</td>\n",
       "      <td>1.20082</td>\n",
       "      <td>1.20035</td>\n",
       "      <td>1.20049</td>\n",
       "      <td>1.20047</td>\n",
       "      <td>1.20079</td>\n",
       "      <td>1.20015</td>\n",
       "      <td>1.34940</td>\n",
       "      <td>1.34895</td>\n",
       "      <td>1.34945</td>\n",
       "      <td>1.34953</td>\n",
       "      <td>1.34953</td>\n",
       "      <td>1.34963</td>\n",
       "      <td>-0.00076</td>\n",
       "      <td>0.00022</td>\n",
       "    </tr>\n",
       "    <tr>\n",
       "      <th>2018-01-02 00:35:00</th>\n",
       "      <td>1.20047</td>\n",
       "      <td>1.20082</td>\n",
       "      <td>1.20035</td>\n",
       "      <td>1.20049</td>\n",
       "      <td>1.20047</td>\n",
       "      <td>1.20079</td>\n",
       "      <td>1.20135</td>\n",
       "      <td>1.34940</td>\n",
       "      <td>1.34895</td>\n",
       "      <td>1.34945</td>\n",
       "      <td>1.34953</td>\n",
       "      <td>1.34953</td>\n",
       "      <td>1.34963</td>\n",
       "      <td>1.35042</td>\n",
       "      <td>-0.00023</td>\n",
       "      <td>-0.00012</td>\n",
       "    </tr>\n",
       "    <tr>\n",
       "      <th>2018-01-02 00:40:00</th>\n",
       "      <td>1.20082</td>\n",
       "      <td>1.20035</td>\n",
       "      <td>1.20049</td>\n",
       "      <td>1.20047</td>\n",
       "      <td>1.20079</td>\n",
       "      <td>1.20135</td>\n",
       "      <td>1.20143</td>\n",
       "      <td>1.34895</td>\n",
       "      <td>1.34945</td>\n",
       "      <td>1.34953</td>\n",
       "      <td>1.34953</td>\n",
       "      <td>1.34963</td>\n",
       "      <td>1.35042</td>\n",
       "      <td>1.34983</td>\n",
       "      <td>-0.00020</td>\n",
       "      <td>-0.00009</td>\n",
       "    </tr>\n",
       "    <tr>\n",
       "      <th>2018-01-02 00:45:00</th>\n",
       "      <td>1.20035</td>\n",
       "      <td>1.20049</td>\n",
       "      <td>1.20047</td>\n",
       "      <td>1.20079</td>\n",
       "      <td>1.20135</td>\n",
       "      <td>1.20143</td>\n",
       "      <td>1.20149</td>\n",
       "      <td>1.34945</td>\n",
       "      <td>1.34953</td>\n",
       "      <td>1.34953</td>\n",
       "      <td>1.34963</td>\n",
       "      <td>1.35042</td>\n",
       "      <td>1.34983</td>\n",
       "      <td>1.34950</td>\n",
       "      <td>-0.00007</td>\n",
       "      <td>-0.00030</td>\n",
       "    </tr>\n",
       "    <tr>\n",
       "      <th>2018-01-02 00:50:00</th>\n",
       "      <td>1.20049</td>\n",
       "      <td>1.20047</td>\n",
       "      <td>1.20079</td>\n",
       "      <td>1.20135</td>\n",
       "      <td>1.20143</td>\n",
       "      <td>1.20149</td>\n",
       "      <td>1.20133</td>\n",
       "      <td>1.34953</td>\n",
       "      <td>1.34953</td>\n",
       "      <td>1.34963</td>\n",
       "      <td>1.35042</td>\n",
       "      <td>1.34983</td>\n",
       "      <td>1.34950</td>\n",
       "      <td>1.34968</td>\n",
       "      <td>-0.00028</td>\n",
       "      <td>-0.00017</td>\n",
       "    </tr>\n",
       "  </tbody>\n",
       "</table>\n",
       "</div>"
      ],
      "text/plain": [
       "                           0        1        2        3        4        5  \\\n",
       "2018-01-02 00:30:00  1.20015  1.20047  1.20082  1.20035  1.20049  1.20047   \n",
       "2018-01-02 00:35:00  1.20047  1.20082  1.20035  1.20049  1.20047  1.20079   \n",
       "2018-01-02 00:40:00  1.20082  1.20035  1.20049  1.20047  1.20079  1.20135   \n",
       "2018-01-02 00:45:00  1.20035  1.20049  1.20047  1.20079  1.20135  1.20143   \n",
       "2018-01-02 00:50:00  1.20049  1.20047  1.20079  1.20135  1.20143  1.20149   \n",
       "\n",
       "                           6        7        8        9       10       11  \\\n",
       "2018-01-02 00:30:00  1.20079  1.20015  1.34940  1.34895  1.34945  1.34953   \n",
       "2018-01-02 00:35:00  1.20135  1.34940  1.34895  1.34945  1.34953  1.34953   \n",
       "2018-01-02 00:40:00  1.20143  1.34895  1.34945  1.34953  1.34953  1.34963   \n",
       "2018-01-02 00:45:00  1.20149  1.34945  1.34953  1.34953  1.34963  1.35042   \n",
       "2018-01-02 00:50:00  1.20133  1.34953  1.34953  1.34963  1.35042  1.34983   \n",
       "\n",
       "                          12       13    PNL_0    PNL_1  \n",
       "2018-01-02 00:30:00  1.34953  1.34963 -0.00076  0.00022  \n",
       "2018-01-02 00:35:00  1.34963  1.35042 -0.00023 -0.00012  \n",
       "2018-01-02 00:40:00  1.35042  1.34983 -0.00020 -0.00009  \n",
       "2018-01-02 00:45:00  1.34983  1.34950 -0.00007 -0.00030  \n",
       "2018-01-02 00:50:00  1.34950  1.34968 -0.00028 -0.00017  "
      ]
     },
     "execution_count": 44,
     "metadata": {},
     "output_type": "execute_result"
    }
   ],
   "source": [
    "X_EURUSD.head()"
   ]
  },
  {
   "cell_type": "markdown",
   "metadata": {},
   "source": [
    "#### probando la multiseñal con el periodo de 5T"
   ]
  },
  {
   "cell_type": "code",
   "execution_count": 50,
   "metadata": {},
   "outputs": [
    {
     "name": "stdout",
     "output_type": "stream",
     "text": [
      "--------- GaussianNB 5m ----------------\n",
      "average PNL :  -0.0038047826087\n",
      "average buy:  109.695652174\n",
      "average sell:  112.47826087\n",
      "longest_buy:  267.0\n",
      "longest_sell:  288.0\n",
      "%correct_1:  0.127552755757\n",
      "%correct_0:  0.0946245566433\n",
      "%correct_3:  0.0204626330719\n",
      "%correct_2:  0.0556370631486\n",
      "% correct total:  0.298277008621\n",
      "-------------------------------------\n",
      "                PNL   buys  sells  longest_buys  longest_sells  %correct_1  \\\n",
      "2018-01-06 -0.00057    1.0    0.0           1.0            0.0    0.000000   \n",
      "2018-01-08 -0.01514  279.0    0.0          87.0           39.0    0.301075   \n",
      "2018-01-09 -0.01132  283.0    0.0          77.0            1.0    0.416961   \n",
      "2018-01-10 -0.00928  277.0    4.0         160.0            1.0    0.380783   \n",
      "2018-01-11  0.00072  182.0  100.0          59.0          102.0    0.273050   \n",
      "2018-01-12  0.00000    9.0  271.0           0.0          280.0    0.000000   \n",
      "2018-01-13 -0.00138    1.0    0.0           1.0            0.0    0.000000   \n",
      "2018-01-15 -0.00548  280.0    0.0          97.0            1.0    0.425000   \n",
      "2018-01-16  0.00000    3.0  279.0           0.0          282.0    0.000000   \n",
      "2018-01-17  0.00445    1.0  287.0           0.0          288.0    0.000000   \n",
      "2018-01-18  0.00411   88.0  194.0          21.0           71.0    0.152482   \n",
      "2018-01-19 -0.01013    3.0  280.0           0.0          283.0    0.000000   \n",
      "2018-01-20  0.00000    0.0    1.0           0.0            1.0    0.000000   \n",
      "2018-01-22 -0.00399   75.0  207.0           1.0          102.0    0.007092   \n",
      "2018-01-23 -0.01226   16.0  264.0           1.0           96.0    0.007143   \n",
      "2018-01-24  0.00041  282.0    0.0          35.0          155.0    0.191489   \n",
      "2018-01-25 -0.01385  286.0    0.0         267.0            1.0    0.440559   \n",
      "2018-01-26 -0.01563    3.0  281.0           0.0          284.0    0.000000   \n",
      "2018-01-27  0.00000    0.0    1.0           0.0            1.0    0.000000   \n",
      "2018-01-29  0.00259   90.0  191.0          72.0          171.0    0.160142   \n",
      "2018-01-30  0.00128  248.0   33.0          89.0           56.0    0.177936   \n",
      "2018-01-31 -0.00181  101.0  186.0           0.0          287.0    0.000000   \n",
      "2018-02-01 -0.00023   15.0    8.0           0.0           23.0    0.000000   \n",
      "\n",
      "            %correct_0  %correct_3  %correct_2  \n",
      "2018-01-06    0.000000    0.000000    0.000000  \n",
      "2018-01-08    0.000000    0.014337    0.000000  \n",
      "2018-01-09    0.000000    0.003534    0.000000  \n",
      "2018-01-10    0.000000    0.000000    0.000000  \n",
      "2018-01-11    0.000000    0.003546    0.010638  \n",
      "2018-01-12    0.000000    0.007143    0.067857  \n",
      "2018-01-13    0.000000    0.000000    0.000000  \n",
      "2018-01-15    0.000000    0.000000    0.000000  \n",
      "2018-01-16    0.000000    0.003546    0.056738  \n",
      "2018-01-17    0.083333    0.000000    0.048611  \n",
      "2018-01-18    0.152482    0.000000    0.024823  \n",
      "2018-01-19    0.459364    0.000000    0.000000  \n",
      "2018-01-20    0.000000    0.000000    0.000000  \n",
      "2018-01-22    0.148936    0.024823    0.031915  \n",
      "2018-01-23    0.410714    0.003571    0.000000  \n",
      "2018-01-24    0.000000    0.021277    0.000000  \n",
      "2018-01-25    0.000000    0.000000    0.000000  \n",
      "2018-01-26    0.394366    0.000000    0.007042  \n",
      "2018-01-27    0.000000    0.000000    1.000000  \n",
      "2018-01-29    0.064057    0.000000    0.032028  \n",
      "2018-01-30    0.000000    0.042705    0.000000  \n",
      "2018-01-31    0.289199    0.041812    0.000000  \n",
      "2018-02-01    0.173913    0.304348    0.000000  \n"
     ]
    }
   ],
   "source": [
    "from sklearn.naive_bayes import GaussianNB\n",
    "    \n",
    "y = bt_EURUSD\n",
    "n_bdtrain = 4\n",
    "n_bdtest = 1\n",
    "mday = 1\n",
    "#para indexar el dataframe por las fechas\n",
    "dates = np.unique(X_EURUSD.index.date)[n_bdtrain:]\n",
    "est_GNB = PNLEstimatorWrapper(GaussianNB(), PNL_column=['PNL_0','PNL_1'])\n",
    "result_GNB = EU.step_validation(est_GNB, X_EURUSD, y, EU.v_split(X_EURUSD,n_bdtrain,n_bdtest,mday))\n",
    "result_GNB, predict_GNB = EU.redim(result_GNB)\n",
    "print('--------- GaussianNB 5m ----------------')\n",
    "print('average PNL : ', np.mean(result_GNB[:,0]))\n",
    "print('average buy: ', np.mean(result_GNB[:,1]))\n",
    "print('average sell: ', np.mean(result_GNB[:,2]))\n",
    "print('longest_buy: ', np.max(result_GNB[:,3]))\n",
    "print('longest_sell: ', np.max(result_GNB[:,4]))\n",
    "print('%correct_1: ', np.mean(result_GNB[:,5]))\n",
    "print('%correct_0: ', np.mean(result_GNB[:,6]))\n",
    "print('%correct_3: ', np.mean(result_GNB[:,7]))\n",
    "print('%correct_2: ', np.mean(result_GNB[:,8]))\n",
    "print('% correct total: ', np.mean(result_GNB[:,5]+result_GNB[:,6]+result_GNB[:,7]+result_GNB[:,8]))\n",
    "print('-------------------------------------')\n",
    "df_GNB = pd.DataFrame(result_GNB, columns=list(['PNL','buys','sells','longest_buys','longest_sells'\n",
    "                                                ,'%correct_1','%correct_0','%correct_3','%correct_2']), index=dates)\n",
    "print(df_GNB)\n",
    "df_GNB.to_csv('../resultados/TrueFX/EUR-USD/MultiSeñal/GaussianNB/pnl_5T_EUR-USD_GBP-USD_GNB_NC4_wsize7_2018-01.csv')"
   ]
  },
  {
   "cell_type": "code",
   "execution_count": null,
   "metadata": {
    "collapsed": true
   },
   "outputs": [],
   "source": []
  }
 ],
 "metadata": {
  "kernelspec": {
   "display_name": "Python 3",
   "language": "python",
   "name": "python3"
  },
  "language_info": {
   "codemirror_mode": {
    "name": "ipython",
    "version": 3
   },
   "file_extension": ".py",
   "mimetype": "text/x-python",
   "name": "python",
   "nbconvert_exporter": "python",
   "pygments_lexer": "ipython3",
   "version": "3.6.2"
  }
 },
 "nbformat": 4,
 "nbformat_minor": 2
}
