{
 "cells": [
  {
   "cell_type": "code",
   "execution_count": 1,
   "metadata": {
    "collapsed": true
   },
   "outputs": [],
   "source": [
    "import numpy as np\n",
    "import pandas as pd"
   ]
  },
  {
   "cell_type": "code",
   "execution_count": 2,
   "metadata": {
    "collapsed": true
   },
   "outputs": [],
   "source": [
    "df = pd.read_csv('../data/TrueFX/EUR-USD/EURUSD-2018-01.csv',index_col=1,parse_dates=True,\n",
    "                 infer_datetime_format=True, names=['ref','bid','ask'])"
   ]
  },
  {
   "cell_type": "code",
   "execution_count": 3,
   "metadata": {},
   "outputs": [
    {
     "name": "stdout",
     "output_type": "stream",
     "text": [
      "(3952896, 3)\n"
     ]
    },
    {
     "data": {
      "text/html": [
       "<div>\n",
       "<style>\n",
       "    .dataframe thead tr:only-child th {\n",
       "        text-align: right;\n",
       "    }\n",
       "\n",
       "    .dataframe thead th {\n",
       "        text-align: left;\n",
       "    }\n",
       "\n",
       "    .dataframe tbody tr th {\n",
       "        vertical-align: top;\n",
       "    }\n",
       "</style>\n",
       "<table border=\"1\" class=\"dataframe\">\n",
       "  <thead>\n",
       "    <tr style=\"text-align: right;\">\n",
       "      <th></th>\n",
       "      <th>ref</th>\n",
       "      <th>bid</th>\n",
       "      <th>ask</th>\n",
       "    </tr>\n",
       "  </thead>\n",
       "  <tbody>\n",
       "    <tr>\n",
       "      <th>2018-01-01 22:01:01.051</th>\n",
       "      <td>EUR/USD</td>\n",
       "      <td>1.20094</td>\n",
       "      <td>1.20116</td>\n",
       "    </tr>\n",
       "    <tr>\n",
       "      <th>2018-01-01 22:01:01.158</th>\n",
       "      <td>EUR/USD</td>\n",
       "      <td>1.20093</td>\n",
       "      <td>1.20115</td>\n",
       "    </tr>\n",
       "    <tr>\n",
       "      <th>2018-01-01 22:01:11.676</th>\n",
       "      <td>EUR/USD</td>\n",
       "      <td>1.20093</td>\n",
       "      <td>1.20111</td>\n",
       "    </tr>\n",
       "    <tr>\n",
       "      <th>2018-01-01 22:01:18.116</th>\n",
       "      <td>EUR/USD</td>\n",
       "      <td>1.20082</td>\n",
       "      <td>1.20111</td>\n",
       "    </tr>\n",
       "    <tr>\n",
       "      <th>2018-01-01 22:01:32.023</th>\n",
       "      <td>EUR/USD</td>\n",
       "      <td>1.20043</td>\n",
       "      <td>1.20070</td>\n",
       "    </tr>\n",
       "  </tbody>\n",
       "</table>\n",
       "</div>"
      ],
      "text/plain": [
       "                             ref      bid      ask\n",
       "2018-01-01 22:01:01.051  EUR/USD  1.20094  1.20116\n",
       "2018-01-01 22:01:01.158  EUR/USD  1.20093  1.20115\n",
       "2018-01-01 22:01:11.676  EUR/USD  1.20093  1.20111\n",
       "2018-01-01 22:01:18.116  EUR/USD  1.20082  1.20111\n",
       "2018-01-01 22:01:32.023  EUR/USD  1.20043  1.20070"
      ]
     },
     "execution_count": 3,
     "metadata": {},
     "output_type": "execute_result"
    }
   ],
   "source": [
    "print(df.shape)\n",
    "df.head()"
   ]
  },
  {
   "cell_type": "code",
   "execution_count": 4,
   "metadata": {},
   "outputs": [
    {
     "data": {
      "text/plain": [
       "(3949821, 3)"
      ]
     },
     "execution_count": 4,
     "metadata": {},
     "output_type": "execute_result"
    }
   ],
   "source": [
    "df = df.groupby(df.index).first()\n",
    "df.shape"
   ]
  },
  {
   "cell_type": "code",
   "execution_count": 5,
   "metadata": {},
   "outputs": [
    {
     "data": {
      "text/plain": [
       "array([datetime.date(2018, 1, 1), datetime.date(2018, 1, 2),\n",
       "       datetime.date(2018, 1, 3), datetime.date(2018, 1, 4),\n",
       "       datetime.date(2018, 1, 5), datetime.date(2018, 1, 7),\n",
       "       datetime.date(2018, 1, 8), datetime.date(2018, 1, 9),\n",
       "       datetime.date(2018, 1, 10), datetime.date(2018, 1, 11),\n",
       "       datetime.date(2018, 1, 12), datetime.date(2018, 1, 14),\n",
       "       datetime.date(2018, 1, 15), datetime.date(2018, 1, 16),\n",
       "       datetime.date(2018, 1, 17), datetime.date(2018, 1, 18),\n",
       "       datetime.date(2018, 1, 19), datetime.date(2018, 1, 21),\n",
       "       datetime.date(2018, 1, 22), datetime.date(2018, 1, 23),\n",
       "       datetime.date(2018, 1, 24), datetime.date(2018, 1, 25),\n",
       "       datetime.date(2018, 1, 26), datetime.date(2018, 1, 28),\n",
       "       datetime.date(2018, 1, 29), datetime.date(2018, 1, 30),\n",
       "       datetime.date(2018, 1, 31)], dtype=object)"
      ]
     },
     "execution_count": 5,
     "metadata": {},
     "output_type": "execute_result"
    }
   ],
   "source": [
    "pd.unique(df.index.date)"
   ]
  },
  {
   "cell_type": "code",
   "execution_count": 6,
   "metadata": {},
   "outputs": [
    {
     "name": "stdout",
     "output_type": "stream",
     "text": [
      "2018-01-07 22:04:39.310000 | 2018-01-07 23:59:56.771000 | 0 days 01:55:17.461000\n",
      "\n",
      "2018-01-14 22:03:06.005000 | 2018-01-14 23:59:58.050000 | 0 days 01:56:52.045000\n",
      "\n",
      "2018-01-21 22:04:56.639000 | 2018-01-21 23:59:53.724000 | 0 days 01:54:57.085000\n",
      "\n",
      "2018-01-28 22:04:51.632000 | 2018-01-28 23:59:58.998000 | 0 days 01:55:07.366000\n"
     ]
    }
   ],
   "source": [
    "print(df['2018-1-7'].index[0],'|',df['2018-1-7'].index[-1],'|',df['2018-1-7'].index[-1] - df['2018-1-7'].index[0])\n",
    "print()\n",
    "print(df['2018-1-14'].index[0],'|',df['2018-1-14'].index[-1],'|',df['2018-1-14'].index[-1] - df['2018-1-14'].index[0])\n",
    "print()\n",
    "print(df['2018-1-21'].index[0],'|',df['2018-1-21'].index[-1],'|',df['2018-1-21'].index[-1] - df['2018-1-21'].index[0])\n",
    "print()\n",
    "print(df['2018-1-28'].index[0],'|',df['2018-1-28'].index[-1],'|',df['2018-1-28'].index[-1] - df['2018-1-28'].index[0])"
   ]
  },
  {
   "cell_type": "code",
   "execution_count": 7,
   "metadata": {},
   "outputs": [
    {
     "data": {
      "text/plain": [
       "Timedelta('0 days 01:55:17.461000')"
      ]
     },
     "execution_count": 7,
     "metadata": {},
     "output_type": "execute_result"
    }
   ],
   "source": [
    "df['2018-1-7'].index[-1] - df['2018-1-7'].index[0]"
   ]
  },
  {
   "cell_type": "code",
   "execution_count": 8,
   "metadata": {
    "collapsed": true
   },
   "outputs": [],
   "source": [
    "#para correr los dias, quedan 5 bussines day\n",
    "df.index = df.index + pd.Timedelta(hours=1, minutes=56, seconds=52.046)"
   ]
  },
  {
   "cell_type": "code",
   "execution_count": 9,
   "metadata": {},
   "outputs": [
    {
     "data": {
      "text/plain": [
       "array([datetime.date(2018, 1, 1), datetime.date(2018, 1, 2),\n",
       "       datetime.date(2018, 1, 3), datetime.date(2018, 1, 4),\n",
       "       datetime.date(2018, 1, 5), datetime.date(2018, 1, 8),\n",
       "       datetime.date(2018, 1, 9), datetime.date(2018, 1, 10),\n",
       "       datetime.date(2018, 1, 11), datetime.date(2018, 1, 12),\n",
       "       datetime.date(2018, 1, 14), datetime.date(2018, 1, 15),\n",
       "       datetime.date(2018, 1, 16), datetime.date(2018, 1, 17),\n",
       "       datetime.date(2018, 1, 18), datetime.date(2018, 1, 19),\n",
       "       datetime.date(2018, 1, 22), datetime.date(2018, 1, 23),\n",
       "       datetime.date(2018, 1, 24), datetime.date(2018, 1, 25),\n",
       "       datetime.date(2018, 1, 26), datetime.date(2018, 1, 29),\n",
       "       datetime.date(2018, 1, 30), datetime.date(2018, 1, 31),\n",
       "       datetime.date(2018, 2, 1)], dtype=object)"
      ]
     },
     "execution_count": 9,
     "metadata": {},
     "output_type": "execute_result"
    }
   ],
   "source": [
    "pd.unique(df.index.date)"
   ]
  },
  {
   "cell_type": "code",
   "execution_count": 10,
   "metadata": {
    "collapsed": true
   },
   "outputs": [],
   "source": [
    "df_pro = df.bid.resample('5T', loffset='5T').ohlc().dropna()\n",
    "target = df.ask.resample('5T', loffset='5T').last().dropna()"
   ]
  },
  {
   "cell_type": "code",
   "execution_count": 11,
   "metadata": {},
   "outputs": [
    {
     "data": {
      "text/html": [
       "<div>\n",
       "<style>\n",
       "    .dataframe thead tr:only-child th {\n",
       "        text-align: right;\n",
       "    }\n",
       "\n",
       "    .dataframe thead th {\n",
       "        text-align: left;\n",
       "    }\n",
       "\n",
       "    .dataframe tbody tr th {\n",
       "        vertical-align: top;\n",
       "    }\n",
       "</style>\n",
       "<table border=\"1\" class=\"dataframe\">\n",
       "  <thead>\n",
       "    <tr style=\"text-align: right;\">\n",
       "      <th></th>\n",
       "      <th>open</th>\n",
       "      <th>high</th>\n",
       "      <th>low</th>\n",
       "      <th>close</th>\n",
       "    </tr>\n",
       "  </thead>\n",
       "  <tbody>\n",
       "    <tr>\n",
       "      <th>2018-01-02 00:00:00</th>\n",
       "      <td>1.20094</td>\n",
       "      <td>1.20094</td>\n",
       "      <td>1.20011</td>\n",
       "      <td>1.20015</td>\n",
       "    </tr>\n",
       "    <tr>\n",
       "      <th>2018-01-02 00:05:00</th>\n",
       "      <td>1.20015</td>\n",
       "      <td>1.20062</td>\n",
       "      <td>1.20011</td>\n",
       "      <td>1.20047</td>\n",
       "    </tr>\n",
       "    <tr>\n",
       "      <th>2018-01-02 00:10:00</th>\n",
       "      <td>1.20039</td>\n",
       "      <td>1.20098</td>\n",
       "      <td>1.20035</td>\n",
       "      <td>1.20082</td>\n",
       "    </tr>\n",
       "    <tr>\n",
       "      <th>2018-01-02 00:15:00</th>\n",
       "      <td>1.20080</td>\n",
       "      <td>1.20097</td>\n",
       "      <td>1.20025</td>\n",
       "      <td>1.20035</td>\n",
       "    </tr>\n",
       "    <tr>\n",
       "      <th>2018-01-02 00:20:00</th>\n",
       "      <td>1.20034</td>\n",
       "      <td>1.20057</td>\n",
       "      <td>1.20031</td>\n",
       "      <td>1.20049</td>\n",
       "    </tr>\n",
       "  </tbody>\n",
       "</table>\n",
       "</div>"
      ],
      "text/plain": [
       "                        open     high      low    close\n",
       "2018-01-02 00:00:00  1.20094  1.20094  1.20011  1.20015\n",
       "2018-01-02 00:05:00  1.20015  1.20062  1.20011  1.20047\n",
       "2018-01-02 00:10:00  1.20039  1.20098  1.20035  1.20082\n",
       "2018-01-02 00:15:00  1.20080  1.20097  1.20025  1.20035\n",
       "2018-01-02 00:20:00  1.20034  1.20057  1.20031  1.20049"
      ]
     },
     "execution_count": 11,
     "metadata": {},
     "output_type": "execute_result"
    }
   ],
   "source": [
    "df_pro.head()"
   ]
  },
  {
   "cell_type": "code",
   "execution_count": 12,
   "metadata": {
    "collapsed": true
   },
   "outputs": [],
   "source": [
    "df_pro['mean'] = df.bid.resample('5T', loffset='5T').mean().dropna()"
   ]
  },
  {
   "cell_type": "code",
   "execution_count": 13,
   "metadata": {
    "collapsed": true
   },
   "outputs": [],
   "source": [
    "df_pro['std'] = df.bid.resample('5T', loffset='5T').std().dropna()"
   ]
  },
  {
   "cell_type": "code",
   "execution_count": 14,
   "metadata": {
    "collapsed": true
   },
   "outputs": [],
   "source": [
    "df_pro['var'] = df.bid.resample('5T', loffset='5T').var().dropna()"
   ]
  },
  {
   "cell_type": "code",
   "execution_count": 15,
   "metadata": {
    "collapsed": true
   },
   "outputs": [],
   "source": [
    "df_pro['median'] = df.bid.resample('5T', loffset='5T').median().dropna()"
   ]
  },
  {
   "cell_type": "code",
   "execution_count": 16,
   "metadata": {
    "collapsed": true
   },
   "outputs": [],
   "source": [
    "df_pro['sem'] = df.bid.resample('5T', loffset='5T').sem().dropna()"
   ]
  },
  {
   "cell_type": "code",
   "execution_count": 17,
   "metadata": {
    "scrolled": true
   },
   "outputs": [
    {
     "data": {
      "text/html": [
       "<div>\n",
       "<style>\n",
       "    .dataframe thead tr:only-child th {\n",
       "        text-align: right;\n",
       "    }\n",
       "\n",
       "    .dataframe thead th {\n",
       "        text-align: left;\n",
       "    }\n",
       "\n",
       "    .dataframe tbody tr th {\n",
       "        vertical-align: top;\n",
       "    }\n",
       "</style>\n",
       "<table border=\"1\" class=\"dataframe\">\n",
       "  <thead>\n",
       "    <tr style=\"text-align: right;\">\n",
       "      <th></th>\n",
       "      <th>open</th>\n",
       "      <th>high</th>\n",
       "      <th>low</th>\n",
       "      <th>close</th>\n",
       "      <th>mean</th>\n",
       "      <th>std</th>\n",
       "      <th>var</th>\n",
       "      <th>median</th>\n",
       "      <th>sem</th>\n",
       "    </tr>\n",
       "  </thead>\n",
       "  <tbody>\n",
       "    <tr>\n",
       "      <th>2018-01-02 00:00:00</th>\n",
       "      <td>1.20094</td>\n",
       "      <td>1.20094</td>\n",
       "      <td>1.20011</td>\n",
       "      <td>1.20015</td>\n",
       "      <td>1.200530</td>\n",
       "      <td>0.000318</td>\n",
       "      <td>1.010923e-07</td>\n",
       "      <td>1.200435</td>\n",
       "      <td>0.000085</td>\n",
       "    </tr>\n",
       "    <tr>\n",
       "      <th>2018-01-02 00:05:00</th>\n",
       "      <td>1.20015</td>\n",
       "      <td>1.20062</td>\n",
       "      <td>1.20011</td>\n",
       "      <td>1.20047</td>\n",
       "      <td>1.200343</td>\n",
       "      <td>0.000142</td>\n",
       "      <td>2.027103e-08</td>\n",
       "      <td>1.200300</td>\n",
       "      <td>0.000024</td>\n",
       "    </tr>\n",
       "    <tr>\n",
       "      <th>2018-01-02 00:10:00</th>\n",
       "      <td>1.20039</td>\n",
       "      <td>1.20098</td>\n",
       "      <td>1.20035</td>\n",
       "      <td>1.20082</td>\n",
       "      <td>1.200752</td>\n",
       "      <td>0.000180</td>\n",
       "      <td>3.255425e-08</td>\n",
       "      <td>1.200775</td>\n",
       "      <td>0.000024</td>\n",
       "    </tr>\n",
       "    <tr>\n",
       "      <th>2018-01-02 00:15:00</th>\n",
       "      <td>1.20080</td>\n",
       "      <td>1.20097</td>\n",
       "      <td>1.20025</td>\n",
       "      <td>1.20035</td>\n",
       "      <td>1.200719</td>\n",
       "      <td>0.000258</td>\n",
       "      <td>6.650895e-08</td>\n",
       "      <td>1.200860</td>\n",
       "      <td>0.000027</td>\n",
       "    </tr>\n",
       "    <tr>\n",
       "      <th>2018-01-02 00:20:00</th>\n",
       "      <td>1.20034</td>\n",
       "      <td>1.20057</td>\n",
       "      <td>1.20031</td>\n",
       "      <td>1.20049</td>\n",
       "      <td>1.200501</td>\n",
       "      <td>0.000046</td>\n",
       "      <td>2.122442e-09</td>\n",
       "      <td>1.200510</td>\n",
       "      <td>0.000003</td>\n",
       "    </tr>\n",
       "  </tbody>\n",
       "</table>\n",
       "</div>"
      ],
      "text/plain": [
       "                        open     high      low    close      mean       std  \\\n",
       "2018-01-02 00:00:00  1.20094  1.20094  1.20011  1.20015  1.200530  0.000318   \n",
       "2018-01-02 00:05:00  1.20015  1.20062  1.20011  1.20047  1.200343  0.000142   \n",
       "2018-01-02 00:10:00  1.20039  1.20098  1.20035  1.20082  1.200752  0.000180   \n",
       "2018-01-02 00:15:00  1.20080  1.20097  1.20025  1.20035  1.200719  0.000258   \n",
       "2018-01-02 00:20:00  1.20034  1.20057  1.20031  1.20049  1.200501  0.000046   \n",
       "\n",
       "                              var    median       sem  \n",
       "2018-01-02 00:00:00  1.010923e-07  1.200435  0.000085  \n",
       "2018-01-02 00:05:00  2.027103e-08  1.200300  0.000024  \n",
       "2018-01-02 00:10:00  3.255425e-08  1.200775  0.000024  \n",
       "2018-01-02 00:15:00  6.650895e-08  1.200860  0.000027  \n",
       "2018-01-02 00:20:00  2.122442e-09  1.200510  0.000003  "
      ]
     },
     "execution_count": 17,
     "metadata": {},
     "output_type": "execute_result"
    }
   ],
   "source": [
    "df_pro.head()"
   ]
  },
  {
   "cell_type": "code",
   "execution_count": 18,
   "metadata": {
    "collapsed": true
   },
   "outputs": [],
   "source": [
    "df_pro['ask'] = target"
   ]
  },
  {
   "cell_type": "code",
   "execution_count": 19,
   "metadata": {},
   "outputs": [
    {
     "data": {
      "text/html": [
       "<div>\n",
       "<style>\n",
       "    .dataframe thead tr:only-child th {\n",
       "        text-align: right;\n",
       "    }\n",
       "\n",
       "    .dataframe thead th {\n",
       "        text-align: left;\n",
       "    }\n",
       "\n",
       "    .dataframe tbody tr th {\n",
       "        vertical-align: top;\n",
       "    }\n",
       "</style>\n",
       "<table border=\"1\" class=\"dataframe\">\n",
       "  <thead>\n",
       "    <tr style=\"text-align: right;\">\n",
       "      <th></th>\n",
       "      <th>open</th>\n",
       "      <th>high</th>\n",
       "      <th>low</th>\n",
       "      <th>close</th>\n",
       "      <th>mean</th>\n",
       "      <th>std</th>\n",
       "      <th>var</th>\n",
       "      <th>median</th>\n",
       "      <th>sem</th>\n",
       "      <th>ask</th>\n",
       "    </tr>\n",
       "  </thead>\n",
       "  <tbody>\n",
       "    <tr>\n",
       "      <th>2018-01-02 00:00:00</th>\n",
       "      <td>1.20094</td>\n",
       "      <td>1.20094</td>\n",
       "      <td>1.20011</td>\n",
       "      <td>1.20015</td>\n",
       "      <td>1.200530</td>\n",
       "      <td>0.000318</td>\n",
       "      <td>1.010923e-07</td>\n",
       "      <td>1.200435</td>\n",
       "      <td>0.000085</td>\n",
       "      <td>1.20110</td>\n",
       "    </tr>\n",
       "    <tr>\n",
       "      <th>2018-01-02 00:05:00</th>\n",
       "      <td>1.20015</td>\n",
       "      <td>1.20062</td>\n",
       "      <td>1.20011</td>\n",
       "      <td>1.20047</td>\n",
       "      <td>1.200343</td>\n",
       "      <td>0.000142</td>\n",
       "      <td>2.027103e-08</td>\n",
       "      <td>1.200300</td>\n",
       "      <td>0.000024</td>\n",
       "      <td>1.20084</td>\n",
       "    </tr>\n",
       "    <tr>\n",
       "      <th>2018-01-02 00:10:00</th>\n",
       "      <td>1.20039</td>\n",
       "      <td>1.20098</td>\n",
       "      <td>1.20035</td>\n",
       "      <td>1.20082</td>\n",
       "      <td>1.200752</td>\n",
       "      <td>0.000180</td>\n",
       "      <td>3.255425e-08</td>\n",
       "      <td>1.200775</td>\n",
       "      <td>0.000024</td>\n",
       "      <td>1.20126</td>\n",
       "    </tr>\n",
       "    <tr>\n",
       "      <th>2018-01-02 00:15:00</th>\n",
       "      <td>1.20080</td>\n",
       "      <td>1.20097</td>\n",
       "      <td>1.20025</td>\n",
       "      <td>1.20035</td>\n",
       "      <td>1.200719</td>\n",
       "      <td>0.000258</td>\n",
       "      <td>6.650895e-08</td>\n",
       "      <td>1.200860</td>\n",
       "      <td>0.000027</td>\n",
       "      <td>1.20091</td>\n",
       "    </tr>\n",
       "    <tr>\n",
       "      <th>2018-01-02 00:20:00</th>\n",
       "      <td>1.20034</td>\n",
       "      <td>1.20057</td>\n",
       "      <td>1.20031</td>\n",
       "      <td>1.20049</td>\n",
       "      <td>1.200501</td>\n",
       "      <td>0.000046</td>\n",
       "      <td>2.122442e-09</td>\n",
       "      <td>1.200510</td>\n",
       "      <td>0.000003</td>\n",
       "      <td>1.20084</td>\n",
       "    </tr>\n",
       "  </tbody>\n",
       "</table>\n",
       "</div>"
      ],
      "text/plain": [
       "                        open     high      low    close      mean       std  \\\n",
       "2018-01-02 00:00:00  1.20094  1.20094  1.20011  1.20015  1.200530  0.000318   \n",
       "2018-01-02 00:05:00  1.20015  1.20062  1.20011  1.20047  1.200343  0.000142   \n",
       "2018-01-02 00:10:00  1.20039  1.20098  1.20035  1.20082  1.200752  0.000180   \n",
       "2018-01-02 00:15:00  1.20080  1.20097  1.20025  1.20035  1.200719  0.000258   \n",
       "2018-01-02 00:20:00  1.20034  1.20057  1.20031  1.20049  1.200501  0.000046   \n",
       "\n",
       "                              var    median       sem      ask  \n",
       "2018-01-02 00:00:00  1.010923e-07  1.200435  0.000085  1.20110  \n",
       "2018-01-02 00:05:00  2.027103e-08  1.200300  0.000024  1.20084  \n",
       "2018-01-02 00:10:00  3.255425e-08  1.200775  0.000024  1.20126  \n",
       "2018-01-02 00:15:00  6.650895e-08  1.200860  0.000027  1.20091  \n",
       "2018-01-02 00:20:00  2.122442e-09  1.200510  0.000003  1.20084  "
      ]
     },
     "execution_count": 19,
     "metadata": {},
     "output_type": "execute_result"
    }
   ],
   "source": [
    "df_pro.head()"
   ]
  },
  {
   "cell_type": "code",
   "execution_count": 20,
   "metadata": {
    "collapsed": true
   },
   "outputs": [],
   "source": [
    "df_pro.to_csv('../data/TrueFX/EUR-USD/datos_procesados_5T_allFeatures_EURUSD-2018-01.csv')"
   ]
  },
  {
   "cell_type": "code",
   "execution_count": null,
   "metadata": {
    "collapsed": true
   },
   "outputs": [],
   "source": []
  }
 ],
 "metadata": {
  "kernelspec": {
   "display_name": "Python 3",
   "language": "python",
   "name": "python3"
  },
  "language_info": {
   "codemirror_mode": {
    "name": "ipython",
    "version": 3
   },
   "file_extension": ".py",
   "mimetype": "text/x-python",
   "name": "python",
   "nbconvert_exporter": "python",
   "pygments_lexer": "ipython3",
   "version": "3.6.2"
  }
 },
 "nbformat": 4,
 "nbformat_minor": 2
}
