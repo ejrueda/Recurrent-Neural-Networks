{
 "cells": [
  {
   "cell_type": "code",
   "execution_count": 1,
   "metadata": {
    "collapsed": true
   },
   "outputs": [],
   "source": [
    "import numpy as np\n",
    "import pandas as pd\n",
    "import matplotlib.pyplot as plt\n",
    "%matplotlib inline"
   ]
  },
  {
   "cell_type": "code",
   "execution_count": 2,
   "metadata": {},
   "outputs": [
    {
     "data": {
      "text/plain": [
       "(3952896, 3)"
      ]
     },
     "execution_count": 2,
     "metadata": {},
     "output_type": "execute_result"
    }
   ],
   "source": [
    "#leer los datos obtenidos de TrueFX\n",
    "datos = pd.read_csv(\"../data/TrueFX/EUR-USD/EURUSD-2018-01.csv\",float_precision='high', names =list(['date','bid', 'ask']))\n",
    "datos.shape"
   ]
  },
  {
   "cell_type": "code",
   "execution_count": 3,
   "metadata": {
    "scrolled": true
   },
   "outputs": [
    {
     "data": {
      "text/plain": [
       "[<matplotlib.lines.Line2D at 0x7f3726fc3470>]"
      ]
     },
     "execution_count": 3,
     "metadata": {},
     "output_type": "execute_result"
    },
    {
     "data": {
      "image/png": "[encoded data removed]",
      "text/plain": [
       "<matplotlib.figure.Figure at 0x7f36ebf73390>"
      ]
     },
     "metadata": {},
     "output_type": "display_data"
    }
   ],
   "source": [
    "plt.figure(figsize=(15,5))\n",
    "plt.plot(range(datos.shape[0]),datos.iloc[:,1])"
   ]
  },
  {
   "cell_type": "code",
   "execution_count": 4,
   "metadata": {},
   "outputs": [
    {
     "data": {
      "text/html": [
       "<div>\n",
       "<style>\n",
       "    .dataframe thead tr:only-child th {\n",
       "        text-align: right;\n",
       "    }\n",
       "\n",
       "    .dataframe thead th {\n",
       "        text-align: left;\n",
       "    }\n",
       "\n",
       "    .dataframe tbody tr th {\n",
       "        vertical-align: top;\n",
       "    }\n",
       "</style>\n",
       "<table border=\"1\" class=\"dataframe\">\n",
       "  <thead>\n",
       "    <tr style=\"text-align: right;\">\n",
       "      <th></th>\n",
       "      <th>date</th>\n",
       "      <th>bid</th>\n",
       "      <th>ask</th>\n",
       "    </tr>\n",
       "  </thead>\n",
       "  <tbody>\n",
       "    <tr>\n",
       "      <th>EUR/USD</th>\n",
       "      <td>20180101 22:01:01.051</td>\n",
       "      <td>1.20094</td>\n",
       "      <td>1.20116</td>\n",
       "    </tr>\n",
       "    <tr>\n",
       "      <th>EUR/USD</th>\n",
       "      <td>20180101 22:01:01.158</td>\n",
       "      <td>1.20093</td>\n",
       "      <td>1.20115</td>\n",
       "    </tr>\n",
       "    <tr>\n",
       "      <th>EUR/USD</th>\n",
       "      <td>20180101 22:01:11.676</td>\n",
       "      <td>1.20093</td>\n",
       "      <td>1.20111</td>\n",
       "    </tr>\n",
       "    <tr>\n",
       "      <th>EUR/USD</th>\n",
       "      <td>20180101 22:01:18.116</td>\n",
       "      <td>1.20082</td>\n",
       "      <td>1.20111</td>\n",
       "    </tr>\n",
       "    <tr>\n",
       "      <th>EUR/USD</th>\n",
       "      <td>20180101 22:01:32.023</td>\n",
       "      <td>1.20043</td>\n",
       "      <td>1.20070</td>\n",
       "    </tr>\n",
       "  </tbody>\n",
       "</table>\n",
       "</div>"
      ],
      "text/plain": [
       "                          date      bid      ask\n",
       "EUR/USD  20180101 22:01:01.051  1.20094  1.20116\n",
       "EUR/USD  20180101 22:01:01.158  1.20093  1.20115\n",
       "EUR/USD  20180101 22:01:11.676  1.20093  1.20111\n",
       "EUR/USD  20180101 22:01:18.116  1.20082  1.20111\n",
       "EUR/USD  20180101 22:01:32.023  1.20043  1.20070"
      ]
     },
     "execution_count": 4,
     "metadata": {},
     "output_type": "execute_result"
    }
   ],
   "source": [
    "datos.head()"
   ]
  },
  {
   "cell_type": "code",
   "execution_count": 5,
   "metadata": {},
   "outputs": [
    {
     "data": {
      "text/html": [
       "<div>\n",
       "<style>\n",
       "    .dataframe thead tr:only-child th {\n",
       "        text-align: right;\n",
       "    }\n",
       "\n",
       "    .dataframe thead th {\n",
       "        text-align: left;\n",
       "    }\n",
       "\n",
       "    .dataframe tbody tr th {\n",
       "        vertical-align: top;\n",
       "    }\n",
       "</style>\n",
       "<table border=\"1\" class=\"dataframe\">\n",
       "  <thead>\n",
       "    <tr style=\"text-align: right;\">\n",
       "      <th></th>\n",
       "      <th>bid</th>\n",
       "      <th>ask</th>\n",
       "    </tr>\n",
       "    <tr>\n",
       "      <th>date</th>\n",
       "      <th></th>\n",
       "      <th></th>\n",
       "    </tr>\n",
       "  </thead>\n",
       "  <tbody>\n",
       "    <tr>\n",
       "      <th>2018-01-01 22:01:01.051</th>\n",
       "      <td>1.20094</td>\n",
       "      <td>1.20116</td>\n",
       "    </tr>\n",
       "    <tr>\n",
       "      <th>2018-01-01 22:01:01.158</th>\n",
       "      <td>1.20093</td>\n",
       "      <td>1.20115</td>\n",
       "    </tr>\n",
       "    <tr>\n",
       "      <th>2018-01-01 22:01:11.676</th>\n",
       "      <td>1.20093</td>\n",
       "      <td>1.20111</td>\n",
       "    </tr>\n",
       "    <tr>\n",
       "      <th>2018-01-01 22:01:18.116</th>\n",
       "      <td>1.20082</td>\n",
       "      <td>1.20111</td>\n",
       "    </tr>\n",
       "    <tr>\n",
       "      <th>2018-01-01 22:01:32.023</th>\n",
       "      <td>1.20043</td>\n",
       "      <td>1.20070</td>\n",
       "    </tr>\n",
       "  </tbody>\n",
       "</table>\n",
       "</div>"
      ],
      "text/plain": [
       "                             bid      ask\n",
       "date                                     \n",
       "2018-01-01 22:01:01.051  1.20094  1.20116\n",
       "2018-01-01 22:01:01.158  1.20093  1.20115\n",
       "2018-01-01 22:01:11.676  1.20093  1.20111\n",
       "2018-01-01 22:01:18.116  1.20082  1.20111\n",
       "2018-01-01 22:01:32.023  1.20043  1.20070"
      ]
     },
     "execution_count": 5,
     "metadata": {},
     "output_type": "execute_result"
    }
   ],
   "source": [
    "datos = datos.set_index(pd.to_datetime(datos.iloc[:,0])) #Se indexan los datos por su fecha y hora\n",
    "datos = datos.drop(['date'],axis = 1) #se elimina la columna date\n",
    "datos.head()"
   ]
  },
  {
   "cell_type": "code",
   "execution_count": 6,
   "metadata": {},
   "outputs": [
    {
     "data": {
      "text/plain": [
       "(3949821, 2)"
      ]
     },
     "execution_count": 6,
     "metadata": {},
     "output_type": "execute_result"
    }
   ],
   "source": [
    "#se agrupan los indices según su fecha, como hay fechas repetidas de toma la que primero está\n",
    "datos = datos.groupby(datos.index).first()\n",
    "datos.shape"
   ]
  },
  {
   "cell_type": "code",
   "execution_count": 7,
   "metadata": {},
   "outputs": [
    {
     "data": {
      "text/plain": [
       "array([datetime.date(2018, 1, 1), datetime.date(2018, 1, 2),\n",
       "       datetime.date(2018, 1, 3), datetime.date(2018, 1, 4),\n",
       "       datetime.date(2018, 1, 5), datetime.date(2018, 1, 7),\n",
       "       datetime.date(2018, 1, 8), datetime.date(2018, 1, 9),\n",
       "       datetime.date(2018, 1, 10), datetime.date(2018, 1, 11),\n",
       "       datetime.date(2018, 1, 12), datetime.date(2018, 1, 14),\n",
       "       datetime.date(2018, 1, 15), datetime.date(2018, 1, 16),\n",
       "       datetime.date(2018, 1, 17), datetime.date(2018, 1, 18),\n",
       "       datetime.date(2018, 1, 19), datetime.date(2018, 1, 21),\n",
       "       datetime.date(2018, 1, 22), datetime.date(2018, 1, 23),\n",
       "       datetime.date(2018, 1, 24), datetime.date(2018, 1, 25),\n",
       "       datetime.date(2018, 1, 26), datetime.date(2018, 1, 28),\n",
       "       datetime.date(2018, 1, 29), datetime.date(2018, 1, 30),\n",
       "       datetime.date(2018, 1, 31)], dtype=object)"
      ]
     },
     "execution_count": 7,
     "metadata": {},
     "output_type": "execute_result"
    }
   ],
   "source": [
    "np.unique(datos.index.date)"
   ]
  },
  {
   "cell_type": "code",
   "execution_count": 8,
   "metadata": {
    "scrolled": true
   },
   "outputs": [
    {
     "data": {
      "text/html": [
       "<div>\n",
       "<style>\n",
       "    .dataframe thead tr:only-child th {\n",
       "        text-align: right;\n",
       "    }\n",
       "\n",
       "    .dataframe thead th {\n",
       "        text-align: left;\n",
       "    }\n",
       "\n",
       "    .dataframe tbody tr th {\n",
       "        vertical-align: top;\n",
       "    }\n",
       "</style>\n",
       "<table border=\"1\" class=\"dataframe\">\n",
       "  <thead>\n",
       "    <tr style=\"text-align: right;\">\n",
       "      <th></th>\n",
       "      <th>bid</th>\n",
       "      <th>ask</th>\n",
       "    </tr>\n",
       "    <tr>\n",
       "      <th>date</th>\n",
       "      <th></th>\n",
       "      <th></th>\n",
       "    </tr>\n",
       "  </thead>\n",
       "  <tbody>\n",
       "    <tr>\n",
       "      <th>2018-01-07 22:04:39.310</th>\n",
       "      <td>1.20241</td>\n",
       "      <td>1.20337</td>\n",
       "    </tr>\n",
       "    <tr>\n",
       "      <th>2018-01-07 22:04:45.729</th>\n",
       "      <td>1.20264</td>\n",
       "      <td>1.20314</td>\n",
       "    </tr>\n",
       "    <tr>\n",
       "      <th>2018-01-07 22:04:48.842</th>\n",
       "      <td>1.20267</td>\n",
       "      <td>1.20317</td>\n",
       "    </tr>\n",
       "    <tr>\n",
       "      <th>2018-01-07 22:05:00.332</th>\n",
       "      <td>1.20264</td>\n",
       "      <td>1.20315</td>\n",
       "    </tr>\n",
       "    <tr>\n",
       "      <th>2018-01-07 22:05:05.087</th>\n",
       "      <td>1.20267</td>\n",
       "      <td>1.20315</td>\n",
       "    </tr>\n",
       "    <tr>\n",
       "      <th>2018-01-07 22:05:12.103</th>\n",
       "      <td>1.20276</td>\n",
       "      <td>1.20305</td>\n",
       "    </tr>\n",
       "    <tr>\n",
       "      <th>2018-01-07 22:05:25.843</th>\n",
       "      <td>1.20267</td>\n",
       "      <td>1.20317</td>\n",
       "    </tr>\n",
       "    <tr>\n",
       "      <th>2018-01-07 22:05:27.704</th>\n",
       "      <td>1.20267</td>\n",
       "      <td>1.20296</td>\n",
       "    </tr>\n",
       "    <tr>\n",
       "      <th>2018-01-07 22:05:27.712</th>\n",
       "      <td>1.20269</td>\n",
       "      <td>1.20298</td>\n",
       "    </tr>\n",
       "    <tr>\n",
       "      <th>2018-01-07 22:05:33.918</th>\n",
       "      <td>1.20268</td>\n",
       "      <td>1.20297</td>\n",
       "    </tr>\n",
       "    <tr>\n",
       "      <th>2018-01-07 22:05:40.277</th>\n",
       "      <td>1.20271</td>\n",
       "      <td>1.20300</td>\n",
       "    </tr>\n",
       "    <tr>\n",
       "      <th>2018-01-07 22:05:55.020</th>\n",
       "      <td>1.20269</td>\n",
       "      <td>1.20298</td>\n",
       "    </tr>\n",
       "    <tr>\n",
       "      <th>2018-01-07 22:05:55.983</th>\n",
       "      <td>1.20271</td>\n",
       "      <td>1.20299</td>\n",
       "    </tr>\n",
       "    <tr>\n",
       "      <th>2018-01-07 22:05:55.985</th>\n",
       "      <td>1.20272</td>\n",
       "      <td>1.20301</td>\n",
       "    </tr>\n",
       "    <tr>\n",
       "      <th>2018-01-07 22:06:01.071</th>\n",
       "      <td>1.20271</td>\n",
       "      <td>1.20300</td>\n",
       "    </tr>\n",
       "    <tr>\n",
       "      <th>2018-01-07 22:06:01.984</th>\n",
       "      <td>1.20272</td>\n",
       "      <td>1.20285</td>\n",
       "    </tr>\n",
       "    <tr>\n",
       "      <th>2018-01-07 22:06:03.693</th>\n",
       "      <td>1.20274</td>\n",
       "      <td>1.20287</td>\n",
       "    </tr>\n",
       "    <tr>\n",
       "      <th>2018-01-07 22:06:04.772</th>\n",
       "      <td>1.20291</td>\n",
       "      <td>1.20293</td>\n",
       "    </tr>\n",
       "    <tr>\n",
       "      <th>2018-01-07 22:06:04.778</th>\n",
       "      <td>1.20291</td>\n",
       "      <td>1.20301</td>\n",
       "    </tr>\n",
       "    <tr>\n",
       "      <th>2018-01-07 22:06:04.783</th>\n",
       "      <td>1.20292</td>\n",
       "      <td>1.20301</td>\n",
       "    </tr>\n",
       "    <tr>\n",
       "      <th>2018-01-07 22:06:04.838</th>\n",
       "      <td>1.20293</td>\n",
       "      <td>1.20301</td>\n",
       "    </tr>\n",
       "    <tr>\n",
       "      <th>2018-01-07 22:06:04.897</th>\n",
       "      <td>1.20295</td>\n",
       "      <td>1.20301</td>\n",
       "    </tr>\n",
       "    <tr>\n",
       "      <th>2018-01-07 22:06:04.903</th>\n",
       "      <td>1.20284</td>\n",
       "      <td>1.20301</td>\n",
       "    </tr>\n",
       "    <tr>\n",
       "      <th>2018-01-07 22:06:05.174</th>\n",
       "      <td>1.20285</td>\n",
       "      <td>1.20309</td>\n",
       "    </tr>\n",
       "    <tr>\n",
       "      <th>2018-01-07 22:06:05.179</th>\n",
       "      <td>1.20285</td>\n",
       "      <td>1.20314</td>\n",
       "    </tr>\n",
       "    <tr>\n",
       "      <th>2018-01-07 22:06:05.346</th>\n",
       "      <td>1.20272</td>\n",
       "      <td>1.20314</td>\n",
       "    </tr>\n",
       "    <tr>\n",
       "      <th>2018-01-07 22:06:05.401</th>\n",
       "      <td>1.20274</td>\n",
       "      <td>1.20316</td>\n",
       "    </tr>\n",
       "    <tr>\n",
       "      <th>2018-01-07 22:06:10.940</th>\n",
       "      <td>1.20272</td>\n",
       "      <td>1.20309</td>\n",
       "    </tr>\n",
       "    <tr>\n",
       "      <th>2018-01-07 22:06:12.317</th>\n",
       "      <td>1.20272</td>\n",
       "      <td>1.20301</td>\n",
       "    </tr>\n",
       "    <tr>\n",
       "      <th>2018-01-07 22:06:21.503</th>\n",
       "      <td>1.20272</td>\n",
       "      <td>1.20306</td>\n",
       "    </tr>\n",
       "    <tr>\n",
       "      <th>...</th>\n",
       "      <td>...</td>\n",
       "      <td>...</td>\n",
       "    </tr>\n",
       "    <tr>\n",
       "      <th>2018-01-07 23:57:33.204</th>\n",
       "      <td>1.20370</td>\n",
       "      <td>1.20373</td>\n",
       "    </tr>\n",
       "    <tr>\n",
       "      <th>2018-01-07 23:57:50.579</th>\n",
       "      <td>1.20371</td>\n",
       "      <td>1.20373</td>\n",
       "    </tr>\n",
       "    <tr>\n",
       "      <th>2018-01-07 23:57:50.691</th>\n",
       "      <td>1.20370</td>\n",
       "      <td>1.20373</td>\n",
       "    </tr>\n",
       "    <tr>\n",
       "      <th>2018-01-07 23:58:16.771</th>\n",
       "      <td>1.20371</td>\n",
       "      <td>1.20373</td>\n",
       "    </tr>\n",
       "    <tr>\n",
       "      <th>2018-01-07 23:58:22.128</th>\n",
       "      <td>1.20370</td>\n",
       "      <td>1.20373</td>\n",
       "    </tr>\n",
       "    <tr>\n",
       "      <th>2018-01-07 23:58:22.236</th>\n",
       "      <td>1.20370</td>\n",
       "      <td>1.20374</td>\n",
       "    </tr>\n",
       "    <tr>\n",
       "      <th>2018-01-07 23:58:24.309</th>\n",
       "      <td>1.20370</td>\n",
       "      <td>1.20373</td>\n",
       "    </tr>\n",
       "    <tr>\n",
       "      <th>2018-01-07 23:58:25.891</th>\n",
       "      <td>1.20371</td>\n",
       "      <td>1.20373</td>\n",
       "    </tr>\n",
       "    <tr>\n",
       "      <th>2018-01-07 23:58:26.587</th>\n",
       "      <td>1.20371</td>\n",
       "      <td>1.20374</td>\n",
       "    </tr>\n",
       "    <tr>\n",
       "      <th>2018-01-07 23:58:29.888</th>\n",
       "      <td>1.20371</td>\n",
       "      <td>1.20373</td>\n",
       "    </tr>\n",
       "    <tr>\n",
       "      <th>2018-01-07 23:58:34.898</th>\n",
       "      <td>1.20372</td>\n",
       "      <td>1.20373</td>\n",
       "    </tr>\n",
       "    <tr>\n",
       "      <th>2018-01-07 23:58:36.279</th>\n",
       "      <td>1.20371</td>\n",
       "      <td>1.20373</td>\n",
       "    </tr>\n",
       "    <tr>\n",
       "      <th>2018-01-07 23:58:46.949</th>\n",
       "      <td>1.20372</td>\n",
       "      <td>1.20373</td>\n",
       "    </tr>\n",
       "    <tr>\n",
       "      <th>2018-01-07 23:58:51.180</th>\n",
       "      <td>1.20371</td>\n",
       "      <td>1.20375</td>\n",
       "    </tr>\n",
       "    <tr>\n",
       "      <th>2018-01-07 23:59:07.239</th>\n",
       "      <td>1.20371</td>\n",
       "      <td>1.20373</td>\n",
       "    </tr>\n",
       "    <tr>\n",
       "      <th>2018-01-07 23:59:12.703</th>\n",
       "      <td>1.20372</td>\n",
       "      <td>1.20373</td>\n",
       "    </tr>\n",
       "    <tr>\n",
       "      <th>2018-01-07 23:59:14.117</th>\n",
       "      <td>1.20371</td>\n",
       "      <td>1.20373</td>\n",
       "    </tr>\n",
       "    <tr>\n",
       "      <th>2018-01-07 23:59:21.747</th>\n",
       "      <td>1.20371</td>\n",
       "      <td>1.20375</td>\n",
       "    </tr>\n",
       "    <tr>\n",
       "      <th>2018-01-07 23:59:23.728</th>\n",
       "      <td>1.20371</td>\n",
       "      <td>1.20376</td>\n",
       "    </tr>\n",
       "    <tr>\n",
       "      <th>2018-01-07 23:59:24.204</th>\n",
       "      <td>1.20371</td>\n",
       "      <td>1.20373</td>\n",
       "    </tr>\n",
       "    <tr>\n",
       "      <th>2018-01-07 23:59:25.517</th>\n",
       "      <td>1.20372</td>\n",
       "      <td>1.20373</td>\n",
       "    </tr>\n",
       "    <tr>\n",
       "      <th>2018-01-07 23:59:27.037</th>\n",
       "      <td>1.20371</td>\n",
       "      <td>1.20373</td>\n",
       "    </tr>\n",
       "    <tr>\n",
       "      <th>2018-01-07 23:59:30.627</th>\n",
       "      <td>1.20372</td>\n",
       "      <td>1.20373</td>\n",
       "    </tr>\n",
       "    <tr>\n",
       "      <th>2018-01-07 23:59:38.287</th>\n",
       "      <td>1.20371</td>\n",
       "      <td>1.20375</td>\n",
       "    </tr>\n",
       "    <tr>\n",
       "      <th>2018-01-07 23:59:42.675</th>\n",
       "      <td>1.20371</td>\n",
       "      <td>1.20376</td>\n",
       "    </tr>\n",
       "    <tr>\n",
       "      <th>2018-01-07 23:59:46.239</th>\n",
       "      <td>1.20371</td>\n",
       "      <td>1.20373</td>\n",
       "    </tr>\n",
       "    <tr>\n",
       "      <th>2018-01-07 23:59:48.341</th>\n",
       "      <td>1.20370</td>\n",
       "      <td>1.20373</td>\n",
       "    </tr>\n",
       "    <tr>\n",
       "      <th>2018-01-07 23:59:48.447</th>\n",
       "      <td>1.20371</td>\n",
       "      <td>1.20373</td>\n",
       "    </tr>\n",
       "    <tr>\n",
       "      <th>2018-01-07 23:59:54.042</th>\n",
       "      <td>1.20372</td>\n",
       "      <td>1.20373</td>\n",
       "    </tr>\n",
       "    <tr>\n",
       "      <th>2018-01-07 23:59:56.771</th>\n",
       "      <td>1.20371</td>\n",
       "      <td>1.20373</td>\n",
       "    </tr>\n",
       "  </tbody>\n",
       "</table>\n",
       "<p>4432 rows × 2 columns</p>\n",
       "</div>"
      ],
      "text/plain": [
       "                             bid      ask\n",
       "date                                     \n",
       "2018-01-07 22:04:39.310  1.20241  1.20337\n",
       "2018-01-07 22:04:45.729  1.20264  1.20314\n",
       "2018-01-07 22:04:48.842  1.20267  1.20317\n",
       "2018-01-07 22:05:00.332  1.20264  1.20315\n",
       "2018-01-07 22:05:05.087  1.20267  1.20315\n",
       "2018-01-07 22:05:12.103  1.20276  1.20305\n",
       "2018-01-07 22:05:25.843  1.20267  1.20317\n",
       "2018-01-07 22:05:27.704  1.20267  1.20296\n",
       "2018-01-07 22:05:27.712  1.20269  1.20298\n",
       "2018-01-07 22:05:33.918  1.20268  1.20297\n",
       "2018-01-07 22:05:40.277  1.20271  1.20300\n",
       "2018-01-07 22:05:55.020  1.20269  1.20298\n",
       "2018-01-07 22:05:55.983  1.20271  1.20299\n",
       "2018-01-07 22:05:55.985  1.20272  1.20301\n",
       "2018-01-07 22:06:01.071  1.20271  1.20300\n",
       "2018-01-07 22:06:01.984  1.20272  1.20285\n",
       "2018-01-07 22:06:03.693  1.20274  1.20287\n",
       "2018-01-07 22:06:04.772  1.20291  1.20293\n",
       "2018-01-07 22:06:04.778  1.20291  1.20301\n",
       "2018-01-07 22:06:04.783  1.20292  1.20301\n",
       "2018-01-07 22:06:04.838  1.20293  1.20301\n",
       "2018-01-07 22:06:04.897  1.20295  1.20301\n",
       "2018-01-07 22:06:04.903  1.20284  1.20301\n",
       "2018-01-07 22:06:05.174  1.20285  1.20309\n",
       "2018-01-07 22:06:05.179  1.20285  1.20314\n",
       "2018-01-07 22:06:05.346  1.20272  1.20314\n",
       "2018-01-07 22:06:05.401  1.20274  1.20316\n",
       "2018-01-07 22:06:10.940  1.20272  1.20309\n",
       "2018-01-07 22:06:12.317  1.20272  1.20301\n",
       "2018-01-07 22:06:21.503  1.20272  1.20306\n",
       "...                          ...      ...\n",
       "2018-01-07 23:57:33.204  1.20370  1.20373\n",
       "2018-01-07 23:57:50.579  1.20371  1.20373\n",
       "2018-01-07 23:57:50.691  1.20370  1.20373\n",
       "2018-01-07 23:58:16.771  1.20371  1.20373\n",
       "2018-01-07 23:58:22.128  1.20370  1.20373\n",
       "2018-01-07 23:58:22.236  1.20370  1.20374\n",
       "2018-01-07 23:58:24.309  1.20370  1.20373\n",
       "2018-01-07 23:58:25.891  1.20371  1.20373\n",
       "2018-01-07 23:58:26.587  1.20371  1.20374\n",
       "2018-01-07 23:58:29.888  1.20371  1.20373\n",
       "2018-01-07 23:58:34.898  1.20372  1.20373\n",
       "2018-01-07 23:58:36.279  1.20371  1.20373\n",
       "2018-01-07 23:58:46.949  1.20372  1.20373\n",
       "2018-01-07 23:58:51.180  1.20371  1.20375\n",
       "2018-01-07 23:59:07.239  1.20371  1.20373\n",
       "2018-01-07 23:59:12.703  1.20372  1.20373\n",
       "2018-01-07 23:59:14.117  1.20371  1.20373\n",
       "2018-01-07 23:59:21.747  1.20371  1.20375\n",
       "2018-01-07 23:59:23.728  1.20371  1.20376\n",
       "2018-01-07 23:59:24.204  1.20371  1.20373\n",
       "2018-01-07 23:59:25.517  1.20372  1.20373\n",
       "2018-01-07 23:59:27.037  1.20371  1.20373\n",
       "2018-01-07 23:59:30.627  1.20372  1.20373\n",
       "2018-01-07 23:59:38.287  1.20371  1.20375\n",
       "2018-01-07 23:59:42.675  1.20371  1.20376\n",
       "2018-01-07 23:59:46.239  1.20371  1.20373\n",
       "2018-01-07 23:59:48.341  1.20370  1.20373\n",
       "2018-01-07 23:59:48.447  1.20371  1.20373\n",
       "2018-01-07 23:59:54.042  1.20372  1.20373\n",
       "2018-01-07 23:59:56.771  1.20371  1.20373\n",
       "\n",
       "[4432 rows x 2 columns]"
      ]
     },
     "execution_count": 8,
     "metadata": {},
     "output_type": "execute_result"
    }
   ],
   "source": [
    "datos['2018-1-7']"
   ]
  },
  {
   "cell_type": "code",
   "execution_count": 9,
   "metadata": {
    "scrolled": true
   },
   "outputs": [
    {
     "data": {
      "text/plain": [
       "Timedelta('0 days 01:55:18')"
      ]
     },
     "execution_count": 9,
     "metadata": {},
     "output_type": "execute_result"
    }
   ],
   "source": [
    "pd.Timedelta(hours=23,minutes=59,seconds=56) - pd.Timedelta(hours=22,minutes=4,seconds=38)"
   ]
  },
  {
   "cell_type": "code",
   "execution_count": 10,
   "metadata": {
    "collapsed": true
   },
   "outputs": [],
   "source": [
    "#para correr los dias, quedan 5 bussines day\n",
    "datos.index = datos.index + pd.Timedelta(hours=1, minutes=56, seconds=54)"
   ]
  },
  {
   "cell_type": "code",
   "execution_count": 11,
   "metadata": {},
   "outputs": [
    {
     "data": {
      "text/html": [
       "<div>\n",
       "<style>\n",
       "    .dataframe thead tr:only-child th {\n",
       "        text-align: right;\n",
       "    }\n",
       "\n",
       "    .dataframe thead th {\n",
       "        text-align: left;\n",
       "    }\n",
       "\n",
       "    .dataframe tbody tr th {\n",
       "        vertical-align: top;\n",
       "    }\n",
       "</style>\n",
       "<table border=\"1\" class=\"dataframe\">\n",
       "  <thead>\n",
       "    <tr style=\"text-align: right;\">\n",
       "      <th></th>\n",
       "      <th>bid</th>\n",
       "      <th>ask</th>\n",
       "    </tr>\n",
       "    <tr>\n",
       "      <th>date</th>\n",
       "      <th></th>\n",
       "      <th></th>\n",
       "    </tr>\n",
       "  </thead>\n",
       "  <tbody>\n",
       "    <tr>\n",
       "      <th>2018-01-01 23:57:55.051</th>\n",
       "      <td>1.20094</td>\n",
       "      <td>1.20116</td>\n",
       "    </tr>\n",
       "    <tr>\n",
       "      <th>2018-01-01 23:57:55.158</th>\n",
       "      <td>1.20093</td>\n",
       "      <td>1.20115</td>\n",
       "    </tr>\n",
       "    <tr>\n",
       "      <th>2018-01-01 23:58:05.676</th>\n",
       "      <td>1.20093</td>\n",
       "      <td>1.20111</td>\n",
       "    </tr>\n",
       "    <tr>\n",
       "      <th>2018-01-01 23:58:12.116</th>\n",
       "      <td>1.20082</td>\n",
       "      <td>1.20111</td>\n",
       "    </tr>\n",
       "    <tr>\n",
       "      <th>2018-01-01 23:58:26.023</th>\n",
       "      <td>1.20043</td>\n",
       "      <td>1.20070</td>\n",
       "    </tr>\n",
       "  </tbody>\n",
       "</table>\n",
       "</div>"
      ],
      "text/plain": [
       "                             bid      ask\n",
       "date                                     \n",
       "2018-01-01 23:57:55.051  1.20094  1.20116\n",
       "2018-01-01 23:57:55.158  1.20093  1.20115\n",
       "2018-01-01 23:58:05.676  1.20093  1.20111\n",
       "2018-01-01 23:58:12.116  1.20082  1.20111\n",
       "2018-01-01 23:58:26.023  1.20043  1.20070"
      ]
     },
     "execution_count": 11,
     "metadata": {},
     "output_type": "execute_result"
    }
   ],
   "source": [
    "datos.head()"
   ]
  },
  {
   "cell_type": "code",
   "execution_count": 12,
   "metadata": {},
   "outputs": [
    {
     "data": {
      "text/plain": [
       "array([datetime.date(2018, 1, 1), datetime.date(2018, 1, 2),\n",
       "       datetime.date(2018, 1, 3), datetime.date(2018, 1, 4),\n",
       "       datetime.date(2018, 1, 5), datetime.date(2018, 1, 8),\n",
       "       datetime.date(2018, 1, 9), datetime.date(2018, 1, 10),\n",
       "       datetime.date(2018, 1, 11), datetime.date(2018, 1, 12),\n",
       "       datetime.date(2018, 1, 15), datetime.date(2018, 1, 16),\n",
       "       datetime.date(2018, 1, 17), datetime.date(2018, 1, 18),\n",
       "       datetime.date(2018, 1, 19), datetime.date(2018, 1, 22),\n",
       "       datetime.date(2018, 1, 23), datetime.date(2018, 1, 24),\n",
       "       datetime.date(2018, 1, 25), datetime.date(2018, 1, 26),\n",
       "       datetime.date(2018, 1, 29), datetime.date(2018, 1, 30),\n",
       "       datetime.date(2018, 1, 31), datetime.date(2018, 2, 1)], dtype=object)"
      ]
     },
     "execution_count": 12,
     "metadata": {},
     "output_type": "execute_result"
    }
   ],
   "source": [
    "np.unique(datos.index.date)"
   ]
  },
  {
   "cell_type": "code",
   "execution_count": 13,
   "metadata": {},
   "outputs": [
    {
     "name": "stdout",
     "output_type": "stream",
     "text": [
      "(259915, 2)\n"
     ]
    },
    {
     "data": {
      "text/html": [
       "<div>\n",
       "<style>\n",
       "    .dataframe thead tr:only-child th {\n",
       "        text-align: right;\n",
       "    }\n",
       "\n",
       "    .dataframe thead th {\n",
       "        text-align: left;\n",
       "    }\n",
       "\n",
       "    .dataframe tbody tr th {\n",
       "        vertical-align: top;\n",
       "    }\n",
       "</style>\n",
       "<table border=\"1\" class=\"dataframe\">\n",
       "  <thead>\n",
       "    <tr style=\"text-align: right;\">\n",
       "      <th></th>\n",
       "      <th>bid</th>\n",
       "      <th>ask</th>\n",
       "    </tr>\n",
       "    <tr>\n",
       "      <th>date</th>\n",
       "      <th></th>\n",
       "      <th></th>\n",
       "    </tr>\n",
       "  </thead>\n",
       "  <tbody>\n",
       "    <tr>\n",
       "      <th>2018-01-01 23:58:00</th>\n",
       "      <td>1.20093</td>\n",
       "      <td>1.20115</td>\n",
       "    </tr>\n",
       "    <tr>\n",
       "      <th>2018-01-01 23:58:10</th>\n",
       "      <td>1.20093</td>\n",
       "      <td>1.20111</td>\n",
       "    </tr>\n",
       "    <tr>\n",
       "      <th>2018-01-01 23:58:20</th>\n",
       "      <td>1.20082</td>\n",
       "      <td>1.20111</td>\n",
       "    </tr>\n",
       "    <tr>\n",
       "      <th>2018-01-01 23:58:30</th>\n",
       "      <td>1.20043</td>\n",
       "      <td>1.20110</td>\n",
       "    </tr>\n",
       "    <tr>\n",
       "      <th>2018-01-01 23:58:40</th>\n",
       "      <td>NaN</td>\n",
       "      <td>NaN</td>\n",
       "    </tr>\n",
       "  </tbody>\n",
       "</table>\n",
       "</div>"
      ],
      "text/plain": [
       "                         bid      ask\n",
       "date                                 \n",
       "2018-01-01 23:58:00  1.20093  1.20115\n",
       "2018-01-01 23:58:10  1.20093  1.20111\n",
       "2018-01-01 23:58:20  1.20082  1.20111\n",
       "2018-01-01 23:58:30  1.20043  1.20110\n",
       "2018-01-01 23:58:40      NaN      NaN"
      ]
     },
     "execution_count": 13,
     "metadata": {},
     "output_type": "execute_result"
    }
   ],
   "source": [
    "#se muestrean en intervalos de 10s\n",
    "datos = datos.resample('10s', loffset='10s').last() #se coge el último valor de muestreo de los 10s\n",
    "print(datos.shape)\n",
    "datos.head()"
   ]
  },
  {
   "cell_type": "code",
   "execution_count": 15,
   "metadata": {
    "collapsed": true
   },
   "outputs": [],
   "source": [
    "datos = datos.drop(datos['2018-02-1'].index) #se elimina el día del siguiente mes"
   ]
  },
  {
   "cell_type": "code",
   "execution_count": 16,
   "metadata": {},
   "outputs": [
    {
     "data": {
      "image/png": "[encoded data removed]",
      "text/plain": [
       "<matplotlib.figure.Figure at 0x7f36adfefe80>"
      ]
     },
     "metadata": {},
     "output_type": "display_data"
    }
   ],
   "source": [
    "plt.figure(figsize=(15,5))\n",
    "plt.title('Bid')\n",
    "plt.xlabel('time 10s')\n",
    "plt.ylabel('Bid')\n",
    "plt.plot(np.arange(datos.shape[0]), datos.iloc[:,0],color='blue',alpha=0.6, label='Bid')\n",
    "plt.legend();"
   ]
  },
  {
   "cell_type": "code",
   "execution_count": 17,
   "metadata": {},
   "outputs": [
    {
     "name": "stdout",
     "output_type": "stream",
     "text": [
      "datos nan\n",
      "------------\n",
      "bid    75677\n",
      "ask    75677\n",
      "dtype: int64\n"
     ]
    }
   ],
   "source": [
    "print('datos nan')\n",
    "print('------------')\n",
    "print(np.sum(pd.isnull(datos)*1))"
   ]
  },
  {
   "cell_type": "code",
   "execution_count": 18,
   "metadata": {},
   "outputs": [
    {
     "name": "stdout",
     "output_type": "stream",
     "text": [
      "(183535, 2)\n"
     ]
    }
   ],
   "source": [
    "datos = datos.dropna() #se eliminan los nan\n",
    "print(datos.shape)"
   ]
  },
  {
   "cell_type": "code",
   "execution_count": 19,
   "metadata": {
    "collapsed": true
   },
   "outputs": [],
   "source": [
    "#guardar el data set pre-procesado\n",
    "datos.to_csv('../data/TrueFX/EUR-USD/datos_procesados_EURUSD-2018-01.csv')"
   ]
  },
  {
   "cell_type": "code",
   "execution_count": null,
   "metadata": {
    "collapsed": true
   },
   "outputs": [],
   "source": []
  },
  {
   "cell_type": "code",
   "execution_count": null,
   "metadata": {
    "collapsed": true
   },
   "outputs": [],
   "source": []
  },
  {
   "cell_type": "code",
   "execution_count": null,
   "metadata": {
    "collapsed": true
   },
   "outputs": [],
   "source": []
  },
  {
   "cell_type": "code",
   "execution_count": null,
   "metadata": {
    "collapsed": true
   },
   "outputs": [],
   "source": [
    "k = datos.groupby(datos.index).count()\n",
    "print (k.shape)\n",
    "k.bid.value_counts().\n"
   ]
  },
  {
   "cell_type": "code",
   "execution_count": null,
   "metadata": {
    "collapsed": true
   },
   "outputs": [],
   "source": []
  }
 ],
 "metadata": {
  "kernelspec": {
   "display_name": "Python 3",
   "language": "python",
   "name": "python3"
  },
  "language_info": {
   "codemirror_mode": {
    "name": "ipython",
    "version": 3
   },
   "file_extension": ".py",
   "mimetype": "text/x-python",
   "name": "python",
   "nbconvert_exporter": "python",
   "pygments_lexer": "ipython3",
   "version": "3.6.2"
  }
 },
 "nbformat": 4,
 "nbformat_minor": 2
}
