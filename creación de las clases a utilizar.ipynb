{
 "cells": [
  {
   "cell_type": "code",
   "execution_count": 1,
   "metadata": {
    "collapsed": true
   },
   "outputs": [],
   "source": [
    "class EUtilities:\n",
    "        \n",
    "    def build_dataset(df, window, binary_target=False, delete_constant_values=True, PNL=False):\n",
    "        \"\"\"\n",
    "        función para construir un data set\n",
    "        window: tamaño de la ventana a utilizar para construir el dataset\n",
    "        df: dataframe, con columna bid y ask.\n",
    "        binary_target: si desea clasificar, este arroja 2 si el valor se mantiene,\n",
    "        1 si el valor sube y 0 si este baja.\n",
    "        delete_constant_values: default: True, elimina los valores que se mantienen\n",
    "\n",
    "        retorna:\n",
    "        X: dataset, con columna de PNL si así se especifica(default: False)\n",
    "        y: target\n",
    "        bt: binary target, default: False\n",
    "        \"\"\"\n",
    "\n",
    "        import pandas as pd\n",
    "        import numpy as np\n",
    "        result = []\n",
    "        binary = [] #para la columna objetivo binaria\n",
    "        pnl_buy = [] #almacenar el pnl en caso de compra\n",
    "        pnl_sell = [] #almacenar el pnl en caso de venta\n",
    "        signal = df.bid\n",
    "        ask = df.ask\n",
    "        indx = signal.index[window-1:-1] #se toman los indicen que quedarán al final\n",
    "        for i in range(len(signal)-window):\n",
    "\n",
    "            if delete_constant_values == True:\n",
    "                if signal[i+window] != signal[i+window-1]:\n",
    "\n",
    "                    result.append(signal[i: i + window+1])\n",
    "                    if PNL == True: \n",
    "                        pnl_sell.append(signal[i+window-1] - ask[i+window]) #calcular pnl en caso de venta-compra\n",
    "                        pnl_buy.append(signal[i+window] - ask[i+window-1]) #calcular pnl en caso de compra-venta\n",
    "\n",
    "                    if binary_target == True:\n",
    "                        if signal[i+window] < signal[i+window-1]: \n",
    "                            if (signal[i+window-1] - ask[i+window]) > 0: binary.append(0) # 0 si baja y gano\n",
    "                            else: binary.append(2) # 2 si baja pero pierdo\n",
    "\n",
    "                        if signal[i+window] > signal[i+window-1]: # 1 si sube\n",
    "                            if (signal[i+window] - ask[i+window-1]) > 0: binary.append(1) # 1 si sube y gano\n",
    "                            else: binary.append(3) # 3 si sube pero pierdo\n",
    "\n",
    "                else: indx = indx.delete(len(result))\n",
    "\n",
    "            else:\n",
    "\n",
    "                result.append(signal[i: i + window+1])\n",
    "                if PNL == True:\n",
    "                    pnl_sell.append(signal[i+window-1] - ask[i+window]) #calcular pnl en caso de venta-compra\n",
    "                    pnl_buy.append(signal[i+window] - ask[i+window-1]) #calcular pnl en caso de compra-venta\n",
    "\n",
    "            if binary_target == True and delete_constant_values == False:\n",
    "                if signal[i+window] == signal[i+window-1]: binary.append(4) # 2 si se mantiene\n",
    "\n",
    "                if signal[i+window] < signal[i+window-1]:\n",
    "                    if (signal[i+window-1] - ask[i+window]) > 0: binary.append(0) # 0 si baja y gano\n",
    "                    else: binary.append(2) # 2 si baja pero pierdo\n",
    "\n",
    "                if signal[i+window] > signal[i+window-1]:\n",
    "                    if (signal[i+window] - ask[i+window-1]) > 0: binary.append(1) # 1 si sube y gano\n",
    "                    else: binary.append(3) # 3 si sube pero pierdo\n",
    "\n",
    "        data = pd.DataFrame(np.array(result), index=indx)\n",
    "        y = np.array(data.iloc[:,window])\n",
    "        data = data.drop(window,axis=1)\n",
    "        if PNL == True:\n",
    "            data['PNL_0'] = pnl_sell\n",
    "            data['PNL_1'] = pnl_buy \n",
    "        if binary_target == True: return data, y, np.array(binary)\n",
    "        else: return data, y\n",
    "    \n",
    "    #para crear señales multiples\n",
    "    \n",
    "    def multi_signal(s_A, s_B):\n",
    "        \"\"\"\n",
    "        dada dos señales s_A y s_B, se obtiene una multiseñal donde la\n",
    "        señal que predomina para la contrucción es s_A\n",
    "        \"\"\"\n",
    "        import pandas as pd\n",
    "        import numpy as np\n",
    "        #saco los valores que si están en el mismo instante de tiempo\n",
    "        #se filtra la señal s_B por los indices que tiene s_A\n",
    "        values = s_B.filter(items=s_A.index, axis=0)\n",
    "        #inserto una columa llena de ceros para posteriormente colocar ahi los valores a utilizar\n",
    "        s_A.insert(loc=2, column=s_B.columns[0]+'new', value=np.zeros((s_A.shape[0],1)))\n",
    "        #llenamos con los datos\n",
    "        s_A.loc[values.index,s_B.columns[0]+'new'] = values.loc[values.index,values.columns[0]]\n",
    "        #llenamos los ceros\n",
    "        s_A.loc[s_A.loc[s_A.index,s_B.columns[0]+'new']==0, s_B.columns[0]+'new'] = s_A.loc[s_A.loc[s_A.index,s_B.columns[0]+'new']==0,s_A.columns[0]]\n",
    "\n",
    "        return s_A\n",
    "\n",
    "    #redimensionar la salida del score\n",
    "    \n",
    "    def redim(signal):\n",
    "        '''\n",
    "        recibe un array plano el cual convierte en dos salidas,\n",
    "        en una de estas se encuentran los resultados pertinentes\n",
    "        a medir con el PNL y en el otro las predicciones.\n",
    "        '''\n",
    "        import numpy as np\n",
    "        result = signal[:,0][0]\n",
    "        predict = np.array(signal[:,1][0],dtype=np.float16)\n",
    "        for i in range(1,len(signal)):\n",
    "            result = np.concatenate((result,signal[:,0][i]))\n",
    "            predict = np.concatenate((predict,signal[:,1][i]))\n",
    "        result = result.reshape((len(signal),signal[:,0][0].shape[0]))\n",
    "        return result, predict\n",
    "\n",
    "   #para hacer una validación por pasos\n",
    "    \n",
    "    def step_validation(estimator, X, y, cv):\n",
    "        '''\n",
    "        Recibe el estimador,X,y, y un generador cv con el cual hace la validación\n",
    "        dependiendo que la configuración que este tenga\n",
    "        '''\n",
    "        import numpy as np\n",
    "        result = []\n",
    "        for index in cv:\n",
    "            estimator.fit(X.iloc[index[0]], y[index[0]])\n",
    "            result.append(estimator.score(X.iloc[index[1]], y[index[1]]))\n",
    "        return np.array(result)\n",
    "\n",
    "    #particiona el dataset para sacar los indices para la validación por pasos\n",
    "    \n",
    "    def v_split(X, n_bdtrain, n_bdtest, mday):\n",
    "\n",
    "        \"\"\"\"\n",
    "        Hace un particionado del dataset, para tomar n_bdtrain días para entrenar\n",
    "        y n_bdtest para probar, además, mday representa el paso de día a correr.\n",
    "        X, dataframe, se necesita el indice de este para separar por días.\n",
    "        n_bdtrain, número de bussines day utilizados para train.\n",
    "        n_bdtest, número de bussines day utilizados para test.\n",
    "        mday, días a correr para cada validación.\n",
    "\n",
    "        \"\"\"\n",
    "        import pandas as pd\n",
    "        import numpy as np\n",
    "        from datetime import date\n",
    "        start_day = 0\n",
    "\n",
    "        #Divide el data set según días de train, test y cuanto se va moviendo\n",
    "        bussines_day = []\n",
    "        dates = pd.unique(X.index.date) #saco las fechas para luego tomar solo año-mes-día\n",
    "\n",
    "        for i in dates: bussines_day.append(date.__format__(i,'%Y-%m-%d')) #lista de los bussines day\n",
    "\n",
    "        intervals = []\n",
    "        count = 0\n",
    "        for i in bussines_day:\n",
    "            f = len(X[i])-1 +count\n",
    "            intervals.append([count,f])\n",
    "            count = f+1\n",
    "\n",
    "        for i in range(len(intervals)-n_bdtrain):\n",
    "            yield(np.arange(intervals[start_day:start_day+n_bdtrain][0][0],\n",
    "                            intervals[start_day:start_day+n_bdtrain][n_bdtrain-1][1]+1),\n",
    "                  np.arange(intervals[n_bdtrain+start_day:n_bdtrain+start_day+n_bdtest][0][0],\n",
    "                            intervals[n_bdtrain+start_day:n_bdtrain+start_day+n_bdtest][n_bdtest-1][1]+1))\n",
    "\n",
    "            start_day += mday\n",
    "            if start_day+n_bdtest > len(intervals)-n_bdtrain:\n",
    "                break\n"
   ]
  },
  {
   "cell_type": "code",
   "execution_count": 35,
   "metadata": {
    "collapsed": true
   },
   "outputs": [],
   "source": [
    "%run code/PNLEstimatorWrapper.py"
   ]
  },
  {
   "cell_type": "code",
   "execution_count": 23,
   "metadata": {
    "collapsed": true
   },
   "outputs": [],
   "source": [
    "obj = EUtilities"
   ]
  },
  {
   "cell_type": "code",
   "execution_count": 40,
   "metadata": {
    "collapsed": true
   },
   "outputs": [],
   "source": [
    "#Se lee la señal correspondiente a GBP vs USD para el mes de enero de 2018\n",
    "data_GBPvsUSD = pd.read_csv(\"./data/TrueFX/GBP-USD/GBPUSD-preprocesado-2018-01.csv\", index_col=0\n",
    "                            ,infer_datetime_format=True, parse_dates=True )\n",
    "\n",
    "#Se lee la señal correspondiente a EUR vs USD para el mes de enero de 2018\n",
    "data_EURvsUSD = pd.read_csv(\"./data/TrueFX/EUR-USD/datos_procesados_EURUSD-2018-01.csv\", index_col=0\n",
    "                            ,infer_datetime_format=True, parse_dates=True )"
   ]
  },
  {
   "cell_type": "code",
   "execution_count": 41,
   "metadata": {
    "collapsed": true
   },
   "outputs": [],
   "source": [
    "data_GBPvsUSD = obj.multi_signal(data_GBPvsUSD,data_EURvsUSD)"
   ]
  },
  {
   "cell_type": "code",
   "execution_count": 42,
   "metadata": {
    "collapsed": true
   },
   "outputs": [],
   "source": [
    "#los datos de el par GBP/USD para luego unirlos y formar los datos X para entrenar\n",
    "X_GBPUSD, y_GBPUSD, bt_GBPUSD = obj.build_dataset(data_GBPvsUSD.iloc[:,0],window=3,binary_target=True,PNL=True)\n",
    "#los datos de el par EUR/USD \"\"\n",
    "X_EURUSD,_ = obj.build_dataset(data_GBPvsUSD.iloc[:,2],window=3,delete_constant_values=True)"
   ]
  },
  {
   "cell_type": "code",
   "execution_count": 43,
   "metadata": {},
   "outputs": [
    {
     "data": {
      "text/plain": [
       "((160804, 3), (160804, 4))"
      ]
     },
     "execution_count": 43,
     "metadata": {},
     "output_type": "execute_result"
    }
   ],
   "source": [
    "X_EURUSD = X_EURUSD.loc[X_GBPUSD.index]\n",
    "X_EURUSD.shape, X_GBPUSD.shape"
   ]
  },
  {
   "cell_type": "code",
   "execution_count": 44,
   "metadata": {
    "collapsed": true
   },
   "outputs": [],
   "source": [
    "#para cambiar los valores NaN\n",
    "X_EURUSD = X_EURUSD.fillna(X_GBPUSD,axis=0)"
   ]
  },
  {
   "cell_type": "code",
   "execution_count": 45,
   "metadata": {
    "collapsed": true
   },
   "outputs": [],
   "source": [
    "X_GBPUSD.insert(loc=3,column=3,value=X_EURUSD.iloc[:,0])\n",
    "X_GBPUSD.insert(loc=4,column=4,value=X_EURUSD.iloc[:,1])\n",
    "X_GBPUSD.insert(loc=5,column=5,value=X_EURUSD.iloc[:,2])"
   ]
  },
  {
   "cell_type": "code",
   "execution_count": 46,
   "metadata": {},
   "outputs": [
    {
     "name": "stdout",
     "output_type": "stream",
     "text": [
      "--------- GaussianNB ----------------\n",
      "average PNL :  -0.00199052631579\n",
      "average buy:  2261.31578947\n",
      "average sell:  4741.89473684\n",
      "-------------------------------------\n",
      "        PNL    buys   sells  longest_buys  longest_sells\n",
      "0   0.00680  1225.0  5574.0          41.0         2316.0\n",
      "1   0.00676  3011.0  3822.0        1606.0         2579.0\n",
      "2   0.00762  3437.0  3611.0         849.0          108.0\n",
      "3   0.00036  4790.0  2343.0        3361.0         1274.0\n",
      "4  -0.01519  3032.0  4189.0        2399.0          477.0\n",
      "5   0.00606  7280.0     0.0        7280.0            0.0\n",
      "6   0.00038     0.0  7107.0           0.0         7107.0\n",
      "7  -0.00455     0.0  7515.0           0.0         7515.0\n",
      "8  -0.00646     0.0  7473.0           0.0         7473.0\n",
      "9   0.00683     0.0  7361.0           0.0         7361.0\n",
      "10 -0.01562     0.0  7399.0           0.0         7399.0\n",
      "11 -0.00114     0.0  7330.0           0.0         7330.0\n",
      "12 -0.02440     0.0  7579.0           0.0         7579.0\n",
      "13 -0.00801  6913.0   912.0         130.0           11.0\n",
      "14 -0.00241     0.0  7780.0           0.0         7780.0\n",
      "15 -0.00836  6549.0  1008.0          70.0            8.0\n",
      "16  0.00405  4111.0  3515.0        3010.0          825.0\n",
      "17  0.01033  2616.0  5102.0          62.0         1463.0\n",
      "18 -0.00087     1.0   476.0           1.0          474.0\n"
     ]
    }
   ],
   "source": [
    "from sklearn.naive_bayes import GaussianNB\n",
    "    \n",
    "y = bt_GBPUSD\n",
    "n_bdtrain = 4\n",
    "n_bdtest = 1\n",
    "mday = 1\n",
    "\n",
    "est_GNB = PNLEstimatorWrapper(GaussianNB(), PNL_column='PNL')\n",
    "result_GNB = obj.step_validation(est_GNB, X_GBPUSD, y, obj.v_split(X_GBPUSD,n_bdtrain,n_bdtest,mday))\n",
    "result_GNB, predict_GNB = obj.redim(result_GNB)\n",
    "print('--------- GaussianNB ----------------')\n",
    "print('average PNL : ', np.mean(result_GNB[:,0]))\n",
    "print('average buy: ', np.mean(result_GNB[:,1]))\n",
    "print('average sell: ', np.mean(result_GNB[:,2]))\n",
    "print('-------------------------------------')\n",
    "print(pd.DataFrame(result_GNB, columns=list(['PNL','buys','sells','longest_buys','longest_sells'])))"
   ]
  },
  {
   "cell_type": "code",
   "execution_count": null,
   "metadata": {
    "collapsed": true
   },
   "outputs": [],
   "source": []
  }
 ],
 "metadata": {
  "kernelspec": {
   "display_name": "Python 3",
   "language": "python",
   "name": "python3"
  },
  "language_info": {
   "codemirror_mode": {
    "name": "ipython",
    "version": 3
   },
   "file_extension": ".py",
   "mimetype": "text/x-python",
   "name": "python",
   "nbconvert_exporter": "python",
   "pygments_lexer": "ipython3",
   "version": "3.6.2"
  }
 },
 "nbformat": 4,
 "nbformat_minor": 2
}
