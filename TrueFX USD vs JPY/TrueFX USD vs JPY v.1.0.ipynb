{
 "cells": [
  {
   "cell_type": "code",
   "execution_count": 1,
   "metadata": {
    "collapsed": true
   },
   "outputs": [],
   "source": [
    "import numpy as np\n",
    "import pandas as pd\n",
    "import bokeh.plotting as bp\n",
    "from bokeh.layouts import gridplot\n",
    "#bp.output_notebook()\n",
    "import matplotlib.pyplot as plt\n",
    "%matplotlib inline"
   ]
  },
  {
   "cell_type": "code",
   "execution_count": 5,
   "metadata": {
    "collapsed": true
   },
   "outputs": [],
   "source": [
    "%run ../code/build_dataset.py\n",
    "%run ../code/PNLEstimatorWrapper.py\n",
    "%run ../code/redim.py\n",
    "%run ../code/step_validation.py\n",
    "%run ../code/v_split.py"
   ]
  },
  {
   "cell_type": "code",
   "execution_count": 7,
   "metadata": {
    "collapsed": true
   },
   "outputs": [],
   "source": [
    "#Se lee la señal anteriormente procesada\n",
    "data_set = pd.read_csv(\"../data/TrueFX/USD-JPY/datos_procesados_USDJPY-2018-02.csv\")"
   ]
  },
  {
   "cell_type": "code",
   "execution_count": 8,
   "metadata": {},
   "outputs": [
    {
     "data": {
      "text/html": [
       "<div>\n",
       "<style>\n",
       "    .dataframe thead tr:only-child th {\n",
       "        text-align: right;\n",
       "    }\n",
       "\n",
       "    .dataframe thead th {\n",
       "        text-align: left;\n",
       "    }\n",
       "\n",
       "    .dataframe tbody tr th {\n",
       "        vertical-align: top;\n",
       "    }\n",
       "</style>\n",
       "<table border=\"1\" class=\"dataframe\">\n",
       "  <thead>\n",
       "    <tr style=\"text-align: right;\">\n",
       "      <th></th>\n",
       "      <th>date</th>\n",
       "      <th>bid</th>\n",
       "      <th>ask</th>\n",
       "    </tr>\n",
       "  </thead>\n",
       "  <tbody>\n",
       "    <tr>\n",
       "      <th>0</th>\n",
       "      <td>2018-02-01 01:58:20</td>\n",
       "      <td>109.190</td>\n",
       "      <td>109.194</td>\n",
       "    </tr>\n",
       "    <tr>\n",
       "      <th>1</th>\n",
       "      <td>2018-02-01 01:58:30</td>\n",
       "      <td>109.186</td>\n",
       "      <td>109.190</td>\n",
       "    </tr>\n",
       "    <tr>\n",
       "      <th>2</th>\n",
       "      <td>2018-02-01 01:58:40</td>\n",
       "      <td>109.183</td>\n",
       "      <td>109.187</td>\n",
       "    </tr>\n",
       "    <tr>\n",
       "      <th>3</th>\n",
       "      <td>2018-02-01 01:58:50</td>\n",
       "      <td>109.169</td>\n",
       "      <td>109.173</td>\n",
       "    </tr>\n",
       "    <tr>\n",
       "      <th>4</th>\n",
       "      <td>2018-02-01 01:59:00</td>\n",
       "      <td>109.167</td>\n",
       "      <td>109.171</td>\n",
       "    </tr>\n",
       "  </tbody>\n",
       "</table>\n",
       "</div>"
      ],
      "text/plain": [
       "                  date      bid      ask\n",
       "0  2018-02-01 01:58:20  109.190  109.194\n",
       "1  2018-02-01 01:58:30  109.186  109.190\n",
       "2  2018-02-01 01:58:40  109.183  109.187\n",
       "3  2018-02-01 01:58:50  109.169  109.173\n",
       "4  2018-02-01 01:59:00  109.167  109.171"
      ]
     },
     "execution_count": 8,
     "metadata": {},
     "output_type": "execute_result"
    }
   ],
   "source": [
    "data_set.head()"
   ]
  },
  {
   "cell_type": "code",
   "execution_count": 9,
   "metadata": {
    "collapsed": true
   },
   "outputs": [],
   "source": [
    "data_set = data_set.set_index(pd.to_datetime(data_set.iloc[:,0])) #se indexan los datos por su fecha y hora\n",
    "data_set = data_set.drop(['date'],axis=1) #se elimina la columna date"
   ]
  },
  {
   "cell_type": "code",
   "execution_count": 10,
   "metadata": {},
   "outputs": [
    {
     "data": {
      "text/html": [
       "<div>\n",
       "<style>\n",
       "    .dataframe thead tr:only-child th {\n",
       "        text-align: right;\n",
       "    }\n",
       "\n",
       "    .dataframe thead th {\n",
       "        text-align: left;\n",
       "    }\n",
       "\n",
       "    .dataframe tbody tr th {\n",
       "        vertical-align: top;\n",
       "    }\n",
       "</style>\n",
       "<table border=\"1\" class=\"dataframe\">\n",
       "  <thead>\n",
       "    <tr style=\"text-align: right;\">\n",
       "      <th></th>\n",
       "      <th>bid</th>\n",
       "      <th>ask</th>\n",
       "    </tr>\n",
       "    <tr>\n",
       "      <th>date</th>\n",
       "      <th></th>\n",
       "      <th></th>\n",
       "    </tr>\n",
       "  </thead>\n",
       "  <tbody>\n",
       "    <tr>\n",
       "      <th>2018-02-01 01:58:20</th>\n",
       "      <td>109.190</td>\n",
       "      <td>109.194</td>\n",
       "    </tr>\n",
       "    <tr>\n",
       "      <th>2018-02-01 01:58:30</th>\n",
       "      <td>109.186</td>\n",
       "      <td>109.190</td>\n",
       "    </tr>\n",
       "    <tr>\n",
       "      <th>2018-02-01 01:58:40</th>\n",
       "      <td>109.183</td>\n",
       "      <td>109.187</td>\n",
       "    </tr>\n",
       "    <tr>\n",
       "      <th>2018-02-01 01:58:50</th>\n",
       "      <td>109.169</td>\n",
       "      <td>109.173</td>\n",
       "    </tr>\n",
       "    <tr>\n",
       "      <th>2018-02-01 01:59:00</th>\n",
       "      <td>109.167</td>\n",
       "      <td>109.171</td>\n",
       "    </tr>\n",
       "  </tbody>\n",
       "</table>\n",
       "</div>"
      ],
      "text/plain": [
       "                         bid      ask\n",
       "date                                 \n",
       "2018-02-01 01:58:20  109.190  109.194\n",
       "2018-02-01 01:58:30  109.186  109.190\n",
       "2018-02-01 01:58:40  109.183  109.187\n",
       "2018-02-01 01:58:50  109.169  109.173\n",
       "2018-02-01 01:59:00  109.167  109.171"
      ]
     },
     "execution_count": 10,
     "metadata": {},
     "output_type": "execute_result"
    }
   ],
   "source": [
    "data_set.head()"
   ]
  },
  {
   "cell_type": "code",
   "execution_count": 11,
   "metadata": {},
   "outputs": [
    {
     "data": {
      "text/plain": [
       "array([datetime.date(2018, 2, 1), datetime.date(2018, 2, 2),\n",
       "       datetime.date(2018, 2, 5), datetime.date(2018, 2, 6),\n",
       "       datetime.date(2018, 2, 7), datetime.date(2018, 2, 8),\n",
       "       datetime.date(2018, 2, 9), datetime.date(2018, 2, 12),\n",
       "       datetime.date(2018, 2, 13), datetime.date(2018, 2, 14),\n",
       "       datetime.date(2018, 2, 15), datetime.date(2018, 2, 16),\n",
       "       datetime.date(2018, 2, 19), datetime.date(2018, 2, 20),\n",
       "       datetime.date(2018, 2, 21), datetime.date(2018, 2, 22),\n",
       "       datetime.date(2018, 2, 23), datetime.date(2018, 2, 26),\n",
       "       datetime.date(2018, 2, 27), datetime.date(2018, 2, 28),\n",
       "       datetime.date(2018, 3, 1)], dtype=object)"
      ]
     },
     "execution_count": 11,
     "metadata": {},
     "output_type": "execute_result"
    }
   ],
   "source": [
    "np.unique(data_set.index.date)"
   ]
  },
  {
   "cell_type": "code",
   "execution_count": 13,
   "metadata": {},
   "outputs": [
    {
     "data": {
      "image/png": "[encoded data removed]",
      "text/plain": [
       "<matplotlib.figure.Figure at 0x7fec2e7b87f0>"
      ]
     },
     "metadata": {},
     "output_type": "display_data"
    }
   ],
   "source": [
    "plt.figure(figsize=(15,5))\n",
    "plt.title('Comportamiento del spread')\n",
    "plt.xlabel('[t] en pulsasiones')\n",
    "plt.ylabel('USD/JPY')\n",
    "plt.plot(np.arange(data_set.shape[0]), data_set.iloc[:,1]-data_set.iloc[:,0], alpha=1, color='green');"
   ]
  },
  {
   "cell_type": "code",
   "execution_count": 8,
   "metadata": {},
   "outputs": [
    {
     "data": {
      "image/png": "[encoded data removed]",
      "text/plain": [
       "<matplotlib.figure.Figure at 0x7f8b1ac2f898>"
      ]
     },
     "metadata": {},
     "output_type": "display_data"
    }
   ],
   "source": [
    "plt.figure(figsize=(15,5))\n",
    "plt.title('Comportamiento del Bid')\n",
    "plt.xlabel('[t] en pulsasiones')\n",
    "plt.ylabel('USD/JPY')\n",
    "plt.plot(np.arange(data_set.shape[0]), data_set.iloc[:,0], alpha=1, color='#3383FF');"
   ]
  },
  {
   "cell_type": "markdown",
   "metadata": {},
   "source": [
    "#### Construyendo el Dataset\n",
    "se prueba con la ventana de tamaño 3, con la que dió mejor resultado en EUR/USD, pero se probará tambien con cual tamaño de ventana funciona mejor."
   ]
  },
  {
   "cell_type": "code",
   "execution_count": 9,
   "metadata": {
    "collapsed": true
   },
   "outputs": [],
   "source": [
    "window = 3\n",
    "X, y_reg, bt = build_dataset(data_set.iloc[:,0], window, binary_target=True, delete_constant_values=True, PNL=True)"
   ]
  },
  {
   "cell_type": "code",
   "execution_count": 10,
   "metadata": {},
   "outputs": [
    {
     "data": {
      "text/plain": [
       "((150588, 4), (150588,), (150588,))"
      ]
     },
     "execution_count": 10,
     "metadata": {},
     "output_type": "execute_result"
    }
   ],
   "source": [
    "X.shape, y_reg.shape, bt.shape"
   ]
  },
  {
   "cell_type": "code",
   "execution_count": 11,
   "metadata": {},
   "outputs": [
    {
     "name": "stdout",
     "output_type": "stream",
     "text": [
      "[ 109.169  109.167  109.16   109.169  109.171]\n",
      "[0 0 0 1 1]\n"
     ]
    }
   ],
   "source": [
    "print(y_reg[:5])\n",
    "print(bt[:5])"
   ]
  },
  {
   "cell_type": "code",
   "execution_count": 12,
   "metadata": {},
   "outputs": [
    {
     "data": {
      "text/html": [
       "<div>\n",
       "<style>\n",
       "    .dataframe thead tr:only-child th {\n",
       "        text-align: right;\n",
       "    }\n",
       "\n",
       "    .dataframe thead th {\n",
       "        text-align: left;\n",
       "    }\n",
       "\n",
       "    .dataframe tbody tr th {\n",
       "        vertical-align: top;\n",
       "    }\n",
       "</style>\n",
       "<table border=\"1\" class=\"dataframe\">\n",
       "  <thead>\n",
       "    <tr style=\"text-align: right;\">\n",
       "      <th></th>\n",
       "      <th>0</th>\n",
       "      <th>1</th>\n",
       "      <th>2</th>\n",
       "      <th>PNL</th>\n",
       "    </tr>\n",
       "    <tr>\n",
       "      <th>date</th>\n",
       "      <th></th>\n",
       "      <th></th>\n",
       "      <th></th>\n",
       "      <th></th>\n",
       "    </tr>\n",
       "  </thead>\n",
       "  <tbody>\n",
       "    <tr>\n",
       "      <th>2018-02-01 01:59:00</th>\n",
       "      <td>109.190</td>\n",
       "      <td>109.186</td>\n",
       "      <td>109.183</td>\n",
       "      <td>-0.014</td>\n",
       "    </tr>\n",
       "    <tr>\n",
       "      <th>2018-02-01 01:59:10</th>\n",
       "      <td>109.186</td>\n",
       "      <td>109.183</td>\n",
       "      <td>109.169</td>\n",
       "      <td>-0.002</td>\n",
       "    </tr>\n",
       "    <tr>\n",
       "      <th>2018-02-01 01:59:20</th>\n",
       "      <td>109.183</td>\n",
       "      <td>109.169</td>\n",
       "      <td>109.167</td>\n",
       "      <td>-0.007</td>\n",
       "    </tr>\n",
       "    <tr>\n",
       "      <th>2018-02-01 01:59:30</th>\n",
       "      <td>109.169</td>\n",
       "      <td>109.167</td>\n",
       "      <td>109.160</td>\n",
       "      <td>0.009</td>\n",
       "    </tr>\n",
       "    <tr>\n",
       "      <th>2018-02-01 01:59:40</th>\n",
       "      <td>109.167</td>\n",
       "      <td>109.160</td>\n",
       "      <td>109.169</td>\n",
       "      <td>0.002</td>\n",
       "    </tr>\n",
       "  </tbody>\n",
       "</table>\n",
       "</div>"
      ],
      "text/plain": [
       "                           0        1        2    PNL\n",
       "date                                                 \n",
       "2018-02-01 01:59:00  109.190  109.186  109.183 -0.014\n",
       "2018-02-01 01:59:10  109.186  109.183  109.169 -0.002\n",
       "2018-02-01 01:59:20  109.183  109.169  109.167 -0.007\n",
       "2018-02-01 01:59:30  109.169  109.167  109.160  0.009\n",
       "2018-02-01 01:59:40  109.167  109.160  109.169  0.002"
      ]
     },
     "execution_count": 12,
     "metadata": {},
     "output_type": "execute_result"
    }
   ],
   "source": [
    "X.head()"
   ]
  },
  {
   "cell_type": "code",
   "execution_count": 13,
   "metadata": {
    "collapsed": true
   },
   "outputs": [],
   "source": [
    "# se muestrea la señal a predecir por cada hora para colocar con los buy y sell por dia.\n",
    "signal_sample = (X.resample('1h',loffset='h').last()).iloc[:,2][1:]"
   ]
  },
  {
   "cell_type": "markdown",
   "metadata": {},
   "source": [
    "Se prueba con un GaussianNB para ver su rendimiento, esto teniendo cuenta que solo es con un mes de datos"
   ]
  },
  {
   "cell_type": "code",
   "execution_count": 14,
   "metadata": {},
   "outputs": [
    {
     "name": "stdout",
     "output_type": "stream",
     "text": [
      "--------- GaussianNB ----------------\n",
      "average PNL :  -0.0848235294118\n",
      "average buy:  3211.11764706\n",
      "average sell:  3866.05882353\n",
      "-------------------------------------\n",
      "      PNL    buys   sells  longest_buys  longest_sells\n",
      "0   1.134  5221.0  2506.0        4430.0          637.0\n",
      "1   0.539  2625.0  5163.0        2043.0         3954.0\n",
      "2   0.217  7425.0   439.0        4170.0          356.0\n",
      "3  -0.139  7351.0     0.0        7351.0            0.0\n",
      "4  -0.687  5727.0  1761.0        5700.0         1752.0\n",
      "5  -0.842  7674.0     0.0        7674.0            0.0\n",
      "6  -0.838  7708.0     0.0        7708.0            0.0\n",
      "7  -0.119     0.0  7611.0           0.0         7611.0\n",
      "8  -0.347     0.0  6822.0           0.0         6822.0\n",
      "9  -0.726     0.0  7216.0           0.0         7216.0\n",
      "10  0.327  7371.0    83.0        7345.0           59.0\n",
      "11  0.250   994.0  6497.0         395.0         4602.0\n",
      "12 -0.109     0.0  7314.0           0.0         7314.0\n",
      "13 -0.066     0.0  7415.0           0.0         7415.0\n",
      "14 -0.407     0.0  7350.0           0.0         7350.0\n",
      "15  0.396  1948.0  5546.0        1930.0         5536.0\n",
      "16 -0.025   545.0     0.0         545.0            0.0\n"
     ]
    }
   ],
   "source": [
    "from sklearn.naive_bayes import GaussianNB\n",
    "    \n",
    "y = bt\n",
    "n_bdtrain = 4\n",
    "n_bdtest = 1\n",
    "mday = 1\n",
    "\n",
    "est_GNB = PNLEstimatorWrapper(GaussianNB(), PNL_column='PNL')\n",
    "result_GNB = step_validation(est_GNB, X, y, v_split(X,n_bdtrain,n_bdtest,mday))\n",
    "result_GNB, predict_GNB = redim(result_GNB)\n",
    "print('--------- GaussianNB ----------------')\n",
    "print('average PNL : ', np.mean(result_GNB[:,0]))\n",
    "print('average buy: ', np.mean(result_GNB[:,1]))\n",
    "print('average sell: ', np.mean(result_GNB[:,2]))\n",
    "print('-------------------------------------')\n",
    "print(pd.DataFrame(result_GNB, columns=list(['PNL','buys','sells','longest_buys','longest_sells'])))"
   ]
  },
  {
   "cell_type": "markdown",
   "metadata": {},
   "source": [
    "los primeros cuatro días equivalen a 30276 datos del dataset"
   ]
  },
  {
   "cell_type": "code",
   "execution_count": 15,
   "metadata": {
    "scrolled": true
   },
   "outputs": [
    {
     "name": "stdout",
     "output_type": "stream",
     "text": [
      "(array([    0,     1,     2, ..., 30273, 30274, 30275]), array([30276, 30277, 30278, ..., 38000, 38001, 38002]))\n",
      "(array([ 6878,  6879,  6880, ..., 38000, 38001, 38002]), array([38003, 38004, 38005, ..., 45788, 45789, 45790]))\n",
      "(array([14485, 14486, 14487, ..., 45788, 45789, 45790]), array([45791, 45792, 45793, ..., 53652, 53653, 53654]))\n",
      "(array([22208, 22209, 22210, ..., 53652, 53653, 53654]), array([53655, 53656, 53657, ..., 61003, 61004, 61005]))\n",
      "(array([30276, 30277, 30278, ..., 61003, 61004, 61005]), array([61006, 61007, 61008, ..., 68491, 68492, 68493]))\n",
      "(array([38003, 38004, 38005, ..., 68491, 68492, 68493]), array([68494, 68495, 68496, ..., 76165, 76166, 76167]))\n",
      "(array([45791, 45792, 45793, ..., 76165, 76166, 76167]), array([76168, 76169, 76170, ..., 83873, 83874, 83875]))\n",
      "(array([53655, 53656, 53657, ..., 83873, 83874, 83875]), array([83876, 83877, 83878, ..., 91484, 91485, 91486]))\n",
      "(array([61006, 61007, 61008, ..., 91484, 91485, 91486]), array([91487, 91488, 91489, ..., 98306, 98307, 98308]))\n",
      "(array([68494, 68495, 68496, ..., 98306, 98307, 98308]), array([ 98309,  98310,  98311, ..., 105522, 105523, 105524]))\n",
      "(array([ 76168,  76169,  76170, ..., 105522, 105523, 105524]), array([105525, 105526, 105527, ..., 112976, 112977, 112978]))\n",
      "(array([ 83876,  83877,  83878, ..., 112976, 112977, 112978]), array([112979, 112980, 112981, ..., 120467, 120468, 120469]))\n",
      "(array([ 91487,  91488,  91489, ..., 120467, 120468, 120469]), array([120470, 120471, 120472, ..., 127781, 127782, 127783]))\n",
      "(array([ 98309,  98310,  98311, ..., 127781, 127782, 127783]), array([127784, 127785, 127786, ..., 135196, 135197, 135198]))\n",
      "(array([105525, 105526, 105527, ..., 135196, 135197, 135198]), array([135199, 135200, 135201, ..., 142546, 142547, 142548]))\n",
      "(array([112979, 112980, 112981, ..., 142546, 142547, 142548]), array([142549, 142550, 142551, ..., 150040, 150041, 150042]))\n",
      "(array([120470, 120471, 120472, ..., 150040, 150041, 150042]), array([150043, 150044, 150045, 150046, 150047, 150048, 150049, 150050,\n",
      "       150051, 150052, 150053, 150054, 150055, 150056, 150057, 150058,\n",
      "       150059, 150060, 150061, 150062, 150063, 150064, 150065, 150066,\n",
      "       150067, 150068, 150069, 150070, 150071, 150072, 150073, 150074,\n",
      "       150075, 150076, 150077, 150078, 150079, 150080, 150081, 150082,\n",
      "       150083, 150084, 150085, 150086, 150087, 150088, 150089, 150090,\n",
      "       150091, 150092, 150093, 150094, 150095, 150096, 150097, 150098,\n",
      "       150099, 150100, 150101, 150102, 150103, 150104, 150105, 150106,\n",
      "       150107, 150108, 150109, 150110, 150111, 150112, 150113, 150114,\n",
      "       150115, 150116, 150117, 150118, 150119, 150120, 150121, 150122,\n",
      "       150123, 150124, 150125, 150126, 150127, 150128, 150129, 150130,\n",
      "       150131, 150132, 150133, 150134, 150135, 150136, 150137, 150138,\n",
      "       150139, 150140, 150141, 150142, 150143, 150144, 150145, 150146,\n",
      "       150147, 150148, 150149, 150150, 150151, 150152, 150153, 150154,\n",
      "       150155, 150156, 150157, 150158, 150159, 150160, 150161, 150162,\n",
      "       150163, 150164, 150165, 150166, 150167, 150168, 150169, 150170,\n",
      "       150171, 150172, 150173, 150174, 150175, 150176, 150177, 150178,\n",
      "       150179, 150180, 150181, 150182, 150183, 150184, 150185, 150186,\n",
      "       150187, 150188, 150189, 150190, 150191, 150192, 150193, 150194,\n",
      "       150195, 150196, 150197, 150198, 150199, 150200, 150201, 150202,\n",
      "       150203, 150204, 150205, 150206, 150207, 150208, 150209, 150210,\n",
      "       150211, 150212, 150213, 150214, 150215, 150216, 150217, 150218,\n",
      "       150219, 150220, 150221, 150222, 150223, 150224, 150225, 150226,\n",
      "       150227, 150228, 150229, 150230, 150231, 150232, 150233, 150234,\n",
      "       150235, 150236, 150237, 150238, 150239, 150240, 150241, 150242,\n",
      "       150243, 150244, 150245, 150246, 150247, 150248, 150249, 150250,\n",
      "       150251, 150252, 150253, 150254, 150255, 150256, 150257, 150258,\n",
      "       150259, 150260, 150261, 150262, 150263, 150264, 150265, 150266,\n",
      "       150267, 150268, 150269, 150270, 150271, 150272, 150273, 150274,\n",
      "       150275, 150276, 150277, 150278, 150279, 150280, 150281, 150282,\n",
      "       150283, 150284, 150285, 150286, 150287, 150288, 150289, 150290,\n",
      "       150291, 150292, 150293, 150294, 150295, 150296, 150297, 150298,\n",
      "       150299, 150300, 150301, 150302, 150303, 150304, 150305, 150306,\n",
      "       150307, 150308, 150309, 150310, 150311, 150312, 150313, 150314,\n",
      "       150315, 150316, 150317, 150318, 150319, 150320, 150321, 150322,\n",
      "       150323, 150324, 150325, 150326, 150327, 150328, 150329, 150330,\n",
      "       150331, 150332, 150333, 150334, 150335, 150336, 150337, 150338,\n",
      "       150339, 150340, 150341, 150342, 150343, 150344, 150345, 150346,\n",
      "       150347, 150348, 150349, 150350, 150351, 150352, 150353, 150354,\n",
      "       150355, 150356, 150357, 150358, 150359, 150360, 150361, 150362,\n",
      "       150363, 150364, 150365, 150366, 150367, 150368, 150369, 150370,\n",
      "       150371, 150372, 150373, 150374, 150375, 150376, 150377, 150378,\n",
      "       150379, 150380, 150381, 150382, 150383, 150384, 150385, 150386,\n",
      "       150387, 150388, 150389, 150390, 150391, 150392, 150393, 150394,\n",
      "       150395, 150396, 150397, 150398, 150399, 150400, 150401, 150402,\n",
      "       150403, 150404, 150405, 150406, 150407, 150408, 150409, 150410,\n",
      "       150411, 150412, 150413, 150414, 150415, 150416, 150417, 150418,\n",
      "       150419, 150420, 150421, 150422, 150423, 150424, 150425, 150426,\n",
      "       150427, 150428, 150429, 150430, 150431, 150432, 150433, 150434,\n",
      "       150435, 150436, 150437, 150438, 150439, 150440, 150441, 150442,\n",
      "       150443, 150444, 150445, 150446, 150447, 150448, 150449, 150450,\n",
      "       150451, 150452, 150453, 150454, 150455, 150456, 150457, 150458,\n",
      "       150459, 150460, 150461, 150462, 150463, 150464, 150465, 150466,\n",
      "       150467, 150468, 150469, 150470, 150471, 150472, 150473, 150474,\n",
      "       150475, 150476, 150477, 150478, 150479, 150480, 150481, 150482,\n",
      "       150483, 150484, 150485, 150486, 150487, 150488, 150489, 150490,\n",
      "       150491, 150492, 150493, 150494, 150495, 150496, 150497, 150498,\n",
      "       150499, 150500, 150501, 150502, 150503, 150504, 150505, 150506,\n",
      "       150507, 150508, 150509, 150510, 150511, 150512, 150513, 150514,\n",
      "       150515, 150516, 150517, 150518, 150519, 150520, 150521, 150522,\n",
      "       150523, 150524, 150525, 150526, 150527, 150528, 150529, 150530,\n",
      "       150531, 150532, 150533, 150534, 150535, 150536, 150537, 150538,\n",
      "       150539, 150540, 150541, 150542, 150543, 150544, 150545, 150546,\n",
      "       150547, 150548, 150549, 150550, 150551, 150552, 150553, 150554,\n",
      "       150555, 150556, 150557, 150558, 150559, 150560, 150561, 150562,\n",
      "       150563, 150564, 150565, 150566, 150567, 150568, 150569, 150570,\n",
      "       150571, 150572, 150573, 150574, 150575, 150576, 150577, 150578,\n",
      "       150579, 150580, 150581, 150582, 150583, 150584, 150585, 150586,\n",
      "       150587]))\n"
     ]
    }
   ],
   "source": [
    "for i in v_split(X,4,1,1):\n",
    "    print (i)"
   ]
  },
  {
   "cell_type": "code",
   "execution_count": 16,
   "metadata": {},
   "outputs": [
    {
     "data": {
      "text/plain": [
       "(120312, 120312)"
      ]
     },
     "execution_count": 16,
     "metadata": {},
     "output_type": "execute_result"
    }
   ],
   "source": [
    "firts_4bd = 30276 #primeros 4 días\n",
    "len(predict_GNB),len(y)- firts_4bd"
   ]
  },
  {
   "cell_type": "markdown",
   "metadata": {},
   "source": [
    "### Se pintarán las ventas en color rojo y las compras en color verde!"
   ]
  },
  {
   "cell_type": "markdown",
   "metadata": {},
   "source": [
    "Como para el target se empieza del segundo valor de la fila X, es decir, el primer valor de la señal no tiene una predicción ya que no tiene un valor anterior para ser comparado, por esto se coge la señal \"y_reg\" y no se toma el último valor ya que este no tiene predicción"
   ]
  },
  {
   "cell_type": "code",
   "execution_count": 17,
   "metadata": {},
   "outputs": [
    {
     "name": "stdout",
     "output_type": "stream",
     "text": [
      "(120312,)\n",
      "(120312,)\n",
      "(120312,)\n",
      "(120312,)\n"
     ]
    }
   ],
   "source": [
    "#para graficar las compras acertadas sobre la señal original\n",
    "buy_GNB_ok = ((predict_GNB==bt[firts_4bd:])&(predict_GNB==1))*y_reg[firts_4bd-1:-1]\n",
    "buy_GNB_ok[buy_GNB_ok==0] = np.nan \n",
    "print (buy_GNB_ok.shape)\n",
    "#para graficar las ventas acertadas sobre la señal original\n",
    "sell_GNB_ok = ((predict_GNB==bt[firts_4bd:])&(predict_GNB==0))*y_reg[firts_4bd-1:-1]\n",
    "sell_GNB_ok[sell_GNB_ok==0] = np.nan\n",
    "print (sell_GNB_ok.shape)\n",
    "\n",
    "#para graficar las compras fallidas sobre la señal original\n",
    "buy_GNB_mal = ((predict_GNB!=bt[firts_4bd:])&(predict_GNB==1))*y_reg[firts_4bd-1:-1]\n",
    "buy_GNB_mal[buy_GNB_mal==0] = np.nan \n",
    "print (buy_GNB_mal.shape)\n",
    "#para graficar las ventas fallidas sobre la señal original\n",
    "sell_GNB_mal = ((predict_GNB!=bt[firts_4bd:])&(predict_GNB==0))*y_reg[firts_4bd-1:-1]\n",
    "sell_GNB_mal[sell_GNB_mal==0] = np.nan\n",
    "print (sell_GNB_mal.shape)"
   ]
  },
  {
   "cell_type": "code",
   "execution_count": 18,
   "metadata": {
    "collapsed": true
   },
   "outputs": [],
   "source": [
    "dates = np.unique(data_set.index.date) #para graficar el numero de ventas y compras por dia\n",
    "x_axis = X.index[firts_4bd:] #para graficar los resultados por datetime"
   ]
  },
  {
   "cell_type": "markdown",
   "metadata": {},
   "source": [
    "graficando con bokeh"
   ]
  },
  {
   "cell_type": "code",
   "execution_count": 20,
   "metadata": {
    "collapsed": true
   },
   "outputs": [],
   "source": [
    "p1_GNB = bp.Figure(width=750, height=300,title='buys and sells with a GaussianNB',x_axis_type='datetime',\n",
    "               title_location = 'above')\n",
    "p1_GNB.triangle(x_axis, buy_GNB_ok, color='green', legend='predict buys ok')\n",
    "p1_GNB.triangle(x_axis, sell_GNB_ok, color='green', legend='predict sells ok', angle=45)\n",
    "p1_GNB.xaxis.axis_label = 'Datetime'\n",
    "p1_GNB.yaxis.axis_label = 'USD/JPY'\n",
    "p1_GNB.triangle(x_axis, buy_GNB_mal, color='red', legend='predict buys bad')\n",
    "p1_GNB.triangle(x_axis, sell_GNB_mal, color='red', legend='predict sells bad', angle=45)\n",
    "p1_GNB.line(x_axis, y_reg[firts_4bd-1:-1], color='blue', alpha=0.2, legend='bid')\n",
    "p1_GNB.legend.location = 'bottom_left'\n",
    "p1_GNB.legend.orientation = 'horizontal'\n",
    "p1_GNB.legend.background_fill_color = 'grey'\n",
    "p1_GNB.legend.background_fill_alpha = 0.1\n",
    "p1_GNB.legend.border_line_alpha = None\n",
    "\n",
    "p2_GNB = bp.Figure(width=750, height=300,title='Profit and Loss with a GaussianNB',x_axis_type='datetime')\n",
    "p2_GNB.line(dates[n_bdtrain:], result_GNB[:,0], color='blue', legend='PNL', alpha=0.5)\n",
    "p2_GNB.circle(dates[n_bdtrain:], result_GNB[:,0], color='blue', legend='PNL', alpha=0.5)\n",
    "p2_GNB.line(dates[n_bdtrain:], np.zeros(len(result_GNB)), color='red', legend='PNL = 0', line_dash='dotted')\n",
    "p2_GNB.line(dates[n_bdtrain:],np.ones(len(result_GNB[:,0]))*np.mean(result_GNB[:,0]),color='green',legend='avg PNL')\n",
    "p2_GNB.xaxis.axis_label = 'datetime'\n",
    "p2_GNB.yaxis.axis_label = 'PNL'\n",
    "p2_GNB.legend.location ='bottom_center'\n",
    "p2_GNB.legend.orientation = 'horizontal'\n",
    "\n",
    "p3_GNB = bp.Figure(width=400, height=250, title='buys per day', x_axis_type='datetime')\n",
    "p3_GNB.line(dates[n_bdtrain:], result_GNB[:,1], color='green')\n",
    "p3_GNB.circle(dates[n_bdtrain:], result_GNB[:,1], color='green')\n",
    "p3_GNB.xaxis.axis_label = 'datetime'\n",
    "p3_GNB.yaxis.axis_label = 'buys per day'\n",
    "#se utiliza el x_range para correlacionar las dos gráficas por el eje x\n",
    "p4_GNB = bp.Figure(width=400, height=250, title='sells per day', x_axis_type='datetime',x_range=p3_GNB.x_range)\n",
    "p4_GNB.line(dates[n_bdtrain:], result_GNB[:,2], color='red')\n",
    "p4_GNB.circle(dates[n_bdtrain:], result_GNB[:,2], color='red')\n",
    "p4_GNB.xaxis.axis_label = 'datetime'\n",
    "p4_GNB.yaxis.axis_label = 'sells per day'\n",
    "\n",
    "#para pintar el PNL que se va acumulando\n",
    "PNL_accu_GNB = []\n",
    "count_GNB = 0\n",
    "for i in result_GNB[:,0]:\n",
    "    count_GNB += i\n",
    "    PNL_accu_GNB.append(count_GNB)\n",
    "#se pinta el PNL acumulado\n",
    "p5_GNB = bp.Figure(width=750, height=300,title='PNL accumulated with a GaussianNB',x_axis_type='datetime',\n",
    "                   x_range=p2_GNB.x_range)\n",
    "p5_GNB.line(dates[n_bdtrain:],PNL_accu_GNB,color='blue',legend='PNL accumulated',alpha=0.5)\n",
    "p5_GNB.circle(dates[n_bdtrain:], PNL_accu_GNB, color='blue',legend='PNL accumulated', alpha=0.5)\n",
    "p5_GNB.line(dates[n_bdtrain:], np.zeros(len(result_GNB)), color='red', legend='PNL = 0', line_dash='dotted')\n",
    "p5_GNB.xaxis.axis_label = 'datetime'\n",
    "p5_GNB.yaxis.axis_label = 'PNL accumulated'\n",
    "p5_GNB.legend.location ='bottom_center'\n",
    "p5_GNB.legend.orientation = 'horizontal'\n",
    "\n",
    "#se pinta la señal submuestreada para verlas con en volumen de compras y ventas por día\n",
    "p6_GNB = bp.Figure(width=400, height=250, title='signal per hours', x_axis_type='datetime',x_range=p3_GNB.x_range)\n",
    "p6_GNB.line(signal_sample.index, signal_sample, color='blue')\n",
    "p6_GNB.xaxis.axis_label = 'datetime'\n",
    "p6_GNB.yaxis.axis_label = 'bid USD/JPY'\n",
    "\n",
    "bp.show(gridplot([[p1_GNB,p3_GNB],[p2_GNB,p4_GNB],[p5_GNB,p6_GNB]], toolbar_location=\"right\"))\n",
    "bp.output_file(filename='grafico GaussianNB.html', title='GaussianNB')"
   ]
  },
  {
   "cell_type": "markdown",
   "metadata": {},
   "source": [
    "### Se prueba con un KNeighborsClassifier"
   ]
  },
  {
   "cell_type": "code",
   "execution_count": 21,
   "metadata": {},
   "outputs": [
    {
     "name": "stdout",
     "output_type": "stream",
     "text": [
      "-------- KNeighborsClassifier -------\n",
      "average PNL:  0.152470588235\n",
      "average buy:  3836.35294118\n",
      "average sell:  3240.82352941\n",
      "-------------------------------------\n",
      "      PNL    buys   sells  longest_buys  longest_sells\n",
      "0   0.138  3823.0  3904.0          13.0           13.0\n",
      "1  -0.129  3835.0  3953.0          13.0           27.0\n",
      "2  -0.275  4230.0  3634.0         718.0           14.0\n",
      "3  -1.191  3759.0  3592.0          26.0           18.0\n",
      "4  -0.017  6068.0  1420.0        4641.0           15.0\n",
      "5   0.232  6701.0   973.0        2781.0           35.0\n",
      "6  -0.526  7366.0   342.0        3432.0           13.0\n",
      "7   2.155  4666.0  2945.0        2003.0           36.0\n",
      "8   0.087  3094.0  3728.0          12.0           18.0\n",
      "9   0.180  3180.0  4036.0          16.0           31.0\n",
      "10 -0.381   144.0  7310.0          13.0         6949.0\n",
      "11 -0.176  3653.0  3838.0          53.0           17.0\n",
      "12  0.621  3275.0  4039.0          16.0           26.0\n",
      "13 -0.006  3992.0  3423.0         273.0           26.0\n",
      "14  1.393  3409.0  3941.0          11.0           21.0\n",
      "15  0.410  3738.0  3756.0          20.0           21.0\n",
      "16  0.077   285.0   260.0          14.0            8.0\n"
     ]
    }
   ],
   "source": [
    "from sklearn.neighbors import KNeighborsClassifier\n",
    "\n",
    "est_KNC = PNLEstimatorWrapper(KNeighborsClassifier(n_neighbors=7,n_jobs=2,leaf_size=30\n",
    "                                                   ,algorithm='kd_tree'), PNL_column='PNL')\n",
    "result_KNC = step_validation(est_KNC, X, y, v_split(X,4,1,1))\n",
    "result_KNC, predict_KNC = redim(result_KNC)\n",
    "print('-------- KNeighborsClassifier -------')\n",
    "print('average PNL: ', np.mean(result_KNC[:,0]))\n",
    "print('average buy: ', np.mean(result_KNC[:,1]))\n",
    "print('average sell: ', np.mean(result_KNC[:,2]))\n",
    "print('-------------------------------------')\n",
    "print(pd.DataFrame(result_KNC, columns=list(['PNL','buys','sells','longest_buys','longest_sells'])))"
   ]
  },
  {
   "cell_type": "markdown",
   "metadata": {},
   "source": [
    "graficando con bokeh los resultados"
   ]
  },
  {
   "cell_type": "code",
   "execution_count": 22,
   "metadata": {},
   "outputs": [
    {
     "name": "stdout",
     "output_type": "stream",
     "text": [
      "(120312,)\n",
      "(120312,)\n",
      "(120312,)\n",
      "(120312,)\n"
     ]
    }
   ],
   "source": [
    "#para graficar las compras acertadas sobre la señal original\n",
    "buy_KNC_ok = ((predict_KNC==bt[firts_4bd:])&(predict_KNC==1))*y_reg[firts_4bd-1:-1]\n",
    "buy_KNC_ok[buy_KNC_ok==0] = np.nan \n",
    "print (buy_KNC_ok.shape)\n",
    "#para graficar las ventas acertadas sobre la señal original\n",
    "sell_KNC_ok = ((predict_KNC==bt[firts_4bd:])&(predict_KNC==0))*y_reg[firts_4bd-1:-1]\n",
    "sell_KNC_ok[sell_KNC_ok==0] = np.nan\n",
    "print (sell_KNC_ok.shape)\n",
    "\n",
    "#para graficar las compras fallidas sobre la señal original\n",
    "buy_KNC_mal = ((predict_KNC!=bt[firts_4bd:])&(predict_KNC==1))*y_reg[firts_4bd-1:-1]\n",
    "buy_KNC_mal[buy_KNC_mal==0] = np.nan \n",
    "print (buy_KNC_mal.shape)\n",
    "#para graficar las ventas fallidas sobre la señal original\n",
    "sell_KNC_mal = ((predict_KNC!=bt[firts_4bd:])&(predict_KNC==0))*y_reg[firts_4bd-1:-1]\n",
    "sell_KNC_mal[sell_KNC_mal==0] = np.nan\n",
    "print (sell_KNC_mal.shape)"
   ]
  },
  {
   "cell_type": "code",
   "execution_count": 23,
   "metadata": {
    "collapsed": true
   },
   "outputs": [],
   "source": [
    "bp.reset_output()"
   ]
  },
  {
   "cell_type": "code",
   "execution_count": 25,
   "metadata": {
    "collapsed": true
   },
   "outputs": [],
   "source": [
    "p1_KNC = bp.Figure(width=750, height=300,title='buys and sells with a KNeighborsClassifier',x_axis_type='datetime',\n",
    "               title_location = 'above')\n",
    "p1_KNC.triangle(x_axis, buy_KNC_ok, color='green', legend='predict buys ok')\n",
    "p1_KNC.triangle(x_axis, sell_KNC_ok, color='green', legend='predict sells ok', angle=45)\n",
    "p1_KNC.xaxis.axis_label = 'Datetime'\n",
    "p1_KNC.yaxis.axis_label = 'USD/JPY'\n",
    "p1_KNC.triangle(x_axis, buy_KNC_mal, color='red', legend='predict buys bad')\n",
    "p1_KNC.triangle(x_axis, sell_KNC_mal, color='red', legend='predict sells bad', angle=45)\n",
    "p1_KNC.line(x_axis, y_reg[firts_4bd-1:-1], color='blue', alpha=0.2, legend='bid')\n",
    "p1_KNC.legend.location = 'bottom_left'\n",
    "p1_KNC.legend.orientation = 'horizontal'\n",
    "p1_KNC.legend.background_fill_color = 'grey'\n",
    "p1_KNC.legend.background_fill_alpha = 0.1\n",
    "p1_KNC.legend.border_line_alpha = None\n",
    "\n",
    "p2_KNC = bp.Figure(width=750, height=300,title='Profit and Loss with a KNeighborsClassifier',x_axis_type='datetime')\n",
    "p2_KNC.line(dates[n_bdtrain:], result_KNC[:,0], color='blue', legend='PNL', alpha=0.5)\n",
    "p2_KNC.circle(dates[n_bdtrain:], result_KNC[:,0], color='blue', legend='PNL', alpha=0.5)\n",
    "p2_KNC.line(dates[n_bdtrain:], np.zeros(len(result_KNC)), color='red', legend='PNL = 0', line_dash='dotted')\n",
    "p2_KNC.line(dates[n_bdtrain:],np.ones(len(result_KNC[:,0]))*np.mean(result_KNC[:,0]),color='green',legend='avg PNL')\n",
    "p2_KNC.xaxis.axis_label = 'datetime'\n",
    "p2_KNC.yaxis.axis_label = 'PNL'\n",
    "p2_KNC.legend.location ='bottom_center'\n",
    "p2_KNC.legend.orientation = 'horizontal'\n",
    "\n",
    "p3_KNC = bp.Figure(width=400, height=250, title='buys per day', x_axis_type='datetime')\n",
    "p3_KNC.line(dates[n_bdtrain:], result_KNC[:,1], color='green')\n",
    "p3_KNC.circle(dates[n_bdtrain:], result_KNC[:,1], color='green')\n",
    "p3_KNC.xaxis.axis_label = 'datetime'\n",
    "p3_KNC.yaxis.axis_label = 'buys per day'\n",
    "#se utiliza el x_range para correlacionar las dos gráficas por el eje x\n",
    "p4_KNC = bp.Figure(width=400, height=250, title='sells per day', x_axis_type='datetime',x_range=p3_KNC.x_range)\n",
    "p4_KNC.line(dates[n_bdtrain:], result_KNC[:,2], color='red')\n",
    "p4_KNC.circle(dates[n_bdtrain:], result_KNC[:,2], color='red')\n",
    "p4_KNC.xaxis.axis_label = 'datetime'\n",
    "p4_KNC.yaxis.axis_label = 'sells per day'\n",
    "\n",
    "#para pintar el PNL que se va acumulando\n",
    "PNL_accu_KNC = []\n",
    "count_KNC = 0\n",
    "for i in result_KNC[:,0]:\n",
    "    count_KNC += i\n",
    "    PNL_accu_KNC.append(count_KNC)\n",
    "    \n",
    "p5_KNC = bp.Figure(width=750, height=300,title='PNL accumulated with a KNeighborsClassifier',x_axis_type='datetime',\n",
    "                   x_range=p2_KNC.x_range)\n",
    "p5_KNC.line(dates[n_bdtrain:],PNL_accu_KNC,color='blue',legend='PNL accumulated',alpha=0.5)\n",
    "p5_KNC.circle(dates[n_bdtrain:], PNL_accu_KNC, color='blue',legend='PNL accumulated', alpha=0.5)\n",
    "p5_KNC.line(dates[n_bdtrain:], np.zeros(len(result_KNC)), color='red', legend='PNL = 0', line_dash='dotted')\n",
    "p5_KNC.xaxis.axis_label = 'datetime'\n",
    "p5_KNC.yaxis.axis_label = 'PNL accumulated'\n",
    "p5_KNC.legend.location ='bottom_center'\n",
    "p5_KNC.legend.orientation = 'horizontal'\n",
    "#se pinta la señal submuestreada para verlas con en volumen de compras y ventas por día\n",
    "p6_KNC = bp.Figure(width=400, height=250, title='signal per hours', x_axis_type='datetime',x_range=p3_KNC.x_range)\n",
    "p6_KNC.line(signal_sample.index, signal_sample, color='blue')\n",
    "p6_KNC.xaxis.axis_label = 'datetime'\n",
    "p6_KNC.yaxis.axis_label = 'bid USD/JPY'\n",
    "\n",
    "bp.show(gridplot([[p1_KNC,p3_KNC],[p2_KNC,p4_KNC],[p5_KNC,p6_KNC]], toolbar_location=\"right\"))\n",
    "bp.output_file(filename='grafico KNeihgborsClassifier.html', title='KNeihgborsClassifier')"
   ]
  },
  {
   "cell_type": "markdown",
   "metadata": {},
   "source": [
    "### se prueba con un DecisionTreeClassifier"
   ]
  },
  {
   "cell_type": "code",
   "execution_count": 26,
   "metadata": {},
   "outputs": [
    {
     "name": "stdout",
     "output_type": "stream",
     "text": [
      "------ DecisionTreeClassifier -------\n",
      "average PNL:  -0.0937647058826\n",
      "average buy:  3707.05882353\n",
      "average sell:  3370.11764706\n",
      "-------------------------------------\n",
      "      PNL    buys   sells  longest_buys  longest_sells\n",
      "0  -0.932  3752.0  3975.0          11.0           11.0\n",
      "1   0.299  3915.0  3873.0          16.0           11.0\n",
      "2  -0.487  4195.0  3669.0         511.0           12.0\n",
      "3  -0.283  3679.0  3672.0          24.0           17.0\n",
      "4  -0.533  6035.0  1453.0        4640.0           19.0\n",
      "5   0.138  6706.0   968.0        2765.0           12.0\n",
      "6  -0.546  7383.0   325.0        3436.0           15.0\n",
      "7  -0.159  2361.0  5250.0          15.0         1991.0\n",
      "8   0.479  3178.0  3644.0          11.0           11.0\n",
      "9   0.092  3319.0  3897.0          12.0           33.0\n",
      "10 -0.261   158.0  7296.0          11.0         4468.0\n",
      "11  0.808  3665.0  3826.0          12.0           13.0\n",
      "12 -0.043  3469.0  3845.0          13.0           16.0\n",
      "13 -0.898  3915.0  3500.0         218.0           17.0\n",
      "14  0.655  3436.0  3914.0          12.0           14.0\n",
      "15  0.070  3608.0  3886.0          12.0           23.0\n",
      "16  0.007   246.0   299.0           8.0           10.0\n"
     ]
    }
   ],
   "source": [
    "from sklearn.tree import DecisionTreeClassifier\n",
    "\n",
    "est_DTC = PNLEstimatorWrapper(DecisionTreeClassifier(), PNL_column='PNL')\n",
    "result_DTC = step_validation(est_DTC, X, y, v_split(X,4,1,1))\n",
    "result_DTC, predict_DTC = redim(result_DTC)\n",
    "print('------ DecisionTreeClassifier -------')\n",
    "print('average PNL: ', np.mean(result_DTC[:,0]))\n",
    "print('average buy: ', np.mean(result_DTC[:,1]))\n",
    "print('average sell: ', np.mean(result_DTC[:,2]))\n",
    "print('-------------------------------------')\n",
    "print(pd.DataFrame(result_DTC, columns=list(['PNL','buys','sells','longest_buys','longest_sells'])))"
   ]
  },
  {
   "cell_type": "code",
   "execution_count": 27,
   "metadata": {},
   "outputs": [
    {
     "name": "stdout",
     "output_type": "stream",
     "text": [
      "(120312,)\n",
      "(120312,)\n",
      "(120312,)\n",
      "(120312,)\n"
     ]
    }
   ],
   "source": [
    "#para graficar las compras acertadas sobre la señal original\n",
    "buy_DTC_ok = ((predict_DTC==bt[firts_4bd:])&(predict_DTC==1))*y_reg[firts_4bd-1:-1]\n",
    "buy_DTC_ok[buy_DTC_ok==0] = np.nan \n",
    "print (buy_DTC_ok.shape)\n",
    "#para graficar las ventas acertadas sobre la señal original\n",
    "sell_DTC_ok = ((predict_DTC==bt[firts_4bd:])&(predict_DTC==0))*y_reg[firts_4bd-1:-1]\n",
    "sell_DTC_ok[sell_DTC_ok==0] = np.nan\n",
    "print (sell_DTC_ok.shape)\n",
    "\n",
    "#para graficar las compras fallidas sobre la señal original\n",
    "buy_DTC_mal = ((predict_DTC!=bt[firts_4bd:])&(predict_DTC==1))*y_reg[firts_4bd-1:-1]\n",
    "buy_DTC_mal[buy_DTC_mal==0] = np.nan \n",
    "print (buy_DTC_mal.shape)\n",
    "#para graficar las ventas fallidas sobre la señal original\n",
    "sell_DTC_mal = ((predict_DTC!=bt[firts_4bd:])&(predict_DTC==0))*y_reg[firts_4bd-1:-1]\n",
    "sell_DTC_mal[sell_DTC_mal==0] = np.nan\n",
    "print (sell_DTC_mal.shape)"
   ]
  },
  {
   "cell_type": "code",
   "execution_count": 29,
   "metadata": {
    "collapsed": true
   },
   "outputs": [],
   "source": [
    "bp.reset_output()"
   ]
  },
  {
   "cell_type": "code",
   "execution_count": 31,
   "metadata": {
    "collapsed": true
   },
   "outputs": [],
   "source": [
    "p1_DTC = bp.figure(width=750, height=300,title='buys and sells with a DecisionTreeClassifier',x_axis_type='datetime',\n",
    "               title_location = 'above')\n",
    "p1_DTC.triangle(x_axis, buy_DTC_ok, color='green', legend='predict buys ok')\n",
    "p1_DTC.triangle(x_axis, sell_DTC_ok, color='green', legend='predict sells ok', angle=45)\n",
    "p1_DTC.xaxis.axis_label = 'Datetime'\n",
    "p1_DTC.yaxis.axis_label = 'USD/JPY'\n",
    "p1_DTC.triangle(x_axis, buy_DTC_mal, color='red', legend='predict buys bad')\n",
    "p1_DTC.triangle(x_axis, sell_DTC_mal, color='red', legend='predict sells bad', angle=45)\n",
    "p1_DTC.line(x_axis, y_reg[firts_4bd-1:-1], color='blue', alpha=0.2, legend='bid')\n",
    "p1_DTC.legend.location = 'bottom_left'\n",
    "p1_DTC.legend.orientation = 'horizontal'\n",
    "p1_DTC.legend.background_fill_color = 'grey'\n",
    "p1_DTC.legend.background_fill_alpha = 0.1\n",
    "p1_DTC.legend.border_line_alpha = None\n",
    "\n",
    "p2_DTC = bp.figure(width=750, height=300,title='Profit and Loss with a DecisionTreeClassifier'\n",
    "                   ,x_axis_type='datetime')\n",
    "p2_DTC.line(dates[n_bdtrain:], result_DTC[:,0], color='blue', legend='PNL', alpha=0.5)\n",
    "p2_DTC.circle(dates[n_bdtrain:], result_DTC[:,0], color='blue', legend='PNL', alpha=0.5)\n",
    "p2_DTC.line(dates[n_bdtrain:], np.zeros(len(result_DTC)), color='red', legend='PNL = 0', line_dash='dotted')\n",
    "p2_DTC.line(dates[n_bdtrain:],np.ones(len(result_DTC[:,0]))*np.mean(result_DTC[:,0]),color='green',legend='avg PNL')\n",
    "p2_DTC.xaxis.axis_label = 'datetime'\n",
    "p2_DTC.yaxis.axis_label = 'PNL'\n",
    "p2_DTC.legend.location ='bottom_center'\n",
    "p2_DTC.legend.orientation = 'horizontal'\n",
    "\n",
    "p3_DTC = bp.figure(width=400, height=250, title='buys per day', x_axis_type='datetime')\n",
    "p3_DTC.line(dates[n_bdtrain:], result_DTC[:,1], color='green')\n",
    "p3_DTC.circle(dates[n_bdtrain:], result_DTC[:,1], color='green')\n",
    "p3_DTC.xaxis.axis_label = 'datetime'\n",
    "p3_DTC.yaxis.axis_label = 'buys per day'\n",
    "#se utiliza el x_range para correlacionar las dos gráficas por el eje x\n",
    "p4_DTC = bp.figure(width=400, height=250, title='sells per day', x_axis_type='datetime',x_range=p3_DTC.x_range)\n",
    "p4_DTC.line(dates[n_bdtrain:], result_DTC[:,2], color='red')\n",
    "p4_DTC.circle(dates[n_bdtrain:], result_DTC[:,2], color='red')\n",
    "p4_DTC.xaxis.axis_label = 'datetime'\n",
    "p4_DTC.yaxis.axis_label = 'sells per day'\n",
    "\n",
    "#para pintar el PNL que se va acumulando\n",
    "PNL_accu_DTC = []\n",
    "count_DTC = 0\n",
    "for i in result_DTC[:,0]:\n",
    "    count_DTC += i\n",
    "    PNL_accu_DTC.append(count_DTC)\n",
    "    \n",
    "p5_DTC = bp.figure(width=750, height=300,title='PNL accumulated with a DecisionTreeClassifier',\n",
    "                   x_axis_type='datetime',x_range=p2_DTC.x_range)\n",
    "p5_DTC.line(dates[n_bdtrain:],PNL_accu_DTC,color='blue',legend='PNL accumulated',alpha=0.5)\n",
    "p5_DTC.circle(dates[n_bdtrain:], PNL_accu_DTC, color='blue',legend='PNL accumulated', alpha=0.5)\n",
    "p5_DTC.line(dates[n_bdtrain:], np.zeros(len(result_DTC)), color='red', legend='PNL = 0', line_dash='dotted')\n",
    "p5_DTC.xaxis.axis_label = 'datetime'\n",
    "p5_DTC.yaxis.axis_label = 'PNL accumulated'\n",
    "p5_DTC.legend.location ='bottom_center'\n",
    "p5_DTC.legend.orientation = 'horizontal'\n",
    "#se pinta la señal submuestreada para verlas con en volumen de compras y ventas por día\n",
    "p6_DTC = bp.figure(width=400, height=250, title='signal per hours', x_axis_type='datetime',x_range=p3_DTC.x_range)\n",
    "p6_DTC.line(signal_sample.index, signal_sample, color='blue')\n",
    "p6_DTC.xaxis.axis_label = 'datetime'\n",
    "p6_DTC.yaxis.axis_label = 'bid USD/JPY'\n",
    "\n",
    "bp.show(gridplot([[p1_DTC,p3_DTC],[p2_DTC,p4_DTC],[p5_DTC,p6_DTC]], toolbar_location=\"right\"))\n",
    "bp.output_file(filename='grafico DecisionTreeClassifier.html', title='DecisionTreeClassifier')"
   ]
  },
  {
   "cell_type": "markdown",
   "metadata": {},
   "source": [
    "### probando con un RandomForestClassifier, con ciertos parametros establecidos los cuales me han arrojado mejores resultados"
   ]
  },
  {
   "cell_type": "code",
   "execution_count": 32,
   "metadata": {},
   "outputs": [
    {
     "name": "stdout",
     "output_type": "stream",
     "text": [
      "RandomForestClassifier\n",
      "PNL promedio:  0.181529411764\n",
      "buy promedio:  3695.58823529\n",
      "sell promedio:  3381.58823529\n",
      "-------------------------------------\n",
      "      PNL    buys   sells  longest_buys  longest_sells\n",
      "0  -0.712  3758.0  3969.0          12.0           20.0\n",
      "1   0.489  3693.0  4095.0          14.0           33.0\n",
      "2   1.473  4246.0  3618.0         511.0           14.0\n",
      "3  -0.381  3630.0  3721.0          21.0           17.0\n",
      "4   0.773  6045.0  1443.0        4640.0           18.0\n",
      "5   0.446  6712.0   962.0        2765.0           14.0\n",
      "6  -0.436  7408.0   300.0        3440.0           13.0\n",
      "7   0.571  2116.0  5495.0          11.0         1991.0\n",
      "8  -0.403  3105.0  3717.0          16.0           26.0\n",
      "9   1.506  3290.0  3926.0          13.0           35.0\n",
      "10 -0.521   156.0  7298.0          13.0         5974.0\n",
      "11  0.100  3731.0  3760.0          25.0           13.0\n",
      "12 -0.345  3433.0  3881.0          18.0           18.0\n",
      "13  0.002  3979.0  3436.0         241.0           21.0\n",
      "14 -0.335  3486.0  3864.0          11.0           17.0\n",
      "15  0.684  3758.0  3736.0          18.0           15.0\n",
      "16  0.175   279.0   266.0          11.0           11.0\n"
     ]
    }
   ],
   "source": [
    "from sklearn.ensemble import RandomForestClassifier\n",
    "\n",
    "est_RFC = PNLEstimatorWrapper(RandomForestClassifier(n_estimators=15, n_jobs=3), PNL_column='PNL')\n",
    "result_RFC = step_validation(est_RFC, X, y, v_split(X,4,1,1))\n",
    "result_RFC, predict_RFC = redim(result_RFC)\n",
    "print('RandomForestClassifier')\n",
    "print('PNL promedio: ', np.mean(result_RFC[:,0]))\n",
    "print('buy promedio: ', np.mean(result_RFC[:,1]))\n",
    "print('sell promedio: ', np.mean(result_RFC[:,2]))\n",
    "print('-------------------------------------')\n",
    "print(pd.DataFrame(result_RFC, columns=list(['PNL','buys','sells','longest_buys','longest_sells'])))"
   ]
  },
  {
   "cell_type": "code",
   "execution_count": 33,
   "metadata": {},
   "outputs": [
    {
     "name": "stdout",
     "output_type": "stream",
     "text": [
      "(120312,)\n",
      "(120312,)\n",
      "(120312,)\n",
      "(120312,)\n"
     ]
    }
   ],
   "source": [
    "#para graficar las compras acertadas sobre la señal original\n",
    "buy_RFC_ok = ((predict_RFC==bt[firts_4bd:])&(predict_RFC==1))*y_reg[firts_4bd-1:-1]\n",
    "buy_RFC_ok[buy_RFC_ok==0] = np.nan \n",
    "print (buy_RFC_ok.shape)\n",
    "#para graficar las ventas acertadas sobre la señal original\n",
    "sell_RFC_ok = ((predict_RFC==bt[firts_4bd:])&(predict_RFC==0))*y_reg[firts_4bd-1:-1]\n",
    "sell_RFC_ok[sell_RFC_ok==0] = np.nan\n",
    "print (sell_RFC_ok.shape)\n",
    "\n",
    "#para graficar las compras fallidas sobre la señal original\n",
    "buy_RFC_mal = ((predict_RFC!=bt[firts_4bd:])&(predict_RFC==1))*y_reg[firts_4bd-1:-1]\n",
    "buy_RFC_mal[buy_RFC_mal==0] = np.nan \n",
    "print (buy_RFC_mal.shape)\n",
    "#para graficar las ventas fallidas sobre la señal original\n",
    "sell_RFC_mal = ((predict_RFC!=bt[firts_4bd:])&(predict_RFC==0))*y_reg[firts_4bd-1:-1]\n",
    "sell_RFC_mal[sell_RFC_mal==0] = np.nan\n",
    "print (sell_RFC_mal.shape)"
   ]
  },
  {
   "cell_type": "code",
   "execution_count": 34,
   "metadata": {
    "collapsed": true
   },
   "outputs": [],
   "source": [
    "bp.reset_output()"
   ]
  },
  {
   "cell_type": "code",
   "execution_count": 36,
   "metadata": {
    "collapsed": true
   },
   "outputs": [],
   "source": [
    "p1_RFC = bp.figure(width=750, height=300,title='buys and sells with a RandomForestClassifier',x_axis_type='datetime',\n",
    "               title_location = 'above')\n",
    "p1_RFC.triangle(x_axis, buy_RFC_ok, color='green', legend='predict buys ok')\n",
    "p1_RFC.triangle(x_axis, sell_RFC_ok, color='green', legend='predict sells ok', angle=45)\n",
    "p1_RFC.xaxis.axis_label = 'Datetime'\n",
    "p1_RFC.yaxis.axis_label = 'USD/JPY'\n",
    "p1_RFC.triangle(x_axis, buy_RFC_mal, color='red', legend='predict buys bad')\n",
    "p1_RFC.triangle(x_axis, sell_RFC_mal, color='red', legend='predict sells bad', angle=45)\n",
    "p1_RFC.line(x_axis, y_reg[firts_4bd-1:-1], color='blue', alpha=0.2, legend='bid')\n",
    "p1_RFC.legend.location = 'bottom_left'\n",
    "p1_RFC.legend.orientation = 'horizontal'\n",
    "p1_RFC.legend.background_fill_color = 'grey'\n",
    "p1_RFC.legend.background_fill_alpha = 0.1\n",
    "p1_RFC.legend.border_line_alpha = None\n",
    "\n",
    "p2_RFC = bp.figure(width=750, height=300,title='Profit and Loss with a RandomForestClassifier'\n",
    "                   ,x_axis_type='datetime')\n",
    "p2_RFC.line(dates[n_bdtrain:], result_RFC[:,0], color='blue', legend='PNL', alpha=0.5)\n",
    "p2_RFC.circle(dates[n_bdtrain:], result_RFC[:,0], color='blue', legend='PNL', alpha=0.5)\n",
    "p2_RFC.line(dates[n_bdtrain:], np.zeros(len(result_RFC)), color='red', legend='PNL = 0', line_dash='dotted')\n",
    "p2_RFC.line(dates[n_bdtrain:],np.ones(len(result_RFC[:,0]))*np.mean(result_RFC[:,0]),color='green',legend='avg PNL')\n",
    "p2_RFC.xaxis.axis_label = 'datetime'\n",
    "p2_RFC.yaxis.axis_label = 'PNL'\n",
    "p2_RFC.legend.location ='bottom_center'\n",
    "p2_RFC.legend.orientation = 'horizontal'\n",
    "\n",
    "p3_RFC = bp.figure(width=400, height=250, title='buys per day', x_axis_type='datetime')\n",
    "p3_RFC.line(dates[n_bdtrain:], result_RFC[:,1], color='green')\n",
    "p3_RFC.circle(dates[n_bdtrain:], result_RFC[:,1], color='green')\n",
    "p3_RFC.xaxis.axis_label = 'datetime'\n",
    "p3_RFC.yaxis.axis_label = 'buys per day'\n",
    "#se utiliza el x_range para correlacionar las dos gráficas por el eje x\n",
    "p4_RFC = bp.figure(width=400, height=250, title='sells per day', x_axis_type='datetime',x_range=p3_RFC.x_range)\n",
    "p4_RFC.line(dates[n_bdtrain:], result_RFC[:,2], color='red')\n",
    "p4_RFC.circle(dates[n_bdtrain:], result_RFC[:,2], color='red')\n",
    "p4_RFC.xaxis.axis_label = 'datetime'\n",
    "p4_RFC.yaxis.axis_label = 'sells per day'\n",
    "\n",
    "#para pintar el PNL que se va acumulando\n",
    "PNL_accu_RFC = []\n",
    "count_RFC = 0\n",
    "for i in result_RFC[:,0]:\n",
    "    count_RFC += i\n",
    "    PNL_accu_RFC.append(count_RFC)\n",
    "    \n",
    "p5_RFC = bp.figure(width=750, height=300,title='PNL accumulated with a RandomForestClassifier',\n",
    "                   x_axis_type='datetime',x_range=p2_RFC.x_range)\n",
    "p5_RFC.line(dates[n_bdtrain:],PNL_accu_RFC,color='blue',legend='PNL accumulated',alpha=0.5)\n",
    "p5_RFC.circle(dates[n_bdtrain:], PNL_accu_RFC, color='blue',legend='PNL accumulated', alpha=0.5)\n",
    "p5_RFC.line(dates[n_bdtrain:], np.zeros(len(result_RFC)), color='red', legend='PNL = 0', line_dash='dotted')\n",
    "p5_RFC.xaxis.axis_label = 'datetime'\n",
    "p5_RFC.yaxis.axis_label = 'PNL accumulated'\n",
    "p5_RFC.legend.location ='bottom_center'\n",
    "p5_RFC.legend.orientation = 'horizontal'\n",
    "#se pinta la señal submuestreada para verlas con en volumen de compras y ventas por día\n",
    "p6_RFC = bp.figure(width=400, height=250, title='signal per hours', x_axis_type='datetime',x_range=p3_RFC.x_range)\n",
    "p6_RFC.line(signal_sample.index, signal_sample, color='blue')\n",
    "p6_RFC.xaxis.axis_label = 'datetime'\n",
    "p6_RFC.yaxis.axis_label = 'bid USD/JPY'\n",
    "\n",
    "bp.show(gridplot([[p1_RFC,p3_RFC],[p2_RFC,p4_RFC],[p5_RFC,p6_RFC]], toolbar_location=\"right\"))\n",
    "bp.output_file(filename='grafico RandomForestClassifier.html', title='RandomForestClassifier')"
   ]
  },
  {
   "cell_type": "code",
   "execution_count": null,
   "metadata": {
    "collapsed": true
   },
   "outputs": [],
   "source": []
  }
 ],
 "metadata": {
  "kernelspec": {
   "display_name": "Python 3",
   "language": "python",
   "name": "python3"
  },
  "language_info": {
   "codemirror_mode": {
    "name": "ipython",
    "version": 3
   },
   "file_extension": ".py",
   "mimetype": "text/x-python",
   "name": "python",
   "nbconvert_exporter": "python",
   "pygments_lexer": "ipython3",
   "version": "3.6.2"
  }
 },
 "nbformat": 4,
 "nbformat_minor": 2
}
