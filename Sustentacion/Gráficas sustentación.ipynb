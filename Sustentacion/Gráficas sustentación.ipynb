{
 "cells": [
  {
   "cell_type": "code",
   "execution_count": 1,
   "metadata": {
    "collapsed": true
   },
   "outputs": [],
   "source": [
    "import numpy as np\n",
    "import pandas as pd"
   ]
  },
  {
   "cell_type": "code",
   "execution_count": 30,
   "metadata": {
    "collapsed": true
   },
   "outputs": [],
   "source": [
    "data = pd.read_csv('../data/TrueFX/EUR-USD/datos_procesados_5T_EURUSD-2018-01.csv',index_col=0,\n",
    "                  infer_datetime_format=True, parse_dates=True)"
   ]
  },
  {
   "cell_type": "code",
   "execution_count": 3,
   "metadata": {},
   "outputs": [
    {
     "data": {
      "text/html": [
       "<div>\n",
       "<style>\n",
       "    .dataframe thead tr:only-child th {\n",
       "        text-align: right;\n",
       "    }\n",
       "\n",
       "    .dataframe thead th {\n",
       "        text-align: left;\n",
       "    }\n",
       "\n",
       "    .dataframe tbody tr th {\n",
       "        vertical-align: top;\n",
       "    }\n",
       "</style>\n",
       "<table border=\"1\" class=\"dataframe\">\n",
       "  <thead>\n",
       "    <tr style=\"text-align: right;\">\n",
       "      <th></th>\n",
       "      <th>bid</th>\n",
       "      <th>ask</th>\n",
       "    </tr>\n",
       "  </thead>\n",
       "  <tbody>\n",
       "    <tr>\n",
       "      <th>2018-01-02 00:00:00</th>\n",
       "      <td>1.20015</td>\n",
       "      <td>1.20110</td>\n",
       "    </tr>\n",
       "    <tr>\n",
       "      <th>2018-01-02 00:05:00</th>\n",
       "      <td>1.20047</td>\n",
       "      <td>1.20084</td>\n",
       "    </tr>\n",
       "    <tr>\n",
       "      <th>2018-01-02 00:10:00</th>\n",
       "      <td>1.20082</td>\n",
       "      <td>1.20126</td>\n",
       "    </tr>\n",
       "    <tr>\n",
       "      <th>2018-01-02 00:15:00</th>\n",
       "      <td>1.20035</td>\n",
       "      <td>1.20091</td>\n",
       "    </tr>\n",
       "    <tr>\n",
       "      <th>2018-01-02 00:20:00</th>\n",
       "      <td>1.20049</td>\n",
       "      <td>1.20085</td>\n",
       "    </tr>\n",
       "  </tbody>\n",
       "</table>\n",
       "</div>"
      ],
      "text/plain": [
       "                         bid      ask\n",
       "2018-01-02 00:00:00  1.20015  1.20110\n",
       "2018-01-02 00:05:00  1.20047  1.20084\n",
       "2018-01-02 00:10:00  1.20082  1.20126\n",
       "2018-01-02 00:15:00  1.20035  1.20091\n",
       "2018-01-02 00:20:00  1.20049  1.20085"
      ]
     },
     "execution_count": 3,
     "metadata": {},
     "output_type": "execute_result"
    }
   ],
   "source": [
    "data.head()"
   ]
  },
  {
   "cell_type": "code",
   "execution_count": 3,
   "metadata": {
    "collapsed": true
   },
   "outputs": [],
   "source": [
    "import matplotlib.pyplot as plt\n",
    "%matplotlib inline"
   ]
  },
  {
   "cell_type": "code",
   "execution_count": 5,
   "metadata": {
    "collapsed": true
   },
   "outputs": [],
   "source": [
    "data = data.dropna()"
   ]
  },
  {
   "cell_type": "code",
   "execution_count": 6,
   "metadata": {},
   "outputs": [
    {
     "data": {
      "image/png": "[encoded data removed]",
      "text/plain": [
       "<matplotlib.figure.Figure at 0x7f32b0672eb8>"
      ]
     },
     "metadata": {},
     "output_type": "display_data"
    }
   ],
   "source": [
    "plt.figure(figsize=(5.5,3))\n",
    "ax = plt.axes()\n",
    "ax.spines['right'].set_visible(False)\n",
    "plt.title('GBP/USD')\n",
    "plt.xlabel('minutos')\n",
    "plt.grid()\n",
    "ax.spines['top'].set_visible(False)\n",
    "plt.plot(np.arange(10),data.ask[:10], color='green', linewidth=2.5, alpha=.8, label='ask')\n",
    "plt.plot(np.arange(10),data.bid[:10], color='#EF1F07', linewidth=2.5, label='bid')\n",
    "plt.legend(loc='lower right')\n",
    "plt.scatter(6,data.ask[6], color='green', linewidths=1.5)\n",
    "plt.scatter(7,data.bid[7], color='red', linewidths=1.5)\n",
    "#plt.ylim(1.2,1.2017)\n",
    "plt.xticks(np.arange(10), data.index.minute[:10]);\n",
    "#ax.yaxis.grid(True, which='major')"
   ]
  },
  {
   "cell_type": "code",
   "execution_count": 7,
   "metadata": {},
   "outputs": [
    {
     "data": {
      "text/plain": [
       "(1.20113, 1.20079)"
      ]
     },
     "execution_count": 7,
     "metadata": {},
     "output_type": "execute_result"
    }
   ],
   "source": [
    "data.ask[6], data.bid[6]"
   ]
  },
  {
   "cell_type": "markdown",
   "metadata": {},
   "source": [
    "### para las series financieras"
   ]
  },
  {
   "cell_type": "code",
   "execution_count": 8,
   "metadata": {},
   "outputs": [
    {
     "data": {
      "image/png": "[encoded data removed]",
      "text/plain": [
       "<matplotlib.figure.Figure at 0x7f32b0672b00>"
      ]
     },
     "metadata": {},
     "output_type": "display_data"
    }
   ],
   "source": [
    "plt.figure(figsize=(4,2))\n",
    "ax = plt.axes()\n",
    "ax.spines['right'].set_visible(False)\n",
    "plt.title('GBP/USD')\n",
    "plt.grid()\n",
    "plt.xlabel('minutos')\n",
    "ax.spines['top'].set_visible(False)\n",
    "plt.plot(np.arange(10),data.ask[:10], color='brown', linewidth=2.5, alpha=.8, label='ask')\n",
    "plt.plot(np.arange(10),data.bid[:10], color='purple', linewidth=2.5, label='bid')\n",
    "plt.legend(loc='center right')\n",
    "#plt.ylim(1.2,1.2017)\n",
    "plt.xticks(np.arange(10), data.index.minute[:10]);\n",
    "#ax.yaxis.grid(True, which='major')"
   ]
  },
  {
   "cell_type": "code",
   "execution_count": null,
   "metadata": {
    "collapsed": true
   },
   "outputs": [],
   "source": []
  },
  {
   "cell_type": "code",
   "execution_count": 4,
   "metadata": {
    "collapsed": true
   },
   "outputs": [],
   "source": [
    "data_1 = pd.read_csv('../data/TrueFX/EUR-USD/EURUSD-2018-01.csv', parse_dates=True, index_col=1,\n",
    "                     infer_datetime_format=True, names=['ref','bid','ask'])"
   ]
  },
  {
   "cell_type": "code",
   "execution_count": 33,
   "metadata": {},
   "outputs": [
    {
     "data": {
      "text/plain": [
       "(3952896, 3)"
      ]
     },
     "execution_count": 33,
     "metadata": {},
     "output_type": "execute_result"
    }
   ],
   "source": [
    "data_1.shape"
   ]
  },
  {
   "cell_type": "code",
   "execution_count": 7,
   "metadata": {
    "collapsed": true
   },
   "outputs": [],
   "source": [
    "data = data.dropna()"
   ]
  },
  {
   "cell_type": "code",
   "execution_count": 24,
   "metadata": {},
   "outputs": [
    {
     "data": {
      "image/png": "[encoded data removed]",
      "text/plain": [
       "<matplotlib.figure.Figure at 0x7fda9b3ebda0>"
      ]
     },
     "metadata": {},
     "output_type": "display_data"
    }
   ],
   "source": [
    "plt.figure(figsize=(7,3))\n",
    "ax = plt.axes()\n",
    "ax.spines['right'].set_visible(False)\n",
    "plt.title('EUR/USD')\n",
    "plt.grid()\n",
    "plt.xlabel('time')\n",
    "ax.spines['top'].set_visible(False)\n",
    "plt.plot(np.arange(data.shape[0]),data.bid, color='#5492F2', linewidth=1.5, label='bid')\n",
    "plt.legend(loc='upper left');\n",
    "#plt.ylim(1.2,1.2017)\n",
    "plt.xticks(([0,2000,4000,6000]),([data.index[0],data.index[2000],data.index[4000],data.index[6000]]));"
   ]
  },
  {
   "cell_type": "code",
   "execution_count": 31,
   "metadata": {},
   "outputs": [],
   "source": [
    "%run ../code/build_dataset.py\n",
    "\n",
    "data, target = build_dataset(data, window=7)"
   ]
  },
  {
   "cell_type": "code",
   "execution_count": 32,
   "metadata": {},
   "outputs": [
    {
     "data": {
      "text/html": [
       "<div>\n",
       "<style>\n",
       "    .dataframe thead tr:only-child th {\n",
       "        text-align: right;\n",
       "    }\n",
       "\n",
       "    .dataframe thead th {\n",
       "        text-align: left;\n",
       "    }\n",
       "\n",
       "    .dataframe tbody tr th {\n",
       "        vertical-align: top;\n",
       "    }\n",
       "</style>\n",
       "<table border=\"1\" class=\"dataframe\">\n",
       "  <thead>\n",
       "    <tr style=\"text-align: right;\">\n",
       "      <th></th>\n",
       "      <th>0</th>\n",
       "      <th>1</th>\n",
       "      <th>2</th>\n",
       "      <th>3</th>\n",
       "      <th>4</th>\n",
       "      <th>5</th>\n",
       "      <th>6</th>\n",
       "    </tr>\n",
       "  </thead>\n",
       "  <tbody>\n",
       "    <tr>\n",
       "      <th>2018-01-02 00:30:00</th>\n",
       "      <td>1.20015</td>\n",
       "      <td>1.20047</td>\n",
       "      <td>1.20082</td>\n",
       "      <td>1.20035</td>\n",
       "      <td>1.20049</td>\n",
       "      <td>1.20047</td>\n",
       "      <td>1.20079</td>\n",
       "    </tr>\n",
       "    <tr>\n",
       "      <th>2018-01-02 00:35:00</th>\n",
       "      <td>1.20047</td>\n",
       "      <td>1.20082</td>\n",
       "      <td>1.20035</td>\n",
       "      <td>1.20049</td>\n",
       "      <td>1.20047</td>\n",
       "      <td>1.20079</td>\n",
       "      <td>1.20135</td>\n",
       "    </tr>\n",
       "    <tr>\n",
       "      <th>2018-01-02 00:40:00</th>\n",
       "      <td>1.20082</td>\n",
       "      <td>1.20035</td>\n",
       "      <td>1.20049</td>\n",
       "      <td>1.20047</td>\n",
       "      <td>1.20079</td>\n",
       "      <td>1.20135</td>\n",
       "      <td>1.20143</td>\n",
       "    </tr>\n",
       "    <tr>\n",
       "      <th>2018-01-02 00:45:00</th>\n",
       "      <td>1.20035</td>\n",
       "      <td>1.20049</td>\n",
       "      <td>1.20047</td>\n",
       "      <td>1.20079</td>\n",
       "      <td>1.20135</td>\n",
       "      <td>1.20143</td>\n",
       "      <td>1.20149</td>\n",
       "    </tr>\n",
       "    <tr>\n",
       "      <th>2018-01-02 00:50:00</th>\n",
       "      <td>1.20049</td>\n",
       "      <td>1.20047</td>\n",
       "      <td>1.20079</td>\n",
       "      <td>1.20135</td>\n",
       "      <td>1.20143</td>\n",
       "      <td>1.20149</td>\n",
       "      <td>1.20133</td>\n",
       "    </tr>\n",
       "  </tbody>\n",
       "</table>\n",
       "</div>"
      ],
      "text/plain": [
       "                           0        1        2        3        4        5  \\\n",
       "2018-01-02 00:30:00  1.20015  1.20047  1.20082  1.20035  1.20049  1.20047   \n",
       "2018-01-02 00:35:00  1.20047  1.20082  1.20035  1.20049  1.20047  1.20079   \n",
       "2018-01-02 00:40:00  1.20082  1.20035  1.20049  1.20047  1.20079  1.20135   \n",
       "2018-01-02 00:45:00  1.20035  1.20049  1.20047  1.20079  1.20135  1.20143   \n",
       "2018-01-02 00:50:00  1.20049  1.20047  1.20079  1.20135  1.20143  1.20149   \n",
       "\n",
       "                           6  \n",
       "2018-01-02 00:30:00  1.20079  \n",
       "2018-01-02 00:35:00  1.20135  \n",
       "2018-01-02 00:40:00  1.20143  \n",
       "2018-01-02 00:45:00  1.20149  \n",
       "2018-01-02 00:50:00  1.20133  "
      ]
     },
     "execution_count": 32,
     "metadata": {},
     "output_type": "execute_result"
    }
   ],
   "source": [
    "data.head()"
   ]
  },
  {
   "cell_type": "code",
   "execution_count": 33,
   "metadata": {},
   "outputs": [
    {
     "data": {
      "text/plain": [
       "array([ 1.20135,  1.20143,  1.20149, ...,  1.2422 ,  1.24175,  1.24168])"
      ]
     },
     "execution_count": 33,
     "metadata": {},
     "output_type": "execute_result"
    }
   ],
   "source": [
    "target"
   ]
  },
  {
   "cell_type": "code",
   "execution_count": 59,
   "metadata": {},
   "outputs": [
    {
     "data": {
      "image/png": "[encoded data removed]",
      "text/plain": [
       "<matplotlib.figure.Figure at 0x7fda9f13cd30>"
      ]
     },
     "metadata": {},
     "output_type": "display_data"
    }
   ],
   "source": [
    "plt.figure(figsize=(4,2))\n",
    "ax = plt.axes()\n",
    "ax.spines['right'].set_visible(False)\n",
    "plt.grid()\n",
    "i = 3\n",
    "plt.title('Window '+str(i+1))\n",
    "plt.xlabel(data.index[i])\n",
    "ax.spines['top'].set_visible(False)\n",
    "plt.plot(np.arange(7),data.iloc[i,:], color='#5492F2', linewidth=2.5, label='bid')\n",
    "plt.plot(np.arange(8),list(np.zeros(6)*np.nan) + list([data.iloc[i,-1],target[i]])\n",
    "         ,color='red',linewidth=2.5, label='target');\n",
    "plt.legend(loc='upper left');"
   ]
  },
  {
   "cell_type": "code",
   "execution_count": null,
   "metadata": {
    "collapsed": true
   },
   "outputs": [],
   "source": []
  },
  {
   "cell_type": "code",
   "execution_count": null,
   "metadata": {
    "collapsed": true
   },
   "outputs": [],
   "source": []
  },
  {
   "cell_type": "code",
   "execution_count": null,
   "metadata": {
    "collapsed": true
   },
   "outputs": [],
   "source": []
  },
  {
   "cell_type": "code",
   "execution_count": null,
   "metadata": {
    "collapsed": true
   },
   "outputs": [],
   "source": []
  },
  {
   "cell_type": "code",
   "execution_count": null,
   "metadata": {
    "collapsed": true
   },
   "outputs": [],
   "source": []
  },
  {
   "cell_type": "code",
   "execution_count": null,
   "metadata": {
    "collapsed": true
   },
   "outputs": [],
   "source": []
  },
  {
   "cell_type": "code",
   "execution_count": null,
   "metadata": {
    "collapsed": true
   },
   "outputs": [],
   "source": []
  },
  {
   "cell_type": "code",
   "execution_count": 6,
   "metadata": {},
   "outputs": [
    {
     "data": {
      "text/plain": [
       "(6361, 2)"
      ]
     },
     "execution_count": 6,
     "metadata": {},
     "output_type": "execute_result"
    }
   ],
   "source": [
    "data.shape"
   ]
  },
  {
   "cell_type": "code",
   "execution_count": null,
   "metadata": {
    "collapsed": true
   },
   "outputs": [],
   "source": []
  },
  {
   "cell_type": "code",
   "execution_count": 10,
   "metadata": {},
   "outputs": [
    {
     "data": {
      "image/png": "[encoded data removed]",
      "text/plain": [
       "<matplotlib.figure.Figure at 0x7fa53ee64f60>"
      ]
     },
     "metadata": {},
     "output_type": "display_data"
    }
   ],
   "source": [
    "plt.figure(figsize=(7,3))\n",
    "ax = plt.axes()\n",
    "ax.spines['right'].set_visible(False)\n",
    "plt.title('EUR/USD')\n",
    "plt.grid()\n",
    "plt.xlabel('time')\n",
    "ax.spines['top'].set_visible(False)\n",
    "plt.plot(data_1.index,data_1.bid, color='#5492F2', linewidth=2.5, label='bid')\n",
    "plt.legend(loc='upper left');\n",
    "#plt.ylim(1.2,1.2017)\n",
    "#plt.xticks(np.arange(10), data.index.minute[:10]);"
   ]
  },
  {
   "cell_type": "code",
   "execution_count": 49,
   "metadata": {},
   "outputs": [
    {
     "data": {
      "image/png": "[encoded data removed]",
      "text/plain": [
       "<matplotlib.figure.Figure at 0x7fa53dbc3320>"
      ]
     },
     "metadata": {},
     "output_type": "display_data"
    }
   ],
   "source": [
    "plt.figure(figsize=(5,3))\n",
    "ax = plt.axes()\n",
    "ax.spines['right'].set_visible(False)\n",
    "plt.title('EUR/USD')\n",
    "plt.grid()\n",
    "plt.xlabel('time')\n",
    "ax.spines['top'].set_visible(False)\n",
    "plt.plot(data_1.index[int(3.951999*10**6):],data_1.bid[int(3.951999*10**6):]\n",
    "         , color='#5492F2', linewidth=1, label='bid')\n",
    "plt.legend(loc='upper left');"
   ]
  },
  {
   "cell_type": "code",
   "execution_count": 51,
   "metadata": {
    "collapsed": true
   },
   "outputs": [],
   "source": [
    "data_1 = data_1.bid.resample('5T',loffset='5T').last()"
   ]
  },
  {
   "cell_type": "code",
   "execution_count": 52,
   "metadata": {},
   "outputs": [
    {
     "data": {
      "text/plain": [
       "(8664,)"
      ]
     },
     "execution_count": 52,
     "metadata": {},
     "output_type": "execute_result"
    }
   ],
   "source": [
    "data_1.shape"
   ]
  },
  {
   "cell_type": "code",
   "execution_count": 55,
   "metadata": {},
   "outputs": [
    {
     "data": {
      "image/png": "[encoded data removed]",
      "text/plain": [
       "<matplotlib.figure.Figure at 0x7fa53f73ea20>"
      ]
     },
     "metadata": {},
     "output_type": "display_data"
    }
   ],
   "source": [
    "plt.figure(figsize=(7,3))\n",
    "ax = plt.axes()\n",
    "ax.spines['right'].set_visible(False)\n",
    "plt.title('EUR/USD')\n",
    "plt.grid()\n",
    "plt.xlabel('time')\n",
    "ax.spines['top'].set_visible(False)\n",
    "plt.plot(data_1.index,data_1, color='#5492F2', label='bid')\n",
    "plt.legend(loc='upper left');"
   ]
  },
  {
   "cell_type": "code",
   "execution_count": 60,
   "metadata": {},
   "outputs": [
    {
     "data": {
      "image/png": "[encoded data removed]",
      "text/plain": [
       "<matplotlib.figure.Figure at 0x7fa54ad94f98>"
      ]
     },
     "metadata": {},
     "output_type": "display_data"
    }
   ],
   "source": [
    "plt.figure(figsize=(5,3))\n",
    "ax = plt.axes()\n",
    "ax.spines['right'].set_visible(False)\n",
    "plt.title('EUR/USD')\n",
    "plt.grid()\n",
    "plt.xlabel('time')\n",
    "ax.spines['top'].set_visible(False)\n",
    "plt.plot(data_1.index[8600:],data_1[8600:],color='#5492F2', linewidth=1, label='bid')\n",
    "plt.legend(loc='lower right');"
   ]
  },
  {
   "cell_type": "code",
   "execution_count": null,
   "metadata": {
    "collapsed": true
   },
   "outputs": [],
   "source": []
  },
  {
   "cell_type": "code",
   "execution_count": null,
   "metadata": {
    "collapsed": true
   },
   "outputs": [],
   "source": []
  },
  {
   "cell_type": "code",
   "execution_count": null,
   "metadata": {
    "collapsed": true
   },
   "outputs": [],
   "source": []
  },
  {
   "cell_type": "code",
   "execution_count": 102,
   "metadata": {},
   "outputs": [
    {
     "data": {
      "text/plain": [
       "(3952896, 3)"
      ]
     },
     "execution_count": 102,
     "metadata": {},
     "output_type": "execute_result"
    }
   ],
   "source": [
    "data_1.shape"
   ]
  },
  {
   "cell_type": "code",
   "execution_count": 75,
   "metadata": {},
   "outputs": [
    {
     "data": {
      "text/html": [
       "<div>\n",
       "<style>\n",
       "    .dataframe thead tr:only-child th {\n",
       "        text-align: right;\n",
       "    }\n",
       "\n",
       "    .dataframe thead th {\n",
       "        text-align: left;\n",
       "    }\n",
       "\n",
       "    .dataframe tbody tr th {\n",
       "        vertical-align: top;\n",
       "    }\n",
       "</style>\n",
       "<table border=\"1\" class=\"dataframe\">\n",
       "  <thead>\n",
       "    <tr style=\"text-align: right;\">\n",
       "      <th></th>\n",
       "      <th>ref</th>\n",
       "      <th>bid</th>\n",
       "      <th>ask</th>\n",
       "    </tr>\n",
       "  </thead>\n",
       "  <tbody>\n",
       "    <tr>\n",
       "      <th>2018-01-01 22:01:01.051</th>\n",
       "      <td>EUR/USD</td>\n",
       "      <td>1.20094</td>\n",
       "      <td>1.20116</td>\n",
       "    </tr>\n",
       "    <tr>\n",
       "      <th>2018-01-01 22:01:01.158</th>\n",
       "      <td>EUR/USD</td>\n",
       "      <td>1.20093</td>\n",
       "      <td>1.20115</td>\n",
       "    </tr>\n",
       "    <tr>\n",
       "      <th>2018-01-01 22:01:11.676</th>\n",
       "      <td>EUR/USD</td>\n",
       "      <td>1.20093</td>\n",
       "      <td>1.20111</td>\n",
       "    </tr>\n",
       "    <tr>\n",
       "      <th>2018-01-01 22:01:18.116</th>\n",
       "      <td>EUR/USD</td>\n",
       "      <td>1.20082</td>\n",
       "      <td>1.20111</td>\n",
       "    </tr>\n",
       "    <tr>\n",
       "      <th>2018-01-01 22:01:32.023</th>\n",
       "      <td>EUR/USD</td>\n",
       "      <td>1.20043</td>\n",
       "      <td>1.20070</td>\n",
       "    </tr>\n",
       "  </tbody>\n",
       "</table>\n",
       "</div>"
      ],
      "text/plain": [
       "                             ref      bid      ask\n",
       "2018-01-01 22:01:01.051  EUR/USD  1.20094  1.20116\n",
       "2018-01-01 22:01:01.158  EUR/USD  1.20093  1.20115\n",
       "2018-01-01 22:01:11.676  EUR/USD  1.20093  1.20111\n",
       "2018-01-01 22:01:18.116  EUR/USD  1.20082  1.20111\n",
       "2018-01-01 22:01:32.023  EUR/USD  1.20043  1.20070"
      ]
     },
     "execution_count": 75,
     "metadata": {},
     "output_type": "execute_result"
    }
   ],
   "source": [
    "data_1.head()"
   ]
  },
  {
   "cell_type": "code",
   "execution_count": 76,
   "metadata": {
    "collapsed": true
   },
   "outputs": [],
   "source": [
    "data_2 = data_1.bid.resample('5T', loffset='5T').mean()\n",
    "data_1 = data_1.bid.resample('5T', loffset='5T').ohlc()"
   ]
  },
  {
   "cell_type": "code",
   "execution_count": 77,
   "metadata": {},
   "outputs": [
    {
     "data": {
      "text/html": [
       "<div>\n",
       "<style>\n",
       "    .dataframe thead tr:only-child th {\n",
       "        text-align: right;\n",
       "    }\n",
       "\n",
       "    .dataframe thead th {\n",
       "        text-align: left;\n",
       "    }\n",
       "\n",
       "    .dataframe tbody tr th {\n",
       "        vertical-align: top;\n",
       "    }\n",
       "</style>\n",
       "<table border=\"1\" class=\"dataframe\">\n",
       "  <thead>\n",
       "    <tr style=\"text-align: right;\">\n",
       "      <th></th>\n",
       "      <th>open</th>\n",
       "      <th>high</th>\n",
       "      <th>low</th>\n",
       "      <th>close</th>\n",
       "    </tr>\n",
       "  </thead>\n",
       "  <tbody>\n",
       "    <tr>\n",
       "      <th>2018-01-01 22:05:00</th>\n",
       "      <td>1.20094</td>\n",
       "      <td>1.20094</td>\n",
       "      <td>1.20011</td>\n",
       "      <td>1.20030</td>\n",
       "    </tr>\n",
       "    <tr>\n",
       "      <th>2018-01-01 22:10:00</th>\n",
       "      <td>1.20026</td>\n",
       "      <td>1.20097</td>\n",
       "      <td>1.20011</td>\n",
       "      <td>1.20096</td>\n",
       "    </tr>\n",
       "    <tr>\n",
       "      <th>2018-01-01 22:15:00</th>\n",
       "      <td>1.20093</td>\n",
       "      <td>1.20098</td>\n",
       "      <td>1.20069</td>\n",
       "      <td>1.20095</td>\n",
       "    </tr>\n",
       "    <tr>\n",
       "      <th>2018-01-01 22:20:00</th>\n",
       "      <td>1.20095</td>\n",
       "      <td>1.20097</td>\n",
       "      <td>1.20025</td>\n",
       "      <td>1.20056</td>\n",
       "    </tr>\n",
       "    <tr>\n",
       "      <th>2018-01-01 22:25:00</th>\n",
       "      <td>1.20056</td>\n",
       "      <td>1.20056</td>\n",
       "      <td>1.20048</td>\n",
       "      <td>1.20052</td>\n",
       "    </tr>\n",
       "  </tbody>\n",
       "</table>\n",
       "</div>"
      ],
      "text/plain": [
       "                        open     high      low    close\n",
       "2018-01-01 22:05:00  1.20094  1.20094  1.20011  1.20030\n",
       "2018-01-01 22:10:00  1.20026  1.20097  1.20011  1.20096\n",
       "2018-01-01 22:15:00  1.20093  1.20098  1.20069  1.20095\n",
       "2018-01-01 22:20:00  1.20095  1.20097  1.20025  1.20056\n",
       "2018-01-01 22:25:00  1.20056  1.20056  1.20048  1.20052"
      ]
     },
     "execution_count": 77,
     "metadata": {},
     "output_type": "execute_result"
    }
   ],
   "source": [
    "data_1.head()"
   ]
  },
  {
   "cell_type": "code",
   "execution_count": 81,
   "metadata": {},
   "outputs": [
    {
     "data": {
      "image/png": "[encoded data removed]",
      "text/plain": [
       "<matplotlib.figure.Figure at 0x7f32a6a03dd8>"
      ]
     },
     "metadata": {},
     "output_type": "display_data"
    }
   ],
   "source": [
    "plt.figure(figsize=(5,3))\n",
    "ax = plt.axes()\n",
    "ax.spines['right'].set_visible(False)\n",
    "plt.title('GBP/USD')\n",
    "plt.grid()\n",
    "plt.xlabel('minutos')\n",
    "ax.spines['top'].set_visible(False)\n",
    "plt.title('Window 5')\n",
    "plt.xlabel('time')\n",
    "plt.scatter(8,data_1.open[1], color='orange',label='open')\n",
    "plt.scatter(8,data_1.high[1], color='#1EA946',label='high')\n",
    "plt.scatter(8,data_1.low[1], color='#EA1693',label='low')\n",
    "plt.scatter(8,data_2[1], color='#54371A',label='avg')\n",
    "plt.plot(np.arange(9),data.bid[4:13],color='#616FE0', linewidth=2,label='')\n",
    "plt.plot(np.arange(10),list(np.zeros(8)*np.nan) + list([data.bid[12],data.bid[13]]),color='red',linewidth=2);\n",
    "plt.legend()\n",
    "plt.ylim(1.2, 1.2018);"
   ]
  },
  {
   "cell_type": "code",
   "execution_count": 83,
   "metadata": {
    "collapsed": true
   },
   "outputs": [],
   "source": [
    "%run ../code/build_dataset.py"
   ]
  },
  {
   "cell_type": "code",
   "execution_count": 93,
   "metadata": {
    "collapsed": true
   },
   "outputs": [],
   "source": [
    "a,_ = build_dataset(data, window=7)"
   ]
  },
  {
   "cell_type": "code",
   "execution_count": 94,
   "metadata": {},
   "outputs": [
    {
     "data": {
      "text/html": [
       "<div>\n",
       "<style>\n",
       "    .dataframe thead tr:only-child th {\n",
       "        text-align: right;\n",
       "    }\n",
       "\n",
       "    .dataframe thead th {\n",
       "        text-align: left;\n",
       "    }\n",
       "\n",
       "    .dataframe tbody tr th {\n",
       "        vertical-align: top;\n",
       "    }\n",
       "</style>\n",
       "<table border=\"1\" class=\"dataframe\">\n",
       "  <thead>\n",
       "    <tr style=\"text-align: right;\">\n",
       "      <th></th>\n",
       "      <th>0</th>\n",
       "      <th>1</th>\n",
       "      <th>2</th>\n",
       "      <th>3</th>\n",
       "      <th>4</th>\n",
       "      <th>5</th>\n",
       "      <th>6</th>\n",
       "    </tr>\n",
       "  </thead>\n",
       "  <tbody>\n",
       "    <tr>\n",
       "      <th>2018-01-02 00:30:00</th>\n",
       "      <td>1.20015</td>\n",
       "      <td>1.20047</td>\n",
       "      <td>1.20082</td>\n",
       "      <td>1.20035</td>\n",
       "      <td>1.20049</td>\n",
       "      <td>1.20047</td>\n",
       "      <td>1.20079</td>\n",
       "    </tr>\n",
       "    <tr>\n",
       "      <th>2018-01-02 00:35:00</th>\n",
       "      <td>1.20047</td>\n",
       "      <td>1.20082</td>\n",
       "      <td>1.20035</td>\n",
       "      <td>1.20049</td>\n",
       "      <td>1.20047</td>\n",
       "      <td>1.20079</td>\n",
       "      <td>1.20135</td>\n",
       "    </tr>\n",
       "    <tr>\n",
       "      <th>2018-01-02 00:40:00</th>\n",
       "      <td>1.20082</td>\n",
       "      <td>1.20035</td>\n",
       "      <td>1.20049</td>\n",
       "      <td>1.20047</td>\n",
       "      <td>1.20079</td>\n",
       "      <td>1.20135</td>\n",
       "      <td>1.20143</td>\n",
       "    </tr>\n",
       "    <tr>\n",
       "      <th>2018-01-02 00:45:00</th>\n",
       "      <td>1.20035</td>\n",
       "      <td>1.20049</td>\n",
       "      <td>1.20047</td>\n",
       "      <td>1.20079</td>\n",
       "      <td>1.20135</td>\n",
       "      <td>1.20143</td>\n",
       "      <td>1.20149</td>\n",
       "    </tr>\n",
       "    <tr>\n",
       "      <th>2018-01-02 00:50:00</th>\n",
       "      <td>1.20049</td>\n",
       "      <td>1.20047</td>\n",
       "      <td>1.20079</td>\n",
       "      <td>1.20135</td>\n",
       "      <td>1.20143</td>\n",
       "      <td>1.20149</td>\n",
       "      <td>1.20133</td>\n",
       "    </tr>\n",
       "  </tbody>\n",
       "</table>\n",
       "</div>"
      ],
      "text/plain": [
       "                           0        1        2        3        4        5  \\\n",
       "2018-01-02 00:30:00  1.20015  1.20047  1.20082  1.20035  1.20049  1.20047   \n",
       "2018-01-02 00:35:00  1.20047  1.20082  1.20035  1.20049  1.20047  1.20079   \n",
       "2018-01-02 00:40:00  1.20082  1.20035  1.20049  1.20047  1.20079  1.20135   \n",
       "2018-01-02 00:45:00  1.20035  1.20049  1.20047  1.20079  1.20135  1.20143   \n",
       "2018-01-02 00:50:00  1.20049  1.20047  1.20079  1.20135  1.20143  1.20149   \n",
       "\n",
       "                           6  \n",
       "2018-01-02 00:30:00  1.20079  \n",
       "2018-01-02 00:35:00  1.20135  \n",
       "2018-01-02 00:40:00  1.20143  \n",
       "2018-01-02 00:45:00  1.20149  \n",
       "2018-01-02 00:50:00  1.20133  "
      ]
     },
     "execution_count": 94,
     "metadata": {},
     "output_type": "execute_result"
    }
   ],
   "source": [
    "a.head()"
   ]
  },
  {
   "cell_type": "code",
   "execution_count": null,
   "metadata": {
    "collapsed": true
   },
   "outputs": [],
   "source": []
  }
 ],
 "metadata": {
  "kernelspec": {
   "display_name": "Python 3",
   "language": "python",
   "name": "python3"
  },
  "language_info": {
   "codemirror_mode": {
    "name": "ipython",
    "version": 3
   },
   "file_extension": ".py",
   "mimetype": "text/x-python",
   "name": "python",
   "nbconvert_exporter": "python",
   "pygments_lexer": "ipython3",
   "version": "3.6.2"
  }
 },
 "nbformat": 4,
 "nbformat_minor": 2
}
