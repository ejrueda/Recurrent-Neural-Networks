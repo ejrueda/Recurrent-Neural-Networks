{
 "cells": [
  {
   "cell_type": "code",
   "execution_count": 101,
   "metadata": {
    "collapsed": true
   },
   "outputs": [],
   "source": [
    "import numpy as np\n",
    "import pandas as pd"
   ]
  },
  {
   "cell_type": "code",
   "execution_count": 102,
   "metadata": {
    "collapsed": true
   },
   "outputs": [],
   "source": [
    "data = pd.read_csv('../data/TrueFX/EUR-USD/datos_procesados_5T_EURUSD-2018-01.csv',index_col=0,\n",
    "                  infer_datetime_format=True, parse_dates=True)"
   ]
  },
  {
   "cell_type": "code",
   "execution_count": 103,
   "metadata": {
    "collapsed": true
   },
   "outputs": [],
   "source": [
    "data_r = pd.read_csv('../data/TrueFX/USD-CAD/datos_procesados_5T_USDCAD-2018-01.csv',index_col=0,\n",
    "                  infer_datetime_format=True, parse_dates=True)"
   ]
  },
  {
   "cell_type": "code",
   "execution_count": 104,
   "metadata": {},
   "outputs": [
    {
     "data": {
      "text/html": [
       "<div>\n",
       "<style>\n",
       "    .dataframe thead tr:only-child th {\n",
       "        text-align: right;\n",
       "    }\n",
       "\n",
       "    .dataframe thead th {\n",
       "        text-align: left;\n",
       "    }\n",
       "\n",
       "    .dataframe tbody tr th {\n",
       "        vertical-align: top;\n",
       "    }\n",
       "</style>\n",
       "<table border=\"1\" class=\"dataframe\">\n",
       "  <thead>\n",
       "    <tr style=\"text-align: right;\">\n",
       "      <th></th>\n",
       "      <th>bid</th>\n",
       "      <th>ask</th>\n",
       "    </tr>\n",
       "  </thead>\n",
       "  <tbody>\n",
       "    <tr>\n",
       "      <th>2018-01-02 00:00:00</th>\n",
       "      <td>1.20015</td>\n",
       "      <td>1.20110</td>\n",
       "    </tr>\n",
       "    <tr>\n",
       "      <th>2018-01-02 00:05:00</th>\n",
       "      <td>1.20047</td>\n",
       "      <td>1.20084</td>\n",
       "    </tr>\n",
       "    <tr>\n",
       "      <th>2018-01-02 00:10:00</th>\n",
       "      <td>1.20082</td>\n",
       "      <td>1.20126</td>\n",
       "    </tr>\n",
       "    <tr>\n",
       "      <th>2018-01-02 00:15:00</th>\n",
       "      <td>1.20035</td>\n",
       "      <td>1.20091</td>\n",
       "    </tr>\n",
       "    <tr>\n",
       "      <th>2018-01-02 00:20:00</th>\n",
       "      <td>1.20049</td>\n",
       "      <td>1.20085</td>\n",
       "    </tr>\n",
       "  </tbody>\n",
       "</table>\n",
       "</div>"
      ],
      "text/plain": [
       "                         bid      ask\n",
       "2018-01-02 00:00:00  1.20015  1.20110\n",
       "2018-01-02 00:05:00  1.20047  1.20084\n",
       "2018-01-02 00:10:00  1.20082  1.20126\n",
       "2018-01-02 00:15:00  1.20035  1.20091\n",
       "2018-01-02 00:20:00  1.20049  1.20085"
      ]
     },
     "execution_count": 104,
     "metadata": {},
     "output_type": "execute_result"
    }
   ],
   "source": [
    "data.head()"
   ]
  },
  {
   "cell_type": "code",
   "execution_count": 105,
   "metadata": {},
   "outputs": [
    {
     "data": {
      "text/html": [
       "<div>\n",
       "<style>\n",
       "    .dataframe thead tr:only-child th {\n",
       "        text-align: right;\n",
       "    }\n",
       "\n",
       "    .dataframe thead th {\n",
       "        text-align: left;\n",
       "    }\n",
       "\n",
       "    .dataframe tbody tr th {\n",
       "        vertical-align: top;\n",
       "    }\n",
       "</style>\n",
       "<table border=\"1\" class=\"dataframe\">\n",
       "  <thead>\n",
       "    <tr style=\"text-align: right;\">\n",
       "      <th></th>\n",
       "      <th>bid</th>\n",
       "      <th>ask</th>\n",
       "    </tr>\n",
       "  </thead>\n",
       "  <tbody>\n",
       "    <tr>\n",
       "      <th>2018-01-02 00:00:00</th>\n",
       "      <td>1.25283</td>\n",
       "      <td>1.25550</td>\n",
       "    </tr>\n",
       "    <tr>\n",
       "      <th>2018-01-02 00:05:00</th>\n",
       "      <td>1.25374</td>\n",
       "      <td>1.25558</td>\n",
       "    </tr>\n",
       "    <tr>\n",
       "      <th>2018-01-02 00:10:00</th>\n",
       "      <td>1.25415</td>\n",
       "      <td>1.25554</td>\n",
       "    </tr>\n",
       "    <tr>\n",
       "      <th>2018-01-02 00:15:00</th>\n",
       "      <td>1.25410</td>\n",
       "      <td>1.25545</td>\n",
       "    </tr>\n",
       "    <tr>\n",
       "      <th>2018-01-02 00:20:00</th>\n",
       "      <td>1.25412</td>\n",
       "      <td>1.25545</td>\n",
       "    </tr>\n",
       "  </tbody>\n",
       "</table>\n",
       "</div>"
      ],
      "text/plain": [
       "                         bid      ask\n",
       "2018-01-02 00:00:00  1.25283  1.25550\n",
       "2018-01-02 00:05:00  1.25374  1.25558\n",
       "2018-01-02 00:10:00  1.25415  1.25554\n",
       "2018-01-02 00:15:00  1.25410  1.25545\n",
       "2018-01-02 00:20:00  1.25412  1.25545"
      ]
     },
     "execution_count": 105,
     "metadata": {},
     "output_type": "execute_result"
    }
   ],
   "source": [
    "data_r.head()"
   ]
  },
  {
   "cell_type": "code",
   "execution_count": 106,
   "metadata": {
    "collapsed": true
   },
   "outputs": [],
   "source": [
    "import matplotlib.pyplot as plt\n",
    "%matplotlib inline"
   ]
  },
  {
   "cell_type": "code",
   "execution_count": 108,
   "metadata": {},
   "outputs": [
    {
     "data": {
      "image/png": "[encoded data removed]",
      "text/plain": [
       "<matplotlib.figure.Figure at 0x7fed78e23400>"
      ]
     },
     "metadata": {},
     "output_type": "display_data"
    }
   ],
   "source": [
    "plt.figure(figsize=(7,3))\n",
    "ax = plt.axes()\n",
    "ax.spines['right'].set_visible(False)\n",
    "plt.title('EUR/USD')\n",
    "plt.grid()\n",
    "plt.xlabel('time')\n",
    "ax.spines['top'].set_visible(False)\n",
    "plt.plot(np.arange(data.shape[0]),data.bid, color='#5492F2', linewidth=1.5, label='bid')\n",
    "plt.legend(loc='upper left');\n",
    "#plt.ylim(1.2,1.2017)\n",
    "plt.xticks(([0,2000,4000,6000]),([data.index[0],data.index[2000],data.index[4000],data.index[6000]]));"
   ]
  },
  {
   "cell_type": "code",
   "execution_count": 69,
   "metadata": {},
   "outputs": [
    {
     "data": {
      "image/png": "[encoded data removed]",
      "text/plain": [
       "<matplotlib.figure.Figure at 0x7fed791f9c18>"
      ]
     },
     "metadata": {},
     "output_type": "display_data"
    }
   ],
   "source": [
    "plt.figure(figsize=(7,3))\n",
    "ax = plt.axes()\n",
    "ax.spines['right'].set_visible(False)\n",
    "plt.title('GBP/USD')\n",
    "plt.grid()\n",
    "plt.xlabel('time')\n",
    "ax.spines['top'].set_visible(False)\n",
    "plt.plot(np.arange(data_r.shape[0]),data_r.bid, color='green', linewidth=1.5, label='bid')\n",
    "plt.legend(loc='upper left');\n",
    "#plt.ylim(1.2,1.2017)\n",
    "plt.xticks(([0,2000,4000,6000]),([data.index[0],data.index[2000],data.index[4000],data.index[6000]]));"
   ]
  },
  {
   "cell_type": "code",
   "execution_count": null,
   "metadata": {
    "collapsed": true
   },
   "outputs": [],
   "source": []
  },
  {
   "cell_type": "code",
   "execution_count": 70,
   "metadata": {},
   "outputs": [
    {
     "data": {
      "text/plain": [
       "<matplotlib.figure.Figure at 0x7fed81373f60>"
      ]
     },
     "metadata": {},
     "output_type": "display_data"
    }
   ],
   "source": [
    "%run ../code/EUtilities.py\n",
    "\n",
    "EU = EUtilities()"
   ]
  },
  {
   "cell_type": "code",
   "execution_count": 71,
   "metadata": {
    "collapsed": true
   },
   "outputs": [],
   "source": [
    "eur_usd_bid, data_ask = EU.build_dataset(data, 7, bid_col='bid')\n",
    "gbp_usd_bid, _  = EU.build_dataset(data_r, 7, bid_col='bid')"
   ]
  },
  {
   "cell_type": "code",
   "execution_count": 72,
   "metadata": {},
   "outputs": [
    {
     "data": {
      "text/html": [
       "<div>\n",
       "<style>\n",
       "    .dataframe thead tr:only-child th {\n",
       "        text-align: right;\n",
       "    }\n",
       "\n",
       "    .dataframe thead th {\n",
       "        text-align: left;\n",
       "    }\n",
       "\n",
       "    .dataframe tbody tr th {\n",
       "        vertical-align: top;\n",
       "    }\n",
       "</style>\n",
       "<table border=\"1\" class=\"dataframe\">\n",
       "  <thead>\n",
       "    <tr style=\"text-align: right;\">\n",
       "      <th></th>\n",
       "      <th>0</th>\n",
       "      <th>1</th>\n",
       "      <th>2</th>\n",
       "      <th>3</th>\n",
       "      <th>4</th>\n",
       "      <th>5</th>\n",
       "      <th>6</th>\n",
       "    </tr>\n",
       "  </thead>\n",
       "  <tbody>\n",
       "    <tr>\n",
       "      <th>2018-01-02 00:30:00</th>\n",
       "      <td>1.20015</td>\n",
       "      <td>1.20047</td>\n",
       "      <td>1.20082</td>\n",
       "      <td>1.20035</td>\n",
       "      <td>1.20049</td>\n",
       "      <td>1.20047</td>\n",
       "      <td>1.20079</td>\n",
       "    </tr>\n",
       "    <tr>\n",
       "      <th>2018-01-02 00:35:00</th>\n",
       "      <td>1.20047</td>\n",
       "      <td>1.20082</td>\n",
       "      <td>1.20035</td>\n",
       "      <td>1.20049</td>\n",
       "      <td>1.20047</td>\n",
       "      <td>1.20079</td>\n",
       "      <td>1.20135</td>\n",
       "    </tr>\n",
       "    <tr>\n",
       "      <th>2018-01-02 00:40:00</th>\n",
       "      <td>1.20082</td>\n",
       "      <td>1.20035</td>\n",
       "      <td>1.20049</td>\n",
       "      <td>1.20047</td>\n",
       "      <td>1.20079</td>\n",
       "      <td>1.20135</td>\n",
       "      <td>1.20143</td>\n",
       "    </tr>\n",
       "    <tr>\n",
       "      <th>2018-01-02 00:45:00</th>\n",
       "      <td>1.20035</td>\n",
       "      <td>1.20049</td>\n",
       "      <td>1.20047</td>\n",
       "      <td>1.20079</td>\n",
       "      <td>1.20135</td>\n",
       "      <td>1.20143</td>\n",
       "      <td>1.20149</td>\n",
       "    </tr>\n",
       "    <tr>\n",
       "      <th>2018-01-02 00:50:00</th>\n",
       "      <td>1.20049</td>\n",
       "      <td>1.20047</td>\n",
       "      <td>1.20079</td>\n",
       "      <td>1.20135</td>\n",
       "      <td>1.20143</td>\n",
       "      <td>1.20149</td>\n",
       "      <td>1.20133</td>\n",
       "    </tr>\n",
       "  </tbody>\n",
       "</table>\n",
       "</div>"
      ],
      "text/plain": [
       "                           0        1        2        3        4        5  \\\n",
       "2018-01-02 00:30:00  1.20015  1.20047  1.20082  1.20035  1.20049  1.20047   \n",
       "2018-01-02 00:35:00  1.20047  1.20082  1.20035  1.20049  1.20047  1.20079   \n",
       "2018-01-02 00:40:00  1.20082  1.20035  1.20049  1.20047  1.20079  1.20135   \n",
       "2018-01-02 00:45:00  1.20035  1.20049  1.20047  1.20079  1.20135  1.20143   \n",
       "2018-01-02 00:50:00  1.20049  1.20047  1.20079  1.20135  1.20143  1.20149   \n",
       "\n",
       "                           6  \n",
       "2018-01-02 00:30:00  1.20079  \n",
       "2018-01-02 00:35:00  1.20135  \n",
       "2018-01-02 00:40:00  1.20143  \n",
       "2018-01-02 00:45:00  1.20149  \n",
       "2018-01-02 00:50:00  1.20133  "
      ]
     },
     "execution_count": 72,
     "metadata": {},
     "output_type": "execute_result"
    }
   ],
   "source": [
    "eur_usd_bid.head()"
   ]
  },
  {
   "cell_type": "code",
   "execution_count": 73,
   "metadata": {},
   "outputs": [
    {
     "data": {
      "text/plain": [
       "array([ 1.20135,  1.20143,  1.20149, ...,  1.2422 ,  1.24175,  1.24168])"
      ]
     },
     "execution_count": 73,
     "metadata": {},
     "output_type": "execute_result"
    }
   ],
   "source": [
    "data_ask"
   ]
  },
  {
   "cell_type": "code",
   "execution_count": 74,
   "metadata": {},
   "outputs": [
    {
     "data": {
      "text/html": [
       "<div>\n",
       "<style>\n",
       "    .dataframe thead tr:only-child th {\n",
       "        text-align: right;\n",
       "    }\n",
       "\n",
       "    .dataframe thead th {\n",
       "        text-align: left;\n",
       "    }\n",
       "\n",
       "    .dataframe tbody tr th {\n",
       "        vertical-align: top;\n",
       "    }\n",
       "</style>\n",
       "<table border=\"1\" class=\"dataframe\">\n",
       "  <thead>\n",
       "    <tr style=\"text-align: right;\">\n",
       "      <th></th>\n",
       "      <th>0</th>\n",
       "      <th>1</th>\n",
       "      <th>2</th>\n",
       "      <th>3</th>\n",
       "      <th>4</th>\n",
       "      <th>5</th>\n",
       "      <th>6</th>\n",
       "    </tr>\n",
       "  </thead>\n",
       "  <tbody>\n",
       "    <tr>\n",
       "      <th>2018-01-02 00:30:00</th>\n",
       "      <td>1.25283</td>\n",
       "      <td>1.25374</td>\n",
       "      <td>1.25415</td>\n",
       "      <td>1.25410</td>\n",
       "      <td>1.25412</td>\n",
       "      <td>1.25409</td>\n",
       "      <td>1.25404</td>\n",
       "    </tr>\n",
       "    <tr>\n",
       "      <th>2018-01-02 00:35:00</th>\n",
       "      <td>1.25374</td>\n",
       "      <td>1.25415</td>\n",
       "      <td>1.25410</td>\n",
       "      <td>1.25412</td>\n",
       "      <td>1.25409</td>\n",
       "      <td>1.25404</td>\n",
       "      <td>1.25408</td>\n",
       "    </tr>\n",
       "    <tr>\n",
       "      <th>2018-01-02 00:40:00</th>\n",
       "      <td>1.25415</td>\n",
       "      <td>1.25410</td>\n",
       "      <td>1.25412</td>\n",
       "      <td>1.25409</td>\n",
       "      <td>1.25404</td>\n",
       "      <td>1.25408</td>\n",
       "      <td>1.25410</td>\n",
       "    </tr>\n",
       "    <tr>\n",
       "      <th>2018-01-02 00:45:00</th>\n",
       "      <td>1.25410</td>\n",
       "      <td>1.25412</td>\n",
       "      <td>1.25409</td>\n",
       "      <td>1.25404</td>\n",
       "      <td>1.25408</td>\n",
       "      <td>1.25410</td>\n",
       "      <td>1.25411</td>\n",
       "    </tr>\n",
       "    <tr>\n",
       "      <th>2018-01-02 00:50:00</th>\n",
       "      <td>1.25412</td>\n",
       "      <td>1.25409</td>\n",
       "      <td>1.25404</td>\n",
       "      <td>1.25408</td>\n",
       "      <td>1.25410</td>\n",
       "      <td>1.25411</td>\n",
       "      <td>1.25467</td>\n",
       "    </tr>\n",
       "  </tbody>\n",
       "</table>\n",
       "</div>"
      ],
      "text/plain": [
       "                           0        1        2        3        4        5  \\\n",
       "2018-01-02 00:30:00  1.25283  1.25374  1.25415  1.25410  1.25412  1.25409   \n",
       "2018-01-02 00:35:00  1.25374  1.25415  1.25410  1.25412  1.25409  1.25404   \n",
       "2018-01-02 00:40:00  1.25415  1.25410  1.25412  1.25409  1.25404  1.25408   \n",
       "2018-01-02 00:45:00  1.25410  1.25412  1.25409  1.25404  1.25408  1.25410   \n",
       "2018-01-02 00:50:00  1.25412  1.25409  1.25404  1.25408  1.25410  1.25411   \n",
       "\n",
       "                           6  \n",
       "2018-01-02 00:30:00  1.25404  \n",
       "2018-01-02 00:35:00  1.25408  \n",
       "2018-01-02 00:40:00  1.25410  \n",
       "2018-01-02 00:45:00  1.25411  \n",
       "2018-01-02 00:50:00  1.25467  "
      ]
     },
     "execution_count": 74,
     "metadata": {},
     "output_type": "execute_result"
    }
   ],
   "source": [
    "gbp_usd_bid.head()"
   ]
  },
  {
   "cell_type": "code",
   "execution_count": null,
   "metadata": {
    "collapsed": true
   },
   "outputs": [],
   "source": []
  },
  {
   "cell_type": "code",
   "execution_count": 100,
   "metadata": {},
   "outputs": [
    {
     "data": {
      "image/png": "[encoded data removed]",
      "text/plain": [
       "<matplotlib.figure.Figure at 0x7fed78cd1dd8>"
      ]
     },
     "metadata": {},
     "output_type": "display_data"
    }
   ],
   "source": [
    "plt.figure(figsize=(4,2))\n",
    "ax = plt.axes()\n",
    "ax.spines['right'].set_visible(False)\n",
    "plt.grid()\n",
    "i = 2\n",
    "plt.title('Window '+str(i+1))\n",
    "plt.xlabel(data.index[i])\n",
    "ax.spines['top'].set_visible(False)\n",
    "plt.plot(np.arange(7),eur_usd_bid.iloc[i,:], color='#5492F2', linewidth=2.5, label='bid EUR/USD')\n",
    "plt.plot(np.arange(7),gbp_usd_bid.iloc[i,:], color='green', linewidth=2.5, label='bid GBP/USD')\n",
    "\n",
    "plt.plot(np.arange(8),list(np.zeros(6)*np.nan) + list([eur_usd_bid.iloc[i,-1],data_ask[i]])\n",
    "         ,color='red',linewidth=2.5, label='target')\n",
    "plt.scatter(np.arange(7),eur_usd_bid.iloc[i,:], color='#5492F2', linewidth=2.5,label='')\n",
    "plt.scatter(np.arange(7),gbp_usd_bid.iloc[i,:], color='green', linewidth=2.5,label='')\n",
    "plt.scatter(7,[data_ask[i]],color='red',linewidth=2.5)\n",
    "plt.legend(bbox_to_anchor=(1.05, 1), loc=2, borderaxespad=0.);"
   ]
  },
  {
   "cell_type": "code",
   "execution_count": 93,
   "metadata": {},
   "outputs": [
    {
     "data": {
      "text/plain": [
       "array([ 1.19      ,  1.19241379,  1.19482759,  1.19724138,  1.19965517,\n",
       "        1.20206897,  1.20448276,  1.20689655,  1.20931034,  1.21172414,\n",
       "        1.21413793,  1.21655172,  1.21896552,  1.22137931,  1.2237931 ,\n",
       "        1.2262069 ,  1.22862069,  1.23103448,  1.23344828,  1.23586207,\n",
       "        1.23827586,  1.24068966,  1.24310345,  1.24551724,  1.24793103,\n",
       "        1.25034483,  1.25275862,  1.25517241,  1.25758621,  1.26      ])"
      ]
     },
     "execution_count": 93,
     "metadata": {},
     "output_type": "execute_result"
    }
   ],
   "source": [
    "np.linspace(1.19,1.26, 30)"
   ]
  },
  {
   "cell_type": "code",
   "execution_count": null,
   "metadata": {
    "collapsed": true
   },
   "outputs": [],
   "source": []
  },
  {
   "cell_type": "code",
   "execution_count": null,
   "metadata": {
    "collapsed": true
   },
   "outputs": [],
   "source": []
  },
  {
   "cell_type": "code",
   "execution_count": null,
   "metadata": {
    "collapsed": true
   },
   "outputs": [],
   "source": []
  },
  {
   "cell_type": "code",
   "execution_count": null,
   "metadata": {
    "collapsed": true
   },
   "outputs": [],
   "source": []
  },
  {
   "cell_type": "code",
   "execution_count": null,
   "metadata": {
    "collapsed": true
   },
   "outputs": [],
   "source": []
  },
  {
   "cell_type": "code",
   "execution_count": null,
   "metadata": {
    "collapsed": true
   },
   "outputs": [],
   "source": []
  },
  {
   "cell_type": "code",
   "execution_count": null,
   "metadata": {
    "collapsed": true
   },
   "outputs": [],
   "source": []
  },
  {
   "cell_type": "code",
   "execution_count": null,
   "metadata": {
    "collapsed": true
   },
   "outputs": [],
   "source": []
  },
  {
   "cell_type": "code",
   "execution_count": null,
   "metadata": {
    "collapsed": true
   },
   "outputs": [],
   "source": []
  },
  {
   "cell_type": "code",
   "execution_count": null,
   "metadata": {
    "collapsed": true
   },
   "outputs": [],
   "source": []
  },
  {
   "cell_type": "code",
   "execution_count": 8,
   "metadata": {},
   "outputs": [
    {
     "data": {
      "image/png": "[encoded data removed]",
      "text/plain": [
       "<matplotlib.figure.Figure at 0x7f1de60a4588>"
      ]
     },
     "metadata": {},
     "output_type": "display_data"
    }
   ],
   "source": [
    "plt.figure(figsize=(5.5,3))\n",
    "ax = plt.axes()\n",
    "ax.spines['right'].set_visible(False)\n",
    "plt.title('GBP/USD')\n",
    "plt.xlabel('minutos')\n",
    "plt.grid()\n",
    "ax.spines['top'].set_visible(False)\n",
    "#plt.plot(np.arange(10),data.ask[:10], color='green', linewidth=2.5, alpha=.8, label='ask')\n",
    "plt.plot(np.arange(10),data.bid[:10], color='#EF1F07', linewidth=2.5, label='bid')\n",
    "plt.legend(loc='lower right')\n",
    "#plt.scatter(6,data.ask[6], color='green', linewidths=1.5)\n",
    "plt.scatter(6,data.bid[6], color='red', linewidths=2.5)\n",
    "plt.xticks(np.arange(10), data.index.minute[:10]);\n",
    "#ax.yaxis.grid(True, which='major')"
   ]
  },
  {
   "cell_type": "code",
   "execution_count": 7,
   "metadata": {},
   "outputs": [
    {
     "data": {
      "text/plain": [
       "(1.20113, 1.20079)"
      ]
     },
     "execution_count": 7,
     "metadata": {},
     "output_type": "execute_result"
    }
   ],
   "source": [
    "data.ask[6], data.bid[6]"
   ]
  },
  {
   "cell_type": "markdown",
   "metadata": {},
   "source": [
    "### para las series financieras"
   ]
  },
  {
   "cell_type": "code",
   "execution_count": 8,
   "metadata": {},
   "outputs": [
    {
     "data": {
      "image/png": "[encoded data removed]",
      "text/plain": [
       "<matplotlib.figure.Figure at 0x7f32b0672b00>"
      ]
     },
     "metadata": {},
     "output_type": "display_data"
    }
   ],
   "source": [
    "plt.figure(figsize=(4,2))\n",
    "ax = plt.axes()\n",
    "ax.spines['right'].set_visible(False)\n",
    "plt.title('GBP/USD')\n",
    "plt.grid()\n",
    "plt.xlabel('minutos')\n",
    "ax.spines['top'].set_visible(False)\n",
    "plt.plot(np.arange(10),data.ask[:10], color='brown', linewidth=2.5, alpha=.8, label='ask')\n",
    "plt.plot(np.arange(10),data.bid[:10], color='purple', linewidth=2.5, label='bid')\n",
    "plt.legend(loc='center right')\n",
    "#plt.ylim(1.2,1.2017)\n",
    "plt.xticks(np.arange(10), data.index.minute[:10]);\n",
    "#ax.yaxis.grid(True, which='major')"
   ]
  },
  {
   "cell_type": "code",
   "execution_count": null,
   "metadata": {
    "collapsed": true
   },
   "outputs": [],
   "source": []
  },
  {
   "cell_type": "code",
   "execution_count": 36,
   "metadata": {
    "collapsed": true
   },
   "outputs": [],
   "source": [
    "data_1 = pd.read_csv('../data/TrueFX/EUR-USD/datos_procesados_OHLC_5T_EURUSD-2018-01.csv', parse_dates=True\n",
    "                     , index_col=0, infer_datetime_format=True)"
   ]
  },
  {
   "cell_type": "code",
   "execution_count": 38,
   "metadata": {},
   "outputs": [
    {
     "data": {
      "text/html": [
       "<div>\n",
       "<style>\n",
       "    .dataframe thead tr:only-child th {\n",
       "        text-align: right;\n",
       "    }\n",
       "\n",
       "    .dataframe thead th {\n",
       "        text-align: left;\n",
       "    }\n",
       "\n",
       "    .dataframe tbody tr th {\n",
       "        vertical-align: top;\n",
       "    }\n",
       "</style>\n",
       "<table border=\"1\" class=\"dataframe\">\n",
       "  <thead>\n",
       "    <tr style=\"text-align: right;\">\n",
       "      <th></th>\n",
       "      <th>open</th>\n",
       "      <th>high</th>\n",
       "      <th>low</th>\n",
       "      <th>bid</th>\n",
       "      <th>ask</th>\n",
       "    </tr>\n",
       "  </thead>\n",
       "  <tbody>\n",
       "    <tr>\n",
       "      <th>2018-01-02 00:00:00</th>\n",
       "      <td>1.20094</td>\n",
       "      <td>1.20094</td>\n",
       "      <td>1.20011</td>\n",
       "      <td>1.20015</td>\n",
       "      <td>1.20110</td>\n",
       "    </tr>\n",
       "    <tr>\n",
       "      <th>2018-01-02 00:05:00</th>\n",
       "      <td>1.20015</td>\n",
       "      <td>1.20062</td>\n",
       "      <td>1.20011</td>\n",
       "      <td>1.20047</td>\n",
       "      <td>1.20084</td>\n",
       "    </tr>\n",
       "    <tr>\n",
       "      <th>2018-01-02 00:10:00</th>\n",
       "      <td>1.20039</td>\n",
       "      <td>1.20098</td>\n",
       "      <td>1.20035</td>\n",
       "      <td>1.20082</td>\n",
       "      <td>1.20126</td>\n",
       "    </tr>\n",
       "    <tr>\n",
       "      <th>2018-01-02 00:15:00</th>\n",
       "      <td>1.20080</td>\n",
       "      <td>1.20097</td>\n",
       "      <td>1.20025</td>\n",
       "      <td>1.20035</td>\n",
       "      <td>1.20091</td>\n",
       "    </tr>\n",
       "    <tr>\n",
       "      <th>2018-01-02 00:20:00</th>\n",
       "      <td>1.20034</td>\n",
       "      <td>1.20057</td>\n",
       "      <td>1.20031</td>\n",
       "      <td>1.20049</td>\n",
       "      <td>1.20085</td>\n",
       "    </tr>\n",
       "  </tbody>\n",
       "</table>\n",
       "</div>"
      ],
      "text/plain": [
       "                        open     high      low      bid      ask\n",
       "2018-01-02 00:00:00  1.20094  1.20094  1.20011  1.20015  1.20110\n",
       "2018-01-02 00:05:00  1.20015  1.20062  1.20011  1.20047  1.20084\n",
       "2018-01-02 00:10:00  1.20039  1.20098  1.20035  1.20082  1.20126\n",
       "2018-01-02 00:15:00  1.20080  1.20097  1.20025  1.20035  1.20091\n",
       "2018-01-02 00:20:00  1.20034  1.20057  1.20031  1.20049  1.20085"
      ]
     },
     "execution_count": 38,
     "metadata": {},
     "output_type": "execute_result"
    }
   ],
   "source": [
    "data_1.head()"
   ]
  },
  {
   "cell_type": "code",
   "execution_count": 46,
   "metadata": {},
   "outputs": [
    {
     "data": {
      "text/plain": [
       "(6361, 5)"
      ]
     },
     "execution_count": 46,
     "metadata": {},
     "output_type": "execute_result"
    }
   ],
   "source": [
    "data_1.shape"
   ]
  },
  {
   "cell_type": "code",
   "execution_count": 7,
   "metadata": {
    "collapsed": true
   },
   "outputs": [],
   "source": [
    "data = data.dropna()"
   ]
  },
  {
   "cell_type": "code",
   "execution_count": 5,
   "metadata": {},
   "outputs": [
    {
     "data": {
      "image/png": "[encoded data removed]",
      "text/plain": [
       "<matplotlib.figure.Figure at 0x7fd7affe13c8>"
      ]
     },
     "metadata": {},
     "output_type": "display_data"
    }
   ],
   "source": [
    "plt.figure(figsize=(7,3))\n",
    "ax = plt.axes()\n",
    "ax.spines['right'].set_visible(False)\n",
    "plt.title('EUR/USD')\n",
    "plt.grid()\n",
    "plt.xlabel('time')\n",
    "ax.spines['top'].set_visible(False)\n",
    "plt.plot(np.arange(data.shape[0]),data.bid, color='#5492F2', linewidth=1.5, label='bid')\n",
    "plt.legend(loc='upper left');\n",
    "#plt.ylim(1.2,1.2017)\n",
    "plt.xticks(([0,2000,4000,6000]),([data.index[0],data.index[2000],data.index[4000],data.index[6000]]));"
   ]
  },
  {
   "cell_type": "code",
   "execution_count": 43,
   "metadata": {
    "collapsed": true
   },
   "outputs": [],
   "source": [
    "%run ../code/EUtilities.py\n",
    "\n",
    "EU = EUtilities()\n",
    "\n",
    "data_ask, _ = EU.build_dataset(data, window=7, bid_col='ask')\n",
    "data, target = EU.build_dataset(data, window=7, bid_col='bid')"
   ]
  },
  {
   "cell_type": "code",
   "execution_count": 11,
   "metadata": {},
   "outputs": [
    {
     "data": {
      "text/html": [
       "<div>\n",
       "<style>\n",
       "    .dataframe thead tr:only-child th {\n",
       "        text-align: right;\n",
       "    }\n",
       "\n",
       "    .dataframe thead th {\n",
       "        text-align: left;\n",
       "    }\n",
       "\n",
       "    .dataframe tbody tr th {\n",
       "        vertical-align: top;\n",
       "    }\n",
       "</style>\n",
       "<table border=\"1\" class=\"dataframe\">\n",
       "  <thead>\n",
       "    <tr style=\"text-align: right;\">\n",
       "      <th></th>\n",
       "      <th>0</th>\n",
       "      <th>1</th>\n",
       "      <th>2</th>\n",
       "      <th>3</th>\n",
       "      <th>4</th>\n",
       "      <th>5</th>\n",
       "      <th>6</th>\n",
       "    </tr>\n",
       "  </thead>\n",
       "  <tbody>\n",
       "    <tr>\n",
       "      <th>2018-01-02 00:30:00</th>\n",
       "      <td>1.20015</td>\n",
       "      <td>1.20047</td>\n",
       "      <td>1.20082</td>\n",
       "      <td>1.20035</td>\n",
       "      <td>1.20049</td>\n",
       "      <td>1.20047</td>\n",
       "      <td>1.20079</td>\n",
       "    </tr>\n",
       "    <tr>\n",
       "      <th>2018-01-02 00:35:00</th>\n",
       "      <td>1.20047</td>\n",
       "      <td>1.20082</td>\n",
       "      <td>1.20035</td>\n",
       "      <td>1.20049</td>\n",
       "      <td>1.20047</td>\n",
       "      <td>1.20079</td>\n",
       "      <td>1.20135</td>\n",
       "    </tr>\n",
       "    <tr>\n",
       "      <th>2018-01-02 00:40:00</th>\n",
       "      <td>1.20082</td>\n",
       "      <td>1.20035</td>\n",
       "      <td>1.20049</td>\n",
       "      <td>1.20047</td>\n",
       "      <td>1.20079</td>\n",
       "      <td>1.20135</td>\n",
       "      <td>1.20143</td>\n",
       "    </tr>\n",
       "    <tr>\n",
       "      <th>2018-01-02 00:45:00</th>\n",
       "      <td>1.20035</td>\n",
       "      <td>1.20049</td>\n",
       "      <td>1.20047</td>\n",
       "      <td>1.20079</td>\n",
       "      <td>1.20135</td>\n",
       "      <td>1.20143</td>\n",
       "      <td>1.20149</td>\n",
       "    </tr>\n",
       "    <tr>\n",
       "      <th>2018-01-02 00:50:00</th>\n",
       "      <td>1.20049</td>\n",
       "      <td>1.20047</td>\n",
       "      <td>1.20079</td>\n",
       "      <td>1.20135</td>\n",
       "      <td>1.20143</td>\n",
       "      <td>1.20149</td>\n",
       "      <td>1.20133</td>\n",
       "    </tr>\n",
       "  </tbody>\n",
       "</table>\n",
       "</div>"
      ],
      "text/plain": [
       "                           0        1        2        3        4        5  \\\n",
       "2018-01-02 00:30:00  1.20015  1.20047  1.20082  1.20035  1.20049  1.20047   \n",
       "2018-01-02 00:35:00  1.20047  1.20082  1.20035  1.20049  1.20047  1.20079   \n",
       "2018-01-02 00:40:00  1.20082  1.20035  1.20049  1.20047  1.20079  1.20135   \n",
       "2018-01-02 00:45:00  1.20035  1.20049  1.20047  1.20079  1.20135  1.20143   \n",
       "2018-01-02 00:50:00  1.20049  1.20047  1.20079  1.20135  1.20143  1.20149   \n",
       "\n",
       "                           6  \n",
       "2018-01-02 00:30:00  1.20079  \n",
       "2018-01-02 00:35:00  1.20135  \n",
       "2018-01-02 00:40:00  1.20143  \n",
       "2018-01-02 00:45:00  1.20149  \n",
       "2018-01-02 00:50:00  1.20133  "
      ]
     },
     "execution_count": 11,
     "metadata": {},
     "output_type": "execute_result"
    }
   ],
   "source": [
    "data.head()"
   ]
  },
  {
   "cell_type": "code",
   "execution_count": 12,
   "metadata": {},
   "outputs": [
    {
     "data": {
      "text/plain": [
       "array([ 1.20135,  1.20143,  1.20149, ...,  1.2422 ,  1.24175,  1.24168])"
      ]
     },
     "execution_count": 12,
     "metadata": {},
     "output_type": "execute_result"
    }
   ],
   "source": [
    "target"
   ]
  },
  {
   "cell_type": "code",
   "execution_count": null,
   "metadata": {
    "collapsed": true
   },
   "outputs": [],
   "source": []
  },
  {
   "cell_type": "code",
   "execution_count": 54,
   "metadata": {},
   "outputs": [
    {
     "data": {
      "image/png": "[encoded data removed]",
      "text/plain": [
       "<matplotlib.figure.Figure at 0x7f1de5ea7b00>"
      ]
     },
     "metadata": {},
     "output_type": "display_data"
    }
   ],
   "source": [
    "plt.figure(figsize=(6,3))\n",
    "ax = plt.axes()\n",
    "ax.spines['right'].set_visible(False)\n",
    "plt.grid()\n",
    "i = 0\n",
    "plt.title('Window '+str(i+1))\n",
    "plt.xlabel(data.index[i])\n",
    "ax.spines['top'].set_visible(False)\n",
    "plt.plot(np.arange(7),data.iloc[i,:], color='#5492F2', linewidth=2.5, label='bid')\n",
    "plt.plot(np.arange(7),data_ask.iloc[i,:], color='green', linewidth=2.5, label='ask')\n",
    "\n",
    "plt.scatter(6,data_ask.iloc[i,6], color='green', linewidth=2.5,label='')\n",
    "plt.plot(np.arange(8),list(np.zeros(6)*np.nan) + list([data.iloc[i,-1],target[i]])\n",
    "         ,color='red',linewidth=2.5, label='target')\n",
    "plt.scatter(np.arange(7),data.iloc[i,:], color='#5492F2', linewidth=2.5,label='')\n",
    "plt.scatter(7,[target[i]],color='red',linewidth=2.5)\n",
    "\n",
    "plt.legend(bbox_to_anchor=(1.05, 1), loc=2, borderaxespad=0.);"
   ]
  },
  {
   "cell_type": "code",
   "execution_count": null,
   "metadata": {
    "collapsed": true
   },
   "outputs": [],
   "source": []
  },
  {
   "cell_type": "code",
   "execution_count": 19,
   "metadata": {},
   "outputs": [
    {
     "data": {
      "image/png": "[encoded data removed]",
      "text/plain": [
       "<matplotlib.figure.Figure at 0x7f1de5ac6a90>"
      ]
     },
     "metadata": {},
     "output_type": "display_data"
    }
   ],
   "source": [
    "plt.figure(figsize=(4,2))\n",
    "ax = plt.axes()\n",
    "ax.spines['right'].set_visible(False)\n",
    "plt.grid()\n",
    "i = 0\n",
    "plt.title('Window '+str(i+1))\n",
    "plt.xlabel(data.index[i])\n",
    "plt.scatter(6, data.iloc[i,:].mean(), color='green', linewidth=2.5, label='avg')\n",
    "ax.spines['top'].set_visible(False)\n",
    "plt.scatter(np.arange(7),data.iloc[i,:], color='#5492F2', linewidth=2.5, label='bid')\n",
    "plt.scatter(np.arange(8),list(np.zeros(7)*np.nan) + list([target[i]])\n",
    "         ,color='red',linewidth=2.5, label='target');\n",
    "\n",
    "plt.ylim(1.20, 1.2015)\n",
    "plt.legend(bbox_to_anchor=(1.05, 1), loc=2, borderaxespad=0.);"
   ]
  },
  {
   "cell_type": "code",
   "execution_count": 47,
   "metadata": {},
   "outputs": [
    {
     "data": {
      "text/html": [
       "<div>\n",
       "<style>\n",
       "    .dataframe thead tr:only-child th {\n",
       "        text-align: right;\n",
       "    }\n",
       "\n",
       "    .dataframe thead th {\n",
       "        text-align: left;\n",
       "    }\n",
       "\n",
       "    .dataframe tbody tr th {\n",
       "        vertical-align: top;\n",
       "    }\n",
       "</style>\n",
       "<table border=\"1\" class=\"dataframe\">\n",
       "  <thead>\n",
       "    <tr style=\"text-align: right;\">\n",
       "      <th></th>\n",
       "      <th>open</th>\n",
       "      <th>high</th>\n",
       "      <th>low</th>\n",
       "      <th>bid</th>\n",
       "      <th>ask</th>\n",
       "    </tr>\n",
       "  </thead>\n",
       "  <tbody>\n",
       "    <tr>\n",
       "      <th>2018-01-02 00:00:00</th>\n",
       "      <td>1.20094</td>\n",
       "      <td>1.20094</td>\n",
       "      <td>1.20011</td>\n",
       "      <td>1.20015</td>\n",
       "      <td>1.20110</td>\n",
       "    </tr>\n",
       "    <tr>\n",
       "      <th>2018-01-02 00:05:00</th>\n",
       "      <td>1.20015</td>\n",
       "      <td>1.20062</td>\n",
       "      <td>1.20011</td>\n",
       "      <td>1.20047</td>\n",
       "      <td>1.20084</td>\n",
       "    </tr>\n",
       "    <tr>\n",
       "      <th>2018-01-02 00:10:00</th>\n",
       "      <td>1.20039</td>\n",
       "      <td>1.20098</td>\n",
       "      <td>1.20035</td>\n",
       "      <td>1.20082</td>\n",
       "      <td>1.20126</td>\n",
       "    </tr>\n",
       "    <tr>\n",
       "      <th>2018-01-02 00:15:00</th>\n",
       "      <td>1.20080</td>\n",
       "      <td>1.20097</td>\n",
       "      <td>1.20025</td>\n",
       "      <td>1.20035</td>\n",
       "      <td>1.20091</td>\n",
       "    </tr>\n",
       "    <tr>\n",
       "      <th>2018-01-02 00:20:00</th>\n",
       "      <td>1.20034</td>\n",
       "      <td>1.20057</td>\n",
       "      <td>1.20031</td>\n",
       "      <td>1.20049</td>\n",
       "      <td>1.20085</td>\n",
       "    </tr>\n",
       "  </tbody>\n",
       "</table>\n",
       "</div>"
      ],
      "text/plain": [
       "                        open     high      low      bid      ask\n",
       "2018-01-02 00:00:00  1.20094  1.20094  1.20011  1.20015  1.20110\n",
       "2018-01-02 00:05:00  1.20015  1.20062  1.20011  1.20047  1.20084\n",
       "2018-01-02 00:10:00  1.20039  1.20098  1.20035  1.20082  1.20126\n",
       "2018-01-02 00:15:00  1.20080  1.20097  1.20025  1.20035  1.20091\n",
       "2018-01-02 00:20:00  1.20034  1.20057  1.20031  1.20049  1.20085"
      ]
     },
     "execution_count": 47,
     "metadata": {},
     "output_type": "execute_result"
    }
   ],
   "source": [
    "data_1.head()"
   ]
  },
  {
   "cell_type": "code",
   "execution_count": 48,
   "metadata": {},
   "outputs": [
    {
     "data": {
      "text/html": [
       "<div>\n",
       "<style>\n",
       "    .dataframe thead tr:only-child th {\n",
       "        text-align: right;\n",
       "    }\n",
       "\n",
       "    .dataframe thead th {\n",
       "        text-align: left;\n",
       "    }\n",
       "\n",
       "    .dataframe tbody tr th {\n",
       "        vertical-align: top;\n",
       "    }\n",
       "</style>\n",
       "<table border=\"1\" class=\"dataframe\">\n",
       "  <thead>\n",
       "    <tr style=\"text-align: right;\">\n",
       "      <th></th>\n",
       "      <th>0</th>\n",
       "      <th>1</th>\n",
       "      <th>2</th>\n",
       "      <th>3</th>\n",
       "      <th>4</th>\n",
       "      <th>5</th>\n",
       "      <th>6</th>\n",
       "    </tr>\n",
       "  </thead>\n",
       "  <tbody>\n",
       "    <tr>\n",
       "      <th>2018-01-02 00:30:00</th>\n",
       "      <td>1.20015</td>\n",
       "      <td>1.20047</td>\n",
       "      <td>1.20082</td>\n",
       "      <td>1.20035</td>\n",
       "      <td>1.20049</td>\n",
       "      <td>1.20047</td>\n",
       "      <td>1.20079</td>\n",
       "    </tr>\n",
       "    <tr>\n",
       "      <th>2018-01-02 00:35:00</th>\n",
       "      <td>1.20047</td>\n",
       "      <td>1.20082</td>\n",
       "      <td>1.20035</td>\n",
       "      <td>1.20049</td>\n",
       "      <td>1.20047</td>\n",
       "      <td>1.20079</td>\n",
       "      <td>1.20135</td>\n",
       "    </tr>\n",
       "    <tr>\n",
       "      <th>2018-01-02 00:40:00</th>\n",
       "      <td>1.20082</td>\n",
       "      <td>1.20035</td>\n",
       "      <td>1.20049</td>\n",
       "      <td>1.20047</td>\n",
       "      <td>1.20079</td>\n",
       "      <td>1.20135</td>\n",
       "      <td>1.20143</td>\n",
       "    </tr>\n",
       "    <tr>\n",
       "      <th>2018-01-02 00:45:00</th>\n",
       "      <td>1.20035</td>\n",
       "      <td>1.20049</td>\n",
       "      <td>1.20047</td>\n",
       "      <td>1.20079</td>\n",
       "      <td>1.20135</td>\n",
       "      <td>1.20143</td>\n",
       "      <td>1.20149</td>\n",
       "    </tr>\n",
       "    <tr>\n",
       "      <th>2018-01-02 00:50:00</th>\n",
       "      <td>1.20049</td>\n",
       "      <td>1.20047</td>\n",
       "      <td>1.20079</td>\n",
       "      <td>1.20135</td>\n",
       "      <td>1.20143</td>\n",
       "      <td>1.20149</td>\n",
       "      <td>1.20133</td>\n",
       "    </tr>\n",
       "  </tbody>\n",
       "</table>\n",
       "</div>"
      ],
      "text/plain": [
       "                           0        1        2        3        4        5  \\\n",
       "2018-01-02 00:30:00  1.20015  1.20047  1.20082  1.20035  1.20049  1.20047   \n",
       "2018-01-02 00:35:00  1.20047  1.20082  1.20035  1.20049  1.20047  1.20079   \n",
       "2018-01-02 00:40:00  1.20082  1.20035  1.20049  1.20047  1.20079  1.20135   \n",
       "2018-01-02 00:45:00  1.20035  1.20049  1.20047  1.20079  1.20135  1.20143   \n",
       "2018-01-02 00:50:00  1.20049  1.20047  1.20079  1.20135  1.20143  1.20149   \n",
       "\n",
       "                           6  \n",
       "2018-01-02 00:30:00  1.20079  \n",
       "2018-01-02 00:35:00  1.20135  \n",
       "2018-01-02 00:40:00  1.20143  \n",
       "2018-01-02 00:45:00  1.20149  \n",
       "2018-01-02 00:50:00  1.20133  "
      ]
     },
     "execution_count": 48,
     "metadata": {},
     "output_type": "execute_result"
    }
   ],
   "source": [
    "data.head()"
   ]
  },
  {
   "cell_type": "code",
   "execution_count": 54,
   "metadata": {},
   "outputs": [
    {
     "data": {
      "image/png": "[encoded data removed]",
      "text/plain": [
       "<matplotlib.figure.Figure at 0x7f5b22fc01d0>"
      ]
     },
     "metadata": {},
     "output_type": "display_data"
    }
   ],
   "source": [
    "plt.figure(figsize=(4,2))\n",
    "ax = plt.axes()\n",
    "ax.spines['right'].set_visible(False)\n",
    "plt.grid()\n",
    "i = 0\n",
    "plt.title('Window '+str(i+1))\n",
    "plt.xlabel(data.index[i])\n",
    "plt.scatter(6.5, data.iloc[i,:].mean(), color='green', linewidth=2.5, label='avg')\n",
    "plt.scatter(6, data_1.iloc[i,0].mean(), color='black', linewidth=2.5, label='open')\n",
    "plt.scatter(6.5, data_1.iloc[i,1].mean(), color='brown', linewidth=2.5, label='high')\n",
    "plt.scatter(6.5, data_1.iloc[i,2].mean(), color='orange', linewidth=2.5, label='low')\n",
    "ax.spines['top'].set_visible(False)\n",
    "plt.scatter(np.arange(7),data.iloc[i,:], color='#5492F2', linewidth=2.5, label='bid')\n",
    "plt.scatter(np.arange(8),list(np.zeros(7)*np.nan) + list([target[i]])\n",
    "         ,color='red',linewidth=2.5, label='target');\n",
    "\n",
    "plt.ylim(1.2, 1.2015)\n",
    "plt.legend(bbox_to_anchor=(1.05, 1), loc=2, borderaxespad=0.);"
   ]
  },
  {
   "cell_type": "code",
   "execution_count": null,
   "metadata": {
    "collapsed": true
   },
   "outputs": [],
   "source": []
  },
  {
   "cell_type": "code",
   "execution_count": null,
   "metadata": {
    "collapsed": true
   },
   "outputs": [],
   "source": []
  },
  {
   "cell_type": "code",
   "execution_count": null,
   "metadata": {
    "collapsed": true
   },
   "outputs": [],
   "source": []
  },
  {
   "cell_type": "code",
   "execution_count": 6,
   "metadata": {},
   "outputs": [
    {
     "data": {
      "text/plain": [
       "(6361, 2)"
      ]
     },
     "execution_count": 6,
     "metadata": {},
     "output_type": "execute_result"
    }
   ],
   "source": [
    "data.shape"
   ]
  },
  {
   "cell_type": "code",
   "execution_count": null,
   "metadata": {
    "collapsed": true
   },
   "outputs": [],
   "source": []
  },
  {
   "cell_type": "code",
   "execution_count": 10,
   "metadata": {},
   "outputs": [
    {
     "data": {
      "image/png": "[encoded data removed]",
      "text/plain": [
       "<matplotlib.figure.Figure at 0x7fa53ee64f60>"
      ]
     },
     "metadata": {},
     "output_type": "display_data"
    }
   ],
   "source": [
    "plt.figure(figsize=(7,3))\n",
    "ax = plt.axes()\n",
    "ax.spines['right'].set_visible(False)\n",
    "plt.title('EUR/USD')\n",
    "plt.grid()\n",
    "plt.xlabel('time')\n",
    "ax.spines['top'].set_visible(False)\n",
    "plt.plot(data_1.index,data_1.bid, color='#5492F2', linewidth=2.5, label='bid')\n",
    "plt.legend(loc='upper left');\n",
    "#plt.ylim(1.2,1.2017)\n",
    "#plt.xticks(np.arange(10), data.index.minute[:10]);"
   ]
  },
  {
   "cell_type": "code",
   "execution_count": 49,
   "metadata": {},
   "outputs": [
    {
     "data": {
      "image/png": "[encoded data removed]",
      "text/plain": [
       "<matplotlib.figure.Figure at 0x7fa53dbc3320>"
      ]
     },
     "metadata": {},
     "output_type": "display_data"
    }
   ],
   "source": [
    "plt.figure(figsize=(5,3))\n",
    "ax = plt.axes()\n",
    "ax.spines['right'].set_visible(False)\n",
    "plt.title('EUR/USD')\n",
    "plt.grid()\n",
    "plt.xlabel('time')\n",
    "ax.spines['top'].set_visible(False)\n",
    "plt.plot(data_1.index[int(3.951999*10**6):],data_1.bid[int(3.951999*10**6):]\n",
    "         , color='#5492F2', linewidth=1, label='bid')\n",
    "plt.legend(loc='upper left');"
   ]
  },
  {
   "cell_type": "code",
   "execution_count": 51,
   "metadata": {
    "collapsed": true
   },
   "outputs": [],
   "source": [
    "data_1 = data_1.bid.resample('5T',loffset='5T').last()"
   ]
  },
  {
   "cell_type": "code",
   "execution_count": 52,
   "metadata": {},
   "outputs": [
    {
     "data": {
      "text/plain": [
       "(8664,)"
      ]
     },
     "execution_count": 52,
     "metadata": {},
     "output_type": "execute_result"
    }
   ],
   "source": [
    "data_1.shape"
   ]
  },
  {
   "cell_type": "code",
   "execution_count": 55,
   "metadata": {},
   "outputs": [
    {
     "data": {
      "image/png": "[encoded data removed]",
      "text/plain": [
       "<matplotlib.figure.Figure at 0x7fa53f73ea20>"
      ]
     },
     "metadata": {},
     "output_type": "display_data"
    }
   ],
   "source": [
    "plt.figure(figsize=(7,3))\n",
    "ax = plt.axes()\n",
    "ax.spines['right'].set_visible(False)\n",
    "plt.title('EUR/USD')\n",
    "plt.grid()\n",
    "plt.xlabel('time')\n",
    "ax.spines['top'].set_visible(False)\n",
    "plt.plot(data_1.index,data_1, color='#5492F2', label='bid')\n",
    "plt.legend(loc='upper left');"
   ]
  },
  {
   "cell_type": "code",
   "execution_count": 60,
   "metadata": {},
   "outputs": [
    {
     "data": {
      "image/png": "[encoded data removed]",
      "text/plain": [
       "<matplotlib.figure.Figure at 0x7fa54ad94f98>"
      ]
     },
     "metadata": {},
     "output_type": "display_data"
    }
   ],
   "source": [
    "plt.figure(figsize=(5,3))\n",
    "ax = plt.axes()\n",
    "ax.spines['right'].set_visible(False)\n",
    "plt.title('EUR/USD')\n",
    "plt.grid()\n",
    "plt.xlabel('time')\n",
    "ax.spines['top'].set_visible(False)\n",
    "plt.plot(data_1.index[8600:],data_1[8600:],color='#5492F2', linewidth=1, label='bid')\n",
    "plt.legend(loc='lower right');"
   ]
  },
  {
   "cell_type": "code",
   "execution_count": null,
   "metadata": {
    "collapsed": true
   },
   "outputs": [],
   "source": []
  },
  {
   "cell_type": "code",
   "execution_count": null,
   "metadata": {
    "collapsed": true
   },
   "outputs": [],
   "source": []
  },
  {
   "cell_type": "code",
   "execution_count": null,
   "metadata": {
    "collapsed": true
   },
   "outputs": [],
   "source": []
  },
  {
   "cell_type": "code",
   "execution_count": 102,
   "metadata": {},
   "outputs": [
    {
     "data": {
      "text/plain": [
       "(3952896, 3)"
      ]
     },
     "execution_count": 102,
     "metadata": {},
     "output_type": "execute_result"
    }
   ],
   "source": [
    "data_1.shape"
   ]
  },
  {
   "cell_type": "code",
   "execution_count": 75,
   "metadata": {},
   "outputs": [
    {
     "data": {
      "text/html": [
       "<div>\n",
       "<style>\n",
       "    .dataframe thead tr:only-child th {\n",
       "        text-align: right;\n",
       "    }\n",
       "\n",
       "    .dataframe thead th {\n",
       "        text-align: left;\n",
       "    }\n",
       "\n",
       "    .dataframe tbody tr th {\n",
       "        vertical-align: top;\n",
       "    }\n",
       "</style>\n",
       "<table border=\"1\" class=\"dataframe\">\n",
       "  <thead>\n",
       "    <tr style=\"text-align: right;\">\n",
       "      <th></th>\n",
       "      <th>ref</th>\n",
       "      <th>bid</th>\n",
       "      <th>ask</th>\n",
       "    </tr>\n",
       "  </thead>\n",
       "  <tbody>\n",
       "    <tr>\n",
       "      <th>2018-01-01 22:01:01.051</th>\n",
       "      <td>EUR/USD</td>\n",
       "      <td>1.20094</td>\n",
       "      <td>1.20116</td>\n",
       "    </tr>\n",
       "    <tr>\n",
       "      <th>2018-01-01 22:01:01.158</th>\n",
       "      <td>EUR/USD</td>\n",
       "      <td>1.20093</td>\n",
       "      <td>1.20115</td>\n",
       "    </tr>\n",
       "    <tr>\n",
       "      <th>2018-01-01 22:01:11.676</th>\n",
       "      <td>EUR/USD</td>\n",
       "      <td>1.20093</td>\n",
       "      <td>1.20111</td>\n",
       "    </tr>\n",
       "    <tr>\n",
       "      <th>2018-01-01 22:01:18.116</th>\n",
       "      <td>EUR/USD</td>\n",
       "      <td>1.20082</td>\n",
       "      <td>1.20111</td>\n",
       "    </tr>\n",
       "    <tr>\n",
       "      <th>2018-01-01 22:01:32.023</th>\n",
       "      <td>EUR/USD</td>\n",
       "      <td>1.20043</td>\n",
       "      <td>1.20070</td>\n",
       "    </tr>\n",
       "  </tbody>\n",
       "</table>\n",
       "</div>"
      ],
      "text/plain": [
       "                             ref      bid      ask\n",
       "2018-01-01 22:01:01.051  EUR/USD  1.20094  1.20116\n",
       "2018-01-01 22:01:01.158  EUR/USD  1.20093  1.20115\n",
       "2018-01-01 22:01:11.676  EUR/USD  1.20093  1.20111\n",
       "2018-01-01 22:01:18.116  EUR/USD  1.20082  1.20111\n",
       "2018-01-01 22:01:32.023  EUR/USD  1.20043  1.20070"
      ]
     },
     "execution_count": 75,
     "metadata": {},
     "output_type": "execute_result"
    }
   ],
   "source": [
    "data_1.head()"
   ]
  },
  {
   "cell_type": "code",
   "execution_count": 76,
   "metadata": {
    "collapsed": true
   },
   "outputs": [],
   "source": [
    "data_2 = data_1.bid.resample('5T', loffset='5T').mean()\n",
    "data_1 = data_1.bid.resample('5T', loffset='5T').ohlc()"
   ]
  },
  {
   "cell_type": "code",
   "execution_count": 77,
   "metadata": {},
   "outputs": [
    {
     "data": {
      "text/html": [
       "<div>\n",
       "<style>\n",
       "    .dataframe thead tr:only-child th {\n",
       "        text-align: right;\n",
       "    }\n",
       "\n",
       "    .dataframe thead th {\n",
       "        text-align: left;\n",
       "    }\n",
       "\n",
       "    .dataframe tbody tr th {\n",
       "        vertical-align: top;\n",
       "    }\n",
       "</style>\n",
       "<table border=\"1\" class=\"dataframe\">\n",
       "  <thead>\n",
       "    <tr style=\"text-align: right;\">\n",
       "      <th></th>\n",
       "      <th>open</th>\n",
       "      <th>high</th>\n",
       "      <th>low</th>\n",
       "      <th>close</th>\n",
       "    </tr>\n",
       "  </thead>\n",
       "  <tbody>\n",
       "    <tr>\n",
       "      <th>2018-01-01 22:05:00</th>\n",
       "      <td>1.20094</td>\n",
       "      <td>1.20094</td>\n",
       "      <td>1.20011</td>\n",
       "      <td>1.20030</td>\n",
       "    </tr>\n",
       "    <tr>\n",
       "      <th>2018-01-01 22:10:00</th>\n",
       "      <td>1.20026</td>\n",
       "      <td>1.20097</td>\n",
       "      <td>1.20011</td>\n",
       "      <td>1.20096</td>\n",
       "    </tr>\n",
       "    <tr>\n",
       "      <th>2018-01-01 22:15:00</th>\n",
       "      <td>1.20093</td>\n",
       "      <td>1.20098</td>\n",
       "      <td>1.20069</td>\n",
       "      <td>1.20095</td>\n",
       "    </tr>\n",
       "    <tr>\n",
       "      <th>2018-01-01 22:20:00</th>\n",
       "      <td>1.20095</td>\n",
       "      <td>1.20097</td>\n",
       "      <td>1.20025</td>\n",
       "      <td>1.20056</td>\n",
       "    </tr>\n",
       "    <tr>\n",
       "      <th>2018-01-01 22:25:00</th>\n",
       "      <td>1.20056</td>\n",
       "      <td>1.20056</td>\n",
       "      <td>1.20048</td>\n",
       "      <td>1.20052</td>\n",
       "    </tr>\n",
       "  </tbody>\n",
       "</table>\n",
       "</div>"
      ],
      "text/plain": [
       "                        open     high      low    close\n",
       "2018-01-01 22:05:00  1.20094  1.20094  1.20011  1.20030\n",
       "2018-01-01 22:10:00  1.20026  1.20097  1.20011  1.20096\n",
       "2018-01-01 22:15:00  1.20093  1.20098  1.20069  1.20095\n",
       "2018-01-01 22:20:00  1.20095  1.20097  1.20025  1.20056\n",
       "2018-01-01 22:25:00  1.20056  1.20056  1.20048  1.20052"
      ]
     },
     "execution_count": 77,
     "metadata": {},
     "output_type": "execute_result"
    }
   ],
   "source": [
    "data_1.head()"
   ]
  },
  {
   "cell_type": "code",
   "execution_count": 81,
   "metadata": {},
   "outputs": [
    {
     "data": {
      "image/png": "[encoded data removed]",
      "text/plain": [
       "<matplotlib.figure.Figure at 0x7f32a6a03dd8>"
      ]
     },
     "metadata": {},
     "output_type": "display_data"
    }
   ],
   "source": [
    "plt.figure(figsize=(5,3))\n",
    "ax = plt.axes()\n",
    "ax.spines['right'].set_visible(False)\n",
    "plt.title('GBP/USD')\n",
    "plt.grid()\n",
    "plt.xlabel('minutos')\n",
    "ax.spines['top'].set_visible(False)\n",
    "plt.title('Window 5')\n",
    "plt.xlabel('time')\n",
    "plt.scatter(8,data_1.open[1], color='orange',label='open')\n",
    "plt.scatter(8,data_1.high[1], color='#1EA946',label='high')\n",
    "plt.scatter(8,data_1.low[1], color='#EA1693',label='low')\n",
    "plt.scatter(8,data_2[1], color='#54371A',label='avg')\n",
    "plt.plot(np.arange(9),data.bid[4:13],color='#616FE0', linewidth=2,label='')\n",
    "plt.plot(np.arange(10),list(np.zeros(8)*np.nan) + list([data.bid[12],data.bid[13]]),color='red',linewidth=2);\n",
    "plt.legend()\n",
    "plt.ylim(1.2, 1.2018);"
   ]
  },
  {
   "cell_type": "code",
   "execution_count": 83,
   "metadata": {
    "collapsed": true
   },
   "outputs": [],
   "source": [
    "%run ../code/build_dataset.py"
   ]
  },
  {
   "cell_type": "code",
   "execution_count": 93,
   "metadata": {
    "collapsed": true
   },
   "outputs": [],
   "source": [
    "a,_ = build_dataset(data, window=7)"
   ]
  },
  {
   "cell_type": "code",
   "execution_count": 94,
   "metadata": {},
   "outputs": [
    {
     "data": {
      "text/html": [
       "<div>\n",
       "<style>\n",
       "    .dataframe thead tr:only-child th {\n",
       "        text-align: right;\n",
       "    }\n",
       "\n",
       "    .dataframe thead th {\n",
       "        text-align: left;\n",
       "    }\n",
       "\n",
       "    .dataframe tbody tr th {\n",
       "        vertical-align: top;\n",
       "    }\n",
       "</style>\n",
       "<table border=\"1\" class=\"dataframe\">\n",
       "  <thead>\n",
       "    <tr style=\"text-align: right;\">\n",
       "      <th></th>\n",
       "      <th>0</th>\n",
       "      <th>1</th>\n",
       "      <th>2</th>\n",
       "      <th>3</th>\n",
       "      <th>4</th>\n",
       "      <th>5</th>\n",
       "      <th>6</th>\n",
       "    </tr>\n",
       "  </thead>\n",
       "  <tbody>\n",
       "    <tr>\n",
       "      <th>2018-01-02 00:30:00</th>\n",
       "      <td>1.20015</td>\n",
       "      <td>1.20047</td>\n",
       "      <td>1.20082</td>\n",
       "      <td>1.20035</td>\n",
       "      <td>1.20049</td>\n",
       "      <td>1.20047</td>\n",
       "      <td>1.20079</td>\n",
       "    </tr>\n",
       "    <tr>\n",
       "      <th>2018-01-02 00:35:00</th>\n",
       "      <td>1.20047</td>\n",
       "      <td>1.20082</td>\n",
       "      <td>1.20035</td>\n",
       "      <td>1.20049</td>\n",
       "      <td>1.20047</td>\n",
       "      <td>1.20079</td>\n",
       "      <td>1.20135</td>\n",
       "    </tr>\n",
       "    <tr>\n",
       "      <th>2018-01-02 00:40:00</th>\n",
       "      <td>1.20082</td>\n",
       "      <td>1.20035</td>\n",
       "      <td>1.20049</td>\n",
       "      <td>1.20047</td>\n",
       "      <td>1.20079</td>\n",
       "      <td>1.20135</td>\n",
       "      <td>1.20143</td>\n",
       "    </tr>\n",
       "    <tr>\n",
       "      <th>2018-01-02 00:45:00</th>\n",
       "      <td>1.20035</td>\n",
       "      <td>1.20049</td>\n",
       "      <td>1.20047</td>\n",
       "      <td>1.20079</td>\n",
       "      <td>1.20135</td>\n",
       "      <td>1.20143</td>\n",
       "      <td>1.20149</td>\n",
       "    </tr>\n",
       "    <tr>\n",
       "      <th>2018-01-02 00:50:00</th>\n",
       "      <td>1.20049</td>\n",
       "      <td>1.20047</td>\n",
       "      <td>1.20079</td>\n",
       "      <td>1.20135</td>\n",
       "      <td>1.20143</td>\n",
       "      <td>1.20149</td>\n",
       "      <td>1.20133</td>\n",
       "    </tr>\n",
       "  </tbody>\n",
       "</table>\n",
       "</div>"
      ],
      "text/plain": [
       "                           0        1        2        3        4        5  \\\n",
       "2018-01-02 00:30:00  1.20015  1.20047  1.20082  1.20035  1.20049  1.20047   \n",
       "2018-01-02 00:35:00  1.20047  1.20082  1.20035  1.20049  1.20047  1.20079   \n",
       "2018-01-02 00:40:00  1.20082  1.20035  1.20049  1.20047  1.20079  1.20135   \n",
       "2018-01-02 00:45:00  1.20035  1.20049  1.20047  1.20079  1.20135  1.20143   \n",
       "2018-01-02 00:50:00  1.20049  1.20047  1.20079  1.20135  1.20143  1.20149   \n",
       "\n",
       "                           6  \n",
       "2018-01-02 00:30:00  1.20079  \n",
       "2018-01-02 00:35:00  1.20135  \n",
       "2018-01-02 00:40:00  1.20143  \n",
       "2018-01-02 00:45:00  1.20149  \n",
       "2018-01-02 00:50:00  1.20133  "
      ]
     },
     "execution_count": 94,
     "metadata": {},
     "output_type": "execute_result"
    }
   ],
   "source": [
    "a.head()"
   ]
  },
  {
   "cell_type": "code",
   "execution_count": null,
   "metadata": {
    "collapsed": true
   },
   "outputs": [],
   "source": []
  }
 ],
 "metadata": {
  "kernelspec": {
   "display_name": "Python 3",
   "language": "python",
   "name": "python3"
  },
  "language_info": {
   "codemirror_mode": {
    "name": "ipython",
    "version": 3
   },
   "file_extension": ".py",
   "mimetype": "text/x-python",
   "name": "python",
   "nbconvert_exporter": "python",
   "pygments_lexer": "ipython3",
   "version": "3.6.2"
  }
 },
 "nbformat": 4,
 "nbformat_minor": 2
}
