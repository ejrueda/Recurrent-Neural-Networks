{
 "cells": [
  {
   "cell_type": "code",
   "execution_count": 1,
   "metadata": {
    "collapsed": true
   },
   "outputs": [],
   "source": [
    "import numpy as np\n",
    "import pandas as pd\n",
    "import bokeh.plotting as bp\n",
    "from bokeh.layouts import gridplot\n",
    "#bp.output_notebook()"
   ]
  },
  {
   "cell_type": "code",
   "execution_count": 11,
   "metadata": {
    "collapsed": true
   },
   "outputs": [],
   "source": [
    "result_GNB = pd.read_csv('./data/EUR-USD/pnl_wsize_3_GNB.csv',index_col=0,parse_dates=True,infer_datetime_format=True)\n",
    "result_KNC = pd.read_csv('./data/EUR-USD/pnl_wsize_3_KNC.csv',index_col=0,parse_dates=True,infer_datetime_format=True)\n",
    "result_DTC = pd.read_csv('./data/EUR-USD/pnl_wsize_3_DTC.csv',index_col=0,parse_dates=True,infer_datetime_format=True)\n",
    "result_RFC = pd.read_csv('./data/EUR-USD/pnl_wsize_3_RFC.csv',index_col=0,parse_dates=True,infer_datetime_format=True)"
   ]
  },
  {
   "cell_type": "code",
   "execution_count": 13,
   "metadata": {},
   "outputs": [
    {
     "data": {
      "text/plain": [
       "(126, 5)"
      ]
     },
     "execution_count": 13,
     "metadata": {},
     "output_type": "execute_result"
    }
   ],
   "source": [
    "result_DTC.shape"
   ]
  },
  {
   "cell_type": "code",
   "execution_count": 14,
   "metadata": {},
   "outputs": [
    {
     "data": {
      "text/html": [
       "<div>\n",
       "<style>\n",
       "    .dataframe thead tr:only-child th {\n",
       "        text-align: right;\n",
       "    }\n",
       "\n",
       "    .dataframe thead th {\n",
       "        text-align: left;\n",
       "    }\n",
       "\n",
       "    .dataframe tbody tr th {\n",
       "        vertical-align: top;\n",
       "    }\n",
       "</style>\n",
       "<table border=\"1\" class=\"dataframe\">\n",
       "  <thead>\n",
       "    <tr style=\"text-align: right;\">\n",
       "      <th></th>\n",
       "      <th>PNL</th>\n",
       "      <th>buys</th>\n",
       "      <th>sells</th>\n",
       "      <th>longest_buys</th>\n",
       "      <th>longest_sells</th>\n",
       "    </tr>\n",
       "  </thead>\n",
       "  <tbody>\n",
       "    <tr>\n",
       "      <th>2017-07-07</th>\n",
       "      <td>0.00779</td>\n",
       "      <td>3338.0</td>\n",
       "      <td>3675.0</td>\n",
       "      <td>15.0</td>\n",
       "      <td>30.0</td>\n",
       "    </tr>\n",
       "    <tr>\n",
       "      <th>2017-07-10</th>\n",
       "      <td>0.00347</td>\n",
       "      <td>3050.0</td>\n",
       "      <td>3485.0</td>\n",
       "      <td>11.0</td>\n",
       "      <td>16.0</td>\n",
       "    </tr>\n",
       "    <tr>\n",
       "      <th>2017-07-11</th>\n",
       "      <td>0.00171</td>\n",
       "      <td>3716.0</td>\n",
       "      <td>2971.0</td>\n",
       "      <td>1139.0</td>\n",
       "      <td>50.0</td>\n",
       "    </tr>\n",
       "    <tr>\n",
       "      <th>2017-07-12</th>\n",
       "      <td>0.00912</td>\n",
       "      <td>4198.0</td>\n",
       "      <td>2798.0</td>\n",
       "      <td>792.0</td>\n",
       "      <td>25.0</td>\n",
       "    </tr>\n",
       "    <tr>\n",
       "      <th>2017-07-13</th>\n",
       "      <td>0.00177</td>\n",
       "      <td>3352.0</td>\n",
       "      <td>3543.0</td>\n",
       "      <td>18.0</td>\n",
       "      <td>22.0</td>\n",
       "    </tr>\n",
       "  </tbody>\n",
       "</table>\n",
       "</div>"
      ],
      "text/plain": [
       "                PNL    buys   sells  longest_buys  longest_sells\n",
       "2017-07-07  0.00779  3338.0  3675.0          15.0           30.0\n",
       "2017-07-10  0.00347  3050.0  3485.0          11.0           16.0\n",
       "2017-07-11  0.00171  3716.0  2971.0        1139.0           50.0\n",
       "2017-07-12  0.00912  4198.0  2798.0         792.0           25.0\n",
       "2017-07-13  0.00177  3352.0  3543.0          18.0           22.0"
      ]
     },
     "execution_count": 14,
     "metadata": {},
     "output_type": "execute_result"
    }
   ],
   "source": [
    "result_DTC.head()"
   ]
  },
  {
   "cell_type": "markdown",
   "metadata": {},
   "source": [
    "graficamos los resultados del RandomForestClassifier"
   ]
  },
  {
   "cell_type": "code",
   "execution_count": 48,
   "metadata": {},
   "outputs": [],
   "source": [
    "p1_RFC = bp.figure(width=850, height=300,title='Profit and Loss',x_axis_type='datetime')\n",
    "\n",
    "x = result_RFC.index\n",
    "p1_RFC.line(x, result_RFC.iloc[:,0], color='blue', legend='RFC', alpha=0.5)\n",
    "p1_RFC.circle(x, result_RFC.iloc[:,0], color='blue', legend='PNL', alpha=0.5,size=3)\n",
    "p1_RFC.line(x, np.zeros(len(result_RFC)), color='red', legend='PNL = 0', line_dash='dotted')\n",
    "p1_RFC.line(x,np.ones(len(result_RFC.iloc[:,0]))*np.mean(result_RFC.iloc[:,0]),color='green',legend='avg PNL')\n",
    "p1_RFC.xaxis.axis_label = 'datetime'\n",
    "p1_RFC.yaxis.axis_label = 'PNL'\n",
    "p1_RFC.legend.location ='bottom_center'\n",
    "p1_RFC.legend.orientation = 'horizontal'\n",
    "\n",
    "p2_RFC = bp.figure(width=550, height=250, title='buys per day', x_axis_type='datetime')\n",
    "p2_RFC.line(x, result_RFC.iloc[:,1], color='green')\n",
    "#p2_RFC.circle(x, result_RFC.iloc[:,1], color='green')\n",
    "p2_RFC.xaxis.axis_label = 'datetime'\n",
    "p2_RFC.yaxis.axis_label = 'buys per day'\n",
    "\n",
    "#se utiliza el x_range para correlacionar las dos gráficas por el eje x\n",
    "p3_RFC = bp.figure(width=550, height=250, title='sells per day', x_axis_type='datetime',x_range=p2_RFC.x_range)\n",
    "p3_RFC.line(x, result_RFC.iloc[:,2], color='red')\n",
    "#p3_RFC.circle(x, result_RFC.iloc[:,2], color='red')\n",
    "p3_RFC.xaxis.axis_label = 'datetime'\n",
    "p3_RFC.yaxis.axis_label = 'sells per day'\n",
    "\n",
    "#para pintar el PNL que se va acumulando\n",
    "PNL_accu_RFC = []\n",
    "count_RFC = 0\n",
    "for i in result_RFC.iloc[:,0]:\n",
    "    count_RFC += i\n",
    "    PNL_accu_RFC.append(count_RFC)\n",
    "    \n",
    "p4_RFC = bp.figure(width=850, height=300,title='PNL accumulated with a RandomForestClassifier',\n",
    "                   x_axis_type='datetime',x_range=p1_RFC.x_range)\n",
    "p4_RFC.line(x, PNL_accu_RFC,color='blue',legend='PNL accumulated',alpha=0.5)\n",
    "p4_RFC.circle(x, PNL_accu_RFC, color='blue',legend='PNL accumulated', alpha=0.5, size=3)\n",
    "p4_RFC.line(x, np.zeros(len(result_RFC)), color='red', legend='PNL = 0', line_dash='dotted')\n",
    "p4_RFC.xaxis.axis_label = 'datetime'\n",
    "p4_RFC.yaxis.axis_label = 'PNL accumulated'\n",
    "p4_RFC.legend.location ='bottom_center'\n",
    "p4_RFC.legend.orientation = 'horizontal'\n",
    "\n",
    "bp.show(gridplot([[p1_RFC],[p4_RFC],[p2_RFC,p3_RFC]], toolbar_location=\"right\"))\n",
    "bp.output_file(filename='grafico RandomForestClassifier.html', title='RandomForestClassifier')"
   ]
  },
  {
   "cell_type": "code",
   "execution_count": 56,
   "metadata": {},
   "outputs": [],
   "source": [
    "bp.reset_output()"
   ]
  },
  {
   "cell_type": "markdown",
   "metadata": {},
   "source": [
    "pintamos los resultados del DecisionTreeClassifier"
   ]
  },
  {
   "cell_type": "code",
   "execution_count": 58,
   "metadata": {
    "collapsed": true
   },
   "outputs": [],
   "source": [
    "p1_DTC = bp.figure(width=850, height=300,title='Profit and Loss',x_axis_type='datetime')\n",
    "\n",
    "x = result_DTC.index\n",
    "p1_DTC.line(x, result_DTC.iloc[:,0], color='blue', legend='DTC', alpha=0.5)\n",
    "p1_DTC.circle(x, result_DTC.iloc[:,0], color='blue', legend='DTC', alpha=0.5,size=3)\n",
    "p1_DTC.line(x, np.zeros(len(result_DTC)), color='red', legend='PNL = 0', line_dash='dotted')\n",
    "p1_DTC.line(x,np.ones(len(result_DTC.iloc[:,0]))*np.mean(result_DTC.iloc[:,0]),color='green',legend='avg PNL')\n",
    "p1_DTC.xaxis.axis_label = 'datetime'\n",
    "p1_DTC.yaxis.axis_label = 'PNL'\n",
    "p1_DTC.legend.location ='bottom_center'\n",
    "p1_DTC.legend.orientation = 'horizontal'\n",
    "\n",
    "p2_DTC = bp.figure(width=550, height=250, title='buys per day', x_axis_type='datetime')\n",
    "p2_DTC.line(x, result_DTC.iloc[:,1], color='green')\n",
    "#p2_RFC.circle(x, result_RFC.iloc[:,1], color='green')\n",
    "p2_DTC.xaxis.axis_label = 'datetime'\n",
    "p2_DTC.yaxis.axis_label = 'buys per day'\n",
    "\n",
    "#se utiliza el x_range para correlacionar las dos gráficas por el eje x\n",
    "p3_DTC = bp.figure(width=550, height=250, title='sells per day', x_axis_type='datetime',x_range=p2_DTC.x_range)\n",
    "p3_DTC.line(x, result_DTC.iloc[:,2], color='red')\n",
    "#p3_RFC.circle(x, result_RFC.iloc[:,2], color='red')\n",
    "p3_DTC.xaxis.axis_label = 'datetime'\n",
    "p3_DTC.yaxis.axis_label = 'sells per day'\n",
    "\n",
    "#para pintar el PNL que se va acumulando\n",
    "PNL_accu_DTC = []\n",
    "count_DTC = 0\n",
    "for i in result_DTC.iloc[:,0]:\n",
    "    count_DTC += i\n",
    "    PNL_accu_DTC.append(count_DTC)\n",
    "    \n",
    "p4_DTC = bp.figure(width=850, height=300,title='PNL accumulated with a DecisionTreeClassifier',\n",
    "                   x_axis_type='datetime',x_range=p1_DTC.x_range)\n",
    "p4_DTC.line(x, PNL_accu_DTC,color='blue',legend='PNL accumulated',alpha=0.5)\n",
    "p4_DTC.circle(x, PNL_accu_DTC, color='blue',legend='PNL accumulated', alpha=0.5, size=3)\n",
    "p4_DTC.line(x, np.zeros(len(result_DTC)), color='red', legend='PNL = 0', line_dash='dotted')\n",
    "p4_DTC.xaxis.axis_label = 'datetime'\n",
    "p4_DTC.yaxis.axis_label = 'PNL accumulated'\n",
    "p4_DTC.legend.location ='bottom_center'\n",
    "p4_DTC.legend.orientation = 'horizontal'\n",
    "\n",
    "bp.show(gridplot([[p1_DTC],[p4_DTC],[p2_DTC,p3_DTC]], toolbar_location=\"right\"))\n",
    "bp.output_file(filename='grafico DecisionTreeClassifier.html', title='DecisionTreeClassifier')"
   ]
  },
  {
   "cell_type": "markdown",
   "metadata": {},
   "source": [
    "ahora los resultados del KNeighborsClassifier"
   ]
  },
  {
   "cell_type": "code",
   "execution_count": 59,
   "metadata": {
    "collapsed": true
   },
   "outputs": [],
   "source": [
    "bp.reset_output()"
   ]
  },
  {
   "cell_type": "code",
   "execution_count": 61,
   "metadata": {},
   "outputs": [],
   "source": [
    "p1_KNC = bp.figure(width=850, height=300,title='Profit and Loss',x_axis_type='datetime')\n",
    "\n",
    "x = result_KNC.index\n",
    "p1_KNC.line(x, result_KNC.iloc[:,0], color='blue', legend='KNC', alpha=0.5)\n",
    "p1_KNC.circle(x, result_KNC.iloc[:,0], color='blue', legend='KNC', alpha=0.5,size=3)\n",
    "p1_KNC.line(x, np.zeros(len(result_KNC)), color='red', legend='PNL = 0', line_dash='dotted')\n",
    "p1_KNC.line(x,np.ones(len(result_KNC.iloc[:,0]))*np.mean(result_KNC.iloc[:,0]),color='green',legend='avg PNL')\n",
    "p1_KNC.xaxis.axis_label = 'datetime'\n",
    "p1_KNC.yaxis.axis_label = 'PNL'\n",
    "p1_KNC.legend.location ='bottom_center'\n",
    "p1_KNC.legend.orientation = 'horizontal'\n",
    "\n",
    "p2_KNC = bp.figure(width=550, height=250, title='buys per day', x_axis_type='datetime')\n",
    "p2_KNC.line(x, result_KNC.iloc[:,1], color='green')\n",
    "#p2_RFC.circle(x, result_RFC.iloc[:,1], color='green')\n",
    "p2_KNC.xaxis.axis_label = 'datetime'\n",
    "p2_KNC.yaxis.axis_label = 'buys per day'\n",
    "\n",
    "#se utiliza el x_range para correlacionar las dos gráficas por el eje x\n",
    "p3_KNC = bp.figure(width=550, height=250, title='sells per day', x_axis_type='datetime',x_range=p2_KNC.x_range)\n",
    "p3_KNC.line(x, result_KNC.iloc[:,2], color='red')\n",
    "#p3_RFC.circle(x, result_RFC.iloc[:,2], color='red')\n",
    "p3_KNC.xaxis.axis_label = 'datetime'\n",
    "p3_KNC.yaxis.axis_label = 'sells per day'\n",
    "\n",
    "#para pintar el PNL que se va acumulando\n",
    "PNL_accu_KNC = []\n",
    "count_KNC = 0\n",
    "for i in result_KNC.iloc[:,0]:\n",
    "    count_KNC += i\n",
    "    PNL_accu_KNC.append(count_KNC)\n",
    "    \n",
    "p4_KNC = bp.figure(width=850, height=300,title='PNL accumulated with a KNeighborsClassifier',\n",
    "                   x_axis_type='datetime',x_range=p1_KNC.x_range)\n",
    "p4_KNC.line(x, PNL_accu_KNC,color='blue',legend='PNL accumulated',alpha=0.5)\n",
    "p4_KNC.circle(x, PNL_accu_KNC, color='blue',legend='PNL accumulated', alpha=0.5, size=3)\n",
    "p4_KNC.line(x, np.zeros(len(result_KNC)), color='red', legend='PNL = 0', line_dash='dotted')\n",
    "p4_KNC.xaxis.axis_label = 'datetime'\n",
    "p4_KNC.yaxis.axis_label = 'PNL accumulated'\n",
    "p4_KNC.legend.location ='bottom_center'\n",
    "p4_KNC.legend.orientation = 'horizontal'\n",
    "\n",
    "bp.show(gridplot([[p1_KNC],[p4_KNC],[p2_KNC,p3_KNC]], toolbar_location=\"right\"))\n",
    "bp.output_file(filename='grafico KNeighborsClassifier.html', title='KNeighborsClassifier')"
   ]
  },
  {
   "cell_type": "markdown",
   "metadata": {},
   "source": [
    "ahora pintamos los resultados del GaussianNB"
   ]
  },
  {
   "cell_type": "code",
   "execution_count": 67,
   "metadata": {
    "collapsed": true
   },
   "outputs": [],
   "source": [
    "bp.reset_output()"
   ]
  },
  {
   "cell_type": "code",
   "execution_count": 69,
   "metadata": {
    "collapsed": true
   },
   "outputs": [],
   "source": [
    "p1_GNB = bp.figure(width=850, height=300,title='Profit and Loss',x_axis_type='datetime')\n",
    "\n",
    "x = result_GNB.index\n",
    "p1_GNB.line(x, result_GNB.iloc[:,0], color='blue', legend='GNB', alpha=0.5)\n",
    "p1_GNB.circle(x, result_GNB.iloc[:,0], color='blue', legend='GNB', alpha=0.5,size=3)\n",
    "p1_GNB.line(x, np.zeros(len(result_GNB)), color='red', legend='PNL = 0', line_dash='dotted')\n",
    "p1_GNB.line(x,np.ones(len(result_GNB.iloc[:,0]))*np.mean(result_GNB.iloc[:,0]),color='green',legend='avg PNL')\n",
    "p1_GNB.xaxis.axis_label = 'datetime'\n",
    "p1_GNB.yaxis.axis_label = 'PNL'\n",
    "p1_GNB.legend.location ='bottom_center'\n",
    "p1_GNB.legend.orientation = 'horizontal'\n",
    "\n",
    "p2_GNB = bp.figure(width=550, height=250, title='buys per day', x_axis_type='datetime')\n",
    "p2_GNB.line(x, result_GNB.iloc[:,1], color='green')\n",
    "#p2_RFC.circle(x, result_RFC.iloc[:,1], color='green')\n",
    "p2_GNB.xaxis.axis_label = 'datetime'\n",
    "p2_GNB.yaxis.axis_label = 'buys per day'\n",
    "\n",
    "#se utiliza el x_range para correlacionar las dos gráficas por el eje x\n",
    "p3_GNB = bp.figure(width=550, height=250, title='sells per day', x_axis_type='datetime',x_range=p2_GNB.x_range)\n",
    "p3_GNB.line(x, result_GNB.iloc[:,2], color='red')\n",
    "#p3_RFC.circle(x, result_RFC.iloc[:,2], color='red')\n",
    "p3_GNB.xaxis.axis_label = 'datetime'\n",
    "p3_GNB.yaxis.axis_label = 'sells per day'\n",
    "\n",
    "#para pintar el PNL que se va acumulando\n",
    "PNL_accu_GNB = []\n",
    "count_GNB = 0\n",
    "for i in result_GNB.iloc[:,0]:\n",
    "    count_GNB += i\n",
    "    PNL_accu_GNB.append(count_GNB)\n",
    "    \n",
    "p4_GNB = bp.figure(width=850, height=300,title='PNL accumulated with a GaussianNB',\n",
    "                   x_axis_type='datetime',x_range=p1_GNB.x_range)\n",
    "p4_GNB.line(x, PNL_accu_GNB,color='blue',legend='PNL accumulated',alpha=0.5)\n",
    "p4_GNB.circle(x, PNL_accu_GNB, color='blue',legend='PNL accumulated', alpha=0.5, size=3)\n",
    "p4_GNB.line(x, np.zeros(len(result_GNB)), color='red', legend='PNL = 0', line_dash='dotted')\n",
    "p4_GNB.xaxis.axis_label = 'datetime'\n",
    "p4_GNB.yaxis.axis_label = 'PNL accumulated'\n",
    "p4_GNB.legend.location ='bottom_center'\n",
    "p4_GNB.legend.orientation = 'horizontal'\n",
    "\n",
    "bp.show(gridplot([[p1_GNB],[p4_GNB],[p2_GNB,p3_GNB]], toolbar_location=\"right\"))\n",
    "bp.output_file(filename='grafico GaussianNB.html', title='GaussianNB')"
   ]
  },
  {
   "cell_type": "markdown",
   "metadata": {},
   "source": [
    "graficaremos los resultados en una misma gráfica, a excepción de los resultados obtenidos por el GaussianNB ya que estos no nos interesan"
   ]
  },
  {
   "cell_type": "code",
   "execution_count": 70,
   "metadata": {
    "collapsed": true
   },
   "outputs": [],
   "source": [
    "bp.reset_output()"
   ]
  },
  {
   "cell_type": "code",
   "execution_count": 72,
   "metadata": {},
   "outputs": [
    {
     "name": "stderr",
     "output_type": "stream",
     "text": [
      "W-1001 (NO_DATA_RENDERERS): Plot has no data renderers: Figure(id='f21a3b38-384b-4651-b0a6-a1032fa58d54', ...)\n"
     ]
    }
   ],
   "source": [
    "p1_RFC = bp.figure(width=850, height=300,title='Profit and Loss',x_axis_type='datetime')\n",
    "\n",
    "x = result_RFC.index\n",
    "p1_RFC.line(x, result_RFC.iloc[:,0], color='blue', legend='RFC', alpha=0.5)\n",
    "p1_RFC.circle(x, result_RFC.iloc[:,0], color='blue', alpha=0.5,size=3)\n",
    "p1_RFC.line(x, result_DTC.iloc[:,0], color='red', legend='DTC', alpha=0.5)\n",
    "p1_RFC.circle(x, result_DTC.iloc[:,0], color='red',alpha=0.5,size=3)\n",
    "p1_RFC.line(x, result_KNC.iloc[:,0], color='green', legend='KNC', alpha=0.5)\n",
    "p1_RFC.circle(x, result_KNC.iloc[:,0], color='green',alpha=0.5,size=3)\n",
    "p1_RFC.line(x, np.zeros(len(result_RFC)), color='black', legend='PNL = 0', line_dash='dotted')\n",
    "p1_RFC.xaxis.axis_label = 'datetime'\n",
    "p1_RFC.yaxis.axis_label = 'PNL'\n",
    "p1_RFC.legend.location ='bottom_center'\n",
    "p1_RFC.legend.orientation = 'horizontal'\n",
    "\n",
    "p2_RFC = bp.figure(width=550, height=250, title='buys per day', x_axis_type='datetime')\n",
    "p2_RFC.line(x, result_RFC.iloc[:,1], color='blue')\n",
    "p2_RFC.line(x, result_DTC.iloc[:,1], color='red')\n",
    "p2_RFC.line(x, result_KNC.iloc[:,1], color='green')\n",
    "#p2_RFC.circle(x, result_RFC.iloc[:,1], color='green')\n",
    "p2_RFC.xaxis.axis_label = 'datetime'\n",
    "p2_RFC.yaxis.axis_label = 'buys per day'\n",
    "\n",
    "#se utiliza el x_range para correlacionar las dos gráficas por el eje x\n",
    "p3_RFC = bp.figure(width=550, height=250, title='sells per day', x_axis_type='datetime',x_range=p2_RFC.x_range)\n",
    "p3_RFC.line(x, result_RFC.iloc[:,2], color='blue')\n",
    "p3_RFC.line(x, result_DTC.iloc[:,2], color='red')\n",
    "p3_RFC.line(x, result_KNC.iloc[:,2], color='green')\n",
    "#p3_RFC.circle(x, result_RFC.iloc[:,2], color='red')\n",
    "p3_RFC.xaxis.axis_label = 'datetime'\n",
    "p3_RFC.yaxis.axis_label = 'sells per day'\n",
    "\n",
    "#para pintar el PNL que se va acumulando\n",
    "PNL_accu_RFC = []\n",
    "count_RFC = 0\n",
    "for i in result_RFC.iloc[:,0]:\n",
    "    count_RFC += i\n",
    "    PNL_accu_RFC.append(count_RFC)\n",
    "    \n",
    "p4_RFC = bp.figure(width=850, height=300,title='PNL accumulated with a RandomForestClassifier',\n",
    "                   x_axis_type='datetime',x_range=p1_RFC.x_range)\n",
    "p4_RFC.line(x, PNL_accu_RFC,color='blue',legend='RFC',alpha=0.5)\n",
    "p4_RFC.circle(x, PNL_accu_RFC, color='blue', alpha=0.5, size=3)\n",
    "p4_RFC.line(x, PNL_accu_DTC,color='red',legend='DTC',alpha=0.5)\n",
    "p4_RFC.circle(x, PNL_accu_DTC, color='red', alpha=0.5, size=3)\n",
    "p4_RFC.line(x, PNL_accu_KNC,color='green',legend='KNC',alpha=0.5)\n",
    "p4_RFC.circle(x, PNL_accu_KNC, color='green', alpha=0.5, size=3)\n",
    "p4_RFC.line(x, np.zeros(len(result_RFC)), color='black', legend='PNL = 0', line_dash='dotted')\n",
    "p4_RFC.xaxis.axis_label = 'datetime'\n",
    "p4_RFC.yaxis.axis_label = 'PNL accumulated'\n",
    "p4_RFC.legend.location ='bottom_center'\n",
    "p4_RFC.legend.orientation = 'horizontal'\n",
    "\n",
    "bp.show(gridplot([[p1_RFC],[p4_RFC],[p2_RFC,p3_RFC]], toolbar_location=\"right\"))\n",
    "bp.output_file(filename='grafico comparación.html', title='comparación')"
   ]
  },
  {
   "cell_type": "code",
   "execution_count": null,
   "metadata": {
    "collapsed": true
   },
   "outputs": [],
   "source": []
  }
 ],
 "metadata": {
  "kernelspec": {
   "display_name": "Python 3",
   "language": "python",
   "name": "python3"
  },
  "language_info": {
   "codemirror_mode": {
    "name": "ipython",
    "version": 3
   },
   "file_extension": ".py",
   "mimetype": "text/x-python",
   "name": "python",
   "nbconvert_exporter": "python",
   "pygments_lexer": "ipython3",
   "version": "3.6.2"
  }
 },
 "nbformat": 4,
 "nbformat_minor": 2
}
