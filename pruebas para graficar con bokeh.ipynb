{
 "cells": [
  {
   "cell_type": "code",
   "execution_count": 4,
   "metadata": {},
   "outputs": [
    {
     "data": {
      "text/html": [
       "\n",
       "    <div class=\"bk-root\">\n",
       "        <a href=\"https://bokeh.pydata.org\" target=\"_blank\" class=\"bk-logo bk-logo-small bk-logo-notebook\"></a>\n",
       "        <span id=\"c8192e31-ff7f-4ab1-883f-716815b01ece\">Loading BokehJS ...</span>\n",
       "    </div>"
      ]
     },
     "metadata": {},
     "output_type": "display_data"
    },
    {
     "data": {
      "application/javascript": [
       "\n",
       "(function(root) {\n",
       "  function now() {\n",
       "    return new Date();\n",
       "  }\n",
       "\n",
       "  var force = true;\n",
       "\n",
       "  if (typeof (root._bokeh_onload_callbacks) === \"undefined\" || force === true) {\n",
       "    root._bokeh_onload_callbacks = [];\n",
       "    root._bokeh_is_loading = undefined;\n",
       "  }\n",
       "\n",
       "  var JS_MIME_TYPE = 'application/javascript';\n",
       "  var HTML_MIME_TYPE = 'text/html';\n",
       "  var EXEC_MIME_TYPE = 'application/vnd.bokehjs_exec.v0+json';\n",
       "  var CLASS_NAME = 'output_bokeh rendered_html';\n",
       "\n",
       "  /**\n",
       "   * Render data to the DOM node\n",
       "   */\n",
       "  function render(props, node) {\n",
       "    var script = document.createElement(\"script\");\n",
       "    node.appendChild(script);\n",
       "  }\n",
       "\n",
       "  /**\n",
       "   * Handle when an output is cleared or removed\n",
       "   */\n",
       "  function handleClearOutput(event, handle) {\n",
       "    var cell = handle.cell;\n",
       "\n",
       "    var id = cell.output_area._bokeh_element_id;\n",
       "    var server_id = cell.output_area._bokeh_server_id;\n",
       "    // Clean up Bokeh references\n",
       "    if (id !== undefined) {\n",
       "      Bokeh.index[id].model.document.clear();\n",
       "      delete Bokeh.index[id];\n",
       "    }\n",
       "\n",
       "    if (server_id !== undefined) {\n",
       "      // Clean up Bokeh references\n",
       "      var cmd = \"from bokeh.io.state import curstate; print(curstate().uuid_to_server['\" + server_id + \"'].get_sessions()[0].document.roots[0]._id)\";\n",
       "      cell.notebook.kernel.execute(cmd, {\n",
       "        iopub: {\n",
       "          output: function(msg) {\n",
       "            var element_id = msg.content.text.trim();\n",
       "            Bokeh.index[element_id].model.document.clear();\n",
       "            delete Bokeh.index[element_id];\n",
       "          }\n",
       "        }\n",
       "      });\n",
       "      // Destroy server and session\n",
       "      var cmd = \"import bokeh.io.notebook as ion; ion.destroy_server('\" + server_id + \"')\";\n",
       "      cell.notebook.kernel.execute(cmd);\n",
       "    }\n",
       "  }\n",
       "\n",
       "  /**\n",
       "   * Handle when a new output is added\n",
       "   */\n",
       "  function handleAddOutput(event, handle) {\n",
       "    var output_area = handle.output_area;\n",
       "    var output = handle.output;\n",
       "\n",
       "    // limit handleAddOutput to display_data with EXEC_MIME_TYPE content only\n",
       "    if ((output.output_type != \"display_data\") || (!output.data.hasOwnProperty(EXEC_MIME_TYPE))) {\n",
       "      return\n",
       "    }\n",
       "\n",
       "    var toinsert = output_area.element.find(\".\" + CLASS_NAME.split(' ')[0]);\n",
       "\n",
       "    if (output.metadata[EXEC_MIME_TYPE][\"id\"] !== undefined) {\n",
       "      toinsert[0].firstChild.textContent = output.data[JS_MIME_TYPE];\n",
       "      // store reference to embed id on output_area\n",
       "      output_area._bokeh_element_id = output.metadata[EXEC_MIME_TYPE][\"id\"];\n",
       "    }\n",
       "    if (output.metadata[EXEC_MIME_TYPE][\"server_id\"] !== undefined) {\n",
       "      var bk_div = document.createElement(\"div\");\n",
       "      bk_div.innerHTML = output.data[HTML_MIME_TYPE];\n",
       "      var script_attrs = bk_div.children[0].attributes;\n",
       "      for (var i = 0; i < script_attrs.length; i++) {\n",
       "        toinsert[0].firstChild.setAttribute(script_attrs[i].name, script_attrs[i].value);\n",
       "      }\n",
       "      // store reference to server id on output_area\n",
       "      output_area._bokeh_server_id = output.metadata[EXEC_MIME_TYPE][\"server_id\"];\n",
       "    }\n",
       "  }\n",
       "\n",
       "  function register_renderer(events, OutputArea) {\n",
       "\n",
       "    function append_mime(data, metadata, element) {\n",
       "      // create a DOM node to render to\n",
       "      var toinsert = this.create_output_subarea(\n",
       "        metadata,\n",
       "        CLASS_NAME,\n",
       "        EXEC_MIME_TYPE\n",
       "      );\n",
       "      this.keyboard_manager.register_events(toinsert);\n",
       "      // Render to node\n",
       "      var props = {data: data, metadata: metadata[EXEC_MIME_TYPE]};\n",
       "      render(props, toinsert[0]);\n",
       "      element.append(toinsert);\n",
       "      return toinsert\n",
       "    }\n",
       "\n",
       "    /* Handle when an output is cleared or removed */\n",
       "    events.on('clear_output.CodeCell', handleClearOutput);\n",
       "    events.on('delete.Cell', handleClearOutput);\n",
       "\n",
       "    /* Handle when a new output is added */\n",
       "    events.on('output_added.OutputArea', handleAddOutput);\n",
       "\n",
       "    /**\n",
       "     * Register the mime type and append_mime function with output_area\n",
       "     */\n",
       "    OutputArea.prototype.register_mime_type(EXEC_MIME_TYPE, append_mime, {\n",
       "      /* Is output safe? */\n",
       "      safe: true,\n",
       "      /* Index of renderer in `output_area.display_order` */\n",
       "      index: 0\n",
       "    });\n",
       "  }\n",
       "\n",
       "  // register the mime type if in Jupyter Notebook environment and previously unregistered\n",
       "  if (root.Jupyter !== undefined) {\n",
       "    var events = require('base/js/events');\n",
       "    var OutputArea = require('notebook/js/outputarea').OutputArea;\n",
       "\n",
       "    if (OutputArea.prototype.mime_types().indexOf(EXEC_MIME_TYPE) == -1) {\n",
       "      register_renderer(events, OutputArea);\n",
       "    }\n",
       "  }\n",
       "\n",
       "  \n",
       "  if (typeof (root._bokeh_timeout) === \"undefined\" || force === true) {\n",
       "    root._bokeh_timeout = Date.now() + 5000;\n",
       "    root._bokeh_failed_load = false;\n",
       "  }\n",
       "\n",
       "  var NB_LOAD_WARNING = {'data': {'text/html':\n",
       "     \"<div style='background-color: #fdd'>\\n\"+\n",
       "     \"<p>\\n\"+\n",
       "     \"BokehJS does not appear to have successfully loaded. If loading BokehJS from CDN, this \\n\"+\n",
       "     \"may be due to a slow or bad network connection. Possible fixes:\\n\"+\n",
       "     \"</p>\\n\"+\n",
       "     \"<ul>\\n\"+\n",
       "     \"<li>re-rerun `output_notebook()` to attempt to load from CDN again, or</li>\\n\"+\n",
       "     \"<li>use INLINE resources instead, as so:</li>\\n\"+\n",
       "     \"</ul>\\n\"+\n",
       "     \"<code>\\n\"+\n",
       "     \"from bokeh.resources import INLINE\\n\"+\n",
       "     \"output_notebook(resources=INLINE)\\n\"+\n",
       "     \"</code>\\n\"+\n",
       "     \"</div>\"}};\n",
       "\n",
       "  function display_loaded() {\n",
       "    var el = document.getElementById(\"c8192e31-ff7f-4ab1-883f-716815b01ece\");\n",
       "    if (el != null) {\n",
       "      el.textContent = \"BokehJS is loading...\";\n",
       "    }\n",
       "    if (root.Bokeh !== undefined) {\n",
       "      if (el != null) {\n",
       "        el.textContent = \"BokehJS \" + root.Bokeh.version + \" successfully loaded.\";\n",
       "      }\n",
       "    } else if (Date.now() < root._bokeh_timeout) {\n",
       "      setTimeout(display_loaded, 100)\n",
       "    }\n",
       "  }\n",
       "\n",
       "\n",
       "  function run_callbacks() {\n",
       "    try {\n",
       "      root._bokeh_onload_callbacks.forEach(function(callback) { callback() });\n",
       "    }\n",
       "    finally {\n",
       "      delete root._bokeh_onload_callbacks\n",
       "    }\n",
       "    console.info(\"Bokeh: all callbacks have finished\");\n",
       "  }\n",
       "\n",
       "  function load_libs(js_urls, callback) {\n",
       "    root._bokeh_onload_callbacks.push(callback);\n",
       "    if (root._bokeh_is_loading > 0) {\n",
       "      console.log(\"Bokeh: BokehJS is being loaded, scheduling callback at\", now());\n",
       "      return null;\n",
       "    }\n",
       "    if (js_urls == null || js_urls.length === 0) {\n",
       "      run_callbacks();\n",
       "      return null;\n",
       "    }\n",
       "    console.log(\"Bokeh: BokehJS not loaded, scheduling load and callback at\", now());\n",
       "    root._bokeh_is_loading = js_urls.length;\n",
       "    for (var i = 0; i < js_urls.length; i++) {\n",
       "      var url = js_urls[i];\n",
       "      var s = document.createElement('script');\n",
       "      s.src = url;\n",
       "      s.async = false;\n",
       "      s.onreadystatechange = s.onload = function() {\n",
       "        root._bokeh_is_loading--;\n",
       "        if (root._bokeh_is_loading === 0) {\n",
       "          console.log(\"Bokeh: all BokehJS libraries loaded\");\n",
       "          run_callbacks()\n",
       "        }\n",
       "      };\n",
       "      s.onerror = function() {\n",
       "        console.warn(\"failed to load library \" + url);\n",
       "      };\n",
       "      console.log(\"Bokeh: injecting script tag for BokehJS library: \", url);\n",
       "      document.getElementsByTagName(\"head\")[0].appendChild(s);\n",
       "    }\n",
       "  };var element = document.getElementById(\"c8192e31-ff7f-4ab1-883f-716815b01ece\");\n",
       "  if (element == null) {\n",
       "    console.log(\"Bokeh: ERROR: autoload.js configured with elementid 'c8192e31-ff7f-4ab1-883f-716815b01ece' but no matching script tag was found. \")\n",
       "    return false;\n",
       "  }\n",
       "\n",
       "  var js_urls = [\"https://cdn.pydata.org/bokeh/release/bokeh-0.12.14.min.js\", \"https://cdn.pydata.org/bokeh/release/bokeh-widgets-0.12.14.min.js\", \"https://cdn.pydata.org/bokeh/release/bokeh-tables-0.12.14.min.js\", \"https://cdn.pydata.org/bokeh/release/bokeh-gl-0.12.14.min.js\"];\n",
       "\n",
       "  var inline_js = [\n",
       "    function(Bokeh) {\n",
       "      Bokeh.set_log_level(\"info\");\n",
       "    },\n",
       "    \n",
       "    function(Bokeh) {\n",
       "      \n",
       "    },\n",
       "    function(Bokeh) {\n",
       "      console.log(\"Bokeh: injecting CSS: https://cdn.pydata.org/bokeh/release/bokeh-0.12.14.min.css\");\n",
       "      Bokeh.embed.inject_css(\"https://cdn.pydata.org/bokeh/release/bokeh-0.12.14.min.css\");\n",
       "      console.log(\"Bokeh: injecting CSS: https://cdn.pydata.org/bokeh/release/bokeh-widgets-0.12.14.min.css\");\n",
       "      Bokeh.embed.inject_css(\"https://cdn.pydata.org/bokeh/release/bokeh-widgets-0.12.14.min.css\");\n",
       "      console.log(\"Bokeh: injecting CSS: https://cdn.pydata.org/bokeh/release/bokeh-tables-0.12.14.min.css\");\n",
       "      Bokeh.embed.inject_css(\"https://cdn.pydata.org/bokeh/release/bokeh-tables-0.12.14.min.css\");\n",
       "    }\n",
       "  ];\n",
       "\n",
       "  function run_inline_js() {\n",
       "    \n",
       "    if ((root.Bokeh !== undefined) || (force === true)) {\n",
       "      for (var i = 0; i < inline_js.length; i++) {\n",
       "        inline_js[i].call(root, root.Bokeh);\n",
       "      }if (force === true) {\n",
       "        display_loaded();\n",
       "      }} else if (Date.now() < root._bokeh_timeout) {\n",
       "      setTimeout(run_inline_js, 100);\n",
       "    } else if (!root._bokeh_failed_load) {\n",
       "      console.log(\"Bokeh: BokehJS failed to load within specified timeout.\");\n",
       "      root._bokeh_failed_load = true;\n",
       "    } else if (force !== true) {\n",
       "      var cell = $(document.getElementById(\"c8192e31-ff7f-4ab1-883f-716815b01ece\")).parents('.cell').data().cell;\n",
       "      cell.output_area.append_execute_result(NB_LOAD_WARNING)\n",
       "    }\n",
       "\n",
       "  }\n",
       "\n",
       "  if (root._bokeh_is_loading === 0) {\n",
       "    console.log(\"Bokeh: BokehJS loaded, going straight to plotting\");\n",
       "    run_inline_js();\n",
       "  } else {\n",
       "    load_libs(js_urls, function() {\n",
       "      console.log(\"Bokeh: BokehJS plotting callback run at\", now());\n",
       "      run_inline_js();\n",
       "    });\n",
       "  }\n",
       "}(window));"
      ],
      "application/vnd.bokehjs_load.v0+json": "\n(function(root) {\n  function now() {\n    return new Date();\n  }\n\n  var force = true;\n\n  if (typeof (root._bokeh_onload_callbacks) === \"undefined\" || force === true) {\n    root._bokeh_onload_callbacks = [];\n    root._bokeh_is_loading = undefined;\n  }\n\n  \n\n  \n  if (typeof (root._bokeh_timeout) === \"undefined\" || force === true) {\n    root._bokeh_timeout = Date.now() + 5000;\n    root._bokeh_failed_load = false;\n  }\n\n  var NB_LOAD_WARNING = {'data': {'text/html':\n     \"<div style='background-color: #fdd'>\\n\"+\n     \"<p>\\n\"+\n     \"BokehJS does not appear to have successfully loaded. If loading BokehJS from CDN, this \\n\"+\n     \"may be due to a slow or bad network connection. Possible fixes:\\n\"+\n     \"</p>\\n\"+\n     \"<ul>\\n\"+\n     \"<li>re-rerun `output_notebook()` to attempt to load from CDN again, or</li>\\n\"+\n     \"<li>use INLINE resources instead, as so:</li>\\n\"+\n     \"</ul>\\n\"+\n     \"<code>\\n\"+\n     \"from bokeh.resources import INLINE\\n\"+\n     \"output_notebook(resources=INLINE)\\n\"+\n     \"</code>\\n\"+\n     \"</div>\"}};\n\n  function display_loaded() {\n    var el = document.getElementById(\"c8192e31-ff7f-4ab1-883f-716815b01ece\");\n    if (el != null) {\n      el.textContent = \"BokehJS is loading...\";\n    }\n    if (root.Bokeh !== undefined) {\n      if (el != null) {\n        el.textContent = \"BokehJS \" + root.Bokeh.version + \" successfully loaded.\";\n      }\n    } else if (Date.now() < root._bokeh_timeout) {\n      setTimeout(display_loaded, 100)\n    }\n  }\n\n\n  function run_callbacks() {\n    try {\n      root._bokeh_onload_callbacks.forEach(function(callback) { callback() });\n    }\n    finally {\n      delete root._bokeh_onload_callbacks\n    }\n    console.info(\"Bokeh: all callbacks have finished\");\n  }\n\n  function load_libs(js_urls, callback) {\n    root._bokeh_onload_callbacks.push(callback);\n    if (root._bokeh_is_loading > 0) {\n      console.log(\"Bokeh: BokehJS is being loaded, scheduling callback at\", now());\n      return null;\n    }\n    if (js_urls == null || js_urls.length === 0) {\n      run_callbacks();\n      return null;\n    }\n    console.log(\"Bokeh: BokehJS not loaded, scheduling load and callback at\", now());\n    root._bokeh_is_loading = js_urls.length;\n    for (var i = 0; i < js_urls.length; i++) {\n      var url = js_urls[i];\n      var s = document.createElement('script');\n      s.src = url;\n      s.async = false;\n      s.onreadystatechange = s.onload = function() {\n        root._bokeh_is_loading--;\n        if (root._bokeh_is_loading === 0) {\n          console.log(\"Bokeh: all BokehJS libraries loaded\");\n          run_callbacks()\n        }\n      };\n      s.onerror = function() {\n        console.warn(\"failed to load library \" + url);\n      };\n      console.log(\"Bokeh: injecting script tag for BokehJS library: \", url);\n      document.getElementsByTagName(\"head\")[0].appendChild(s);\n    }\n  };var element = document.getElementById(\"c8192e31-ff7f-4ab1-883f-716815b01ece\");\n  if (element == null) {\n    console.log(\"Bokeh: ERROR: autoload.js configured with elementid 'c8192e31-ff7f-4ab1-883f-716815b01ece' but no matching script tag was found. \")\n    return false;\n  }\n\n  var js_urls = [\"https://cdn.pydata.org/bokeh/release/bokeh-0.12.14.min.js\", \"https://cdn.pydata.org/bokeh/release/bokeh-widgets-0.12.14.min.js\", \"https://cdn.pydata.org/bokeh/release/bokeh-tables-0.12.14.min.js\", \"https://cdn.pydata.org/bokeh/release/bokeh-gl-0.12.14.min.js\"];\n\n  var inline_js = [\n    function(Bokeh) {\n      Bokeh.set_log_level(\"info\");\n    },\n    \n    function(Bokeh) {\n      \n    },\n    function(Bokeh) {\n      console.log(\"Bokeh: injecting CSS: https://cdn.pydata.org/bokeh/release/bokeh-0.12.14.min.css\");\n      Bokeh.embed.inject_css(\"https://cdn.pydata.org/bokeh/release/bokeh-0.12.14.min.css\");\n      console.log(\"Bokeh: injecting CSS: https://cdn.pydata.org/bokeh/release/bokeh-widgets-0.12.14.min.css\");\n      Bokeh.embed.inject_css(\"https://cdn.pydata.org/bokeh/release/bokeh-widgets-0.12.14.min.css\");\n      console.log(\"Bokeh: injecting CSS: https://cdn.pydata.org/bokeh/release/bokeh-tables-0.12.14.min.css\");\n      Bokeh.embed.inject_css(\"https://cdn.pydata.org/bokeh/release/bokeh-tables-0.12.14.min.css\");\n    }\n  ];\n\n  function run_inline_js() {\n    \n    if ((root.Bokeh !== undefined) || (force === true)) {\n      for (var i = 0; i < inline_js.length; i++) {\n        inline_js[i].call(root, root.Bokeh);\n      }if (force === true) {\n        display_loaded();\n      }} else if (Date.now() < root._bokeh_timeout) {\n      setTimeout(run_inline_js, 100);\n    } else if (!root._bokeh_failed_load) {\n      console.log(\"Bokeh: BokehJS failed to load within specified timeout.\");\n      root._bokeh_failed_load = true;\n    } else if (force !== true) {\n      var cell = $(document.getElementById(\"c8192e31-ff7f-4ab1-883f-716815b01ece\")).parents('.cell').data().cell;\n      cell.output_area.append_execute_result(NB_LOAD_WARNING)\n    }\n\n  }\n\n  if (root._bokeh_is_loading === 0) {\n    console.log(\"Bokeh: BokehJS loaded, going straight to plotting\");\n    run_inline_js();\n  } else {\n    load_libs(js_urls, function() {\n      console.log(\"Bokeh: BokehJS plotting callback run at\", now());\n      run_inline_js();\n    });\n  }\n}(window));"
     },
     "metadata": {},
     "output_type": "display_data"
    }
   ],
   "source": [
    "import pandas as pd\n",
    "import bokeh.plotting as bp\n",
    "from bokeh.layouts import gridplot, layout, row\n",
    "import numpy as np\n",
    "import matplotlib.pyplot as plt\n",
    "bp.output_notebook()"
   ]
  },
  {
   "cell_type": "code",
   "execution_count": 5,
   "metadata": {
    "scrolled": true
   },
   "outputs": [
    {
     "data": {
      "text/plain": [
       "TimedeltaIndex(['00:00:00.000002', '00:01:00.000002', '00:02:00.000002',\n",
       "                '00:03:00.000002', '00:04:00.000002', '00:05:00.000002',\n",
       "                '00:06:00.000002', '00:07:00.000002', '00:08:00.000002',\n",
       "                '00:09:00.000002', '00:10:00.000002', '00:11:00.000002',\n",
       "                '00:12:00.000002', '00:13:00.000002', '00:14:00.000002',\n",
       "                '00:15:00.000002', '00:16:00.000002', '00:17:00.000002',\n",
       "                '00:18:00.000002', '00:19:00.000002', '00:20:00.000002',\n",
       "                '00:21:00.000002', '00:22:00.000002', '00:23:00.000002',\n",
       "                '00:24:00.000002', '00:25:00.000002', '00:26:00.000002',\n",
       "                '00:27:00.000002', '00:28:00.000002', '00:29:00.000002',\n",
       "                '00:30:00.000002', '00:31:00.000002', '00:32:00.000002',\n",
       "                '00:33:00.000002', '00:34:00.000002', '00:35:00.000002',\n",
       "                '00:36:00.000002', '00:37:00.000002', '00:38:00.000002',\n",
       "                '00:39:00.000002', '00:40:00.000002', '00:41:00.000002',\n",
       "                '00:42:00.000002', '00:43:00.000002', '00:44:00.000002',\n",
       "                '00:45:00.000002', '00:46:00.000002', '00:47:00.000002',\n",
       "                '00:48:00.000002', '00:49:00.000002', '00:50:00.000002',\n",
       "                '00:51:00.000002', '00:52:00.000002', '00:53:00.000002',\n",
       "                '00:54:00.000002', '00:55:00.000002', '00:56:00.000002',\n",
       "                '00:57:00.000002', '00:58:00.000002', '00:59:00.000002',\n",
       "                '01:00:00.000002', '01:01:00.000002', '01:02:00.000002',\n",
       "                '01:03:00.000002', '01:04:00.000002', '01:05:00.000002',\n",
       "                '01:06:00.000002', '01:07:00.000002', '01:08:00.000002',\n",
       "                '01:09:00.000002', '01:10:00.000002', '01:11:00.000002',\n",
       "                '01:12:00.000002', '01:13:00.000002', '01:14:00.000002',\n",
       "                '01:15:00.000002', '01:16:00.000002', '01:17:00.000002',\n",
       "                '01:18:00.000002', '01:19:00.000002', '01:20:00.000002',\n",
       "                '01:21:00.000002', '01:22:00.000002', '01:23:00.000002',\n",
       "                '01:24:00.000002', '01:25:00.000002', '01:26:00.000002',\n",
       "                '01:27:00.000002', '01:28:00.000002', '01:29:00.000002',\n",
       "                '01:30:00.000002', '01:31:00.000002', '01:32:00.000002',\n",
       "                '01:33:00.000002', '01:34:00.000002', '01:35:00.000002',\n",
       "                '01:36:00.000002', '01:37:00.000002', '01:38:00.000002',\n",
       "                '01:39:00.000002'],\n",
       "               dtype='timedelta64[ns]', freq='T')"
      ]
     },
     "execution_count": 5,
     "metadata": {},
     "output_type": "execute_result"
    }
   ],
   "source": [
    "date"
   ]
  },
  {
   "cell_type": "code",
   "execution_count": 6,
   "metadata": {},
   "outputs": [
    {
     "data": {
      "text/html": [
       "\n",
       "<div class=\"bk-root\">\n",
       "    <div class=\"bk-plotdiv\" id=\"5ceba0ae-e45d-4a6c-aa98-110094bffedc\"></div>\n",
       "</div>"
      ]
     },
     "metadata": {},
     "output_type": "display_data"
    },
    {
     "data": {
      "application/javascript": [
       "(function(root) {\n",
       "  function embed_document(root) {\n",
       "    \n",
       "  var docs_json = {\"031d3ec4-0e2f-432a-bf90-d9573edfeaa7\":{\"roots\":{\"references\":[{\"attributes\":{\"callback\":null},\"id\":\"5cbb7ed3-b355-4562-a35b-1f8db520dc2d\",\"type\":\"DataRange1d\"},{\"attributes\":{},\"id\":\"baddcac9-d171-4a52-a105-576ce9138f30\",\"type\":\"BasicTickFormatter\"},{\"attributes\":{\"active_drag\":\"auto\",\"active_inspect\":\"auto\",\"active_scroll\":\"auto\",\"active_tap\":\"auto\",\"tools\":[{\"id\":\"08df7f0f-7587-46a4-9e7c-5e17aec72de0\",\"type\":\"PanTool\"},{\"id\":\"e073f188-70da-4669-8414-8cb3365b88a4\",\"type\":\"WheelZoomTool\"},{\"id\":\"44ff56cf-1172-4f50-88f3-18c6a3dec3b8\",\"type\":\"BoxZoomTool\"},{\"id\":\"2ad3a8d3-ce47-4858-94ec-4c67efe80eff\",\"type\":\"BoxSelectTool\"},{\"id\":\"117b0c36-f02d-4ac9-a129-67074fb80229\",\"type\":\"LassoSelectTool\"},{\"id\":\"d1409ed4-f7d3-4afe-bca4-36c07b49b20b\",\"type\":\"ResetTool\"}]},\"id\":\"d7c8b549-537d-46a3-88b7-df857762f81e\",\"type\":\"Toolbar\"},{\"attributes\":{},\"id\":\"cf87d7fc-ef59-4b3d-95dd-36a35ad92601\",\"type\":\"DatetimeTickFormatter\"},{\"attributes\":{\"num_minor_ticks\":5,\"tickers\":[{\"id\":\"b31ca028-3190-4cb5-8cbd-6b45af0b8a25\",\"type\":\"AdaptiveTicker\"},{\"id\":\"6420c1db-01cb-412c-a75b-8e3efc72746e\",\"type\":\"AdaptiveTicker\"},{\"id\":\"9c90dd87-4cce-4cee-8d4d-97092f997298\",\"type\":\"AdaptiveTicker\"},{\"id\":\"c6e99d8f-8382-4b0d-874f-491e174afa9a\",\"type\":\"DaysTicker\"},{\"id\":\"6efee5df-bc2a-4711-bfbd-206b029abe45\",\"type\":\"DaysTicker\"},{\"id\":\"57c25f95-eb54-45c8-8b3c-d0b3aa408bd9\",\"type\":\"DaysTicker\"},{\"id\":\"64c81f2a-0da6-4b1a-8676-40377a020e53\",\"type\":\"DaysTicker\"},{\"id\":\"da296150-df18-48ec-bc5d-761e73396e44\",\"type\":\"MonthsTicker\"},{\"id\":\"e23f065a-49bc-4960-a71f-555a651e0f90\",\"type\":\"MonthsTicker\"},{\"id\":\"66dd2539-6163-4ddf-9817-ff4476999187\",\"type\":\"MonthsTicker\"},{\"id\":\"3152df76-c04b-4119-b1ca-7ecb4781a902\",\"type\":\"MonthsTicker\"},{\"id\":\"2ef3d6ce-bd87-4a8b-bc6b-211e6d2eb8b9\",\"type\":\"YearsTicker\"}]},\"id\":\"a030ca90-7163-4df0-86e5-c0afd449e9d7\",\"type\":\"DatetimeTicker\"},{\"attributes\":{\"mantissas\":[1,2,5],\"max_interval\":500.0,\"num_minor_ticks\":0},\"id\":\"0ede4942-fcfa-48e1-a8ae-979f6ed01080\",\"type\":\"AdaptiveTicker\"},{\"attributes\":{\"formatter\":{\"id\":\"0164da60-05de-40d9-899d-e8baabba4741\",\"type\":\"DatetimeTickFormatter\"},\"plot\":{\"id\":\"8ebf5c2f-1902-4b1d-b467-53b873d4ee78\",\"subtype\":\"Figure\",\"type\":\"Plot\"},\"ticker\":{\"id\":\"a030ca90-7163-4df0-86e5-c0afd449e9d7\",\"type\":\"DatetimeTicker\"}},\"id\":\"b8b65459-01c6-4b11-a0dd-44130ae6f07d\",\"type\":\"DatetimeAxis\"},{\"attributes\":{\"days\":[1,2,3,4,5,6,7,8,9,10,11,12,13,14,15,16,17,18,19,20,21,22,23,24,25,26,27,28,29,30,31]},\"id\":\"ab036190-4082-46a2-b125-e07d8a591bba\",\"type\":\"DaysTicker\"},{\"attributes\":{\"plot\":{\"id\":\"8ebf5c2f-1902-4b1d-b467-53b873d4ee78\",\"subtype\":\"Figure\",\"type\":\"Plot\"},\"ticker\":{\"id\":\"a030ca90-7163-4df0-86e5-c0afd449e9d7\",\"type\":\"DatetimeTicker\"}},\"id\":\"75fe7577-0eb7-4947-b769-ed1e47666279\",\"type\":\"Grid\"},{\"attributes\":{\"days\":[1,4,7,10,13,16,19,22,25,28]},\"id\":\"15bf1b9d-2022-4cd7-ac5c-06ee0bfb3d83\",\"type\":\"DaysTicker\"},{\"attributes\":{},\"id\":\"62e4e8ad-30b6-48c5-99b9-646a12178c7d\",\"type\":\"LinearScale\"},{\"attributes\":{\"tools\":[{\"id\":\"08df7f0f-7587-46a4-9e7c-5e17aec72de0\",\"type\":\"PanTool\"},{\"id\":\"e073f188-70da-4669-8414-8cb3365b88a4\",\"type\":\"WheelZoomTool\"},{\"id\":\"44ff56cf-1172-4f50-88f3-18c6a3dec3b8\",\"type\":\"BoxZoomTool\"},{\"id\":\"2ad3a8d3-ce47-4858-94ec-4c67efe80eff\",\"type\":\"BoxSelectTool\"},{\"id\":\"117b0c36-f02d-4ac9-a129-67074fb80229\",\"type\":\"LassoSelectTool\"},{\"id\":\"d1409ed4-f7d3-4afe-bca4-36c07b49b20b\",\"type\":\"ResetTool\"},{\"id\":\"e37e4882-a62a-41d0-83ab-5ab0523ba770\",\"type\":\"PanTool\"},{\"id\":\"c5916d12-da6f-4d8e-a59e-79ae725ed866\",\"type\":\"WheelZoomTool\"},{\"id\":\"946d23ed-45e5-4b16-a54b-265a6f910261\",\"type\":\"BoxZoomTool\"},{\"id\":\"55a87bd4-9de2-494c-9d8a-865e0fc7dcf1\",\"type\":\"BoxSelectTool\"},{\"id\":\"684363a0-c095-4175-bbce-b43c30a8afa0\",\"type\":\"LassoSelectTool\"},{\"id\":\"8627dce9-79fb-4b26-ae27-4e505f0fe050\",\"type\":\"ResetTool\"}]},\"id\":\"34bfbbd9-09c3-44f8-836d-980435a288db\",\"type\":\"ProxyToolbar\"},{\"attributes\":{\"callback\":null},\"id\":\"67b9d058-32df-4cbf-8649-ec51cba65250\",\"type\":\"DataRange1d\"},{\"attributes\":{},\"id\":\"7a7667b6-8e77-4727-a656-0090546ac4a1\",\"type\":\"LinearScale\"},{\"attributes\":{\"base\":60,\"mantissas\":[1,2,5,10,15,20,30],\"max_interval\":1800000.0,\"min_interval\":1000.0,\"num_minor_ticks\":0},\"id\":\"a0922ec8-53f2-4f6a-a5eb-062368ddde72\",\"type\":\"AdaptiveTicker\"},{\"attributes\":{\"fill_color\":{\"value\":\"red\"},\"line_color\":{\"value\":\"red\"},\"x\":{\"field\":\"x\"},\"y\":{\"field\":\"y\"}},\"id\":\"631c74a1-bab5-4754-bc97-9e9e23fe35ba\",\"type\":\"Triangle\"},{\"attributes\":{\"base\":24,\"mantissas\":[1,2,4,6,8,12],\"max_interval\":43200000.0,\"min_interval\":3600000.0,\"num_minor_ticks\":0},\"id\":\"1ce101f1-3821-449b-8baf-dd3b408d97d8\",\"type\":\"AdaptiveTicker\"},{\"attributes\":{},\"id\":\"fd0da146-dd2e-4312-b05a-58813a23f25f\",\"type\":\"BasicTicker\"},{\"attributes\":{\"days\":[1,8,15,22]},\"id\":\"a4e2f1f8-4b9b-4aa6-aaf9-aafd5feceed3\",\"type\":\"DaysTicker\"},{\"attributes\":{\"formatter\":{\"id\":\"7396392e-b69f-42ad-b351-a2e2b2aad23e\",\"type\":\"BasicTickFormatter\"},\"plot\":{\"id\":\"8ebf5c2f-1902-4b1d-b467-53b873d4ee78\",\"subtype\":\"Figure\",\"type\":\"Plot\"},\"ticker\":{\"id\":\"fd0da146-dd2e-4312-b05a-58813a23f25f\",\"type\":\"BasicTicker\"}},\"id\":\"7cabb2c2-3daa-41c8-bc7d-940b5d521dc0\",\"type\":\"LinearAxis\"},{\"attributes\":{\"days\":[1,15]},\"id\":\"e3cdb8eb-2017-48ca-93da-c74af9e24018\",\"type\":\"DaysTicker\"},{\"attributes\":{\"bottom_units\":\"screen\",\"fill_alpha\":{\"value\":0.5},\"fill_color\":{\"value\":\"lightgrey\"},\"left_units\":\"screen\",\"level\":\"overlay\",\"line_alpha\":{\"value\":1.0},\"line_color\":{\"value\":\"black\"},\"line_dash\":[4,4],\"line_width\":{\"value\":2},\"plot\":null,\"render_mode\":\"css\",\"right_units\":\"screen\",\"top_units\":\"screen\"},\"id\":\"17b542df-07d1-4bf2-bd87-36fb7a03b3bf\",\"type\":\"BoxAnnotation\"},{\"attributes\":{\"months\":[0,1,2,3,4,5,6,7,8,9,10,11]},\"id\":\"f7004e8d-1039-467f-8acc-2b5daebb9f9d\",\"type\":\"MonthsTicker\"},{\"attributes\":{\"data_source\":{\"id\":\"d9a50316-3ed9-4d4b-aad4-6b863dbd2171\",\"type\":\"ColumnDataSource\"},\"glyph\":{\"id\":\"e9e0ce82-ff61-473e-a0bd-77caf1876582\",\"type\":\"Triangle\"},\"hover_glyph\":null,\"muted_glyph\":null,\"nonselection_glyph\":{\"id\":\"3d74cf76-c7d7-4897-8219-1a75d02bc6cc\",\"type\":\"Triangle\"},\"selection_glyph\":null,\"view\":{\"id\":\"18dae77d-fec7-44bc-8be9-f7ab1b5e5649\",\"type\":\"CDSView\"}},\"id\":\"055eb238-05a1-4c25-89d9-378b0fa8cfd0\",\"type\":\"GlyphRenderer\"},{\"attributes\":{\"months\":[0,2,4,6,8,10]},\"id\":\"5e8c74cc-1a4b-4fac-843f-6d7e06ea9579\",\"type\":\"MonthsTicker\"},{\"attributes\":{},\"id\":\"d1409ed4-f7d3-4afe-bca4-36c07b49b20b\",\"type\":\"ResetTool\"},{\"attributes\":{\"months\":[0,4,8]},\"id\":\"6b24a504-00bc-4084-8983-77ebc7320484\",\"type\":\"MonthsTicker\"},{\"attributes\":{\"fill_alpha\":{\"value\":0.5},\"fill_color\":{\"value\":\"lightgrey\"},\"level\":\"overlay\",\"line_alpha\":{\"value\":1.0},\"line_color\":{\"value\":\"black\"},\"line_dash\":[4,4],\"line_width\":{\"value\":2},\"plot\":null,\"xs_units\":\"screen\",\"ys_units\":\"screen\"},\"id\":\"99cb26f1-40f5-4321-aadb-d2b0180e0eb5\",\"type\":\"PolyAnnotation\"},{\"attributes\":{\"months\":[0,6]},\"id\":\"a17cf0f0-7b1d-4c99-9977-55483bc2d280\",\"type\":\"MonthsTicker\"},{\"attributes\":{\"plot\":null,\"text\":\"Buys and sells\"},\"id\":\"b5177ff6-054d-4553-b8a9-fbfd03525fb6\",\"type\":\"Title\"},{\"attributes\":{},\"id\":\"242cbabf-e8dd-445b-a897-532e364a10f5\",\"type\":\"YearsTicker\"},{\"attributes\":{\"callback\":null,\"overlay\":{\"id\":\"99cb26f1-40f5-4321-aadb-d2b0180e0eb5\",\"type\":\"PolyAnnotation\"}},\"id\":\"117b0c36-f02d-4ac9-a129-67074fb80229\",\"type\":\"LassoSelectTool\"},{\"attributes\":{\"callback\":null,\"overlay\":{\"id\":\"17b542df-07d1-4bf2-bd87-36fb7a03b3bf\",\"type\":\"BoxAnnotation\"},\"renderers\":[{\"id\":\"055eb238-05a1-4c25-89d9-378b0fa8cfd0\",\"type\":\"GlyphRenderer\"}]},\"id\":\"2ad3a8d3-ce47-4858-94ec-4c67efe80eff\",\"type\":\"BoxSelectTool\"},{\"attributes\":{\"children\":[{\"id\":\"8ebf5c2f-1902-4b1d-b467-53b873d4ee78\",\"subtype\":\"Figure\",\"type\":\"Plot\"},{\"id\":\"4fcd2a7e-24cf-4d00-8e48-e478464e862e\",\"subtype\":\"Figure\",\"type\":\"Plot\"}]},\"id\":\"9065c430-a160-466e-9e51-4beebdfb364c\",\"type\":\"Row\"},{\"attributes\":{\"overlay\":{\"id\":\"f4703102-d22d-4f28-bcec-fb368fc8780c\",\"type\":\"BoxAnnotation\"}},\"id\":\"44ff56cf-1172-4f50-88f3-18c6a3dec3b8\",\"type\":\"BoxZoomTool\"},{\"attributes\":{},\"id\":\"e073f188-70da-4669-8414-8cb3365b88a4\",\"type\":\"WheelZoomTool\"},{\"attributes\":{\"toolbar\":{\"id\":\"34bfbbd9-09c3-44f8-836d-980435a288db\",\"type\":\"ProxyToolbar\"},\"toolbar_location\":\"above\"},\"id\":\"aefddf6c-19c6-4c94-b231-9a8bf6c24ddd\",\"type\":\"ToolbarBox\"},{\"attributes\":{\"fill_color\":{\"value\":\"green\"},\"line_color\":{\"value\":\"green\"},\"x\":{\"field\":\"x\"},\"y\":{\"field\":\"y\"}},\"id\":\"e9e0ce82-ff61-473e-a0bd-77caf1876582\",\"type\":\"Triangle\"},{\"attributes\":{},\"id\":\"08df7f0f-7587-46a4-9e7c-5e17aec72de0\",\"type\":\"PanTool\"},{\"attributes\":{\"bottom_units\":\"screen\",\"fill_alpha\":{\"value\":0.5},\"fill_color\":{\"value\":\"lightgrey\"},\"left_units\":\"screen\",\"level\":\"overlay\",\"line_alpha\":{\"value\":1.0},\"line_color\":{\"value\":\"black\"},\"line_dash\":[4,4],\"line_width\":{\"value\":2},\"plot\":null,\"render_mode\":\"css\",\"right_units\":\"screen\",\"top_units\":\"screen\"},\"id\":\"f4703102-d22d-4f28-bcec-fb368fc8780c\",\"type\":\"BoxAnnotation\"},{\"attributes\":{\"children\":[{\"id\":\"aefddf6c-19c6-4c94-b231-9a8bf6c24ddd\",\"type\":\"ToolbarBox\"},{\"id\":\"c6920f26-ee7f-4b6b-97c9-bd899f332614\",\"type\":\"Column\"}]},\"id\":\"59736435-61d4-4670-848e-10d42d3701a7\",\"type\":\"Column\"},{\"attributes\":{\"callback\":null,\"column_names\":[\"x\",\"y\"],\"data\":{\"x\":{\"__ndarray__\":\"/Knx0k1iYD/TTWIQAEztQOkmMQgATP1AdZMYBAD5BUF1kxgEAEwNQbpJDAKATxJBukkMAgD5FUG6SQwCgKIZQbpJDAIATB1B3SQGAcB6IEHdJAYBgE8iQd0kBgFAJCRB3SQGAQD5JUHdJAYBwM0nQd0kBgGAoilB3SQGAUB3K0HdJAYBAEwtQd0kBgHAIC9BbxKDAMB6MEFvEoMAIGUxQW8SgwCATzJBbxKDAOA5M0FvEoMAQCQ0QW8SgwCgDjVBbxKDAAD5NUFvEoMAYOM2QW8SgwDAzTdBbxKDACC4OEFvEoMAgKI5QW8SgwDgjDpBbxKDAEB3O0FvEoMAoGE8QW8SgwAATD1BbxKDAGA2PkFvEoMAwCA/QTeJQQCQBUBBN4lBAMB6QEE3iUEA8O9AQTeJQQAgZUFBN4lBAFDaQUE3iUEAgE9CQTeJQQCwxEJBN4lBAOA5Q0E3iUEAEK9DQTeJQQBAJERBN4lBAHCZREE3iUEAoA5FQTeJQQDQg0VBN4lBAAD5RUE3iUEAMG5GQTeJQQBg40ZBN4lBAJBYR0E3iUEAwM1HQTeJQQDwQkhBN4lBACC4SEE3iUEAUC1JQTeJQQCAoklBN4lBALAXSkE3iUEA4IxKQTeJQQAQAktBN4lBAEB3S0E3iUEAcOxLQTeJQQCgYUxBN4lBANDWTEE3iUEAAExNQTeJQQAwwU1BN4lBAGA2TkE3iUEAkKtOQTeJQQDAIE9BN4lBAPCVT0GcxCAAkAVQQZzEIAAoQFBBnMQgAMB6UEGcxCAAWLVQQZzEIADw71BBnMQgAIgqUUGcxCAAIGVRQZzEIAC4n1FBnMQgAFDaUUGcxCAA6BRSQZzEIACAT1JBnMQgABiKUkGcxCAAsMRSQZzEIABI/1JBnMQgAOA5U0GcxCAAeHRTQZzEIAAQr1NBnMQgAKjpU0GcxCAAQCRUQZzEIADYXlRBnMQgAHCZVEGcxCAACNRUQZzEIACgDlVBnMQgADhJVUGcxCAA0INVQZzEIABovlVBnMQgAAD5VUGcxCAAmDNWQZzEIAAwblZBnMQgAMioVkE=\",\"dtype\":\"float64\",\"shape\":[100]},\"y\":{\"__ndarray__\":\"SMtIBDpG1z9pE8vau2zvP6j79uhl3O8/MO/xvrUFwj+YRGfA8JvHPwAdkxYuxM0/eGhlaRWX3z9txFkbMqXpP/AgQ5kS9N4/6L+kVmg97z+8qu6RdKDKP+3bKX4Qzu8/iE75yDUIxT89rTKCEiruP7BFMMhnfus/cs3pllle2z+tADaacv7qP8WSRwmQNus/7ITc30x44j/SpiJTPEnXP/SGfNyjmN8/RvUHizBB2z8onrXLisjaP6w47c3sA8M/jAGIc/DPxj/AFKlu+FqUP1x7nApQZus//N+3t0h17j/AIUo2VeKhP9AoPw5bLKM/TcZXq+xz6D8MPRo0OnvuPwDGpYq6D78/4gUfLRWz3T+g7+NCtj2sP3CMG8Iwj9A/LJUR2fLx0T/2X7y1JN/hP5KHrYYgfeQ/gNaUxDCq2D8z0SFaucHrP66l3710dec/5hzMYxCC3D9oUNKOijfXP9pQEAGEs+k/mrvqQ70i2D/WRUs+a9XpP3BFDBFOMOE/QKySJY5iyz9fznyNJ6ntP1Rgisep6Nk/Loh+jdEY5D/oSuT9sIC+P7BQS3sI2Ow/jIO4HoT83T+UHd6b8dPAPwzZ2bUOtuo/3DFo4bLv3D8cjzxICXvGP1lkF0ROg+Y/lRHyBuZT4z+S9SWPMEjhPzJbojcL/tA/SXYAJ6wh5j8KFnQ2inXuP9zds2f1jc4/qEQH2fxAsD/QJ5diKkSoP7KGcUl3Ftw/7ARMGodC5j9cYv0Q4HXlP0xMMB/Xq8c/hoP8tYv02z+gq158B0/XP/gjF06axbY/jAEELIHIwD8T7GnUWPXhP4moWAfBaeQ/MAjTvfRJ6D8y/CP0hc7UP8y4qzITmMA/XEtk4WCg5D8Cdx970i3XP4CQ8SgT564/alA3HgqG7j9/TcK3D03kP8WoNZZBW+I/oJzCj8eBxz+kqQ5SZWLlP+AJ77mGWqg/JKEHnxfY7T/gsjb81O2qPyQqAqnJN9g/Uphn49hy6z9DS1SmfrziP5z4T3p5Zew/jB1UBcoH3j9JQ1z1V6jrP1QEP2HbAus/2YnwQKM/6T8=\",\"dtype\":\"float64\",\"shape\":[100]}}},\"id\":\"d9a50316-3ed9-4d4b-aad4-6b863dbd2171\",\"type\":\"ColumnDataSource\"},{\"attributes\":{\"below\":[{\"id\":\"0183d5e9-586b-4eb3-bf37-9f479517cf04\",\"type\":\"DatetimeAxis\"}],\"left\":[{\"id\":\"b2baf862-a67b-4caa-915b-b161ed297a97\",\"type\":\"LinearAxis\"}],\"plot_height\":250,\"plot_width\":450,\"renderers\":[{\"id\":\"0183d5e9-586b-4eb3-bf37-9f479517cf04\",\"type\":\"DatetimeAxis\"},{\"id\":\"c567fd9b-a300-4de2-9eab-b29b31536877\",\"type\":\"Grid\"},{\"id\":\"b2baf862-a67b-4caa-915b-b161ed297a97\",\"type\":\"LinearAxis\"},{\"id\":\"e1881731-d799-40a5-8099-55760d7e57d2\",\"type\":\"Grid\"},{\"id\":\"2059a265-aa27-4420-98af-cc51b5f95dad\",\"type\":\"BoxAnnotation\"},{\"id\":\"ce4d9339-000a-4965-8692-6de6bf0bee54\",\"type\":\"BoxAnnotation\"},{\"id\":\"cdfee0a9-6835-4b93-9b6c-ec6b22d66a31\",\"type\":\"PolyAnnotation\"},{\"id\":\"00f65e03-f4bd-4ff8-9a5d-1c536c730e74\",\"type\":\"GlyphRenderer\"}],\"title\":{\"id\":\"a5268054-c669-46b5-ab59-cba5c79dcab2\",\"type\":\"Title\"},\"toolbar\":{\"id\":\"d4cb757d-5af0-4bc5-8a2d-e811761e2ce6\",\"type\":\"Toolbar\"},\"toolbar_location\":null,\"x_range\":{\"id\":\"5cbb7ed3-b355-4562-a35b-1f8db520dc2d\",\"type\":\"DataRange1d\"},\"x_scale\":{\"id\":\"355609d5-f8c3-4ef2-a96c-257fc597018b\",\"type\":\"LinearScale\"},\"y_range\":{\"id\":\"67b9d058-32df-4cbf-8649-ec51cba65250\",\"type\":\"DataRange1d\"},\"y_scale\":{\"id\":\"15b1006c-5f5e-4e8a-9315-591dad64e6b8\",\"type\":\"LinearScale\"}},\"id\":\"4fcd2a7e-24cf-4d00-8e48-e478464e862e\",\"subtype\":\"Figure\",\"type\":\"Plot\"},{\"attributes\":{\"dimension\":1,\"plot\":{\"id\":\"8ebf5c2f-1902-4b1d-b467-53b873d4ee78\",\"subtype\":\"Figure\",\"type\":\"Plot\"},\"ticker\":{\"id\":\"fd0da146-dd2e-4312-b05a-58813a23f25f\",\"type\":\"BasicTicker\"}},\"id\":\"2e5c911b-e390-4a64-b042-18175bcd3752\",\"type\":\"Grid\"},{\"attributes\":{\"mantissas\":[1,2,5],\"max_interval\":500.0,\"num_minor_ticks\":0},\"id\":\"b31ca028-3190-4cb5-8cbd-6b45af0b8a25\",\"type\":\"AdaptiveTicker\"},{\"attributes\":{\"fill_alpha\":{\"value\":0.1},\"fill_color\":{\"value\":\"#1f77b4\"},\"line_alpha\":{\"value\":0.1},\"line_color\":{\"value\":\"#1f77b4\"},\"x\":{\"field\":\"x\"},\"y\":{\"field\":\"y\"}},\"id\":\"3d74cf76-c7d7-4897-8219-1a75d02bc6cc\",\"type\":\"Triangle\"},{\"attributes\":{},\"id\":\"355609d5-f8c3-4ef2-a96c-257fc597018b\",\"type\":\"LinearScale\"},{\"attributes\":{},\"id\":\"7396392e-b69f-42ad-b351-a2e2b2aad23e\",\"type\":\"BasicTickFormatter\"},{\"attributes\":{\"source\":{\"id\":\"d9a50316-3ed9-4d4b-aad4-6b863dbd2171\",\"type\":\"ColumnDataSource\"}},\"id\":\"18dae77d-fec7-44bc-8be9-f7ab1b5e5649\",\"type\":\"CDSView\"},{\"attributes\":{\"days\":[1,4,7,10,13,16,19,22,25,28]},\"id\":\"6efee5df-bc2a-4711-bfbd-206b029abe45\",\"type\":\"DaysTicker\"},{\"attributes\":{\"days\":[1,2,3,4,5,6,7,8,9,10,11,12,13,14,15,16,17,18,19,20,21,22,23,24,25,26,27,28,29,30,31]},\"id\":\"c6e99d8f-8382-4b0d-874f-491e174afa9a\",\"type\":\"DaysTicker\"},{\"attributes\":{\"base\":60,\"mantissas\":[1,2,5,10,15,20,30],\"max_interval\":1800000.0,\"min_interval\":1000.0,\"num_minor_ticks\":0},\"id\":\"6420c1db-01cb-412c-a75b-8e3efc72746e\",\"type\":\"AdaptiveTicker\"},{\"attributes\":{\"base\":24,\"mantissas\":[1,2,4,6,8,12],\"max_interval\":43200000.0,\"min_interval\":3600000.0,\"num_minor_ticks\":0},\"id\":\"9c90dd87-4cce-4cee-8d4d-97092f997298\",\"type\":\"AdaptiveTicker\"},{\"attributes\":{\"months\":[0,6]},\"id\":\"3152df76-c04b-4119-b1ca-7ecb4781a902\",\"type\":\"MonthsTicker\"},{\"attributes\":{\"months\":[0,4,8]},\"id\":\"66dd2539-6163-4ddf-9817-ff4476999187\",\"type\":\"MonthsTicker\"},{\"attributes\":{\"months\":[0,2,4,6,8,10]},\"id\":\"e23f065a-49bc-4960-a71f-555a651e0f90\",\"type\":\"MonthsTicker\"},{\"attributes\":{\"months\":[0,1,2,3,4,5,6,7,8,9,10,11]},\"id\":\"da296150-df18-48ec-bc5d-761e73396e44\",\"type\":\"MonthsTicker\"},{\"attributes\":{\"days\":[1,15]},\"id\":\"64c81f2a-0da6-4b1a-8676-40377a020e53\",\"type\":\"DaysTicker\"},{\"attributes\":{\"days\":[1,8,15,22]},\"id\":\"57c25f95-eb54-45c8-8b3c-d0b3aa408bd9\",\"type\":\"DaysTicker\"},{\"attributes\":{\"callback\":null,\"column_names\":[\"x\",\"y\"],\"data\":{\"x\":{\"__ndarray__\":\"/Knx0k1iYD/TTWIQAEztQOkmMQgATP1AdZMYBAD5BUF1kxgEAEwNQbpJDAKATxJBukkMAgD5FUG6SQwCgKIZQbpJDAIATB1B3SQGAcB6IEHdJAYBgE8iQd0kBgFAJCRB3SQGAQD5JUHdJAYBwM0nQd0kBgGAoilB3SQGAUB3K0HdJAYBAEwtQd0kBgHAIC9BbxKDAMB6MEFvEoMAIGUxQW8SgwCATzJBbxKDAOA5M0FvEoMAQCQ0QW8SgwCgDjVBbxKDAAD5NUFvEoMAYOM2QW8SgwDAzTdBbxKDACC4OEFvEoMAgKI5QW8SgwDgjDpBbxKDAEB3O0FvEoMAoGE8QW8SgwAATD1BbxKDAGA2PkFvEoMAwCA/QTeJQQCQBUBBN4lBAMB6QEE3iUEA8O9AQTeJQQAgZUFBN4lBAFDaQUE3iUEAgE9CQTeJQQCwxEJBN4lBAOA5Q0E3iUEAEK9DQTeJQQBAJERBN4lBAHCZREE3iUEAoA5FQTeJQQDQg0VBN4lBAAD5RUE3iUEAMG5GQTeJQQBg40ZBN4lBAJBYR0E3iUEAwM1HQTeJQQDwQkhBN4lBACC4SEE3iUEAUC1JQTeJQQCAoklBN4lBALAXSkE3iUEA4IxKQTeJQQAQAktBN4lBAEB3S0E3iUEAcOxLQTeJQQCgYUxBN4lBANDWTEE3iUEAAExNQTeJQQAwwU1BN4lBAGA2TkE3iUEAkKtOQTeJQQDAIE9BN4lBAPCVT0GcxCAAkAVQQZzEIAAoQFBBnMQgAMB6UEGcxCAAWLVQQZzEIADw71BBnMQgAIgqUUGcxCAAIGVRQZzEIAC4n1FBnMQgAFDaUUGcxCAA6BRSQZzEIACAT1JBnMQgABiKUkGcxCAAsMRSQZzEIABI/1JBnMQgAOA5U0GcxCAAeHRTQZzEIAAQr1NBnMQgAKjpU0GcxCAAQCRUQZzEIADYXlRBnMQgAHCZVEGcxCAACNRUQZzEIACgDlVBnMQgADhJVUGcxCAA0INVQZzEIABovlVBnMQgAAD5VUGcxCAAmDNWQZzEIAAwblZBnMQgAMioVkE=\",\"dtype\":\"float64\",\"shape\":[100]},\"y\":{\"__ndarray__\":\"S+sK57t94z9sH3COa23pP39LfV/rjuk/8PEeOwda4T+/vgeoS8XhPy2i5HSDO+I/RWkCAxC95D+6hzQIj7HnP74RymOcpOQ/XwbL5jhf6T/OTFjxO//hP/rBP4yeiuk/Fxl51dCT4T/4Mw8nnwzpPxtI24iFP+g/BBKj1vMa5D/OmXZhIhnoPwisyAL4Keg/esFbdn2K5T85zN5yL37jPz4UecdLveQ/McvaFJQW5D/sCig4ewTkP0BkCykYbeE/HgB31f614T//yDxU2jDgPwIlYjZLOOg/MsNQai8j6T9v/Wr/11XgP5GVdxsIXOA/5CFnM/pV5z+ERW7c9yTpP203ZpgwKuE/4kBeYHZ05D+x3w2ejofgP0SI6unge+I/+m+PoBex4j/KHFIDi1zlP9/bAMKJJeY/k4ZJ6iCz4z8pJQqbt1PoPxoYwwWjCec/ItGRqLVG5D9Dv9L7h3vjP6h+Hs3atec/V8/8ls+e4z+NLrCSBsDnP26ug2sXKOU/68w3qcoN4j+D1wtE8uXoP6bBVETm4uM/2ijZEHIH5j/Pwutv0yThPzSYlr41p+g/iODON3p/5D84QkqFGEPhPx3BJ9BqA+g/FKHPoSdX5D/vvTeyoK/hP7Q3OuH9wOY/RgWvm17M5T9FY4vEQS/lP+HAvq6BjOI/SfBMpbOj5j+cBlYQQyPpPz1K+pqlSuI/LaxWewmc4D8mbwxlenTgPzTUneSRNuQ/egFK7o6t5j9ParKeKXDmP1KfI+98xuE/7kZMW3sx5D+LZkHsDX/jP8B3ui+c2uA/txlN4zxC4T9sYLk/NGPlP/aYmui5H+Y/Qk+/BWNJ5z8ImTh++h7jP3ZHMwqbPuE/aONqEB0w5j+nHqvFEnrjP4KHxChVlOA/U8tDPDYo6T9zSrpQHhfmPztMQ+DGgeU/WWX7XVXD4T+x/52YUWrmP8nh4rnldOA/iuMbFgf06D8noLpkQoHgP7jsWdn3oeM/TEfS3Q086D8usH/L8p7lP2KXsaTXhOg/ojdmGiuB5D9iRzVjGkzoP7LnkgN1Gug/WilIYBeT5z8=\",\"dtype\":\"float64\",\"shape\":[100]}}},\"id\":\"dfe3223f-47a2-4a72-905a-91403ea4684c\",\"type\":\"ColumnDataSource\"},{\"attributes\":{},\"id\":\"2ef3d6ce-bd87-4a8b-bc6b-211e6d2eb8b9\",\"type\":\"YearsTicker\"},{\"attributes\":{\"active_drag\":\"auto\",\"active_inspect\":\"auto\",\"active_scroll\":\"auto\",\"active_tap\":\"auto\",\"tools\":[{\"id\":\"e37e4882-a62a-41d0-83ab-5ab0523ba770\",\"type\":\"PanTool\"},{\"id\":\"c5916d12-da6f-4d8e-a59e-79ae725ed866\",\"type\":\"WheelZoomTool\"},{\"id\":\"946d23ed-45e5-4b16-a54b-265a6f910261\",\"type\":\"BoxZoomTool\"},{\"id\":\"55a87bd4-9de2-494c-9d8a-865e0fc7dcf1\",\"type\":\"BoxSelectTool\"},{\"id\":\"684363a0-c095-4175-bbce-b43c30a8afa0\",\"type\":\"LassoSelectTool\"},{\"id\":\"8627dce9-79fb-4b26-ae27-4e505f0fe050\",\"type\":\"ResetTool\"}]},\"id\":\"d4cb757d-5af0-4bc5-8a2d-e811761e2ce6\",\"type\":\"Toolbar\"},{\"attributes\":{\"plot\":null,\"text\":\"Buys and sells\"},\"id\":\"a5268054-c669-46b5-ab59-cba5c79dcab2\",\"type\":\"Title\"},{\"attributes\":{\"below\":[{\"id\":\"b8b65459-01c6-4b11-a0dd-44130ae6f07d\",\"type\":\"DatetimeAxis\"}],\"left\":[{\"id\":\"7cabb2c2-3daa-41c8-bc7d-940b5d521dc0\",\"type\":\"LinearAxis\"}],\"plot_height\":250,\"plot_width\":450,\"renderers\":[{\"id\":\"b8b65459-01c6-4b11-a0dd-44130ae6f07d\",\"type\":\"DatetimeAxis\"},{\"id\":\"75fe7577-0eb7-4947-b769-ed1e47666279\",\"type\":\"Grid\"},{\"id\":\"7cabb2c2-3daa-41c8-bc7d-940b5d521dc0\",\"type\":\"LinearAxis\"},{\"id\":\"2e5c911b-e390-4a64-b042-18175bcd3752\",\"type\":\"Grid\"},{\"id\":\"f4703102-d22d-4f28-bcec-fb368fc8780c\",\"type\":\"BoxAnnotation\"},{\"id\":\"17b542df-07d1-4bf2-bd87-36fb7a03b3bf\",\"type\":\"BoxAnnotation\"},{\"id\":\"99cb26f1-40f5-4321-aadb-d2b0180e0eb5\",\"type\":\"PolyAnnotation\"},{\"id\":\"055eb238-05a1-4c25-89d9-378b0fa8cfd0\",\"type\":\"GlyphRenderer\"}],\"title\":{\"id\":\"b5177ff6-054d-4553-b8a9-fbfd03525fb6\",\"type\":\"Title\"},\"toolbar\":{\"id\":\"d7c8b549-537d-46a3-88b7-df857762f81e\",\"type\":\"Toolbar\"},\"toolbar_location\":null,\"x_range\":{\"id\":\"5cbb7ed3-b355-4562-a35b-1f8db520dc2d\",\"type\":\"DataRange1d\"},\"x_scale\":{\"id\":\"7a7667b6-8e77-4727-a656-0090546ac4a1\",\"type\":\"LinearScale\"},\"y_range\":{\"id\":\"67b9d058-32df-4cbf-8649-ec51cba65250\",\"type\":\"DataRange1d\"},\"y_scale\":{\"id\":\"62e4e8ad-30b6-48c5-99b9-646a12178c7d\",\"type\":\"LinearScale\"}},\"id\":\"8ebf5c2f-1902-4b1d-b467-53b873d4ee78\",\"subtype\":\"Figure\",\"type\":\"Plot\"},{\"attributes\":{\"num_minor_ticks\":5,\"tickers\":[{\"id\":\"0ede4942-fcfa-48e1-a8ae-979f6ed01080\",\"type\":\"AdaptiveTicker\"},{\"id\":\"a0922ec8-53f2-4f6a-a5eb-062368ddde72\",\"type\":\"AdaptiveTicker\"},{\"id\":\"1ce101f1-3821-449b-8baf-dd3b408d97d8\",\"type\":\"AdaptiveTicker\"},{\"id\":\"ab036190-4082-46a2-b125-e07d8a591bba\",\"type\":\"DaysTicker\"},{\"id\":\"15bf1b9d-2022-4cd7-ac5c-06ee0bfb3d83\",\"type\":\"DaysTicker\"},{\"id\":\"a4e2f1f8-4b9b-4aa6-aaf9-aafd5feceed3\",\"type\":\"DaysTicker\"},{\"id\":\"e3cdb8eb-2017-48ca-93da-c74af9e24018\",\"type\":\"DaysTicker\"},{\"id\":\"f7004e8d-1039-467f-8acc-2b5daebb9f9d\",\"type\":\"MonthsTicker\"},{\"id\":\"5e8c74cc-1a4b-4fac-843f-6d7e06ea9579\",\"type\":\"MonthsTicker\"},{\"id\":\"6b24a504-00bc-4084-8983-77ebc7320484\",\"type\":\"MonthsTicker\"},{\"id\":\"a17cf0f0-7b1d-4c99-9977-55483bc2d280\",\"type\":\"MonthsTicker\"},{\"id\":\"242cbabf-e8dd-445b-a897-532e364a10f5\",\"type\":\"YearsTicker\"}]},\"id\":\"6a6bf8bf-2b09-4e18-a1c9-3bb1a4556dcd\",\"type\":\"DatetimeTicker\"},{\"attributes\":{\"formatter\":{\"id\":\"cf87d7fc-ef59-4b3d-95dd-36a35ad92601\",\"type\":\"DatetimeTickFormatter\"},\"plot\":{\"id\":\"4fcd2a7e-24cf-4d00-8e48-e478464e862e\",\"subtype\":\"Figure\",\"type\":\"Plot\"},\"ticker\":{\"id\":\"6a6bf8bf-2b09-4e18-a1c9-3bb1a4556dcd\",\"type\":\"DatetimeTicker\"}},\"id\":\"0183d5e9-586b-4eb3-bf37-9f479517cf04\",\"type\":\"DatetimeAxis\"},{\"attributes\":{},\"id\":\"15b1006c-5f5e-4e8a-9315-591dad64e6b8\",\"type\":\"LinearScale\"},{\"attributes\":{\"plot\":{\"id\":\"4fcd2a7e-24cf-4d00-8e48-e478464e862e\",\"subtype\":\"Figure\",\"type\":\"Plot\"},\"ticker\":{\"id\":\"6a6bf8bf-2b09-4e18-a1c9-3bb1a4556dcd\",\"type\":\"DatetimeTicker\"}},\"id\":\"c567fd9b-a300-4de2-9eab-b29b31536877\",\"type\":\"Grid\"},{\"attributes\":{\"children\":[{\"id\":\"9065c430-a160-466e-9e51-4beebdfb364c\",\"type\":\"Row\"}]},\"id\":\"c6920f26-ee7f-4b6b-97c9-bd899f332614\",\"type\":\"Column\"},{\"attributes\":{\"dimension\":1,\"plot\":{\"id\":\"4fcd2a7e-24cf-4d00-8e48-e478464e862e\",\"subtype\":\"Figure\",\"type\":\"Plot\"},\"ticker\":{\"id\":\"05faea77-f0da-403d-a9ad-7c0f2bb4c8c6\",\"type\":\"BasicTicker\"}},\"id\":\"e1881731-d799-40a5-8099-55760d7e57d2\",\"type\":\"Grid\"},{\"attributes\":{},\"id\":\"05faea77-f0da-403d-a9ad-7c0f2bb4c8c6\",\"type\":\"BasicTicker\"},{\"attributes\":{\"formatter\":{\"id\":\"baddcac9-d171-4a52-a105-576ce9138f30\",\"type\":\"BasicTickFormatter\"},\"plot\":{\"id\":\"4fcd2a7e-24cf-4d00-8e48-e478464e862e\",\"subtype\":\"Figure\",\"type\":\"Plot\"},\"ticker\":{\"id\":\"05faea77-f0da-403d-a9ad-7c0f2bb4c8c6\",\"type\":\"BasicTicker\"}},\"id\":\"b2baf862-a67b-4caa-915b-b161ed297a97\",\"type\":\"LinearAxis\"},{\"attributes\":{\"source\":{\"id\":\"dfe3223f-47a2-4a72-905a-91403ea4684c\",\"type\":\"ColumnDataSource\"}},\"id\":\"0211b3d8-4bd9-460f-9ec2-630a1e3ffe8a\",\"type\":\"CDSView\"},{\"attributes\":{},\"id\":\"e37e4882-a62a-41d0-83ab-5ab0523ba770\",\"type\":\"PanTool\"},{\"attributes\":{\"bottom_units\":\"screen\",\"fill_alpha\":{\"value\":0.5},\"fill_color\":{\"value\":\"lightgrey\"},\"left_units\":\"screen\",\"level\":\"overlay\",\"line_alpha\":{\"value\":1.0},\"line_color\":{\"value\":\"black\"},\"line_dash\":[4,4],\"line_width\":{\"value\":2},\"plot\":null,\"render_mode\":\"css\",\"right_units\":\"screen\",\"top_units\":\"screen\"},\"id\":\"2059a265-aa27-4420-98af-cc51b5f95dad\",\"type\":\"BoxAnnotation\"},{\"attributes\":{},\"id\":\"c5916d12-da6f-4d8e-a59e-79ae725ed866\",\"type\":\"WheelZoomTool\"},{\"attributes\":{\"fill_alpha\":{\"value\":0.1},\"fill_color\":{\"value\":\"#1f77b4\"},\"line_alpha\":{\"value\":0.1},\"line_color\":{\"value\":\"#1f77b4\"},\"x\":{\"field\":\"x\"},\"y\":{\"field\":\"y\"}},\"id\":\"85c7d7d9-a540-467a-b9e8-d845401aa1a2\",\"type\":\"Triangle\"},{\"attributes\":{\"callback\":null,\"overlay\":{\"id\":\"cdfee0a9-6835-4b93-9b6c-ec6b22d66a31\",\"type\":\"PolyAnnotation\"}},\"id\":\"684363a0-c095-4175-bbce-b43c30a8afa0\",\"type\":\"LassoSelectTool\"},{\"attributes\":{\"callback\":null,\"overlay\":{\"id\":\"ce4d9339-000a-4965-8692-6de6bf0bee54\",\"type\":\"BoxAnnotation\"},\"renderers\":[{\"id\":\"00f65e03-f4bd-4ff8-9a5d-1c536c730e74\",\"type\":\"GlyphRenderer\"}]},\"id\":\"55a87bd4-9de2-494c-9d8a-865e0fc7dcf1\",\"type\":\"BoxSelectTool\"},{\"attributes\":{\"overlay\":{\"id\":\"2059a265-aa27-4420-98af-cc51b5f95dad\",\"type\":\"BoxAnnotation\"}},\"id\":\"946d23ed-45e5-4b16-a54b-265a6f910261\",\"type\":\"BoxZoomTool\"},{\"attributes\":{},\"id\":\"0164da60-05de-40d9-899d-e8baabba4741\",\"type\":\"DatetimeTickFormatter\"},{\"attributes\":{\"bottom_units\":\"screen\",\"fill_alpha\":{\"value\":0.5},\"fill_color\":{\"value\":\"lightgrey\"},\"left_units\":\"screen\",\"level\":\"overlay\",\"line_alpha\":{\"value\":1.0},\"line_color\":{\"value\":\"black\"},\"line_dash\":[4,4],\"line_width\":{\"value\":2},\"plot\":null,\"render_mode\":\"css\",\"right_units\":\"screen\",\"top_units\":\"screen\"},\"id\":\"ce4d9339-000a-4965-8692-6de6bf0bee54\",\"type\":\"BoxAnnotation\"},{\"attributes\":{\"data_source\":{\"id\":\"dfe3223f-47a2-4a72-905a-91403ea4684c\",\"type\":\"ColumnDataSource\"},\"glyph\":{\"id\":\"631c74a1-bab5-4754-bc97-9e9e23fe35ba\",\"type\":\"Triangle\"},\"hover_glyph\":null,\"muted_glyph\":null,\"nonselection_glyph\":{\"id\":\"85c7d7d9-a540-467a-b9e8-d845401aa1a2\",\"type\":\"Triangle\"},\"selection_glyph\":null,\"view\":{\"id\":\"0211b3d8-4bd9-460f-9ec2-630a1e3ffe8a\",\"type\":\"CDSView\"}},\"id\":\"00f65e03-f4bd-4ff8-9a5d-1c536c730e74\",\"type\":\"GlyphRenderer\"},{\"attributes\":{\"fill_alpha\":{\"value\":0.5},\"fill_color\":{\"value\":\"lightgrey\"},\"level\":\"overlay\",\"line_alpha\":{\"value\":1.0},\"line_color\":{\"value\":\"black\"},\"line_dash\":[4,4],\"line_width\":{\"value\":2},\"plot\":null,\"xs_units\":\"screen\",\"ys_units\":\"screen\"},\"id\":\"cdfee0a9-6835-4b93-9b6c-ec6b22d66a31\",\"type\":\"PolyAnnotation\"},{\"attributes\":{},\"id\":\"8627dce9-79fb-4b26-ae27-4e505f0fe050\",\"type\":\"ResetTool\"}],\"root_ids\":[\"59736435-61d4-4670-848e-10d42d3701a7\"]},\"title\":\"Bokeh Application\",\"version\":\"0.12.14\"}};\n",
       "  var render_items = [{\"docid\":\"031d3ec4-0e2f-432a-bf90-d9573edfeaa7\",\"elementid\":\"5ceba0ae-e45d-4a6c-aa98-110094bffedc\",\"modelid\":\"59736435-61d4-4670-848e-10d42d3701a7\"}];\n",
       "  root.Bokeh.embed.embed_items_notebook(docs_json, render_items);\n",
       "\n",
       "  }\n",
       "  if (root.Bokeh !== undefined) {\n",
       "    embed_document(root);\n",
       "  } else {\n",
       "    var attempts = 0;\n",
       "    var timer = setInterval(function(root) {\n",
       "      if (root.Bokeh !== undefined) {\n",
       "        embed_document(root);\n",
       "        clearInterval(timer);\n",
       "      }\n",
       "      attempts++;\n",
       "      if (attempts > 100) {\n",
       "        console.log(\"Bokeh: ERROR: Unable to run BokehJS code because BokehJS library is missing\")\n",
       "        clearInterval(timer);\n",
       "      }\n",
       "    }, 10, root)\n",
       "  }\n",
       "})(window);"
      ],
      "application/vnd.bokehjs_exec.v0+json": ""
     },
     "metadata": {
      "application/vnd.bokehjs_exec.v0+json": {
       "id": "59736435-61d4-4670-848e-10d42d3701a7"
      }
     },
     "output_type": "display_data"
    }
   ],
   "source": [
    "TOOLS=\"pan,wheel_zoom,box_zoom,box_select,lasso_select,reset\"\n",
    "y = np.random.random(100)\n",
    "x = np.arange(len(y))\n",
    "date = pd.timedelta_range('2017', periods=len(y), freq='T')\n",
    "p1 = bp.figure(width=450,height=250,title='Buys and sells',x_axis_type='datetime'\n",
    "               ,tools=TOOLS)\n",
    "p1.triangle(date,y, color='green')\n",
    "\n",
    "p2 = bp.figure(width=450, height=250, title='Buys and sells',x_axis_type='datetime'\n",
    "               ,tools=TOOLS, x_range=p1.x_range, y_range=p1.y_range)\n",
    "p2.triangle(date,y*.3+0.5, color='red')\n",
    "\n",
    "bp.show(gridplot([[p1,p2]]))"
   ]
  },
  {
   "cell_type": "code",
   "execution_count": 23,
   "metadata": {
    "collapsed": true
   },
   "outputs": [],
   "source": [
    "signal = np.random.random(30)\n",
    "predict = (np.random.random(30)<0.5)*1\n",
    "y = (np.random.random(30)<0.5)*1"
   ]
  },
  {
   "cell_type": "code",
   "execution_count": 34,
   "metadata": {},
   "outputs": [
    {
     "name": "stdout",
     "output_type": "stream",
     "text": [
      "[0 1 0 1 0 1 0 0 1 0 1 0 0 0 1 0 0 1 0 1 0 1 1 1 0 1 1 0 0 1]\n",
      "[1 0 0 0 0 0 0 1 0 1 0 0 1 1 1 1 1 1 0 0 1 1 0 1 0 1 0 0 0 1]\n"
     ]
    }
   ],
   "source": [
    "print(predict)\n",
    "print(y)"
   ]
  },
  {
   "cell_type": "code",
   "execution_count": 59,
   "metadata": {},
   "outputs": [],
   "source": [
    "buy_ok = ((predict==y) & (predict==1))*signal\n",
    "sell_ok = ((predict==y) & (predict==0))*signal\n",
    "\n",
    "buy_mal = ((predict!=y) & (predict==1))*signal\n",
    "sell_mal = ((predict!=y) & (predict==0))*signal\n",
    "\n",
    "buy_ok[buy_ok==0] = np.nan\n",
    "sell_ok[sell_ok==0] = np.nan\n",
    "\n",
    "buy_mal[buy_mal==0] = np.nan\n",
    "sell_mal[sell_mal==0] = np.nan"
   ]
  },
  {
   "cell_type": "code",
   "execution_count": 134,
   "metadata": {},
   "outputs": [
    {
     "data": {
      "text/html": [
       "\n",
       "<div class=\"bk-root\">\n",
       "    <div class=\"bk-plotdiv\" id=\"3d7e10e2-a8dd-46cf-a0d0-dbe4e5006059\"></div>\n",
       "</div>"
      ]
     },
     "metadata": {},
     "output_type": "display_data"
    },
    {
     "data": {
      "application/javascript": [
       "(function(root) {\n",
       "  function embed_document(root) {\n",
       "    \n",
       "  var docs_json = {\"8dd4126f-a329-4d33-a401-321e27f8810c\":{\"roots\":{\"references\":[{\"attributes\":{\"overlay\":{\"id\":\"aaa23535-7eac-4eb6-938b-4438b46af36e\",\"type\":\"BoxAnnotation\"}},\"id\":\"11001b8b-b131-4d72-b73c-e5678763627c\",\"type\":\"BoxZoomTool\"},{\"attributes\":{\"source\":{\"id\":\"d200d0ac-924e-4470-a69e-5af3e5ea2598\",\"type\":\"ColumnDataSource\"}},\"id\":\"662386ce-fedb-40fc-aa07-86d469be7772\",\"type\":\"CDSView\"},{\"attributes\":{\"plot\":{\"id\":\"b4307752-07e9-47dc-acd1-53d4fb4165b6\",\"subtype\":\"Figure\",\"type\":\"Plot\"},\"ticker\":{\"id\":\"83282e2e-fdc6-4479-a4de-9bf84595a673\",\"type\":\"BasicTicker\"}},\"id\":\"b100f055-fd40-496d-a2ab-f1565bd0d63a\",\"type\":\"Grid\"},{\"attributes\":{\"callback\":null,\"column_names\":[\"x\",\"y\"],\"data\":{\"x\":[0,1,2,3,4,5,6,7,8,9,10,11,12,13,14,15,16,17,18,19,20,21,22,23,24,25,26,27,28,29],\"y\":{\"__ndarray__\":\"9nPiJc+H4j8AAAAAAAD4fwAAAAAAAPh/AAAAAAAA+H8AAAAAAAD4fwAAAAAAAPh/AAAAAAAA+H997TuhVDjoPwAAAAAAAPh/pIe+gAj90z8AAAAAAAD4fwAAAAAAAPh/jQsEGzwZ5j+A8jAUjUeTPwAAAAAAAPh/2D+bj3U0yz80MlhheDTHPwAAAAAAAPh/AAAAAAAA+H8AAAAAAAD4f77etDpVVNw/AAAAAAAA+H8AAAAAAAD4fwAAAAAAAPh/AAAAAAAA+H8AAAAAAAD4fwAAAAAAAPh/AAAAAAAA+H8AAAAAAAD4fwAAAAAAAPh/\",\"dtype\":\"float64\",\"shape\":[30]}}},\"id\":\"d200d0ac-924e-4470-a69e-5af3e5ea2598\",\"type\":\"ColumnDataSource\"},{\"attributes\":{\"source\":{\"id\":\"a8d70587-865a-45a2-ac70-21e5131f3fd5\",\"type\":\"ColumnDataSource\"}},\"id\":\"2800069d-79a6-4857-ada9-2765c94fa78d\",\"type\":\"CDSView\"},{\"attributes\":{\"data_source\":{\"id\":\"d200d0ac-924e-4470-a69e-5af3e5ea2598\",\"type\":\"ColumnDataSource\"},\"glyph\":{\"id\":\"e0ce8803-aef2-4d76-bcce-df087316b9bc\",\"type\":\"Triangle\"},\"hover_glyph\":null,\"muted_glyph\":null,\"nonselection_glyph\":{\"id\":\"53c6034e-a264-4db8-b1ec-0c1da3f62fe3\",\"type\":\"Triangle\"},\"selection_glyph\":null,\"view\":{\"id\":\"662386ce-fedb-40fc-aa07-86d469be7772\",\"type\":\"CDSView\"}},\"id\":\"e58ac5f4-9d2a-4f74-a8d3-af594a3eb8c3\",\"type\":\"GlyphRenderer\"},{\"attributes\":{},\"id\":\"cd01604f-79e8-4f48-96a6-a49c21bd739f\",\"type\":\"SaveTool\"},{\"attributes\":{},\"id\":\"83282e2e-fdc6-4479-a4de-9bf84595a673\",\"type\":\"BasicTicker\"},{\"attributes\":{\"dimension\":1,\"plot\":{\"id\":\"b4307752-07e9-47dc-acd1-53d4fb4165b6\",\"subtype\":\"Figure\",\"type\":\"Plot\"},\"ticker\":{\"id\":\"7862be3e-6926-4192-b135-e20768ce69e3\",\"type\":\"BasicTicker\"}},\"id\":\"2f789237-e208-45c8-ae99-f190c0b59ba0\",\"type\":\"Grid\"},{\"attributes\":{\"angle\":{\"units\":\"rad\",\"value\":45},\"fill_color\":{\"value\":\"red\"},\"line_color\":{\"value\":\"red\"},\"x\":{\"field\":\"x\"},\"y\":{\"field\":\"y\"}},\"id\":\"e0ce8803-aef2-4d76-bcce-df087316b9bc\",\"type\":\"Triangle\"},{\"attributes\":{\"children\":[{\"id\":\"7ecef30d-f2b8-48cc-b75a-32759ece0d1a\",\"type\":\"ToolbarBox\"},{\"id\":\"70bdcc6c-8fad-43b2-94cb-1d84ec3d3e68\",\"type\":\"Column\"}]},\"id\":\"44b22d42-3c5a-4c6e-b434-19e6bcee74e9\",\"type\":\"Column\"},{\"attributes\":{},\"id\":\"5d6871cc-95ed-4235-b105-956082c4e56c\",\"type\":\"LinearScale\"},{\"attributes\":{\"fill_color\":{\"value\":\"green\"},\"line_color\":{\"value\":\"green\"},\"x\":{\"field\":\"x\"},\"y\":{\"field\":\"y\"}},\"id\":\"da5b2a4b-e881-4280-9e5c-32216a177bf4\",\"type\":\"Triangle\"},{\"attributes\":{\"fill_color\":{\"value\":\"green\"},\"line_color\":{\"value\":\"green\"},\"x\":{\"field\":\"x\"},\"y\":{\"field\":\"y\"}},\"id\":\"57434efa-0ee2-4ff2-af55-c0915a41010b\",\"type\":\"Triangle\"},{\"attributes\":{\"below\":[{\"id\":\"5b525533-6556-46a9-9264-4631cff07720\",\"type\":\"LinearAxis\"},{\"id\":\"8af4f33c-2001-4ec2-8408-6c8b57dfc83d\",\"type\":\"Legend\"}],\"left\":[{\"id\":\"2b0eaff2-0df1-4a7a-bc0a-3c36410f4b51\",\"type\":\"LinearAxis\"}],\"plot_height\":300,\"plot_width\":800,\"renderers\":[{\"id\":\"5b525533-6556-46a9-9264-4631cff07720\",\"type\":\"LinearAxis\"},{\"id\":\"18705df9-7d6a-4812-a946-8aae15f345f8\",\"type\":\"Grid\"},{\"id\":\"2b0eaff2-0df1-4a7a-bc0a-3c36410f4b51\",\"type\":\"LinearAxis\"},{\"id\":\"ad50bc80-74a2-464f-9fe6-9fc4eafeb19a\",\"type\":\"Grid\"},{\"id\":\"aaa23535-7eac-4eb6-938b-4438b46af36e\",\"type\":\"BoxAnnotation\"},{\"id\":\"73b33759-69f3-4b1d-a829-b18cc139dff3\",\"type\":\"GlyphRenderer\"},{\"id\":\"97b3fe91-e949-43bc-8a12-7924822387f5\",\"type\":\"GlyphRenderer\"},{\"id\":\"e58ac5f4-9d2a-4f74-a8d3-af594a3eb8c3\",\"type\":\"GlyphRenderer\"},{\"id\":\"8af4f33c-2001-4ec2-8408-6c8b57dfc83d\",\"type\":\"Legend\"}],\"title\":{\"id\":\"3ce0b59c-b7fd-4814-9716-7d89d574e509\",\"type\":\"Title\"},\"toolbar\":{\"id\":\"06bc68c8-00ad-4c47-a0ae-0689260cfb9e\",\"type\":\"Toolbar\"},\"toolbar_location\":null,\"x_range\":{\"id\":\"61dd5e74-fc8b-44e2-8b9c-b61320100551\",\"type\":\"DataRange1d\"},\"x_scale\":{\"id\":\"51ec3967-c653-42b9-ad03-33c535a0386e\",\"type\":\"LinearScale\"},\"y_range\":{\"id\":\"5519b1cd-e931-4720-a578-ff76ac5d0d5a\",\"type\":\"DataRange1d\"},\"y_scale\":{\"id\":\"f29c9c8b-474e-40c0-b70f-5595495e27c8\",\"type\":\"LinearScale\"}},\"id\":\"ca0aaf9e-d426-4dc4-b86f-92509c8c945d\",\"subtype\":\"Figure\",\"type\":\"Plot\"},{\"attributes\":{},\"id\":\"03eae843-1375-4ac2-aebf-691716f5940e\",\"type\":\"PanTool\"},{\"attributes\":{\"angle\":{\"units\":\"rad\",\"value\":45},\"fill_color\":{\"value\":\"green\"},\"line_color\":{\"value\":\"green\"},\"x\":{\"field\":\"x\"},\"y\":{\"field\":\"y\"}},\"id\":\"e7d92121-3a0e-47fd-9160-53ca48e309a6\",\"type\":\"Triangle\"},{\"attributes\":{\"active_drag\":\"auto\",\"active_inspect\":\"auto\",\"active_scroll\":\"auto\",\"active_tap\":\"auto\",\"tools\":[{\"id\":\"07214670-c500-40f6-804f-110afb0338ca\",\"type\":\"PanTool\"},{\"id\":\"07954f43-9ad9-4c8a-9c89-884c24e28b1f\",\"type\":\"WheelZoomTool\"},{\"id\":\"0824c374-ee84-4693-8ef3-4371a8f27768\",\"type\":\"BoxZoomTool\"},{\"id\":\"0fb99d56-0041-4020-a78f-26f90371a710\",\"type\":\"SaveTool\"},{\"id\":\"05ad6cfb-8a0b-43b0-9d0a-c7147b7a7d2d\",\"type\":\"ResetTool\"},{\"id\":\"5808e42c-b423-4b56-b61d-f27571629adc\",\"type\":\"HelpTool\"}]},\"id\":\"43427ec2-2149-4872-abd1-f35c6df1574f\",\"type\":\"Toolbar\"},{\"attributes\":{},\"id\":\"06ca3bec-e4cd-4f9c-9e86-98e0d63a564a\",\"type\":\"BasicTickFormatter\"},{\"attributes\":{\"plot\":null,\"text\":\"\"},\"id\":\"3ce0b59c-b7fd-4814-9716-7d89d574e509\",\"type\":\"Title\"},{\"attributes\":{\"plot\":{\"id\":\"ca0aaf9e-d426-4dc4-b86f-92509c8c945d\",\"subtype\":\"Figure\",\"type\":\"Plot\"},\"ticker\":{\"id\":\"8f1cd1d3-21e6-4bde-aec3-26d326412b6c\",\"type\":\"BasicTicker\"}},\"id\":\"18705df9-7d6a-4812-a946-8aae15f345f8\",\"type\":\"Grid\"},{\"attributes\":{\"callback\":null,\"column_names\":[\"x\",\"y\"],\"data\":{\"x\":[0,1,2,3,4,5,6,7,8,9,10,11,12,13,14,15,16,17,18,19,20,21,22,23,24,25,26,27,28,29],\"y\":{\"__ndarray__\":\"AAAAAAAA+H8AAAAAAAD4fwAAAAAAAPh/AAAAAAAA+H8AAAAAAAD4fwAAAAAAAPh/AAAAAAAA+H8AAAAAAAD4fwAAAAAAAPh/AAAAAAAA+H8AAAAAAAD4fwAAAAAAAPh/AAAAAAAA+H8AAAAAAAD4f4z6r1cxqNc/AAAAAAAA+H8AAAAAAAD4f7ESgaDLcOc/AAAAAAAA+H8AAAAAAAD4fwAAAAAAAPh/jJsHQXDU2D8AAAAAAAD4fwDoAIIBBOc/AAAAAAAA+H9WG58gpg/aPwAAAAAAAPh/AAAAAAAA+H8AAAAAAAD4f0WdwtiTWuM/\",\"dtype\":\"float64\",\"shape\":[30]}}},\"id\":\"a7f94ab9-6b1b-41a6-bd7e-485cde5ccfa4\",\"type\":\"ColumnDataSource\"},{\"attributes\":{\"items\":[{\"id\":\"d103d13e-9669-4ab4-b657-5fcfe8c7d865\",\"type\":\"LegendItem\"},{\"id\":\"34316db5-27db-4d12-b3b7-bcf2ce614301\",\"type\":\"LegendItem\"},{\"id\":\"117b1bb8-4c83-4394-9637-50577c3cf666\",\"type\":\"LegendItem\"}],\"location\":[0,0],\"plot\":{\"id\":\"ca0aaf9e-d426-4dc4-b86f-92509c8c945d\",\"subtype\":\"Figure\",\"type\":\"Plot\"}},\"id\":\"8af4f33c-2001-4ec2-8408-6c8b57dfc83d\",\"type\":\"Legend\"},{\"attributes\":{\"data_source\":{\"id\":\"a8d70587-865a-45a2-ac70-21e5131f3fd5\",\"type\":\"ColumnDataSource\"},\"glyph\":{\"id\":\"e7d92121-3a0e-47fd-9160-53ca48e309a6\",\"type\":\"Triangle\"},\"hover_glyph\":null,\"muted_glyph\":null,\"nonselection_glyph\":{\"id\":\"13fa1e8f-bb0e-4c01-b1c5-17b3534628aa\",\"type\":\"Triangle\"},\"selection_glyph\":null,\"view\":{\"id\":\"2800069d-79a6-4857-ada9-2765c94fa78d\",\"type\":\"CDSView\"}},\"id\":\"83575ad6-b569-4f98-95c4-c9efdb4063dc\",\"type\":\"GlyphRenderer\"},{\"attributes\":{\"data_source\":{\"id\":\"a7f94ab9-6b1b-41a6-bd7e-485cde5ccfa4\",\"type\":\"ColumnDataSource\"},\"glyph\":{\"id\":\"57434efa-0ee2-4ff2-af55-c0915a41010b\",\"type\":\"Triangle\"},\"hover_glyph\":null,\"muted_glyph\":null,\"nonselection_glyph\":{\"id\":\"222d81eb-0ba8-4072-a965-549b7990d1bb\",\"type\":\"Triangle\"},\"selection_glyph\":null,\"view\":{\"id\":\"337a63df-2e87-4843-9c8c-6dbe3ca7704b\",\"type\":\"CDSView\"}},\"id\":\"187c8620-a85d-4ec5-8633-f3d1c8d7f09f\",\"type\":\"GlyphRenderer\"},{\"attributes\":{\"callback\":null,\"column_names\":[\"x\",\"y\"],\"data\":{\"x\":[0,1,2,3,4,5,6,7,8,9,10,11,12,13,14,15,16,17,18,19,20,21,22,23,24,25,26,27,28,29],\"y\":{\"__ndarray__\":\"AAAAAAAA+H9YgH3R7KbFPwAAAAAAAPh/TjjFRpJL2z8AAAAAAAD4fx2qdMV6deI/AAAAAAAA+H8AAAAAAAD4f5i51KIQwO4/AAAAAAAA+H9hVnzwabnrPwAAAAAAAPh/AAAAAAAA+H8AAAAAAAD4fwAAAAAAAPh/AAAAAAAA+H8AAAAAAAD4fwAAAAAAAPh/AAAAAAAA+H/TZySFQW7pPwAAAAAAAPh/AAAAAAAA+H8MIFYwrhnJPwAAAAAAAPh/AAAAAAAA+H8AAAAAAAD4f0C7ie2VqN4/AAAAAAAA+H8AAAAAAAD4fwAAAAAAAPh/\",\"dtype\":\"float64\",\"shape\":[30]}}},\"id\":\"4731310f-84b1-4306-8ab9-caea059a243d\",\"type\":\"ColumnDataSource\"},{\"attributes\":{\"fill_alpha\":{\"value\":0.1},\"fill_color\":{\"value\":\"#1f77b4\"},\"line_alpha\":{\"value\":0.1},\"line_color\":{\"value\":\"#1f77b4\"},\"x\":{\"field\":\"x\"},\"y\":{\"field\":\"y\"}},\"id\":\"222d81eb-0ba8-4072-a965-549b7990d1bb\",\"type\":\"Triangle\"},{\"attributes\":{\"callback\":null,\"column_names\":[\"x\",\"y\"],\"data\":{\"x\":[0,1,2,3,4,5,6,7,8,9,10,11,12,13,14,15,16,17,18,19,20,21,22,23,24,25,26,27,28,29],\"y\":{\"__ndarray__\":\"AAAAAAAA+H8AAAAAAAD4fwAAAAAAAPh/AAAAAAAA+H8AAAAAAAD4fwAAAAAAAPh/AAAAAAAA+H8AAAAAAAD4fwAAAAAAAPh/AAAAAAAA+H8AAAAAAAD4fwAAAAAAAPh/AAAAAAAA+H8AAAAAAAD4f4z6r1cxqNc/AAAAAAAA+H8AAAAAAAD4f7ESgaDLcOc/AAAAAAAA+H8AAAAAAAD4fwAAAAAAAPh/jJsHQXDU2D8AAAAAAAD4fwDoAIIBBOc/AAAAAAAA+H9WG58gpg/aPwAAAAAAAPh/AAAAAAAA+H8AAAAAAAD4f0WdwtiTWuM/\",\"dtype\":\"float64\",\"shape\":[30]}}},\"id\":\"6669fabd-2efa-4668-9fb9-a914fb7e08c6\",\"type\":\"ColumnDataSource\"},{\"attributes\":{},\"id\":\"fbcf3853-5932-4fec-90ee-5df608153104\",\"type\":\"ResetTool\"},{\"attributes\":{\"angle\":{\"units\":\"rad\",\"value\":45},\"fill_alpha\":{\"value\":0.1},\"fill_color\":{\"value\":\"#1f77b4\"},\"line_alpha\":{\"value\":0.1},\"line_color\":{\"value\":\"#1f77b4\"},\"x\":{\"field\":\"x\"},\"y\":{\"field\":\"y\"}},\"id\":\"53c6034e-a264-4db8-b1ec-0c1da3f62fe3\",\"type\":\"Triangle\"},{\"attributes\":{\"source\":{\"id\":\"4731310f-84b1-4306-8ab9-caea059a243d\",\"type\":\"ColumnDataSource\"}},\"id\":\"9cff6637-2014-4a31-a4b9-b2d3c89251a3\",\"type\":\"CDSView\"},{\"attributes\":{},\"id\":\"7862be3e-6926-4192-b135-e20768ce69e3\",\"type\":\"BasicTicker\"},{\"attributes\":{\"dimension\":1,\"plot\":{\"id\":\"ca0aaf9e-d426-4dc4-b86f-92509c8c945d\",\"subtype\":\"Figure\",\"type\":\"Plot\"},\"ticker\":{\"id\":\"46d8ca66-90a5-4793-bdbf-93060aee2834\",\"type\":\"BasicTicker\"}},\"id\":\"ad50bc80-74a2-464f-9fe6-9fc4eafeb19a\",\"type\":\"Grid\"},{\"attributes\":{},\"id\":\"ba2061d3-c775-4f46-838a-4c1e351b30c4\",\"type\":\"LinearScale\"},{\"attributes\":{\"fill_color\":{\"value\":\"red\"},\"line_color\":{\"value\":\"red\"},\"x\":{\"field\":\"x\"},\"y\":{\"field\":\"y\"}},\"id\":\"415ef6e3-021e-4cc1-8bb6-087316db4ee3\",\"type\":\"Triangle\"},{\"attributes\":{\"fill_alpha\":{\"value\":0.1},\"fill_color\":{\"value\":\"#1f77b4\"},\"line_alpha\":{\"value\":0.1},\"line_color\":{\"value\":\"#1f77b4\"},\"x\":{\"field\":\"x\"},\"y\":{\"field\":\"y\"}},\"id\":\"6ac8494d-6163-4fa2-aac1-f5c6ff8b4b66\",\"type\":\"Triangle\"},{\"attributes\":{\"callback\":null},\"id\":\"d7a86c0b-baf6-4bb5-ae4a-fc32703a4a83\",\"type\":\"DataRange1d\"},{\"attributes\":{},\"id\":\"6298cfb4-bd30-417d-8d48-f3ff137ecc3a\",\"type\":\"BasicTickFormatter\"},{\"attributes\":{\"children\":[{\"id\":\"cda0332f-74a1-46ad-993d-08424b9e834b\",\"type\":\"Row\"},{\"id\":\"9534873f-b05d-4ab7-899c-91895352399b\",\"type\":\"Row\"}]},\"id\":\"70bdcc6c-8fad-43b2-94cb-1d84ec3d3e68\",\"type\":\"Column\"},{\"attributes\":{},\"id\":\"8f1cd1d3-21e6-4bde-aec3-26d326412b6c\",\"type\":\"BasicTicker\"},{\"attributes\":{},\"id\":\"f29c9c8b-474e-40c0-b70f-5595495e27c8\",\"type\":\"LinearScale\"},{\"attributes\":{\"fill_alpha\":{\"value\":0.1},\"fill_color\":{\"value\":\"#1f77b4\"},\"line_alpha\":{\"value\":0.1},\"line_color\":{\"value\":\"#1f77b4\"},\"x\":{\"field\":\"x\"},\"y\":{\"field\":\"y\"}},\"id\":\"c5ee2ca8-0578-490a-9d6f-0fb49ae7484f\",\"type\":\"Triangle\"},{\"attributes\":{},\"id\":\"80ce3069-02d6-482a-9a6f-6816abfcc6fa\",\"type\":\"HelpTool\"},{\"attributes\":{\"tools\":[{\"id\":\"03eae843-1375-4ac2-aebf-691716f5940e\",\"type\":\"PanTool\"},{\"id\":\"258510d0-629c-4976-9480-1cdf45002436\",\"type\":\"WheelZoomTool\"},{\"id\":\"11001b8b-b131-4d72-b73c-e5678763627c\",\"type\":\"BoxZoomTool\"},{\"id\":\"cd01604f-79e8-4f48-96a6-a49c21bd739f\",\"type\":\"SaveTool\"},{\"id\":\"fbcf3853-5932-4fec-90ee-5df608153104\",\"type\":\"ResetTool\"},{\"id\":\"80ce3069-02d6-482a-9a6f-6816abfcc6fa\",\"type\":\"HelpTool\"},{\"id\":\"07214670-c500-40f6-804f-110afb0338ca\",\"type\":\"PanTool\"},{\"id\":\"07954f43-9ad9-4c8a-9c89-884c24e28b1f\",\"type\":\"WheelZoomTool\"},{\"id\":\"0824c374-ee84-4693-8ef3-4371a8f27768\",\"type\":\"BoxZoomTool\"},{\"id\":\"0fb99d56-0041-4020-a78f-26f90371a710\",\"type\":\"SaveTool\"},{\"id\":\"05ad6cfb-8a0b-43b0-9d0a-c7147b7a7d2d\",\"type\":\"ResetTool\"},{\"id\":\"5808e42c-b423-4b56-b61d-f27571629adc\",\"type\":\"HelpTool\"}]},\"id\":\"6b7ca8eb-dc49-40a5-a081-e4a17e53fd9c\",\"type\":\"ProxyToolbar\"},{\"attributes\":{\"formatter\":{\"id\":\"9253faa8-395d-411d-b85f-c603e2605394\",\"type\":\"BasicTickFormatter\"},\"plot\":{\"id\":\"b4307752-07e9-47dc-acd1-53d4fb4165b6\",\"subtype\":\"Figure\",\"type\":\"Plot\"},\"ticker\":{\"id\":\"83282e2e-fdc6-4479-a4de-9bf84595a673\",\"type\":\"BasicTicker\"}},\"id\":\"003b8393-18b6-465a-aa66-1e42b6e8f483\",\"type\":\"LinearAxis\"},{\"attributes\":{\"callback\":null},\"id\":\"61dd5e74-fc8b-44e2-8b9c-b61320100551\",\"type\":\"DataRange1d\"},{\"attributes\":{\"active_drag\":\"auto\",\"active_inspect\":\"auto\",\"active_scroll\":\"auto\",\"active_tap\":\"auto\",\"tools\":[{\"id\":\"03eae843-1375-4ac2-aebf-691716f5940e\",\"type\":\"PanTool\"},{\"id\":\"258510d0-629c-4976-9480-1cdf45002436\",\"type\":\"WheelZoomTool\"},{\"id\":\"11001b8b-b131-4d72-b73c-e5678763627c\",\"type\":\"BoxZoomTool\"},{\"id\":\"cd01604f-79e8-4f48-96a6-a49c21bd739f\",\"type\":\"SaveTool\"},{\"id\":\"fbcf3853-5932-4fec-90ee-5df608153104\",\"type\":\"ResetTool\"},{\"id\":\"80ce3069-02d6-482a-9a6f-6816abfcc6fa\",\"type\":\"HelpTool\"}]},\"id\":\"06bc68c8-00ad-4c47-a0ae-0689260cfb9e\",\"type\":\"Toolbar\"},{\"attributes\":{\"angle\":{\"units\":\"rad\",\"value\":45},\"fill_alpha\":{\"value\":0.1},\"fill_color\":{\"value\":\"#1f77b4\"},\"line_alpha\":{\"value\":0.1},\"line_color\":{\"value\":\"#1f77b4\"},\"x\":{\"field\":\"x\"},\"y\":{\"field\":\"y\"}},\"id\":\"13fa1e8f-bb0e-4c01-b1c5-17b3534628aa\",\"type\":\"Triangle\"},{\"attributes\":{\"data_source\":{\"id\":\"6669fabd-2efa-4668-9fb9-a914fb7e08c6\",\"type\":\"ColumnDataSource\"},\"glyph\":{\"id\":\"da5b2a4b-e881-4280-9e5c-32216a177bf4\",\"type\":\"Triangle\"},\"hover_glyph\":null,\"muted_glyph\":null,\"nonselection_glyph\":{\"id\":\"c5ee2ca8-0578-490a-9d6f-0fb49ae7484f\",\"type\":\"Triangle\"},\"selection_glyph\":null,\"view\":{\"id\":\"79107938-2282-4123-a347-fba1abfb3fb6\",\"type\":\"CDSView\"}},\"id\":\"73b33759-69f3-4b1d-a829-b18cc139dff3\",\"type\":\"GlyphRenderer\"},{\"attributes\":{\"source\":{\"id\":\"6669fabd-2efa-4668-9fb9-a914fb7e08c6\",\"type\":\"ColumnDataSource\"}},\"id\":\"79107938-2282-4123-a347-fba1abfb3fb6\",\"type\":\"CDSView\"},{\"attributes\":{\"formatter\":{\"id\":\"06ca3bec-e4cd-4f9c-9e86-98e0d63a564a\",\"type\":\"BasicTickFormatter\"},\"plot\":{\"id\":\"ca0aaf9e-d426-4dc4-b86f-92509c8c945d\",\"subtype\":\"Figure\",\"type\":\"Plot\"},\"ticker\":{\"id\":\"46d8ca66-90a5-4793-bdbf-93060aee2834\",\"type\":\"BasicTicker\"}},\"id\":\"2b0eaff2-0df1-4a7a-bc0a-3c36410f4b51\",\"type\":\"LinearAxis\"},{\"attributes\":{},\"id\":\"05ad6cfb-8a0b-43b0-9d0a-c7147b7a7d2d\",\"type\":\"ResetTool\"},{\"attributes\":{},\"id\":\"51ec3967-c653-42b9-ad03-33c535a0386e\",\"type\":\"LinearScale\"},{\"attributes\":{\"formatter\":{\"id\":\"238f48d4-2898-4f05-b4d3-30448c7f0e9c\",\"type\":\"BasicTickFormatter\"},\"plot\":{\"id\":\"b4307752-07e9-47dc-acd1-53d4fb4165b6\",\"subtype\":\"Figure\",\"type\":\"Plot\"},\"ticker\":{\"id\":\"7862be3e-6926-4192-b135-e20768ce69e3\",\"type\":\"BasicTicker\"}},\"id\":\"9b7c4615-c3f2-4101-abf7-46ce3782b0c4\",\"type\":\"LinearAxis\"},{\"attributes\":{},\"id\":\"07954f43-9ad9-4c8a-9c89-884c24e28b1f\",\"type\":\"WheelZoomTool\"},{\"attributes\":{\"below\":[{\"id\":\"003b8393-18b6-465a-aa66-1e42b6e8f483\",\"type\":\"LinearAxis\"}],\"left\":[{\"id\":\"9b7c4615-c3f2-4101-abf7-46ce3782b0c4\",\"type\":\"LinearAxis\"}],\"plot_height\":300,\"plot_width\":800,\"renderers\":[{\"id\":\"003b8393-18b6-465a-aa66-1e42b6e8f483\",\"type\":\"LinearAxis\"},{\"id\":\"b100f055-fd40-496d-a2ab-f1565bd0d63a\",\"type\":\"Grid\"},{\"id\":\"9b7c4615-c3f2-4101-abf7-46ce3782b0c4\",\"type\":\"LinearAxis\"},{\"id\":\"2f789237-e208-45c8-ae99-f190c0b59ba0\",\"type\":\"Grid\"},{\"id\":\"9c5bbf74-6cc4-4f8c-b933-61148d9c0cd2\",\"type\":\"BoxAnnotation\"},{\"id\":\"187c8620-a85d-4ec5-8633-f3d1c8d7f09f\",\"type\":\"GlyphRenderer\"}],\"title\":{\"id\":\"6583655a-63a4-41b5-9a9e-b0d0d0fc8e98\",\"type\":\"Title\"},\"toolbar\":{\"id\":\"43427ec2-2149-4872-abd1-f35c6df1574f\",\"type\":\"Toolbar\"},\"toolbar_location\":null,\"x_range\":{\"id\":\"8b8608a1-e5d2-4e77-afe9-bca952f4a9ae\",\"type\":\"DataRange1d\"},\"x_scale\":{\"id\":\"5d6871cc-95ed-4235-b105-956082c4e56c\",\"type\":\"LinearScale\"},\"y_range\":{\"id\":\"d7a86c0b-baf6-4bb5-ae4a-fc32703a4a83\",\"type\":\"DataRange1d\"},\"y_scale\":{\"id\":\"ba2061d3-c775-4f46-838a-4c1e351b30c4\",\"type\":\"LinearScale\"}},\"id\":\"b4307752-07e9-47dc-acd1-53d4fb4165b6\",\"subtype\":\"Figure\",\"type\":\"Plot\"},{\"attributes\":{\"callback\":null},\"id\":\"8b8608a1-e5d2-4e77-afe9-bca952f4a9ae\",\"type\":\"DataRange1d\"},{\"attributes\":{},\"id\":\"258510d0-629c-4976-9480-1cdf45002436\",\"type\":\"WheelZoomTool\"},{\"attributes\":{\"callback\":null,\"column_names\":[\"x\",\"y\"],\"data\":{\"x\":[0,1,2,3,4,5,6,7,8,9,10,11,12,13,14,15,16,17,18,19,20,21,22,23,24,25,26,27,28,29],\"y\":{\"__ndarray__\":\"AAAAAAAA+H8AAAAAAAD4f4I5pEaGyuo/AAAAAAAA+H9kGS0mI/DUPwAAAAAAAPh/pMpfZgxp7j8AAAAAAAD4fwAAAAAAAPh/AAAAAAAA+H8AAAAAAAD4fybZ0aPAL9E/AAAAAAAA+H8AAAAAAAD4fwAAAAAAAPh/AAAAAAAA+H8AAAAAAAD4fwAAAAAAAPh/Z+xwwoyo4D8AAAAAAAD4fwAAAAAAAPh/AAAAAAAA+H8AAAAAAAD4fwAAAAAAAPh/AsYNWS6M2z8AAAAAAAD4fwAAAAAAAPh/WCYEh++X3T+Fj47kPb7uPwAAAAAAAPh/\",\"dtype\":\"float64\",\"shape\":[30]}}},\"id\":\"a8d70587-865a-45a2-ac70-21e5131f3fd5\",\"type\":\"ColumnDataSource\"},{\"attributes\":{\"overlay\":{\"id\":\"9c5bbf74-6cc4-4f8c-b933-61148d9c0cd2\",\"type\":\"BoxAnnotation\"}},\"id\":\"0824c374-ee84-4693-8ef3-4371a8f27768\",\"type\":\"BoxZoomTool\"},{\"attributes\":{\"bottom_units\":\"screen\",\"fill_alpha\":{\"value\":0.5},\"fill_color\":{\"value\":\"lightgrey\"},\"left_units\":\"screen\",\"level\":\"overlay\",\"line_alpha\":{\"value\":1.0},\"line_color\":{\"value\":\"black\"},\"line_dash\":[4,4],\"line_width\":{\"value\":2},\"plot\":null,\"render_mode\":\"css\",\"right_units\":\"screen\",\"top_units\":\"screen\"},\"id\":\"9c5bbf74-6cc4-4f8c-b933-61148d9c0cd2\",\"type\":\"BoxAnnotation\"},{\"attributes\":{\"formatter\":{\"id\":\"6298cfb4-bd30-417d-8d48-f3ff137ecc3a\",\"type\":\"BasicTickFormatter\"},\"plot\":{\"id\":\"ca0aaf9e-d426-4dc4-b86f-92509c8c945d\",\"subtype\":\"Figure\",\"type\":\"Plot\"},\"ticker\":{\"id\":\"8f1cd1d3-21e6-4bde-aec3-26d326412b6c\",\"type\":\"BasicTicker\"}},\"id\":\"5b525533-6556-46a9-9264-4631cff07720\",\"type\":\"LinearAxis\"},{\"attributes\":{\"source\":{\"id\":\"a7f94ab9-6b1b-41a6-bd7e-485cde5ccfa4\",\"type\":\"ColumnDataSource\"}},\"id\":\"337a63df-2e87-4843-9c8c-6dbe3ca7704b\",\"type\":\"CDSView\"},{\"attributes\":{},\"id\":\"46d8ca66-90a5-4793-bdbf-93060aee2834\",\"type\":\"BasicTicker\"},{\"attributes\":{},\"id\":\"9253faa8-395d-411d-b85f-c603e2605394\",\"type\":\"BasicTickFormatter\"},{\"attributes\":{\"toolbar\":{\"id\":\"6b7ca8eb-dc49-40a5-a081-e4a17e53fd9c\",\"type\":\"ProxyToolbar\"},\"toolbar_location\":\"above\"},\"id\":\"7ecef30d-f2b8-48cc-b75a-32759ece0d1a\",\"type\":\"ToolbarBox\"},{\"attributes\":{\"plot\":null,\"text\":\"\"},\"id\":\"6583655a-63a4-41b5-9a9e-b0d0d0fc8e98\",\"type\":\"Title\"},{\"attributes\":{\"label\":{\"value\":\"x\"},\"renderers\":[{\"id\":\"73b33759-69f3-4b1d-a829-b18cc139dff3\",\"type\":\"GlyphRenderer\"}]},\"id\":\"d103d13e-9669-4ab4-b657-5fcfe8c7d865\",\"type\":\"LegendItem\"},{\"attributes\":{\"children\":[{\"id\":\"ca0aaf9e-d426-4dc4-b86f-92509c8c945d\",\"subtype\":\"Figure\",\"type\":\"Plot\"}]},\"id\":\"cda0332f-74a1-46ad-993d-08424b9e834b\",\"type\":\"Row\"},{\"attributes\":{\"data_source\":{\"id\":\"4731310f-84b1-4306-8ab9-caea059a243d\",\"type\":\"ColumnDataSource\"},\"glyph\":{\"id\":\"415ef6e3-021e-4cc1-8bb6-087316db4ee3\",\"type\":\"Triangle\"},\"hover_glyph\":null,\"muted_glyph\":null,\"nonselection_glyph\":{\"id\":\"6ac8494d-6163-4fa2-aac1-f5c6ff8b4b66\",\"type\":\"Triangle\"},\"selection_glyph\":null,\"view\":{\"id\":\"9cff6637-2014-4a31-a4b9-b2d3c89251a3\",\"type\":\"CDSView\"}},\"id\":\"97b3fe91-e949-43bc-8a12-7924822387f5\",\"type\":\"GlyphRenderer\"},{\"attributes\":{},\"id\":\"238f48d4-2898-4f05-b4d3-30448c7f0e9c\",\"type\":\"BasicTickFormatter\"},{\"attributes\":{},\"id\":\"0fb99d56-0041-4020-a78f-26f90371a710\",\"type\":\"SaveTool\"},{\"attributes\":{\"bottom_units\":\"screen\",\"fill_alpha\":{\"value\":0.5},\"fill_color\":{\"value\":\"lightgrey\"},\"left_units\":\"screen\",\"level\":\"overlay\",\"line_alpha\":{\"value\":1.0},\"line_color\":{\"value\":\"black\"},\"line_dash\":[4,4],\"line_width\":{\"value\":2},\"plot\":null,\"render_mode\":\"css\",\"right_units\":\"screen\",\"top_units\":\"screen\"},\"id\":\"aaa23535-7eac-4eb6-938b-4438b46af36e\",\"type\":\"BoxAnnotation\"},{\"attributes\":{},\"id\":\"5808e42c-b423-4b56-b61d-f27571629adc\",\"type\":\"HelpTool\"},{\"attributes\":{\"label\":{\"value\":\"y\"},\"renderers\":[{\"id\":\"97b3fe91-e949-43bc-8a12-7924822387f5\",\"type\":\"GlyphRenderer\"}]},\"id\":\"34316db5-27db-4d12-b3b7-bcf2ce614301\",\"type\":\"LegendItem\"},{\"attributes\":{},\"id\":\"07214670-c500-40f6-804f-110afb0338ca\",\"type\":\"PanTool\"},{\"attributes\":{\"callback\":null},\"id\":\"5519b1cd-e931-4720-a578-ff76ac5d0d5a\",\"type\":\"DataRange1d\"},{\"attributes\":{\"children\":[{\"id\":\"b4307752-07e9-47dc-acd1-53d4fb4165b6\",\"subtype\":\"Figure\",\"type\":\"Plot\"}]},\"id\":\"9534873f-b05d-4ab7-899c-91895352399b\",\"type\":\"Row\"},{\"attributes\":{\"label\":{\"value\":\"z\"},\"renderers\":[{\"id\":\"83575ad6-b569-4f98-95c4-c9efdb4063dc\",\"type\":\"GlyphRenderer\"}]},\"id\":\"117b1bb8-4c83-4394-9637-50577c3cf666\",\"type\":\"LegendItem\"}],\"root_ids\":[\"44b22d42-3c5a-4c6e-b434-19e6bcee74e9\"]},\"title\":\"Bokeh Application\",\"version\":\"0.12.14\"}};\n",
       "  var render_items = [{\"docid\":\"8dd4126f-a329-4d33-a401-321e27f8810c\",\"elementid\":\"3d7e10e2-a8dd-46cf-a0d0-dbe4e5006059\",\"modelid\":\"44b22d42-3c5a-4c6e-b434-19e6bcee74e9\"}];\n",
       "  root.Bokeh.embed.embed_items_notebook(docs_json, render_items);\n",
       "\n",
       "  }\n",
       "  if (root.Bokeh !== undefined) {\n",
       "    embed_document(root);\n",
       "  } else {\n",
       "    var attempts = 0;\n",
       "    var timer = setInterval(function(root) {\n",
       "      if (root.Bokeh !== undefined) {\n",
       "        embed_document(root);\n",
       "        clearInterval(timer);\n",
       "      }\n",
       "      attempts++;\n",
       "      if (attempts > 100) {\n",
       "        console.log(\"Bokeh: ERROR: Unable to run BokehJS code because BokehJS library is missing\")\n",
       "        clearInterval(timer);\n",
       "      }\n",
       "    }, 10, root)\n",
       "  }\n",
       "})(window);"
      ],
      "application/vnd.bokehjs_exec.v0+json": ""
     },
     "metadata": {
      "application/vnd.bokehjs_exec.v0+json": {
       "id": "44b22d42-3c5a-4c6e-b434-19e6bcee74e9"
      }
     },
     "output_type": "display_data"
    }
   ],
   "source": [
    "from bokeh.models import Legend\n",
    "\n",
    "p1 = bp.figure(width=800, height=300)\n",
    "r1 = p1.triangle(range(len(y)),buy_ok, color='green')\n",
    "r2 = p1.triangle(range(len(y)),buy_mal, color='red')\n",
    "\n",
    "r3 = p.triangle(range(len(y)),sell_ok, color='green', angle=45)\n",
    "p1.triangle(range(len(y)),sell_mal, color='red', angle=45)\n",
    "\n",
    "#p.legend.location = 'bottom_center'\n",
    "#p.legend.orientation = 'horizontal'\n",
    "#p.legend.background_fill_alpha = 0.1\n",
    "#p.legend.background_fill_color = 'grey'\n",
    "\n",
    "p2 = bp.figure(width=800, height=300)\n",
    "p2.triangle(range(len(y)),buy_ok, color='green')\n",
    "\n",
    "legend = Legend(items=[('x',[r1]),('y',[r2]),('z',[r3])], location=(0,0))\n",
    "p1.add_layout(legend,'below')\n",
    "\n",
    "bp.show(gridplot([[p1],[p2]]))"
   ]
  },
  {
   "cell_type": "code",
   "execution_count": 135,
   "metadata": {
    "collapsed": true
   },
   "outputs": [],
   "source": [
    "a = np.ones(30)"
   ]
  },
  {
   "cell_type": "code",
   "execution_count": 140,
   "metadata": {},
   "outputs": [],
   "source": [
    "accu = []\n",
    "count = 0\n",
    "for i in a:\n",
    "    count += i\n",
    "    accu.append(count)"
   ]
  },
  {
   "cell_type": "code",
   "execution_count": 141,
   "metadata": {},
   "outputs": [
    {
     "data": {
      "text/plain": [
       "[1.0,\n",
       " 2.0,\n",
       " 3.0,\n",
       " 4.0,\n",
       " 5.0,\n",
       " 6.0,\n",
       " 7.0,\n",
       " 8.0,\n",
       " 9.0,\n",
       " 10.0,\n",
       " 11.0,\n",
       " 12.0,\n",
       " 13.0,\n",
       " 14.0,\n",
       " 15.0,\n",
       " 16.0,\n",
       " 17.0,\n",
       " 18.0,\n",
       " 19.0,\n",
       " 20.0,\n",
       " 21.0,\n",
       " 22.0,\n",
       " 23.0,\n",
       " 24.0,\n",
       " 25.0,\n",
       " 26.0,\n",
       " 27.0,\n",
       " 28.0,\n",
       " 29.0,\n",
       " 30.0]"
      ]
     },
     "execution_count": 141,
     "metadata": {},
     "output_type": "execute_result"
    }
   ],
   "source": []
  },
  {
   "cell_type": "code",
   "execution_count": null,
   "metadata": {
    "collapsed": true
   },
   "outputs": [],
   "source": []
  },
  {
   "cell_type": "code",
   "execution_count": null,
   "metadata": {
    "collapsed": true
   },
   "outputs": [],
   "source": []
  },
  {
   "cell_type": "code",
   "execution_count": null,
   "metadata": {
    "collapsed": true
   },
   "outputs": [],
   "source": []
  },
  {
   "cell_type": "code",
   "execution_count": null,
   "metadata": {
    "collapsed": true
   },
   "outputs": [],
   "source": []
  }
 ],
 "metadata": {
  "kernelspec": {
   "display_name": "Python 3",
   "language": "python",
   "name": "python3"
  },
  "language_info": {
   "codemirror_mode": {
    "name": "ipython",
    "version": 3
   },
   "file_extension": ".py",
   "mimetype": "text/x-python",
   "name": "python",
   "nbconvert_exporter": "python",
   "pygments_lexer": "ipython3",
   "version": "3.6.2"
  }
 },
 "nbformat": 4,
 "nbformat_minor": 2
}
