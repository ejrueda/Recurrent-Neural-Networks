{
 "cells": [
  {
   "cell_type": "code",
   "execution_count": 1,
   "metadata": {},
   "outputs": [
    {
     "data": {
      "text/html": [
       "\n",
       "    <div class=\"bk-root\">\n",
       "        <a href=\"https://bokeh.pydata.org\" target=\"_blank\" class=\"bk-logo bk-logo-small bk-logo-notebook\"></a>\n",
       "        <span id=\"147d933c-2f68-4310-a4a8-46f0c7326b95\">Loading BokehJS ...</span>\n",
       "    </div>"
      ]
     },
     "metadata": {},
     "output_type": "display_data"
    },
    {
     "data": {
      "application/javascript": [
       "\n",
       "(function(root) {\n",
       "  function now() {\n",
       "    return new Date();\n",
       "  }\n",
       "\n",
       "  var force = true;\n",
       "\n",
       "  if (typeof (root._bokeh_onload_callbacks) === \"undefined\" || force === true) {\n",
       "    root._bokeh_onload_callbacks = [];\n",
       "    root._bokeh_is_loading = undefined;\n",
       "  }\n",
       "\n",
       "  var JS_MIME_TYPE = 'application/javascript';\n",
       "  var HTML_MIME_TYPE = 'text/html';\n",
       "  var EXEC_MIME_TYPE = 'application/vnd.bokehjs_exec.v0+json';\n",
       "  var CLASS_NAME = 'output_bokeh rendered_html';\n",
       "\n",
       "  /**\n",
       "   * Render data to the DOM node\n",
       "   */\n",
       "  function render(props, node) {\n",
       "    var script = document.createElement(\"script\");\n",
       "    node.appendChild(script);\n",
       "  }\n",
       "\n",
       "  /**\n",
       "   * Handle when an output is cleared or removed\n",
       "   */\n",
       "  function handleClearOutput(event, handle) {\n",
       "    var cell = handle.cell;\n",
       "\n",
       "    var id = cell.output_area._bokeh_element_id;\n",
       "    var server_id = cell.output_area._bokeh_server_id;\n",
       "    // Clean up Bokeh references\n",
       "    if (id !== undefined) {\n",
       "      Bokeh.index[id].model.document.clear();\n",
       "      delete Bokeh.index[id];\n",
       "    }\n",
       "\n",
       "    if (server_id !== undefined) {\n",
       "      // Clean up Bokeh references\n",
       "      var cmd = \"from bokeh.io.state import curstate; print(curstate().uuid_to_server['\" + server_id + \"'].get_sessions()[0].document.roots[0]._id)\";\n",
       "      cell.notebook.kernel.execute(cmd, {\n",
       "        iopub: {\n",
       "          output: function(msg) {\n",
       "            var element_id = msg.content.text.trim();\n",
       "            Bokeh.index[element_id].model.document.clear();\n",
       "            delete Bokeh.index[element_id];\n",
       "          }\n",
       "        }\n",
       "      });\n",
       "      // Destroy server and session\n",
       "      var cmd = \"import bokeh.io.notebook as ion; ion.destroy_server('\" + server_id + \"')\";\n",
       "      cell.notebook.kernel.execute(cmd);\n",
       "    }\n",
       "  }\n",
       "\n",
       "  /**\n",
       "   * Handle when a new output is added\n",
       "   */\n",
       "  function handleAddOutput(event, handle) {\n",
       "    var output_area = handle.output_area;\n",
       "    var output = handle.output;\n",
       "\n",
       "    // limit handleAddOutput to display_data with EXEC_MIME_TYPE content only\n",
       "    if ((output.output_type != \"display_data\") || (!output.data.hasOwnProperty(EXEC_MIME_TYPE))) {\n",
       "      return\n",
       "    }\n",
       "\n",
       "    var toinsert = output_area.element.find(\".\" + CLASS_NAME.split(' ')[0]);\n",
       "\n",
       "    if (output.metadata[EXEC_MIME_TYPE][\"id\"] !== undefined) {\n",
       "      toinsert[0].firstChild.textContent = output.data[JS_MIME_TYPE];\n",
       "      // store reference to embed id on output_area\n",
       "      output_area._bokeh_element_id = output.metadata[EXEC_MIME_TYPE][\"id\"];\n",
       "    }\n",
       "    if (output.metadata[EXEC_MIME_TYPE][\"server_id\"] !== undefined) {\n",
       "      var bk_div = document.createElement(\"div\");\n",
       "      bk_div.innerHTML = output.data[HTML_MIME_TYPE];\n",
       "      var script_attrs = bk_div.children[0].attributes;\n",
       "      for (var i = 0; i < script_attrs.length; i++) {\n",
       "        toinsert[0].firstChild.setAttribute(script_attrs[i].name, script_attrs[i].value);\n",
       "      }\n",
       "      // store reference to server id on output_area\n",
       "      output_area._bokeh_server_id = output.metadata[EXEC_MIME_TYPE][\"server_id\"];\n",
       "    }\n",
       "  }\n",
       "\n",
       "  function register_renderer(events, OutputArea) {\n",
       "\n",
       "    function append_mime(data, metadata, element) {\n",
       "      // create a DOM node to render to\n",
       "      var toinsert = this.create_output_subarea(\n",
       "        metadata,\n",
       "        CLASS_NAME,\n",
       "        EXEC_MIME_TYPE\n",
       "      );\n",
       "      this.keyboard_manager.register_events(toinsert);\n",
       "      // Render to node\n",
       "      var props = {data: data, metadata: metadata[EXEC_MIME_TYPE]};\n",
       "      render(props, toinsert[0]);\n",
       "      element.append(toinsert);\n",
       "      return toinsert\n",
       "    }\n",
       "\n",
       "    /* Handle when an output is cleared or removed */\n",
       "    events.on('clear_output.CodeCell', handleClearOutput);\n",
       "    events.on('delete.Cell', handleClearOutput);\n",
       "\n",
       "    /* Handle when a new output is added */\n",
       "    events.on('output_added.OutputArea', handleAddOutput);\n",
       "\n",
       "    /**\n",
       "     * Register the mime type and append_mime function with output_area\n",
       "     */\n",
       "    OutputArea.prototype.register_mime_type(EXEC_MIME_TYPE, append_mime, {\n",
       "      /* Is output safe? */\n",
       "      safe: true,\n",
       "      /* Index of renderer in `output_area.display_order` */\n",
       "      index: 0\n",
       "    });\n",
       "  }\n",
       "\n",
       "  // register the mime type if in Jupyter Notebook environment and previously unregistered\n",
       "  if (root.Jupyter !== undefined) {\n",
       "    var events = require('base/js/events');\n",
       "    var OutputArea = require('notebook/js/outputarea').OutputArea;\n",
       "\n",
       "    if (OutputArea.prototype.mime_types().indexOf(EXEC_MIME_TYPE) == -1) {\n",
       "      register_renderer(events, OutputArea);\n",
       "    }\n",
       "  }\n",
       "\n",
       "  \n",
       "  if (typeof (root._bokeh_timeout) === \"undefined\" || force === true) {\n",
       "    root._bokeh_timeout = Date.now() + 5000;\n",
       "    root._bokeh_failed_load = false;\n",
       "  }\n",
       "\n",
       "  var NB_LOAD_WARNING = {'data': {'text/html':\n",
       "     \"<div style='background-color: #fdd'>\\n\"+\n",
       "     \"<p>\\n\"+\n",
       "     \"BokehJS does not appear to have successfully loaded. If loading BokehJS from CDN, this \\n\"+\n",
       "     \"may be due to a slow or bad network connection. Possible fixes:\\n\"+\n",
       "     \"</p>\\n\"+\n",
       "     \"<ul>\\n\"+\n",
       "     \"<li>re-rerun `output_notebook()` to attempt to load from CDN again, or</li>\\n\"+\n",
       "     \"<li>use INLINE resources instead, as so:</li>\\n\"+\n",
       "     \"</ul>\\n\"+\n",
       "     \"<code>\\n\"+\n",
       "     \"from bokeh.resources import INLINE\\n\"+\n",
       "     \"output_notebook(resources=INLINE)\\n\"+\n",
       "     \"</code>\\n\"+\n",
       "     \"</div>\"}};\n",
       "\n",
       "  function display_loaded() {\n",
       "    var el = document.getElementById(\"147d933c-2f68-4310-a4a8-46f0c7326b95\");\n",
       "    if (el != null) {\n",
       "      el.textContent = \"BokehJS is loading...\";\n",
       "    }\n",
       "    if (root.Bokeh !== undefined) {\n",
       "      if (el != null) {\n",
       "        el.textContent = \"BokehJS \" + root.Bokeh.version + \" successfully loaded.\";\n",
       "      }\n",
       "    } else if (Date.now() < root._bokeh_timeout) {\n",
       "      setTimeout(display_loaded, 100)\n",
       "    }\n",
       "  }\n",
       "\n",
       "\n",
       "  function run_callbacks() {\n",
       "    try {\n",
       "      root._bokeh_onload_callbacks.forEach(function(callback) { callback() });\n",
       "    }\n",
       "    finally {\n",
       "      delete root._bokeh_onload_callbacks\n",
       "    }\n",
       "    console.info(\"Bokeh: all callbacks have finished\");\n",
       "  }\n",
       "\n",
       "  function load_libs(js_urls, callback) {\n",
       "    root._bokeh_onload_callbacks.push(callback);\n",
       "    if (root._bokeh_is_loading > 0) {\n",
       "      console.log(\"Bokeh: BokehJS is being loaded, scheduling callback at\", now());\n",
       "      return null;\n",
       "    }\n",
       "    if (js_urls == null || js_urls.length === 0) {\n",
       "      run_callbacks();\n",
       "      return null;\n",
       "    }\n",
       "    console.log(\"Bokeh: BokehJS not loaded, scheduling load and callback at\", now());\n",
       "    root._bokeh_is_loading = js_urls.length;\n",
       "    for (var i = 0; i < js_urls.length; i++) {\n",
       "      var url = js_urls[i];\n",
       "      var s = document.createElement('script');\n",
       "      s.src = url;\n",
       "      s.async = false;\n",
       "      s.onreadystatechange = s.onload = function() {\n",
       "        root._bokeh_is_loading--;\n",
       "        if (root._bokeh_is_loading === 0) {\n",
       "          console.log(\"Bokeh: all BokehJS libraries loaded\");\n",
       "          run_callbacks()\n",
       "        }\n",
       "      };\n",
       "      s.onerror = function() {\n",
       "        console.warn(\"failed to load library \" + url);\n",
       "      };\n",
       "      console.log(\"Bokeh: injecting script tag for BokehJS library: \", url);\n",
       "      document.getElementsByTagName(\"head\")[0].appendChild(s);\n",
       "    }\n",
       "  };var element = document.getElementById(\"147d933c-2f68-4310-a4a8-46f0c7326b95\");\n",
       "  if (element == null) {\n",
       "    console.log(\"Bokeh: ERROR: autoload.js configured with elementid '147d933c-2f68-4310-a4a8-46f0c7326b95' but no matching script tag was found. \")\n",
       "    return false;\n",
       "  }\n",
       "\n",
       "  var js_urls = [\"https://cdn.pydata.org/bokeh/release/bokeh-0.12.14.min.js\", \"https://cdn.pydata.org/bokeh/release/bokeh-widgets-0.12.14.min.js\", \"https://cdn.pydata.org/bokeh/release/bokeh-tables-0.12.14.min.js\", \"https://cdn.pydata.org/bokeh/release/bokeh-gl-0.12.14.min.js\"];\n",
       "\n",
       "  var inline_js = [\n",
       "    function(Bokeh) {\n",
       "      Bokeh.set_log_level(\"info\");\n",
       "    },\n",
       "    \n",
       "    function(Bokeh) {\n",
       "      \n",
       "    },\n",
       "    function(Bokeh) {\n",
       "      console.log(\"Bokeh: injecting CSS: https://cdn.pydata.org/bokeh/release/bokeh-0.12.14.min.css\");\n",
       "      Bokeh.embed.inject_css(\"https://cdn.pydata.org/bokeh/release/bokeh-0.12.14.min.css\");\n",
       "      console.log(\"Bokeh: injecting CSS: https://cdn.pydata.org/bokeh/release/bokeh-widgets-0.12.14.min.css\");\n",
       "      Bokeh.embed.inject_css(\"https://cdn.pydata.org/bokeh/release/bokeh-widgets-0.12.14.min.css\");\n",
       "      console.log(\"Bokeh: injecting CSS: https://cdn.pydata.org/bokeh/release/bokeh-tables-0.12.14.min.css\");\n",
       "      Bokeh.embed.inject_css(\"https://cdn.pydata.org/bokeh/release/bokeh-tables-0.12.14.min.css\");\n",
       "    }\n",
       "  ];\n",
       "\n",
       "  function run_inline_js() {\n",
       "    \n",
       "    if ((root.Bokeh !== undefined) || (force === true)) {\n",
       "      for (var i = 0; i < inline_js.length; i++) {\n",
       "        inline_js[i].call(root, root.Bokeh);\n",
       "      }if (force === true) {\n",
       "        display_loaded();\n",
       "      }} else if (Date.now() < root._bokeh_timeout) {\n",
       "      setTimeout(run_inline_js, 100);\n",
       "    } else if (!root._bokeh_failed_load) {\n",
       "      console.log(\"Bokeh: BokehJS failed to load within specified timeout.\");\n",
       "      root._bokeh_failed_load = true;\n",
       "    } else if (force !== true) {\n",
       "      var cell = $(document.getElementById(\"147d933c-2f68-4310-a4a8-46f0c7326b95\")).parents('.cell').data().cell;\n",
       "      cell.output_area.append_execute_result(NB_LOAD_WARNING)\n",
       "    }\n",
       "\n",
       "  }\n",
       "\n",
       "  if (root._bokeh_is_loading === 0) {\n",
       "    console.log(\"Bokeh: BokehJS loaded, going straight to plotting\");\n",
       "    run_inline_js();\n",
       "  } else {\n",
       "    load_libs(js_urls, function() {\n",
       "      console.log(\"Bokeh: BokehJS plotting callback run at\", now());\n",
       "      run_inline_js();\n",
       "    });\n",
       "  }\n",
       "}(window));"
      ],
      "application/vnd.bokehjs_load.v0+json": "\n(function(root) {\n  function now() {\n    return new Date();\n  }\n\n  var force = true;\n\n  if (typeof (root._bokeh_onload_callbacks) === \"undefined\" || force === true) {\n    root._bokeh_onload_callbacks = [];\n    root._bokeh_is_loading = undefined;\n  }\n\n  \n\n  \n  if (typeof (root._bokeh_timeout) === \"undefined\" || force === true) {\n    root._bokeh_timeout = Date.now() + 5000;\n    root._bokeh_failed_load = false;\n  }\n\n  var NB_LOAD_WARNING = {'data': {'text/html':\n     \"<div style='background-color: #fdd'>\\n\"+\n     \"<p>\\n\"+\n     \"BokehJS does not appear to have successfully loaded. If loading BokehJS from CDN, this \\n\"+\n     \"may be due to a slow or bad network connection. Possible fixes:\\n\"+\n     \"</p>\\n\"+\n     \"<ul>\\n\"+\n     \"<li>re-rerun `output_notebook()` to attempt to load from CDN again, or</li>\\n\"+\n     \"<li>use INLINE resources instead, as so:</li>\\n\"+\n     \"</ul>\\n\"+\n     \"<code>\\n\"+\n     \"from bokeh.resources import INLINE\\n\"+\n     \"output_notebook(resources=INLINE)\\n\"+\n     \"</code>\\n\"+\n     \"</div>\"}};\n\n  function display_loaded() {\n    var el = document.getElementById(\"147d933c-2f68-4310-a4a8-46f0c7326b95\");\n    if (el != null) {\n      el.textContent = \"BokehJS is loading...\";\n    }\n    if (root.Bokeh !== undefined) {\n      if (el != null) {\n        el.textContent = \"BokehJS \" + root.Bokeh.version + \" successfully loaded.\";\n      }\n    } else if (Date.now() < root._bokeh_timeout) {\n      setTimeout(display_loaded, 100)\n    }\n  }\n\n\n  function run_callbacks() {\n    try {\n      root._bokeh_onload_callbacks.forEach(function(callback) { callback() });\n    }\n    finally {\n      delete root._bokeh_onload_callbacks\n    }\n    console.info(\"Bokeh: all callbacks have finished\");\n  }\n\n  function load_libs(js_urls, callback) {\n    root._bokeh_onload_callbacks.push(callback);\n    if (root._bokeh_is_loading > 0) {\n      console.log(\"Bokeh: BokehJS is being loaded, scheduling callback at\", now());\n      return null;\n    }\n    if (js_urls == null || js_urls.length === 0) {\n      run_callbacks();\n      return null;\n    }\n    console.log(\"Bokeh: BokehJS not loaded, scheduling load and callback at\", now());\n    root._bokeh_is_loading = js_urls.length;\n    for (var i = 0; i < js_urls.length; i++) {\n      var url = js_urls[i];\n      var s = document.createElement('script');\n      s.src = url;\n      s.async = false;\n      s.onreadystatechange = s.onload = function() {\n        root._bokeh_is_loading--;\n        if (root._bokeh_is_loading === 0) {\n          console.log(\"Bokeh: all BokehJS libraries loaded\");\n          run_callbacks()\n        }\n      };\n      s.onerror = function() {\n        console.warn(\"failed to load library \" + url);\n      };\n      console.log(\"Bokeh: injecting script tag for BokehJS library: \", url);\n      document.getElementsByTagName(\"head\")[0].appendChild(s);\n    }\n  };var element = document.getElementById(\"147d933c-2f68-4310-a4a8-46f0c7326b95\");\n  if (element == null) {\n    console.log(\"Bokeh: ERROR: autoload.js configured with elementid '147d933c-2f68-4310-a4a8-46f0c7326b95' but no matching script tag was found. \")\n    return false;\n  }\n\n  var js_urls = [\"https://cdn.pydata.org/bokeh/release/bokeh-0.12.14.min.js\", \"https://cdn.pydata.org/bokeh/release/bokeh-widgets-0.12.14.min.js\", \"https://cdn.pydata.org/bokeh/release/bokeh-tables-0.12.14.min.js\", \"https://cdn.pydata.org/bokeh/release/bokeh-gl-0.12.14.min.js\"];\n\n  var inline_js = [\n    function(Bokeh) {\n      Bokeh.set_log_level(\"info\");\n    },\n    \n    function(Bokeh) {\n      \n    },\n    function(Bokeh) {\n      console.log(\"Bokeh: injecting CSS: https://cdn.pydata.org/bokeh/release/bokeh-0.12.14.min.css\");\n      Bokeh.embed.inject_css(\"https://cdn.pydata.org/bokeh/release/bokeh-0.12.14.min.css\");\n      console.log(\"Bokeh: injecting CSS: https://cdn.pydata.org/bokeh/release/bokeh-widgets-0.12.14.min.css\");\n      Bokeh.embed.inject_css(\"https://cdn.pydata.org/bokeh/release/bokeh-widgets-0.12.14.min.css\");\n      console.log(\"Bokeh: injecting CSS: https://cdn.pydata.org/bokeh/release/bokeh-tables-0.12.14.min.css\");\n      Bokeh.embed.inject_css(\"https://cdn.pydata.org/bokeh/release/bokeh-tables-0.12.14.min.css\");\n    }\n  ];\n\n  function run_inline_js() {\n    \n    if ((root.Bokeh !== undefined) || (force === true)) {\n      for (var i = 0; i < inline_js.length; i++) {\n        inline_js[i].call(root, root.Bokeh);\n      }if (force === true) {\n        display_loaded();\n      }} else if (Date.now() < root._bokeh_timeout) {\n      setTimeout(run_inline_js, 100);\n    } else if (!root._bokeh_failed_load) {\n      console.log(\"Bokeh: BokehJS failed to load within specified timeout.\");\n      root._bokeh_failed_load = true;\n    } else if (force !== true) {\n      var cell = $(document.getElementById(\"147d933c-2f68-4310-a4a8-46f0c7326b95\")).parents('.cell').data().cell;\n      cell.output_area.append_execute_result(NB_LOAD_WARNING)\n    }\n\n  }\n\n  if (root._bokeh_is_loading === 0) {\n    console.log(\"Bokeh: BokehJS loaded, going straight to plotting\");\n    run_inline_js();\n  } else {\n    load_libs(js_urls, function() {\n      console.log(\"Bokeh: BokehJS plotting callback run at\", now());\n      run_inline_js();\n    });\n  }\n}(window));"
     },
     "metadata": {},
     "output_type": "display_data"
    }
   ],
   "source": [
    "import pandas as pd\n",
    "import bokeh.plotting as bp\n",
    "from bokeh.layouts import gridplot, layout, row\n",
    "import numpy as np\n",
    "import matplotlib.pyplot as plt\n",
    "bp.output_notebook()"
   ]
  },
  {
   "cell_type": "code",
   "execution_count": 3,
   "metadata": {
    "collapsed": true
   },
   "outputs": [],
   "source": [
    "date = pd.timedelta_range('2017', periods=len(y), freq='T')"
   ]
  },
  {
   "cell_type": "code",
   "execution_count": 4,
   "metadata": {
    "scrolled": true
   },
   "outputs": [
    {
     "data": {
      "text/plain": [
       "TimedeltaIndex(['00:00:00.000002', '00:01:00.000002', '00:02:00.000002',\n",
       "                '00:03:00.000002', '00:04:00.000002', '00:05:00.000002',\n",
       "                '00:06:00.000002', '00:07:00.000002', '00:08:00.000002',\n",
       "                '00:09:00.000002', '00:10:00.000002', '00:11:00.000002',\n",
       "                '00:12:00.000002', '00:13:00.000002', '00:14:00.000002',\n",
       "                '00:15:00.000002', '00:16:00.000002', '00:17:00.000002',\n",
       "                '00:18:00.000002', '00:19:00.000002', '00:20:00.000002',\n",
       "                '00:21:00.000002', '00:22:00.000002', '00:23:00.000002',\n",
       "                '00:24:00.000002', '00:25:00.000002', '00:26:00.000002',\n",
       "                '00:27:00.000002', '00:28:00.000002', '00:29:00.000002',\n",
       "                '00:30:00.000002', '00:31:00.000002', '00:32:00.000002',\n",
       "                '00:33:00.000002', '00:34:00.000002', '00:35:00.000002',\n",
       "                '00:36:00.000002', '00:37:00.000002', '00:38:00.000002',\n",
       "                '00:39:00.000002', '00:40:00.000002', '00:41:00.000002',\n",
       "                '00:42:00.000002', '00:43:00.000002', '00:44:00.000002',\n",
       "                '00:45:00.000002', '00:46:00.000002', '00:47:00.000002',\n",
       "                '00:48:00.000002', '00:49:00.000002', '00:50:00.000002',\n",
       "                '00:51:00.000002', '00:52:00.000002', '00:53:00.000002',\n",
       "                '00:54:00.000002', '00:55:00.000002', '00:56:00.000002',\n",
       "                '00:57:00.000002', '00:58:00.000002', '00:59:00.000002',\n",
       "                '01:00:00.000002', '01:01:00.000002', '01:02:00.000002',\n",
       "                '01:03:00.000002', '01:04:00.000002', '01:05:00.000002',\n",
       "                '01:06:00.000002', '01:07:00.000002', '01:08:00.000002',\n",
       "                '01:09:00.000002', '01:10:00.000002', '01:11:00.000002',\n",
       "                '01:12:00.000002', '01:13:00.000002', '01:14:00.000002',\n",
       "                '01:15:00.000002', '01:16:00.000002', '01:17:00.000002',\n",
       "                '01:18:00.000002', '01:19:00.000002', '01:20:00.000002',\n",
       "                '01:21:00.000002', '01:22:00.000002', '01:23:00.000002',\n",
       "                '01:24:00.000002', '01:25:00.000002', '01:26:00.000002',\n",
       "                '01:27:00.000002', '01:28:00.000002', '01:29:00.000002',\n",
       "                '01:30:00.000002', '01:31:00.000002', '01:32:00.000002',\n",
       "                '01:33:00.000002', '01:34:00.000002', '01:35:00.000002',\n",
       "                '01:36:00.000002', '01:37:00.000002', '01:38:00.000002',\n",
       "                '01:39:00.000002'],\n",
       "               dtype='timedelta64[ns]', freq='T')"
      ]
     },
     "execution_count": 4,
     "metadata": {},
     "output_type": "execute_result"
    }
   ],
   "source": [
    "date"
   ]
  },
  {
   "cell_type": "code",
   "execution_count": 16,
   "metadata": {},
   "outputs": [
    {
     "data": {
      "text/html": [
       "\n",
       "<div class=\"bk-root\">\n",
       "    <div class=\"bk-plotdiv\" id=\"6fc208b0-8bfa-4958-8d0b-c70b78953c13\"></div>\n",
       "</div>"
      ]
     },
     "metadata": {},
     "output_type": "display_data"
    },
    {
     "data": {
      "application/javascript": [
       "(function(root) {\n",
       "  function embed_document(root) {\n",
       "    \n",
       "  var docs_json = {\"93fd2de9-d39a-4892-9bbb-29535641e7f3\":{\"roots\":{\"references\":[{\"attributes\":{},\"id\":\"4bed0676-9d5f-4a08-b91d-abfd2cb72361\",\"type\":\"BasicTicker\"},{\"attributes\":{\"mantissas\":[1,2,5],\"max_interval\":500.0,\"num_minor_ticks\":0},\"id\":\"877ff0a4-8035-485d-ae07-1f16c3b99518\",\"type\":\"AdaptiveTicker\"},{\"attributes\":{\"plot\":{\"id\":\"be5f82db-9387-42f4-9c5c-35830e013b8b\",\"subtype\":\"Figure\",\"type\":\"Plot\"},\"ticker\":{\"id\":\"461ec7d1-e164-4248-b8d3-ed2b063c77ba\",\"type\":\"DatetimeTicker\"}},\"id\":\"43c6856d-7789-4320-9719-6e5699416b6c\",\"type\":\"Grid\"},{\"attributes\":{\"dimension\":1,\"plot\":{\"id\":\"7469b05e-2325-4b9f-98d9-bb3d7b3891f5\",\"subtype\":\"Figure\",\"type\":\"Plot\"},\"ticker\":{\"id\":\"4bed0676-9d5f-4a08-b91d-abfd2cb72361\",\"type\":\"BasicTicker\"}},\"id\":\"b41da41e-8e2a-4083-bb8c-6fd59dd48aa6\",\"type\":\"Grid\"},{\"attributes\":{\"fill_color\":{\"value\":\"red\"},\"line_color\":{\"value\":\"red\"},\"x\":{\"field\":\"x\"},\"y\":{\"field\":\"y\"}},\"id\":\"d4d35159-5b35-4638-80fc-db7c1085421a\",\"type\":\"Triangle\"},{\"attributes\":{\"bottom_units\":\"screen\",\"fill_alpha\":{\"value\":0.5},\"fill_color\":{\"value\":\"lightgrey\"},\"left_units\":\"screen\",\"level\":\"overlay\",\"line_alpha\":{\"value\":1.0},\"line_color\":{\"value\":\"black\"},\"line_dash\":[4,4],\"line_width\":{\"value\":2},\"plot\":null,\"render_mode\":\"css\",\"right_units\":\"screen\",\"top_units\":\"screen\"},\"id\":\"410207f5-decb-4b01-8412-63fabe2de4c6\",\"type\":\"BoxAnnotation\"},{\"attributes\":{\"days\":[1,8,15,22]},\"id\":\"2f284dcd-5989-4319-b591-fe75d9f43a4b\",\"type\":\"DaysTicker\"},{\"attributes\":{},\"id\":\"d7c4d58b-c067-4a0d-922f-3d74ab8cd162\",\"type\":\"PanTool\"},{\"attributes\":{\"fill_alpha\":{\"value\":0.1},\"fill_color\":{\"value\":\"#1f77b4\"},\"line_alpha\":{\"value\":0.1},\"line_color\":{\"value\":\"#1f77b4\"},\"x\":{\"field\":\"x\"},\"y\":{\"field\":\"y\"}},\"id\":\"57240acc-f733-4b0f-8c0e-d39002c59f50\",\"type\":\"Triangle\"},{\"attributes\":{\"months\":[0,4,8]},\"id\":\"19def236-c4c2-4891-8b66-299d18aac960\",\"type\":\"MonthsTicker\"},{\"attributes\":{},\"id\":\"e9312824-ab8b-422e-acbb-17bfd666552a\",\"type\":\"WheelZoomTool\"},{\"attributes\":{\"overlay\":{\"id\":\"410207f5-decb-4b01-8412-63fabe2de4c6\",\"type\":\"BoxAnnotation\"}},\"id\":\"acb28f22-e120-423c-a28a-124716e013e9\",\"type\":\"BoxZoomTool\"},{\"attributes\":{\"callback\":null,\"overlay\":{\"id\":\"dc7e536f-d242-4c2e-b9d1-3b350ad07e96\",\"type\":\"BoxAnnotation\"},\"renderers\":[{\"id\":\"c5e01e56-33f3-4df4-8d14-38ab9c2d73de\",\"type\":\"GlyphRenderer\"}]},\"id\":\"4a5e6dda-3b99-4c38-8d35-04d2d1dd0427\",\"type\":\"BoxSelectTool\"},{\"attributes\":{\"callback\":null,\"overlay\":{\"id\":\"0c96353f-1220-4f5e-8032-935affb47194\",\"type\":\"PolyAnnotation\"}},\"id\":\"fc562b6d-1427-4a44-a813-4a78287d8d6b\",\"type\":\"LassoSelectTool\"},{\"attributes\":{\"callback\":null,\"overlay\":{\"id\":\"f84a8a85-74a3-4a1c-8cbf-048ffd79da04\",\"type\":\"BoxAnnotation\"},\"renderers\":[{\"id\":\"27d645e3-8c5e-4e95-9012-5cdf55dd9ac4\",\"type\":\"GlyphRenderer\"}]},\"id\":\"a007e8c7-4fcf-4c4e-b7a4-aceb510aa318\",\"type\":\"BoxSelectTool\"},{\"attributes\":{},\"id\":\"aa3e7555-093d-4ea1-b990-727b888a0a91\",\"type\":\"ResetTool\"},{\"attributes\":{\"fill_alpha\":{\"value\":0.5},\"fill_color\":{\"value\":\"lightgrey\"},\"level\":\"overlay\",\"line_alpha\":{\"value\":1.0},\"line_color\":{\"value\":\"black\"},\"line_dash\":[4,4],\"line_width\":{\"value\":2},\"plot\":null,\"xs_units\":\"screen\",\"ys_units\":\"screen\"},\"id\":\"0c96353f-1220-4f5e-8032-935affb47194\",\"type\":\"PolyAnnotation\"},{\"attributes\":{\"source\":{\"id\":\"7fc4234b-6559-4fe3-b36c-5eb82ea557aa\",\"type\":\"ColumnDataSource\"}},\"id\":\"c2213600-72a3-464f-b491-ce51bbeb4056\",\"type\":\"CDSView\"},{\"attributes\":{\"source\":{\"id\":\"5a88f9fe-abbc-46cb-89cc-ce03e929828c\",\"type\":\"ColumnDataSource\"}},\"id\":\"a7c7b743-d111-4c1e-97ce-925986e5bd4a\",\"type\":\"CDSView\"},{\"attributes\":{\"bottom_units\":\"screen\",\"fill_alpha\":{\"value\":0.5},\"fill_color\":{\"value\":\"lightgrey\"},\"left_units\":\"screen\",\"level\":\"overlay\",\"line_alpha\":{\"value\":1.0},\"line_color\":{\"value\":\"black\"},\"line_dash\":[4,4],\"line_width\":{\"value\":2},\"plot\":null,\"render_mode\":\"css\",\"right_units\":\"screen\",\"top_units\":\"screen\"},\"id\":\"dc7e536f-d242-4c2e-b9d1-3b350ad07e96\",\"type\":\"BoxAnnotation\"},{\"attributes\":{},\"id\":\"c6293a82-f674-4e55-9950-74c13ab03185\",\"type\":\"LinearScale\"},{\"attributes\":{\"callback\":null},\"id\":\"1b277b37-f0f3-4958-a4dc-9d7df8edd4c8\",\"type\":\"DataRange1d\"},{\"attributes\":{},\"id\":\"69b32cfb-49b5-461f-a100-54d00369fc75\",\"type\":\"DatetimeTickFormatter\"},{\"attributes\":{},\"id\":\"2e5129eb-dfe5-4853-a583-1c0173120ed2\",\"type\":\"LinearScale\"},{\"attributes\":{\"days\":[1,15]},\"id\":\"e1ccc862-f7e6-4adc-9ce1-6064a8ddf461\",\"type\":\"DaysTicker\"},{\"attributes\":{\"base\":60,\"mantissas\":[1,2,5,10,15,20,30],\"max_interval\":1800000.0,\"min_interval\":1000.0,\"num_minor_ticks\":0},\"id\":\"2040e6f6-d317-4d94-b3b6-0b7293eb5b26\",\"type\":\"AdaptiveTicker\"},{\"attributes\":{\"data_source\":{\"id\":\"5a88f9fe-abbc-46cb-89cc-ce03e929828c\",\"type\":\"ColumnDataSource\"},\"glyph\":{\"id\":\"d4d35159-5b35-4638-80fc-db7c1085421a\",\"type\":\"Triangle\"},\"hover_glyph\":null,\"muted_glyph\":null,\"nonselection_glyph\":{\"id\":\"57240acc-f733-4b0f-8c0e-d39002c59f50\",\"type\":\"Triangle\"},\"selection_glyph\":null,\"view\":{\"id\":\"a7c7b743-d111-4c1e-97ce-925986e5bd4a\",\"type\":\"CDSView\"}},\"id\":\"c5e01e56-33f3-4df4-8d14-38ab9c2d73de\",\"type\":\"GlyphRenderer\"},{\"attributes\":{},\"id\":\"6a2bc52a-c869-465b-b7b5-31fe8357f873\",\"type\":\"BasicTickFormatter\"},{\"attributes\":{},\"id\":\"cb08949d-3703-4fbe-9bbd-edf28e3c7e85\",\"type\":\"BasicTicker\"},{\"attributes\":{\"days\":[1,15]},\"id\":\"5dafd42a-abef-4dad-89cd-6df10d7053c2\",\"type\":\"DaysTicker\"},{\"attributes\":{\"callback\":null},\"id\":\"5d6d4814-359f-4fee-bbf8-43db50b93beb\",\"type\":\"DataRange1d\"},{\"attributes\":{\"days\":[1,8,15,22]},\"id\":\"11bbd156-4c1a-494a-9007-4fd658dd5e93\",\"type\":\"DaysTicker\"},{\"attributes\":{\"children\":[{\"id\":\"be5f82db-9387-42f4-9c5c-35830e013b8b\",\"subtype\":\"Figure\",\"type\":\"Plot\"},{\"id\":\"7469b05e-2325-4b9f-98d9-bb3d7b3891f5\",\"subtype\":\"Figure\",\"type\":\"Plot\"}]},\"id\":\"31ad9309-4e1c-42f1-af56-396c2e46be9b\",\"type\":\"Row\"},{\"attributes\":{\"callback\":null,\"column_names\":[\"x\",\"y\"],\"data\":{\"x\":{\"__ndarray__\":\"/Knx0k1iYD/TTWIQAEztQOkmMQgATP1AdZMYBAD5BUF1kxgEAEwNQbpJDAKATxJBukkMAgD5FUG6SQwCgKIZQbpJDAIATB1B3SQGAcB6IEHdJAYBgE8iQd0kBgFAJCRB3SQGAQD5JUHdJAYBwM0nQd0kBgGAoilB3SQGAUB3K0HdJAYBAEwtQd0kBgHAIC9BbxKDAMB6MEFvEoMAIGUxQW8SgwCATzJBbxKDAOA5M0FvEoMAQCQ0QW8SgwCgDjVBbxKDAAD5NUFvEoMAYOM2QW8SgwDAzTdBbxKDACC4OEFvEoMAgKI5QW8SgwDgjDpBbxKDAEB3O0FvEoMAoGE8QW8SgwAATD1BbxKDAGA2PkFvEoMAwCA/QTeJQQCQBUBBN4lBAMB6QEE3iUEA8O9AQTeJQQAgZUFBN4lBAFDaQUE3iUEAgE9CQTeJQQCwxEJBN4lBAOA5Q0E3iUEAEK9DQTeJQQBAJERBN4lBAHCZREE3iUEAoA5FQTeJQQDQg0VBN4lBAAD5RUE3iUEAMG5GQTeJQQBg40ZBN4lBAJBYR0E3iUEAwM1HQTeJQQDwQkhBN4lBACC4SEE3iUEAUC1JQTeJQQCAoklBN4lBALAXSkE3iUEA4IxKQTeJQQAQAktBN4lBAEB3S0E3iUEAcOxLQTeJQQCgYUxBN4lBANDWTEE3iUEAAExNQTeJQQAwwU1BN4lBAGA2TkE3iUEAkKtOQTeJQQDAIE9BN4lBAPCVT0GcxCAAkAVQQZzEIAAoQFBBnMQgAMB6UEGcxCAAWLVQQZzEIADw71BBnMQgAIgqUUGcxCAAIGVRQZzEIAC4n1FBnMQgAFDaUUGcxCAA6BRSQZzEIACAT1JBnMQgABiKUkGcxCAAsMRSQZzEIABI/1JBnMQgAOA5U0GcxCAAeHRTQZzEIAAQr1NBnMQgAKjpU0GcxCAAQCRUQZzEIADYXlRBnMQgAHCZVEGcxCAACNRUQZzEIACgDlVBnMQgADhJVUGcxCAA0INVQZzEIABovlVBnMQgAAD5VUGcxCAAmDNWQZzEIAAwblZBnMQgAMioVkE=\",\"dtype\":\"float64\",\"shape\":[100]},\"y\":{\"__ndarray__\":\"mALbilnj3T/DeXiez5frP42RR+stZOc/XicuKdlI3T/kwxSJxgHYP6yka5czw9g/AI/6GS1auD9ItlauydS+P4CVS543en8/zkUvpJe02T+AgCl2W8twP+2SpM1FdO0/bQ9wiezE4z+Q6nU2GVilPxgV1x1mTss//D88Wkag4D9Q/lrVjiuvP6uIFwjenu8/0NQfzBAY3T8sjB51TVvhP0BhUssIkL4/LGlDlhgg1D+oYk1CwPHCP2dD5yaphuo/y4weHSXh7D/WkIPGRMPpP4Ioc7C0cuI/Ro9kq3pV4z/ieirueDfRP+zjhbtnJts/lPrfdJMe2j9LoEBOlozmPwAlkLkVlqI//G5paH8mzD91MPCzI6TiP0TP2giWme0/8mVMKWMI4T/4/DSIcJbiP3yVTZDSyMk/pX+6DxjF5j9cuOYmBGTZPxRqQtjm4+s/uHkVOczb5z94zwVCVWjQP0ZdHp59LOU/TIopWUCA0z+oNOopEHm5P14jSFt+3OU//g3Dis7x5D8yu6tnP+/ZP6DHmU9pnrk/NOBQjfNS4z+Ao+pJi2bTP3R8m0N2/us/vHkJTQVs2z8U733MJ7PUPxBhRINuBNw/MayZrofA5T+s8Np4N7LWPxApB71rvbk/DiAaFkhD6D/lEhuUVU/lP4Dk0+KPSuM/0AtY9Ol/6z9YV+O8bRzgPyVHlgeY8+E/yMVmvbu5zj9278kochnQPywmtteNMdg/S7MZuwhV4z/oDF1WhDfVPxwCr44V38Y/3d9nFXDj5z+AkPvDHeJ+P7K5/PGzZeU/IHop/VEFyT9bNssCCbDlP2eMcSkhkOg/FCxkv53qyz8YO/jN/hLHPxAtokeWH78/PLkiX4BK6j+aDpSiLpDfP2DGOE59yMc/WA9utscQ5j/uGP+1KzrfPymlsvU9Vuk/QAAN+abUzj+APmyeFbejP7tRdwIt1OM/SLKm0ePm2j9Mok6Xz/HdP6j5PdLr4uw/hy/CR79w6T/KTM9NIqnWPwpcrMkc8e4/8EGQrFEz4T+4XfiFzqvtPxQfBmS/7+k/HFwmRB/u2T8=\",\"dtype\":\"float64\",\"shape\":[100]}}},\"id\":\"7fc4234b-6559-4fe3-b36c-5eb82ea557aa\",\"type\":\"ColumnDataSource\"},{\"attributes\":{\"mantissas\":[1,2,5],\"max_interval\":500.0,\"num_minor_ticks\":0},\"id\":\"00c80972-09d0-4482-a8fd-3ec60ef05849\",\"type\":\"AdaptiveTicker\"},{\"attributes\":{\"base\":24,\"mantissas\":[1,2,4,6,8,12],\"max_interval\":43200000.0,\"min_interval\":3600000.0,\"num_minor_ticks\":0},\"id\":\"82c4c7bb-d85a-43d1-bba6-d4397d69e831\",\"type\":\"AdaptiveTicker\"},{\"attributes\":{\"base\":60,\"mantissas\":[1,2,5,10,15,20,30],\"max_interval\":1800000.0,\"min_interval\":1000.0,\"num_minor_ticks\":0},\"id\":\"1fc5cedc-79db-49cf-aa71-ff6f3c930ac1\",\"type\":\"AdaptiveTicker\"},{\"attributes\":{\"below\":[{\"id\":\"e1a20b74-f0c6-4370-a4e5-9caf03d2f14b\",\"type\":\"DatetimeAxis\"}],\"left\":[{\"id\":\"02fe20ac-b90b-4d7d-89b7-b1a758ae0cc8\",\"type\":\"LinearAxis\"}],\"plot_height\":250,\"plot_width\":450,\"renderers\":[{\"id\":\"e1a20b74-f0c6-4370-a4e5-9caf03d2f14b\",\"type\":\"DatetimeAxis\"},{\"id\":\"43c6856d-7789-4320-9719-6e5699416b6c\",\"type\":\"Grid\"},{\"id\":\"02fe20ac-b90b-4d7d-89b7-b1a758ae0cc8\",\"type\":\"LinearAxis\"},{\"id\":\"03eb0fa1-37fb-4438-8b6d-4fa0be0bb176\",\"type\":\"Grid\"},{\"id\":\"cfe912a2-9e36-4db0-b7b9-e94aa63fd01b\",\"type\":\"BoxAnnotation\"},{\"id\":\"f84a8a85-74a3-4a1c-8cbf-048ffd79da04\",\"type\":\"BoxAnnotation\"},{\"id\":\"499bf35c-4f56-47c8-aa8e-c49cc97e4bcf\",\"type\":\"PolyAnnotation\"},{\"id\":\"27d645e3-8c5e-4e95-9012-5cdf55dd9ac4\",\"type\":\"GlyphRenderer\"}],\"title\":{\"id\":\"d3b0ae78-73c9-4cf4-92be-7fc5f4216b10\",\"type\":\"Title\"},\"toolbar\":{\"id\":\"7d938a0f-93f8-4f70-baad-0e2ac406084a\",\"type\":\"Toolbar\"},\"toolbar_location\":null,\"x_range\":{\"id\":\"5d6d4814-359f-4fee-bbf8-43db50b93beb\",\"type\":\"DataRange1d\"},\"x_scale\":{\"id\":\"5bc4222d-55a0-4c17-a004-5b84b2d2dcdc\",\"type\":\"LinearScale\"},\"y_range\":{\"id\":\"1b277b37-f0f3-4958-a4dc-9d7df8edd4c8\",\"type\":\"DataRange1d\"},\"y_scale\":{\"id\":\"51d2074e-1bda-4895-a726-8cbc65f96666\",\"type\":\"LinearScale\"}},\"id\":\"be5f82db-9387-42f4-9c5c-35830e013b8b\",\"subtype\":\"Figure\",\"type\":\"Plot\"},{\"attributes\":{\"days\":[1,2,3,4,5,6,7,8,9,10,11,12,13,14,15,16,17,18,19,20,21,22,23,24,25,26,27,28,29,30,31]},\"id\":\"0b2295e2-9df2-4a8d-9a40-4cfaf5a317c3\",\"type\":\"DaysTicker\"},{\"attributes\":{\"months\":[0,1,2,3,4,5,6,7,8,9,10,11]},\"id\":\"29b87905-1959-4a82-8ce7-43fdf0722473\",\"type\":\"MonthsTicker\"},{\"attributes\":{\"days\":[1,4,7,10,13,16,19,22,25,28]},\"id\":\"72c3b89a-bbdc-4503-af8e-6dfee4200beb\",\"type\":\"DaysTicker\"},{\"attributes\":{\"active_drag\":\"auto\",\"active_inspect\":\"auto\",\"active_scroll\":\"auto\",\"active_tap\":\"auto\",\"tools\":[{\"id\":\"23ebed97-1315-4cc7-8f35-fd268da9616b\",\"type\":\"PanTool\"},{\"id\":\"73e011f0-e23e-4504-9875-a263080c8e91\",\"type\":\"WheelZoomTool\"},{\"id\":\"58a123d5-4d6b-45a7-9f31-a4adad8b2bef\",\"type\":\"BoxZoomTool\"},{\"id\":\"a007e8c7-4fcf-4c4e-b7a4-aceb510aa318\",\"type\":\"BoxSelectTool\"},{\"id\":\"269c6071-4a1b-487d-9cd3-65eb5e51ae30\",\"type\":\"LassoSelectTool\"},{\"id\":\"fd50e287-133f-4e52-b14a-e22d08c55407\",\"type\":\"ResetTool\"}]},\"id\":\"7d938a0f-93f8-4f70-baad-0e2ac406084a\",\"type\":\"Toolbar\"},{\"attributes\":{\"months\":[0,1,2,3,4,5,6,7,8,9,10,11]},\"id\":\"5df10d4b-5dc2-4181-b895-e1fe5a301e85\",\"type\":\"MonthsTicker\"},{\"attributes\":{\"months\":[0,2,4,6,8,10]},\"id\":\"d8ce5d99-2dd2-4097-af8c-f86184bf8d98\",\"type\":\"MonthsTicker\"},{\"attributes\":{},\"id\":\"51d2074e-1bda-4895-a726-8cbc65f96666\",\"type\":\"LinearScale\"},{\"attributes\":{\"months\":[0,4,8]},\"id\":\"fd0c252e-9970-4097-8a60-a570e1ea54c9\",\"type\":\"MonthsTicker\"},{\"attributes\":{\"months\":[0,6]},\"id\":\"7f684bb2-0c8e-4077-bbb9-b07a2369dd16\",\"type\":\"MonthsTicker\"},{\"attributes\":{},\"id\":\"5bc4222d-55a0-4c17-a004-5b84b2d2dcdc\",\"type\":\"LinearScale\"},{\"attributes\":{},\"id\":\"206b9136-5db8-43a1-9d6a-14b798b849e5\",\"type\":\"YearsTicker\"},{\"attributes\":{\"days\":[1,4,7,10,13,16,19,22,25,28]},\"id\":\"cf76bf77-0215-4678-abdf-63b4f856b56f\",\"type\":\"DaysTicker\"},{\"attributes\":{\"tools\":[{\"id\":\"23ebed97-1315-4cc7-8f35-fd268da9616b\",\"type\":\"PanTool\"},{\"id\":\"73e011f0-e23e-4504-9875-a263080c8e91\",\"type\":\"WheelZoomTool\"},{\"id\":\"58a123d5-4d6b-45a7-9f31-a4adad8b2bef\",\"type\":\"BoxZoomTool\"},{\"id\":\"a007e8c7-4fcf-4c4e-b7a4-aceb510aa318\",\"type\":\"BoxSelectTool\"},{\"id\":\"269c6071-4a1b-487d-9cd3-65eb5e51ae30\",\"type\":\"LassoSelectTool\"},{\"id\":\"fd50e287-133f-4e52-b14a-e22d08c55407\",\"type\":\"ResetTool\"},{\"id\":\"d7c4d58b-c067-4a0d-922f-3d74ab8cd162\",\"type\":\"PanTool\"},{\"id\":\"e9312824-ab8b-422e-acbb-17bfd666552a\",\"type\":\"WheelZoomTool\"},{\"id\":\"acb28f22-e120-423c-a28a-124716e013e9\",\"type\":\"BoxZoomTool\"},{\"id\":\"4a5e6dda-3b99-4c38-8d35-04d2d1dd0427\",\"type\":\"BoxSelectTool\"},{\"id\":\"fc562b6d-1427-4a44-a813-4a78287d8d6b\",\"type\":\"LassoSelectTool\"},{\"id\":\"aa3e7555-093d-4ea1-b990-727b888a0a91\",\"type\":\"ResetTool\"}]},\"id\":\"5f9b3f4a-5e51-4468-9d24-2d3add553756\",\"type\":\"ProxyToolbar\"},{\"attributes\":{\"formatter\":{\"id\":\"d93ff5d3-2962-4c16-866a-0e914e1fb8db\",\"type\":\"DatetimeTickFormatter\"},\"plot\":{\"id\":\"be5f82db-9387-42f4-9c5c-35830e013b8b\",\"subtype\":\"Figure\",\"type\":\"Plot\"},\"ticker\":{\"id\":\"461ec7d1-e164-4248-b8d3-ed2b063c77ba\",\"type\":\"DatetimeTicker\"}},\"id\":\"e1a20b74-f0c6-4370-a4e5-9caf03d2f14b\",\"type\":\"DatetimeAxis\"},{\"attributes\":{\"toolbar\":{\"id\":\"5f9b3f4a-5e51-4468-9d24-2d3add553756\",\"type\":\"ProxyToolbar\"},\"toolbar_location\":\"above\"},\"id\":\"ebda3a5a-d838-4457-b097-d2fd145c25a3\",\"type\":\"ToolbarBox\"},{\"attributes\":{},\"id\":\"23ebed97-1315-4cc7-8f35-fd268da9616b\",\"type\":\"PanTool\"},{\"attributes\":{\"children\":[{\"id\":\"ebda3a5a-d838-4457-b097-d2fd145c25a3\",\"type\":\"ToolbarBox\"},{\"id\":\"ec2b55b6-26c6-4f08-8951-1699fd409452\",\"type\":\"Column\"}]},\"id\":\"8141c862-66e7-4541-a019-aedbe739c14b\",\"type\":\"Column\"},{\"attributes\":{\"below\":[{\"id\":\"acece282-be3d-44d9-af07-0de9e25f69d3\",\"type\":\"DatetimeAxis\"}],\"left\":[{\"id\":\"a575e288-ef22-4595-99bd-4d09ee68d895\",\"type\":\"LinearAxis\"}],\"plot_height\":250,\"plot_width\":450,\"renderers\":[{\"id\":\"acece282-be3d-44d9-af07-0de9e25f69d3\",\"type\":\"DatetimeAxis\"},{\"id\":\"4a80556a-16c1-4784-bcd2-f54b563541a1\",\"type\":\"Grid\"},{\"id\":\"a575e288-ef22-4595-99bd-4d09ee68d895\",\"type\":\"LinearAxis\"},{\"id\":\"b41da41e-8e2a-4083-bb8c-6fd59dd48aa6\",\"type\":\"Grid\"},{\"id\":\"410207f5-decb-4b01-8412-63fabe2de4c6\",\"type\":\"BoxAnnotation\"},{\"id\":\"dc7e536f-d242-4c2e-b9d1-3b350ad07e96\",\"type\":\"BoxAnnotation\"},{\"id\":\"0c96353f-1220-4f5e-8032-935affb47194\",\"type\":\"PolyAnnotation\"},{\"id\":\"c5e01e56-33f3-4df4-8d14-38ab9c2d73de\",\"type\":\"GlyphRenderer\"}],\"title\":{\"id\":\"81f3dc36-cf78-4d20-aa6e-a40a20244368\",\"type\":\"Title\"},\"toolbar\":{\"id\":\"0dd7da91-e8a1-4a36-9b85-b2a0fe6caf5d\",\"type\":\"Toolbar\"},\"toolbar_location\":null,\"x_range\":{\"id\":\"5d6d4814-359f-4fee-bbf8-43db50b93beb\",\"type\":\"DataRange1d\"},\"x_scale\":{\"id\":\"2e5129eb-dfe5-4853-a583-1c0173120ed2\",\"type\":\"LinearScale\"},\"y_range\":{\"id\":\"1b277b37-f0f3-4958-a4dc-9d7df8edd4c8\",\"type\":\"DataRange1d\"},\"y_scale\":{\"id\":\"c6293a82-f674-4e55-9950-74c13ab03185\",\"type\":\"LinearScale\"}},\"id\":\"7469b05e-2325-4b9f-98d9-bb3d7b3891f5\",\"subtype\":\"Figure\",\"type\":\"Plot\"},{\"attributes\":{\"formatter\":{\"id\":\"69b32cfb-49b5-461f-a100-54d00369fc75\",\"type\":\"DatetimeTickFormatter\"},\"plot\":{\"id\":\"7469b05e-2325-4b9f-98d9-bb3d7b3891f5\",\"subtype\":\"Figure\",\"type\":\"Plot\"},\"ticker\":{\"id\":\"67684091-d08c-4cd6-b37c-926a325a77bb\",\"type\":\"DatetimeTicker\"}},\"id\":\"acece282-be3d-44d9-af07-0de9e25f69d3\",\"type\":\"DatetimeAxis\"},{\"attributes\":{},\"id\":\"868a3b2a-cce0-4833-8021-99544fe90c44\",\"type\":\"BasicTickFormatter\"},{\"attributes\":{},\"id\":\"73e011f0-e23e-4504-9875-a263080c8e91\",\"type\":\"WheelZoomTool\"},{\"attributes\":{\"formatter\":{\"id\":\"6a2bc52a-c869-465b-b7b5-31fe8357f873\",\"type\":\"BasicTickFormatter\"},\"plot\":{\"id\":\"7469b05e-2325-4b9f-98d9-bb3d7b3891f5\",\"subtype\":\"Figure\",\"type\":\"Plot\"},\"ticker\":{\"id\":\"4bed0676-9d5f-4a08-b91d-abfd2cb72361\",\"type\":\"BasicTicker\"}},\"id\":\"a575e288-ef22-4595-99bd-4d09ee68d895\",\"type\":\"LinearAxis\"},{\"attributes\":{\"overlay\":{\"id\":\"cfe912a2-9e36-4db0-b7b9-e94aa63fd01b\",\"type\":\"BoxAnnotation\"}},\"id\":\"58a123d5-4d6b-45a7-9f31-a4adad8b2bef\",\"type\":\"BoxZoomTool\"},{\"attributes\":{},\"id\":\"75f3db26-7755-439a-842f-5d002f7154a2\",\"type\":\"YearsTicker\"},{\"attributes\":{\"fill_alpha\":{\"value\":0.5},\"fill_color\":{\"value\":\"lightgrey\"},\"level\":\"overlay\",\"line_alpha\":{\"value\":1.0},\"line_color\":{\"value\":\"black\"},\"line_dash\":[4,4],\"line_width\":{\"value\":2},\"plot\":null,\"xs_units\":\"screen\",\"ys_units\":\"screen\"},\"id\":\"499bf35c-4f56-47c8-aa8e-c49cc97e4bcf\",\"type\":\"PolyAnnotation\"},{\"attributes\":{\"plot\":null,\"text\":\"Buys and sells\"},\"id\":\"81f3dc36-cf78-4d20-aa6e-a40a20244368\",\"type\":\"Title\"},{\"attributes\":{\"callback\":null,\"overlay\":{\"id\":\"499bf35c-4f56-47c8-aa8e-c49cc97e4bcf\",\"type\":\"PolyAnnotation\"}},\"id\":\"269c6071-4a1b-487d-9cd3-65eb5e51ae30\",\"type\":\"LassoSelectTool\"},{\"attributes\":{\"days\":[1,2,3,4,5,6,7,8,9,10,11,12,13,14,15,16,17,18,19,20,21,22,23,24,25,26,27,28,29,30,31]},\"id\":\"4ef1c3d2-748d-4983-b806-15679ff9458c\",\"type\":\"DaysTicker\"},{\"attributes\":{\"active_drag\":\"auto\",\"active_inspect\":\"auto\",\"active_scroll\":\"auto\",\"active_tap\":\"auto\",\"tools\":[{\"id\":\"d7c4d58b-c067-4a0d-922f-3d74ab8cd162\",\"type\":\"PanTool\"},{\"id\":\"e9312824-ab8b-422e-acbb-17bfd666552a\",\"type\":\"WheelZoomTool\"},{\"id\":\"acb28f22-e120-423c-a28a-124716e013e9\",\"type\":\"BoxZoomTool\"},{\"id\":\"4a5e6dda-3b99-4c38-8d35-04d2d1dd0427\",\"type\":\"BoxSelectTool\"},{\"id\":\"fc562b6d-1427-4a44-a813-4a78287d8d6b\",\"type\":\"LassoSelectTool\"},{\"id\":\"aa3e7555-093d-4ea1-b990-727b888a0a91\",\"type\":\"ResetTool\"}]},\"id\":\"0dd7da91-e8a1-4a36-9b85-b2a0fe6caf5d\",\"type\":\"Toolbar\"},{\"attributes\":{\"months\":[0,2,4,6,8,10]},\"id\":\"f98541af-8ad4-4eb4-b2fc-7cffbdba6f5a\",\"type\":\"MonthsTicker\"},{\"attributes\":{\"months\":[0,6]},\"id\":\"bea4e4c0-a7ed-4b9b-bab5-faa1b7e2e660\",\"type\":\"MonthsTicker\"},{\"attributes\":{\"plot\":null,\"text\":\"Buys and sells\"},\"id\":\"d3b0ae78-73c9-4cf4-92be-7fc5f4216b10\",\"type\":\"Title\"},{\"attributes\":{\"callback\":null,\"column_names\":[\"x\",\"y\"],\"data\":{\"x\":{\"__ndarray__\":\"/Knx0k1iYD/TTWIQAEztQOkmMQgATP1AdZMYBAD5BUF1kxgEAEwNQbpJDAKATxJBukkMAgD5FUG6SQwCgKIZQbpJDAIATB1B3SQGAcB6IEHdJAYBgE8iQd0kBgFAJCRB3SQGAQD5JUHdJAYBwM0nQd0kBgGAoilB3SQGAUB3K0HdJAYBAEwtQd0kBgHAIC9BbxKDAMB6MEFvEoMAIGUxQW8SgwCATzJBbxKDAOA5M0FvEoMAQCQ0QW8SgwCgDjVBbxKDAAD5NUFvEoMAYOM2QW8SgwDAzTdBbxKDACC4OEFvEoMAgKI5QW8SgwDgjDpBbxKDAEB3O0FvEoMAoGE8QW8SgwAATD1BbxKDAGA2PkFvEoMAwCA/QTeJQQCQBUBBN4lBAMB6QEE3iUEA8O9AQTeJQQAgZUFBN4lBAFDaQUE3iUEAgE9CQTeJQQCwxEJBN4lBAOA5Q0E3iUEAEK9DQTeJQQBAJERBN4lBAHCZREE3iUEAoA5FQTeJQQDQg0VBN4lBAAD5RUE3iUEAMG5GQTeJQQBg40ZBN4lBAJBYR0E3iUEAwM1HQTeJQQDwQkhBN4lBACC4SEE3iUEAUC1JQTeJQQCAoklBN4lBALAXSkE3iUEA4IxKQTeJQQAQAktBN4lBAEB3S0E3iUEAcOxLQTeJQQCgYUxBN4lBANDWTEE3iUEAAExNQTeJQQAwwU1BN4lBAGA2TkE3iUEAkKtOQTeJQQDAIE9BN4lBAPCVT0GcxCAAkAVQQZzEIAAoQFBBnMQgAMB6UEGcxCAAWLVQQZzEIADw71BBnMQgAIgqUUGcxCAAIGVRQZzEIAC4n1FBnMQgAFDaUUGcxCAA6BRSQZzEIACAT1JBnMQgABiKUkGcxCAAsMRSQZzEIABI/1JBnMQgAOA5U0GcxCAAeHRTQZzEIAAQr1NBnMQgAKjpU0GcxCAAQCRUQZzEIADYXlRBnMQgAHCZVEGcxCAACNRUQZzEIACgDlVBnMQgADhJVUGcxCAA0INVQZzEIABovlVBnMQgAAD5VUGcxCAAmDNWQZzEIAAwblZBnMQgAMioVkE=\",\"dtype\":\"float64\",\"shape\":[100]},\"y\":{\"__ndarray__\":\"MA3U1LN75D/uioqvJEfoP97e+yx0BOc/6IVg+YZk5D9iHcPH3ZnjP+aLtlbhtuM/w8tfF8jp4D+jc1bD+ifhP/PGK+7iEuA/RRcHvxbb4z+05UadEwrgP3qS5PAU1ug/oQQI9kbu5T9mnDisc2bgP8hUo6hHDOI//9/e5+H85D/458zgnZXgP5pCOs91fOk/hvk3uDVd5D+nwyKj/TTlP9kW07pmJeE/+oLwfNAE4z8zNCw4u2vhP5/63r4y9ec/cF28iPGp6D8NRfShlLrnP43yiM7PiOU/lcQ3ANjM5T88X4bwHpXiP2MVVI+PEuQ/YzK7hPzq4z9KYxOxxsPmPxjnrc42WeA/uU5uwXwc4j9W25RPpJflP5SkQZxG4eg/YuuWvx0c5T9KstwoiJPlP2me0soP7+E/flkea7rU5j90aG+fAM/jP6DsE3T4Xeg/t9fs3VYo5z+FRefJDHbiP2KCb68lWuY/JTvGc9bs4j8tlcU0ivTgP5wK/LTyjuY/MoQ6w4pI5j97wlkc4+PjP3z3yL/w9eA/Q0OY3RXM5T9TZRZL++jiPyJye0fwZeg/qTiOywAd5D+psN+R3xrjP/Z0fWDdM+Q/qLPHGo+G5j9N1yBSiGfjP71EsHAa9+A/atYHbWJH5z+rhW6smWTmP/Mq2ZCRyeU/vjbnYvk/6D+aABEfVNXkP4tI4JutYuU/b+iaFO5N4j9SSh6GN2riPyDs9HkIoeM//ei60bXM5T+8jidAui7jP8K55p0ht+E/9o8FoKEq5z/wlnWrhxLgP+hqZZVPa+Y/KekvJmbg4T8bXaNNnIHmPx+qO1lwXuc/G1D0B/8X4j8InnJPBrvhP7Hh4tXIKuE/LNHwgibj5z+XaMn+BrzkP0d1d/+iyOE/zjdUUKKe5j/wdhkoIK/kP4wxT2Pfmec/BWBH7PJP4j9f1F4Bol7gPx4yik3a8uU/8c2lkggJ5D++/n4j333kP+bKRfJ5qug/qHTt+9Kh5z8e5auLK2bjPza1s29VSOk/yBP45v4o5T+3tf30veboPyDWAZ7sx+c/0Y3S47fj4z8=\",\"dtype\":\"float64\",\"shape\":[100]}}},\"id\":\"5a88f9fe-abbc-46cb-89cc-ce03e929828c\",\"type\":\"ColumnDataSource\"},{\"attributes\":{\"children\":[{\"id\":\"31ad9309-4e1c-42f1-af56-396c2e46be9b\",\"type\":\"Row\"}]},\"id\":\"ec2b55b6-26c6-4f08-8951-1699fd409452\",\"type\":\"Column\"},{\"attributes\":{\"num_minor_ticks\":5,\"tickers\":[{\"id\":\"877ff0a4-8035-485d-ae07-1f16c3b99518\",\"type\":\"AdaptiveTicker\"},{\"id\":\"2040e6f6-d317-4d94-b3b6-0b7293eb5b26\",\"type\":\"AdaptiveTicker\"},{\"id\":\"82c4c7bb-d85a-43d1-bba6-d4397d69e831\",\"type\":\"AdaptiveTicker\"},{\"id\":\"0b2295e2-9df2-4a8d-9a40-4cfaf5a317c3\",\"type\":\"DaysTicker\"},{\"id\":\"72c3b89a-bbdc-4503-af8e-6dfee4200beb\",\"type\":\"DaysTicker\"},{\"id\":\"11bbd156-4c1a-494a-9007-4fd658dd5e93\",\"type\":\"DaysTicker\"},{\"id\":\"5dafd42a-abef-4dad-89cd-6df10d7053c2\",\"type\":\"DaysTicker\"},{\"id\":\"5df10d4b-5dc2-4181-b895-e1fe5a301e85\",\"type\":\"MonthsTicker\"},{\"id\":\"d8ce5d99-2dd2-4097-af8c-f86184bf8d98\",\"type\":\"MonthsTicker\"},{\"id\":\"fd0c252e-9970-4097-8a60-a570e1ea54c9\",\"type\":\"MonthsTicker\"},{\"id\":\"7f684bb2-0c8e-4077-bbb9-b07a2369dd16\",\"type\":\"MonthsTicker\"},{\"id\":\"206b9136-5db8-43a1-9d6a-14b798b849e5\",\"type\":\"YearsTicker\"}]},\"id\":\"67684091-d08c-4cd6-b37c-926a325a77bb\",\"type\":\"DatetimeTicker\"},{\"attributes\":{\"dimension\":1,\"plot\":{\"id\":\"be5f82db-9387-42f4-9c5c-35830e013b8b\",\"subtype\":\"Figure\",\"type\":\"Plot\"},\"ticker\":{\"id\":\"cb08949d-3703-4fbe-9bbd-edf28e3c7e85\",\"type\":\"BasicTicker\"}},\"id\":\"03eb0fa1-37fb-4438-8b6d-4fa0be0bb176\",\"type\":\"Grid\"},{\"attributes\":{\"base\":24,\"mantissas\":[1,2,4,6,8,12],\"max_interval\":43200000.0,\"min_interval\":3600000.0,\"num_minor_ticks\":0},\"id\":\"a4581086-8595-4422-8591-b2111b25ff21\",\"type\":\"AdaptiveTicker\"},{\"attributes\":{\"bottom_units\":\"screen\",\"fill_alpha\":{\"value\":0.5},\"fill_color\":{\"value\":\"lightgrey\"},\"left_units\":\"screen\",\"level\":\"overlay\",\"line_alpha\":{\"value\":1.0},\"line_color\":{\"value\":\"black\"},\"line_dash\":[4,4],\"line_width\":{\"value\":2},\"plot\":null,\"render_mode\":\"css\",\"right_units\":\"screen\",\"top_units\":\"screen\"},\"id\":\"cfe912a2-9e36-4db0-b7b9-e94aa63fd01b\",\"type\":\"BoxAnnotation\"},{\"attributes\":{},\"id\":\"d93ff5d3-2962-4c16-866a-0e914e1fb8db\",\"type\":\"DatetimeTickFormatter\"},{\"attributes\":{\"fill_color\":{\"value\":\"green\"},\"line_color\":{\"value\":\"green\"},\"x\":{\"field\":\"x\"},\"y\":{\"field\":\"y\"}},\"id\":\"6cd919c8-da1f-4d61-9ce0-0f7820ffbdcc\",\"type\":\"Triangle\"},{\"attributes\":{},\"id\":\"fd50e287-133f-4e52-b14a-e22d08c55407\",\"type\":\"ResetTool\"},{\"attributes\":{\"formatter\":{\"id\":\"868a3b2a-cce0-4833-8021-99544fe90c44\",\"type\":\"BasicTickFormatter\"},\"plot\":{\"id\":\"be5f82db-9387-42f4-9c5c-35830e013b8b\",\"subtype\":\"Figure\",\"type\":\"Plot\"},\"ticker\":{\"id\":\"cb08949d-3703-4fbe-9bbd-edf28e3c7e85\",\"type\":\"BasicTicker\"}},\"id\":\"02fe20ac-b90b-4d7d-89b7-b1a758ae0cc8\",\"type\":\"LinearAxis\"},{\"attributes\":{\"num_minor_ticks\":5,\"tickers\":[{\"id\":\"00c80972-09d0-4482-a8fd-3ec60ef05849\",\"type\":\"AdaptiveTicker\"},{\"id\":\"1fc5cedc-79db-49cf-aa71-ff6f3c930ac1\",\"type\":\"AdaptiveTicker\"},{\"id\":\"a4581086-8595-4422-8591-b2111b25ff21\",\"type\":\"AdaptiveTicker\"},{\"id\":\"4ef1c3d2-748d-4983-b806-15679ff9458c\",\"type\":\"DaysTicker\"},{\"id\":\"cf76bf77-0215-4678-abdf-63b4f856b56f\",\"type\":\"DaysTicker\"},{\"id\":\"2f284dcd-5989-4319-b591-fe75d9f43a4b\",\"type\":\"DaysTicker\"},{\"id\":\"e1ccc862-f7e6-4adc-9ce1-6064a8ddf461\",\"type\":\"DaysTicker\"},{\"id\":\"29b87905-1959-4a82-8ce7-43fdf0722473\",\"type\":\"MonthsTicker\"},{\"id\":\"f98541af-8ad4-4eb4-b2fc-7cffbdba6f5a\",\"type\":\"MonthsTicker\"},{\"id\":\"19def236-c4c2-4891-8b66-299d18aac960\",\"type\":\"MonthsTicker\"},{\"id\":\"bea4e4c0-a7ed-4b9b-bab5-faa1b7e2e660\",\"type\":\"MonthsTicker\"},{\"id\":\"75f3db26-7755-439a-842f-5d002f7154a2\",\"type\":\"YearsTicker\"}]},\"id\":\"461ec7d1-e164-4248-b8d3-ed2b063c77ba\",\"type\":\"DatetimeTicker\"},{\"attributes\":{\"fill_alpha\":{\"value\":0.1},\"fill_color\":{\"value\":\"#1f77b4\"},\"line_alpha\":{\"value\":0.1},\"line_color\":{\"value\":\"#1f77b4\"},\"x\":{\"field\":\"x\"},\"y\":{\"field\":\"y\"}},\"id\":\"89ff5c46-58cd-4ac1-888d-e5fd75dc80fe\",\"type\":\"Triangle\"},{\"attributes\":{\"bottom_units\":\"screen\",\"fill_alpha\":{\"value\":0.5},\"fill_color\":{\"value\":\"lightgrey\"},\"left_units\":\"screen\",\"level\":\"overlay\",\"line_alpha\":{\"value\":1.0},\"line_color\":{\"value\":\"black\"},\"line_dash\":[4,4],\"line_width\":{\"value\":2},\"plot\":null,\"render_mode\":\"css\",\"right_units\":\"screen\",\"top_units\":\"screen\"},\"id\":\"f84a8a85-74a3-4a1c-8cbf-048ffd79da04\",\"type\":\"BoxAnnotation\"},{\"attributes\":{\"plot\":{\"id\":\"7469b05e-2325-4b9f-98d9-bb3d7b3891f5\",\"subtype\":\"Figure\",\"type\":\"Plot\"},\"ticker\":{\"id\":\"67684091-d08c-4cd6-b37c-926a325a77bb\",\"type\":\"DatetimeTicker\"}},\"id\":\"4a80556a-16c1-4784-bcd2-f54b563541a1\",\"type\":\"Grid\"},{\"attributes\":{\"data_source\":{\"id\":\"7fc4234b-6559-4fe3-b36c-5eb82ea557aa\",\"type\":\"ColumnDataSource\"},\"glyph\":{\"id\":\"6cd919c8-da1f-4d61-9ce0-0f7820ffbdcc\",\"type\":\"Triangle\"},\"hover_glyph\":null,\"muted_glyph\":null,\"nonselection_glyph\":{\"id\":\"89ff5c46-58cd-4ac1-888d-e5fd75dc80fe\",\"type\":\"Triangle\"},\"selection_glyph\":null,\"view\":{\"id\":\"c2213600-72a3-464f-b491-ce51bbeb4056\",\"type\":\"CDSView\"}},\"id\":\"27d645e3-8c5e-4e95-9012-5cdf55dd9ac4\",\"type\":\"GlyphRenderer\"}],\"root_ids\":[\"8141c862-66e7-4541-a019-aedbe739c14b\"]},\"title\":\"Bokeh Application\",\"version\":\"0.12.14\"}};\n",
       "  var render_items = [{\"docid\":\"93fd2de9-d39a-4892-9bbb-29535641e7f3\",\"elementid\":\"6fc208b0-8bfa-4958-8d0b-c70b78953c13\",\"modelid\":\"8141c862-66e7-4541-a019-aedbe739c14b\"}];\n",
       "  root.Bokeh.embed.embed_items_notebook(docs_json, render_items);\n",
       "\n",
       "  }\n",
       "  if (root.Bokeh !== undefined) {\n",
       "    embed_document(root);\n",
       "  } else {\n",
       "    var attempts = 0;\n",
       "    var timer = setInterval(function(root) {\n",
       "      if (root.Bokeh !== undefined) {\n",
       "        embed_document(root);\n",
       "        clearInterval(timer);\n",
       "      }\n",
       "      attempts++;\n",
       "      if (attempts > 100) {\n",
       "        console.log(\"Bokeh: ERROR: Unable to run BokehJS code because BokehJS library is missing\")\n",
       "        clearInterval(timer);\n",
       "      }\n",
       "    }, 10, root)\n",
       "  }\n",
       "})(window);"
      ],
      "application/vnd.bokehjs_exec.v0+json": ""
     },
     "metadata": {
      "application/vnd.bokehjs_exec.v0+json": {
       "id": "8141c862-66e7-4541-a019-aedbe739c14b"
      }
     },
     "output_type": "display_data"
    }
   ],
   "source": [
    "TOOLS=\"pan,wheel_zoom,box_zoom,box_select,lasso_select,reset\"\n",
    "y = np.random.random(100)\n",
    "x = np.arange(len(y))\n",
    "p1 = bp.figure(width=450,height=250,title='Buys and sells',x_axis_type='datetime'\n",
    "               ,tools=TOOLS)\n",
    "p1.triangle(date,y, color='green')\n",
    "\n",
    "p2 = bp.figure(width=450, height=250, title='Buys and sells',x_axis_type='datetime'\n",
    "               ,tools=TOOLS, x_range=p1.x_range, y_range=p1.y_range)\n",
    "p2.triangle(date,y*.3+0.5, color='red')\n",
    "\n",
    "bp.show(gridplot([[p1,p2]]))"
   ]
  },
  {
   "cell_type": "code",
   "execution_count": null,
   "metadata": {
    "collapsed": true
   },
   "outputs": [],
   "source": []
  },
  {
   "cell_type": "code",
   "execution_count": null,
   "metadata": {
    "collapsed": true
   },
   "outputs": [],
   "source": []
  },
  {
   "cell_type": "code",
   "execution_count": null,
   "metadata": {
    "collapsed": true
   },
   "outputs": [],
   "source": []
  },
  {
   "cell_type": "code",
   "execution_count": null,
   "metadata": {
    "collapsed": true
   },
   "outputs": [],
   "source": []
  },
  {
   "cell_type": "code",
   "execution_count": 6,
   "metadata": {},
   "outputs": [
    {
     "data": {
      "text/html": [
       "<div style=\"display: table;\"><div style=\"display: table-row;\"><div style=\"display: table-cell;\"><b title=\"bokeh.models.renderers.GlyphRenderer\">GlyphRenderer</b>(</div><div style=\"display: table-cell;\">id&nbsp;=&nbsp;'88d6f6ea-644e-499c-a003-9478388e10c6', <span id=\"23a2d5b3-41e2-49fc-b5c5-3305f87acb3d\" style=\"cursor: pointer;\">&hellip;)</span></div></div><div class=\"4df5e384-ac82-4d69-9433-4dca8377a1c8\" style=\"display: none;\"><div style=\"display: table-cell;\"></div><div style=\"display: table-cell;\">data_source&nbsp;=&nbsp;ColumnDataSource(id='cfc6c411-7b0f-4ffc-8129-d3352d254e8e', ...),</div></div><div class=\"4df5e384-ac82-4d69-9433-4dca8377a1c8\" style=\"display: none;\"><div style=\"display: table-cell;\"></div><div style=\"display: table-cell;\">glyph&nbsp;=&nbsp;Quad(id='03302ac2-60ec-42e9-ac91-5027b24ba4e5', ...),</div></div><div class=\"4df5e384-ac82-4d69-9433-4dca8377a1c8\" style=\"display: none;\"><div style=\"display: table-cell;\"></div><div style=\"display: table-cell;\">hover_glyph&nbsp;=&nbsp;None,</div></div><div class=\"4df5e384-ac82-4d69-9433-4dca8377a1c8\" style=\"display: none;\"><div style=\"display: table-cell;\"></div><div style=\"display: table-cell;\">js_event_callbacks&nbsp;=&nbsp;{},</div></div><div class=\"4df5e384-ac82-4d69-9433-4dca8377a1c8\" style=\"display: none;\"><div style=\"display: table-cell;\"></div><div style=\"display: table-cell;\">js_property_callbacks&nbsp;=&nbsp;{},</div></div><div class=\"4df5e384-ac82-4d69-9433-4dca8377a1c8\" style=\"display: none;\"><div style=\"display: table-cell;\"></div><div style=\"display: table-cell;\">level&nbsp;=&nbsp;'glyph',</div></div><div class=\"4df5e384-ac82-4d69-9433-4dca8377a1c8\" style=\"display: none;\"><div style=\"display: table-cell;\"></div><div style=\"display: table-cell;\">muted&nbsp;=&nbsp;False,</div></div><div class=\"4df5e384-ac82-4d69-9433-4dca8377a1c8\" style=\"display: none;\"><div style=\"display: table-cell;\"></div><div style=\"display: table-cell;\">muted_glyph&nbsp;=&nbsp;None,</div></div><div class=\"4df5e384-ac82-4d69-9433-4dca8377a1c8\" style=\"display: none;\"><div style=\"display: table-cell;\"></div><div style=\"display: table-cell;\">name&nbsp;=&nbsp;None,</div></div><div class=\"4df5e384-ac82-4d69-9433-4dca8377a1c8\" style=\"display: none;\"><div style=\"display: table-cell;\"></div><div style=\"display: table-cell;\">nonselection_glyph&nbsp;=&nbsp;Quad(id='a4cc7d57-2b29-4c40-b700-2c7344268cb6', ...),</div></div><div class=\"4df5e384-ac82-4d69-9433-4dca8377a1c8\" style=\"display: none;\"><div style=\"display: table-cell;\"></div><div style=\"display: table-cell;\">selection_glyph&nbsp;=&nbsp;None,</div></div><div class=\"4df5e384-ac82-4d69-9433-4dca8377a1c8\" style=\"display: none;\"><div style=\"display: table-cell;\"></div><div style=\"display: table-cell;\">subscribed_events&nbsp;=&nbsp;[],</div></div><div class=\"4df5e384-ac82-4d69-9433-4dca8377a1c8\" style=\"display: none;\"><div style=\"display: table-cell;\"></div><div style=\"display: table-cell;\">tags&nbsp;=&nbsp;[],</div></div><div class=\"4df5e384-ac82-4d69-9433-4dca8377a1c8\" style=\"display: none;\"><div style=\"display: table-cell;\"></div><div style=\"display: table-cell;\">view&nbsp;=&nbsp;CDSView(id='65643208-fb0d-4c10-9b5d-5a7c9e35c1df', ...),</div></div><div class=\"4df5e384-ac82-4d69-9433-4dca8377a1c8\" style=\"display: none;\"><div style=\"display: table-cell;\"></div><div style=\"display: table-cell;\">visible&nbsp;=&nbsp;True,</div></div><div class=\"4df5e384-ac82-4d69-9433-4dca8377a1c8\" style=\"display: none;\"><div style=\"display: table-cell;\"></div><div style=\"display: table-cell;\">x_range_name&nbsp;=&nbsp;'default',</div></div><div class=\"4df5e384-ac82-4d69-9433-4dca8377a1c8\" style=\"display: none;\"><div style=\"display: table-cell;\"></div><div style=\"display: table-cell;\">y_range_name&nbsp;=&nbsp;'default')</div></div></div>\n",
       "<script>\n",
       "(function() {\n",
       "  var expanded = false;\n",
       "  var ellipsis = document.getElementById(\"23a2d5b3-41e2-49fc-b5c5-3305f87acb3d\");\n",
       "  ellipsis.addEventListener(\"click\", function() {\n",
       "    var rows = document.getElementsByClassName(\"4df5e384-ac82-4d69-9433-4dca8377a1c8\");\n",
       "    for (var i = 0; i < rows.length; i++) {\n",
       "      var el = rows[i];\n",
       "      el.style.display = expanded ? \"none\" : \"table-row\";\n",
       "    }\n",
       "    ellipsis.innerHTML = expanded ? \"&hellip;)\" : \"&lsaquo;&lsaquo;&lsaquo;\";\n",
       "    expanded = !expanded;\n",
       "  });\n",
       "})();\n",
       "</script>\n"
      ],
      "text/plain": [
       "GlyphRenderer(id='88d6f6ea-644e-499c-a003-9478388e10c6', ...)"
      ]
     },
     "execution_count": 6,
     "metadata": {},
     "output_type": "execute_result"
    }
   ],
   "source": [
    "import numpy as np\n",
    "\n",
    "from bokeh.layouts import row, column\n",
    "from bokeh.models import BoxSelectTool, LassoSelectTool, Spacer\n",
    "from bokeh.plotting import figure, curdoc\n",
    "\n",
    "# create three normal population samples with different parameters\n",
    "x1 = np.random.normal(loc=5.0, size=400) * 100\n",
    "y1 = np.random.normal(loc=10.0, size=400) * 10\n",
    "\n",
    "x2 = np.random.normal(loc=5.0, size=800) * 50\n",
    "y2 = np.random.normal(loc=5.0, size=800) * 10\n",
    "\n",
    "x3 = np.random.normal(loc=55.0, size=200) * 10\n",
    "y3 = np.random.normal(loc=4.0, size=200) * 10\n",
    "\n",
    "x = np.concatenate((x1, x2, x3))\n",
    "y = np.concatenate((y1, y2, y3))\n",
    "\n",
    "TOOLS=\"pan,wheel_zoom,box_select,lasso_select,reset\"\n",
    "\n",
    "########################################################\n",
    "# create the scatter plot\n",
    "p = figure(tools=TOOLS, plot_width=600, plot_height=600, min_border=10, min_border_left=50,\n",
    "           toolbar_location=\"above\", x_axis_location=None, y_axis_location=None,\n",
    "           title=\"Linked Histograms\")\n",
    "p.background_fill_color = \"#fafafa\"\n",
    "\n",
    "r = p.scatter(x, y, size=3, color=\"#3A5785\", alpha=0.6)\n",
    "\n",
    "# create the horizontal histogram\n",
    "hhist, hedges = np.histogram(x, bins=20)\n",
    "hzeros = np.zeros(len(hedges)-1)\n",
    "hmax = max(hhist)*1.1\n",
    "\n",
    "ph = figure(toolbar_location=None, plot_width=p.plot_width, plot_height=200, x_range=p.x_range,\n",
    "            y_range=(-hmax, hmax), min_border=10, min_border_left=50, y_axis_location=\"right\")\n",
    "ph.xgrid.grid_line_color = None\n",
    "ph.yaxis.major_label_orientation = np.pi/4\n",
    "ph.background_fill_color = \"#fafafa\"\n",
    "\n",
    "ph.quad(bottom=0, left=hedges[:-1], right=hedges[1:], top=hhist, color=\"white\", line_color=\"#3A5785\")\n",
    "\n",
    "# create the vertical histogram\n",
    "vhist, vedges = np.histogram(y, bins=20)\n",
    "vzeros = np.zeros(len(vedges)-1)\n",
    "vmax = max(vhist)*1.1\n",
    "\n",
    "pv = figure(toolbar_location=None, plot_width=200, plot_height=p.plot_height, x_range=(-vmax, vmax),\n",
    "            y_range=p.y_range, min_border=10, y_axis_location=\"right\")\n",
    "pv.ygrid.grid_line_color = None\n",
    "pv.xaxis.major_label_orientation = np.pi/4\n",
    "pv.background_fill_color = \"#fafafa\"\n",
    "\n",
    "pv.quad(left=0, bottom=vedges[:-1], top=vedges[1:], right=vhist, color=\"white\", line_color=\"#3A5785\")"
   ]
  },
  {
   "cell_type": "code",
   "execution_count": 7,
   "metadata": {
    "collapsed": true
   },
   "outputs": [],
   "source": [
    "import bokeh.plotting as bp"
   ]
  },
  {
   "cell_type": "code",
   "execution_count": 8,
   "metadata": {
    "scrolled": false
   },
   "outputs": [
    {
     "data": {
      "text/html": [
       "\n",
       "<div class=\"bk-root\">\n",
       "    <div class=\"bk-plotdiv\" id=\"40bbe5b2-e35a-4a06-8a81-cd0722b922ea\"></div>\n",
       "</div>"
      ]
     },
     "metadata": {},
     "output_type": "display_data"
    },
    {
     "data": {
      "application/javascript": [
       "(function(root) {\n",
       "  function embed_document(root) {\n",
       "    \n",
       "  var docs_json = {\"e9d877fe-ef5c-4daf-95f4-447e895b4aa9\":{\"roots\":{\"references\":[{\"attributes\":{\"callback\":null,\"overlay\":{\"id\":\"807598e7-3288-427a-ba67-a0aee8ed3cbc\",\"type\":\"BoxAnnotation\"},\"renderers\":[{\"id\":\"fce154bf-3bac-4e01-97cf-20354a075442\",\"type\":\"GlyphRenderer\"}]},\"id\":\"da17cc23-385f-4c6a-b511-73921f287c7d\",\"type\":\"BoxSelectTool\"},{\"attributes\":{\"source\":{\"id\":\"464c035f-3076-48e3-96ad-b9faf2aa6419\",\"type\":\"ColumnDataSource\"}},\"id\":\"35b4619a-8f07-49ce-b8c5-c228c5111e4d\",\"type\":\"CDSView\"},{\"attributes\":{\"callback\":null,\"overlay\":{\"id\":\"35c9b43d-ad44-4304-8d5e-f631d734693d\",\"type\":\"PolyAnnotation\"}},\"id\":\"a6dfb969-d457-46e7-a211-52bc755f4883\",\"type\":\"LassoSelectTool\"},{\"attributes\":{},\"id\":\"9f4d2f02-516f-479e-b7f8-32be73d5405b\",\"type\":\"ResetTool\"},{\"attributes\":{\"bottom_units\":\"screen\",\"fill_alpha\":{\"value\":0.5},\"fill_color\":{\"value\":\"lightgrey\"},\"left_units\":\"screen\",\"level\":\"overlay\",\"line_alpha\":{\"value\":1.0},\"line_color\":{\"value\":\"black\"},\"line_dash\":[4,4],\"line_width\":{\"value\":2},\"plot\":null,\"render_mode\":\"css\",\"right_units\":\"screen\",\"top_units\":\"screen\"},\"id\":\"807598e7-3288-427a-ba67-a0aee8ed3cbc\",\"type\":\"BoxAnnotation\"},{\"attributes\":{\"children\":[{\"id\":\"08eaa835-1fb2-4a0d-b6df-a84938f77ca6\",\"subtype\":\"Figure\",\"type\":\"Plot\"},{\"id\":\"631b398f-62b1-47b3-883b-a4c824cb94a0\",\"subtype\":\"Figure\",\"type\":\"Plot\"}]},\"id\":\"d3f8b8e0-9f15-45e7-9986-9820eedfded7\",\"type\":\"Row\"},{\"attributes\":{\"fill_alpha\":{\"value\":0.5},\"fill_color\":{\"value\":\"lightgrey\"},\"level\":\"overlay\",\"line_alpha\":{\"value\":1.0},\"line_color\":{\"value\":\"black\"},\"line_dash\":[4,4],\"line_width\":{\"value\":2},\"plot\":null,\"xs_units\":\"screen\",\"ys_units\":\"screen\"},\"id\":\"35c9b43d-ad44-4304-8d5e-f631d734693d\",\"type\":\"PolyAnnotation\"},{\"attributes\":{\"background_fill_color\":{\"value\":\"#fafafa\"},\"below\":[{\"id\":\"e675416b-4aac-456b-8268-f5185f3107b2\",\"type\":\"LinearAxis\"}],\"min_border\":10,\"min_border_left\":50,\"plot_height\":200,\"renderers\":[{\"id\":\"e675416b-4aac-456b-8268-f5185f3107b2\",\"type\":\"LinearAxis\"},{\"id\":\"9e9caa27-bd5a-4960-903f-53e7bfc0b676\",\"type\":\"Grid\"},{\"id\":\"fc059cd1-a869-40d7-b472-6ca8e6bbf27b\",\"type\":\"LinearAxis\"},{\"id\":\"3dc04d25-0acf-4219-b87e-76aff3a0e619\",\"type\":\"Grid\"},{\"id\":\"1c55a94a-e5d5-4eda-8121-b256d63d88a8\",\"type\":\"BoxAnnotation\"},{\"id\":\"75a026e0-ff77-4376-beee-e5e5ba01deee\",\"type\":\"GlyphRenderer\"}],\"right\":[{\"id\":\"fc059cd1-a869-40d7-b472-6ca8e6bbf27b\",\"type\":\"LinearAxis\"}],\"title\":{\"id\":\"e5568223-63bd-480c-9f6c-a9a28b28ea4f\",\"type\":\"Title\"},\"toolbar\":{\"id\":\"4b23fab2-5928-4fb6-932d-280c123e97c9\",\"type\":\"Toolbar\"},\"toolbar_location\":null,\"x_range\":{\"id\":\"256fb1ba-d5e4-4599-9662-0bab50adadd0\",\"type\":\"DataRange1d\"},\"x_scale\":{\"id\":\"24446aa4-34b0-43df-9c39-915fd5c4d5a2\",\"type\":\"LinearScale\"},\"y_range\":{\"id\":\"ab4d4cce-ac83-42e0-a8aa-4e5f2e3ff6c1\",\"type\":\"Range1d\"},\"y_scale\":{\"id\":\"0a906d13-4313-4cb9-8ffb-a5b2c8bda985\",\"type\":\"LinearScale\"}},\"id\":\"88ddbcdb-aa75-4a38-aa9b-966a8ec5fadf\",\"subtype\":\"Figure\",\"type\":\"Plot\"},{\"attributes\":{\"active_drag\":\"auto\",\"active_inspect\":\"auto\",\"active_scroll\":\"auto\",\"active_tap\":\"auto\",\"tools\":[{\"id\":\"2906f920-cd67-43fc-b4c5-b32a6ae4c48d\",\"type\":\"PanTool\"},{\"id\":\"fb836c0f-53ca-4390-8fa7-70c3b32fa062\",\"type\":\"WheelZoomTool\"},{\"id\":\"3cbeb0aa-af2e-4260-bc0e-dc0329fbf50e\",\"type\":\"BoxZoomTool\"},{\"id\":\"81ae5f88-3dfc-4410-9267-aacb0385dc87\",\"type\":\"SaveTool\"},{\"id\":\"145853d0-6b31-491a-ba29-e7b94d5774fc\",\"type\":\"ResetTool\"},{\"id\":\"03827339-f7e3-4fc5-b41d-1f50cd830e0e\",\"type\":\"HelpTool\"}]},\"id\":\"4b23fab2-5928-4fb6-932d-280c123e97c9\",\"type\":\"Toolbar\"},{\"attributes\":{\"callback\":null,\"end\":238.70000000000002,\"start\":-238.70000000000002},\"id\":\"ab4d4cce-ac83-42e0-a8aa-4e5f2e3ff6c1\",\"type\":\"Range1d\"},{\"attributes\":{\"grid_line_color\":{\"value\":null},\"plot\":{\"id\":\"88ddbcdb-aa75-4a38-aa9b-966a8ec5fadf\",\"subtype\":\"Figure\",\"type\":\"Plot\"},\"ticker\":{\"id\":\"a2c84029-ac3b-4d5f-a01b-a5fc3f397860\",\"type\":\"BasicTicker\"}},\"id\":\"9e9caa27-bd5a-4960-903f-53e7bfc0b676\",\"type\":\"Grid\"},{\"attributes\":{\"data_source\":{\"id\":\"4f96dad6-79a2-42d1-b4ff-c31df2cb7878\",\"type\":\"ColumnDataSource\"},\"glyph\":{\"id\":\"4d47ce31-c651-4efd-b4e2-33993434b63f\",\"type\":\"Quad\"},\"hover_glyph\":null,\"muted_glyph\":null,\"nonselection_glyph\":{\"id\":\"ec597db9-a91b-4434-bd14-cf2685b41e2a\",\"type\":\"Quad\"},\"selection_glyph\":null,\"view\":{\"id\":\"7438ca99-4318-47e3-bd94-f23deee5ee80\",\"type\":\"CDSView\"}},\"id\":\"75a026e0-ff77-4376-beee-e5e5ba01deee\",\"type\":\"GlyphRenderer\"},{\"attributes\":{},\"id\":\"24446aa4-34b0-43df-9c39-915fd5c4d5a2\",\"type\":\"LinearScale\"},{\"attributes\":{},\"id\":\"0a906d13-4313-4cb9-8ffb-a5b2c8bda985\",\"type\":\"LinearScale\"},{\"attributes\":{\"bottom\":{\"value\":0},\"fill_color\":{\"value\":\"white\"},\"left\":{\"field\":\"left\"},\"line_color\":{\"value\":\"#3A5785\"},\"right\":{\"field\":\"right\"},\"top\":{\"field\":\"top\"}},\"id\":\"4d47ce31-c651-4efd-b4e2-33993434b63f\",\"type\":\"Quad\"},{\"attributes\":{\"formatter\":{\"id\":\"d3984206-58f8-43ea-af22-3853222f725b\",\"type\":\"BasicTickFormatter\"},\"plot\":{\"id\":\"88ddbcdb-aa75-4a38-aa9b-966a8ec5fadf\",\"subtype\":\"Figure\",\"type\":\"Plot\"},\"ticker\":{\"id\":\"a2c84029-ac3b-4d5f-a01b-a5fc3f397860\",\"type\":\"BasicTicker\"}},\"id\":\"e675416b-4aac-456b-8268-f5185f3107b2\",\"type\":\"LinearAxis\"},{\"attributes\":{},\"id\":\"a2c84029-ac3b-4d5f-a01b-a5fc3f397860\",\"type\":\"BasicTicker\"},{\"attributes\":{\"formatter\":{\"id\":\"ee8620d0-fb00-446e-8009-6ad66b4c25a0\",\"type\":\"BasicTickFormatter\"},\"major_label_orientation\":0.7853981633974483,\"plot\":{\"id\":\"88ddbcdb-aa75-4a38-aa9b-966a8ec5fadf\",\"subtype\":\"Figure\",\"type\":\"Plot\"},\"ticker\":{\"id\":\"05065db9-1711-4932-bbfa-394e810733ea\",\"type\":\"BasicTicker\"}},\"id\":\"fc059cd1-a869-40d7-b472-6ca8e6bbf27b\",\"type\":\"LinearAxis\"},{\"attributes\":{},\"id\":\"05065db9-1711-4932-bbfa-394e810733ea\",\"type\":\"BasicTicker\"},{\"attributes\":{\"dimension\":1,\"plot\":{\"id\":\"88ddbcdb-aa75-4a38-aa9b-966a8ec5fadf\",\"subtype\":\"Figure\",\"type\":\"Plot\"},\"ticker\":{\"id\":\"05065db9-1711-4932-bbfa-394e810733ea\",\"type\":\"BasicTicker\"}},\"id\":\"3dc04d25-0acf-4219-b87e-76aff3a0e619\",\"type\":\"Grid\"},{\"attributes\":{\"bottom\":{\"value\":0},\"fill_alpha\":{\"value\":0.1},\"fill_color\":{\"value\":\"#1f77b4\"},\"left\":{\"field\":\"left\"},\"line_alpha\":{\"value\":0.1},\"line_color\":{\"value\":\"#1f77b4\"},\"right\":{\"field\":\"right\"},\"top\":{\"field\":\"top\"}},\"id\":\"ec597db9-a91b-4434-bd14-cf2685b41e2a\",\"type\":\"Quad\"},{\"attributes\":{\"tools\":[{\"id\":\"14f829bc-298f-488d-945a-66635712c4c7\",\"type\":\"PanTool\"},{\"id\":\"6bbdcd50-c2ba-4fa4-a5b0-7045fed7e0a2\",\"type\":\"WheelZoomTool\"},{\"id\":\"da17cc23-385f-4c6a-b511-73921f287c7d\",\"type\":\"BoxSelectTool\"},{\"id\":\"a6dfb969-d457-46e7-a211-52bc755f4883\",\"type\":\"LassoSelectTool\"},{\"id\":\"9f4d2f02-516f-479e-b7f8-32be73d5405b\",\"type\":\"ResetTool\"},{\"id\":\"19805d50-be63-42fa-96fb-5d3ebe93a287\",\"type\":\"PanTool\"},{\"id\":\"20776207-10e9-440a-b1e2-46f4ff65f826\",\"type\":\"WheelZoomTool\"},{\"id\":\"6212c146-5367-435d-9ba9-eb8c2024a20d\",\"type\":\"BoxZoomTool\"},{\"id\":\"09ccd6da-83fd-4571-b545-ae517beb60a5\",\"type\":\"SaveTool\"},{\"id\":\"d4f68886-0def-4919-816b-d4519f398bd2\",\"type\":\"ResetTool\"},{\"id\":\"b4831b0e-eee4-4252-8925-f954a8737d6c\",\"type\":\"HelpTool\"},{\"id\":\"2906f920-cd67-43fc-b4c5-b32a6ae4c48d\",\"type\":\"PanTool\"},{\"id\":\"fb836c0f-53ca-4390-8fa7-70c3b32fa062\",\"type\":\"WheelZoomTool\"},{\"id\":\"3cbeb0aa-af2e-4260-bc0e-dc0329fbf50e\",\"type\":\"BoxZoomTool\"},{\"id\":\"81ae5f88-3dfc-4410-9267-aacb0385dc87\",\"type\":\"SaveTool\"},{\"id\":\"145853d0-6b31-491a-ba29-e7b94d5774fc\",\"type\":\"ResetTool\"},{\"id\":\"03827339-f7e3-4fc5-b41d-1f50cd830e0e\",\"type\":\"HelpTool\"}]},\"id\":\"1e4a7149-9ba4-4423-b32c-e24aa3c5575a\",\"type\":\"ProxyToolbar\"},{\"attributes\":{\"data_source\":{\"id\":\"cfc6c411-7b0f-4ffc-8129-d3352d254e8e\",\"type\":\"ColumnDataSource\"},\"glyph\":{\"id\":\"03302ac2-60ec-42e9-ac91-5027b24ba4e5\",\"type\":\"Quad\"},\"hover_glyph\":null,\"muted_glyph\":null,\"nonselection_glyph\":{\"id\":\"a4cc7d57-2b29-4c40-b700-2c7344268cb6\",\"type\":\"Quad\"},\"selection_glyph\":null,\"view\":{\"id\":\"65643208-fb0d-4c10-9b5d-5a7c9e35c1df\",\"type\":\"CDSView\"}},\"id\":\"88d6f6ea-644e-499c-a003-9478388e10c6\",\"type\":\"GlyphRenderer\"},{\"attributes\":{\"toolbar\":{\"id\":\"1e4a7149-9ba4-4423-b32c-e24aa3c5575a\",\"type\":\"ProxyToolbar\"},\"toolbar_location\":\"above\"},\"id\":\"568be32a-ee10-48aa-b4d9-5b6bd62912d1\",\"type\":\"ToolbarBox\"},{\"attributes\":{\"callback\":null,\"column_names\":[\"left\",\"right\",\"top\"],\"data\":{\"left\":{\"__ndarray__\":\"vlWGW5hQWkAynfcWzV1hQIUPLABOk2VA2IFg6c7IaUAr9JTST/5tQD+z5F3oGXFAaOx+0qg0c0CSJRlHaU91QLxes7spandA5pdNMOqEeUAO0eekqp97QDgKghlrun1AYkMcjivVf0BGPlsB9veAQNpaqDtWBYJAb3f1dbYSg0AElEKwFiCEQJmwj+p2LYVALs3cJNc6hkDC6SlfN0iHQA==\",\"dtype\":\"float64\",\"shape\":[20]},\"right\":{\"__ndarray__\":\"Mp33Fs1dYUCFDywATpNlQNiBYOnOyGlAK/SU0k/+bUA/s+Rd6BlxQGjsftKoNHNAkiUZR2lPdUC8XrO7KWp3QOaXTTDqhHlADtHnpKqfe0A4CoIZa7p9QGJDHI4r1X9ARj5bAfb3gEDaWqg7VgWCQG939XW2EoNABJRCsBYghECZsI/qdi2FQC7N3CTXOoZAwukpXzdIh0BXBneZl1WIQA==\",\"dtype\":\"float64\",\"shape\":[20]},\"top\":[12,35,92,191,217,174,73,44,34,39,38,56,100,203,35,27,13,7,6,4]}},\"id\":\"4f96dad6-79a2-42d1-b4ff-c31df2cb7878\",\"type\":\"ColumnDataSource\"},{\"attributes\":{\"bottom_units\":\"screen\",\"fill_alpha\":{\"value\":0.5},\"fill_color\":{\"value\":\"lightgrey\"},\"left_units\":\"screen\",\"level\":\"overlay\",\"line_alpha\":{\"value\":1.0},\"line_color\":{\"value\":\"black\"},\"line_dash\":[4,4],\"line_width\":{\"value\":2},\"plot\":null,\"render_mode\":\"css\",\"right_units\":\"screen\",\"top_units\":\"screen\"},\"id\":\"1c55a94a-e5d5-4eda-8121-b256d63d88a8\",\"type\":\"BoxAnnotation\"},{\"attributes\":{},\"id\":\"2906f920-cd67-43fc-b4c5-b32a6ae4c48d\",\"type\":\"PanTool\"},{\"attributes\":{},\"id\":\"d3984206-58f8-43ea-af22-3853222f725b\",\"type\":\"BasicTickFormatter\"},{\"attributes\":{},\"id\":\"fb836c0f-53ca-4390-8fa7-70c3b32fa062\",\"type\":\"WheelZoomTool\"},{\"attributes\":{\"overlay\":{\"id\":\"1c55a94a-e5d5-4eda-8121-b256d63d88a8\",\"type\":\"BoxAnnotation\"}},\"id\":\"3cbeb0aa-af2e-4260-bc0e-dc0329fbf50e\",\"type\":\"BoxZoomTool\"},{\"attributes\":{},\"id\":\"81ae5f88-3dfc-4410-9267-aacb0385dc87\",\"type\":\"SaveTool\"},{\"attributes\":{},\"id\":\"145853d0-6b31-491a-ba29-e7b94d5774fc\",\"type\":\"ResetTool\"},{\"attributes\":{},\"id\":\"03827339-f7e3-4fc5-b41d-1f50cd830e0e\",\"type\":\"HelpTool\"},{\"attributes\":{\"plot\":{\"id\":\"631b398f-62b1-47b3-883b-a4c824cb94a0\",\"subtype\":\"Figure\",\"type\":\"Plot\"},\"ticker\":{\"id\":\"49efe061-bfed-49e9-83ce-6a61d9bf6685\",\"type\":\"BasicTicker\"}},\"id\":\"3cb0dd68-2de8-490c-96c2-bcbd4f508c62\",\"type\":\"Grid\"},{\"attributes\":{},\"id\":\"ee8620d0-fb00-446e-8009-6ad66b4c25a0\",\"type\":\"BasicTickFormatter\"},{\"attributes\":{\"background_fill_color\":{\"value\":\"#fafafa\"},\"below\":[{\"id\":\"9a33b00d-1d3c-4432-b4af-130a657362f0\",\"type\":\"LinearAxis\"}],\"min_border\":10,\"plot_width\":200,\"renderers\":[{\"id\":\"9a33b00d-1d3c-4432-b4af-130a657362f0\",\"type\":\"LinearAxis\"},{\"id\":\"3cb0dd68-2de8-490c-96c2-bcbd4f508c62\",\"type\":\"Grid\"},{\"id\":\"4dda52e4-7167-4486-9a7a-1a77b22d6760\",\"type\":\"LinearAxis\"},{\"id\":\"15a59fb4-842b-4754-93bd-28e3d5aa6a5c\",\"type\":\"Grid\"},{\"id\":\"6cb27816-dc97-4a4e-bdb6-1614f94f6ff0\",\"type\":\"BoxAnnotation\"},{\"id\":\"88d6f6ea-644e-499c-a003-9478388e10c6\",\"type\":\"GlyphRenderer\"}],\"right\":[{\"id\":\"4dda52e4-7167-4486-9a7a-1a77b22d6760\",\"type\":\"LinearAxis\"}],\"title\":{\"id\":\"8aea9ce9-7269-4d38-bdbc-595f42b0123d\",\"type\":\"Title\"},\"toolbar\":{\"id\":\"d5f10438-cadf-4a8b-8d05-bd15e52292cd\",\"type\":\"Toolbar\"},\"toolbar_location\":null,\"x_range\":{\"id\":\"96f76f40-f3b2-4fe6-88cb-cdcc36733d70\",\"type\":\"Range1d\"},\"x_scale\":{\"id\":\"d8d8474a-ac6d-43a5-bf3d-e9dbf43e288e\",\"type\":\"LinearScale\"},\"y_range\":{\"id\":\"e812b5d7-25be-44bc-b888-e3d628ddca5b\",\"type\":\"DataRange1d\"},\"y_scale\":{\"id\":\"61efc602-7d8a-45cf-b82e-5fc85f4e297f\",\"type\":\"LinearScale\"}},\"id\":\"631b398f-62b1-47b3-883b-a4c824cb94a0\",\"subtype\":\"Figure\",\"type\":\"Plot\"},{\"attributes\":{\"source\":{\"id\":\"4f96dad6-79a2-42d1-b4ff-c31df2cb7878\",\"type\":\"ColumnDataSource\"}},\"id\":\"7438ca99-4318-47e3-bd94-f23deee5ee80\",\"type\":\"CDSView\"},{\"attributes\":{\"callback\":null,\"end\":242.00000000000003,\"start\":-242.00000000000003},\"id\":\"96f76f40-f3b2-4fe6-88cb-cdcc36733d70\",\"type\":\"Range1d\"},{\"attributes\":{\"bottom\":{\"field\":\"bottom\"},\"fill_color\":{\"value\":\"white\"},\"left\":{\"value\":0},\"line_color\":{\"value\":\"#3A5785\"},\"right\":{\"field\":\"right\"},\"top\":{\"field\":\"top\"}},\"id\":\"03302ac2-60ec-42e9-ac91-5027b24ba4e5\",\"type\":\"Quad\"},{\"attributes\":{\"plot\":null,\"text\":\"\"},\"id\":\"e5568223-63bd-480c-9f6c-a9a28b28ea4f\",\"type\":\"Title\"},{\"attributes\":{\"active_drag\":\"auto\",\"active_inspect\":\"auto\",\"active_scroll\":\"auto\",\"active_tap\":\"auto\",\"tools\":[{\"id\":\"19805d50-be63-42fa-96fb-5d3ebe93a287\",\"type\":\"PanTool\"},{\"id\":\"20776207-10e9-440a-b1e2-46f4ff65f826\",\"type\":\"WheelZoomTool\"},{\"id\":\"6212c146-5367-435d-9ba9-eb8c2024a20d\",\"type\":\"BoxZoomTool\"},{\"id\":\"09ccd6da-83fd-4571-b545-ae517beb60a5\",\"type\":\"SaveTool\"},{\"id\":\"d4f68886-0def-4919-816b-d4519f398bd2\",\"type\":\"ResetTool\"},{\"id\":\"b4831b0e-eee4-4252-8925-f954a8737d6c\",\"type\":\"HelpTool\"}]},\"id\":\"d5f10438-cadf-4a8b-8d05-bd15e52292cd\",\"type\":\"Toolbar\"},{\"attributes\":{\"formatter\":{\"id\":\"ceb9f737-fd8e-4f44-a2aa-3438811c5d2b\",\"type\":\"BasicTickFormatter\"},\"major_label_orientation\":0.7853981633974483,\"plot\":{\"id\":\"631b398f-62b1-47b3-883b-a4c824cb94a0\",\"subtype\":\"Figure\",\"type\":\"Plot\"},\"ticker\":{\"id\":\"49efe061-bfed-49e9-83ce-6a61d9bf6685\",\"type\":\"BasicTicker\"}},\"id\":\"9a33b00d-1d3c-4432-b4af-130a657362f0\",\"type\":\"LinearAxis\"},{\"attributes\":{},\"id\":\"d8d8474a-ac6d-43a5-bf3d-e9dbf43e288e\",\"type\":\"LinearScale\"},{\"attributes\":{},\"id\":\"61efc602-7d8a-45cf-b82e-5fc85f4e297f\",\"type\":\"LinearScale\"},{\"attributes\":{},\"id\":\"49efe061-bfed-49e9-83ce-6a61d9bf6685\",\"type\":\"BasicTicker\"},{\"attributes\":{\"formatter\":{\"id\":\"6a26711b-ea0d-49a2-9c84-b4c9518a34ce\",\"type\":\"BasicTickFormatter\"},\"plot\":{\"id\":\"631b398f-62b1-47b3-883b-a4c824cb94a0\",\"subtype\":\"Figure\",\"type\":\"Plot\"},\"ticker\":{\"id\":\"8c1d92bb-69c5-4f13-bbad-95bb50bc3a2f\",\"type\":\"BasicTicker\"}},\"id\":\"4dda52e4-7167-4486-9a7a-1a77b22d6760\",\"type\":\"LinearAxis\"},{\"attributes\":{},\"id\":\"8c1d92bb-69c5-4f13-bbad-95bb50bc3a2f\",\"type\":\"BasicTicker\"},{\"attributes\":{\"dimension\":1,\"grid_line_color\":{\"value\":null},\"plot\":{\"id\":\"631b398f-62b1-47b3-883b-a4c824cb94a0\",\"subtype\":\"Figure\",\"type\":\"Plot\"},\"ticker\":{\"id\":\"8c1d92bb-69c5-4f13-bbad-95bb50bc3a2f\",\"type\":\"BasicTicker\"}},\"id\":\"15a59fb4-842b-4754-93bd-28e3d5aa6a5c\",\"type\":\"Grid\"},{\"attributes\":{\"bottom\":{\"field\":\"bottom\"},\"fill_alpha\":{\"value\":0.1},\"fill_color\":{\"value\":\"#1f77b4\"},\"left\":{\"value\":0},\"line_alpha\":{\"value\":0.1},\"line_color\":{\"value\":\"#1f77b4\"},\"right\":{\"field\":\"right\"},\"top\":{\"field\":\"top\"}},\"id\":\"a4cc7d57-2b29-4c40-b700-2c7344268cb6\",\"type\":\"Quad\"},{\"attributes\":{\"callback\":null,\"column_names\":[\"right\",\"top\",\"bottom\"],\"data\":{\"bottom\":{\"__ndarray__\":\"zpvTvcMKJUC9roX95CQwQJOPIRxoxDVAaXC9OutjO0CgqKwst4FAQAqZ+rt4UUNAdolISzohRkDgeZba+/BIQExq5Gm9wEtAtloy+X6QTkCRJUBEILBQQMYd5wsBGFJA/BWO0+F/U0AyDjWbwudUQGcG3GKjT1ZAnP6CKoS3V0DS9inyZB9ZQAjv0LlFh1pAPed3gSbvW0By3x5JB1ddQA==\",\"dtype\":\"float64\",\"shape\":[20]},\"right\":[4,5,15,70,103,170,220,163,131,89,22,11,15,38,79,97,81,43,31,13],\"top\":{\"__ndarray__\":\"va6F/eQkMECTjyEcaMQ1QGlwvTrrYztAoKisLLeBQEAKmfq7eFFDQHaJSEs6IUZA4HmW2vvwSEBMauRpvcBLQLZaMvl+kE5AkSVARCCwUEDGHecLARhSQPwVjtPhf1NAMg41m8LnVEBnBtxio09WQJz+giqEt1dA0vYp8mQfWUAI79C5RYdaQD3nd4Em71tAct8eSQdXXUCo18UQ6L5eQA==\",\"dtype\":\"float64\",\"shape\":[20]}}},\"id\":\"cfc6c411-7b0f-4ffc-8129-d3352d254e8e\",\"type\":\"ColumnDataSource\"},{\"attributes\":{\"bottom_units\":\"screen\",\"fill_alpha\":{\"value\":0.5},\"fill_color\":{\"value\":\"lightgrey\"},\"left_units\":\"screen\",\"level\":\"overlay\",\"line_alpha\":{\"value\":1.0},\"line_color\":{\"value\":\"black\"},\"line_dash\":[4,4],\"line_width\":{\"value\":2},\"plot\":null,\"render_mode\":\"css\",\"right_units\":\"screen\",\"top_units\":\"screen\"},\"id\":\"6cb27816-dc97-4a4e-bdb6-1614f94f6ff0\",\"type\":\"BoxAnnotation\"},{\"attributes\":{},\"id\":\"19805d50-be63-42fa-96fb-5d3ebe93a287\",\"type\":\"PanTool\"},{\"attributes\":{\"children\":[{\"id\":\"88ddbcdb-aa75-4a38-aa9b-966a8ec5fadf\",\"subtype\":\"Figure\",\"type\":\"Plot\"}]},\"id\":\"0a902bd8-2aa7-4cc5-a114-175515451d5d\",\"type\":\"Row\"},{\"attributes\":{},\"id\":\"ceb9f737-fd8e-4f44-a2aa-3438811c5d2b\",\"type\":\"BasicTickFormatter\"},{\"attributes\":{},\"id\":\"20776207-10e9-440a-b1e2-46f4ff65f826\",\"type\":\"WheelZoomTool\"},{\"attributes\":{\"overlay\":{\"id\":\"6cb27816-dc97-4a4e-bdb6-1614f94f6ff0\",\"type\":\"BoxAnnotation\"}},\"id\":\"6212c146-5367-435d-9ba9-eb8c2024a20d\",\"type\":\"BoxZoomTool\"},{\"attributes\":{},\"id\":\"09ccd6da-83fd-4571-b545-ae517beb60a5\",\"type\":\"SaveTool\"},{\"attributes\":{},\"id\":\"d4f68886-0def-4919-816b-d4519f398bd2\",\"type\":\"ResetTool\"},{\"attributes\":{\"plot\":null,\"text\":\"Linked Histograms\"},\"id\":\"45adac07-7058-4594-a9a0-96171b46d15a\",\"type\":\"Title\"},{\"attributes\":{},\"id\":\"b4831b0e-eee4-4252-8925-f954a8737d6c\",\"type\":\"HelpTool\"},{\"attributes\":{\"fill_alpha\":{\"value\":0.6},\"fill_color\":{\"value\":\"#3A5785\"},\"line_alpha\":{\"value\":0.6},\"line_color\":{\"value\":\"#3A5785\"},\"size\":{\"units\":\"screen\",\"value\":3},\"x\":{\"field\":\"x\"},\"y\":{\"field\":\"y\"}},\"id\":\"bee9464c-d958-4080-9cd0-bac956f2e227\",\"type\":\"Circle\"},{\"attributes\":{\"background_fill_color\":{\"value\":\"#fafafa\"},\"min_border\":10,\"min_border_left\":50,\"renderers\":[{\"id\":\"cc49a417-1288-4606-a449-060a79168778\",\"type\":\"Grid\"},{\"id\":\"573566f0-a57d-47d8-9f36-b200c973b033\",\"type\":\"Grid\"},{\"id\":\"807598e7-3288-427a-ba67-a0aee8ed3cbc\",\"type\":\"BoxAnnotation\"},{\"id\":\"35c9b43d-ad44-4304-8d5e-f631d734693d\",\"type\":\"PolyAnnotation\"},{\"id\":\"fce154bf-3bac-4e01-97cf-20354a075442\",\"type\":\"GlyphRenderer\"}],\"title\":{\"id\":\"45adac07-7058-4594-a9a0-96171b46d15a\",\"type\":\"Title\"},\"toolbar\":{\"id\":\"3f306c83-d984-4468-a9e9-b4071261a63d\",\"type\":\"Toolbar\"},\"toolbar_location\":null,\"x_range\":{\"id\":\"256fb1ba-d5e4-4599-9662-0bab50adadd0\",\"type\":\"DataRange1d\"},\"x_scale\":{\"id\":\"0b414ba6-94fd-49e4-917d-a0b5695cae7b\",\"type\":\"LinearScale\"},\"y_range\":{\"id\":\"e812b5d7-25be-44bc-b888-e3d628ddca5b\",\"type\":\"DataRange1d\"},\"y_scale\":{\"id\":\"45dccb29-6a65-4561-b75a-000a5895101d\",\"type\":\"LinearScale\"}},\"id\":\"08eaa835-1fb2-4a0d-b6df-a84938f77ca6\",\"subtype\":\"Figure\",\"type\":\"Plot\"},{\"attributes\":{},\"id\":\"6a26711b-ea0d-49a2-9c84-b4c9518a34ce\",\"type\":\"BasicTickFormatter\"},{\"attributes\":{\"callback\":null},\"id\":\"256fb1ba-d5e4-4599-9662-0bab50adadd0\",\"type\":\"DataRange1d\"},{\"attributes\":{\"active_drag\":\"auto\",\"active_inspect\":\"auto\",\"active_scroll\":\"auto\",\"active_tap\":\"auto\",\"tools\":[{\"id\":\"14f829bc-298f-488d-945a-66635712c4c7\",\"type\":\"PanTool\"},{\"id\":\"6bbdcd50-c2ba-4fa4-a5b0-7045fed7e0a2\",\"type\":\"WheelZoomTool\"},{\"id\":\"da17cc23-385f-4c6a-b511-73921f287c7d\",\"type\":\"BoxSelectTool\"},{\"id\":\"a6dfb969-d457-46e7-a211-52bc755f4883\",\"type\":\"LassoSelectTool\"},{\"id\":\"9f4d2f02-516f-479e-b7f8-32be73d5405b\",\"type\":\"ResetTool\"}]},\"id\":\"3f306c83-d984-4468-a9e9-b4071261a63d\",\"type\":\"Toolbar\"},{\"attributes\":{\"source\":{\"id\":\"cfc6c411-7b0f-4ffc-8129-d3352d254e8e\",\"type\":\"ColumnDataSource\"}},\"id\":\"65643208-fb0d-4c10-9b5d-5a7c9e35c1df\",\"type\":\"CDSView\"},{\"attributes\":{},\"id\":\"8ccb13af-845b-4cc2-ab89-db1f09c0e1e4\",\"type\":\"BasicTicker\"},{\"attributes\":{\"children\":[{\"id\":\"568be32a-ee10-48aa-b4d9-5b6bd62912d1\",\"type\":\"ToolbarBox\"},{\"id\":\"0d4cb73a-28f5-4d4c-b096-be7d2ec886a7\",\"type\":\"Column\"}]},\"id\":\"a6f7f875-7bc7-4f1e-ad06-45a55afab12f\",\"type\":\"Column\"},{\"attributes\":{},\"id\":\"0b414ba6-94fd-49e4-917d-a0b5695cae7b\",\"type\":\"LinearScale\"},{\"attributes\":{\"callback\":null},\"id\":\"e812b5d7-25be-44bc-b888-e3d628ddca5b\",\"type\":\"DataRange1d\"},{\"attributes\":{\"plot\":null,\"text\":\"\"},\"id\":\"8aea9ce9-7269-4d38-bdbc-595f42b0123d\",\"type\":\"Title\"},{\"attributes\":{},\"id\":\"45dccb29-6a65-4561-b75a-000a5895101d\",\"type\":\"LinearScale\"},{\"attributes\":{\"plot\":{\"id\":\"08eaa835-1fb2-4a0d-b6df-a84938f77ca6\",\"subtype\":\"Figure\",\"type\":\"Plot\"},\"ticker\":{\"id\":\"6a74e551-f331-40c5-96a4-495ced107d23\",\"type\":\"BasicTicker\"}},\"id\":\"cc49a417-1288-4606-a449-060a79168778\",\"type\":\"Grid\"},{\"attributes\":{\"data_source\":{\"id\":\"464c035f-3076-48e3-96ad-b9faf2aa6419\",\"type\":\"ColumnDataSource\"},\"glyph\":{\"id\":\"bee9464c-d958-4080-9cd0-bac956f2e227\",\"type\":\"Circle\"},\"hover_glyph\":null,\"muted_glyph\":null,\"nonselection_glyph\":{\"id\":\"ce6e4574-382d-4aa0-bcbd-1366cefea783\",\"type\":\"Circle\"},\"selection_glyph\":null,\"view\":{\"id\":\"35b4619a-8f07-49ce-b8c5-c228c5111e4d\",\"type\":\"CDSView\"}},\"id\":\"fce154bf-3bac-4e01-97cf-20354a075442\",\"type\":\"GlyphRenderer\"},{\"attributes\":{},\"id\":\"6a74e551-f331-40c5-96a4-495ced107d23\",\"type\":\"BasicTicker\"},{\"attributes\":{\"fill_alpha\":{\"value\":0.1},\"fill_color\":{\"value\":\"#1f77b4\"},\"line_alpha\":{\"value\":0.1},\"line_color\":{\"value\":\"#1f77b4\"},\"size\":{\"units\":\"screen\",\"value\":3},\"x\":{\"field\":\"x\"},\"y\":{\"field\":\"y\"}},\"id\":\"ce6e4574-382d-4aa0-bcbd-1366cefea783\",\"type\":\"Circle\"},{\"attributes\":{\"children\":[{\"id\":\"d3f8b8e0-9f15-45e7-9986-9820eedfded7\",\"type\":\"Row\"},{\"id\":\"0a902bd8-2aa7-4cc5-a114-175515451d5d\",\"type\":\"Row\"}]},\"id\":\"0d4cb73a-28f5-4d4c-b096-be7d2ec886a7\",\"type\":\"Column\"},{\"attributes\":{\"dimension\":1,\"plot\":{\"id\":\"08eaa835-1fb2-4a0d-b6df-a84938f77ca6\",\"subtype\":\"Figure\",\"type\":\"Plot\"},\"ticker\":{\"id\":\"8ccb13af-845b-4cc2-ab89-db1f09c0e1e4\",\"type\":\"BasicTicker\"}},\"id\":\"573566f0-a57d-47d8-9f36-b200c973b033\",\"type\":\"Grid\"},{\"attributes\":{\"callback\":null,\"column_names\":[\"x\",\"y\"],\"data\":{\"x\":{\"__ndarray__\":\"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\",\"dtype\":\"float64\",\"shape\":[1400]},\"y\":{\"__ndarray__\":\"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\",\"dtype\":\"float64\",\"shape\":[1400]}}},\"id\":\"464c035f-3076-48e3-96ad-b9faf2aa6419\",\"type\":\"ColumnDataSource\"},{\"attributes\":{},\"id\":\"14f829bc-298f-488d-945a-66635712c4c7\",\"type\":\"PanTool\"},{\"attributes\":{},\"id\":\"6bbdcd50-c2ba-4fa4-a5b0-7045fed7e0a2\",\"type\":\"WheelZoomTool\"}],\"root_ids\":[\"a6f7f875-7bc7-4f1e-ad06-45a55afab12f\"]},\"title\":\"Bokeh Application\",\"version\":\"0.12.14\"}};\n",
       "  var render_items = [{\"docid\":\"e9d877fe-ef5c-4daf-95f4-447e895b4aa9\",\"elementid\":\"40bbe5b2-e35a-4a06-8a81-cd0722b922ea\",\"modelid\":\"a6f7f875-7bc7-4f1e-ad06-45a55afab12f\"}];\n",
       "  root.Bokeh.embed.embed_items_notebook(docs_json, render_items);\n",
       "\n",
       "  }\n",
       "  if (root.Bokeh !== undefined) {\n",
       "    embed_document(root);\n",
       "  } else {\n",
       "    var attempts = 0;\n",
       "    var timer = setInterval(function(root) {\n",
       "      if (root.Bokeh !== undefined) {\n",
       "        embed_document(root);\n",
       "        clearInterval(timer);\n",
       "      }\n",
       "      attempts++;\n",
       "      if (attempts > 100) {\n",
       "        console.log(\"Bokeh: ERROR: Unable to run BokehJS code because BokehJS library is missing\")\n",
       "        clearInterval(timer);\n",
       "      }\n",
       "    }, 10, root)\n",
       "  }\n",
       "})(window);"
      ],
      "application/vnd.bokehjs_exec.v0+json": ""
     },
     "metadata": {
      "application/vnd.bokehjs_exec.v0+json": {
       "id": "a6f7f875-7bc7-4f1e-ad06-45a55afab12f"
      }
     },
     "output_type": "display_data"
    }
   ],
   "source": [
    "bp.show(gridplot([p,pv],[ph]))"
   ]
  },
  {
   "cell_type": "code",
   "execution_count": 9,
   "metadata": {
    "collapsed": true
   },
   "outputs": [],
   "source": [
    "x = np.random.random(10)"
   ]
  },
  {
   "cell_type": "code",
   "execution_count": 10,
   "metadata": {},
   "outputs": [
    {
     "data": {
      "text/plain": [
       "(array([1, 0, 0, 0, 1, 0, 0, 0, 0, 1, 0, 0, 1, 1, 1, 2, 0, 0, 1, 1]),\n",
       " array([ 0.04519436,  0.09236983,  0.13954529,  0.18672076,  0.23389622,\n",
       "         0.28107168,  0.32824715,  0.37542261,  0.42259808,  0.46977354,\n",
       "         0.51694901,  0.56412447,  0.61129993,  0.6584754 ,  0.70565086,\n",
       "         0.75282633,  0.80000179,  0.84717726,  0.89435272,  0.94152818,\n",
       "         0.98870365]))"
      ]
     },
     "execution_count": 10,
     "metadata": {},
     "output_type": "execute_result"
    }
   ],
   "source": [
    "np.histogram(x, bins=20)"
   ]
  },
  {
   "cell_type": "code",
   "execution_count": null,
   "metadata": {},
   "outputs": [],
   "source": []
  },
  {
   "cell_type": "code",
   "execution_count": null,
   "metadata": {
    "collapsed": true
   },
   "outputs": [],
   "source": []
  },
  {
   "cell_type": "code",
   "execution_count": null,
   "metadata": {
    "collapsed": true
   },
   "outputs": [],
   "source": []
  },
  {
   "cell_type": "code",
   "execution_count": null,
   "metadata": {
    "collapsed": true
   },
   "outputs": [],
   "source": []
  },
  {
   "cell_type": "code",
   "execution_count": null,
   "metadata": {
    "collapsed": true
   },
   "outputs": [],
   "source": []
  },
  {
   "cell_type": "code",
   "execution_count": null,
   "metadata": {
    "collapsed": true
   },
   "outputs": [],
   "source": []
  },
  {
   "cell_type": "code",
   "execution_count": null,
   "metadata": {
    "collapsed": true
   },
   "outputs": [],
   "source": []
  },
  {
   "cell_type": "code",
   "execution_count": null,
   "metadata": {
    "collapsed": true
   },
   "outputs": [],
   "source": []
  }
 ],
 "metadata": {
  "kernelspec": {
   "display_name": "Python 3",
   "language": "python",
   "name": "python3"
  },
  "language_info": {
   "codemirror_mode": {
    "name": "ipython",
    "version": 3
   },
   "file_extension": ".py",
   "mimetype": "text/x-python",
   "name": "python",
   "nbconvert_exporter": "python",
   "pygments_lexer": "ipython3",
   "version": "3.6.2"
  }
 },
 "nbformat": 4,
 "nbformat_minor": 2
}
