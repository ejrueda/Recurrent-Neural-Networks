{
 "cells": [
  {
   "cell_type": "code",
   "execution_count": 2,
   "metadata": {
    "collapsed": true
   },
   "outputs": [],
   "source": [
    "import numpy as np\n",
    "import pandas as pd\n",
    "import bokeh.plotting as bp\n",
    "from bokeh.layouts import gridplot\n",
    "#bp.output_notebook()"
   ]
  },
  {
   "cell_type": "markdown",
   "metadata": {},
   "source": [
    "se cargan los resultados obtenidos por la multiseñal EUR/USD,GBP/USD -> EUR/USD"
   ]
  },
  {
   "cell_type": "code",
   "execution_count": 10,
   "metadata": {},
   "outputs": [],
   "source": [
    "result_KNC_MS = pd.read_csv('../resultados/TrueFX/GBP-USD/MultiSeñal/KNeighborsClassifier/pnl-GBP-USD_EUR-USD_KNC_wsize3_2018-01.csv',\n",
    "                        parse_dates=True, infer_datetime_format=True, index_col=0)\n",
    "result_DTC_MS = pd.read_csv('../resultados/TrueFX/GBP-USD/MultiSeñal/DecisionTreeClassifier/pnl-GBP-USD_EUR-USD_DTC_wsize3_2018-01.csv',\n",
    "                        parse_dates=True, infer_datetime_format=True, index_col=0)\n",
    "result_RFC_MS = pd.read_csv('../resultados/TrueFX/GBP-USD/MultiSeñal/RandomForestClassifier/pnl-GBP-USD_EUR-USD_RFC_wsize3_2018-01.csv',\n",
    "                        parse_dates=True, infer_datetime_format=True, index_col=0)"
   ]
  },
  {
   "cell_type": "code",
   "execution_count": 11,
   "metadata": {},
   "outputs": [
    {
     "data": {
      "text/html": [
       "<div>\n",
       "<style>\n",
       "    .dataframe thead tr:only-child th {\n",
       "        text-align: right;\n",
       "    }\n",
       "\n",
       "    .dataframe thead th {\n",
       "        text-align: left;\n",
       "    }\n",
       "\n",
       "    .dataframe tbody tr th {\n",
       "        vertical-align: top;\n",
       "    }\n",
       "</style>\n",
       "<table border=\"1\" class=\"dataframe\">\n",
       "  <thead>\n",
       "    <tr style=\"text-align: right;\">\n",
       "      <th></th>\n",
       "      <th>PNL</th>\n",
       "      <th>buys</th>\n",
       "      <th>sells</th>\n",
       "      <th>longest_buys</th>\n",
       "      <th>longest_sells</th>\n",
       "    </tr>\n",
       "  </thead>\n",
       "  <tbody>\n",
       "    <tr>\n",
       "      <th>2018-01-08</th>\n",
       "      <td>0.00528</td>\n",
       "      <td>4415.0</td>\n",
       "      <td>2384.0</td>\n",
       "      <td>73.0</td>\n",
       "      <td>34.0</td>\n",
       "    </tr>\n",
       "    <tr>\n",
       "      <th>2018-01-09</th>\n",
       "      <td>0.00094</td>\n",
       "      <td>4340.0</td>\n",
       "      <td>2493.0</td>\n",
       "      <td>85.0</td>\n",
       "      <td>34.0</td>\n",
       "    </tr>\n",
       "    <tr>\n",
       "      <th>2018-01-10</th>\n",
       "      <td>-0.00020</td>\n",
       "      <td>4593.0</td>\n",
       "      <td>2455.0</td>\n",
       "      <td>89.0</td>\n",
       "      <td>39.0</td>\n",
       "    </tr>\n",
       "    <tr>\n",
       "      <th>2018-01-11</th>\n",
       "      <td>0.00406</td>\n",
       "      <td>3996.0</td>\n",
       "      <td>3137.0</td>\n",
       "      <td>135.0</td>\n",
       "      <td>63.0</td>\n",
       "    </tr>\n",
       "    <tr>\n",
       "      <th>2018-01-12</th>\n",
       "      <td>-0.01687</td>\n",
       "      <td>1722.0</td>\n",
       "      <td>5499.0</td>\n",
       "      <td>81.0</td>\n",
       "      <td>91.0</td>\n",
       "    </tr>\n",
       "  </tbody>\n",
       "</table>\n",
       "</div>"
      ],
      "text/plain": [
       "                PNL    buys   sells  longest_buys  longest_sells\n",
       "2018-01-08  0.00528  4415.0  2384.0          73.0           34.0\n",
       "2018-01-09  0.00094  4340.0  2493.0          85.0           34.0\n",
       "2018-01-10 -0.00020  4593.0  2455.0          89.0           39.0\n",
       "2018-01-11  0.00406  3996.0  3137.0         135.0           63.0\n",
       "2018-01-12 -0.01687  1722.0  5499.0          81.0           91.0"
      ]
     },
     "execution_count": 11,
     "metadata": {},
     "output_type": "execute_result"
    }
   ],
   "source": [
    "result_DTC_MS.head()"
   ]
  },
  {
   "cell_type": "code",
   "execution_count": 19,
   "metadata": {
    "collapsed": true
   },
   "outputs": [],
   "source": [
    "bp.reset_output()"
   ]
  },
  {
   "cell_type": "code",
   "execution_count": 20,
   "metadata": {
    "collapsed": true
   },
   "outputs": [],
   "source": [
    "plot_1 = bp.figure(width=850, height=300,title='Profit and Loss GBP,EUR/USD',x_axis_type='datetime')\n",
    "#es el mismo indice para todos entonces no hay problema\n",
    "x = result_RFC.index\n",
    "plot_1.line(x, result_RFC_MS.iloc[:,0], color='blue', legend='RFC', alpha=0.5)\n",
    "plot_1.circle(x, result_RFC_MS.iloc[:,0], color='blue', alpha=0.5,size=3)\n",
    "plot_1.line(x, result_DTC_MS.iloc[:,0], color='red', legend='DTC', alpha=0.5)\n",
    "plot_1.circle(x, result_DTC_MS.iloc[:,0], color='red',alpha=0.5,size=3)\n",
    "plot_1.line(x, result_KNC_MS.iloc[:,0], color='green', legend='KNC', alpha=0.5)\n",
    "plot_1.circle(x, result_KNC_MS.iloc[:,0], color='green',alpha=0.5,size=3)\n",
    "plot_1.line(x, np.zeros(len(result_RFC_MS)), color='black', legend='PNL = 0', line_dash='dotted')\n",
    "plot_1.xaxis.axis_label = 'datetime'\n",
    "plot_1.yaxis.axis_label = 'PNL'\n",
    "plot_1.legend.location ='bottom_center'\n",
    "plot_1.legend.orientation = 'horizontal'\n",
    "\n",
    "plot_2 = bp.figure(width=550, height=250, title='buys per day', x_axis_type='datetime')\n",
    "plot_2.line(x, result_RFC_MS.iloc[:,1], color='blue')\n",
    "plot_2.line(x, result_DTC_MS.iloc[:,1], color='red')\n",
    "plot_2.line(x, result_KNC_MS.iloc[:,1], color='green')\n",
    "#p2_RFC.circle(x, result_RFC.iloc[:,1], color='green')\n",
    "plot_2.xaxis.axis_label = 'datetime'\n",
    "plot_2.yaxis.axis_label = 'buys per day'\n",
    "\n",
    "#se utiliza el x_range para correlacionar las dos gráficas por el eje x\n",
    "plot_3 = bp.figure(width=550, height=250, title='sells per day', x_axis_type='datetime',x_range=plot_2.x_range)\n",
    "plot_3.line(x, result_RFC_MS.iloc[:,2], color='blue')\n",
    "plot_3.line(x, result_DTC_MS.iloc[:,2], color='red')\n",
    "plot_3.line(x, result_KNC_MS.iloc[:,2], color='green')\n",
    "#p3_RFC.circle(x, result_RFC.iloc[:,2], color='red')\n",
    "plot_3.xaxis.axis_label = 'datetime'\n",
    "plot_3.yaxis.axis_label = 'sells per day'\n",
    "\n",
    "#para pintar el PNL que se va acumulando del KNC\n",
    "PNL_accu_KNC_MS = []\n",
    "count_KNC_MS = 0\n",
    "for i in result_KNC_MS.iloc[:,0]:\n",
    "    count_KNC_MS += i\n",
    "    PNL_accu_KNC_MS.append(count_KNC_MS)\n",
    "#para pintar el PNL que se va acumulando del DTC\n",
    "PNL_accu_DTC_MS = []\n",
    "count_DTC_MS = 0\n",
    "for i in result_DTC_MS.iloc[:,0]:\n",
    "    count_DTC_MS += i\n",
    "    PNL_accu_DTC_MS.append(count_DTC_MS) \n",
    "#para pintar el PNL que se va acumulando del RFC\n",
    "PNL_accu_RFC_MS = []\n",
    "count_RFC_MS = 0\n",
    "for i in result_RFC_MS.iloc[:,0]:\n",
    "    count_RFC_MS += i\n",
    "    PNL_accu_RFC_MS.append(count_RFC_MS)\n",
    "    \n",
    "plot_4 = bp.figure(width=850, height=300,title='PNL accumulated',x_axis_type='datetime',x_range=plot_1.x_range)\n",
    "plot_4.line(x, PNL_accu_RFC_MS,color='blue',legend='RFC',alpha=0.5)\n",
    "plot_4.circle(x, PNL_accu_RFC_MS, color='blue', alpha=0.5, size=3)\n",
    "plot_4.line(x, PNL_accu_DTC_MS,color='red',legend='DTC',alpha=0.5)\n",
    "plot_4.circle(x, PNL_accu_DTC_MS, color='red', alpha=0.5, size=3)\n",
    "plot_4.line(x, PNL_accu_KNC_MS,color='green',legend='KNC',alpha=0.5)\n",
    "plot_4.circle(x, PNL_accu_KNC_MS, color='green', alpha=0.5, size=3)\n",
    "plot_4.line(x, np.zeros(len(result_RFC_MS)), color='black', legend='PNL = 0', line_dash='dotted')\n",
    "plot_4.xaxis.axis_label = 'datetime'\n",
    "plot_4.yaxis.axis_label = 'PNL accumulated'\n",
    "plot_4.legend.location ='bottom_center'\n",
    "plot_4.legend.orientation = 'horizontal'\n",
    "\n",
    "bp.show(gridplot([[plot_1],[plot_4],[plot_2,plot_3]], toolbar_location=\"right\"))\n",
    "bp.output_file(filename='../resultados/TrueFX/GBP-USD/MultiSeñal/comparaciónMultiSeñal'\n",
    "               ,title='comparación Multiseñal')"
   ]
  },
  {
   "cell_type": "markdown",
   "metadata": {},
   "source": [
    "ahora hacemos la comparación de con los datos de la señal GBP/USD sola..."
   ]
  },
  {
   "cell_type": "code",
   "execution_count": 21,
   "metadata": {
    "collapsed": true
   },
   "outputs": [],
   "source": [
    "result_KNC_SS = pd.read_csv('../resultados/TrueFX/GBP-USD/KNeighborsClassifier/pnl_KNC_wsize3_2018-01.csv',\n",
    "                           parse_dates=True, infer_datetime_format=True, index_col=0)\n",
    "result_DTC_SS = pd.read_csv('../resultados/TrueFX/GBP-USD/DecisionTreeClassifier/pnl_DTC_wsize3_2018-01.csv',\n",
    "                           parse_dates=True, infer_datetime_format=True, index_col=0)\n",
    "result_RFC_SS = pd.read_csv('../resultados/TrueFX/GBP-USD/RandomForestClassifier/pnl_RFC_wsize3_2018-01.csv',\n",
    "                           parse_dates=True, infer_datetime_format=True, index_col=0)"
   ]
  },
  {
   "cell_type": "code",
   "execution_count": 24,
   "metadata": {
    "collapsed": true
   },
   "outputs": [],
   "source": [
    "bp.reset_output()"
   ]
  },
  {
   "cell_type": "markdown",
   "metadata": {},
   "source": [
    "donde la linea punteada es la señal original GBP/USD y la linea normal es la multiseñal GBP/USD,EUR/USD.."
   ]
  },
  {
   "cell_type": "code",
   "execution_count": 26,
   "metadata": {
    "collapsed": true
   },
   "outputs": [],
   "source": [
    "plot_1 = bp.figure(width=850, height=350,title='Profit and Loss GBP/USD & GBP-EUR/USD',x_axis_type='datetime')\n",
    "#es el mismo indice para todos entonces no hay problema\n",
    "x = result_RFC_SS.index\n",
    "#los datos de la señal sola GBP-USD\n",
    "plot_1.line(x, result_RFC_SS.iloc[:,0], color='#0EE7E7', legend='RFC',line_dash='dotted')\n",
    "plot_1.circle(x, result_RFC_SS.iloc[:,0], color='#0EE7E7',size=3)\n",
    "plot_1.line(x, result_DTC_SS.iloc[:,0], color='red', legend='DTC',line_dash='dotted')\n",
    "plot_1.circle(x, result_DTC_SS.iloc[:,0], color='red',size=3)\n",
    "plot_1.line(x, result_KNC_SS.iloc[:,0], color='green', legend='KNC',line_dash='dotted')\n",
    "plot_1.circle(x, result_KNC_SS.iloc[:,0], color='green',size=3)\n",
    "#datos multiseñal GBP-USD, EUR-USD\n",
    "plot_1.line(x, result_RFC_MS.iloc[:,0], color='#0EE7E7', legend='RFC', alpha=1)\n",
    "plot_1.circle(x, result_RFC_MS.iloc[:,0], color='#0EE7E7', alpha=1,size=3)\n",
    "plot_1.line(x, result_DTC_MS.iloc[:,0], color='red', legend='DTC', alpha=1)\n",
    "plot_1.circle(x, result_DTC_MS.iloc[:,0], color='red',alpha=1,size=3)\n",
    "plot_1.line(x, result_KNC_MS.iloc[:,0], color='green', legend='KNC', alpha=1)\n",
    "plot_1.circle(x, result_KNC_MS.iloc[:,0], color='green',alpha=1,size=3)\n",
    "\n",
    "plot_1.line(x, np.zeros(len(result_RFC_SS)), color='black', legend='PNL = 0')\n",
    "plot_1.xaxis.axis_label = 'datetime'\n",
    "plot_1.yaxis.axis_label = 'PNL'\n",
    "plot_1.legend.location ='bottom_center'\n",
    "plot_1.legend.orientation = 'horizontal'\n",
    "\n",
    "plot_2 = bp.figure(width=550, height=250, title='buys per day EUR/USD & EUR-GBP/USD', x_axis_type='datetime')\n",
    "#compras de la señal GBP/USD\n",
    "plot_2.line(x, result_RFC_SS.iloc[:,1], color='#0EE7E7', line_dash='dotted')\n",
    "plot_2.line(x, result_DTC_SS.iloc[:,1], color='red', line_dash='dotted')\n",
    "plot_2.line(x, result_KNC_SS.iloc[:,1], color='green', line_dash='dotted')\n",
    "#compras de la multiseñal GBP/USD,EUR/USD\n",
    "plot_2.line(x, result_RFC_MS.iloc[:,1], color='#0EE7E7')\n",
    "plot_2.line(x, result_DTC_MS.iloc[:,1], color='red')\n",
    "plot_2.line(x, result_KNC_MS.iloc[:,1], color='green')\n",
    "plot_2.xaxis.axis_label = 'datetime'\n",
    "plot_2.yaxis.axis_label = 'buys per day'\n",
    "\n",
    "#se utiliza el x_range para correlacionar las dos gráficas por el eje x\n",
    "plot_3 = bp.figure(width=550, height=250, title='sells per day EUR/USD & EUR-GBP/USD', x_axis_type='datetime',x_range=plot_2.x_range)\n",
    "#ventas de la señal GBP/USD\n",
    "plot_3.line(x, result_RFC_SS.iloc[:,2], color='blue', line_dash='dotted')\n",
    "plot_3.line(x, result_DTC_SS.iloc[:,2], color='red', line_dash='dotted')\n",
    "plot_3.line(x, result_KNC_SS.iloc[:,2], color='green', line_dash='dotted')\n",
    "#ventas de la multiseñal GBP/USD,EUR/USD\n",
    "plot_3.line(x, result_RFC_MS.iloc[:,2], color='#0EE7E7')\n",
    "plot_3.line(x, result_DTC_MS.iloc[:,2], color='red')\n",
    "plot_3.line(x, result_KNC_MS.iloc[:,2], color='green')\n",
    "plot_3.xaxis.axis_label = 'datetime'\n",
    "plot_3.yaxis.axis_label = 'sells per day'\n",
    "\n",
    "#para pintar el PNL que se va acumulando del KNC\n",
    "PNL_accu_KNC_SS = []\n",
    "count_KNC_SS = 0\n",
    "for i in result_KNC_SS.iloc[:,0]:\n",
    "    count_KNC_SS += i\n",
    "    PNL_accu_KNC_SS.append(count_KNC_SS)\n",
    "#para pintar el PNL que se va acumulando del DTC\n",
    "PNL_accu_DTC_SS = []\n",
    "count_DTC_SS = 0\n",
    "for i in result_DTC_SS.iloc[:,0]:\n",
    "    count_DTC_SS += i\n",
    "    PNL_accu_DTC_SS.append(count_DTC_SS) \n",
    "#para pintar el PNL que se va acumulando del RFC\n",
    "PNL_accu_RFC_SS = []\n",
    "count_RFC_SS = 0\n",
    "for i in result_RFC_SS.iloc[:,0]:\n",
    "    count_RFC_SS += i\n",
    "    PNL_accu_RFC_SS.append(count_RFC_SS)\n",
    "\n",
    "#para pintar el PNL que se va acumulando del KNC MULTISEÑAL\n",
    "PNL_accu_KNC_MS = []\n",
    "count_KNC_MS = 0\n",
    "for i in result_KNC_MS.iloc[:,0]:\n",
    "    count_KNC_MS += i\n",
    "    PNL_accu_KNC_MS.append(count_KNC_MS)\n",
    "#para pintar el PNL que se va acumulando del DTC MULTISEÑAL\n",
    "PNL_accu_DTC_MS = []\n",
    "count_DTC_MS = 0\n",
    "for i in result_DTC_MS.iloc[:,0]:\n",
    "    count_DTC_MS += i\n",
    "    PNL_accu_DTC_MS.append(count_DTC_MS) \n",
    "#para pintar el PNL que se va acumulando del RFC MULTISEÑAL\n",
    "PNL_accu_RFC_MS = []\n",
    "count_RFC_MS = 0\n",
    "for i in result_RFC_MS.iloc[:,0]:\n",
    "    count_RFC_MS += i\n",
    "    PNL_accu_RFC_MS.append(count_RFC_MS)\n",
    "    \n",
    "plot_4 = bp.figure(width=850, height=350,title='PNL accumulated EUR/USD & EUR-GBP/USD',x_axis_type='datetime',x_range=plot_1.x_range)\n",
    "#para pintar el de la señal GBP/USD\n",
    "plot_4.line(x, PNL_accu_RFC_SS,color='#0EE7E7',legend='RFC',line_dash='dotted')\n",
    "plot_4.circle(x, PNL_accu_RFC_SS, color='#0EE7E7',size=3)\n",
    "plot_4.line(x, PNL_accu_DTC_SS,color='red',legend='DTC',line_dash='dotted')\n",
    "plot_4.circle(x, PNL_accu_DTC_SS, color='red',size=3)\n",
    "plot_4.line(x, PNL_accu_KNC_SS,color='green',legend='KNC',line_dash='dotted')\n",
    "plot_4.circle(x, PNL_accu_KNC_SS, color='green',size=3)\n",
    "#para pintar el de la MULTISEÑAL GBP/USD,EUR/USD\n",
    "plot_4.line(x, PNL_accu_RFC_MS,color='#0EE7E7',legend='RFC',alpha=1)\n",
    "plot_4.circle(x, PNL_accu_RFC_MS, color='#0EE7E7', alpha=1, size=3)\n",
    "plot_4.line(x, PNL_accu_DTC_MS,color='red',legend='DTC',alpha=1)\n",
    "plot_4.circle(x, PNL_accu_DTC_MS, color='red', alpha=1, size=3)\n",
    "plot_4.line(x, PNL_accu_KNC_MS,color='green',legend='KNC',alpha=1)\n",
    "plot_4.circle(x, PNL_accu_KNC_MS, color='green', alpha=1, size=3)\n",
    "\n",
    "plot_4.line(x, np.zeros(len(result_RFC_SS)), color='black', legend='PNL = 0')\n",
    "plot_4.xaxis.axis_label = 'datetime'\n",
    "plot_4.yaxis.axis_label = 'PNL accumulated'\n",
    "plot_4.legend.location ='bottom_center'\n",
    "plot_4.legend.orientation = 'horizontal'\n",
    "\n",
    "bp.show(gridplot([[plot_1],[plot_4],[plot_2,plot_3]], toolbar_location=\"right\"))\n",
    "bp.output_file(filename='../resultados/TrueFX/GBP-USD//MultiSeñal/ComparacionConjuntaMSconSeñalSimple'\n",
    "               , title='comparaciónConjunta Multiseñal')"
   ]
  },
  {
   "cell_type": "code",
   "execution_count": null,
   "metadata": {
    "collapsed": true
   },
   "outputs": [],
   "source": []
  }
 ],
 "metadata": {
  "kernelspec": {
   "display_name": "Python 3",
   "language": "python",
   "name": "python3"
  },
  "language_info": {
   "codemirror_mode": {
    "name": "ipython",
    "version": 3
   },
   "file_extension": ".py",
   "mimetype": "text/x-python",
   "name": "python",
   "nbconvert_exporter": "python",
   "pygments_lexer": "ipython3",
   "version": "3.6.2"
  }
 },
 "nbformat": 4,
 "nbformat_minor": 2
}
