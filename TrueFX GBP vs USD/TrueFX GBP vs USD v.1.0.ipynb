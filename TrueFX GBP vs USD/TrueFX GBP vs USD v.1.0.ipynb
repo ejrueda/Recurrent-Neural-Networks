{
 "cells": [
  {
   "cell_type": "code",
   "execution_count": 1,
   "metadata": {
    "collapsed": true
   },
   "outputs": [],
   "source": [
    "import numpy as np\n",
    "import pandas as pd\n",
    "import bokeh.plotting as bp\n",
    "from bokeh.layouts import gridplot\n",
    "#bp.output_notebook()\n",
    "import matplotlib.pyplot as plt\n",
    "%matplotlib inline"
   ]
  },
  {
   "cell_type": "code",
   "execution_count": 10,
   "metadata": {
    "collapsed": true
   },
   "outputs": [],
   "source": [
    "%run ../code/PNLEstimatorWrapper.py\n",
    "%run ../code/EUtilities.py\n",
    "EU = EUtilities()"
   ]
  },
  {
   "cell_type": "code",
   "execution_count": 11,
   "metadata": {
    "collapsed": true
   },
   "outputs": [],
   "source": [
    "#Se lee la señal anteriormente procesada\n",
    "data_set = pd.read_csv(\"../data/TrueFX/GBP-USD/GBPUSD-preprocesado-2018-01.csv\", parse_dates=True,\n",
    "                      infer_datetime_format=True, index_col=0)"
   ]
  },
  {
   "cell_type": "code",
   "execution_count": 12,
   "metadata": {},
   "outputs": [
    {
     "data": {
      "text/html": [
       "<div>\n",
       "<style>\n",
       "    .dataframe thead tr:only-child th {\n",
       "        text-align: right;\n",
       "    }\n",
       "\n",
       "    .dataframe thead th {\n",
       "        text-align: left;\n",
       "    }\n",
       "\n",
       "    .dataframe tbody tr th {\n",
       "        vertical-align: top;\n",
       "    }\n",
       "</style>\n",
       "<table border=\"1\" class=\"dataframe\">\n",
       "  <thead>\n",
       "    <tr style=\"text-align: right;\">\n",
       "      <th></th>\n",
       "      <th>bid</th>\n",
       "      <th>ask</th>\n",
       "    </tr>\n",
       "    <tr>\n",
       "      <th>date</th>\n",
       "      <th></th>\n",
       "      <th></th>\n",
       "    </tr>\n",
       "  </thead>\n",
       "  <tbody>\n",
       "    <tr>\n",
       "      <th>2018-01-02 00:00:40</th>\n",
       "      <td>1.34979</td>\n",
       "      <td>1.35176</td>\n",
       "    </tr>\n",
       "    <tr>\n",
       "      <th>2018-01-02 00:01:00</th>\n",
       "      <td>1.34918</td>\n",
       "      <td>1.35208</td>\n",
       "    </tr>\n",
       "    <tr>\n",
       "      <th>2018-01-02 00:01:10</th>\n",
       "      <td>1.34915</td>\n",
       "      <td>1.35354</td>\n",
       "    </tr>\n",
       "    <tr>\n",
       "      <th>2018-01-02 00:01:20</th>\n",
       "      <td>1.34915</td>\n",
       "      <td>1.35386</td>\n",
       "    </tr>\n",
       "    <tr>\n",
       "      <th>2018-01-02 00:01:30</th>\n",
       "      <td>1.34938</td>\n",
       "      <td>1.35440</td>\n",
       "    </tr>\n",
       "  </tbody>\n",
       "</table>\n",
       "</div>"
      ],
      "text/plain": [
       "                         bid      ask\n",
       "date                                 \n",
       "2018-01-02 00:00:40  1.34979  1.35176\n",
       "2018-01-02 00:01:00  1.34918  1.35208\n",
       "2018-01-02 00:01:10  1.34915  1.35354\n",
       "2018-01-02 00:01:20  1.34915  1.35386\n",
       "2018-01-02 00:01:30  1.34938  1.35440"
      ]
     },
     "execution_count": 12,
     "metadata": {},
     "output_type": "execute_result"
    }
   ],
   "source": [
    "data_set.head()"
   ]
  },
  {
   "cell_type": "code",
   "execution_count": 13,
   "metadata": {},
   "outputs": [
    {
     "data": {
      "image/png": "[encoded data removed]",
      "text/plain": [
       "<matplotlib.figure.Figure at 0x7f31dbbce5c0>"
      ]
     },
     "metadata": {},
     "output_type": "display_data"
    }
   ],
   "source": [
    "plt.figure(figsize=(15,5))\n",
    "plt.title('Comportamiento del spread')\n",
    "plt.xlabel('[t] en pulsasiones')\n",
    "plt.ylabel('GBP/USD')\n",
    "plt.plot(np.arange(data_set.shape[0]), data_set.iloc[:,1]-data_set.iloc[:,0], alpha=1, color='green');"
   ]
  },
  {
   "cell_type": "code",
   "execution_count": 14,
   "metadata": {},
   "outputs": [
    {
     "data": {
      "image/png": "[encoded data removed]",
      "text/plain": [
       "<matplotlib.figure.Figure at 0x7f31de1ab5c0>"
      ]
     },
     "metadata": {},
     "output_type": "display_data"
    }
   ],
   "source": [
    "plt.figure(figsize=(15,5))\n",
    "plt.title('Comportamiento del Bid')\n",
    "plt.xlabel('[t] 10s')\n",
    "plt.ylabel('BGP/USD')\n",
    "plt.plot(np.arange(data_set.shape[0]), data_set.iloc[:,0], alpha=1, color='#3383FF');"
   ]
  },
  {
   "cell_type": "markdown",
   "metadata": {},
   "source": [
    "#### Construyendo el Dataset\n",
    "se prueba con la ventana de tamaño 3, con la que dió mejor resultado en EUR/USD, pero se probará tambien con cual tamaño de ventana funciona mejor."
   ]
  },
  {
   "cell_type": "code",
   "execution_count": 15,
   "metadata": {
    "collapsed": true
   },
   "outputs": [],
   "source": [
    "window = 3\n",
    "X, y_reg, bt = EU.build_dataset(data_set, window, binary_target=True, delete_constant_values=True, PNL=True)"
   ]
  },
  {
   "cell_type": "code",
   "execution_count": 16,
   "metadata": {},
   "outputs": [
    {
     "data": {
      "text/plain": [
       "((160804, 5), (160804,), (160804,))"
      ]
     },
     "execution_count": 16,
     "metadata": {},
     "output_type": "execute_result"
    }
   ],
   "source": [
    "X.shape, y_reg.shape, bt.shape"
   ]
  },
  {
   "cell_type": "code",
   "execution_count": 17,
   "metadata": {},
   "outputs": [
    {
     "data": {
      "text/html": [
       "<div>\n",
       "<style>\n",
       "    .dataframe thead tr:only-child th {\n",
       "        text-align: right;\n",
       "    }\n",
       "\n",
       "    .dataframe thead th {\n",
       "        text-align: left;\n",
       "    }\n",
       "\n",
       "    .dataframe tbody tr th {\n",
       "        vertical-align: top;\n",
       "    }\n",
       "</style>\n",
       "<table border=\"1\" class=\"dataframe\">\n",
       "  <thead>\n",
       "    <tr style=\"text-align: right;\">\n",
       "      <th></th>\n",
       "      <th>0</th>\n",
       "      <th>1</th>\n",
       "      <th>2</th>\n",
       "      <th>PNL_0</th>\n",
       "      <th>PNL_1</th>\n",
       "    </tr>\n",
       "    <tr>\n",
       "      <th>date</th>\n",
       "      <th></th>\n",
       "      <th></th>\n",
       "      <th></th>\n",
       "      <th></th>\n",
       "      <th></th>\n",
       "    </tr>\n",
       "  </thead>\n",
       "  <tbody>\n",
       "    <tr>\n",
       "      <th>2018-01-02 00:01:20</th>\n",
       "      <td>1.34918</td>\n",
       "      <td>1.34915</td>\n",
       "      <td>1.34915</td>\n",
       "      <td>-0.00525</td>\n",
       "      <td>-0.00448</td>\n",
       "    </tr>\n",
       "    <tr>\n",
       "      <th>2018-01-02 00:01:40</th>\n",
       "      <td>1.34915</td>\n",
       "      <td>1.34938</td>\n",
       "      <td>1.34938</td>\n",
       "      <td>-0.00362</td>\n",
       "      <td>-0.00444</td>\n",
       "    </tr>\n",
       "    <tr>\n",
       "      <th>2018-01-02 00:01:50</th>\n",
       "      <td>1.34938</td>\n",
       "      <td>1.34938</td>\n",
       "      <td>1.34942</td>\n",
       "      <td>-0.00358</td>\n",
       "      <td>-0.00361</td>\n",
       "    </tr>\n",
       "    <tr>\n",
       "      <th>2018-01-02 00:02:10</th>\n",
       "      <td>1.34938</td>\n",
       "      <td>1.34942</td>\n",
       "      <td>1.34939</td>\n",
       "      <td>-0.00215</td>\n",
       "      <td>-0.00321</td>\n",
       "    </tr>\n",
       "    <tr>\n",
       "      <th>2018-01-02 00:02:40</th>\n",
       "      <td>1.34939</td>\n",
       "      <td>1.34979</td>\n",
       "      <td>1.34979</td>\n",
       "      <td>-0.00321</td>\n",
       "      <td>-0.00213</td>\n",
       "    </tr>\n",
       "  </tbody>\n",
       "</table>\n",
       "</div>"
      ],
      "text/plain": [
       "                           0        1        2    PNL_0    PNL_1\n",
       "date                                                            \n",
       "2018-01-02 00:01:20  1.34918  1.34915  1.34915 -0.00525 -0.00448\n",
       "2018-01-02 00:01:40  1.34915  1.34938  1.34938 -0.00362 -0.00444\n",
       "2018-01-02 00:01:50  1.34938  1.34938  1.34942 -0.00358 -0.00361\n",
       "2018-01-02 00:02:10  1.34938  1.34942  1.34939 -0.00215 -0.00321\n",
       "2018-01-02 00:02:40  1.34939  1.34979  1.34979 -0.00321 -0.00213"
      ]
     },
     "execution_count": 17,
     "metadata": {},
     "output_type": "execute_result"
    }
   ],
   "source": [
    "X.head()"
   ]
  },
  {
   "cell_type": "code",
   "execution_count": 18,
   "metadata": {
    "collapsed": true
   },
   "outputs": [],
   "source": [
    "# se muestrea la señal a predecir por cada hora para colocar con los buy y sell por dia.\n",
    "signal_sample = (X.resample('1h',loffset='h').last()).iloc[:,2][1:]"
   ]
  },
  {
   "cell_type": "markdown",
   "metadata": {},
   "source": [
    "Se prueba con un GaussianNB para ver su rendimiento, esto teniendo cuenta que solo es con un mes de datos"
   ]
  },
  {
   "cell_type": "code",
   "execution_count": 20,
   "metadata": {},
   "outputs": [
    {
     "name": "stdout",
     "output_type": "stream",
     "text": [
      "--------- GaussianNB ----------------\n",
      "average PNL :  -0.571808947368\n",
      "average buy:  2137.52631579\n",
      "average sell:  4865.57894737\n",
      "-------------------------------------\n",
      "                PNL    buys   sells  longest_buys  longest_sells\n",
      "2018-01-08 -0.54525   633.0  6166.0         451.0         2635.0\n",
      "2018-01-09 -0.48016  3585.0  3248.0        2116.0         2825.0\n",
      "2018-01-10 -0.49300  3864.0  3183.0        1772.0         1066.0\n",
      "2018-01-11 -0.54816  4759.0  2374.0        4759.0         2374.0\n",
      "2018-01-12 -0.59333  2545.0  4677.0        2450.0         4643.0\n",
      "2018-01-15 -0.72842  7279.0     0.0        7279.0            0.0\n",
      "2018-01-16 -0.60395     0.0  7108.0           0.0         7108.0\n",
      "2018-01-17 -0.57881     0.0  7515.0           0.0         7515.0\n",
      "2018-01-18 -0.58522     0.0  7473.0           0.0         7473.0\n",
      "2018-01-19 -0.62638     0.0  7361.0           0.0         7361.0\n",
      "2018-01-22 -0.57036     0.0  7399.0           0.0         7399.0\n",
      "2018-01-23 -0.56589     0.0  7330.0           0.0         7330.0\n",
      "2018-01-24 -0.52004     0.0  7579.0           0.0         7579.0\n",
      "2018-01-25 -0.65802  6863.0   962.0        6840.0          910.0\n",
      "2018-01-26 -0.80353     0.0  7780.0           0.0         7780.0\n",
      "2018-01-29 -0.63314  7037.0   520.0        5744.0          479.0\n",
      "2018-01-30 -0.58029  4048.0  3578.0        3809.0         2603.0\n",
      "2018-01-31 -0.62242     0.0  7718.0           0.0         7718.0\n",
      "2018-02-01 -0.12800     0.0   475.0           0.0          475.0\n"
     ]
    }
   ],
   "source": [
    "from sklearn.naive_bayes import GaussianNB\n",
    "    \n",
    "y = bt\n",
    "n_bdtrain = 4\n",
    "n_bdtest = 1\n",
    "mday = 1\n",
    "#para indexar el dataframe por las fechas\n",
    "dates = np.unique(X.index.date)[n_bdtrain:]\n",
    "est_GNB = PNLEstimatorWrapper(GaussianNB(), PNL_column=['PNL_0','PNL_1'])\n",
    "result_GNB = EU.step_validation(est_GNB, X, y, EU.v_split(X,n_bdtrain,n_bdtest,mday))\n",
    "result_GNB, predict_GNB = EU.redim(result_GNB)\n",
    "print('--------- GaussianNB ----------------')\n",
    "print('average PNL : ', np.mean(result_GNB[:,0]))\n",
    "print('average buy: ', np.mean(result_GNB[:,1]))\n",
    "print('average sell: ', np.mean(result_GNB[:,2]))\n",
    "print('-------------------------------------')\n",
    "df_GNB = pd.DataFrame(result_GNB, columns=list(['PNL','buys','sells','longest_buys','longest_sells']),index=dates)\n",
    "print(df_GNB)\n",
    "df_GNB.to_csv('../resultados/TrueFX/GBP-USD/GaussianNB/pnl_GNB_wsize3_2018-01.csv')"
   ]
  },
  {
   "cell_type": "markdown",
   "metadata": {},
   "source": [
    "los primeros cuatro días equivalen a 27743 datos del dataset"
   ]
  },
  {
   "cell_type": "code",
   "execution_count": 22,
   "metadata": {
    "scrolled": true
   },
   "outputs": [
    {
     "name": "stdout",
     "output_type": "stream",
     "text": [
      "(array([    0,     1,     2, ..., 27742, 27743, 27744]), array([27745, 27746, 27747, ..., 34541, 34542, 34543]))\n",
      "(array([ 6858,  6859,  6860, ..., 34541, 34542, 34543]), array([34544, 34545, 34546, ..., 41374, 41375, 41376]))\n",
      "(array([13844, 13845, 13846, ..., 41374, 41375, 41376]), array([41377, 41378, 41379, ..., 48421, 48422, 48423]))\n",
      "(array([20820, 20821, 20822, ..., 48421, 48422, 48423]), array([48424, 48425, 48426, ..., 55554, 55555, 55556]))\n",
      "(array([27745, 27746, 27747, ..., 55554, 55555, 55556]), array([55557, 55558, 55559, ..., 62776, 62777, 62778]))\n",
      "(array([34544, 34545, 34546, ..., 62776, 62777, 62778]), array([62779, 62780, 62781, ..., 70055, 70056, 70057]))\n",
      "(array([41377, 41378, 41379, ..., 70055, 70056, 70057]), array([70058, 70059, 70060, ..., 77163, 77164, 77165]))\n",
      "(array([48424, 48425, 48426, ..., 77163, 77164, 77165]), array([77166, 77167, 77168, ..., 84678, 84679, 84680]))\n",
      "(array([55557, 55558, 55559, ..., 84678, 84679, 84680]), array([84681, 84682, 84683, ..., 92151, 92152, 92153]))\n",
      "(array([62779, 62780, 62781, ..., 92151, 92152, 92153]), array([92154, 92155, 92156, ..., 99512, 99513, 99514]))\n",
      "(array([70058, 70059, 70060, ..., 99512, 99513, 99514]), array([ 99515,  99516,  99517, ..., 106911, 106912, 106913]))\n",
      "(array([ 77166,  77167,  77168, ..., 106911, 106912, 106913]), array([106914, 106915, 106916, ..., 114241, 114242, 114243]))\n",
      "(array([ 84681,  84682,  84683, ..., 114241, 114242, 114243]), array([114244, 114245, 114246, ..., 121820, 121821, 121822]))\n",
      "(array([ 92154,  92155,  92156, ..., 121820, 121821, 121822]), array([121823, 121824, 121825, ..., 129645, 129646, 129647]))\n",
      "(array([ 99515,  99516,  99517, ..., 129645, 129646, 129647]), array([129648, 129649, 129650, ..., 137425, 137426, 137427]))\n",
      "(array([106914, 106915, 106916, ..., 137425, 137426, 137427]), array([137428, 137429, 137430, ..., 144982, 144983, 144984]))\n",
      "(array([114244, 114245, 114246, ..., 144982, 144983, 144984]), array([144985, 144986, 144987, ..., 152608, 152609, 152610]))\n",
      "(array([121823, 121824, 121825, ..., 152608, 152609, 152610]), array([152611, 152612, 152613, ..., 160326, 160327, 160328]))\n",
      "(array([129648, 129649, 129650, ..., 160326, 160327, 160328]), array([160329, 160330, 160331, 160332, 160333, 160334, 160335, 160336,\n",
      "       160337, 160338, 160339, 160340, 160341, 160342, 160343, 160344,\n",
      "       160345, 160346, 160347, 160348, 160349, 160350, 160351, 160352,\n",
      "       160353, 160354, 160355, 160356, 160357, 160358, 160359, 160360,\n",
      "       160361, 160362, 160363, 160364, 160365, 160366, 160367, 160368,\n",
      "       160369, 160370, 160371, 160372, 160373, 160374, 160375, 160376,\n",
      "       160377, 160378, 160379, 160380, 160381, 160382, 160383, 160384,\n",
      "       160385, 160386, 160387, 160388, 160389, 160390, 160391, 160392,\n",
      "       160393, 160394, 160395, 160396, 160397, 160398, 160399, 160400,\n",
      "       160401, 160402, 160403, 160404, 160405, 160406, 160407, 160408,\n",
      "       160409, 160410, 160411, 160412, 160413, 160414, 160415, 160416,\n",
      "       160417, 160418, 160419, 160420, 160421, 160422, 160423, 160424,\n",
      "       160425, 160426, 160427, 160428, 160429, 160430, 160431, 160432,\n",
      "       160433, 160434, 160435, 160436, 160437, 160438, 160439, 160440,\n",
      "       160441, 160442, 160443, 160444, 160445, 160446, 160447, 160448,\n",
      "       160449, 160450, 160451, 160452, 160453, 160454, 160455, 160456,\n",
      "       160457, 160458, 160459, 160460, 160461, 160462, 160463, 160464,\n",
      "       160465, 160466, 160467, 160468, 160469, 160470, 160471, 160472,\n",
      "       160473, 160474, 160475, 160476, 160477, 160478, 160479, 160480,\n",
      "       160481, 160482, 160483, 160484, 160485, 160486, 160487, 160488,\n",
      "       160489, 160490, 160491, 160492, 160493, 160494, 160495, 160496,\n",
      "       160497, 160498, 160499, 160500, 160501, 160502, 160503, 160504,\n",
      "       160505, 160506, 160507, 160508, 160509, 160510, 160511, 160512,\n",
      "       160513, 160514, 160515, 160516, 160517, 160518, 160519, 160520,\n",
      "       160521, 160522, 160523, 160524, 160525, 160526, 160527, 160528,\n",
      "       160529, 160530, 160531, 160532, 160533, 160534, 160535, 160536,\n",
      "       160537, 160538, 160539, 160540, 160541, 160542, 160543, 160544,\n",
      "       160545, 160546, 160547, 160548, 160549, 160550, 160551, 160552,\n",
      "       160553, 160554, 160555, 160556, 160557, 160558, 160559, 160560,\n",
      "       160561, 160562, 160563, 160564, 160565, 160566, 160567, 160568,\n",
      "       160569, 160570, 160571, 160572, 160573, 160574, 160575, 160576,\n",
      "       160577, 160578, 160579, 160580, 160581, 160582, 160583, 160584,\n",
      "       160585, 160586, 160587, 160588, 160589, 160590, 160591, 160592,\n",
      "       160593, 160594, 160595, 160596, 160597, 160598, 160599, 160600,\n",
      "       160601, 160602, 160603, 160604, 160605, 160606, 160607, 160608,\n",
      "       160609, 160610, 160611, 160612, 160613, 160614, 160615, 160616,\n",
      "       160617, 160618, 160619, 160620, 160621, 160622, 160623, 160624,\n",
      "       160625, 160626, 160627, 160628, 160629, 160630, 160631, 160632,\n",
      "       160633, 160634, 160635, 160636, 160637, 160638, 160639, 160640,\n",
      "       160641, 160642, 160643, 160644, 160645, 160646, 160647, 160648,\n",
      "       160649, 160650, 160651, 160652, 160653, 160654, 160655, 160656,\n",
      "       160657, 160658, 160659, 160660, 160661, 160662, 160663, 160664,\n",
      "       160665, 160666, 160667, 160668, 160669, 160670, 160671, 160672,\n",
      "       160673, 160674, 160675, 160676, 160677, 160678, 160679, 160680,\n",
      "       160681, 160682, 160683, 160684, 160685, 160686, 160687, 160688,\n",
      "       160689, 160690, 160691, 160692, 160693, 160694, 160695, 160696,\n",
      "       160697, 160698, 160699, 160700, 160701, 160702, 160703, 160704,\n",
      "       160705, 160706, 160707, 160708, 160709, 160710, 160711, 160712,\n",
      "       160713, 160714, 160715, 160716, 160717, 160718, 160719, 160720,\n",
      "       160721, 160722, 160723, 160724, 160725, 160726, 160727, 160728,\n",
      "       160729, 160730, 160731, 160732, 160733, 160734, 160735, 160736,\n",
      "       160737, 160738, 160739, 160740, 160741, 160742, 160743, 160744,\n",
      "       160745, 160746, 160747, 160748, 160749, 160750, 160751, 160752,\n",
      "       160753, 160754, 160755, 160756, 160757, 160758, 160759, 160760,\n",
      "       160761, 160762, 160763, 160764, 160765, 160766, 160767, 160768,\n",
      "       160769, 160770, 160771, 160772, 160773, 160774, 160775, 160776,\n",
      "       160777, 160778, 160779, 160780, 160781, 160782, 160783, 160784,\n",
      "       160785, 160786, 160787, 160788, 160789, 160790, 160791, 160792,\n",
      "       160793, 160794, 160795, 160796, 160797, 160798, 160799, 160800,\n",
      "       160801, 160802, 160803]))\n"
     ]
    }
   ],
   "source": [
    "for i in EU.v_split(X,4,1,1):\n",
    "    print (i)"
   ]
  },
  {
   "cell_type": "code",
   "execution_count": 24,
   "metadata": {},
   "outputs": [
    {
     "data": {
      "text/plain": [
       "(133059, 133059)"
      ]
     },
     "execution_count": 24,
     "metadata": {},
     "output_type": "execute_result"
    }
   ],
   "source": [
    "firts_4bd = 27745 #primeros 4 días\n",
    "len(predict_GNB),len(y)- firts_4bd"
   ]
  },
  {
   "cell_type": "markdown",
   "metadata": {},
   "source": [
    "### Se pintarán las ventas en color rojo y las compras en color verde!"
   ]
  },
  {
   "cell_type": "markdown",
   "metadata": {},
   "source": [
    "Como para el target se empieza del segundo valor de la fila X, es decir, el primer valor de la señal no tiene una predicción ya que no tiene un valor anterior para ser comparado, por esto se coge la señal \"y_reg\" y no se toma el último valor ya que este no tiene predicción"
   ]
  },
  {
   "cell_type": "code",
   "execution_count": 25,
   "metadata": {},
   "outputs": [
    {
     "name": "stdout",
     "output_type": "stream",
     "text": [
      "(133059,)\n",
      "(133059,)\n",
      "(133059,)\n",
      "(133059,)\n"
     ]
    }
   ],
   "source": [
    "#para graficar las compras acertadas sobre la señal original\n",
    "buy_GNB_ok = ((predict_GNB==bt[firts_4bd:])&(predict_GNB==1))*y_reg[firts_4bd-1:-1]\n",
    "buy_GNB_ok[buy_GNB_ok==0] = np.nan \n",
    "print (buy_GNB_ok.shape)\n",
    "#para graficar las ventas acertadas sobre la señal original\n",
    "sell_GNB_ok = ((predict_GNB==bt[firts_4bd:])&(predict_GNB==0))*y_reg[firts_4bd-1:-1]\n",
    "sell_GNB_ok[sell_GNB_ok==0] = np.nan\n",
    "print (sell_GNB_ok.shape)\n",
    "\n",
    "#para graficar las compras fallidas sobre la señal original\n",
    "buy_GNB_mal = ((predict_GNB!=bt[firts_4bd:])&(predict_GNB==1))*y_reg[firts_4bd-1:-1]\n",
    "buy_GNB_mal[buy_GNB_mal==0] = np.nan \n",
    "print (buy_GNB_mal.shape)\n",
    "#para graficar las ventas fallidas sobre la señal original\n",
    "sell_GNB_mal = ((predict_GNB!=bt[firts_4bd:])&(predict_GNB==0))*y_reg[firts_4bd-1:-1]\n",
    "sell_GNB_mal[sell_GNB_mal==0] = np.nan\n",
    "print (sell_GNB_mal.shape)"
   ]
  },
  {
   "cell_type": "code",
   "execution_count": 26,
   "metadata": {
    "collapsed": true
   },
   "outputs": [],
   "source": [
    "dates = np.unique(data_set.index.date) #para graficar el numero de ventas y compras por dia\n",
    "x_axis = X.index[firts_4bd:] #para graficar los resultados por datetime"
   ]
  },
  {
   "cell_type": "code",
   "execution_count": 27,
   "metadata": {
    "collapsed": true
   },
   "outputs": [],
   "source": [
    "bp.reset_output()"
   ]
  },
  {
   "cell_type": "markdown",
   "metadata": {},
   "source": [
    "graficando con bokeh"
   ]
  },
  {
   "cell_type": "code",
   "execution_count": 29,
   "metadata": {
    "collapsed": true
   },
   "outputs": [],
   "source": [
    "p1_GNB = bp.Figure(width=750, height=300,title='buys and sells with a GaussianNB',x_axis_type='datetime',\n",
    "               title_location = 'above')\n",
    "p1_GNB.triangle(x_axis, buy_GNB_ok, color='green', legend='predict buys ok')\n",
    "p1_GNB.triangle(x_axis, sell_GNB_ok, color='green', legend='predict sells ok', angle=45)\n",
    "p1_GNB.xaxis.axis_label = 'Datetime'\n",
    "p1_GNB.yaxis.axis_label = 'GBP/USD'\n",
    "p1_GNB.triangle(x_axis, buy_GNB_mal, color='red', legend='predict incorrect buy')\n",
    "p1_GNB.triangle(x_axis, sell_GNB_mal, color='red', legend='predict incorrect sell', angle=45)\n",
    "p1_GNB.line(x_axis, y_reg[firts_4bd-1:-1], color='blue', alpha=0.2, legend='bid')\n",
    "p1_GNB.legend.location = 'bottom_left'\n",
    "p1_GNB.legend.orientation = 'horizontal'\n",
    "p1_GNB.legend.background_fill_color = 'grey'\n",
    "p1_GNB.legend.background_fill_alpha = 0.1\n",
    "p1_GNB.legend.border_line_alpha = None\n",
    "\n",
    "p2_GNB = bp.Figure(width=750, height=300,title='Profit and Loss with a GaussianNB',x_axis_type='datetime')\n",
    "p2_GNB.line(dates[n_bdtrain:], result_GNB[:,0], color='blue', legend='PNL', alpha=0.5)\n",
    "p2_GNB.circle(dates[n_bdtrain:], result_GNB[:,0], color='blue', legend='PNL', alpha=0.5)\n",
    "p2_GNB.line(dates[n_bdtrain:], np.zeros(len(result_GNB)), color='red', legend='PNL = 0', line_dash='dotted')\n",
    "p2_GNB.line(dates[n_bdtrain:],np.ones(len(result_GNB[:,0]))*np.mean(result_GNB[:,0]),color='green',legend='avg PNL')\n",
    "p2_GNB.xaxis.axis_label = 'datetime'\n",
    "p2_GNB.yaxis.axis_label = 'PNL'\n",
    "p2_GNB.legend.location ='bottom_center'\n",
    "p2_GNB.legend.orientation = 'horizontal'\n",
    "\n",
    "p3_GNB = bp.Figure(width=400, height=250, title='buys per day', x_axis_type='datetime')\n",
    "p3_GNB.line(dates[n_bdtrain:], result_GNB[:,1], color='green')\n",
    "p3_GNB.circle(dates[n_bdtrain:], result_GNB[:,1], color='green')\n",
    "p3_GNB.xaxis.axis_label = 'datetime'\n",
    "p3_GNB.yaxis.axis_label = 'buys per day'\n",
    "#se utiliza el x_range para correlacionar las dos gráficas por el eje x\n",
    "p4_GNB = bp.Figure(width=400, height=250, title='sells per day', x_axis_type='datetime',x_range=p3_GNB.x_range)\n",
    "p4_GNB.line(dates[n_bdtrain:], result_GNB[:,2], color='red')\n",
    "p4_GNB.circle(dates[n_bdtrain:], result_GNB[:,2], color='red')\n",
    "p4_GNB.xaxis.axis_label = 'datetime'\n",
    "p4_GNB.yaxis.axis_label = 'sells per day'\n",
    "\n",
    "#para pintar el PNL que se va acumulando\n",
    "PNL_accu_GNB = []\n",
    "count_GNB = 0\n",
    "for i in result_GNB[:,0]:\n",
    "    count_GNB += i\n",
    "    PNL_accu_GNB.append(count_GNB)\n",
    "#se pinta el PNL acumulado\n",
    "p5_GNB = bp.Figure(width=750, height=300,title='PNL accumulated with a GaussianNB',x_axis_type='datetime',\n",
    "                   x_range=p2_GNB.x_range)\n",
    "p5_GNB.line(dates[n_bdtrain:],PNL_accu_GNB,color='blue',legend='PNL accumulated',alpha=0.5)\n",
    "p5_GNB.circle(dates[n_bdtrain:], PNL_accu_GNB, color='blue',legend='PNL accumulated', alpha=0.5)\n",
    "p5_GNB.line(dates[n_bdtrain:], np.zeros(len(result_GNB)), color='red', legend='PNL = 0', line_dash='dotted')\n",
    "p5_GNB.xaxis.axis_label = 'datetime'\n",
    "p5_GNB.yaxis.axis_label = 'PNL accumulated'\n",
    "p5_GNB.legend.location ='bottom_center'\n",
    "p5_GNB.legend.orientation = 'horizontal'\n",
    "\n",
    "#se pinta la señal submuestreada para verlas con en volumen de compras y ventas por día\n",
    "p6_GNB = bp.Figure(width=400, height=250, title='signal per hours', x_axis_type='datetime',x_range=p3_GNB.x_range)\n",
    "p6_GNB.line(signal_sample.index, signal_sample, color='blue')\n",
    "p6_GNB.xaxis.axis_label = 'datetime'\n",
    "p6_GNB.yaxis.axis_label = 'bid GBP/USD'\n",
    "\n",
    "bp.show(gridplot([[p1_GNB,p3_GNB],[p2_GNB,p4_GNB],[p5_GNB,p6_GNB]], toolbar_location=\"right\"))\n",
    "bp.output_file(filename='../resultados/TrueFX/GBP-USD/GaussianNB/grafico GaussianNB.html', title='GaussianNB')"
   ]
  },
  {
   "cell_type": "markdown",
   "metadata": {},
   "source": [
    "### Se prueba con un KNeighborsClassifier"
   ]
  },
  {
   "cell_type": "code",
   "execution_count": 31,
   "metadata": {},
   "outputs": [
    {
     "name": "stdout",
     "output_type": "stream",
     "text": [
      "-------- KNeighborsClassifier -------\n",
      "average PNL:  -0.572001578947\n",
      "average buy:  2630.42105263\n",
      "average sell:  4372.68421053\n",
      "-------------------------------------\n"
     ]
    },
    {
     "ename": "ValueError",
     "evalue": "Shape of passed values is (5, 19), indices imply (5, 23)",
     "output_type": "error",
     "traceback": [
      "\u001b[0;31m---------------------------------------------------------------------------\u001b[0m",
      "\u001b[0;31mValueError\u001b[0m                                Traceback (most recent call last)",
      "\u001b[0;32m~/anaconda3/lib/python3.6/site-packages/pandas/core/internals.py\u001b[0m in \u001b[0;36mcreate_block_manager_from_blocks\u001b[0;34m(blocks, axes)\u001b[0m\n\u001b[1;32m   4295\u001b[0m \u001b[0;34m\u001b[0m\u001b[0m\n\u001b[0;32m-> 4296\u001b[0;31m         \u001b[0mmgr\u001b[0m \u001b[0;34m=\u001b[0m \u001b[0mBlockManager\u001b[0m\u001b[0;34m(\u001b[0m\u001b[0mblocks\u001b[0m\u001b[0;34m,\u001b[0m \u001b[0maxes\u001b[0m\u001b[0;34m)\u001b[0m\u001b[0;34m\u001b[0m\u001b[0m\n\u001b[0m\u001b[1;32m   4297\u001b[0m         \u001b[0mmgr\u001b[0m\u001b[0;34m.\u001b[0m\u001b[0m_consolidate_inplace\u001b[0m\u001b[0;34m(\u001b[0m\u001b[0;34m)\u001b[0m\u001b[0;34m\u001b[0m\u001b[0m\n",
      "\u001b[0;32m~/anaconda3/lib/python3.6/site-packages/pandas/core/internals.py\u001b[0m in \u001b[0;36m__init__\u001b[0;34m(self, blocks, axes, do_integrity_check, fastpath)\u001b[0m\n\u001b[1;32m   2794\u001b[0m         \u001b[0;32mif\u001b[0m \u001b[0mdo_integrity_check\u001b[0m\u001b[0;34m:\u001b[0m\u001b[0;34m\u001b[0m\u001b[0m\n\u001b[0;32m-> 2795\u001b[0;31m             \u001b[0mself\u001b[0m\u001b[0;34m.\u001b[0m\u001b[0m_verify_integrity\u001b[0m\u001b[0;34m(\u001b[0m\u001b[0;34m)\u001b[0m\u001b[0;34m\u001b[0m\u001b[0m\n\u001b[0m\u001b[1;32m   2796\u001b[0m \u001b[0;34m\u001b[0m\u001b[0m\n",
      "\u001b[0;32m~/anaconda3/lib/python3.6/site-packages/pandas/core/internals.py\u001b[0m in \u001b[0;36m_verify_integrity\u001b[0;34m(self)\u001b[0m\n\u001b[1;32m   3005\u001b[0m             \u001b[0;32mif\u001b[0m \u001b[0mblock\u001b[0m\u001b[0;34m.\u001b[0m\u001b[0m_verify_integrity\u001b[0m \u001b[0;32mand\u001b[0m \u001b[0mblock\u001b[0m\u001b[0;34m.\u001b[0m\u001b[0mshape\u001b[0m\u001b[0;34m[\u001b[0m\u001b[0;36m1\u001b[0m\u001b[0;34m:\u001b[0m\u001b[0;34m]\u001b[0m \u001b[0;34m!=\u001b[0m \u001b[0mmgr_shape\u001b[0m\u001b[0;34m[\u001b[0m\u001b[0;36m1\u001b[0m\u001b[0;34m:\u001b[0m\u001b[0;34m]\u001b[0m\u001b[0;34m:\u001b[0m\u001b[0;34m\u001b[0m\u001b[0m\n\u001b[0;32m-> 3006\u001b[0;31m                 \u001b[0mconstruction_error\u001b[0m\u001b[0;34m(\u001b[0m\u001b[0mtot_items\u001b[0m\u001b[0;34m,\u001b[0m \u001b[0mblock\u001b[0m\u001b[0;34m.\u001b[0m\u001b[0mshape\u001b[0m\u001b[0;34m[\u001b[0m\u001b[0;36m1\u001b[0m\u001b[0;34m:\u001b[0m\u001b[0;34m]\u001b[0m\u001b[0;34m,\u001b[0m \u001b[0mself\u001b[0m\u001b[0;34m.\u001b[0m\u001b[0maxes\u001b[0m\u001b[0;34m)\u001b[0m\u001b[0;34m\u001b[0m\u001b[0m\n\u001b[0m\u001b[1;32m   3007\u001b[0m         \u001b[0;32mif\u001b[0m \u001b[0mlen\u001b[0m\u001b[0;34m(\u001b[0m\u001b[0mself\u001b[0m\u001b[0;34m.\u001b[0m\u001b[0mitems\u001b[0m\u001b[0;34m)\u001b[0m \u001b[0;34m!=\u001b[0m \u001b[0mtot_items\u001b[0m\u001b[0;34m:\u001b[0m\u001b[0;34m\u001b[0m\u001b[0m\n",
      "\u001b[0;32m~/anaconda3/lib/python3.6/site-packages/pandas/core/internals.py\u001b[0m in \u001b[0;36mconstruction_error\u001b[0;34m(tot_items, block_shape, axes, e)\u001b[0m\n\u001b[1;32m   4279\u001b[0m     raise ValueError(\"Shape of passed values is {0}, indices imply {1}\".format(\n\u001b[0;32m-> 4280\u001b[0;31m         passed, implied))\n\u001b[0m\u001b[1;32m   4281\u001b[0m \u001b[0;34m\u001b[0m\u001b[0m\n",
      "\u001b[0;31mValueError\u001b[0m: Shape of passed values is (5, 19), indices imply (5, 23)",
      "\nDuring handling of the above exception, another exception occurred:\n",
      "\u001b[0;31mValueError\u001b[0m                                Traceback (most recent call last)",
      "\u001b[0;32m<ipython-input-31-4a3009e70411>\u001b[0m in \u001b[0;36m<module>\u001b[0;34m()\u001b[0m\n\u001b[1;32m     10\u001b[0m \u001b[0mprint\u001b[0m\u001b[0;34m(\u001b[0m\u001b[0;34m'average sell: '\u001b[0m\u001b[0;34m,\u001b[0m \u001b[0mnp\u001b[0m\u001b[0;34m.\u001b[0m\u001b[0mmean\u001b[0m\u001b[0;34m(\u001b[0m\u001b[0mresult_KNC\u001b[0m\u001b[0;34m[\u001b[0m\u001b[0;34m:\u001b[0m\u001b[0;34m,\u001b[0m\u001b[0;36m2\u001b[0m\u001b[0;34m]\u001b[0m\u001b[0;34m)\u001b[0m\u001b[0;34m)\u001b[0m\u001b[0;34m\u001b[0m\u001b[0m\n\u001b[1;32m     11\u001b[0m \u001b[0mprint\u001b[0m\u001b[0;34m(\u001b[0m\u001b[0;34m'-------------------------------------'\u001b[0m\u001b[0;34m)\u001b[0m\u001b[0;34m\u001b[0m\u001b[0m\n\u001b[0;32m---> 12\u001b[0;31m \u001b[0mdf_KNC\u001b[0m \u001b[0;34m=\u001b[0m \u001b[0mpd\u001b[0m\u001b[0;34m.\u001b[0m\u001b[0mDataFrame\u001b[0m\u001b[0;34m(\u001b[0m\u001b[0mresult_KNC\u001b[0m\u001b[0;34m,\u001b[0m \u001b[0mcolumns\u001b[0m\u001b[0;34m=\u001b[0m\u001b[0mlist\u001b[0m\u001b[0;34m(\u001b[0m\u001b[0;34m[\u001b[0m\u001b[0;34m'PNL'\u001b[0m\u001b[0;34m,\u001b[0m\u001b[0;34m'buys'\u001b[0m\u001b[0;34m,\u001b[0m\u001b[0;34m'sells'\u001b[0m\u001b[0;34m,\u001b[0m\u001b[0;34m'longest_buys'\u001b[0m\u001b[0;34m,\u001b[0m\u001b[0;34m'longest_sells'\u001b[0m\u001b[0;34m]\u001b[0m\u001b[0;34m)\u001b[0m\u001b[0;34m,\u001b[0m\u001b[0mindex\u001b[0m\u001b[0;34m=\u001b[0m\u001b[0mdates\u001b[0m\u001b[0;34m)\u001b[0m\u001b[0;34m\u001b[0m\u001b[0m\n\u001b[0m\u001b[1;32m     13\u001b[0m \u001b[0mprint\u001b[0m\u001b[0;34m(\u001b[0m\u001b[0mdf_KNC\u001b[0m\u001b[0;34m)\u001b[0m\u001b[0;34m\u001b[0m\u001b[0m\n\u001b[1;32m     14\u001b[0m \u001b[0mdf_KNC\u001b[0m\u001b[0;34m.\u001b[0m\u001b[0mto_csv\u001b[0m\u001b[0;34m(\u001b[0m\u001b[0;34m'../resultados/TrueFX/GBP-USD/KNeighborsClassifier/pnl_KNC_wsize3_2018-01.csv'\u001b[0m\u001b[0;34m)\u001b[0m\u001b[0;34m\u001b[0m\u001b[0m\n",
      "\u001b[0;32m~/anaconda3/lib/python3.6/site-packages/pandas/core/frame.py\u001b[0m in \u001b[0;36m__init__\u001b[0;34m(self, data, index, columns, dtype, copy)\u001b[0m\n\u001b[1;32m    304\u001b[0m             \u001b[0;32melse\u001b[0m\u001b[0;34m:\u001b[0m\u001b[0;34m\u001b[0m\u001b[0m\n\u001b[1;32m    305\u001b[0m                 mgr = self._init_ndarray(data, index, columns, dtype=dtype,\n\u001b[0;32m--> 306\u001b[0;31m                                          copy=copy)\n\u001b[0m\u001b[1;32m    307\u001b[0m         \u001b[0;32melif\u001b[0m \u001b[0misinstance\u001b[0m\u001b[0;34m(\u001b[0m\u001b[0mdata\u001b[0m\u001b[0;34m,\u001b[0m \u001b[0;34m(\u001b[0m\u001b[0mlist\u001b[0m\u001b[0;34m,\u001b[0m \u001b[0mtypes\u001b[0m\u001b[0;34m.\u001b[0m\u001b[0mGeneratorType\u001b[0m\u001b[0;34m)\u001b[0m\u001b[0;34m)\u001b[0m\u001b[0;34m:\u001b[0m\u001b[0;34m\u001b[0m\u001b[0m\n\u001b[1;32m    308\u001b[0m             \u001b[0;32mif\u001b[0m \u001b[0misinstance\u001b[0m\u001b[0;34m(\u001b[0m\u001b[0mdata\u001b[0m\u001b[0;34m,\u001b[0m \u001b[0mtypes\u001b[0m\u001b[0;34m.\u001b[0m\u001b[0mGeneratorType\u001b[0m\u001b[0;34m)\u001b[0m\u001b[0;34m:\u001b[0m\u001b[0;34m\u001b[0m\u001b[0m\n",
      "\u001b[0;32m~/anaconda3/lib/python3.6/site-packages/pandas/core/frame.py\u001b[0m in \u001b[0;36m_init_ndarray\u001b[0;34m(self, values, index, columns, dtype, copy)\u001b[0m\n\u001b[1;32m    481\u001b[0m             \u001b[0mvalues\u001b[0m \u001b[0;34m=\u001b[0m \u001b[0mmaybe_infer_to_datetimelike\u001b[0m\u001b[0;34m(\u001b[0m\u001b[0mvalues\u001b[0m\u001b[0;34m)\u001b[0m\u001b[0;34m\u001b[0m\u001b[0m\n\u001b[1;32m    482\u001b[0m \u001b[0;34m\u001b[0m\u001b[0m\n\u001b[0;32m--> 483\u001b[0;31m         \u001b[0;32mreturn\u001b[0m \u001b[0mcreate_block_manager_from_blocks\u001b[0m\u001b[0;34m(\u001b[0m\u001b[0;34m[\u001b[0m\u001b[0mvalues\u001b[0m\u001b[0;34m]\u001b[0m\u001b[0;34m,\u001b[0m \u001b[0;34m[\u001b[0m\u001b[0mcolumns\u001b[0m\u001b[0;34m,\u001b[0m \u001b[0mindex\u001b[0m\u001b[0;34m]\u001b[0m\u001b[0;34m)\u001b[0m\u001b[0;34m\u001b[0m\u001b[0m\n\u001b[0m\u001b[1;32m    484\u001b[0m \u001b[0;34m\u001b[0m\u001b[0m\n\u001b[1;32m    485\u001b[0m     \u001b[0;34m@\u001b[0m\u001b[0mproperty\u001b[0m\u001b[0;34m\u001b[0m\u001b[0m\n",
      "\u001b[0;32m~/anaconda3/lib/python3.6/site-packages/pandas/core/internals.py\u001b[0m in \u001b[0;36mcreate_block_manager_from_blocks\u001b[0;34m(blocks, axes)\u001b[0m\n\u001b[1;32m   4301\u001b[0m         \u001b[0mblocks\u001b[0m \u001b[0;34m=\u001b[0m \u001b[0;34m[\u001b[0m\u001b[0mgetattr\u001b[0m\u001b[0;34m(\u001b[0m\u001b[0mb\u001b[0m\u001b[0;34m,\u001b[0m \u001b[0;34m'values'\u001b[0m\u001b[0;34m,\u001b[0m \u001b[0mb\u001b[0m\u001b[0;34m)\u001b[0m \u001b[0;32mfor\u001b[0m \u001b[0mb\u001b[0m \u001b[0;32min\u001b[0m \u001b[0mblocks\u001b[0m\u001b[0;34m]\u001b[0m\u001b[0;34m\u001b[0m\u001b[0m\n\u001b[1;32m   4302\u001b[0m         \u001b[0mtot_items\u001b[0m \u001b[0;34m=\u001b[0m \u001b[0msum\u001b[0m\u001b[0;34m(\u001b[0m\u001b[0mb\u001b[0m\u001b[0;34m.\u001b[0m\u001b[0mshape\u001b[0m\u001b[0;34m[\u001b[0m\u001b[0;36m0\u001b[0m\u001b[0;34m]\u001b[0m \u001b[0;32mfor\u001b[0m \u001b[0mb\u001b[0m \u001b[0;32min\u001b[0m \u001b[0mblocks\u001b[0m\u001b[0;34m)\u001b[0m\u001b[0;34m\u001b[0m\u001b[0m\n\u001b[0;32m-> 4303\u001b[0;31m         \u001b[0mconstruction_error\u001b[0m\u001b[0;34m(\u001b[0m\u001b[0mtot_items\u001b[0m\u001b[0;34m,\u001b[0m \u001b[0mblocks\u001b[0m\u001b[0;34m[\u001b[0m\u001b[0;36m0\u001b[0m\u001b[0;34m]\u001b[0m\u001b[0;34m.\u001b[0m\u001b[0mshape\u001b[0m\u001b[0;34m[\u001b[0m\u001b[0;36m1\u001b[0m\u001b[0;34m:\u001b[0m\u001b[0;34m]\u001b[0m\u001b[0;34m,\u001b[0m \u001b[0maxes\u001b[0m\u001b[0;34m,\u001b[0m \u001b[0me\u001b[0m\u001b[0;34m)\u001b[0m\u001b[0;34m\u001b[0m\u001b[0m\n\u001b[0m\u001b[1;32m   4304\u001b[0m \u001b[0;34m\u001b[0m\u001b[0m\n\u001b[1;32m   4305\u001b[0m \u001b[0;34m\u001b[0m\u001b[0m\n",
      "\u001b[0;32m~/anaconda3/lib/python3.6/site-packages/pandas/core/internals.py\u001b[0m in \u001b[0;36mconstruction_error\u001b[0;34m(tot_items, block_shape, axes, e)\u001b[0m\n\u001b[1;32m   4278\u001b[0m         \u001b[0;32mraise\u001b[0m \u001b[0mValueError\u001b[0m\u001b[0;34m(\u001b[0m\u001b[0;34m\"Empty data passed with indices specified.\"\u001b[0m\u001b[0;34m)\u001b[0m\u001b[0;34m\u001b[0m\u001b[0m\n\u001b[1;32m   4279\u001b[0m     raise ValueError(\"Shape of passed values is {0}, indices imply {1}\".format(\n\u001b[0;32m-> 4280\u001b[0;31m         passed, implied))\n\u001b[0m\u001b[1;32m   4281\u001b[0m \u001b[0;34m\u001b[0m\u001b[0m\n\u001b[1;32m   4282\u001b[0m \u001b[0;34m\u001b[0m\u001b[0m\n",
      "\u001b[0;31mValueError\u001b[0m: Shape of passed values is (5, 19), indices imply (5, 23)"
     ]
    }
   ],
   "source": [
    "from sklearn.neighbors import KNeighborsClassifier\n",
    "\n",
    "est_KNC = PNLEstimatorWrapper(KNeighborsClassifier(n_neighbors=7,n_jobs=2,leaf_size=30\n",
    "                                                   ,algorithm='kd_tree'), PNL_column=['PNL_0','PNL_1'])\n",
    "result_KNC = EU.step_validation(est_KNC, X, y, EU.v_split(X,4,1,1))\n",
    "result_KNC, predict_KNC = EU.redim(result_KNC)\n",
    "print('-------- KNeighborsClassifier -------')\n",
    "print('average PNL: ', np.mean(result_KNC[:,0]))\n",
    "print('average buy: ', np.mean(result_KNC[:,1]))\n",
    "print('average sell: ', np.mean(result_KNC[:,2]))\n",
    "print('-------------------------------------')\n",
    "df_KNC = pd.DataFrame(result_KNC, columns=list(['PNL','buys','sells','longest_buys','longest_sells']),index=dates)\n",
    "print(df_KNC)\n",
    "df_KNC.to_csv('../resultados/TrueFX/GBP-USD/KNeighborsClassifier/pnl_KNC_wsize3_2018-01.csv')"
   ]
  },
  {
   "cell_type": "markdown",
   "metadata": {},
   "source": [
    "graficando con bokeh los resultados"
   ]
  },
  {
   "cell_type": "code",
   "execution_count": 21,
   "metadata": {},
   "outputs": [
    {
     "name": "stdout",
     "output_type": "stream",
     "text": [
      "(133061,)\n",
      "(133061,)\n",
      "(133061,)\n",
      "(133061,)\n"
     ]
    }
   ],
   "source": [
    "#para graficar las compras acertadas sobre la señal original\n",
    "buy_KNC_ok = ((predict_KNC==bt[firts_4bd:])&(predict_KNC==1))*y_reg[firts_4bd-1:-1]\n",
    "buy_KNC_ok[buy_KNC_ok==0] = np.nan \n",
    "print (buy_KNC_ok.shape)\n",
    "#para graficar las ventas acertadas sobre la señal original\n",
    "sell_KNC_ok = ((predict_KNC==bt[firts_4bd:])&(predict_KNC==0))*y_reg[firts_4bd-1:-1]\n",
    "sell_KNC_ok[sell_KNC_ok==0] = np.nan\n",
    "print (sell_KNC_ok.shape)\n",
    "\n",
    "#para graficar las compras fallidas sobre la señal original\n",
    "buy_KNC_mal = ((predict_KNC!=bt[firts_4bd:])&(predict_KNC==1))*y_reg[firts_4bd-1:-1]\n",
    "buy_KNC_mal[buy_KNC_mal==0] = np.nan \n",
    "print (buy_KNC_mal.shape)\n",
    "#para graficar las ventas fallidas sobre la señal original\n",
    "sell_KNC_mal = ((predict_KNC!=bt[firts_4bd:])&(predict_KNC==0))*y_reg[firts_4bd-1:-1]\n",
    "sell_KNC_mal[sell_KNC_mal==0] = np.nan\n",
    "print (sell_KNC_mal.shape)"
   ]
  },
  {
   "cell_type": "code",
   "execution_count": 22,
   "metadata": {
    "collapsed": true
   },
   "outputs": [],
   "source": [
    "bp.reset_output()"
   ]
  },
  {
   "cell_type": "code",
   "execution_count": 24,
   "metadata": {
    "collapsed": true
   },
   "outputs": [],
   "source": [
    "p1_KNC = bp.Figure(width=750, height=300,title='buys and sells with a KNeighborsClassifier',x_axis_type='datetime',\n",
    "               title_location = 'above')\n",
    "p1_KNC.triangle(x_axis, buy_KNC_ok, color='green', legend='predict buys ok')\n",
    "p1_KNC.triangle(x_axis, sell_KNC_ok, color='green', legend='predict sells ok', angle=45)\n",
    "p1_KNC.xaxis.axis_label = 'Datetime'\n",
    "p1_KNC.yaxis.axis_label = 'GBP/USD'\n",
    "p1_KNC.triangle(x_axis, buy_KNC_mal, color='red', legend='predict incorrect buy')\n",
    "p1_KNC.triangle(x_axis, sell_KNC_mal, color='red', legend='predict incorrect sell', angle=45)\n",
    "p1_KNC.line(x_axis, y_reg[firts_4bd-1:-1], color='blue', alpha=0.2, legend='bid')\n",
    "p1_KNC.legend.location = 'bottom_left'\n",
    "p1_KNC.legend.orientation = 'horizontal'\n",
    "p1_KNC.legend.background_fill_color = 'grey'\n",
    "p1_KNC.legend.background_fill_alpha = 0.1\n",
    "p1_KNC.legend.border_line_alpha = None\n",
    "\n",
    "p2_KNC = bp.Figure(width=750, height=300,title='Profit and Loss with a KNeighborsClassifier',x_axis_type='datetime')\n",
    "p2_KNC.line(dates[n_bdtrain:], result_KNC[:,0], color='blue', legend='PNL', alpha=0.5)\n",
    "p2_KNC.circle(dates[n_bdtrain:], result_KNC[:,0], color='blue', legend='PNL', alpha=0.5)\n",
    "p2_KNC.line(dates[n_bdtrain:], np.zeros(len(result_KNC)), color='red', legend='PNL = 0', line_dash='dotted')\n",
    "p2_KNC.line(dates[n_bdtrain:],np.ones(len(result_KNC[:,0]))*np.mean(result_KNC[:,0]),color='green',legend='avg PNL')\n",
    "p2_KNC.xaxis.axis_label = 'datetime'\n",
    "p2_KNC.yaxis.axis_label = 'PNL'\n",
    "p2_KNC.legend.location ='bottom_center'\n",
    "p2_KNC.legend.orientation = 'horizontal'\n",
    "\n",
    "p3_KNC = bp.Figure(width=400, height=250, title='buys per day', x_axis_type='datetime')\n",
    "p3_KNC.line(dates[n_bdtrain:], result_KNC[:,1], color='green')\n",
    "p3_KNC.circle(dates[n_bdtrain:], result_KNC[:,1], color='green')\n",
    "p3_KNC.xaxis.axis_label = 'datetime'\n",
    "p3_KNC.yaxis.axis_label = 'buys per day'\n",
    "#se utiliza el x_range para correlacionar las dos gráficas por el eje x\n",
    "p4_KNC = bp.Figure(width=400, height=250, title='sells per day', x_axis_type='datetime',x_range=p3_KNC.x_range)\n",
    "p4_KNC.line(dates[n_bdtrain:], result_KNC[:,2], color='red')\n",
    "p4_KNC.circle(dates[n_bdtrain:], result_KNC[:,2], color='red')\n",
    "p4_KNC.xaxis.axis_label = 'datetime'\n",
    "p4_KNC.yaxis.axis_label = 'sells per day'\n",
    "\n",
    "#para pintar el PNL que se va acumulando\n",
    "PNL_accu_KNC = []\n",
    "count_KNC = 0\n",
    "for i in result_KNC[:,0]:\n",
    "    count_KNC += i\n",
    "    PNL_accu_KNC.append(count_KNC)\n",
    "    \n",
    "p5_KNC = bp.Figure(width=750, height=300,title='PNL accumulated with a KNeighborsClassifier',x_axis_type='datetime',\n",
    "                   x_range=p2_KNC.x_range)\n",
    "p5_KNC.line(dates[n_bdtrain:],PNL_accu_KNC,color='blue',legend='PNL accumulated',alpha=0.5)\n",
    "p5_KNC.circle(dates[n_bdtrain:], PNL_accu_KNC, color='blue',legend='PNL accumulated', alpha=0.5)\n",
    "p5_KNC.line(dates[n_bdtrain:], np.zeros(len(result_KNC)), color='red', legend='PNL = 0', line_dash='dotted')\n",
    "p5_KNC.xaxis.axis_label = 'datetime'\n",
    "p5_KNC.yaxis.axis_label = 'PNL accumulated'\n",
    "p5_KNC.legend.location ='bottom_center'\n",
    "p5_KNC.legend.orientation = 'horizontal'\n",
    "#se pinta la señal submuestreada para verlas con en volumen de compras y ventas por día\n",
    "p6_KNC = bp.Figure(width=400, height=250, title='signal per hours', x_axis_type='datetime',x_range=p3_KNC.x_range)\n",
    "p6_KNC.line(signal_sample.index, signal_sample, color='blue')\n",
    "p6_KNC.xaxis.axis_label = 'datetime'\n",
    "p6_KNC.yaxis.axis_label = 'bid GBP/USD'\n",
    "\n",
    "bp.show(gridplot([[p1_KNC,p3_KNC],[p2_KNC,p4_KNC],[p5_KNC,p6_KNC]], toolbar_location=\"right\"))\n",
    "bp.output_file(filename='grafico KNeihgborsClassifier.html', title='KNeihgborsClassifier')"
   ]
  },
  {
   "cell_type": "markdown",
   "metadata": {},
   "source": [
    "### se prueba con un DecisionTreeClassifier"
   ]
  },
  {
   "cell_type": "code",
   "execution_count": 20,
   "metadata": {},
   "outputs": [
    {
     "name": "stdout",
     "output_type": "stream",
     "text": [
      "------ DecisionTreeClassifier -------\n",
      "average PNL:  0.00383789473684\n",
      "average buy:  2967.47368421\n",
      "average sell:  4035.73684211\n",
      "-------------------------------------\n",
      "                PNL    buys   sells  longest_buys  longest_sells\n",
      "2018-01-08  0.01786  3131.0  3668.0          11.0           17.0\n",
      "2018-01-09  0.00852  3250.0  3583.0          16.0           18.0\n",
      "2018-01-10  0.00516  3449.0  3599.0         274.0           11.0\n",
      "2018-01-11 -0.00270  2851.0  4282.0          20.0          453.0\n",
      "2018-01-12 -0.01391  1443.0  5778.0          11.0         4112.0\n",
      "2018-01-15  0.00530   907.0  6373.0          13.0         4020.0\n",
      "2018-01-16  0.00652  3408.0  3699.0          13.0           45.0\n",
      "2018-01-17 -0.00059  2507.0  5008.0           9.0         1945.0\n",
      "2018-01-18 -0.00212  3506.0  3967.0          37.0           28.0\n",
      "2018-01-19  0.00119  3072.0  4289.0          14.0          109.0\n",
      "2018-01-22 -0.00012  2598.0  4801.0          15.0         1338.0\n",
      "2018-01-23  0.01494  2842.0  4488.0          30.0          666.0\n",
      "2018-01-24  0.01640  6482.0  1097.0        4576.0          108.0\n",
      "2018-01-25 -0.00401   964.0  6861.0          17.0         3584.0\n",
      "2018-01-26  0.00715  3889.0  3891.0          20.0           18.0\n",
      "2018-01-29  0.00862  4344.0  3213.0          95.0           35.0\n",
      "2018-01-30 -0.00913  3764.0  3862.0          73.0           14.0\n",
      "2018-01-31  0.00809  3745.0  3973.0          16.0           18.0\n",
      "2018-02-01  0.00575   230.0   247.0          10.0           15.0\n"
     ]
    }
   ],
   "source": [
    "from sklearn.tree import DecisionTreeClassifier\n",
    "\n",
    "est_DTC = PNLEstimatorWrapper(DecisionTreeClassifier(), PNL_column='PNL')\n",
    "result_DTC = step_validation(est_DTC, X, y, v_split(X,4,1,1))\n",
    "result_DTC, predict_DTC = redim(result_DTC)\n",
    "print('------ DecisionTreeClassifier -------')\n",
    "print('average PNL: ', np.mean(result_DTC[:,0]))\n",
    "print('average buy: ', np.mean(result_DTC[:,1]))\n",
    "print('average sell: ', np.mean(result_DTC[:,2]))\n",
    "print('-------------------------------------')\n",
    "df_DTC = pd.DataFrame(result_DTC, columns=list(['PNL','buys','sells','longest_buys','longest_sells']),index=dates)\n",
    "print(df_DTC)\n",
    "df_DTC.to_csv('../resultados/TrueFX/GBP-USD/DecisionTreeClassifier/pnl_DTC_wsize3_2018-01.csv')"
   ]
  },
  {
   "cell_type": "code",
   "execution_count": 26,
   "metadata": {},
   "outputs": [
    {
     "name": "stdout",
     "output_type": "stream",
     "text": [
      "(133061,)\n",
      "(133061,)\n",
      "(133061,)\n",
      "(133061,)\n"
     ]
    }
   ],
   "source": [
    "#para graficar las compras acertadas sobre la señal original\n",
    "buy_DTC_ok = ((predict_DTC==bt[firts_4bd:])&(predict_DTC==1))*y_reg[firts_4bd-1:-1]\n",
    "buy_DTC_ok[buy_DTC_ok==0] = np.nan \n",
    "print (buy_DTC_ok.shape)\n",
    "#para graficar las ventas acertadas sobre la señal original\n",
    "sell_DTC_ok = ((predict_DTC==bt[firts_4bd:])&(predict_DTC==0))*y_reg[firts_4bd-1:-1]\n",
    "sell_DTC_ok[sell_DTC_ok==0] = np.nan\n",
    "print (sell_DTC_ok.shape)\n",
    "\n",
    "#para graficar las compras fallidas sobre la señal original\n",
    "buy_DTC_mal = ((predict_DTC!=bt[firts_4bd:])&(predict_DTC==1))*y_reg[firts_4bd-1:-1]\n",
    "buy_DTC_mal[buy_DTC_mal==0] = np.nan \n",
    "print (buy_DTC_mal.shape)\n",
    "#para graficar las ventas fallidas sobre la señal original\n",
    "sell_DTC_mal = ((predict_DTC!=bt[firts_4bd:])&(predict_DTC==0))*y_reg[firts_4bd-1:-1]\n",
    "sell_DTC_mal[sell_DTC_mal==0] = np.nan\n",
    "print (sell_DTC_mal.shape)"
   ]
  },
  {
   "cell_type": "code",
   "execution_count": 27,
   "metadata": {
    "collapsed": true
   },
   "outputs": [],
   "source": [
    "bp.reset_output()"
   ]
  },
  {
   "cell_type": "code",
   "execution_count": 29,
   "metadata": {
    "collapsed": true
   },
   "outputs": [],
   "source": [
    "p1_DTC = bp.figure(width=750, height=300,title='buys and sells with a DecisionTreeClassifier',x_axis_type='datetime',\n",
    "               title_location = 'above')\n",
    "p1_DTC.triangle(x_axis, buy_DTC_ok, color='green', legend='predict buys ok')\n",
    "p1_DTC.triangle(x_axis, sell_DTC_ok, color='green', legend='predict sells ok', angle=45)\n",
    "p1_DTC.xaxis.axis_label = 'Datetime'\n",
    "p1_DTC.yaxis.axis_label = 'GBP/USD'\n",
    "p1_DTC.triangle(x_axis, buy_DTC_mal, color='red', legend='predict incorrect buy')\n",
    "p1_DTC.triangle(x_axis, sell_DTC_mal, color='red', legend='predict incorrect sell', angle=45)\n",
    "p1_DTC.line(x_axis, y_reg[firts_4bd-1:-1], color='blue', alpha=0.2, legend='bid')\n",
    "p1_DTC.legend.location = 'bottom_left'\n",
    "p1_DTC.legend.orientation = 'horizontal'\n",
    "p1_DTC.legend.background_fill_color = 'grey'\n",
    "p1_DTC.legend.background_fill_alpha = 0.1\n",
    "p1_DTC.legend.border_line_alpha = None\n",
    "\n",
    "p2_DTC = bp.figure(width=750, height=300,title='Profit and Loss with a DecisionTreeClassifier'\n",
    "                   ,x_axis_type='datetime')\n",
    "p2_DTC.line(dates[n_bdtrain:], result_DTC[:,0], color='blue', legend='PNL', alpha=0.5)\n",
    "p2_DTC.circle(dates[n_bdtrain:], result_DTC[:,0], color='blue', legend='PNL', alpha=0.5)\n",
    "p2_DTC.line(dates[n_bdtrain:], np.zeros(len(result_DTC)), color='red', legend='PNL = 0', line_dash='dotted')\n",
    "p2_DTC.line(dates[n_bdtrain:],np.ones(len(result_DTC[:,0]))*np.mean(result_DTC[:,0]),color='green',legend='avg PNL')\n",
    "p2_DTC.xaxis.axis_label = 'datetime'\n",
    "p2_DTC.yaxis.axis_label = 'PNL'\n",
    "p2_DTC.legend.location ='bottom_center'\n",
    "p2_DTC.legend.orientation = 'horizontal'\n",
    "\n",
    "p3_DTC = bp.figure(width=400, height=250, title='buys per day', x_axis_type='datetime')\n",
    "p3_DTC.line(dates[n_bdtrain:], result_DTC[:,1], color='green')\n",
    "p3_DTC.circle(dates[n_bdtrain:], result_DTC[:,1], color='green')\n",
    "p3_DTC.xaxis.axis_label = 'datetime'\n",
    "p3_DTC.yaxis.axis_label = 'buys per day'\n",
    "#se utiliza el x_range para correlacionar las dos gráficas por el eje x\n",
    "p4_DTC = bp.figure(width=400, height=250, title='sells per day', x_axis_type='datetime',x_range=p3_DTC.x_range)\n",
    "p4_DTC.line(dates[n_bdtrain:], result_DTC[:,2], color='red')\n",
    "p4_DTC.circle(dates[n_bdtrain:], result_DTC[:,2], color='red')\n",
    "p4_DTC.xaxis.axis_label = 'datetime'\n",
    "p4_DTC.yaxis.axis_label = 'sells per day'\n",
    "\n",
    "#para pintar el PNL que se va acumulando\n",
    "PNL_accu_DTC = []\n",
    "count_DTC = 0\n",
    "for i in result_DTC[:,0]:\n",
    "    count_DTC += i\n",
    "    PNL_accu_DTC.append(count_DTC)\n",
    "    \n",
    "p5_DTC = bp.figure(width=750, height=300,title='PNL accumulated with a DecisionTreeClassifier',\n",
    "                   x_axis_type='datetime',x_range=p2_DTC.x_range)\n",
    "p5_DTC.line(dates[n_bdtrain:],PNL_accu_DTC,color='blue',legend='PNL accumulated',alpha=0.5)\n",
    "p5_DTC.circle(dates[n_bdtrain:], PNL_accu_DTC, color='blue',legend='PNL accumulated', alpha=0.5)\n",
    "p5_DTC.line(dates[n_bdtrain:], np.zeros(len(result_DTC)), color='red', legend='PNL = 0', line_dash='dotted')\n",
    "p5_DTC.xaxis.axis_label = 'datetime'\n",
    "p5_DTC.yaxis.axis_label = 'PNL accumulated'\n",
    "p5_DTC.legend.location ='bottom_center'\n",
    "p5_DTC.legend.orientation = 'horizontal'\n",
    "#se pinta la señal submuestreada para verlas con en volumen de compras y ventas por día\n",
    "p6_DTC = bp.figure(width=400, height=250, title='signal per hours', x_axis_type='datetime',x_range=p3_DTC.x_range)\n",
    "p6_DTC.line(signal_sample.index, signal_sample, color='blue')\n",
    "p6_DTC.xaxis.axis_label = 'datetime'\n",
    "p6_DTC.yaxis.axis_label = 'bid GBP/USD'\n",
    "\n",
    "bp.show(gridplot([[p1_DTC,p3_DTC],[p2_DTC,p4_DTC],[p5_DTC,p6_DTC]], toolbar_location=\"right\"))\n",
    "bp.output_file(filename='grafico DecisionTreeClassifier.html', title='DecisionTreeClassifier')"
   ]
  },
  {
   "cell_type": "markdown",
   "metadata": {},
   "source": [
    "### probando con un RandomForestClassifier, con ciertos parametros establecidos los cuales me han arrojado mejores resultados"
   ]
  },
  {
   "cell_type": "code",
   "execution_count": 21,
   "metadata": {},
   "outputs": [
    {
     "name": "stdout",
     "output_type": "stream",
     "text": [
      "RandomForestClassifier\n",
      "PNL promedio:  0.00166947368421\n",
      "buy promedio:  2635.47368421\n",
      "sell promedio:  4367.73684211\n",
      "-------------------------------------\n",
      "                     PNL    buys   sells  longest_buys  longest_sells\n",
      "2018-01-08  9.920000e-03  3114.0  3685.0          10.0           13.0\n",
      "2018-01-09  3.800000e-03  3185.0  3648.0          11.0           19.0\n",
      "2018-01-10  3.120000e-03  3486.0  3562.0         274.0           12.0\n",
      "2018-01-11 -3.480000e-03  3162.0  3971.0          30.0          453.0\n",
      "2018-01-12 -9.590000e-03  1406.0  5815.0          10.0         4112.0\n",
      "2018-01-15 -1.200000e-04   748.0  6532.0          10.0         4020.0\n",
      "2018-01-16 -1.576517e-14  3378.0  3729.0          17.0           23.0\n",
      "2018-01-17 -5.230000e-03  2456.0  5059.0          12.0         1952.0\n",
      "2018-01-18  8.980000e-03  3406.0  4067.0          36.0           38.0\n",
      "2018-01-19  1.501000e-02  2816.0  4545.0          30.0          362.0\n",
      "2018-01-22  2.740000e-03  2564.0  4835.0          10.0         1338.0\n",
      "2018-01-23  1.166000e-02  2717.0  4613.0          49.0          667.0\n",
      "2018-01-24 -1.962000e-02   421.0  7158.0          17.0         4620.0\n",
      "2018-01-25  3.000000e-05   864.0  6961.0          25.0         3584.0\n",
      "2018-01-26 -5.190000e-03  3915.0  3865.0          31.0           17.0\n",
      "2018-01-29  1.892000e-02  4526.0  3031.0          93.0           44.0\n",
      "2018-01-30 -4.700000e-04  3904.0  3722.0          73.0           17.0\n",
      "2018-01-31 -3.470000e-03  3803.0  3915.0          13.0           16.0\n",
      "2018-02-01  4.710000e-03   203.0   274.0          12.0           18.0\n"
     ]
    }
   ],
   "source": [
    "from sklearn.ensemble import RandomForestClassifier\n",
    "\n",
    "est_RFC = PNLEstimatorWrapper(RandomForestClassifier(n_estimators=15, n_jobs=3), PNL_column='PNL')\n",
    "result_RFC = step_validation(est_RFC, X, y, v_split(X,4,1,1))\n",
    "result_RFC, predict_RFC = redim(result_RFC)\n",
    "print('RandomForestClassifier')\n",
    "print('PNL promedio: ', np.mean(result_RFC[:,0]))\n",
    "print('buy promedio: ', np.mean(result_RFC[:,1]))\n",
    "print('sell promedio: ', np.mean(result_RFC[:,2]))\n",
    "print('-------------------------------------')\n",
    "df_RFC = pd.DataFrame(result_RFC, columns=list(['PNL','buys','sells','longest_buys','longest_sells']),index=dates)\n",
    "print(df_RFC)\n",
    "df_RFC.to_csv('../resultados/TrueFX/GBP-USD/RandomForestClassifier/pnl_RFC_wsize3_2018-01.csv')"
   ]
  },
  {
   "cell_type": "code",
   "execution_count": 31,
   "metadata": {},
   "outputs": [
    {
     "name": "stdout",
     "output_type": "stream",
     "text": [
      "(133061,)\n",
      "(133061,)\n",
      "(133061,)\n",
      "(133061,)\n"
     ]
    }
   ],
   "source": [
    "#para graficar las compras acertadas sobre la señal original\n",
    "buy_RFC_ok = ((predict_RFC==bt[firts_4bd:])&(predict_RFC==1))*y_reg[firts_4bd-1:-1]\n",
    "buy_RFC_ok[buy_RFC_ok==0] = np.nan \n",
    "print (buy_RFC_ok.shape)\n",
    "#para graficar las ventas acertadas sobre la señal original\n",
    "sell_RFC_ok = ((predict_RFC==bt[firts_4bd:])&(predict_RFC==0))*y_reg[firts_4bd-1:-1]\n",
    "sell_RFC_ok[sell_RFC_ok==0] = np.nan\n",
    "print (sell_RFC_ok.shape)\n",
    "\n",
    "#para graficar las compras fallidas sobre la señal original\n",
    "buy_RFC_mal = ((predict_RFC!=bt[firts_4bd:])&(predict_RFC==1))*y_reg[firts_4bd-1:-1]\n",
    "buy_RFC_mal[buy_RFC_mal==0] = np.nan \n",
    "print (buy_RFC_mal.shape)\n",
    "#para graficar las ventas fallidas sobre la señal original\n",
    "sell_RFC_mal = ((predict_RFC!=bt[firts_4bd:])&(predict_RFC==0))*y_reg[firts_4bd-1:-1]\n",
    "sell_RFC_mal[sell_RFC_mal==0] = np.nan\n",
    "print (sell_RFC_mal.shape)"
   ]
  },
  {
   "cell_type": "code",
   "execution_count": 32,
   "metadata": {
    "collapsed": true
   },
   "outputs": [],
   "source": [
    "bp.reset_output()"
   ]
  },
  {
   "cell_type": "code",
   "execution_count": 34,
   "metadata": {
    "collapsed": true
   },
   "outputs": [],
   "source": [
    "p1_RFC = bp.figure(width=750, height=300,title='buys and sells with a RandomForestClassifier',x_axis_type='datetime',\n",
    "               title_location = 'above')\n",
    "p1_RFC.triangle(x_axis, buy_RFC_ok, color='green', legend='predict buys ok')\n",
    "p1_RFC.triangle(x_axis, sell_RFC_ok, color='green', legend='predict sells ok', angle=45)\n",
    "p1_RFC.xaxis.axis_label = 'Datetime'\n",
    "p1_RFC.yaxis.axis_label = 'GBP/USD'\n",
    "p1_RFC.triangle(x_axis, buy_RFC_mal, color='red', legend='predict incorrect buy')\n",
    "p1_RFC.triangle(x_axis, sell_RFC_mal, color='red', legend='predict incorrect sells', angle=45)\n",
    "p1_RFC.line(x_axis, y_reg[firts_4bd-1:-1], color='blue', alpha=0.2, legend='bid')\n",
    "p1_RFC.legend.location = 'bottom_left'\n",
    "p1_RFC.legend.orientation = 'horizontal'\n",
    "p1_RFC.legend.background_fill_color = 'grey'\n",
    "p1_RFC.legend.background_fill_alpha = 0.1\n",
    "p1_RFC.legend.border_line_alpha = None\n",
    "\n",
    "p2_RFC = bp.figure(width=750, height=300,title='Profit and Loss with a RandomForestClassifier'\n",
    "                   ,x_axis_type='datetime')\n",
    "p2_RFC.line(dates[n_bdtrain:], result_RFC[:,0], color='blue', legend='PNL', alpha=0.5)\n",
    "p2_RFC.circle(dates[n_bdtrain:], result_RFC[:,0], color='blue', legend='PNL', alpha=0.5)\n",
    "p2_RFC.line(dates[n_bdtrain:], np.zeros(len(result_RFC)), color='red', legend='PNL = 0', line_dash='dotted')\n",
    "p2_RFC.line(dates[n_bdtrain:],np.ones(len(result_RFC[:,0]))*np.mean(result_RFC[:,0]),color='green',legend='avg PNL')\n",
    "p2_RFC.xaxis.axis_label = 'datetime'\n",
    "p2_RFC.yaxis.axis_label = 'PNL'\n",
    "p2_RFC.legend.location ='bottom_center'\n",
    "p2_RFC.legend.orientation = 'horizontal'\n",
    "\n",
    "p3_RFC = bp.figure(width=400, height=250, title='buys per day', x_axis_type='datetime')\n",
    "p3_RFC.line(dates[n_bdtrain:], result_RFC[:,1], color='green')\n",
    "p3_RFC.circle(dates[n_bdtrain:], result_RFC[:,1], color='green')\n",
    "p3_RFC.xaxis.axis_label = 'datetime'\n",
    "p3_RFC.yaxis.axis_label = 'buys per day'\n",
    "#se utiliza el x_range para correlacionar las dos gráficas por el eje x\n",
    "p4_RFC = bp.figure(width=400, height=250, title='sells per day', x_axis_type='datetime',x_range=p3_RFC.x_range)\n",
    "p4_RFC.line(dates[n_bdtrain:], result_RFC[:,2], color='red')\n",
    "p4_RFC.circle(dates[n_bdtrain:], result_RFC[:,2], color='red')\n",
    "p4_RFC.xaxis.axis_label = 'datetime'\n",
    "p4_RFC.yaxis.axis_label = 'sells per day'\n",
    "\n",
    "#para pintar el PNL que se va acumulando\n",
    "PNL_accu_RFC = []\n",
    "count_RFC = 0\n",
    "for i in result_RFC[:,0]:\n",
    "    count_RFC += i\n",
    "    PNL_accu_RFC.append(count_RFC)\n",
    "    \n",
    "p5_RFC = bp.figure(width=750, height=300,title='PNL accumulated with a RandomForestClassifier',\n",
    "                   x_axis_type='datetime',x_range=p2_RFC.x_range)\n",
    "p5_RFC.line(dates[n_bdtrain:],PNL_accu_RFC,color='blue',legend='PNL accumulated',alpha=0.5)\n",
    "p5_RFC.circle(dates[n_bdtrain:], PNL_accu_RFC, color='blue',legend='PNL accumulated', alpha=0.5)\n",
    "p5_RFC.line(dates[n_bdtrain:], np.zeros(len(result_RFC)), color='red', legend='PNL = 0', line_dash='dotted')\n",
    "p5_RFC.xaxis.axis_label = 'datetime'\n",
    "p5_RFC.yaxis.axis_label = 'PNL accumulated'\n",
    "p5_RFC.legend.location ='bottom_center'\n",
    "p5_RFC.legend.orientation = 'horizontal'\n",
    "#se pinta la señal submuestreada para verlas con en volumen de compras y ventas por día\n",
    "p6_RFC = bp.figure(width=400, height=250, title='signal per hours', x_axis_type='datetime',x_range=p3_RFC.x_range)\n",
    "p6_RFC.line(signal_sample.index, signal_sample, color='blue')\n",
    "p6_RFC.xaxis.axis_label = 'datetime'\n",
    "p6_RFC.yaxis.axis_label = 'bid GBP/USD'\n",
    "\n",
    "bp.show(gridplot([[p1_RFC,p3_RFC],[p2_RFC,p4_RFC],[p5_RFC,p6_RFC]], toolbar_location=\"right\"))\n",
    "bp.output_file(filename='grafico RandomForestClassifier.html', title='RandomForestClassifier')"
   ]
  },
  {
   "cell_type": "code",
   "execution_count": null,
   "metadata": {
    "collapsed": true
   },
   "outputs": [],
   "source": []
  }
 ],
 "metadata": {
  "kernelspec": {
   "display_name": "Python 3",
   "language": "python",
   "name": "python3"
  },
  "language_info": {
   "codemirror_mode": {
    "name": "ipython",
    "version": 3
   },
   "file_extension": ".py",
   "mimetype": "text/x-python",
   "name": "python",
   "nbconvert_exporter": "python",
   "pygments_lexer": "ipython3",
   "version": "3.6.2"
  }
 },
 "nbformat": 4,
 "nbformat_minor": 2
}
