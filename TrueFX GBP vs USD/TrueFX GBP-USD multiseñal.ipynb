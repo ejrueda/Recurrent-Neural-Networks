{
 "cells": [
  {
   "cell_type": "code",
   "execution_count": 26,
   "metadata": {
    "collapsed": true
   },
   "outputs": [],
   "source": [
    "import numpy as np\n",
    "import pandas as pd\n",
    "import bokeh.plotting as bp\n",
    "from bokeh.layouts import gridplot"
   ]
  },
  {
   "cell_type": "markdown",
   "metadata": {},
   "source": [
    "En primera base se probó con la señal del par EUR-USD para ver esta como se comportaba, ahora probaremos con varias señales de entrada, para ver como se comporta la señal EUR-USD."
   ]
  },
  {
   "cell_type": "markdown",
   "metadata": {},
   "source": [
    "Para empezar se probará con los pares EUR/USD y GBP/USD para predecir la señal EUR/USD"
   ]
  },
  {
   "cell_type": "code",
   "execution_count": 27,
   "metadata": {
    "collapsed": true
   },
   "outputs": [],
   "source": [
    "#Se lee la señal correspondiente a GBP vs USD para el mes de enero de 2018\n",
    "data_GBPvsUSD = pd.read_csv(\"../data/TrueFX/GBP-USD/GBPUSD-preprocesado-2018-01.csv\", index_col=0\n",
    "                            ,infer_datetime_format=True, parse_dates=True )\n",
    "\n",
    "#Se lee la señal correspondiente a EUR vs USD para el mes de enero de 2018\n",
    "data_EURvsUSD = pd.read_csv(\"../data/TrueFX/EUR-USD/datos_procesados_EURUSD-2018-01.csv\", index_col=0\n",
    "                            ,infer_datetime_format=True, parse_dates=True )"
   ]
  },
  {
   "cell_type": "code",
   "execution_count": 28,
   "metadata": {},
   "outputs": [
    {
     "data": {
      "text/html": [
       "<div>\n",
       "<style>\n",
       "    .dataframe thead tr:only-child th {\n",
       "        text-align: right;\n",
       "    }\n",
       "\n",
       "    .dataframe thead th {\n",
       "        text-align: left;\n",
       "    }\n",
       "\n",
       "    .dataframe tbody tr th {\n",
       "        vertical-align: top;\n",
       "    }\n",
       "</style>\n",
       "<table border=\"1\" class=\"dataframe\">\n",
       "  <thead>\n",
       "    <tr style=\"text-align: right;\">\n",
       "      <th></th>\n",
       "      <th>bid</th>\n",
       "      <th>ask</th>\n",
       "    </tr>\n",
       "    <tr>\n",
       "      <th>date</th>\n",
       "      <th></th>\n",
       "      <th></th>\n",
       "    </tr>\n",
       "  </thead>\n",
       "  <tbody>\n",
       "    <tr>\n",
       "      <th>2018-01-02 00:00:40</th>\n",
       "      <td>1.34979</td>\n",
       "      <td>1.35176</td>\n",
       "    </tr>\n",
       "    <tr>\n",
       "      <th>2018-01-02 00:01:00</th>\n",
       "      <td>1.34918</td>\n",
       "      <td>1.35208</td>\n",
       "    </tr>\n",
       "    <tr>\n",
       "      <th>2018-01-02 00:01:10</th>\n",
       "      <td>1.34915</td>\n",
       "      <td>1.35354</td>\n",
       "    </tr>\n",
       "    <tr>\n",
       "      <th>2018-01-02 00:01:20</th>\n",
       "      <td>1.34915</td>\n",
       "      <td>1.35386</td>\n",
       "    </tr>\n",
       "    <tr>\n",
       "      <th>2018-01-02 00:01:30</th>\n",
       "      <td>1.34938</td>\n",
       "      <td>1.35440</td>\n",
       "    </tr>\n",
       "  </tbody>\n",
       "</table>\n",
       "</div>"
      ],
      "text/plain": [
       "                         bid      ask\n",
       "date                                 \n",
       "2018-01-02 00:00:40  1.34979  1.35176\n",
       "2018-01-02 00:01:00  1.34918  1.35208\n",
       "2018-01-02 00:01:10  1.34915  1.35354\n",
       "2018-01-02 00:01:20  1.34915  1.35386\n",
       "2018-01-02 00:01:30  1.34938  1.35440"
      ]
     },
     "execution_count": 28,
     "metadata": {},
     "output_type": "execute_result"
    }
   ],
   "source": [
    "data_GBPvsUSD.head()"
   ]
  },
  {
   "cell_type": "code",
   "execution_count": 29,
   "metadata": {},
   "outputs": [
    {
     "data": {
      "text/html": [
       "<div>\n",
       "<style>\n",
       "    .dataframe thead tr:only-child th {\n",
       "        text-align: right;\n",
       "    }\n",
       "\n",
       "    .dataframe thead th {\n",
       "        text-align: left;\n",
       "    }\n",
       "\n",
       "    .dataframe tbody tr th {\n",
       "        vertical-align: top;\n",
       "    }\n",
       "</style>\n",
       "<table border=\"1\" class=\"dataframe\">\n",
       "  <thead>\n",
       "    <tr style=\"text-align: right;\">\n",
       "      <th></th>\n",
       "      <th>bid</th>\n",
       "      <th>ask</th>\n",
       "    </tr>\n",
       "    <tr>\n",
       "      <th>date</th>\n",
       "      <th></th>\n",
       "      <th></th>\n",
       "    </tr>\n",
       "  </thead>\n",
       "  <tbody>\n",
       "    <tr>\n",
       "      <th>2018-01-01 23:58:00</th>\n",
       "      <td>1.20093</td>\n",
       "      <td>1.20115</td>\n",
       "    </tr>\n",
       "    <tr>\n",
       "      <th>2018-01-01 23:58:10</th>\n",
       "      <td>1.20093</td>\n",
       "      <td>1.20111</td>\n",
       "    </tr>\n",
       "    <tr>\n",
       "      <th>2018-01-01 23:58:20</th>\n",
       "      <td>1.20082</td>\n",
       "      <td>1.20111</td>\n",
       "    </tr>\n",
       "    <tr>\n",
       "      <th>2018-01-01 23:58:30</th>\n",
       "      <td>1.20043</td>\n",
       "      <td>1.20110</td>\n",
       "    </tr>\n",
       "    <tr>\n",
       "      <th>2018-01-01 23:58:50</th>\n",
       "      <td>1.20011</td>\n",
       "      <td>1.20113</td>\n",
       "    </tr>\n",
       "  </tbody>\n",
       "</table>\n",
       "</div>"
      ],
      "text/plain": [
       "                         bid      ask\n",
       "date                                 \n",
       "2018-01-01 23:58:00  1.20093  1.20115\n",
       "2018-01-01 23:58:10  1.20093  1.20111\n",
       "2018-01-01 23:58:20  1.20082  1.20111\n",
       "2018-01-01 23:58:30  1.20043  1.20110\n",
       "2018-01-01 23:58:50  1.20011  1.20113"
      ]
     },
     "execution_count": 29,
     "metadata": {},
     "output_type": "execute_result"
    }
   ],
   "source": [
    "data_EURvsUSD.head()"
   ]
  },
  {
   "cell_type": "code",
   "execution_count": 30,
   "metadata": {},
   "outputs": [
    {
     "name": "stdout",
     "output_type": "stream",
     "text": [
      "tamaño de la señal EUR/USD (183535, 2)\n",
      "tamaño de la señal GBP/USD (185443, 2)\n"
     ]
    }
   ],
   "source": [
    "print('tamaño de la señal EUR/USD', data_EURvsUSD.shape)\n",
    "print('tamaño de la señal GBP/USD', data_GBPvsUSD.shape)"
   ]
  },
  {
   "cell_type": "markdown",
   "metadata": {},
   "source": [
    "como se puede ver, las dos señales no tienen el mismo tamaño, como la señal predominante es el par GBP/USD, el indice de este será el tenido en cuenta para la construcción de la multiseñal."
   ]
  },
  {
   "cell_type": "code",
   "execution_count": 31,
   "metadata": {
    "collapsed": true
   },
   "outputs": [],
   "source": [
    "%run ../code/EUtilities.py\n",
    "EU = EUtilities()"
   ]
  },
  {
   "cell_type": "code",
   "execution_count": 32,
   "metadata": {
    "collapsed": true
   },
   "outputs": [],
   "source": [
    "#se construye el dataset GBP/USD con las dos señales en el, para su posterior uso\n",
    "data_GBPvsUSD = EU.multi_signal(data_GBPvsUSD,data_EURvsUSD)"
   ]
  },
  {
   "cell_type": "code",
   "execution_count": 34,
   "metadata": {},
   "outputs": [
    {
     "data": {
      "text/html": [
       "<div>\n",
       "<style>\n",
       "    .dataframe thead tr:only-child th {\n",
       "        text-align: right;\n",
       "    }\n",
       "\n",
       "    .dataframe thead th {\n",
       "        text-align: left;\n",
       "    }\n",
       "\n",
       "    .dataframe tbody tr th {\n",
       "        vertical-align: top;\n",
       "    }\n",
       "</style>\n",
       "<table border=\"1\" class=\"dataframe\">\n",
       "  <thead>\n",
       "    <tr style=\"text-align: right;\">\n",
       "      <th></th>\n",
       "      <th>bid</th>\n",
       "      <th>ask</th>\n",
       "      <th>bidnew</th>\n",
       "    </tr>\n",
       "    <tr>\n",
       "      <th>date</th>\n",
       "      <th></th>\n",
       "      <th></th>\n",
       "      <th></th>\n",
       "    </tr>\n",
       "  </thead>\n",
       "  <tbody>\n",
       "    <tr>\n",
       "      <th>2018-01-02 00:00:40</th>\n",
       "      <td>1.34979</td>\n",
       "      <td>1.35176</td>\n",
       "      <td>1.20015</td>\n",
       "    </tr>\n",
       "    <tr>\n",
       "      <th>2018-01-02 00:01:00</th>\n",
       "      <td>1.34918</td>\n",
       "      <td>1.35208</td>\n",
       "      <td>1.20030</td>\n",
       "    </tr>\n",
       "    <tr>\n",
       "      <th>2018-01-02 00:01:10</th>\n",
       "      <td>1.34915</td>\n",
       "      <td>1.35354</td>\n",
       "      <td>1.34915</td>\n",
       "    </tr>\n",
       "    <tr>\n",
       "      <th>2018-01-02 00:01:20</th>\n",
       "      <td>1.34915</td>\n",
       "      <td>1.35386</td>\n",
       "      <td>1.20030</td>\n",
       "    </tr>\n",
       "    <tr>\n",
       "      <th>2018-01-02 00:01:30</th>\n",
       "      <td>1.34938</td>\n",
       "      <td>1.35440</td>\n",
       "      <td>1.34938</td>\n",
       "    </tr>\n",
       "    <tr>\n",
       "      <th>2018-01-02 00:01:40</th>\n",
       "      <td>1.34938</td>\n",
       "      <td>1.35386</td>\n",
       "      <td>1.34938</td>\n",
       "    </tr>\n",
       "    <tr>\n",
       "      <th>2018-01-02 00:01:50</th>\n",
       "      <td>1.34942</td>\n",
       "      <td>1.35300</td>\n",
       "      <td>1.34942</td>\n",
       "    </tr>\n",
       "    <tr>\n",
       "      <th>2018-01-02 00:02:10</th>\n",
       "      <td>1.34939</td>\n",
       "      <td>1.35300</td>\n",
       "      <td>1.34939</td>\n",
       "    </tr>\n",
       "    <tr>\n",
       "      <th>2018-01-02 00:02:30</th>\n",
       "      <td>1.34979</td>\n",
       "      <td>1.35154</td>\n",
       "      <td>1.34979</td>\n",
       "    </tr>\n",
       "    <tr>\n",
       "      <th>2018-01-02 00:02:40</th>\n",
       "      <td>1.34979</td>\n",
       "      <td>1.35153</td>\n",
       "      <td>1.34979</td>\n",
       "    </tr>\n",
       "  </tbody>\n",
       "</table>\n",
       "</div>"
      ],
      "text/plain": [
       "                         bid      ask   bidnew\n",
       "date                                          \n",
       "2018-01-02 00:00:40  1.34979  1.35176  1.20015\n",
       "2018-01-02 00:01:00  1.34918  1.35208  1.20030\n",
       "2018-01-02 00:01:10  1.34915  1.35354  1.34915\n",
       "2018-01-02 00:01:20  1.34915  1.35386  1.20030\n",
       "2018-01-02 00:01:30  1.34938  1.35440  1.34938\n",
       "2018-01-02 00:01:40  1.34938  1.35386  1.34938\n",
       "2018-01-02 00:01:50  1.34942  1.35300  1.34942\n",
       "2018-01-02 00:02:10  1.34939  1.35300  1.34939\n",
       "2018-01-02 00:02:30  1.34979  1.35154  1.34979\n",
       "2018-01-02 00:02:40  1.34979  1.35153  1.34979"
      ]
     },
     "execution_count": 34,
     "metadata": {},
     "output_type": "execute_result"
    }
   ],
   "source": [
    "data_GBPvsUSD[:10]"
   ]
  },
  {
   "cell_type": "markdown",
   "metadata": {},
   "source": [
    "ya con la multiseñal se procede a crear el X..."
   ]
  },
  {
   "cell_type": "code",
   "execution_count": 35,
   "metadata": {},
   "outputs": [],
   "source": [
    "#los datos del par EUR/USD \n",
    "X_EURUSD ,_= EU.build_dataset(data_GBPvsUSD.iloc[:,2],window=3,binary_target=False,PNL=False\n",
    "                                             ,delete_constant_values=True)\n",
    "#los datos del par GBP/USD para luego unirlos y formar los datos X para entrenar\n",
    "X_GBPUSD, y_GBPUSD, bt_GBPUSD = EU.build_dataset(data_GBPvsUSD.iloc[:,0],window=3,binary_target=True\n",
    "                                                 ,delete_constant_values=True,PNL=True)"
   ]
  },
  {
   "cell_type": "code",
   "execution_count": 36,
   "metadata": {},
   "outputs": [
    {
     "data": {
      "text/plain": [
       "((160808, 3), (160804, 4))"
      ]
     },
     "execution_count": 36,
     "metadata": {},
     "output_type": "execute_result"
    }
   ],
   "source": [
    "X_EURUSD.shape, X_GBPUSD.shape"
   ]
  },
  {
   "cell_type": "markdown",
   "metadata": {},
   "source": [
    "debido a que son diferentes señales, al habilitar la opción de <i>\"delete_constant_values\"</i> en la función <i>\"build_dataset\"</i> esto hace que las señales resultantes no sean iguales en tamaño, por ende para entrenar se cogeran los valores de los indices de la señal a medir, si este no está en la otra señal, se coloca lo de la señal GBP/USD en ese instante de tiempo"
   ]
  },
  {
   "cell_type": "code",
   "execution_count": 37,
   "metadata": {},
   "outputs": [
    {
     "data": {
      "text/plain": [
       "((160804, 3), (160804, 4))"
      ]
     },
     "execution_count": 37,
     "metadata": {},
     "output_type": "execute_result"
    }
   ],
   "source": [
    "X_EURUSD = X_EURUSD.loc[X_GBPUSD.index]\n",
    "X_EURUSD.shape, X_GBPUSD.shape"
   ]
  },
  {
   "cell_type": "code",
   "execution_count": 38,
   "metadata": {},
   "outputs": [
    {
     "data": {
      "text/html": [
       "<div>\n",
       "<style>\n",
       "    .dataframe thead tr:only-child th {\n",
       "        text-align: right;\n",
       "    }\n",
       "\n",
       "    .dataframe thead th {\n",
       "        text-align: left;\n",
       "    }\n",
       "\n",
       "    .dataframe tbody tr th {\n",
       "        vertical-align: top;\n",
       "    }\n",
       "</style>\n",
       "<table border=\"1\" class=\"dataframe\">\n",
       "  <thead>\n",
       "    <tr style=\"text-align: right;\">\n",
       "      <th></th>\n",
       "      <th>0</th>\n",
       "      <th>1</th>\n",
       "      <th>2</th>\n",
       "    </tr>\n",
       "    <tr>\n",
       "      <th>date</th>\n",
       "      <th></th>\n",
       "      <th></th>\n",
       "      <th></th>\n",
       "    </tr>\n",
       "  </thead>\n",
       "  <tbody>\n",
       "    <tr>\n",
       "      <th>2018-01-02 00:01:40</th>\n",
       "      <td>1.20030</td>\n",
       "      <td>1.34915</td>\n",
       "      <td>1.20030</td>\n",
       "    </tr>\n",
       "    <tr>\n",
       "      <th>2018-01-02 00:02:10</th>\n",
       "      <td>1.20030</td>\n",
       "      <td>1.34938</td>\n",
       "      <td>1.34938</td>\n",
       "    </tr>\n",
       "    <tr>\n",
       "      <th>2018-01-02 00:02:30</th>\n",
       "      <td>1.34938</td>\n",
       "      <td>1.34938</td>\n",
       "      <td>1.34942</td>\n",
       "    </tr>\n",
       "    <tr>\n",
       "      <th>2018-01-02 00:02:40</th>\n",
       "      <td>1.34938</td>\n",
       "      <td>1.34942</td>\n",
       "      <td>1.34939</td>\n",
       "    </tr>\n",
       "    <tr>\n",
       "      <th>2018-01-02 00:03:10</th>\n",
       "      <td>1.34939</td>\n",
       "      <td>1.34979</td>\n",
       "      <td>1.34979</td>\n",
       "    </tr>\n",
       "    <tr>\n",
       "      <th>2018-01-02 00:03:20</th>\n",
       "      <td>1.34979</td>\n",
       "      <td>1.34979</td>\n",
       "      <td>1.20026</td>\n",
       "    </tr>\n",
       "    <tr>\n",
       "      <th>2018-01-02 00:04:10</th>\n",
       "      <td>1.20024</td>\n",
       "      <td>1.34979</td>\n",
       "      <td>1.20011</td>\n",
       "    </tr>\n",
       "    <tr>\n",
       "      <th>2018-01-02 00:05:30</th>\n",
       "      <td>1.20047</td>\n",
       "      <td>1.34940</td>\n",
       "      <td>1.34940</td>\n",
       "    </tr>\n",
       "    <tr>\n",
       "      <th>2018-01-02 00:05:40</th>\n",
       "      <td>1.34940</td>\n",
       "      <td>1.34940</td>\n",
       "      <td>1.20055</td>\n",
       "    </tr>\n",
       "    <tr>\n",
       "      <th>2018-01-02 00:06:00</th>\n",
       "      <td>1.34940</td>\n",
       "      <td>1.20055</td>\n",
       "      <td>1.20060</td>\n",
       "    </tr>\n",
       "  </tbody>\n",
       "</table>\n",
       "</div>"
      ],
      "text/plain": [
       "                           0        1        2\n",
       "date                                          \n",
       "2018-01-02 00:01:40  1.20030  1.34915  1.20030\n",
       "2018-01-02 00:02:10  1.20030  1.34938  1.34938\n",
       "2018-01-02 00:02:30  1.34938  1.34938  1.34942\n",
       "2018-01-02 00:02:40  1.34938  1.34942  1.34939\n",
       "2018-01-02 00:03:10  1.34939  1.34979  1.34979\n",
       "2018-01-02 00:03:20  1.34979  1.34979  1.20026\n",
       "2018-01-02 00:04:10  1.20024  1.34979  1.20011\n",
       "2018-01-02 00:05:30  1.20047  1.34940  1.34940\n",
       "2018-01-02 00:05:40  1.34940  1.34940  1.20055\n",
       "2018-01-02 00:06:00  1.34940  1.20055  1.20060"
      ]
     },
     "execution_count": 38,
     "metadata": {},
     "output_type": "execute_result"
    }
   ],
   "source": [
    "X_EURUSD[:10]"
   ]
  },
  {
   "cell_type": "code",
   "execution_count": 39,
   "metadata": {
    "collapsed": true
   },
   "outputs": [],
   "source": [
    "#para cambiar los valores NaN por los que hay en la señal GBP/USD\n",
    "X_EURUSD = X_EURUSD.fillna(X_GBPUSD,axis=0)"
   ]
  },
  {
   "cell_type": "markdown",
   "metadata": {},
   "source": [
    "se unen para entrenar la multiseñal..."
   ]
  },
  {
   "cell_type": "code",
   "execution_count": 40,
   "metadata": {
    "collapsed": true
   },
   "outputs": [],
   "source": [
    "X_GBPUSD.insert(loc=3,column=3,value=X_EURUSD.iloc[:,0])\n",
    "X_GBPUSD.insert(loc=4,column=4,value=X_EURUSD.iloc[:,1])\n",
    "X_GBPUSD.insert(loc=5,column=5,value=X_EURUSD.iloc[:,2])"
   ]
  },
  {
   "cell_type": "code",
   "execution_count": 41,
   "metadata": {},
   "outputs": [
    {
     "data": {
      "text/html": [
       "<div>\n",
       "<style>\n",
       "    .dataframe thead tr:only-child th {\n",
       "        text-align: right;\n",
       "    }\n",
       "\n",
       "    .dataframe thead th {\n",
       "        text-align: left;\n",
       "    }\n",
       "\n",
       "    .dataframe tbody tr th {\n",
       "        vertical-align: top;\n",
       "    }\n",
       "</style>\n",
       "<table border=\"1\" class=\"dataframe\">\n",
       "  <thead>\n",
       "    <tr style=\"text-align: right;\">\n",
       "      <th></th>\n",
       "      <th>0</th>\n",
       "      <th>1</th>\n",
       "      <th>2</th>\n",
       "      <th>3</th>\n",
       "      <th>4</th>\n",
       "      <th>5</th>\n",
       "      <th>PNL</th>\n",
       "    </tr>\n",
       "    <tr>\n",
       "      <th>date</th>\n",
       "      <th></th>\n",
       "      <th></th>\n",
       "      <th></th>\n",
       "      <th></th>\n",
       "      <th></th>\n",
       "      <th></th>\n",
       "      <th></th>\n",
       "    </tr>\n",
       "  </thead>\n",
       "  <tbody>\n",
       "    <tr>\n",
       "      <th>2018-01-02 00:01:40</th>\n",
       "      <td>1.34918</td>\n",
       "      <td>1.34915</td>\n",
       "      <td>1.34915</td>\n",
       "      <td>1.20030</td>\n",
       "      <td>1.34915</td>\n",
       "      <td>1.20030</td>\n",
       "      <td>0.00023</td>\n",
       "    </tr>\n",
       "    <tr>\n",
       "      <th>2018-01-02 00:02:10</th>\n",
       "      <td>1.34915</td>\n",
       "      <td>1.34938</td>\n",
       "      <td>1.34938</td>\n",
       "      <td>1.20030</td>\n",
       "      <td>1.34938</td>\n",
       "      <td>1.34938</td>\n",
       "      <td>0.00004</td>\n",
       "    </tr>\n",
       "    <tr>\n",
       "      <th>2018-01-02 00:02:30</th>\n",
       "      <td>1.34938</td>\n",
       "      <td>1.34938</td>\n",
       "      <td>1.34942</td>\n",
       "      <td>1.34938</td>\n",
       "      <td>1.34938</td>\n",
       "      <td>1.34942</td>\n",
       "      <td>-0.00003</td>\n",
       "    </tr>\n",
       "    <tr>\n",
       "      <th>2018-01-02 00:02:40</th>\n",
       "      <td>1.34938</td>\n",
       "      <td>1.34942</td>\n",
       "      <td>1.34939</td>\n",
       "      <td>1.34938</td>\n",
       "      <td>1.34942</td>\n",
       "      <td>1.34939</td>\n",
       "      <td>0.00040</td>\n",
       "    </tr>\n",
       "    <tr>\n",
       "      <th>2018-01-02 00:03:10</th>\n",
       "      <td>1.34939</td>\n",
       "      <td>1.34979</td>\n",
       "      <td>1.34979</td>\n",
       "      <td>1.34939</td>\n",
       "      <td>1.34979</td>\n",
       "      <td>1.34979</td>\n",
       "      <td>-0.00039</td>\n",
       "    </tr>\n",
       "  </tbody>\n",
       "</table>\n",
       "</div>"
      ],
      "text/plain": [
       "                           0        1        2        3        4        5  \\\n",
       "date                                                                        \n",
       "2018-01-02 00:01:40  1.34918  1.34915  1.34915  1.20030  1.34915  1.20030   \n",
       "2018-01-02 00:02:10  1.34915  1.34938  1.34938  1.20030  1.34938  1.34938   \n",
       "2018-01-02 00:02:30  1.34938  1.34938  1.34942  1.34938  1.34938  1.34942   \n",
       "2018-01-02 00:02:40  1.34938  1.34942  1.34939  1.34938  1.34942  1.34939   \n",
       "2018-01-02 00:03:10  1.34939  1.34979  1.34979  1.34939  1.34979  1.34979   \n",
       "\n",
       "                         PNL  \n",
       "date                          \n",
       "2018-01-02 00:01:40  0.00023  \n",
       "2018-01-02 00:02:10  0.00004  \n",
       "2018-01-02 00:02:30 -0.00003  \n",
       "2018-01-02 00:02:40  0.00040  \n",
       "2018-01-02 00:03:10 -0.00039  "
      ]
     },
     "execution_count": 41,
     "metadata": {},
     "output_type": "execute_result"
    }
   ],
   "source": [
    "X_GBPUSD.head()"
   ]
  },
  {
   "cell_type": "markdown",
   "metadata": {},
   "source": [
    "se prueba con el GaussianNB"
   ]
  },
  {
   "cell_type": "code",
   "execution_count": 42,
   "metadata": {
    "collapsed": true
   },
   "outputs": [],
   "source": [
    "%run ../code/PNLEstimatorWrapper.py\n",
    "%run ../code/EUtilities.py\n",
    "EU = EUtilities()"
   ]
  },
  {
   "cell_type": "code",
   "execution_count": 43,
   "metadata": {},
   "outputs": [
    {
     "name": "stdout",
     "output_type": "stream",
     "text": [
      "--------- GaussianNB ----------------\n",
      "average PNL :  -0.00199052631579\n",
      "average buy:  2261.31578947\n",
      "average sell:  4741.89473684\n",
      "-------------------------------------\n",
      "                PNL    buys   sells  longest_buys  longest_sells\n",
      "2018-01-08  0.00680  1225.0  5574.0          41.0         2316.0\n",
      "2018-01-09  0.00676  3011.0  3822.0        1606.0         2579.0\n",
      "2018-01-10  0.00762  3437.0  3611.0         849.0          108.0\n",
      "2018-01-11  0.00036  4790.0  2343.0        3361.0         1274.0\n",
      "2018-01-12 -0.01519  3032.0  4189.0        2399.0          477.0\n",
      "2018-01-15  0.00606  7280.0     0.0        7280.0            0.0\n",
      "2018-01-16  0.00038     0.0  7107.0           0.0         7107.0\n",
      "2018-01-17 -0.00455     0.0  7515.0           0.0         7515.0\n",
      "2018-01-18 -0.00646     0.0  7473.0           0.0         7473.0\n",
      "2018-01-19  0.00683     0.0  7361.0           0.0         7361.0\n",
      "2018-01-22 -0.01562     0.0  7399.0           0.0         7399.0\n",
      "2018-01-23 -0.00114     0.0  7330.0           0.0         7330.0\n",
      "2018-01-24 -0.02440     0.0  7579.0           0.0         7579.0\n",
      "2018-01-25 -0.00801  6913.0   912.0         130.0           11.0\n",
      "2018-01-26 -0.00241     0.0  7780.0           0.0         7780.0\n",
      "2018-01-29 -0.00836  6549.0  1008.0          70.0            8.0\n",
      "2018-01-30  0.00405  4111.0  3515.0        3010.0          825.0\n",
      "2018-01-31  0.01033  2616.0  5102.0          62.0         1463.0\n",
      "2018-02-01 -0.00087     1.0   476.0           1.0          474.0\n"
     ]
    }
   ],
   "source": [
    "from sklearn.naive_bayes import GaussianNB\n",
    "    \n",
    "y = bt_GBPUSD\n",
    "n_bdtrain = 4\n",
    "n_bdtest = 1\n",
    "mday = 1\n",
    "dates = np.unique(X_GBPUSD.index.date)[n_bdtrain:]\n",
    "\n",
    "est_GNB = PNLEstimatorWrapper(GaussianNB(), PNL_column='PNL')\n",
    "result_GNB = EU.step_validation(est_GNB, X_GBPUSD, y, EU.v_split(X_GBPUSD,n_bdtrain,n_bdtest,mday))\n",
    "result_GNB, predict_GNB = EU.redim(result_GNB)\n",
    "print('--------- GaussianNB ----------------')\n",
    "print('average PNL : ', np.mean(result_GNB[:,0]))\n",
    "print('average buy: ', np.mean(result_GNB[:,1]))\n",
    "print('average sell: ', np.mean(result_GNB[:,2]))\n",
    "print('-------------------------------------')\n",
    "df_GNB = pd.DataFrame(result_GNB, columns=list(['PNL','buys','sells','longest_buys','longest_sells']),index=dates)\n",
    "print(df_GNB)\n",
    "df_GNB.to_csv('../resultados/TrueFX/GBP-USD/MultiSeñal/GaussianNB/pnl-GBP-USD_EUR-USD_GNB_wsize3_2018-01.csv')"
   ]
  },
  {
   "cell_type": "markdown",
   "metadata": {},
   "source": [
    "se prueba con el KNeighborsClassifier"
   ]
  },
  {
   "cell_type": "code",
   "execution_count": 44,
   "metadata": {},
   "outputs": [
    {
     "name": "stdout",
     "output_type": "stream",
     "text": [
      "--------- KNeighborsClassifier ----------------\n",
      "average PNL :  0.00288421052632\n",
      "average buy:  3156.21052632\n",
      "average sell:  3847.0\n",
      "-------------------------------------\n",
      "                PNL    buys   sells  longest_buys  longest_sells\n",
      "2018-01-08 -0.00228  3354.0  3445.0          63.0           72.0\n",
      "2018-01-09  0.00424  4795.0  2038.0         138.0           78.0\n",
      "2018-01-10  0.00926  4599.0  2449.0         256.0           45.0\n",
      "2018-01-11  0.01506  4249.0  2884.0         291.0           46.0\n",
      "2018-01-12 -0.01177  1655.0  5566.0          40.0         1284.0\n",
      "2018-01-15 -0.00926  1287.0  5993.0          22.0          578.0\n",
      "2018-01-16 -0.00674  2484.0  4623.0          46.0           88.0\n",
      "2018-01-17  0.01069  2065.0  5450.0          46.0          156.0\n",
      "2018-01-18  0.00270  4556.0  2917.0          82.0          152.0\n",
      "2018-01-19  0.00969  3246.0  4115.0          88.0          138.0\n",
      "2018-01-22 -0.00146  2499.0  4900.0          22.0          620.0\n",
      "2018-01-23  0.01944  3261.0  4069.0         113.0          273.0\n",
      "2018-01-24 -0.02094   736.0  6843.0          33.0         1586.0\n",
      "2018-01-25  0.00019  1887.0  5938.0          66.0          130.0\n",
      "2018-01-26 -0.00361  4333.0  3447.0         351.0          123.0\n",
      "2018-01-29  0.00260  6263.0  1294.0         749.0           82.0\n",
      "2018-01-30  0.02547  4577.0  3049.0         190.0           55.0\n",
      "2018-01-31  0.01241  3799.0  3919.0         119.0           85.0\n",
      "2018-02-01 -0.00089   323.0   154.0          38.0           20.0\n"
     ]
    }
   ],
   "source": [
    "from sklearn.neighbors import KNeighborsClassifier\n",
    "    \n",
    "y = bt_GBPUSD\n",
    "n_bdtrain = 4\n",
    "n_bdtest = 1\n",
    "mday = 1\n",
    "dates = np.unique(X_GBPUSD.index.date)[n_bdtrain:]\n",
    "\n",
    "est_KNC = PNLEstimatorWrapper(KNeighborsClassifier(n_neighbors=7,n_jobs=2,leaf_size=30\n",
    "                                                   ,algorithm='kd_tree'), PNL_column='PNL')\n",
    "result_KNC = EU.step_validation(est_KNC, X_GBPUSD, y, EU.v_split(X_GBPUSD,n_bdtrain,n_bdtest,mday))\n",
    "result_KNC, predict_KNC = EU.redim(result_KNC)\n",
    "print('--------- KNeighborsClassifier ----------------')\n",
    "print('average PNL : ', np.mean(result_KNC[:,0]))\n",
    "print('average buy: ', np.mean(result_KNC[:,1]))\n",
    "print('average sell: ', np.mean(result_KNC[:,2]))\n",
    "print('-------------------------------------')\n",
    "df_KNC = pd.DataFrame(result_KNC, columns=list(['PNL','buys','sells','longest_buys','longest_sells']),index=dates)\n",
    "print(df_KNC)\n",
    "df_KNC.to_csv('../resultados/TrueFX/GBP-USD/MultiSeñal/KNeighborsClassifier/pnl-GBP-USD_EUR-USD_KNC_wsize3_2018-01.csv')"
   ]
  },
  {
   "cell_type": "markdown",
   "metadata": {},
   "source": [
    "se prueba con el DecisionTreeClassifier"
   ]
  },
  {
   "cell_type": "code",
   "execution_count": 45,
   "metadata": {},
   "outputs": [
    {
     "name": "stdout",
     "output_type": "stream",
     "text": [
      "--------- DecisionTreeClassifier ----------------\n",
      "average PNL :  0.00257789473684\n",
      "average buy:  3171.05263158\n",
      "average sell:  3832.15789474\n",
      "-------------------------------------\n",
      "                PNL    buys   sells  longest_buys  longest_sells\n",
      "2018-01-08  0.00528  4415.0  2384.0          73.0           34.0\n",
      "2018-01-09  0.00094  4340.0  2493.0          85.0           34.0\n",
      "2018-01-10 -0.00020  4593.0  2455.0          89.0           39.0\n",
      "2018-01-11  0.00406  3996.0  3137.0         135.0           63.0\n",
      "2018-01-12 -0.01687  1722.0  5499.0          81.0           91.0\n",
      "2018-01-15  0.00544  1035.0  6245.0          49.0         3970.0\n",
      "2018-01-16  0.00672  3414.0  3693.0         129.0           42.0\n",
      "2018-01-17  0.01605  2584.0  4931.0          24.0           74.0\n",
      "2018-01-18  0.00072  2879.0  4594.0         100.0           49.0\n",
      "2018-01-19  0.00711  4078.0  3283.0          81.0           50.0\n",
      "2018-01-22 -0.01628  2444.0  4955.0          24.0          360.0\n",
      "2018-01-23  0.00708  3392.0  3938.0         111.0          104.0\n",
      "2018-01-24 -0.02546  1060.0  6519.0          17.0           79.0\n",
      "2018-01-25  0.00269  1859.0  5966.0         108.0         1845.0\n",
      "2018-01-26  0.02127  4303.0  3477.0         135.0           53.0\n",
      "2018-01-29  0.01266  5271.0  2286.0         116.0           68.0\n",
      "2018-01-30  0.00277  4853.0  2773.0         147.0           21.0\n",
      "2018-01-31  0.01007  3742.0  3976.0          34.0           85.0\n",
      "2018-02-01  0.00493   270.0   207.0          48.0           10.0\n"
     ]
    }
   ],
   "source": [
    "from sklearn.tree import DecisionTreeClassifier\n",
    "    \n",
    "y = bt_GBPUSD\n",
    "n_bdtrain = 4\n",
    "n_bdtest = 1\n",
    "mday = 1\n",
    "dates = np.unique(X_GBPUSD.index.date)[n_bdtrain:]\n",
    "\n",
    "est_DTC = PNLEstimatorWrapper(DecisionTreeClassifier(), PNL_column='PNL')\n",
    "result_DTC = EU.step_validation(est_DTC, X_GBPUSD, y, EU.v_split(X_GBPUSD,n_bdtrain,n_bdtest,mday))\n",
    "result_DTC, predict_DTC = EU.redim(result_DTC)\n",
    "print('--------- DecisionTreeClassifier ----------------')\n",
    "print('average PNL : ', np.mean(result_DTC[:,0]))\n",
    "print('average buy: ', np.mean(result_DTC[:,1]))\n",
    "print('average sell: ', np.mean(result_DTC[:,2]))\n",
    "print('-------------------------------------')\n",
    "df_DTC = pd.DataFrame(result_DTC, columns=list(['PNL','buys','sells','longest_buys','longest_sells']),index=dates)\n",
    "print(df_DTC)\n",
    "df_DTC.to_csv('../resultados/TrueFX/GBP-USD/MultiSeñal/DecisionTreeClassifier/pnl-GBP-USD_EUR-USD_DTC_wsize3_2018-01.csv')"
   ]
  },
  {
   "cell_type": "markdown",
   "metadata": {},
   "source": [
    "se prueba con el RandomForestClassifier"
   ]
  },
  {
   "cell_type": "code",
   "execution_count": 46,
   "metadata": {},
   "outputs": [
    {
     "name": "stdout",
     "output_type": "stream",
     "text": [
      "--------- RandomForestClassifier ----------------\n",
      "average PNL :  0.00427052631579\n",
      "average buy:  2984.26315789\n",
      "average sell:  4018.94736842\n",
      "-------------------------------------\n",
      "                PNL    buys   sells  longest_buys  longest_sells\n",
      "2018-01-08  0.00456  1915.0  4884.0          34.0          120.0\n",
      "2018-01-09  0.00078  5210.0  1623.0          74.0           23.0\n",
      "2018-01-10  0.00442  3968.0  3080.0         273.0           29.0\n",
      "2018-01-11  0.00782  3801.0  3332.0         301.0           49.0\n",
      "2018-01-12 -0.01595  2024.0  5197.0          35.0           91.0\n",
      "2018-01-15  0.00210   963.0  6317.0          43.0         4035.0\n",
      "2018-01-16  0.00696  2521.0  4586.0          25.0           89.0\n",
      "2018-01-17  0.01167  2362.0  5153.0          26.0           91.0\n",
      "2018-01-18  0.00980  3567.0  3906.0          60.0          106.0\n",
      "2018-01-19  0.01239  3423.0  3938.0          46.0           56.0\n",
      "2018-01-22 -0.00092  2254.0  5145.0          24.0         1352.0\n",
      "2018-01-23  0.02626  2963.0  4367.0          89.0          709.0\n",
      "2018-01-24 -0.02202   204.0  7375.0          11.0         6025.0\n",
      "2018-01-25 -0.00151  1820.0  6005.0          96.0          130.0\n",
      "2018-01-26  0.01039  4322.0  3458.0          53.0           63.0\n",
      "2018-01-29 -0.00082  6231.0  1326.0         229.0           27.0\n",
      "2018-01-30  0.01171  5090.0  2536.0         190.0           26.0\n",
      "2018-01-31  0.01113  3823.0  3895.0          49.0           61.0\n",
      "2018-02-01  0.00237   240.0   237.0          22.0           18.0\n"
     ]
    }
   ],
   "source": [
    "from sklearn.ensemble import RandomForestClassifier\n",
    "    \n",
    "y = bt_GBPUSD\n",
    "n_bdtrain = 4\n",
    "n_bdtest = 1\n",
    "mday = 1\n",
    "dates = np.unique(X_GBPUSD.index.date)[n_bdtrain:]\n",
    "\n",
    "est_RFC = PNLEstimatorWrapper(RandomForestClassifier(n_estimators=15, n_jobs=3), PNL_column='PNL')\n",
    "result_RFC = EU.step_validation(est_RFC, X_GBPUSD, y, EU.v_split(X_GBPUSD,n_bdtrain,n_bdtest,mday))\n",
    "result_RFC, predict_RFC = EU.redim(result_RFC)\n",
    "print('--------- RandomForestClassifier ----------------')\n",
    "print('average PNL : ', np.mean(result_RFC[:,0]))\n",
    "print('average buy: ', np.mean(result_RFC[:,1]))\n",
    "print('average sell: ', np.mean(result_RFC[:,2]))\n",
    "print('-------------------------------------')\n",
    "df_RFC = pd.DataFrame(result_RFC, columns=list(['PNL','buys','sells','longest_buys','longest_sells']),index=dates)\n",
    "print(df_RFC)\n",
    "df_RFC.to_csv('../resultados/TrueFX/GBP-USD/MultiSeñal/RandomForestClassifier/pnl-GBP-USD_EUR-USD_RFC_wsize3_2018-01.csv')"
   ]
  },
  {
   "cell_type": "code",
   "execution_count": null,
   "metadata": {
    "collapsed": true
   },
   "outputs": [],
   "source": []
  }
 ],
 "metadata": {
  "kernelspec": {
   "display_name": "Python 3",
   "language": "python",
   "name": "python3"
  },
  "language_info": {
   "codemirror_mode": {
    "name": "ipython",
    "version": 3
   },
   "file_extension": ".py",
   "mimetype": "text/x-python",
   "name": "python",
   "nbconvert_exporter": "python",
   "pygments_lexer": "ipython3",
   "version": "3.6.2"
  }
 },
 "nbformat": 4,
 "nbformat_minor": 2
}
