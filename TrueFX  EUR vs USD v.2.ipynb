{
 "cells": [
  {
   "cell_type": "code",
   "execution_count": 1,
   "metadata": {},
   "outputs": [
    {
     "data": {
      "text/html": [
       "\n",
       "    <div class=\"bk-root\">\n",
       "        <a href=\"https://bokeh.pydata.org\" target=\"_blank\" class=\"bk-logo bk-logo-small bk-logo-notebook\"></a>\n",
       "        <span id=\"0b0c210d-ab1d-4a65-8cb7-535a29e19d33\">Loading BokehJS ...</span>\n",
       "    </div>"
      ]
     },
     "metadata": {},
     "output_type": "display_data"
    },
    {
     "data": {
      "application/javascript": [
       "\n",
       "(function(root) {\n",
       "  function now() {\n",
       "    return new Date();\n",
       "  }\n",
       "\n",
       "  var force = true;\n",
       "\n",
       "  if (typeof (root._bokeh_onload_callbacks) === \"undefined\" || force === true) {\n",
       "    root._bokeh_onload_callbacks = [];\n",
       "    root._bokeh_is_loading = undefined;\n",
       "  }\n",
       "\n",
       "\n",
       "  \n",
       "  if (typeof (root._bokeh_timeout) === \"undefined\" || force === true) {\n",
       "    root._bokeh_timeout = Date.now() + 5000;\n",
       "    root._bokeh_failed_load = false;\n",
       "  }\n",
       "\n",
       "  var NB_LOAD_WARNING = {'data': {'text/html':\n",
       "     \"<div style='background-color: #fdd'>\\n\"+\n",
       "     \"<p>\\n\"+\n",
       "     \"BokehJS does not appear to have successfully loaded. If loading BokehJS from CDN, this \\n\"+\n",
       "     \"may be due to a slow or bad network connection. Possible fixes:\\n\"+\n",
       "     \"</p>\\n\"+\n",
       "     \"<ul>\\n\"+\n",
       "     \"<li>re-rerun `output_notebook()` to attempt to load from CDN again, or</li>\\n\"+\n",
       "     \"<li>use INLINE resources instead, as so:</li>\\n\"+\n",
       "     \"</ul>\\n\"+\n",
       "     \"<code>\\n\"+\n",
       "     \"from bokeh.resources import INLINE\\n\"+\n",
       "     \"output_notebook(resources=INLINE)\\n\"+\n",
       "     \"</code>\\n\"+\n",
       "     \"</div>\"}};\n",
       "\n",
       "  function display_loaded() {\n",
       "    if (root.Bokeh !== undefined) {\n",
       "      var el = document.getElementById(\"0b0c210d-ab1d-4a65-8cb7-535a29e19d33\");\n",
       "      if (el != null) {\n",
       "        el.textContent = \"BokehJS \" + Bokeh.version + \" successfully loaded.\";\n",
       "      }\n",
       "    } else if (Date.now() < root._bokeh_timeout) {\n",
       "      setTimeout(display_loaded, 100)\n",
       "    }\n",
       "  }\n",
       "\n",
       "\n",
       "  function run_callbacks() {\n",
       "    try {\n",
       "      root._bokeh_onload_callbacks.forEach(function(callback) { callback() });\n",
       "    }\n",
       "    finally {\n",
       "      delete root._bokeh_onload_callbacks\n",
       "    }\n",
       "    console.info(\"Bokeh: all callbacks have finished\");\n",
       "  }\n",
       "\n",
       "  function load_libs(js_urls, callback) {\n",
       "    root._bokeh_onload_callbacks.push(callback);\n",
       "    if (root._bokeh_is_loading > 0) {\n",
       "      console.log(\"Bokeh: BokehJS is being loaded, scheduling callback at\", now());\n",
       "      return null;\n",
       "    }\n",
       "    if (js_urls == null || js_urls.length === 0) {\n",
       "      run_callbacks();\n",
       "      return null;\n",
       "    }\n",
       "    console.log(\"Bokeh: BokehJS not loaded, scheduling load and callback at\", now());\n",
       "    root._bokeh_is_loading = js_urls.length;\n",
       "    for (var i = 0; i < js_urls.length; i++) {\n",
       "      var url = js_urls[i];\n",
       "      var s = document.createElement('script');\n",
       "      s.src = url;\n",
       "      s.async = false;\n",
       "      s.onreadystatechange = s.onload = function() {\n",
       "        root._bokeh_is_loading--;\n",
       "        if (root._bokeh_is_loading === 0) {\n",
       "          console.log(\"Bokeh: all BokehJS libraries loaded\");\n",
       "          run_callbacks()\n",
       "        }\n",
       "      };\n",
       "      s.onerror = function() {\n",
       "        console.warn(\"failed to load library \" + url);\n",
       "      };\n",
       "      console.log(\"Bokeh: injecting script tag for BokehJS library: \", url);\n",
       "      document.getElementsByTagName(\"head\")[0].appendChild(s);\n",
       "    }\n",
       "  };var element = document.getElementById(\"0b0c210d-ab1d-4a65-8cb7-535a29e19d33\");\n",
       "  if (element == null) {\n",
       "    console.log(\"Bokeh: ERROR: autoload.js configured with elementid '0b0c210d-ab1d-4a65-8cb7-535a29e19d33' but no matching script tag was found. \")\n",
       "    return false;\n",
       "  }\n",
       "\n",
       "  var js_urls = [\"https://cdn.pydata.org/bokeh/release/bokeh-0.12.7.min.js\", \"https://cdn.pydata.org/bokeh/release/bokeh-widgets-0.12.7.min.js\", \"https://cdn.pydata.org/bokeh/release/bokeh-tables-0.12.7.min.js\", \"https://cdn.pydata.org/bokeh/release/bokeh-gl-0.12.7.min.js\"];\n",
       "\n",
       "  var inline_js = [\n",
       "    function(Bokeh) {\n",
       "      Bokeh.set_log_level(\"info\");\n",
       "    },\n",
       "    \n",
       "    function(Bokeh) {\n",
       "      \n",
       "    },\n",
       "    \n",
       "    function(Bokeh) {\n",
       "      \n",
       "      document.getElementById(\"0b0c210d-ab1d-4a65-8cb7-535a29e19d33\").textContent = \"BokehJS is loading...\";\n",
       "    },\n",
       "    function(Bokeh) {\n",
       "      console.log(\"Bokeh: injecting CSS: https://cdn.pydata.org/bokeh/release/bokeh-0.12.7.min.css\");\n",
       "      Bokeh.embed.inject_css(\"https://cdn.pydata.org/bokeh/release/bokeh-0.12.7.min.css\");\n",
       "      console.log(\"Bokeh: injecting CSS: https://cdn.pydata.org/bokeh/release/bokeh-widgets-0.12.7.min.css\");\n",
       "      Bokeh.embed.inject_css(\"https://cdn.pydata.org/bokeh/release/bokeh-widgets-0.12.7.min.css\");\n",
       "      console.log(\"Bokeh: injecting CSS: https://cdn.pydata.org/bokeh/release/bokeh-tables-0.12.7.min.css\");\n",
       "      Bokeh.embed.inject_css(\"https://cdn.pydata.org/bokeh/release/bokeh-tables-0.12.7.min.css\");\n",
       "    }\n",
       "  ];\n",
       "\n",
       "  function run_inline_js() {\n",
       "    \n",
       "    if ((root.Bokeh !== undefined) || (force === true)) {\n",
       "      for (var i = 0; i < inline_js.length; i++) {\n",
       "        inline_js[i].call(root, root.Bokeh);\n",
       "      }if (force === true) {\n",
       "        display_loaded();\n",
       "      }} else if (Date.now() < root._bokeh_timeout) {\n",
       "      setTimeout(run_inline_js, 100);\n",
       "    } else if (!root._bokeh_failed_load) {\n",
       "      console.log(\"Bokeh: BokehJS failed to load within specified timeout.\");\n",
       "      root._bokeh_failed_load = true;\n",
       "    } else if (force !== true) {\n",
       "      var cell = $(document.getElementById(\"0b0c210d-ab1d-4a65-8cb7-535a29e19d33\")).parents('.cell').data().cell;\n",
       "      cell.output_area.append_execute_result(NB_LOAD_WARNING)\n",
       "    }\n",
       "\n",
       "  }\n",
       "\n",
       "  if (root._bokeh_is_loading === 0) {\n",
       "    console.log(\"Bokeh: BokehJS loaded, going straight to plotting\");\n",
       "    run_inline_js();\n",
       "  } else {\n",
       "    load_libs(js_urls, function() {\n",
       "      console.log(\"Bokeh: BokehJS plotting callback run at\", now());\n",
       "      run_inline_js();\n",
       "    });\n",
       "  }\n",
       "}(window));"
      ]
     },
     "metadata": {},
     "output_type": "display_data"
    }
   ],
   "source": [
    "import numpy as np\n",
    "import pandas as pd\n",
    "import bokeh.plotting as bp\n",
    "import bokeh as bk \n",
    "bp.output_notebook()\n",
    "import matplotlib.pyplot as plt\n",
    "%matplotlib inline"
   ]
  },
  {
   "cell_type": "code",
   "execution_count": 2,
   "metadata": {
    "collapsed": true
   },
   "outputs": [],
   "source": [
    "#Se lee la señal pre-procesada\n",
    "data_set = pd.read_csv(\"./data/TrueFX/EUR-USD/datos_procesados_EURUSD-2017-07.csv\")"
   ]
  },
  {
   "cell_type": "code",
   "execution_count": 3,
   "metadata": {
    "scrolled": true
   },
   "outputs": [
    {
     "data": {
      "text/html": [
       "<div>\n",
       "<style>\n",
       "    .dataframe thead tr:only-child th {\n",
       "        text-align: right;\n",
       "    }\n",
       "\n",
       "    .dataframe thead th {\n",
       "        text-align: left;\n",
       "    }\n",
       "\n",
       "    .dataframe tbody tr th {\n",
       "        vertical-align: top;\n",
       "    }\n",
       "</style>\n",
       "<table border=\"1\" class=\"dataframe\">\n",
       "  <thead>\n",
       "    <tr style=\"text-align: right;\">\n",
       "      <th></th>\n",
       "      <th>date</th>\n",
       "      <th>bid</th>\n",
       "      <th>ask</th>\n",
       "    </tr>\n",
       "  </thead>\n",
       "  <tbody>\n",
       "    <tr>\n",
       "      <th>0</th>\n",
       "      <td>2017-07-03 00:00:10</td>\n",
       "      <td>1.14183</td>\n",
       "      <td>1.14211</td>\n",
       "    </tr>\n",
       "    <tr>\n",
       "      <th>1</th>\n",
       "      <td>2017-07-03 00:00:20</td>\n",
       "      <td>1.14163</td>\n",
       "      <td>1.14211</td>\n",
       "    </tr>\n",
       "    <tr>\n",
       "      <th>2</th>\n",
       "      <td>2017-07-03 00:00:30</td>\n",
       "      <td>1.14164</td>\n",
       "      <td>1.14206</td>\n",
       "    </tr>\n",
       "    <tr>\n",
       "      <th>3</th>\n",
       "      <td>2017-07-03 00:00:50</td>\n",
       "      <td>1.14164</td>\n",
       "      <td>1.14206</td>\n",
       "    </tr>\n",
       "    <tr>\n",
       "      <th>4</th>\n",
       "      <td>2017-07-03 00:01:00</td>\n",
       "      <td>1.14164</td>\n",
       "      <td>1.14208</td>\n",
       "    </tr>\n",
       "  </tbody>\n",
       "</table>\n",
       "</div>"
      ],
      "text/plain": [
       "                  date      bid      ask\n",
       "0  2017-07-03 00:00:10  1.14183  1.14211\n",
       "1  2017-07-03 00:00:20  1.14163  1.14211\n",
       "2  2017-07-03 00:00:30  1.14164  1.14206\n",
       "3  2017-07-03 00:00:50  1.14164  1.14206\n",
       "4  2017-07-03 00:01:00  1.14164  1.14208"
      ]
     },
     "execution_count": 3,
     "metadata": {},
     "output_type": "execute_result"
    }
   ],
   "source": [
    "data_set.head()"
   ]
  },
  {
   "cell_type": "code",
   "execution_count": 4,
   "metadata": {
    "collapsed": true
   },
   "outputs": [],
   "source": [
    "data_set = data_set.set_index(pd.to_datetime(data_set.iloc[:,0])) #Se indexan los datos por su fecha y hora\n",
    "data_set = data_set.drop(['date'],axis = 1) #se elimina la columna date\n",
    "data_set = data_set.drop(data_set['2017-07-30'].index)"
   ]
  },
  {
   "cell_type": "code",
   "execution_count": 5,
   "metadata": {},
   "outputs": [
    {
     "data": {
      "image/png": "[encoded data removed]",
      "text/plain": [
       "<matplotlib.figure.Figure at 0x7fd93d91acf8>"
      ]
     },
     "metadata": {},
     "output_type": "display_data"
    }
   ],
   "source": [
    "plt.figure(figsize=(15,5))\n",
    "plt.title('Comportamiento del Bid')\n",
    "plt.xlabel('[t] en pulsaciones')\n",
    "plt.ylabel('EUR/USD')\n",
    "plt.plot(np.arange(data_set.shape[0]), data_set.iloc[:,0], alpha =1, color='#3383FF');"
   ]
  },
  {
   "cell_type": "code",
   "execution_count": 6,
   "metadata": {
    "collapsed": true
   },
   "outputs": [],
   "source": [
    "dates = pd.unique(data_set.index.date) #se sacan los días de la señal para separar por bussines day"
   ]
  },
  {
   "cell_type": "code",
   "execution_count": 7,
   "metadata": {},
   "outputs": [
    {
     "name": "stdout",
     "output_type": "stream",
     "text": [
      "                   Bussines day - year, month, day\n",
      "\n",
      "[datetime.date(2017, 7, 3) datetime.date(2017, 7, 4)\n",
      " datetime.date(2017, 7, 5) datetime.date(2017, 7, 6)\n",
      " datetime.date(2017, 7, 7) datetime.date(2017, 7, 10)\n",
      " datetime.date(2017, 7, 11) datetime.date(2017, 7, 12)\n",
      " datetime.date(2017, 7, 13) datetime.date(2017, 7, 14)\n",
      " datetime.date(2017, 7, 17) datetime.date(2017, 7, 18)\n",
      " datetime.date(2017, 7, 19) datetime.date(2017, 7, 20)\n",
      " datetime.date(2017, 7, 21) datetime.date(2017, 7, 24)\n",
      " datetime.date(2017, 7, 25) datetime.date(2017, 7, 26)\n",
      " datetime.date(2017, 7, 27) datetime.date(2017, 7, 28)\n",
      " datetime.date(2017, 7, 31) datetime.date(2017, 8, 1)]\n"
     ]
    }
   ],
   "source": [
    "print('                   Bussines day - year, month, day')\n",
    "print()\n",
    "print(dates)"
   ]
  },
  {
   "cell_type": "markdown",
   "metadata": {},
   "source": [
    "##### Creación del generador para pasar a cross_val_score como \"cv\""
   ]
  },
  {
   "cell_type": "code",
   "execution_count": 8,
   "metadata": {
    "collapsed": true
   },
   "outputs": [],
   "source": [
    "def v_split(X, n_bdtrain, n_bdtest, mday):\n",
    "    \n",
    "    \"\"\"\n",
    "    X, dataframe, se necesita el indice de este para separar por días.\n",
    "    n_bdtrain, número de bussines day utilizados para train\n",
    "    n_bdtest, número de bussines day utilizados para test\n",
    "    mday, días a correr para cada validación\n",
    "    \n",
    "    \"\"\"\n",
    "    from datetime import date\n",
    "    start_day = 0\n",
    "    \n",
    "    \"Divide el data set según días de train, test y cuanto se va moviendo\"\n",
    "    bussines_day = []\n",
    "    dates = pd.unique(X.index.date) #saco las fechas para luego tomar solo año-mes-día\n",
    "    \n",
    "    for i in dates: bussines_day.append(date.__format__(i,'%Y-%m-%d')) #lista de los bussines day\n",
    "   \n",
    "    intervals = []\n",
    "    count = 0\n",
    "    for i in bussines_day:\n",
    "        f = len(X[i])-1 +count\n",
    "        intervals.append([count,f])\n",
    "        count = f+1\n",
    "\n",
    "    for i in range(len(intervals)-n_bdtrain):\n",
    "        yield(np.arange(intervals[start_day:start_day+n_bdtrain][0][0],\n",
    "                        intervals[start_day:start_day+n_bdtrain][n_bdtrain-1][1]+1),\n",
    "             np.arange(intervals[n_bdtrain+start_day:n_bdtrain+start_day+n_bdtest][0][0],\n",
    "              intervals[n_bdtrain+start_day:n_bdtrain+start_day+n_bdtest][n_bdtest-1][1]+1))\n",
    "        \n",
    "        start_day += mday\n",
    "        if start_day+n_bdtest > len(intervals)-n_bdtrain:\n",
    "            break"
   ]
  },
  {
   "cell_type": "code",
   "execution_count": 9,
   "metadata": {},
   "outputs": [
    {
     "data": {
      "text/plain": [
       "(179116, 2)"
      ]
     },
     "execution_count": 9,
     "metadata": {},
     "output_type": "execute_result"
    }
   ],
   "source": [
    "data_set.shape"
   ]
  },
  {
   "cell_type": "code",
   "execution_count": 10,
   "metadata": {
    "scrolled": false
   },
   "outputs": [
    {
     "name": "stdout",
     "output_type": "stream",
     "text": [
      "(array([    0,     1,     2, ..., 33801, 33802, 33803]), array([33804, 33805, 33806, ..., 42269, 42270, 42271]))\n",
      "(array([ 8423,  8424,  8425, ..., 42269, 42270, 42271]), array([42272, 42273, 42274, ..., 50650, 50651, 50652]))\n",
      "(array([16869, 16870, 16871, ..., 50650, 50651, 50652]), array([50653, 50654, 50655, ..., 59071, 59072, 59073]))\n",
      "(array([25341, 25342, 25343, ..., 59071, 59072, 59073]), array([59074, 59075, 59076, ..., 67569, 67570, 67571]))\n",
      "(array([33804, 33805, 33806, ..., 67569, 67570, 67571]), array([67572, 67573, 67574, ..., 76030, 76031, 76032]))\n",
      "(array([42272, 42273, 42274, ..., 76030, 76031, 76032]), array([76033, 76034, 76035, ..., 84465, 84466, 84467]))\n",
      "(array([50653, 50654, 50655, ..., 84465, 84466, 84467]), array([84468, 84469, 84470, ..., 92875, 92876, 92877]))\n",
      "(array([59074, 59075, 59076, ..., 92875, 92876, 92877]), array([ 92878,  92879,  92880, ..., 101430, 101431, 101432]))\n",
      "(array([ 67572,  67573,  67574, ..., 101430, 101431, 101432]), array([101433, 101434, 101435, ..., 109906, 109907, 109908]))\n",
      "(array([ 76033,  76034,  76035, ..., 109906, 109907, 109908]), array([109909, 109910, 109911, ..., 118426, 118427, 118428]))\n",
      "(array([ 84468,  84469,  84470, ..., 118426, 118427, 118428]), array([118429, 118430, 118431, ..., 126957, 126958, 126959]))\n",
      "(array([ 92878,  92879,  92880, ..., 126957, 126958, 126959]), array([126960, 126961, 126962, ..., 135416, 135417, 135418]))\n",
      "(array([101433, 101434, 101435, ..., 135416, 135417, 135418]), array([135419, 135420, 135421, ..., 143906, 143907, 143908]))\n",
      "(array([109909, 109910, 109911, ..., 143906, 143907, 143908]), array([143909, 143910, 143911, ..., 152451, 152452, 152453]))\n",
      "(array([118429, 118430, 118431, ..., 152451, 152452, 152453]), array([152454, 152455, 152456, ..., 161032, 161033, 161034]))\n",
      "(array([126960, 126961, 126962, ..., 161032, 161033, 161034]), array([161035, 161036, 161037, ..., 169560, 169561, 169562]))\n",
      "(array([135419, 135420, 135421, ..., 169560, 169561, 169562]), array([169563, 169564, 169565, ..., 178084, 178085, 178086]))\n",
      "(array([143909, 143910, 143911, ..., 178084, 178085, 178086]), array([178087, 178088, 178089, ..., 179113, 179114, 179115]))\n"
     ]
    }
   ],
   "source": [
    "for i in v_split(data_set,4,1,1):\n",
    "    print (i)"
   ]
  },
  {
   "cell_type": "code",
   "execution_count": 11,
   "metadata": {
    "collapsed": true
   },
   "outputs": [],
   "source": [
    "def build_dataset(signal, window, binary_target=False, delete_constant_values=True, PNL=False):\n",
    "    \"\"\"\n",
    "    función para construir un data set\n",
    "    window: tamaño de la ventana a utilizar para construir el dataset\n",
    "    signal: dataframe\n",
    "    binary_target: si desea clasificar, este arroja 2 si el valor se mantiene,\n",
    "    1 si el valor sube y 0 si este baja.\n",
    "    delete_constant_values: default: True, elimina los valores que se mantienen\n",
    "    \n",
    "    retorna:\n",
    "    X: dataset, con columna de PNL si así se especifica(default: False)\n",
    "    y: target\n",
    "    bt: binary target, default: False\n",
    "    \"\"\"\n",
    "    result = []\n",
    "    binary = [] #para la columna objetivo binaria\n",
    "    pnl_col = [] #almacenar el PNL\n",
    "    indx = signal.index[window+1:] #se toman los indicen que quedarán al final\n",
    "    for i in range(len(signal) - window-1):\n",
    "        \n",
    "        if delete_constant_values == True:\n",
    "            if signal[i+window] != signal[i+window-1]:\n",
    "\n",
    "                result.append(signal[i: i + window+1])\n",
    "                if PNL == True: pnl_col.append(signal[i+window]-signal[i+window-1])\n",
    "                \n",
    "                if binary_target == True:\n",
    "                    if signal[i+window] < signal[i+window-1]: binary.append(0) # 0 si baja\n",
    "                    if signal[i+window] > signal[i+window-1]: binary.append(1) # 1 si sube\n",
    "                        \n",
    "            else: indx = indx.delete(len(result))\n",
    "        else:\n",
    "\n",
    "            result.append(signal[i: i + window+1])\n",
    "            if PNL == True: pnl_col.append(signal[i+window]-signal[i+window-1])\n",
    "            \n",
    "        if binary_target == True and delete_constant_values == False:\n",
    "            if signal[i+window] == signal[i+window-1]: binary.append(2) # 2 si se mantiene\n",
    "            if signal[i+window] < signal[i+window-1]: binary.append(0) # 1 si baja\n",
    "            if signal[i+window] > signal[i+window-1]: binary.append(1) # 0 si sube\n",
    "    \n",
    "    data = pd.DataFrame(np.array(result), index=indx)\n",
    "    y = np.array(data.iloc[:,window])\n",
    "    data = data.drop(window,axis=1)\n",
    "    if PNL == True: data['PNL'] = pnl_col\n",
    "    if binary_target == True: return data, y, np.array(binary)\n",
    "    else: return data, y"
   ]
  },
  {
   "cell_type": "code",
   "execution_count": 12,
   "metadata": {
    "collapsed": true
   },
   "outputs": [],
   "source": [
    "#X = pd.DataFrame(np.random.random((20,1)), index =pd.date_range('2017-01-01','2017-01-20'))\n",
    "#X.head()"
   ]
  },
  {
   "cell_type": "code",
   "execution_count": 13,
   "metadata": {
    "collapsed": true
   },
   "outputs": [],
   "source": [
    "#se crea el dataset con una ventada de tamaño window\n",
    "window = 10\n",
    "X, y_reg, bt = build_dataset(data_set.iloc[:,0], window, binary_target=True, delete_constant_values=True, PNL=True)"
   ]
  },
  {
   "cell_type": "code",
   "execution_count": 14,
   "metadata": {},
   "outputs": [
    {
     "data": {
      "text/plain": [
       "((146086, 11), (146086,), (146086,))"
      ]
     },
     "execution_count": 14,
     "metadata": {},
     "output_type": "execute_result"
    }
   ],
   "source": [
    "X.shape, bt.shape, y_reg.shape"
   ]
  },
  {
   "cell_type": "code",
   "execution_count": 15,
   "metadata": {},
   "outputs": [
    {
     "name": "stdout",
     "output_type": "stream",
     "text": [
      "[ 1.14156  1.14164  1.14163  1.14143  1.14163]\n",
      "[0 1 0 0 1]\n"
     ]
    }
   ],
   "source": [
    "print(y_reg[:5])\n",
    "print(bt[:5])"
   ]
  },
  {
   "cell_type": "code",
   "execution_count": 16,
   "metadata": {
    "scrolled": true
   },
   "outputs": [
    {
     "data": {
      "text/html": [
       "<div>\n",
       "<style>\n",
       "    .dataframe thead tr:only-child th {\n",
       "        text-align: right;\n",
       "    }\n",
       "\n",
       "    .dataframe thead th {\n",
       "        text-align: left;\n",
       "    }\n",
       "\n",
       "    .dataframe tbody tr th {\n",
       "        vertical-align: top;\n",
       "    }\n",
       "</style>\n",
       "<table border=\"1\" class=\"dataframe\">\n",
       "  <thead>\n",
       "    <tr style=\"text-align: right;\">\n",
       "      <th></th>\n",
       "      <th>0</th>\n",
       "      <th>1</th>\n",
       "      <th>2</th>\n",
       "      <th>3</th>\n",
       "      <th>4</th>\n",
       "      <th>5</th>\n",
       "      <th>6</th>\n",
       "      <th>7</th>\n",
       "      <th>8</th>\n",
       "      <th>9</th>\n",
       "      <th>PNL</th>\n",
       "    </tr>\n",
       "    <tr>\n",
       "      <th>date</th>\n",
       "      <th></th>\n",
       "      <th></th>\n",
       "      <th></th>\n",
       "      <th></th>\n",
       "      <th></th>\n",
       "      <th></th>\n",
       "      <th></th>\n",
       "      <th></th>\n",
       "      <th></th>\n",
       "      <th></th>\n",
       "      <th></th>\n",
       "    </tr>\n",
       "  </thead>\n",
       "  <tbody>\n",
       "    <tr>\n",
       "      <th>2017-07-03 00:02:20</th>\n",
       "      <td>1.14163</td>\n",
       "      <td>1.14164</td>\n",
       "      <td>1.14164</td>\n",
       "      <td>1.14164</td>\n",
       "      <td>1.14164</td>\n",
       "      <td>1.14163</td>\n",
       "      <td>1.14156</td>\n",
       "      <td>1.14164</td>\n",
       "      <td>1.14164</td>\n",
       "      <td>1.14164</td>\n",
       "      <td>-0.00008</td>\n",
       "    </tr>\n",
       "    <tr>\n",
       "      <th>2017-07-03 00:02:30</th>\n",
       "      <td>1.14164</td>\n",
       "      <td>1.14164</td>\n",
       "      <td>1.14164</td>\n",
       "      <td>1.14164</td>\n",
       "      <td>1.14163</td>\n",
       "      <td>1.14156</td>\n",
       "      <td>1.14164</td>\n",
       "      <td>1.14164</td>\n",
       "      <td>1.14164</td>\n",
       "      <td>1.14156</td>\n",
       "      <td>0.00008</td>\n",
       "    </tr>\n",
       "    <tr>\n",
       "      <th>2017-07-03 00:02:40</th>\n",
       "      <td>1.14164</td>\n",
       "      <td>1.14164</td>\n",
       "      <td>1.14164</td>\n",
       "      <td>1.14163</td>\n",
       "      <td>1.14156</td>\n",
       "      <td>1.14164</td>\n",
       "      <td>1.14164</td>\n",
       "      <td>1.14164</td>\n",
       "      <td>1.14156</td>\n",
       "      <td>1.14164</td>\n",
       "      <td>-0.00001</td>\n",
       "    </tr>\n",
       "    <tr>\n",
       "      <th>2017-07-03 00:02:50</th>\n",
       "      <td>1.14164</td>\n",
       "      <td>1.14164</td>\n",
       "      <td>1.14163</td>\n",
       "      <td>1.14156</td>\n",
       "      <td>1.14164</td>\n",
       "      <td>1.14164</td>\n",
       "      <td>1.14164</td>\n",
       "      <td>1.14156</td>\n",
       "      <td>1.14164</td>\n",
       "      <td>1.14163</td>\n",
       "      <td>-0.00020</td>\n",
       "    </tr>\n",
       "    <tr>\n",
       "      <th>2017-07-03 00:03:10</th>\n",
       "      <td>1.14164</td>\n",
       "      <td>1.14163</td>\n",
       "      <td>1.14156</td>\n",
       "      <td>1.14164</td>\n",
       "      <td>1.14164</td>\n",
       "      <td>1.14164</td>\n",
       "      <td>1.14156</td>\n",
       "      <td>1.14164</td>\n",
       "      <td>1.14163</td>\n",
       "      <td>1.14143</td>\n",
       "      <td>0.00020</td>\n",
       "    </tr>\n",
       "  </tbody>\n",
       "</table>\n",
       "</div>"
      ],
      "text/plain": [
       "                           0        1        2        3        4        5  \\\n",
       "date                                                                        \n",
       "2017-07-03 00:02:20  1.14163  1.14164  1.14164  1.14164  1.14164  1.14163   \n",
       "2017-07-03 00:02:30  1.14164  1.14164  1.14164  1.14164  1.14163  1.14156   \n",
       "2017-07-03 00:02:40  1.14164  1.14164  1.14164  1.14163  1.14156  1.14164   \n",
       "2017-07-03 00:02:50  1.14164  1.14164  1.14163  1.14156  1.14164  1.14164   \n",
       "2017-07-03 00:03:10  1.14164  1.14163  1.14156  1.14164  1.14164  1.14164   \n",
       "\n",
       "                           6        7        8        9      PNL  \n",
       "date                                                              \n",
       "2017-07-03 00:02:20  1.14156  1.14164  1.14164  1.14164 -0.00008  \n",
       "2017-07-03 00:02:30  1.14164  1.14164  1.14164  1.14156  0.00008  \n",
       "2017-07-03 00:02:40  1.14164  1.14164  1.14156  1.14164 -0.00001  \n",
       "2017-07-03 00:02:50  1.14164  1.14156  1.14164  1.14163 -0.00020  \n",
       "2017-07-03 00:03:10  1.14156  1.14164  1.14163  1.14143  0.00020  "
      ]
     },
     "execution_count": 16,
     "metadata": {},
     "output_type": "execute_result"
    }
   ],
   "source": [
    "X.head()"
   ]
  },
  {
   "cell_type": "code",
   "execution_count": 17,
   "metadata": {},
   "outputs": [
    {
     "data": {
      "text/plain": [
       "Index([0, 1, 2, 3, 4, 5, 6, 7, 8, 9, 'PNL'], dtype='object')"
      ]
     },
     "execution_count": 17,
     "metadata": {},
     "output_type": "execute_result"
    }
   ],
   "source": [
    "X.columns"
   ]
  },
  {
   "cell_type": "code",
   "execution_count": 18,
   "metadata": {
    "collapsed": true,
    "scrolled": false
   },
   "outputs": [],
   "source": [
    "# data_set_w[[1,'Target']]"
   ]
  },
  {
   "cell_type": "code",
   "execution_count": 18,
   "metadata": {
    "scrolled": false
   },
   "outputs": [
    {
     "name": "stdout",
     "output_type": "stream",
     "text": [
      "train =  [    0     1     2 ..., 27012 27013 27014] test =  [27015 27016 27017 ..., 34025 34026 34027]\n",
      "train =  [ 6734  6735  6736 ..., 34025 34026 34027] test =  [34028 34029 34030 ..., 40560 40561 40562]\n",
      "train =  [13258 13259 13260 ..., 40560 40561 40562] test =  [40563 40564 40565 ..., 47247 47248 47249]\n",
      "train =  [20131 20132 20133 ..., 47247 47248 47249] test =  [47250 47251 47252 ..., 54243 54244 54245]\n",
      "train =  [27015 27016 27017 ..., 54243 54244 54245] test =  [54246 54247 54248 ..., 61138 61139 61140]\n",
      "train =  [34028 34029 34030 ..., 61138 61139 61140] test =  [61141 61142 61143 ..., 67858 67859 67860]\n",
      "train =  [40563 40564 40565 ..., 67858 67859 67860] test =  [67861 67862 67863 ..., 74489 74490 74491]\n",
      "train =  [47250 47251 47252 ..., 74489 74490 74491] test =  [74492 74493 74494 ..., 81690 81691 81692]\n",
      "train =  [54246 54247 54248 ..., 81690 81691 81692] test =  [81693 81694 81695 ..., 88435 88436 88437]\n",
      "train =  [61141 61142 61143 ..., 88435 88436 88437] test =  [88438 88439 88440 ..., 95531 95532 95533]\n",
      "train =  [67861 67862 67863 ..., 95531 95532 95533] test =  [ 95534  95535  95536 ..., 102585 102586 102587]\n",
      "train =  [ 74492  74493  74494 ..., 102585 102586 102587] test =  [102588 102589 102590 ..., 109419 109420 109421]\n",
      "train =  [ 81693  81694  81695 ..., 109419 109420 109421] test =  [109422 109423 109424 ..., 116481 116482 116483]\n",
      "train =  [ 88438  88439  88440 ..., 116481 116482 116483] test =  [116484 116485 116486 ..., 123599 123600 123601]\n",
      "train =  [ 95534  95535  95536 ..., 123599 123600 123601] test =  [123602 123603 123604 ..., 130995 130996 130997]\n",
      "train =  [102588 102589 102590 ..., 130995 130996 130997] test =  [130998 130999 131000 ..., 138159 138160 138161]\n",
      "train =  [109422 109423 109424 ..., 138159 138160 138161] test =  [138162 138163 138164 ..., 145278 145279 145280]\n",
      "train =  [116484 116485 116486 ..., 145278 145279 145280] test =  [145281 145282 145283 145284 145285 145286 145287 145288 145289 145290\n",
      " 145291 145292 145293 145294 145295 145296 145297 145298 145299 145300\n",
      " 145301 145302 145303 145304 145305 145306 145307 145308 145309 145310\n",
      " 145311 145312 145313 145314 145315 145316 145317 145318 145319 145320\n",
      " 145321 145322 145323 145324 145325 145326 145327 145328 145329 145330\n",
      " 145331 145332 145333 145334 145335 145336 145337 145338 145339 145340\n",
      " 145341 145342 145343 145344 145345 145346 145347 145348 145349 145350\n",
      " 145351 145352 145353 145354 145355 145356 145357 145358 145359 145360\n",
      " 145361 145362 145363 145364 145365 145366 145367 145368 145369 145370\n",
      " 145371 145372 145373 145374 145375 145376 145377 145378 145379 145380\n",
      " 145381 145382 145383 145384 145385 145386 145387 145388 145389 145390\n",
      " 145391 145392 145393 145394 145395 145396 145397 145398 145399 145400\n",
      " 145401 145402 145403 145404 145405 145406 145407 145408 145409 145410\n",
      " 145411 145412 145413 145414 145415 145416 145417 145418 145419 145420\n",
      " 145421 145422 145423 145424 145425 145426 145427 145428 145429 145430\n",
      " 145431 145432 145433 145434 145435 145436 145437 145438 145439 145440\n",
      " 145441 145442 145443 145444 145445 145446 145447 145448 145449 145450\n",
      " 145451 145452 145453 145454 145455 145456 145457 145458 145459 145460\n",
      " 145461 145462 145463 145464 145465 145466 145467 145468 145469 145470\n",
      " 145471 145472 145473 145474 145475 145476 145477 145478 145479 145480\n",
      " 145481 145482 145483 145484 145485 145486 145487 145488 145489 145490\n",
      " 145491 145492 145493 145494 145495 145496 145497 145498 145499 145500\n",
      " 145501 145502 145503 145504 145505 145506 145507 145508 145509 145510\n",
      " 145511 145512 145513 145514 145515 145516 145517 145518 145519 145520\n",
      " 145521 145522 145523 145524 145525 145526 145527 145528 145529 145530\n",
      " 145531 145532 145533 145534 145535 145536 145537 145538 145539 145540\n",
      " 145541 145542 145543 145544 145545 145546 145547 145548 145549 145550\n",
      " 145551 145552 145553 145554 145555 145556 145557 145558 145559 145560\n",
      " 145561 145562 145563 145564 145565 145566 145567 145568 145569 145570\n",
      " 145571 145572 145573 145574 145575 145576 145577 145578 145579 145580\n",
      " 145581 145582 145583 145584 145585 145586 145587 145588 145589 145590\n",
      " 145591 145592 145593 145594 145595 145596 145597 145598 145599 145600\n",
      " 145601 145602 145603 145604 145605 145606 145607 145608 145609 145610\n",
      " 145611 145612 145613 145614 145615 145616 145617 145618 145619 145620\n",
      " 145621 145622 145623 145624 145625 145626 145627 145628 145629 145630\n",
      " 145631 145632 145633 145634 145635 145636 145637 145638 145639 145640\n",
      " 145641 145642 145643 145644 145645 145646 145647 145648 145649 145650\n",
      " 145651 145652 145653 145654 145655 145656 145657 145658 145659 145660\n",
      " 145661 145662 145663 145664 145665 145666 145667 145668 145669 145670\n",
      " 145671 145672 145673 145674 145675 145676 145677 145678 145679 145680\n",
      " 145681 145682 145683 145684 145685 145686 145687 145688 145689 145690\n",
      " 145691 145692 145693 145694 145695 145696 145697 145698 145699 145700\n",
      " 145701 145702 145703 145704 145705 145706 145707 145708 145709 145710\n",
      " 145711 145712 145713 145714 145715 145716 145717 145718 145719 145720\n",
      " 145721 145722 145723 145724 145725 145726 145727 145728 145729 145730\n",
      " 145731 145732 145733 145734 145735 145736 145737 145738 145739 145740\n",
      " 145741 145742 145743 145744 145745 145746 145747 145748 145749 145750\n",
      " 145751 145752 145753 145754 145755 145756 145757 145758 145759 145760\n",
      " 145761 145762 145763 145764 145765 145766 145767 145768 145769 145770\n",
      " 145771 145772 145773 145774 145775 145776 145777 145778 145779 145780\n",
      " 145781 145782 145783 145784 145785 145786 145787 145788 145789 145790\n",
      " 145791 145792 145793 145794 145795 145796 145797 145798 145799 145800\n",
      " 145801 145802 145803 145804 145805 145806 145807 145808 145809 145810\n",
      " 145811 145812 145813 145814 145815 145816 145817 145818 145819 145820\n",
      " 145821 145822 145823 145824 145825 145826 145827 145828 145829 145830\n",
      " 145831 145832 145833 145834 145835 145836 145837 145838 145839 145840\n",
      " 145841 145842 145843 145844 145845 145846 145847 145848 145849 145850\n",
      " 145851 145852 145853 145854 145855 145856 145857 145858 145859 145860\n",
      " 145861 145862 145863 145864 145865 145866 145867 145868 145869 145870\n",
      " 145871 145872 145873 145874 145875 145876 145877 145878 145879 145880\n",
      " 145881 145882 145883 145884 145885 145886 145887 145888 145889 145890\n",
      " 145891 145892 145893 145894 145895 145896 145897 145898 145899 145900\n",
      " 145901 145902 145903 145904 145905 145906 145907 145908 145909 145910\n",
      " 145911 145912 145913 145914 145915 145916 145917 145918 145919 145920\n",
      " 145921 145922 145923 145924 145925 145926 145927 145928 145929 145930\n",
      " 145931 145932 145933 145934 145935 145936 145937 145938 145939 145940\n",
      " 145941 145942 145943 145944 145945 145946 145947 145948 145949 145950\n",
      " 145951 145952 145953 145954 145955 145956 145957 145958 145959 145960\n",
      " 145961 145962 145963 145964 145965 145966 145967 145968 145969 145970\n",
      " 145971 145972 145973 145974 145975 145976 145977 145978 145979 145980\n",
      " 145981 145982 145983 145984 145985 145986 145987 145988 145989 145990\n",
      " 145991 145992 145993 145994 145995 145996 145997 145998 145999 146000\n",
      " 146001 146002 146003 146004 146005 146006 146007 146008 146009 146010\n",
      " 146011 146012 146013 146014 146015 146016 146017 146018 146019 146020\n",
      " 146021 146022 146023 146024 146025 146026 146027 146028 146029 146030\n",
      " 146031 146032 146033 146034 146035 146036 146037 146038 146039 146040\n",
      " 146041 146042 146043 146044 146045 146046 146047 146048 146049 146050\n",
      " 146051 146052 146053 146054 146055 146056 146057 146058 146059 146060\n",
      " 146061 146062 146063 146064 146065 146066 146067 146068 146069 146070\n",
      " 146071 146072 146073 146074 146075 146076 146077 146078 146079 146080\n",
      " 146081 146082 146083 146084 146085]\n",
      "\n",
      "[ 0.77413375  0.75072686  0.72050247  0.7161235   0.75039884  0.79806548\n",
      "  0.78012366  0.65102069  0.68332098  0.61330327  0.62489368  0.73690372\n",
      "  0.75148683  0.78055634  0.64697134  0.72222222  0.68253968  0.61863354]\n",
      "\n",
      "score avg =  0.711218157371\n",
      "score std =  0.0585133206943\n"
     ]
    }
   ],
   "source": [
    "from sklearn.model_selection import cross_val_score\n",
    "\n",
    "y = bt\n",
    "\n",
    "from sklearn.neighbors import KNeighborsClassifier\n",
    "\n",
    "n_bdtrain = 4 #número de dias con los que se entrena\n",
    "n_bdtest = 1  #número de días con los que se hace el test\n",
    "move_day = 1  #número de días que se van corriendo\n",
    "\n",
    "vs = v_split(X,n_bdtrain,n_bdtest,move_day)\n",
    "k = KNeighborsClassifier()\n",
    "\n",
    "for train_index, test_index in vs:\n",
    "    print ('train = ',train_index, 'test = ',test_index)\n",
    "print()\n",
    "result = cross_val_score(k, X, y, cv=v_split(X, n_bdtrain, n_bdtest, move_day))\n",
    "\n",
    "print(result)\n",
    "print()\n",
    "print('score avg = ', np.mean(result))\n",
    "print('score std = ', np.std(result))"
   ]
  },
  {
   "cell_type": "code",
   "execution_count": null,
   "metadata": {
    "collapsed": true
   },
   "outputs": [],
   "source": []
  },
  {
   "cell_type": "code",
   "execution_count": 19,
   "metadata": {
    "collapsed": true
   },
   "outputs": [],
   "source": [
    "class PNLEstimatorWrapper:\n",
    "    \n",
    "    def __init__(self, estimator, PNL_column, exclude_PNL_column_from_training=True):\n",
    "        self.estimator = estimator\n",
    "        self.PNL_column = PNL_column\n",
    "        self.exclude_PNL_column_from_training = exclude_PNL_column_from_training\n",
    "        \n",
    "    def fit(self, X, y):\n",
    "        assert self.PNL_column in X.columns, \"column \"+self.PNL_column+\" not in X dataframe\"\n",
    "        if self.exclude_PNL_column_from_training:\n",
    "            X = X[[col for col in X.columns if col!=self.PNL_column]]\n",
    "        self.estimator.fit(X,y)\n",
    "        \n",
    "    def predict(self, X):\n",
    "        assert self.PNL_column in X.columns, \"column \"+self.PNL_column+\" not in X dataframe\"\n",
    "        if self.exclude_PNL_column_from_training:\n",
    "            X = X[[col for col in X.columns if col!=self.PNL_column]]\n",
    "        return self.estimator.predict(X)\n",
    "    \n",
    "    def get_params(self, deep=False):\n",
    "        return {\"PNL_column\": self.PNL_column,\n",
    "                \"exclude_PNL_column_from_training\": self.exclude_PNL_column_from_training,\n",
    "                \"estimator\": self.estimator}"
   ]
  },
  {
   "cell_type": "markdown",
   "metadata": {
    "collapsed": true
   },
   "source": [
    "##### creación de la función de \"scoring\""
   ]
  },
  {
   "cell_type": "code",
   "execution_count": 20,
   "metadata": {
    "collapsed": true
   },
   "outputs": [],
   "source": [
    "def PNL_score(estimator, X, y):\n",
    "    \"\"\"\n",
    "    efdf\n",
    "    \n",
    "    \n",
    "    \"\"\"\n",
    "    PNL = X[estimator.PNL_column]\n",
    "    r = sum((y==estimator.predict(X))*abs(PNL) - (y!=estimator.predict(X))*abs(PNL))\n",
    "    \n",
    "    return r"
   ]
  },
  {
   "cell_type": "code",
   "execution_count": 21,
   "metadata": {
    "scrolled": true
   },
   "outputs": [
    {
     "name": "stdout",
     "output_type": "stream",
     "text": [
      "average:  -0.00191444444444\n",
      "PNL [ 0.00235  0.00019 -0.00881  0.0053   0.00019  0.00162 -0.00116 -0.00749\n",
      "  0.00404 -0.0045  -0.0034   0.0023  -0.0007  -0.00865 -0.00419 -0.00398\n",
      " -0.00946  0.00189]\n"
     ]
    }
   ],
   "source": [
    "from sklearn.model_selection import cross_val_score\n",
    "from sklearn.naive_bayes import GaussianNB\n",
    "\n",
    "est_GNB = PNLEstimatorWrapper(GaussianNB(), PNL_column='PNL')\n",
    "result_GNB = cross_val_score(est_GNB, X, y, cv=v_split(X,4,1,1),scoring=PNL_score)\n",
    "print ('average: ',np.mean(result_GNB))\n",
    "print ('PNL', result_GNB)"
   ]
  },
  {
   "cell_type": "code",
   "execution_count": 22,
   "metadata": {},
   "outputs": [
    {
     "data": {
      "image/png": "[encoded data removed]",
      "text/plain": [
       "<matplotlib.figure.Figure at 0x7fd9336707f0>"
      ]
     },
     "metadata": {},
     "output_type": "display_data"
    }
   ],
   "source": [
    "plt.figure(figsize=(16,5))\n",
    "plt.title('Profit and Loss with GaussianNB', size=15)\n",
    "plt.plot(range(len(result_GNB)), result_GNB, label='PNL')\n",
    "plt.plot(range(len(result_GNB)), np.zeros(len(result_GNB)),color='red', alpha=0.6, label='PNL = 0', linestyle='--')\n",
    "plt.plot(range(len(result_GNB)), np.ones(len(result_GNB))*np.mean(result_GNB), color='green', alpha=0.6, label='PNL mean')\n",
    "plt.xlabel('test day')\n",
    "plt.xticks(range(len(result_GNB)),dates[n_bdtrain:], size=10, rotation=25)\n",
    "plt.legend();"
   ]
  },
  {
   "cell_type": "code",
   "execution_count": 26,
   "metadata": {},
   "outputs": [
    {
     "name": "stdout",
     "output_type": "stream",
     "text": [
      "average:  0.00274333333333\n",
      "PNL [ 0.00639  0.00129  0.00609 -0.00664 -0.00603  0.00328  0.0064  -0.00735\n",
      "  0.00658  0.00186  0.00092  0.00588 -0.00258  0.01249  0.00229  0.00246\n",
      "  0.01514  0.00091]\n"
     ]
    }
   ],
   "source": [
    "from sklearn.tree import DecisionTreeClassifier\n",
    "\n",
    "#est = PNLEstimatorWrapper(DecisionTreeClassifier(random_state=0), PNL_column='PNL')\n",
    "est = PNLEstimatorWrapper(DecisionTreeClassifier(), PNL_column='PNL')\n",
    "result_DTC = cross_val_score(est, X, y, cv=v_split(X,4,1,1), scoring=PNL_score)\n",
    "print ('average: ',np.mean(result_DTC))\n",
    "print ('PNL', result_DTC)"
   ]
  },
  {
   "cell_type": "code",
   "execution_count": 27,
   "metadata": {},
   "outputs": [
    {
     "data": {
      "text/plain": [
       "71430"
      ]
     },
     "execution_count": 27,
     "metadata": {},
     "output_type": "execute_result"
    }
   ],
   "source": [
    "est.fit(X,y)\n",
    "sum(est.predict(X))"
   ]
  },
  {
   "cell_type": "code",
   "execution_count": 28,
   "metadata": {
    "scrolled": false
   },
   "outputs": [
    {
     "data": {
      "image/png": "[encoded data removed]",
      "text/plain": [
       "<matplotlib.figure.Figure at 0x7fd92a8b2fd0>"
      ]
     },
     "metadata": {},
     "output_type": "display_data"
    }
   ],
   "source": [
    "plt.figure(figsize=(16,5))\n",
    "plt.title('Profit and Loss with DecisionTreeClassifier', size=15)\n",
    "plt.plot(range(len(result_DTC)), result_DTC, label='PNL')\n",
    "plt.plot(range(len(result_DTC)), np.zeros(len(result_DTC)),color='red', alpha=0.6, label='PNL = 0', linestyle='--')\n",
    "plt.plot(range(len(result_DTC)), np.ones(len(result_DTC))*np.mean(result_DTC), color='green', alpha=0.6, label='PNL mean')\n",
    "plt.xlabel('test day')\n",
    "plt.xticks(range(len(result_DTC)),dates[n_bdtrain:], size=10, rotation=25)\n",
    "plt.legend();"
   ]
  },
  {
   "cell_type": "code",
   "execution_count": 30,
   "metadata": {},
   "outputs": [
    {
     "name": "stdout",
     "output_type": "stream",
     "text": [
      "average:  0.00121\n",
      "PNL [-0.00017  0.01025  0.00057 -0.00034  0.00709  0.00478  0.00752  0.00609\n",
      "  0.00352 -0.0095   0.00206  0.00016 -0.00116 -0.00227  0.00047 -0.00632\n",
      " -0.00202  0.00105]\n"
     ]
    }
   ],
   "source": [
    "from sklearn.ensemble import RandomForestClassifier\n",
    "\n",
    "est = PNLEstimatorWrapper(RandomForestClassifier(n_estimators=15, n_jobs=3), PNL_column='PNL')\n",
    "result_RFC = cross_val_score(est, X, y, cv=v_split(X,4,1,1), scoring=PNL_score)\n",
    "print ('average: ',np.mean(result_RFC))\n",
    "print ('PNL', result_RFC)"
   ]
  },
  {
   "cell_type": "code",
   "execution_count": 31,
   "metadata": {
    "scrolled": false
   },
   "outputs": [
    {
     "data": {
      "image/png": "[encoded data removed]",
      "text/plain": [
       "<matplotlib.figure.Figure at 0x7fd92eb312e8>"
      ]
     },
     "metadata": {},
     "output_type": "display_data"
    }
   ],
   "source": [
    "plt.figure(figsize=(16,5))\n",
    "plt.title('Profit and Loss with RandomForestClassifier', size=15)\n",
    "plt.plot(range(len(result_RFC)), result_RFC, label='PNL')\n",
    "plt.plot(range(len(result_RFC)), np.zeros(len(result_RFC)),color='red', alpha=0.6, label='PNL = 0', linestyle='--')\n",
    "plt.plot(range(len(result_RFC)), np.ones(len(result_RFC))*np.mean(result_RFC), color='green', alpha=0.6, label='PNL mean')\n",
    "plt.xlabel('test day')\n",
    "plt.xticks(range(len(result_RFC)),dates[n_bdtrain:], size=10, rotation=25)\n",
    "plt.legend();"
   ]
  },
  {
   "cell_type": "code",
   "execution_count": 32,
   "metadata": {},
   "outputs": [
    {
     "name": "stdout",
     "output_type": "stream",
     "text": [
      "average:  0.00263111111111\n",
      "PNL [ 0.00673  0.00389 -0.00121 -0.00544  0.00807  0.00452 -0.0011  -0.00193\n",
      "  0.00294 -0.00548 -0.00238  0.01544 -0.0012   0.01651  0.00859  0.00036\n",
      " -0.00232  0.00137]\n"
     ]
    }
   ],
   "source": [
    "from sklearn.neighbors import KNeighborsClassifier\n",
    "\n",
    "est = PNLEstimatorWrapper(KNeighborsClassifier(n_neighbors=5, n_jobs=3), PNL_column='PNL')\n",
    "result_KNC = cross_val_score(est, X, y, cv=v_split(X,4,1,1), scoring=PNL_score)\n",
    "print ('average: ',np.mean(result_KNC))\n",
    "print ('PNL', result_KNC)"
   ]
  },
  {
   "cell_type": "code",
   "execution_count": 33,
   "metadata": {},
   "outputs": [
    {
     "data": {
      "image/png": "[encoded data removed]",
      "text/plain": [
       "<matplotlib.figure.Figure at 0x7fd92a890160>"
      ]
     },
     "metadata": {},
     "output_type": "display_data"
    }
   ],
   "source": [
    "plt.figure(figsize=(16,5))\n",
    "plt.title('Profit and Loss with KNeighborsClassifier', size=15)\n",
    "plt.plot(range(len(result_KNC)), result_KNC, label='PNL')\n",
    "plt.plot(range(len(result_KNC)), np.zeros(len(result_KNC)),color='red', alpha=0.6, label='PNL = 0', linestyle='--')\n",
    "plt.plot(range(len(result_KNC)), np.ones(len(result_KNC))*np.mean(result_KNC), color='green', alpha=0.6, label='PNL mean')\n",
    "plt.xlabel('test day')\n",
    "plt.xticks(range(len(result_KNC)),dates[n_bdtrain:], size=10, rotation=25)\n",
    "plt.legend();"
   ]
  },
  {
   "cell_type": "code",
   "execution_count": 34,
   "metadata": {},
   "outputs": [
    {
     "data": {
      "text/html": [
       "<div>\n",
       "<style>\n",
       "    .dataframe thead tr:only-child th {\n",
       "        text-align: right;\n",
       "    }\n",
       "\n",
       "    .dataframe thead th {\n",
       "        text-align: left;\n",
       "    }\n",
       "\n",
       "    .dataframe tbody tr th {\n",
       "        vertical-align: top;\n",
       "    }\n",
       "</style>\n",
       "<table border=\"1\" class=\"dataframe\">\n",
       "  <thead>\n",
       "    <tr style=\"text-align: right;\">\n",
       "      <th></th>\n",
       "      <th>0</th>\n",
       "      <th>1</th>\n",
       "      <th>2</th>\n",
       "      <th>3</th>\n",
       "      <th>4</th>\n",
       "      <th>5</th>\n",
       "      <th>6</th>\n",
       "      <th>7</th>\n",
       "      <th>8</th>\n",
       "      <th>9</th>\n",
       "      <th>PNL</th>\n",
       "    </tr>\n",
       "    <tr>\n",
       "      <th>date</th>\n",
       "      <th></th>\n",
       "      <th></th>\n",
       "      <th></th>\n",
       "      <th></th>\n",
       "      <th></th>\n",
       "      <th></th>\n",
       "      <th></th>\n",
       "      <th></th>\n",
       "      <th></th>\n",
       "      <th></th>\n",
       "      <th></th>\n",
       "    </tr>\n",
       "  </thead>\n",
       "  <tbody>\n",
       "    <tr>\n",
       "      <th>2017-07-03 00:02:20</th>\n",
       "      <td>1.14163</td>\n",
       "      <td>1.14164</td>\n",
       "      <td>1.14164</td>\n",
       "      <td>1.14164</td>\n",
       "      <td>1.14164</td>\n",
       "      <td>1.14163</td>\n",
       "      <td>1.14156</td>\n",
       "      <td>1.14164</td>\n",
       "      <td>1.14164</td>\n",
       "      <td>1.14164</td>\n",
       "      <td>-0.00008</td>\n",
       "    </tr>\n",
       "    <tr>\n",
       "      <th>2017-07-03 00:02:30</th>\n",
       "      <td>1.14164</td>\n",
       "      <td>1.14164</td>\n",
       "      <td>1.14164</td>\n",
       "      <td>1.14164</td>\n",
       "      <td>1.14163</td>\n",
       "      <td>1.14156</td>\n",
       "      <td>1.14164</td>\n",
       "      <td>1.14164</td>\n",
       "      <td>1.14164</td>\n",
       "      <td>1.14156</td>\n",
       "      <td>0.00008</td>\n",
       "    </tr>\n",
       "    <tr>\n",
       "      <th>2017-07-03 00:02:40</th>\n",
       "      <td>1.14164</td>\n",
       "      <td>1.14164</td>\n",
       "      <td>1.14164</td>\n",
       "      <td>1.14163</td>\n",
       "      <td>1.14156</td>\n",
       "      <td>1.14164</td>\n",
       "      <td>1.14164</td>\n",
       "      <td>1.14164</td>\n",
       "      <td>1.14156</td>\n",
       "      <td>1.14164</td>\n",
       "      <td>-0.00001</td>\n",
       "    </tr>\n",
       "    <tr>\n",
       "      <th>2017-07-03 00:02:50</th>\n",
       "      <td>1.14164</td>\n",
       "      <td>1.14164</td>\n",
       "      <td>1.14163</td>\n",
       "      <td>1.14156</td>\n",
       "      <td>1.14164</td>\n",
       "      <td>1.14164</td>\n",
       "      <td>1.14164</td>\n",
       "      <td>1.14156</td>\n",
       "      <td>1.14164</td>\n",
       "      <td>1.14163</td>\n",
       "      <td>-0.00020</td>\n",
       "    </tr>\n",
       "    <tr>\n",
       "      <th>2017-07-03 00:03:10</th>\n",
       "      <td>1.14164</td>\n",
       "      <td>1.14163</td>\n",
       "      <td>1.14156</td>\n",
       "      <td>1.14164</td>\n",
       "      <td>1.14164</td>\n",
       "      <td>1.14164</td>\n",
       "      <td>1.14156</td>\n",
       "      <td>1.14164</td>\n",
       "      <td>1.14163</td>\n",
       "      <td>1.14143</td>\n",
       "      <td>0.00020</td>\n",
       "    </tr>\n",
       "  </tbody>\n",
       "</table>\n",
       "</div>"
      ],
      "text/plain": [
       "                           0        1        2        3        4        5  \\\n",
       "date                                                                        \n",
       "2017-07-03 00:02:20  1.14163  1.14164  1.14164  1.14164  1.14164  1.14163   \n",
       "2017-07-03 00:02:30  1.14164  1.14164  1.14164  1.14164  1.14163  1.14156   \n",
       "2017-07-03 00:02:40  1.14164  1.14164  1.14164  1.14163  1.14156  1.14164   \n",
       "2017-07-03 00:02:50  1.14164  1.14164  1.14163  1.14156  1.14164  1.14164   \n",
       "2017-07-03 00:03:10  1.14164  1.14163  1.14156  1.14164  1.14164  1.14164   \n",
       "\n",
       "                           6        7        8        9      PNL  \n",
       "date                                                              \n",
       "2017-07-03 00:02:20  1.14156  1.14164  1.14164  1.14164 -0.00008  \n",
       "2017-07-03 00:02:30  1.14164  1.14164  1.14164  1.14156  0.00008  \n",
       "2017-07-03 00:02:40  1.14164  1.14164  1.14156  1.14164 -0.00001  \n",
       "2017-07-03 00:02:50  1.14164  1.14156  1.14164  1.14163 -0.00020  \n",
       "2017-07-03 00:03:10  1.14156  1.14164  1.14163  1.14143  0.00020  "
      ]
     },
     "execution_count": 34,
     "metadata": {},
     "output_type": "execute_result"
    }
   ],
   "source": [
    "X.head()"
   ]
  },
  {
   "cell_type": "markdown",
   "metadata": {},
   "source": [
    "##### Probando modificando la ventana\n",
    "Añadiendo datos a la ventana, como el min de los datos, el max, la media..."
   ]
  },
  {
   "cell_type": "code",
   "execution_count": 50,
   "metadata": {
    "collapsed": true
   },
   "outputs": [],
   "source": [
    "def data_processing(data, PNL_column, n_min=True,n_max=True,n_mean=True,n_std=True):\n",
    "    \"\"\"\n",
    "    data: Dataframe\n",
    "    PNL_column: columna a omitir para los cálculos\n",
    "    n_min: columna de los números menores de cada fila\n",
    "    n_max: columna de los números mayores de cada fila\n",
    "    n_mean: columna de las medias de cada fila\n",
    "    n_std: columna de desviación estándar de cada fila\n",
    "    \n",
    "    \"\"\"\n",
    "    assert (PNL_column) in data, \"Error, column dataframe\"\n",
    "    #assert 'min' in data, \"Error, column 'min' already in dataframe\"\n",
    "    #assert 'max' in data, \"Error, column 'max' already in dataframe\"\n",
    "    #assert 'mean' in data, \"Error, column 'mean' already in dataframe\"\n",
    "    #assert 'std' in data, \"Error, column 'std' already in dataframe\"\n",
    "    c_min, c_max, c_mean, c_std= [], [], [], []\n",
    "    c_PNL = data[PNL_column]\n",
    "    data = data.drop(PNL_column,axis=1)\n",
    "    \n",
    "    for index in range(len(data)):\n",
    "        c_min.append(min(data.iloc[index]))\n",
    "        c_max.append(max(data.iloc[index]))\n",
    "        c_mean.append(np.mean(data.iloc[index]))\n",
    "        c_std.append(np.std(data.iloc[index]))\n",
    "    \n",
    "    if n_min: data.insert(loc=data.shape[1],column='min',value=c_min)\n",
    "    if n_max: data.insert(loc=data.shape[1],column='max',value=c_max)\n",
    "    if n_mean: data.insert(loc=data.shape[1],column='mean',value=c_mean)\n",
    "    if n_std: data.insert(loc=data.shape[1],column='std',value=c_std)\n",
    "    data.insert(loc=data.shape[1],value=c_PNL,column=PNL_column)\n",
    "    return data"
   ]
  },
  {
   "cell_type": "code",
   "execution_count": 51,
   "metadata": {},
   "outputs": [
    {
     "data": {
      "text/html": [
       "<div>\n",
       "<style>\n",
       "    .dataframe thead tr:only-child th {\n",
       "        text-align: right;\n",
       "    }\n",
       "\n",
       "    .dataframe thead th {\n",
       "        text-align: left;\n",
       "    }\n",
       "\n",
       "    .dataframe tbody tr th {\n",
       "        vertical-align: top;\n",
       "    }\n",
       "</style>\n",
       "<table border=\"1\" class=\"dataframe\">\n",
       "  <thead>\n",
       "    <tr style=\"text-align: right;\">\n",
       "      <th></th>\n",
       "      <th>0</th>\n",
       "      <th>1</th>\n",
       "      <th>2</th>\n",
       "      <th>3</th>\n",
       "      <th>4</th>\n",
       "      <th>5</th>\n",
       "      <th>6</th>\n",
       "      <th>7</th>\n",
       "      <th>8</th>\n",
       "      <th>9</th>\n",
       "      <th>PNL</th>\n",
       "    </tr>\n",
       "    <tr>\n",
       "      <th>date</th>\n",
       "      <th></th>\n",
       "      <th></th>\n",
       "      <th></th>\n",
       "      <th></th>\n",
       "      <th></th>\n",
       "      <th></th>\n",
       "      <th></th>\n",
       "      <th></th>\n",
       "      <th></th>\n",
       "      <th></th>\n",
       "      <th></th>\n",
       "    </tr>\n",
       "  </thead>\n",
       "  <tbody>\n",
       "    <tr>\n",
       "      <th>2017-07-03 00:02:10</th>\n",
       "      <td>1.141614</td>\n",
       "      <td>1.141625</td>\n",
       "      <td>1.141626</td>\n",
       "      <td>1.141640</td>\n",
       "      <td>1.141640</td>\n",
       "      <td>1.141625</td>\n",
       "      <td>1.141630</td>\n",
       "      <td>1.141545</td>\n",
       "      <td>1.141627</td>\n",
       "      <td>1.14164</td>\n",
       "      <td>-0.000040</td>\n",
       "    </tr>\n",
       "    <tr>\n",
       "      <th>2017-07-03 00:02:30</th>\n",
       "      <td>1.141626</td>\n",
       "      <td>1.141640</td>\n",
       "      <td>1.141640</td>\n",
       "      <td>1.141625</td>\n",
       "      <td>1.141630</td>\n",
       "      <td>1.141545</td>\n",
       "      <td>1.141627</td>\n",
       "      <td>1.141640</td>\n",
       "      <td>1.141600</td>\n",
       "      <td>1.14160</td>\n",
       "      <td>0.000040</td>\n",
       "    </tr>\n",
       "    <tr>\n",
       "      <th>2017-07-03 00:02:40</th>\n",
       "      <td>1.141640</td>\n",
       "      <td>1.141640</td>\n",
       "      <td>1.141625</td>\n",
       "      <td>1.141630</td>\n",
       "      <td>1.141545</td>\n",
       "      <td>1.141627</td>\n",
       "      <td>1.141640</td>\n",
       "      <td>1.141600</td>\n",
       "      <td>1.141600</td>\n",
       "      <td>1.14164</td>\n",
       "      <td>-0.000010</td>\n",
       "    </tr>\n",
       "    <tr>\n",
       "      <th>2017-07-03 00:02:50</th>\n",
       "      <td>1.141640</td>\n",
       "      <td>1.141625</td>\n",
       "      <td>1.141630</td>\n",
       "      <td>1.141545</td>\n",
       "      <td>1.141627</td>\n",
       "      <td>1.141640</td>\n",
       "      <td>1.141600</td>\n",
       "      <td>1.141600</td>\n",
       "      <td>1.141640</td>\n",
       "      <td>1.14163</td>\n",
       "      <td>-0.000200</td>\n",
       "    </tr>\n",
       "    <tr>\n",
       "      <th>2017-07-03 00:03:10</th>\n",
       "      <td>1.141625</td>\n",
       "      <td>1.141630</td>\n",
       "      <td>1.141545</td>\n",
       "      <td>1.141627</td>\n",
       "      <td>1.141640</td>\n",
       "      <td>1.141600</td>\n",
       "      <td>1.141600</td>\n",
       "      <td>1.141640</td>\n",
       "      <td>1.141630</td>\n",
       "      <td>1.14143</td>\n",
       "      <td>0.000197</td>\n",
       "    </tr>\n",
       "  </tbody>\n",
       "</table>\n",
       "</div>"
      ],
      "text/plain": [
       "                            0         1         2         3         4  \\\n",
       "date                                                                    \n",
       "2017-07-03 00:02:10  1.141614  1.141625  1.141626  1.141640  1.141640   \n",
       "2017-07-03 00:02:30  1.141626  1.141640  1.141640  1.141625  1.141630   \n",
       "2017-07-03 00:02:40  1.141640  1.141640  1.141625  1.141630  1.141545   \n",
       "2017-07-03 00:02:50  1.141640  1.141625  1.141630  1.141545  1.141627   \n",
       "2017-07-03 00:03:10  1.141625  1.141630  1.141545  1.141627  1.141640   \n",
       "\n",
       "                            5         6         7         8        9       PNL  \n",
       "date                                                                            \n",
       "2017-07-03 00:02:10  1.141625  1.141630  1.141545  1.141627  1.14164 -0.000040  \n",
       "2017-07-03 00:02:30  1.141545  1.141627  1.141640  1.141600  1.14160  0.000040  \n",
       "2017-07-03 00:02:40  1.141627  1.141640  1.141600  1.141600  1.14164 -0.000010  \n",
       "2017-07-03 00:02:50  1.141640  1.141600  1.141600  1.141640  1.14163 -0.000200  \n",
       "2017-07-03 00:03:10  1.141600  1.141600  1.141640  1.141630  1.14143  0.000197  "
      ]
     },
     "execution_count": 51,
     "metadata": {},
     "output_type": "execute_result"
    }
   ],
   "source": [
    "X.head()"
   ]
  },
  {
   "cell_type": "code",
   "execution_count": 52,
   "metadata": {
    "collapsed": true
   },
   "outputs": [],
   "source": [
    "X = data_processing(data=X,PNL_column='PNL',n_std=False)"
   ]
  },
  {
   "cell_type": "code",
   "execution_count": 53,
   "metadata": {},
   "outputs": [
    {
     "data": {
      "text/html": [
       "<div>\n",
       "<style>\n",
       "    .dataframe thead tr:only-child th {\n",
       "        text-align: right;\n",
       "    }\n",
       "\n",
       "    .dataframe thead th {\n",
       "        text-align: left;\n",
       "    }\n",
       "\n",
       "    .dataframe tbody tr th {\n",
       "        vertical-align: top;\n",
       "    }\n",
       "</style>\n",
       "<table border=\"1\" class=\"dataframe\">\n",
       "  <thead>\n",
       "    <tr style=\"text-align: right;\">\n",
       "      <th></th>\n",
       "      <th>0</th>\n",
       "      <th>1</th>\n",
       "      <th>2</th>\n",
       "      <th>3</th>\n",
       "      <th>4</th>\n",
       "      <th>5</th>\n",
       "      <th>6</th>\n",
       "      <th>7</th>\n",
       "      <th>8</th>\n",
       "      <th>9</th>\n",
       "      <th>min</th>\n",
       "      <th>max</th>\n",
       "      <th>mean</th>\n",
       "      <th>PNL</th>\n",
       "    </tr>\n",
       "    <tr>\n",
       "      <th>date</th>\n",
       "      <th></th>\n",
       "      <th></th>\n",
       "      <th></th>\n",
       "      <th></th>\n",
       "      <th></th>\n",
       "      <th></th>\n",
       "      <th></th>\n",
       "      <th></th>\n",
       "      <th></th>\n",
       "      <th></th>\n",
       "      <th></th>\n",
       "      <th></th>\n",
       "      <th></th>\n",
       "      <th></th>\n",
       "    </tr>\n",
       "  </thead>\n",
       "  <tbody>\n",
       "    <tr>\n",
       "      <th>2017-07-03 00:02:10</th>\n",
       "      <td>1.141614</td>\n",
       "      <td>1.141625</td>\n",
       "      <td>1.141626</td>\n",
       "      <td>1.141640</td>\n",
       "      <td>1.141640</td>\n",
       "      <td>1.141625</td>\n",
       "      <td>1.141630</td>\n",
       "      <td>1.141545</td>\n",
       "      <td>1.141627</td>\n",
       "      <td>1.14164</td>\n",
       "      <td>1.141545</td>\n",
       "      <td>1.14164</td>\n",
       "      <td>1.141621</td>\n",
       "      <td>-0.000040</td>\n",
       "    </tr>\n",
       "    <tr>\n",
       "      <th>2017-07-03 00:02:30</th>\n",
       "      <td>1.141626</td>\n",
       "      <td>1.141640</td>\n",
       "      <td>1.141640</td>\n",
       "      <td>1.141625</td>\n",
       "      <td>1.141630</td>\n",
       "      <td>1.141545</td>\n",
       "      <td>1.141627</td>\n",
       "      <td>1.141640</td>\n",
       "      <td>1.141600</td>\n",
       "      <td>1.14160</td>\n",
       "      <td>1.141545</td>\n",
       "      <td>1.14164</td>\n",
       "      <td>1.141617</td>\n",
       "      <td>0.000040</td>\n",
       "    </tr>\n",
       "    <tr>\n",
       "      <th>2017-07-03 00:02:40</th>\n",
       "      <td>1.141640</td>\n",
       "      <td>1.141640</td>\n",
       "      <td>1.141625</td>\n",
       "      <td>1.141630</td>\n",
       "      <td>1.141545</td>\n",
       "      <td>1.141627</td>\n",
       "      <td>1.141640</td>\n",
       "      <td>1.141600</td>\n",
       "      <td>1.141600</td>\n",
       "      <td>1.14164</td>\n",
       "      <td>1.141545</td>\n",
       "      <td>1.14164</td>\n",
       "      <td>1.141619</td>\n",
       "      <td>-0.000010</td>\n",
       "    </tr>\n",
       "    <tr>\n",
       "      <th>2017-07-03 00:02:50</th>\n",
       "      <td>1.141640</td>\n",
       "      <td>1.141625</td>\n",
       "      <td>1.141630</td>\n",
       "      <td>1.141545</td>\n",
       "      <td>1.141627</td>\n",
       "      <td>1.141640</td>\n",
       "      <td>1.141600</td>\n",
       "      <td>1.141600</td>\n",
       "      <td>1.141640</td>\n",
       "      <td>1.14163</td>\n",
       "      <td>1.141545</td>\n",
       "      <td>1.14164</td>\n",
       "      <td>1.141618</td>\n",
       "      <td>-0.000200</td>\n",
       "    </tr>\n",
       "    <tr>\n",
       "      <th>2017-07-03 00:03:10</th>\n",
       "      <td>1.141625</td>\n",
       "      <td>1.141630</td>\n",
       "      <td>1.141545</td>\n",
       "      <td>1.141627</td>\n",
       "      <td>1.141640</td>\n",
       "      <td>1.141600</td>\n",
       "      <td>1.141600</td>\n",
       "      <td>1.141640</td>\n",
       "      <td>1.141630</td>\n",
       "      <td>1.14143</td>\n",
       "      <td>1.141430</td>\n",
       "      <td>1.14164</td>\n",
       "      <td>1.141597</td>\n",
       "      <td>0.000197</td>\n",
       "    </tr>\n",
       "  </tbody>\n",
       "</table>\n",
       "</div>"
      ],
      "text/plain": [
       "                            0         1         2         3         4  \\\n",
       "date                                                                    \n",
       "2017-07-03 00:02:10  1.141614  1.141625  1.141626  1.141640  1.141640   \n",
       "2017-07-03 00:02:30  1.141626  1.141640  1.141640  1.141625  1.141630   \n",
       "2017-07-03 00:02:40  1.141640  1.141640  1.141625  1.141630  1.141545   \n",
       "2017-07-03 00:02:50  1.141640  1.141625  1.141630  1.141545  1.141627   \n",
       "2017-07-03 00:03:10  1.141625  1.141630  1.141545  1.141627  1.141640   \n",
       "\n",
       "                            5         6         7         8        9  \\\n",
       "date                                                                   \n",
       "2017-07-03 00:02:10  1.141625  1.141630  1.141545  1.141627  1.14164   \n",
       "2017-07-03 00:02:30  1.141545  1.141627  1.141640  1.141600  1.14160   \n",
       "2017-07-03 00:02:40  1.141627  1.141640  1.141600  1.141600  1.14164   \n",
       "2017-07-03 00:02:50  1.141640  1.141600  1.141600  1.141640  1.14163   \n",
       "2017-07-03 00:03:10  1.141600  1.141600  1.141640  1.141630  1.14143   \n",
       "\n",
       "                          min      max      mean       PNL  \n",
       "date                                                        \n",
       "2017-07-03 00:02:10  1.141545  1.14164  1.141621 -0.000040  \n",
       "2017-07-03 00:02:30  1.141545  1.14164  1.141617  0.000040  \n",
       "2017-07-03 00:02:40  1.141545  1.14164  1.141619 -0.000010  \n",
       "2017-07-03 00:02:50  1.141545  1.14164  1.141618 -0.000200  \n",
       "2017-07-03 00:03:10  1.141430  1.14164  1.141597  0.000197  "
      ]
     },
     "execution_count": 53,
     "metadata": {},
     "output_type": "execute_result"
    }
   ],
   "source": [
    "X.head()"
   ]
  },
  {
   "cell_type": "code",
   "execution_count": 54,
   "metadata": {},
   "outputs": [
    {
     "name": "stdout",
     "output_type": "stream",
     "text": [
      "average:  0.00224362176164\n",
      "PNL [ 0.00578224 -0.00535676  0.00541746 -0.00569097  0.00829994  0.00596492\n",
      "  0.00613921  0.00623037  0.00311773 -0.01051242 -0.00194793  0.00640207\n",
      " -0.00056357  0.00889243  0.00283303  0.00228074  0.00085309]\n"
     ]
    },
    {
     "data": {
      "image/png": "[encoded data removed]",
      "text/plain": [
       "<matplotlib.figure.Figure at 0x7f3baf04ae48>"
      ]
     },
     "metadata": {},
     "output_type": "display_data"
    }
   ],
   "source": [
    "from sklearn.tree import DecisionTreeClassifier\n",
    "\n",
    "#est = PNLEstimatorWrapper(DecisionTreeClassifier(random_state=0), PNL_column='PNL')\n",
    "est = PNLEstimatorWrapper(DecisionTreeClassifier(), PNL_column='PNL')\n",
    "result = cross_val_score(est, X, y, cv=v_split(X,4,1,1), scoring=PNL_score)\n",
    "print ('average: ',np.mean(result))\n",
    "print ('PNL', result)\n",
    "\n",
    "plt.figure(figsize=(16,5))\n",
    "plt.title('Profit and Loss with DecisionTreeClassifier', size=15)\n",
    "plt.plot(range(len(result)), result, label='PNL')\n",
    "plt.plot(range(len(result)), np.zeros(len(result)),color='red', alpha=0.6, label='PNL = 0', linestyle='--')\n",
    "plt.plot(range(len(result)), np.ones(len(result))*np.mean(result), color='green', alpha=0.6, label='PNL mean')\n",
    "plt.xlabel('test day')\n",
    "plt.xticks(range(len(result)),dates[n_bdtrain:], size=10, rotation=25)\n",
    "plt.legend();"
   ]
  },
  {
   "cell_type": "code",
   "execution_count": 55,
   "metadata": {},
   "outputs": [
    {
     "name": "stdout",
     "output_type": "stream",
     "text": [
      "average:  0.0012328030179\n",
      "PNL [-0.0013073  -0.00182861 -0.00496696  0.00786889  0.00198472  0.00208024\n",
      " -0.00185872  0.00544589  0.00394089 -0.00545957 -0.00290608 -0.00021916\n",
      "  0.00217149  0.00797755  0.00521828  0.0113476  -0.00853151]\n"
     ]
    },
    {
     "data": {
      "image/png": "[encoded data removed]",
      "text/plain": [
       "<matplotlib.figure.Figure at 0x7f3baf060da0>"
      ]
     },
     "metadata": {},
     "output_type": "display_data"
    }
   ],
   "source": [
    "from sklearn.ensemble import RandomForestClassifier\n",
    "\n",
    "est = PNLEstimatorWrapper(RandomForestClassifier(n_estimators=15, n_jobs=3), PNL_column='PNL')\n",
    "result = cross_val_score(est, X, y, cv=v_split(X,4,1,1), scoring=PNL_score)\n",
    "print ('average: ',np.mean(result))\n",
    "print ('PNL', result)\n",
    "\n",
    "plt.figure(figsize=(16,5))\n",
    "plt.title('Profit and Loss with RandomForestClassifier', size=15)\n",
    "plt.plot(range(len(result)), result, label='PNL')\n",
    "plt.plot(range(len(result)), np.zeros(len(result)),color='red', alpha=0.6, label='PNL = 0', linestyle='--')\n",
    "plt.plot(range(len(result)), np.ones(len(result))*np.mean(result), color='green', alpha=0.6, label='PNL mean')\n",
    "plt.xlabel('test day')\n",
    "plt.xticks(range(len(result)),dates[n_bdtrain:], size=10, rotation=25)\n",
    "plt.legend();"
   ]
  },
  {
   "cell_type": "code",
   "execution_count": 57,
   "metadata": {},
   "outputs": [
    {
     "name": "stdout",
     "output_type": "stream",
     "text": [
      "average:  0.00445925698041\n",
      "PNL [  3.26559331e-03   4.35282994e-03   1.40259768e-03   1.67640460e-03\n",
      "   1.01231940e-02   3.97380829e-03  -2.28172498e-03   8.90237055e-03\n",
      "   4.85110262e-03  -1.21810511e-03  -2.28550209e-03   1.25148485e-02\n",
      "   8.75202719e-03   1.00902885e-02   5.68453400e-03   6.07757636e-03\n",
      "  -7.44747669e-05]\n"
     ]
    }
   ],
   "source": [
    "from sklearn.ensemble import RandomForestClassifier\n",
    "\n",
    "est = PNLEstimatorWrapper(RandomForestClassifier(n_estimators=15, n_jobs=3), PNL_column='PNL')\n",
    "result = cross_val_score(est, X.drop('mean',axis=1), y, cv=v_split(X,4,1,1), scoring=PNL_score)\n",
    "print ('average: ',np.mean(result))\n",
    "print ('PNL', result)"
   ]
  },
  {
   "cell_type": "code",
   "execution_count": 58,
   "metadata": {},
   "outputs": [
    {
     "name": "stdout",
     "output_type": "stream",
     "text": [
      "average:  0.0041858789148\n",
      "PNL [ 0.01205575  0.00200904 -0.00132917 -0.00483946  0.00689313  0.01335276\n",
      "  0.00457953  0.0047679   0.00804108 -0.00605827 -0.00085303  0.00590993\n",
      "  0.00703418  0.01559532  0.00559758  0.00274726 -0.00434357]\n"
     ]
    }
   ],
   "source": [
    "from sklearn.ensemble import RandomForestClassifier\n",
    "\n",
    "est = PNLEstimatorWrapper(RandomForestClassifier(n_estimators=15, n_jobs=3), PNL_column='PNL')\n",
    "result = cross_val_score(est, X.drop('max',axis=1), y, cv=v_split(X,4,1,1), scoring=PNL_score)\n",
    "print ('average: ',np.mean(result))\n",
    "print ('PNL', result)"
   ]
  },
  {
   "cell_type": "code",
   "execution_count": 59,
   "metadata": {},
   "outputs": [
    {
     "name": "stdout",
     "output_type": "stream",
     "text": [
      "average:  0.00386647477625\n",
      "PNL [ 0.00921686  0.00555191 -0.00153464 -0.00158789  0.00228499  0.00415142\n",
      "  0.00392829  0.00670066  0.01522889 -0.00501378 -0.00123544  0.00714911\n",
      "  0.00627896  0.00372862  0.00359522  0.00941964 -0.00213275]\n"
     ]
    }
   ],
   "source": [
    "from sklearn.ensemble import RandomForestClassifier\n",
    "\n",
    "est = PNLEstimatorWrapper(RandomForestClassifier(n_estimators=15, n_jobs=3), PNL_column='PNL')\n",
    "result = cross_val_score(est, X.drop('min',axis=1), y, cv=v_split(X,4,1,1), scoring=PNL_score)\n",
    "print ('average: ',np.mean(result))\n",
    "print ('PNL', result)"
   ]
  },
  {
   "cell_type": "code",
   "execution_count": null,
   "metadata": {
    "collapsed": true
   },
   "outputs": [],
   "source": []
  },
  {
   "cell_type": "markdown",
   "metadata": {},
   "source": [
    "commission of FxPro https://www.fxpro.co.uk/trading/calculators/ctrader-commission#\n",
    "\n",
    "commission = invest_size * 0,00009USD * (EUR/USD)current"
   ]
  },
  {
   "cell_type": "code",
   "execution_count": 69,
   "metadata": {},
   "outputs": [
    {
     "data": {
      "text/html": [
       "<div>\n",
       "<style>\n",
       "    .dataframe thead tr:only-child th {\n",
       "        text-align: right;\n",
       "    }\n",
       "\n",
       "    .dataframe thead th {\n",
       "        text-align: left;\n",
       "    }\n",
       "\n",
       "    .dataframe tbody tr th {\n",
       "        vertical-align: top;\n",
       "    }\n",
       "</style>\n",
       "<table border=\"1\" class=\"dataframe\">\n",
       "  <thead>\n",
       "    <tr style=\"text-align: right;\">\n",
       "      <th></th>\n",
       "      <th>bid</th>\n",
       "      <th>ask</th>\n",
       "    </tr>\n",
       "    <tr>\n",
       "      <th>date</th>\n",
       "      <th></th>\n",
       "      <th></th>\n",
       "    </tr>\n",
       "  </thead>\n",
       "  <tbody>\n",
       "    <tr>\n",
       "      <th>2017-07-03 00:01:00</th>\n",
       "      <td>1.141640</td>\n",
       "      <td>1.14208</td>\n",
       "    </tr>\n",
       "    <tr>\n",
       "      <th>2017-07-03 00:01:10</th>\n",
       "      <td>1.141625</td>\n",
       "      <td>1.14206</td>\n",
       "    </tr>\n",
       "  </tbody>\n",
       "</table>\n",
       "</div>"
      ],
      "text/plain": [
       "                          bid      ask\n",
       "date                                  \n",
       "2017-07-03 00:01:00  1.141640  1.14208\n",
       "2017-07-03 00:01:10  1.141625  1.14206"
      ]
     },
     "execution_count": 69,
     "metadata": {},
     "output_type": "execute_result"
    }
   ],
   "source": [
    "data_set.iloc[4:6]"
   ]
  },
  {
   "cell_type": "code",
   "execution_count": 74,
   "metadata": {
    "collapsed": true
   },
   "outputs": [],
   "source": [
    "bid_b = 1.141640\n",
    "ask_b = 1.14208\n",
    "spreed_b = ask_b-bid_b\n",
    "\n",
    "bid_a = 1.141625\n",
    "ask_a = 1.14206"
   ]
  },
  {
   "cell_type": "code",
   "execution_count": 78,
   "metadata": {},
   "outputs": [
    {
     "data": {
      "text/plain": [
       "0.00043999999999999595"
      ]
     },
     "execution_count": 78,
     "metadata": {},
     "output_type": "execute_result"
    }
   ],
   "source": [
    "spreed_b"
   ]
  },
  {
   "cell_type": "code",
   "execution_count": 77,
   "metadata": {},
   "outputs": [
    {
     "data": {
      "text/plain": [
       "0.015000000000098268"
      ]
     },
     "execution_count": 77,
     "metadata": {},
     "output_type": "execute_result"
    }
   ],
   "source": [
    "1000*abs(bid_b-bid_a) "
   ]
  },
  {
   "cell_type": "code",
   "execution_count": null,
   "metadata": {
    "collapsed": true
   },
   "outputs": [],
   "source": []
  },
  {
   "cell_type": "code",
   "execution_count": null,
   "metadata": {
    "collapsed": true
   },
   "outputs": [],
   "source": []
  },
  {
   "cell_type": "markdown",
   "metadata": {},
   "source": [
    "#### Probando RNN"
   ]
  },
  {
   "cell_type": "code",
   "execution_count": 120,
   "metadata": {
    "collapsed": true
   },
   "outputs": [],
   "source": [
    "from keras.models import Sequential\n",
    "from keras.layers import Embedding\n",
    "from keras.layers.core import Dense, Activation, Dropout\n",
    "from keras.layers.recurrent import LSTM"
   ]
  },
  {
   "cell_type": "code",
   "execution_count": 121,
   "metadata": {},
   "outputs": [
    {
     "name": "stdout",
     "output_type": "stream",
     "text": [
      "Estructura de los datos\n",
      "X:  (174945, 10, 1)\n",
      "y:  (174945, 1)\n",
      "PNL:  (174945, 1)\n"
     ]
    }
   ],
   "source": [
    "X_3d = (np.array(X)).reshape(X.shape[0],X.shape[1],1)[:,:-1]\n",
    "PNL = X_3d[:,-1]\n",
    "y_3d = bt.reshape(bt.shape[0],1)\n",
    "\n",
    "print('Estructura de los datos')\n",
    "print('X: ',X_3d.shape)\n",
    "print('y: ',y_3d.shape)\n",
    "print(\"PNL: \",PNL.shape)"
   ]
  },
  {
   "cell_type": "markdown",
   "metadata": {},
   "source": [
    "#### probar utilizando clasificación.."
   ]
  },
  {
   "cell_type": "code",
   "execution_count": 122,
   "metadata": {
    "collapsed": true
   },
   "outputs": [],
   "source": [
    "model = Sequential()\n",
    "model.add(Dense(1, input_shape=(10,1)))\n",
    "model.add(LSTM(units=128,return_sequences=True, activation=\"sigmoid\"))\n",
    "model.add(LSTM(units=64, activation=\"sigmoid\"))\n",
    "model.add(Dropout(0.1))\n",
    "model.add(Dense(1))\n",
    "model.compile(loss='binary_crossentropy', optimizer='rmsprop', metrics=[\"accuracy\"])"
   ]
  },
  {
   "cell_type": "code",
   "execution_count": 123,
   "metadata": {},
   "outputs": [
    {
     "data": {
      "text/plain": [
       "array([ 1.1416    ,  1.14164   ,  1.14163   , ...,  1.18410367,\n",
       "        1.18407191,  1.1841    ])"
      ]
     },
     "execution_count": 123,
     "metadata": {},
     "output_type": "execute_result"
    }
   ],
   "source": [
    "y_reg"
   ]
  },
  {
   "cell_type": "code",
   "execution_count": 126,
   "metadata": {},
   "outputs": [
    {
     "name": "stdout",
     "output_type": "stream",
     "text": [
      "Epoch 1/5\n",
      "130000/130000 [==============================] - 134s - loss: -2.1644 - acc: 0.0000e+00   \n",
      "Epoch 2/5\n",
      "130000/130000 [==============================] - 133s - loss: -2.3213 - acc: 0.0000e+00   \n",
      "Epoch 3/5\n",
      "130000/130000 [==============================] - 133s - loss: -2.3213 - acc: 0.0000e+00   \n",
      "Epoch 4/5\n",
      "130000/130000 [==============================] - 133s - loss: -2.3213 - acc: 0.0000e+00    ETA: 0s - loss: -2.3213 - acc: 0.0000e+\n",
      "Epoch 5/5\n",
      "130000/130000 [==============================] - 134s - loss: -2.3213 - acc: 0.0000e+00    ETA: 0s - los\n"
     ]
    },
    {
     "data": {
      "text/plain": [
       "<keras.callbacks.History at 0x7f7dbf5639b0>"
      ]
     },
     "execution_count": 126,
     "metadata": {},
     "output_type": "execute_result"
    }
   ],
   "source": [
    "model.fit(X_3d[:130000,:,:], y_reg.reshape(y_reg.shape[0],1)[:130000], epochs=5)\n",
    "#model.fit(X_3d[:130000,:,:], y_3d[:130000,:], epochs=1)"
   ]
  },
  {
   "cell_type": "code",
   "execution_count": 127,
   "metadata": {},
   "outputs": [
    {
     "name": "stdout",
     "output_type": "stream",
     "text": [
      "129952/130000 [============================>.] - ETA: 0s"
     ]
    }
   ],
   "source": [
    "score = model.evaluate(X_3d[:130000],y_3d[:130000])"
   ]
  },
  {
   "cell_type": "code",
   "execution_count": 49,
   "metadata": {},
   "outputs": [
    {
     "name": "stdout",
     "output_type": "stream",
     "text": [
      "44416/44945 [============================>.] - ETA: 0s"
     ]
    }
   ],
   "source": [
    "r = model.predict_classes(X_3d[130000:])"
   ]
  },
  {
   "cell_type": "code",
   "execution_count": null,
   "metadata": {
    "collapsed": true
   },
   "outputs": [],
   "source": []
  },
  {
   "cell_type": "code",
   "execution_count": null,
   "metadata": {
    "collapsed": true
   },
   "outputs": [],
   "source": []
  },
  {
   "cell_type": "code",
   "execution_count": null,
   "metadata": {
    "collapsed": true
   },
   "outputs": [],
   "source": []
  },
  {
   "cell_type": "code",
   "execution_count": null,
   "metadata": {
    "collapsed": true
   },
   "outputs": [],
   "source": []
  }
 ],
 "metadata": {
  "kernelspec": {
   "display_name": "Python 3",
   "language": "python",
   "name": "python3"
  },
  "language_info": {
   "codemirror_mode": {
    "name": "ipython",
    "version": 3
   },
   "file_extension": ".py",
   "mimetype": "text/x-python",
   "name": "python",
   "nbconvert_exporter": "python",
   "pygments_lexer": "ipython3",
   "version": "3.6.2"
  }
 },
 "nbformat": 4,
 "nbformat_minor": 2
}
